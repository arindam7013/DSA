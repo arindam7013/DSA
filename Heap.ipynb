{
 "cells": [
  {
   "cell_type": "code",
   "execution_count": 106,
   "id": "c3285f15",
   "metadata": {},
   "outputs": [],
   "source": [
    "import heapq"
   ]
  },
  {
   "cell_type": "code",
   "execution_count": 107,
   "id": "27534ef1",
   "metadata": {},
   "outputs": [],
   "source": [
    "li = [3,7,6,4,8]"
   ]
  },
  {
   "cell_type": "code",
   "execution_count": 108,
   "id": "32fe65d9",
   "metadata": {},
   "outputs": [],
   "source": [
    "heapq.heapify(li)"
   ]
  },
  {
   "cell_type": "code",
   "execution_count": 109,
   "id": "e8b8116c",
   "metadata": {},
   "outputs": [
    {
     "data": {
      "text/plain": [
       "[3, 4, 6, 7, 8]"
      ]
     },
     "execution_count": 109,
     "metadata": {},
     "output_type": "execute_result"
    }
   ],
   "source": [
    "li"
   ]
  },
  {
   "cell_type": "code",
   "execution_count": 42,
   "id": "28a4b693",
   "metadata": {},
   "outputs": [],
   "source": [
    "heapq.heapify(li)\n",
    "heapq.heappush(li, 9li\n",
    "heapq.heappop(li)\n",
    "li1 = [3,4,6,7,8,1]\n",
    "li2 = [9,4,6,7,8,1]\n",
    "print(heapq.heappushpop(li1, 9))\n",
    "print(heapq.heapreplace(li2, 2))\n",
    "li1\n",
    "li2"
   ]
  },
  {
   "cell_type": "code",
   "execution_count": null,
   "id": "6c564403",
   "metadata": {},
   "outputs": [],
   "source": []
  },
  {
   "cell_type": "code",
   "execution_count": 46,
   "id": "f1f7fc53",
   "metadata": {},
   "outputs": [],
   "source": [
    "arr = [3,7,6,4,8]"
   ]
  },
  {
   "cell_type": "code",
   "execution_count": null,
   "id": "8c721995",
   "metadata": {},
   "outputs": [],
   "source": []
  },
  {
   "cell_type": "code",
   "execution_count": 116,
   "id": "0b712c53",
   "metadata": {},
   "outputs": [],
   "source": [
    "class MinHeap:\n",
    "    def __init__(self, size):\n",
    "        self.data = [0]*size\n",
    "        self.size = size\n",
    "        self.msize = 0    #msize is number of elements in our heap\n",
    "        \n",
    "        \n",
    "    def getIndex(self, index):\n",
    "        return (index-1)//2\n",
    "    \n",
    "    def getLeftIndex(self, index):\n",
    "        return (index*2) + 1\n",
    "    \n",
    "    def getRightIndex(self, index):\n",
    "        return (index*2) + 2\n",
    "    \n",
    "    \n",
    "    def hasParent(self, index):\n",
    "        return self.getIndex(index) >= 0\n",
    "    \n",
    "    def hasLeftChild(self, index):\n",
    "        return self.getLeftIndex(index) < self.msize\n",
    "    \n",
    "    def hasRightChild(self, index):\n",
    "        return self.getRightIndex(index) < self.msize\n",
    "    \n",
    "    \n",
    "    def getParentData(self, index):\n",
    "        return self.data[self.getIndex(index)]\n",
    "    \n",
    "    def getLeftData(self, index):\n",
    "        return self.data[self.getLeftIndex(index)]\n",
    "    \n",
    "    def getRightData(self, index):\n",
    "        return self.data[self.getRightIndex(index)]\n",
    "    \n",
    "    def isFull(self):\n",
    "        return self.msize == self.data\n",
    "    \n",
    "    def swap(self, index1, index2):\n",
    "        \n",
    "        self.data[index1], self.data[index2] = self.data[index2], self.data[index1]\n",
    "    \n",
    "   #insert in heap and interate for heapify\n",
    "    def Insert(self, key):\n",
    "        if self.isFull():\n",
    "            return \"Heap is full\"\n",
    "        \n",
    "        self.data[self.msize] = key\n",
    "        self.msize +=1\n",
    "        self.heapifyUp()\n",
    "    \n",
    "    #heapifyUp using iteration\n",
    "    def heapifyUp(self):\n",
    "        index = self.msize - 1\n",
    "        while self.hasParent and self.data[self.getIndex(index)] > self.data[index]:\n",
    "            self.swap(self.getIndex(index) , index)\n",
    "            index = self.getIndex(index)\n",
    "    \n",
    "    #############\n",
    "    \n",
    "    def Insert2(self, key):\n",
    "        if self.isFull():\n",
    "            return \"Heap is full\"\n",
    "        \n",
    "        self.data[self.msize] = key\n",
    "        self.msize +=1\n",
    "        self.heapifyUp2(self.msize - 1)\n",
    "    \n",
    "    #heapifyUP using recursion\n",
    "    \n",
    "    def heapifyUp2(self, index):\n",
    "        \n",
    "        if (self.hasParent and self.data[self.getIndex(index)] > self.data[index]):\n",
    "            self.swap(self.getIndex(index) , index)\n",
    "            self.heapifyUp2(self.getIndex(index))\n",
    "            \n",
    "            \n",
    "    def removeMin(self):\n",
    "        if self.msize == 0:\n",
    "            return 'full'\n",
    "        key = self.data[0]\n",
    "        self.data[0] = self.data[self.msize -1]\n",
    "        self.msize -=1\n",
    "        self.heapifyDown(0)\n",
    "        return key\n",
    "    \n",
    "    \n",
    "    def heapifyDown(self, index):\n",
    "        smallest = index\n",
    "        if (self.hasLeftChild(index) and self.data[smallest] > self.getLeftData(index)):\n",
    "            smallest = self.getLeftData(index)\n",
    "            \n",
    "        if (self.hasRightChild(index) and self.data[smallest] > self.getRightData(index)):\n",
    "            smallest = self.getRightData(index)\n",
    "            \n",
    "        if smallest != index:\n",
    "            self.swap(index, smallest)\n",
    "            \n",
    "        self.heapifyDown(smallest)\n",
    "            \n",
    "        \n",
    "    \n",
    "    \n",
    "a = MinHeap(5)    \n"
   ]
  },
  {
   "cell_type": "code",
   "execution_count": 111,
   "id": "0ab88d6e",
   "metadata": {},
   "outputs": [],
   "source": [
    "a.Insert2(3)\n",
    "a.Insert2(7)\n",
    "a.Insert2(6)\n",
    "a.Insert2(4)\n",
    "a.Insert2(8)\n",
    "\n",
    "\n",
    "a.getIndex(5)\n",
    "a.getLeftIndex(5)\n",
    "a.getRightIndex(5)\n",
    "a.hasParent(10)\n",
    "a.getParentData(1)\n",
    "a.getLeftData(1)\n",
    "a.getRightData(1)\n",
    "a.isFull()\n",
    "a.data"
   ]
  },
  {
   "cell_type": "code",
   "execution_count": 115,
   "id": "68c98e9d",
   "metadata": {},
   "outputs": [
    {
     "data": {
      "text/plain": [
       "[3, 4, 6, 7, 8]"
      ]
     },
     "execution_count": 115,
     "metadata": {},
     "output_type": "execute_result"
    }
   ],
   "source": [
    "a.Insert(3)\n",
    "a.Insert(7)\n",
    "a.Insert(6)\n",
    "a.Insert(4)\n",
    "a.Insert(8)\n",
    "a.data"
   ]
  },
  {
   "cell_type": "code",
   "execution_count": null,
   "id": "aa7adf55",
   "metadata": {},
   "outputs": [],
   "source": []
  },
  {
   "cell_type": "code",
   "execution_count": 117,
   "id": "b4cd9a75",
   "metadata": {},
   "outputs": [
    {
     "data": {
      "text/plain": [
       "[3, 4, 6, 7, 8]"
      ]
     },
     "execution_count": 117,
     "metadata": {},
     "output_type": "execute_result"
    }
   ],
   "source": [
    "a.Insert(3)\n",
    "a.Insert(7)\n",
    "a.Insert(6)\n",
    "a.Insert(4)\n",
    "a.Insert(8)\n",
    "a.data"
   ]
  },
  {
   "cell_type": "code",
   "execution_count": 118,
   "id": "248e3d29",
   "metadata": {},
   "outputs": [
    {
     "ename": "IndexError",
     "evalue": "list index out of range",
     "output_type": "error",
     "traceback": [
      "\u001b[1;31m---------------------------------------------------------------------------\u001b[0m",
      "\u001b[1;31mIndexError\u001b[0m                                Traceback (most recent call last)",
      "\u001b[1;32m<ipython-input-118-a2e249366245>\u001b[0m in \u001b[0;36m<module>\u001b[1;34m\u001b[0m\n\u001b[1;32m----> 1\u001b[1;33m \u001b[0ma\u001b[0m\u001b[1;33m.\u001b[0m\u001b[0mremoveMin\u001b[0m\u001b[1;33m(\u001b[0m\u001b[1;33m)\u001b[0m\u001b[1;33m\u001b[0m\u001b[1;33m\u001b[0m\u001b[0m\n\u001b[0m",
      "\u001b[1;32m<ipython-input-116-425e78b037e3>\u001b[0m in \u001b[0;36mremoveMin\u001b[1;34m(self)\u001b[0m\n\u001b[0;32m     83\u001b[0m         \u001b[0mself\u001b[0m\u001b[1;33m.\u001b[0m\u001b[0mdata\u001b[0m\u001b[1;33m[\u001b[0m\u001b[1;36m0\u001b[0m\u001b[1;33m]\u001b[0m \u001b[1;33m=\u001b[0m \u001b[0mself\u001b[0m\u001b[1;33m.\u001b[0m\u001b[0mdata\u001b[0m\u001b[1;33m[\u001b[0m\u001b[0mself\u001b[0m\u001b[1;33m.\u001b[0m\u001b[0mmsize\u001b[0m \u001b[1;33m-\u001b[0m\u001b[1;36m1\u001b[0m\u001b[1;33m]\u001b[0m\u001b[1;33m\u001b[0m\u001b[1;33m\u001b[0m\u001b[0m\n\u001b[0;32m     84\u001b[0m         \u001b[0mself\u001b[0m\u001b[1;33m.\u001b[0m\u001b[0mmsize\u001b[0m \u001b[1;33m-=\u001b[0m\u001b[1;36m1\u001b[0m\u001b[1;33m\u001b[0m\u001b[1;33m\u001b[0m\u001b[0m\n\u001b[1;32m---> 85\u001b[1;33m         \u001b[0mself\u001b[0m\u001b[1;33m.\u001b[0m\u001b[0mheapifyDown\u001b[0m\u001b[1;33m(\u001b[0m\u001b[1;36m0\u001b[0m\u001b[1;33m)\u001b[0m\u001b[1;33m\u001b[0m\u001b[1;33m\u001b[0m\u001b[0m\n\u001b[0m\u001b[0;32m     86\u001b[0m         \u001b[1;32mreturn\u001b[0m \u001b[0mkey\u001b[0m\u001b[1;33m\u001b[0m\u001b[1;33m\u001b[0m\u001b[0m\n\u001b[0;32m     87\u001b[0m \u001b[1;33m\u001b[0m\u001b[0m\n",
      "\u001b[1;32m<ipython-input-116-425e78b037e3>\u001b[0m in \u001b[0;36mheapifyDown\u001b[1;34m(self, index)\u001b[0m\n\u001b[0;32m     96\u001b[0m \u001b[1;33m\u001b[0m\u001b[0m\n\u001b[0;32m     97\u001b[0m         \u001b[1;32mif\u001b[0m \u001b[0msmallest\u001b[0m \u001b[1;33m!=\u001b[0m \u001b[0mindex\u001b[0m\u001b[1;33m:\u001b[0m\u001b[1;33m\u001b[0m\u001b[1;33m\u001b[0m\u001b[0m\n\u001b[1;32m---> 98\u001b[1;33m             \u001b[0mself\u001b[0m\u001b[1;33m.\u001b[0m\u001b[0mswap\u001b[0m\u001b[1;33m(\u001b[0m\u001b[0mindex\u001b[0m\u001b[1;33m,\u001b[0m \u001b[0msmallest\u001b[0m\u001b[1;33m)\u001b[0m\u001b[1;33m\u001b[0m\u001b[1;33m\u001b[0m\u001b[0m\n\u001b[0m\u001b[0;32m     99\u001b[0m \u001b[1;33m\u001b[0m\u001b[0m\n\u001b[0;32m    100\u001b[0m         \u001b[0mself\u001b[0m\u001b[1;33m.\u001b[0m\u001b[0mheapifyDown\u001b[0m\u001b[1;33m(\u001b[0m\u001b[0msmallest\u001b[0m\u001b[1;33m)\u001b[0m\u001b[1;33m\u001b[0m\u001b[1;33m\u001b[0m\u001b[0m\n",
      "\u001b[1;32m<ipython-input-116-425e78b037e3>\u001b[0m in \u001b[0;36mswap\u001b[1;34m(self, index1, index2)\u001b[0m\n\u001b[0;32m     40\u001b[0m     \u001b[1;32mdef\u001b[0m \u001b[0mswap\u001b[0m\u001b[1;33m(\u001b[0m\u001b[0mself\u001b[0m\u001b[1;33m,\u001b[0m \u001b[0mindex1\u001b[0m\u001b[1;33m,\u001b[0m \u001b[0mindex2\u001b[0m\u001b[1;33m)\u001b[0m\u001b[1;33m:\u001b[0m\u001b[1;33m\u001b[0m\u001b[1;33m\u001b[0m\u001b[0m\n\u001b[0;32m     41\u001b[0m \u001b[1;33m\u001b[0m\u001b[0m\n\u001b[1;32m---> 42\u001b[1;33m         \u001b[0mself\u001b[0m\u001b[1;33m.\u001b[0m\u001b[0mdata\u001b[0m\u001b[1;33m[\u001b[0m\u001b[0mindex1\u001b[0m\u001b[1;33m]\u001b[0m\u001b[1;33m,\u001b[0m \u001b[0mself\u001b[0m\u001b[1;33m.\u001b[0m\u001b[0mdata\u001b[0m\u001b[1;33m[\u001b[0m\u001b[0mindex2\u001b[0m\u001b[1;33m]\u001b[0m \u001b[1;33m=\u001b[0m \u001b[0mself\u001b[0m\u001b[1;33m.\u001b[0m\u001b[0mdata\u001b[0m\u001b[1;33m[\u001b[0m\u001b[0mindex2\u001b[0m\u001b[1;33m]\u001b[0m\u001b[1;33m,\u001b[0m \u001b[0mself\u001b[0m\u001b[1;33m.\u001b[0m\u001b[0mdata\u001b[0m\u001b[1;33m[\u001b[0m\u001b[0mindex1\u001b[0m\u001b[1;33m]\u001b[0m\u001b[1;33m\u001b[0m\u001b[1;33m\u001b[0m\u001b[0m\n\u001b[0m\u001b[0;32m     43\u001b[0m \u001b[1;33m\u001b[0m\u001b[0m\n\u001b[0;32m     44\u001b[0m    \u001b[1;31m#insert in heap and interate for heapify\u001b[0m\u001b[1;33m\u001b[0m\u001b[1;33m\u001b[0m\u001b[1;33m\u001b[0m\u001b[0m\n",
      "\u001b[1;31mIndexError\u001b[0m: list index out of range"
     ]
    }
   ],
   "source": [
    "a.removeMin()"
   ]
  },
  {
   "cell_type": "code",
   "execution_count": null,
   "id": "97881e13",
   "metadata": {},
   "outputs": [],
   "source": []
  },
  {
   "cell_type": "code",
   "execution_count": null,
   "id": "16656cc9",
   "metadata": {},
   "outputs": [],
   "source": []
  },
  {
   "cell_type": "code",
   "execution_count": null,
   "id": "e78afd6f",
   "metadata": {},
   "outputs": [],
   "source": []
  },
  {
   "cell_type": "code",
   "execution_count": null,
   "id": "317c06f6",
   "metadata": {},
   "outputs": [],
   "source": []
  },
  {
   "cell_type": "code",
   "execution_count": 113,
   "id": "0d5e7d0c",
   "metadata": {},
   "outputs": [
    {
     "data": {
      "text/plain": [
       "[3, 4, 6, 7, 8]"
      ]
     },
     "execution_count": 113,
     "metadata": {},
     "output_type": "execute_result"
    }
   ],
   "source": []
  },
  {
   "cell_type": "code",
   "execution_count": null,
   "id": "9c49c686",
   "metadata": {},
   "outputs": [],
   "source": []
  },
  {
   "cell_type": "code",
   "execution_count": null,
   "id": "a427336e",
   "metadata": {},
   "outputs": [],
   "source": []
  },
  {
   "cell_type": "code",
   "execution_count": null,
   "id": "28261fcd",
   "metadata": {},
   "outputs": [],
   "source": []
  },
  {
   "cell_type": "code",
   "execution_count": null,
   "id": "2d2ca051",
   "metadata": {},
   "outputs": [],
   "source": [
    "\n"
   ]
  },
  {
   "cell_type": "code",
   "execution_count": null,
   "id": "84e22b3b",
   "metadata": {},
   "outputs": [],
   "source": []
  },
  {
   "cell_type": "code",
   "execution_count": null,
   "id": "7b87b104",
   "metadata": {},
   "outputs": [],
   "source": []
  }
 ],
 "metadata": {
  "kernelspec": {
   "display_name": "Python 3",
   "language": "python",
   "name": "python3"
  },
  "language_info": {
   "codemirror_mode": {
    "name": "ipython",
    "version": 3
   },
   "file_extension": ".py",
   "mimetype": "text/x-python",
   "name": "python",
   "nbconvert_exporter": "python",
   "pygments_lexer": "ipython3",
   "version": "3.8.10"
  }
 },
 "nbformat": 4,
 "nbformat_minor": 5
}
