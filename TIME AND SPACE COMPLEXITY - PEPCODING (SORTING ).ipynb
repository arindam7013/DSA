{
 "cells": [
  {
   "cell_type": "code",
   "execution_count": 1,
   "id": "9f1a2be6",
   "metadata": {},
   "outputs": [],
   "source": [
    "#Bubble sort"
   ]
  },
  {
   "cell_type": "code",
   "execution_count": 1,
   "id": "5fe8a635",
   "metadata": {},
   "outputs": [
    {
     "data": {
      "text/plain": [
       "[-1, 1, 2, 3, 4, 5, 9, 88]"
      ]
     },
     "execution_count": 1,
     "metadata": {},
     "output_type": "execute_result"
    }
   ],
   "source": [
    "def bubble(arr):\n",
    "    \n",
    "    for i in range(len(arr)-1):\n",
    "        for j in range(1 , len(arr)-i):\n",
    "            if arr[j] < arr[j-1]:\n",
    "                arr[j-1] , arr[j] = arr[j] , arr[j-1]\n",
    "                \n",
    "            \n",
    "    return arr\n",
    "\n",
    "bubble([5,1,2,3,-1, 9 , 88 ,4])\n",
    "            \n",
    "            "
   ]
  },
  {
   "cell_type": "code",
   "execution_count": null,
   "id": "cdbcfbb7",
   "metadata": {},
   "outputs": [],
   "source": []
  },
  {
   "cell_type": "code",
   "execution_count": 2,
   "id": "8fdb407e",
   "metadata": {},
   "outputs": [],
   "source": [
    "#selection sort"
   ]
  },
  {
   "cell_type": "code",
   "execution_count": 11,
   "id": "ad5ba790",
   "metadata": {},
   "outputs": [
    {
     "data": {
      "text/plain": [
       "[1, 2, 5, 8, 9]"
      ]
     },
     "execution_count": 11,
     "metadata": {},
     "output_type": "execute_result"
    }
   ],
   "source": [
    "def selection(arr):\n",
    "    \n",
    "    for i in range(len(arr)-1):\n",
    "        min = i\n",
    "        for j in range(i , len(arr)):\n",
    "            if arr[j] < arr[min]:\n",
    "                min = j\n",
    "                \n",
    "        arr[i] , arr[min] = arr[min] , arr[i]\n",
    "                \n",
    "            \n",
    "    return arr\n",
    "\n",
    "selection([5,9,8,1,2])\n",
    "            \n",
    "            "
   ]
  },
  {
   "cell_type": "code",
   "execution_count": null,
   "id": "e68cab0c",
   "metadata": {},
   "outputs": [],
   "source": []
  },
  {
   "cell_type": "code",
   "execution_count": null,
   "id": "96081570",
   "metadata": {},
   "outputs": [],
   "source": []
  },
  {
   "cell_type": "code",
   "execution_count": null,
   "id": "a7f2c362",
   "metadata": {},
   "outputs": [],
   "source": [
    "#Merge Two Sorted Arrays "
   ]
  },
  {
   "cell_type": "code",
   "execution_count": 12,
   "id": "e62637c9",
   "metadata": {},
   "outputs": [
    {
     "data": {
      "text/plain": [
       "[1, 2, 2, 3, 5, 6]"
      ]
     },
     "execution_count": 12,
     "metadata": {},
     "output_type": "execute_result"
    }
   ],
   "source": [
    "def merge(arr1 , arr2):\n",
    "    temp = []\n",
    "    n = len(arr1)\n",
    "    m = len(arr2)\n",
    "    k = min(n , m)    \n",
    "    i = 0\n",
    "    j = 0\n",
    "    k = 0\n",
    "    \n",
    "    while i < n and j < m:\n",
    "        if arr1[i] < arr2[j]:\n",
    "            temp.append(arr1[i])\n",
    "            \n",
    "            i += 1\n",
    "            \n",
    "        elif arr1[i] > arr2[j]:\n",
    "            temp.append(arr2[j])\n",
    "            j += 1\n",
    "            \n",
    "        else:\n",
    "            temp.append(arr1[i])\n",
    "            temp.append(arr2[j])\n",
    "            i += 1\n",
    "            j += 1\n",
    "            \n",
    "        \n",
    "    #print(temp , i , j)  \n",
    "    \n",
    "    if i < n:\n",
    "        \n",
    "        for l in range(i , n):\n",
    "            temp.append(arr1[l])\n",
    "            \n",
    "    if j < m:\n",
    "        for l in range(j , m):\n",
    "            temp.append(arr2[l])\n",
    "        \n",
    "        \n",
    "    return temp\n",
    "\n",
    "merge([1,2,3] , [2,5,6])\n",
    "        \n",
    "            "
   ]
  },
  {
   "cell_type": "code",
   "execution_count": null,
   "id": "e555413d",
   "metadata": {},
   "outputs": [],
   "source": []
  },
  {
   "cell_type": "code",
   "execution_count": null,
   "id": "f41dda02",
   "metadata": {},
   "outputs": [],
   "source": []
  },
  {
   "cell_type": "code",
   "execution_count": 13,
   "id": "87d8e32b",
   "metadata": {},
   "outputs": [],
   "source": [
    "#Merge sort"
   ]
  },
  {
   "cell_type": "code",
   "execution_count": 14,
   "id": "5850cdc7",
   "metadata": {},
   "outputs": [
    {
     "data": {
      "text/plain": [
       "[1, 2, 4, 6, 7, 8]"
      ]
     },
     "execution_count": 14,
     "metadata": {},
     "output_type": "execute_result"
    }
   ],
   "source": [
    "def merge_sort(arr , lo , hi):\n",
    "    \n",
    "    if lo == hi:\n",
    "        ba = [0] \n",
    "        ba[0] = arr[hi]\n",
    "        return ba\n",
    "    mid = (hi + lo) // 2\n",
    "    \n",
    "    lhalf = merge_sort(arr , lo , mid)\n",
    "    rhalf = merge_sort(arr , mid+1 , hi)\n",
    "    \n",
    "    full = merge(lhalf , rhalf)\n",
    "    return full\n",
    "\n",
    "\n",
    "merge_sort([4,6,8,1,2,7] , 0 , 5)    \n",
    "    "
   ]
  },
  {
   "cell_type": "code",
   "execution_count": null,
   "id": "c4a58e08",
   "metadata": {},
   "outputs": [],
   "source": []
  },
  {
   "cell_type": "code",
   "execution_count": null,
   "id": "8e565339",
   "metadata": {},
   "outputs": [],
   "source": [
    "#Partioning an Array | Time and Space |"
   ]
  },
  {
   "cell_type": "code",
   "execution_count": 27,
   "id": "3dd35483",
   "metadata": {},
   "outputs": [
    {
     "data": {
      "text/plain": [
       "3"
      ]
     },
     "execution_count": 27,
     "metadata": {},
     "output_type": "execute_result"
    }
   ],
   "source": [
    "def parti(arr , pivot):\n",
    "    \n",
    "    i = 0\n",
    "    j = 0\n",
    "    \n",
    "    while i < len(arr):\n",
    "        if arr[i] > pivot:\n",
    "            i += 1\n",
    "            \n",
    "            \n",
    "        else:\n",
    "            arr[i] , arr[j] = arr[j] , arr[i]\n",
    "            \n",
    "            i += 1\n",
    "            j += 1\n",
    "            \n",
    "    return  j-1 #, arr \n",
    "\n",
    "parti([7,9,4,8,3,6,2,1] , 5)\n",
    "            \n",
    "        "
   ]
  },
  {
   "cell_type": "code",
   "execution_count": null,
   "id": "d992f0bd",
   "metadata": {},
   "outputs": [],
   "source": []
  },
  {
   "cell_type": "code",
   "execution_count": 28,
   "id": "b4ec2b7b",
   "metadata": {},
   "outputs": [],
   "source": [
    "#Quick Sort | Time and Space "
   ]
  },
  {
   "cell_type": "code",
   "execution_count": 32,
   "id": "824f4d4f",
   "metadata": {},
   "outputs": [
    {
     "data": {
      "text/plain": [
       "[3, 3, 4, 5, 6, 7, 9]"
      ]
     },
     "execution_count": 32,
     "metadata": {},
     "output_type": "execute_result"
    }
   ],
   "source": [
    "def quick(arr , lo , hi):\n",
    "    if lo >= hi:\n",
    "        return\n",
    "    \n",
    "    pivot = arr[hi]\n",
    "    i = parti(arr , pivot)\n",
    "    \n",
    "    quick(arr, lo , i-1)\n",
    "    quick(arr , i+1 , hi)\n",
    "    \n",
    "arr = [5,4,3,7,3,9,6]    \n",
    "quick(arr , 0 , 6)\n",
    "arr\n",
    "    \n",
    "    \n",
    "    "
   ]
  },
  {
   "cell_type": "code",
   "execution_count": null,
   "id": "d7d07b8f",
   "metadata": {},
   "outputs": [],
   "source": []
  },
  {
   "cell_type": "code",
   "execution_count": null,
   "id": "9e017551",
   "metadata": {},
   "outputs": [],
   "source": []
  },
  {
   "cell_type": "code",
   "execution_count": null,
   "id": "0ded71e7",
   "metadata": {},
   "outputs": [],
   "source": []
  },
  {
   "cell_type": "code",
   "execution_count": null,
   "id": "dcbaf1a2",
   "metadata": {},
   "outputs": [],
   "source": []
  },
  {
   "cell_type": "code",
   "execution_count": null,
   "id": "accf8d59",
   "metadata": {},
   "outputs": [],
   "source": []
  },
  {
   "cell_type": "code",
   "execution_count": null,
   "id": "5daac181",
   "metadata": {},
   "outputs": [],
   "source": []
  },
  {
   "cell_type": "code",
   "execution_count": null,
   "id": "e86d30c9",
   "metadata": {},
   "outputs": [],
   "source": []
  },
  {
   "cell_type": "code",
   "execution_count": null,
   "id": "8f42ccca",
   "metadata": {},
   "outputs": [],
   "source": []
  },
  {
   "cell_type": "code",
   "execution_count": null,
   "id": "22097948",
   "metadata": {},
   "outputs": [],
   "source": []
  }
 ],
 "metadata": {
  "kernelspec": {
   "display_name": "Python 3",
   "language": "python",
   "name": "python3"
  },
  "language_info": {
   "codemirror_mode": {
    "name": "ipython",
    "version": 3
   },
   "file_extension": ".py",
   "mimetype": "text/x-python",
   "name": "python",
   "nbconvert_exporter": "python",
   "pygments_lexer": "ipython3",
   "version": "3.8.10"
  }
 },
 "nbformat": 4,
 "nbformat_minor": 5
}
