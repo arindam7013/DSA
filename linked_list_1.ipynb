{
 "cells": [
  {
   "cell_type": "code",
   "execution_count": 74,
   "id": "481d4c95",
   "metadata": {},
   "outputs": [],
   "source": [
    "#imp thing at lasttttttttttt\n",
    "class linkednode:\n",
    "    def __init__(self , data):\n",
    "        self.data = data\n",
    "        self.nextnode = None\n",
    "        self.previousnode = None\n",
    "        \n",
    "    def insert(self, head, where, key):\n",
    "        self.head = head\n",
    "        self.where = where\n",
    "        self.key = key\n",
    "        \n",
    "        while head is not where:\n",
    "            head = head.nextnode\n",
    "        print(\"pointer and data here ->\" , head.data)\n",
    "        temp = head.nextnode\n",
    "        #print(\"next node and data of head and pointer ->\", temp.data)\n",
    "        head.nextnode = key\n",
    "        key.nextnode = temp\n",
    "        \n",
    "    def traverse(self, head):\n",
    "        self.head = head\n",
    "        while head is not None:\n",
    "            print( head.data, \"->\" ,end ='')\n",
    "            head = head.nextnode\n",
    "            \n",
    "    '''\n",
    "    def previous_recursive(self,head):\n",
    "        self.head = head\n",
    "        \n",
    "        if head == None:\n",
    "            return head\n",
    "        if head.nextnode== None:\n",
    "            return head\n",
    "        \n",
    "        newhead = self.previous_recursive(head.nextnode)\n",
    "        \n",
    "        head.nextnode.nextnode = head\n",
    "        head.nextnode = None\n",
    "        x = newhead\n",
    "        \n",
    "        self.traverse(x)\n",
    "    '''\n",
    "            \n",
    "            \n",
    "    def reverse_iter(self,head):\n",
    "        current = head\n",
    "        prev = None\n",
    "        while current != None:\n",
    "            nextptr = current.nextnode \n",
    "            current.nextnode = prev\n",
    "            prev = current\n",
    "            current = nextptr\n",
    "            \n",
    "        self.traverse(prev)\n",
    "        \n",
    "    def previous_recursive(self,head):\n",
    "        \n",
    "        if head is None or head.nextnode is None:\n",
    "            return head\n",
    "        newhead = self.previous_recursive(head.nextnode)\n",
    "        head.nextnode.nextnode = head\n",
    "        head.nextnode = None\n",
    "        \n",
    "        self.traverse(newhead)\n"
   ]
  },
  {
   "cell_type": "code",
   "execution_count": null,
   "id": "20b71d66",
   "metadata": {},
   "outputs": [],
   "source": [
    "a = linkednode('A')\n",
    "b = linkednode('B')\n",
    "c = linkednode('C')\n",
    "d = linkednode('D')\n",
    "e = linkednode('E')\n",
    "f = linkednode('F')\n",
    "\n",
    "a.nextnode = b\n",
    "b.nextnode = c\n",
    "c.nextnode = d\n",
    "d.nextnode = e\n",
    "e.nextnode = f\n",
    "f.nextnode = None\n",
    "head = a"
   ]
  },
  {
   "cell_type": "code",
   "execution_count": null,
   "id": "b63571df",
   "metadata": {},
   "outputs": [],
   "source": []
  },
  {
   "cell_type": "code",
   "execution_count": null,
   "id": "d68d0046",
   "metadata": {},
   "outputs": [],
   "source": []
  },
  {
   "cell_type": "code",
   "execution_count": null,
   "id": "336106f9",
   "metadata": {},
   "outputs": [],
   "source": []
  },
  {
   "cell_type": "code",
   "execution_count": null,
   "id": "51841a1c",
   "metadata": {},
   "outputs": [],
   "source": []
  },
  {
   "cell_type": "code",
   "execution_count": null,
   "id": "2bb6e5b3",
   "metadata": {},
   "outputs": [],
   "source": [
    "# Definition for singly-linked list.\n",
    "# class ListNode:\n",
    "#     def __init__(self, val=0, next=None):\n",
    "#         self.val = val\n",
    "#         self.next = next\n",
    "class Solution:\n",
    "    def mergeTwoLists(self, l1: Optional[ListNode], l2: Optional[ListNode]) -> Optional[ListNode]:\n",
    "\n",
    "  \n",
    "        temp = dummy = ListNode(0)\n",
    "        \n",
    "        if l1 is None:\n",
    "            return l2\n",
    "        if l2 is None:\n",
    "            return l1\n",
    "        \n",
    "        first = l1\n",
    "        second = l2\n",
    "        \n",
    "        while first != None and second != None:\n",
    "            if first.val < second.val:\n",
    "                \n",
    "                temp.next = first\n",
    "                first = first.next\n",
    "            \n",
    "            else:\n",
    "                \n",
    "                temp.next = second\n",
    "                second = second.next\n",
    "              \n",
    "             \n",
    "            temp = temp.next\n",
    "                \n",
    "        #while first != None:\n",
    "        if (first):    \n",
    "            temp.next = first \n",
    "            \n",
    "            #first = first.next\n",
    "        \n",
    "        #while second != None:\n",
    "        if (second):    \n",
    "            temp.next = second\n",
    "\n",
    "            #second = second.next\n",
    "            \n",
    "        \n",
    "        return dummy.next\n",
    "                "
   ]
  },
  {
   "cell_type": "code",
   "execution_count": 75,
   "id": "1123c843",
   "metadata": {},
   "outputs": [],
   "source": []
  },
  {
   "cell_type": "code",
   "execution_count": 76,
   "id": "439f19dd",
   "metadata": {},
   "outputs": [
    {
     "name": "stdout",
     "output_type": "stream",
     "text": [
      "F ->E ->"
     ]
    }
   ],
   "source": [
    "a.previous_recursive(a)"
   ]
  },
  {
   "cell_type": "code",
   "execution_count": 53,
   "id": "0e32d2a6",
   "metadata": {},
   "outputs": [
    {
     "name": "stdout",
     "output_type": "stream",
     "text": [
      "A ->"
     ]
    }
   ],
   "source": [
    "a.reverse_iter(a)"
   ]
  },
  {
   "cell_type": "code",
   "execution_count": null,
   "id": "6a092dec",
   "metadata": {},
   "outputs": [],
   "source": []
  },
  {
   "cell_type": "code",
   "execution_count": null,
   "id": "65841929",
   "metadata": {},
   "outputs": [],
   "source": []
  },
  {
   "cell_type": "code",
   "execution_count": 196,
   "id": "07a5a976",
   "metadata": {},
   "outputs": [
    {
     "name": "stdout",
     "output_type": "stream",
     "text": [
      "pointer and data here -> C\n"
     ]
    }
   ],
   "source": [
    "e.insert(head,c,e)\n"
   ]
  },
  {
   "cell_type": "code",
   "execution_count": 197,
   "id": "24626fed",
   "metadata": {},
   "outputs": [
    {
     "name": "stdout",
     "output_type": "stream",
     "text": [
      "pointer and data here -> D\n"
     ]
    }
   ],
   "source": [
    "f.insert(head,d,f)"
   ]
  },
  {
   "cell_type": "code",
   "execution_count": 198,
   "id": "904a9c19",
   "metadata": {},
   "outputs": [],
   "source": [
    "f.nextnode = e"
   ]
  },
  {
   "cell_type": "code",
   "execution_count": 199,
   "id": "e815209d",
   "metadata": {},
   "outputs": [],
   "source": [
    "#a.traverse(a)"
   ]
  },
  {
   "cell_type": "code",
   "execution_count": 200,
   "id": "48b307f5",
   "metadata": {},
   "outputs": [
    {
     "name": "stdout",
     "output_type": "stream",
     "text": [
      "fast-> C\n",
      "slow-> B\n",
      "fast-> D\n",
      "slow-> C\n",
      "fast-> E\n",
      "slow-> E\n"
     ]
    },
    {
     "data": {
      "text/plain": [
       "'Cycle present'"
      ]
     },
     "execution_count": 200,
     "metadata": {},
     "output_type": "execute_result"
    }
   ],
   "source": [
    "a.hare_and_tort_cycle_detect(head)"
   ]
  },
  {
   "cell_type": "code",
   "execution_count": 201,
   "id": "91f942b8",
   "metadata": {},
   "outputs": [
    {
     "name": "stdout",
     "output_type": "stream",
     "text": [
      "fast at -> E\n",
      "slow at -> E\n",
      "slow at final-> None\n"
     ]
    }
   ],
   "source": [
    "a.hare_and_tort_cycle_solve(head)"
   ]
  },
  {
   "cell_type": "code",
   "execution_count": 202,
   "id": "c13dfa3e",
   "metadata": {},
   "outputs": [
    {
     "name": "stdout",
     "output_type": "stream",
     "text": [
      "A ->B ->C ->E ->D ->F ->"
     ]
    }
   ],
   "source": [
    "a.traverse(head)"
   ]
  },
  {
   "cell_type": "code",
   "execution_count": null,
   "id": "dbd41af2",
   "metadata": {},
   "outputs": [],
   "source": []
  },
  {
   "cell_type": "code",
   "execution_count": null,
   "id": "950f9116",
   "metadata": {},
   "outputs": [],
   "source": []
  },
  {
   "cell_type": "code",
   "execution_count": 74,
   "id": "20fec6b8",
   "metadata": {},
   "outputs": [],
   "source": [
    "e.head = e.rev_k(e.head , 2)"
   ]
  },
  {
   "cell_type": "code",
   "execution_count": 75,
   "id": "f10bdcc3",
   "metadata": {},
   "outputs": [
    {
     "name": "stdout",
     "output_type": "stream",
     "text": [
      "A\n"
     ]
    }
   ],
   "source": [
    "print(head.data)"
   ]
  },
  {
   "cell_type": "code",
   "execution_count": null,
   "id": "4587a5af",
   "metadata": {},
   "outputs": [],
   "source": []
  },
  {
   "cell_type": "code",
   "execution_count": null,
   "id": "bea71c1f",
   "metadata": {},
   "outputs": [],
   "source": []
  },
  {
   "cell_type": "code",
   "execution_count": null,
   "id": "e2268b3c",
   "metadata": {},
   "outputs": [],
   "source": []
  },
  {
   "cell_type": "code",
   "execution_count": null,
   "id": "3f83b53c",
   "metadata": {},
   "outputs": [],
   "source": []
  },
  {
   "cell_type": "code",
   "execution_count": 13,
   "id": "490a35d9",
   "metadata": {},
   "outputs": [
    {
     "name": "stdout",
     "output_type": "stream",
     "text": [
      "A ->"
     ]
    }
   ],
   "source": [
    "a.traverse(head)"
   ]
  },
  {
   "cell_type": "code",
   "execution_count": null,
   "id": "812941c8",
   "metadata": {},
   "outputs": [],
   "source": []
  },
  {
   "cell_type": "code",
   "execution_count": 90,
   "id": "7f54acf9",
   "metadata": {},
   "outputs": [],
   "source": [
    "c.delete(head,c)"
   ]
  },
  {
   "cell_type": "code",
   "execution_count": null,
   "id": "ab405fca",
   "metadata": {},
   "outputs": [],
   "source": [
    "\n",
    "    "
   ]
  },
  {
   "cell_type": "code",
   "execution_count": 92,
   "id": "348b09b6",
   "metadata": {},
   "outputs": [],
   "source": []
  },
  {
   "cell_type": "code",
   "execution_count": null,
   "id": "c93fcd15",
   "metadata": {},
   "outputs": [],
   "source": [
    "    def previous_recursive(self,head):\n",
    "        self.head = head\n",
    "        if head == None or head.nextnode == None:\n",
    "            return head\n",
    "        newhead = previous_recursive(self,head.nextnode)\n",
    "        newhead.nextnode = head\n",
    "        head.nextnode = None\n",
    "        self.traverse(newhead)"
   ]
  },
  {
   "cell_type": "code",
   "execution_count": null,
   "id": "52fd1cd7",
   "metadata": {},
   "outputs": [],
   "source": [
    "def reverse_iter(self,head):\n",
    "    current = head\n",
    "    prev = None\n",
    "    while current != None:\n",
    "        nextptr = current.next  \n",
    "        current.next = prev\n",
    "        current = nextptr\n",
    "        prev = current\n",
    "        \n",
    "        "
   ]
  },
  {
   "cell_type": "code",
   "execution_count": null,
   "id": "ab7fdd4c",
   "metadata": {},
   "outputs": [],
   "source": [
    "def rev_Stack_k(self,head):\n",
    "    current = head\n",
    "    prev = None\n",
    "    nh = rev_Stack_k(self, newhead)\n",
    "    newh = current.head\n",
    "    current.nextnode = prev\n",
    "    current = nh\n",
    "    prev = current"
   ]
  },
  {
   "cell_type": "code",
   "execution_count": null,
   "id": "82182962",
   "metadata": {},
   "outputs": [],
   "source": []
  },
  {
   "cell_type": "code",
   "execution_count": null,
   "id": "e8722e13",
   "metadata": {},
   "outputs": [],
   "source": []
  },
  {
   "cell_type": "code",
   "execution_count": 142,
   "id": "033779eb",
   "metadata": {},
   "outputs": [
    {
     "name": "stdout",
     "output_type": "stream",
     "text": [
      "A\n",
      "B\n",
      "C\n",
      "E\n",
      "D\n"
     ]
    }
   ],
   "source": [
    "while head is not None:\n",
    "    print(head.data)\n",
    "    head = head.nextnode"
   ]
  },
  {
   "cell_type": "code",
   "execution_count": null,
   "id": "512fcaac",
   "metadata": {},
   "outputs": [],
   "source": [
    "        self.head = head\n",
    "        prev = None\n",
    "        current = head\n",
    "         \n",
    "        while current is not None:\n",
    "            nextptr = current.nextnode\n",
    "            current.nextnode = prev\n",
    "            prev = current\n",
    "            current = nextptr\n",
    "            #head = prev\n",
    "        test = prev\n",
    "        self.traverse(test)"
   ]
  },
  {
   "cell_type": "code",
   "execution_count": null,
   "id": "9ae207fb",
   "metadata": {},
   "outputs": [],
   "source": []
  },
  {
   "cell_type": "code",
   "execution_count": 1,
   "id": "4f275e25",
   "metadata": {},
   "outputs": [
    {
     "ename": "IndentationError",
     "evalue": "expected an indented block (<ipython-input-1-dd0247d6e4f4>, line 70)",
     "output_type": "error",
     "traceback": [
      "\u001b[1;36m  File \u001b[1;32m\"<ipython-input-1-dd0247d6e4f4>\"\u001b[1;36m, line \u001b[1;32m70\u001b[0m\n\u001b[1;33m    fast = head\u001b[0m\n\u001b[1;37m    ^\u001b[0m\n\u001b[1;31mIndentationError\u001b[0m\u001b[1;31m:\u001b[0m expected an indented block\n"
     ]
    }
   ],
   "source": [
    "    #def delete(self,head,prev):\n",
    "    #    while head is not prev:\n",
    "    #        head = head.nextnode\n",
    "    #    temp = head.nextnode.nextnode\n",
    "    #    head.nextnode = temp\n",
    "    #   print(head.data)\n",
    "    def delete(self,head,key):\n",
    "        self.head = head\n",
    "        temp = head\n",
    "        while temp.nextnode is not key:\n",
    "            temp = temp.nextnode\n",
    "        temp.nextnode = temp.nextnode.nextnode\n",
    "        \n",
    "    def previous_iteration(self,head):\n",
    "        self.head = head\n",
    "        prev = None\n",
    "        current = head\n",
    "         \n",
    "        while current is not None:\n",
    "            nextptr = current.nextnode\n",
    "            current.nextnode = prev\n",
    "            prev = current\n",
    "            current = nextptr\n",
    "            #head = prev\n",
    "        test = prev\n",
    "        self.traverse(test)\n",
    "        \n",
    "\n",
    "    \n",
    "    def previous_recursive(self , head):\n",
    "        #self.head = head\n",
    "        if head == None or head.nextnode == None:\n",
    "            return head\n",
    "        newhead = self.previous_recursive(head.nextnode)\n",
    "        head.nextnode.nextnode = head\n",
    "        head.nextnode = None\n",
    "        return newhead\n",
    "        self.traverse(newhead)\n",
    "        \n",
    "    def reverse_k(self,head):\n",
    "        if head== None or head.nextnode == None:\n",
    "            return head\n",
    "        self.head = head\n",
    "        prev = None\n",
    "        current = head\n",
    "        nextptr = None\n",
    "        \n",
    "        while current is not None:\n",
    "            nextptr = current.nextnode\n",
    "            current.nextnode = prev\n",
    "            \n",
    "    \n",
    "    def rev_k(self,head,k):\n",
    "        current = head\n",
    "        prev = None\n",
    "        nextptr = current.nextnode\n",
    "        current.nextnode = prev\n",
    "        prev = current\n",
    "        current = nextptr\n",
    "        if nextptr != None:\n",
    "            #print(prev.data ,current.data ,nextptr.data, head.data )\n",
    "            head.nextnode = self.rev_k(nextptr,k)\n",
    "            \n",
    "        return prev\n",
    "    \n",
    "    \n",
    "    \n",
    "        def hare_and_tort_cycle_detect(self, head):\n",
    "        \n",
    "        fast = head\n",
    "        slow = head\n",
    "        while(fast != None and fast.nextnode != None):\n",
    "            fast = fast.nextnode.nextnode\n",
    "            slow = slow.nextnode\n",
    "            print(\"fast->\", fast.data)\n",
    "            print(\"slow->\", slow.data)\n",
    "            \n",
    "            if fast == slow:\n",
    "                return 'Cycle present'\n",
    "    \n",
    "    def hare_and_tort_cycle_solve(self, head):\n",
    "        \n",
    "        fast = head\n",
    "        slow = head\n",
    "        while (fast != None and fast.nextnode != None):\n",
    "            fast = fast.nextnode.nextnode\n",
    "            slow = slow.nextnode\n",
    "            #print(\"fast->\", fast.data)\n",
    "            \n",
    "            \n",
    "            if fast == slow:\n",
    "                \n",
    "                fast = head\n",
    "                while fast.nextnode != slow.nextnode  :\n",
    "                    fast = fast.nextnode\n",
    "                    slow = slow.nextnode\n",
    "                    #print(\"fast at ->\", fast.nextnode.data)\n",
    "                    #print(\"slow at ->\", slow.nextnode.data)\n",
    "                print(\"fast at ->\", fast.nextnode.data)\n",
    "                print(\"slow at ->\", slow.nextnode.data)\n",
    "                slow.nextnode = None\n",
    "                print(\"slow at final->\", slow.nextnode)\n",
    "                break\n",
    "            "
   ]
  },
  {
   "cell_type": "code",
   "execution_count": null,
   "id": "fcf3610e",
   "metadata": {},
   "outputs": [],
   "source": []
  },
  {
   "cell_type": "code",
   "execution_count": null,
   "id": "10fb0fed",
   "metadata": {},
   "outputs": [],
   "source": [
    "if len(result1)<1:\n",
    "            head = ListNode(result2[0])\n",
    "            cur = head\n",
    "            for i in range(1, len(result2)):\n",
    "                cur.next = ListNode(result2[i])\n",
    "                cur = cur.next\n",
    "            return head"
   ]
  }
 ],
 "metadata": {
  "kernelspec": {
   "display_name": "Python 3",
   "language": "python",
   "name": "python3"
  },
  "language_info": {
   "codemirror_mode": {
    "name": "ipython",
    "version": 3
   },
   "file_extension": ".py",
   "mimetype": "text/x-python",
   "name": "python",
   "nbconvert_exporter": "python",
   "pygments_lexer": "ipython3",
   "version": "3.8.10"
  }
 },
 "nbformat": 4,
 "nbformat_minor": 5
}
