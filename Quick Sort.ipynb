{
 "cells": [
  {
   "cell_type": "code",
   "execution_count": 1,
   "id": "9289cd51",
   "metadata": {},
   "outputs": [],
   "source": [
    "a = [35,50,15,25,80,20,90,45]"
   ]
  },
  {
   "cell_type": "code",
   "execution_count": 2,
   "id": "29329b78",
   "metadata": {},
   "outputs": [
    {
     "ename": "IndexError",
     "evalue": "list index out of range",
     "output_type": "error",
     "traceback": [
      "\u001b[1;31m---------------------------------------------------------------------------\u001b[0m",
      "\u001b[1;31mIndexError\u001b[0m                                Traceback (most recent call last)",
      "\u001b[1;32m<ipython-input-2-beec7994ef7f>\u001b[0m in \u001b[0;36m<module>\u001b[1;34m\u001b[0m\n\u001b[1;32m----> 1\u001b[1;33m \u001b[0ma\u001b[0m\u001b[1;33m[\u001b[0m\u001b[1;36m8\u001b[0m\u001b[1;33m]\u001b[0m\u001b[1;33m\u001b[0m\u001b[1;33m\u001b[0m\u001b[0m\n\u001b[0m",
      "\u001b[1;31mIndexError\u001b[0m: list index out of range"
     ]
    }
   ],
   "source": [
    "a[8]"
   ]
  },
  {
   "cell_type": "code",
   "execution_count": 3,
   "id": "bac612a4",
   "metadata": {},
   "outputs": [
    {
     "name": "stdout",
     "output_type": "stream",
     "text": [
      "Sorted array: [1, 5, 7, 8, 9, 10]\n"
     ]
    }
   ],
   "source": [
    "# start = p and end = q\n",
    "def partition(start, end, array):\n",
    "\n",
    "\tpivot_index = start\n",
    "\tpivot = array[pivot_index]\n",
    "\n",
    "    \n",
    "    \n",
    "\twhile start < end:\n",
    "\t\t\n",
    "\n",
    "        \n",
    "        \n",
    "\t\twhile start < len(array) and array[start] <= pivot:\n",
    "\t\t\tstart += 1\n",
    "\n",
    "            \n",
    "            \n",
    "\t\twhile array[end] > pivot:\n",
    "\t\t\tend -= 1\n",
    "\n",
    "        # If start and end have not crossed each other,\n",
    "        # swap the numbers on start and end            \n",
    "            \n",
    "\t\tif(start < end):\n",
    "\t\t\tarray[start], array[end] = array[end], array[start]\n",
    "            \n",
    "\t\n",
    "# Swap pivot element with element on end pointer.\n",
    "    # This puts pivot on its correct sorted place.\n",
    "\tarray[end], array[pivot_index] = array[pivot_index], array[end]\n",
    "\t\n",
    "\n",
    "\treturn end\n",
    "\n",
    "\n",
    "\n",
    "def quick_sort(start, end, array):\n",
    "\t\n",
    "\tif (start < end):\n",
    "\n",
    "\t\tp = partition(start, end, array)\n",
    "\n",
    "        \n",
    "        \n",
    "\t\tquick_sort(start, p - 1, array)\n",
    "\t\tquick_sort(p + 1, end, array)\n",
    "\n",
    "\n",
    "array = [ 10, 7, 8, 9, 1, 5 ]\n",
    "quick_sort(0, len(array) - 1, array)\n",
    "\n",
    "print(f'Sorted array: {array}')\n",
    "\n",
    "\n",
    "\n"
   ]
  },
  {
   "cell_type": "code",
   "execution_count": null,
   "id": "8bb8db3f",
   "metadata": {},
   "outputs": [],
   "source": []
  }
 ],
 "metadata": {
  "kernelspec": {
   "display_name": "Python 3",
   "language": "python",
   "name": "python3"
  },
  "language_info": {
   "codemirror_mode": {
    "name": "ipython",
    "version": 3
   },
   "file_extension": ".py",
   "mimetype": "text/x-python",
   "name": "python",
   "nbconvert_exporter": "python",
   "pygments_lexer": "ipython3",
   "version": "3.8.10"
  }
 },
 "nbformat": 4,
 "nbformat_minor": 5
}
