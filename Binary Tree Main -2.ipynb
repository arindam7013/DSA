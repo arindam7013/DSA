{
 "cells": [
  {
   "cell_type": "code",
   "execution_count": 56,
   "id": "f6794ed2",
   "metadata": {},
   "outputs": [],
   "source": [
    "from collections import deque\n",
    "class Binarytree:\n",
    "    def __init__(self, data):\n",
    "        self.data = data\n",
    "        self.leftchild = None\n",
    "        self.rightchild = None\n",
    "        \n",
    "        \n",
    "    def LCA(self, rootnode, n1, n2):\n",
    "        if rootnode == None:\n",
    "            return None\n",
    "        \n",
    "        if rootnode.data == n1 or rootnode.data == n2:\n",
    "            return rootnode\n",
    "        \n",
    "        \n",
    "        left = self.LCA(rootnode.leftchild, n1,n2)\n",
    "        right = self.LCA(rootnode.rightchild, n1, n2)\n",
    "        \n",
    "        if left != None and right != None:\n",
    "            return rootnode\n",
    "        \n",
    "        if left == None and right == None:\n",
    "            return None\n",
    "            \n",
    "        if left != None:\n",
    "            return self.LCA(rootnode.leftchild, n1, n2)\n",
    "        \n",
    "        if right != None:\n",
    "            return self.LCA(rootnode.rightchild, n1,n2)\n",
    "        \n",
    "        \n",
    "    def distance(self, root, n1, n2):\n",
    "        lca = self.LCA(root, n1, n1)\n",
    "        d1 = self.finddist(lca, n1, 0)\n",
    "        d2 = self.finddist(lca, n1, 0)\n",
    "        return d1 + d2\n",
    "    \n",
    "    def finddist(self, root,  k, dist):\n",
    "        if root == None:\n",
    "            return -1\n",
    "        \n",
    "        if root.data == k:\n",
    "            return dist\n",
    "        \n",
    "        left = self.finddist(rootnode.leftchild, k, dist +1)\n",
    "        if left != -1:\n",
    "            return left\n",
    "        right = self.finddist(rootnode.rightchild, k, dist +1)\n",
    "        return right\n",
    "\n"
   ]
  },
  {
   "cell_type": "code",
   "execution_count": 57,
   "id": "bdd77af9",
   "metadata": {},
   "outputs": [],
   "source": [
    "a = Binarytree(1)\n",
    "b = Binarytree(2)\n",
    "c = Binarytree(3)\n",
    "d = Binarytree(4)\n",
    "e = Binarytree(5)\n",
    "f = Binarytree(6)\n",
    "g = Binarytree(7)\n",
    "\n",
    "\n",
    "a.leftchild = b\n",
    "a.rightchild = c\n",
    "\n",
    "b.leftchild = d\n",
    "b.rightchild = e\n",
    "\n",
    "c.leftchild = f\n",
    "c.rightchild = g"
   ]
  },
  {
   "cell_type": "code",
   "execution_count": 58,
   "id": "26821b64",
   "metadata": {},
   "outputs": [
    {
     "data": {
      "text/plain": [
       "-2"
      ]
     },
     "execution_count": 58,
     "metadata": {},
     "output_type": "execute_result"
    }
   ],
   "source": [
    "a.distance(a, d, f)"
   ]
  },
  {
   "cell_type": "code",
   "execution_count": null,
   "id": "e15ae11f",
   "metadata": {},
   "outputs": [],
   "source": []
  },
  {
   "cell_type": "code",
   "execution_count": null,
   "id": "508b5037",
   "metadata": {},
   "outputs": [],
   "source": []
  },
  {
   "cell_type": "code",
   "execution_count": null,
   "id": "da05bd3b",
   "metadata": {},
   "outputs": [],
   "source": []
  },
  {
   "cell_type": "code",
   "execution_count": null,
   "id": "89efce62",
   "metadata": {},
   "outputs": [],
   "source": []
  },
  {
   "cell_type": "code",
   "execution_count": null,
   "id": "1dddac89",
   "metadata": {},
   "outputs": [],
   "source": []
  },
  {
   "cell_type": "code",
   "execution_count": null,
   "id": "6b6397b2",
   "metadata": {},
   "outputs": [],
   "source": []
  },
  {
   "cell_type": "code",
   "execution_count": null,
   "id": "3096ac5c",
   "metadata": {},
   "outputs": [],
   "source": []
  },
  {
   "cell_type": "code",
   "execution_count": null,
   "id": "39b35cb2",
   "metadata": {},
   "outputs": [],
   "source": []
  },
  {
   "cell_type": "code",
   "execution_count": 1,
   "id": "97bf4646",
   "metadata": {},
   "outputs": [],
   "source": [
    "    def right_view(self, root):\n",
    "        self.root = root\n",
    "        q = [root, None]\n",
    "        level = 0\n",
    "        sum = 0\n",
    "        print(root.data)\n",
    "        while len(q) != 0:\n",
    "            p = q.pop(0)\n",
    "  \n",
    "            \n",
    "            \n",
    "            if p == None and len(q) > 0:\n",
    "                print(q[-1].data)\n",
    "                q.append(None)\n",
    "                \n",
    "                continue   \n",
    "            else:\n",
    "                \n",
    "                \n",
    "                temp = p\n",
    "                \n",
    "                if temp is not None:\n",
    "                    #print(p.data)\n",
    "                    if temp.leftchild is not None:\n",
    "                        q.append(temp.leftchild)\n",
    "                    if p.rightchild is not None:\n",
    "                        q.append(temp.rightchild)\n",
    "                        \n",
    "                        \n",
    "                        \n",
    "    def left_view(self, root):\n",
    "        self.root = root\n",
    "        q = [root, None]\n",
    "        level = 0\n",
    "        sum = 0\n",
    "        print(root.data)\n",
    "        while len(q) != 0:\n",
    "            p = q.pop(0)\n",
    "  \n",
    "            \n",
    "            \n",
    "            if p == None and len(q) > 0:\n",
    "                print(q[0].data)\n",
    "                q.append(None)\n",
    "                \n",
    "                continue   \n",
    "            else:\n",
    "                \n",
    "                \n",
    "                temp = p\n",
    "                \n",
    "                if temp is not None:\n",
    "                    #print(p.data)\n",
    "                    if temp.leftchild is not None:\n",
    "                        q.append(temp.leftchild)\n",
    "                    if p.rightchild is not None:\n",
    "                        q.append(temp.rightchild)"
   ]
  },
  {
   "cell_type": "code",
   "execution_count": null,
   "id": "6f90d137",
   "metadata": {},
   "outputs": [],
   "source": []
  }
 ],
 "metadata": {
  "kernelspec": {
   "display_name": "Python 3",
   "language": "python",
   "name": "python3"
  },
  "language_info": {
   "codemirror_mode": {
    "name": "ipython",
    "version": 3
   },
   "file_extension": ".py",
   "mimetype": "text/x-python",
   "name": "python",
   "nbconvert_exporter": "python",
   "pygments_lexer": "ipython3",
   "version": "3.8.10"
  }
 },
 "nbformat": 4,
 "nbformat_minor": 5
}
