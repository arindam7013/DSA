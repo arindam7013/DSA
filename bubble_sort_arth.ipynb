{
 "cells": [
  {
   "cell_type": "code",
   "execution_count": 4,
   "metadata": {},
   "outputs": [
    {
     "data": {
      "text/plain": [
       "12"
      ]
     },
     "execution_count": 4,
     "metadata": {},
     "output_type": "execute_result"
    }
   ],
   "source": [
    "data = [8,7,65,87,42,32,78,89,32,71,2,1]\n",
    "#data = [2,3,4,5,6,7,8,9]\n",
    "len(data)\n"
   ]
  },
  {
   "cell_type": "code",
   "execution_count": 7,
   "metadata": {},
   "outputs": [
    {
     "data": {
      "text/plain": [
       "range(0, 11)"
      ]
     },
     "execution_count": 7,
     "metadata": {},
     "output_type": "execute_result"
    }
   ],
   "source": [
    "range(len(data) -1)"
   ]
  },
  {
   "cell_type": "code",
   "execution_count": 16,
   "metadata": {},
   "outputs": [],
   "source": [
    "def bubble_sort(data):\n",
    "    i=1\n",
    "    for f in range(len(data)-1):\n",
    "        for r in range(len(data)-1 -f):  # -f because we don't want to last element after every iteration\n",
    "            if data[r] > data[r+1]:\n",
    "                data[r] , data[r+1] = data[r+1], data[r]\n",
    "                print(data)\n",
    "                print(\"swap done!\")\n",
    "                i = i+1\n",
    "                print(i)\n",
    "            else:\n",
    "                \n",
    "                print(data)\n",
    "                print(\"no swap! \")\n",
    "    print(i)\n",
    "    return data     \n",
    "    "
   ]
  },
  {
   "cell_type": "code",
   "execution_count": 17,
   "metadata": {},
   "outputs": [
    {
     "name": "stdout",
     "output_type": "stream",
     "text": [
      "[7, 8, 65, 87, 42, 32, 78, 89, 32, 71, 2, 1]\n",
      "swap done!\n",
      "2\n",
      "[7, 8, 65, 87, 42, 32, 78, 89, 32, 71, 2, 1]\n",
      "no swap! \n",
      "[7, 8, 65, 87, 42, 32, 78, 89, 32, 71, 2, 1]\n",
      "no swap! \n",
      "[7, 8, 65, 42, 87, 32, 78, 89, 32, 71, 2, 1]\n",
      "swap done!\n",
      "3\n",
      "[7, 8, 65, 42, 32, 87, 78, 89, 32, 71, 2, 1]\n",
      "swap done!\n",
      "4\n",
      "[7, 8, 65, 42, 32, 78, 87, 89, 32, 71, 2, 1]\n",
      "swap done!\n",
      "5\n",
      "[7, 8, 65, 42, 32, 78, 87, 89, 32, 71, 2, 1]\n",
      "no swap! \n",
      "[7, 8, 65, 42, 32, 78, 87, 32, 89, 71, 2, 1]\n",
      "swap done!\n",
      "6\n",
      "[7, 8, 65, 42, 32, 78, 87, 32, 71, 89, 2, 1]\n",
      "swap done!\n",
      "7\n",
      "[7, 8, 65, 42, 32, 78, 87, 32, 71, 2, 89, 1]\n",
      "swap done!\n",
      "8\n",
      "[7, 8, 65, 42, 32, 78, 87, 32, 71, 2, 1, 89]\n",
      "swap done!\n",
      "9\n",
      "[7, 8, 65, 42, 32, 78, 87, 32, 71, 2, 1, 89]\n",
      "no swap! \n",
      "[7, 8, 65, 42, 32, 78, 87, 32, 71, 2, 1, 89]\n",
      "no swap! \n",
      "[7, 8, 42, 65, 32, 78, 87, 32, 71, 2, 1, 89]\n",
      "swap done!\n",
      "10\n",
      "[7, 8, 42, 32, 65, 78, 87, 32, 71, 2, 1, 89]\n",
      "swap done!\n",
      "11\n",
      "[7, 8, 42, 32, 65, 78, 87, 32, 71, 2, 1, 89]\n",
      "no swap! \n",
      "[7, 8, 42, 32, 65, 78, 87, 32, 71, 2, 1, 89]\n",
      "no swap! \n",
      "[7, 8, 42, 32, 65, 78, 32, 87, 71, 2, 1, 89]\n",
      "swap done!\n",
      "12\n",
      "[7, 8, 42, 32, 65, 78, 32, 71, 87, 2, 1, 89]\n",
      "swap done!\n",
      "13\n",
      "[7, 8, 42, 32, 65, 78, 32, 71, 2, 87, 1, 89]\n",
      "swap done!\n",
      "14\n",
      "[7, 8, 42, 32, 65, 78, 32, 71, 2, 1, 87, 89]\n",
      "swap done!\n",
      "15\n",
      "[7, 8, 42, 32, 65, 78, 32, 71, 2, 1, 87, 89]\n",
      "no swap! \n",
      "[7, 8, 42, 32, 65, 78, 32, 71, 2, 1, 87, 89]\n",
      "no swap! \n",
      "[7, 8, 32, 42, 65, 78, 32, 71, 2, 1, 87, 89]\n",
      "swap done!\n",
      "16\n",
      "[7, 8, 32, 42, 65, 78, 32, 71, 2, 1, 87, 89]\n",
      "no swap! \n",
      "[7, 8, 32, 42, 65, 78, 32, 71, 2, 1, 87, 89]\n",
      "no swap! \n",
      "[7, 8, 32, 42, 65, 32, 78, 71, 2, 1, 87, 89]\n",
      "swap done!\n",
      "17\n",
      "[7, 8, 32, 42, 65, 32, 71, 78, 2, 1, 87, 89]\n",
      "swap done!\n",
      "18\n",
      "[7, 8, 32, 42, 65, 32, 71, 2, 78, 1, 87, 89]\n",
      "swap done!\n",
      "19\n",
      "[7, 8, 32, 42, 65, 32, 71, 2, 1, 78, 87, 89]\n",
      "swap done!\n",
      "20\n",
      "[7, 8, 32, 42, 65, 32, 71, 2, 1, 78, 87, 89]\n",
      "no swap! \n",
      "[7, 8, 32, 42, 65, 32, 71, 2, 1, 78, 87, 89]\n",
      "no swap! \n",
      "[7, 8, 32, 42, 65, 32, 71, 2, 1, 78, 87, 89]\n",
      "no swap! \n",
      "[7, 8, 32, 42, 65, 32, 71, 2, 1, 78, 87, 89]\n",
      "no swap! \n",
      "[7, 8, 32, 42, 32, 65, 71, 2, 1, 78, 87, 89]\n",
      "swap done!\n",
      "21\n",
      "[7, 8, 32, 42, 32, 65, 71, 2, 1, 78, 87, 89]\n",
      "no swap! \n",
      "[7, 8, 32, 42, 32, 65, 2, 71, 1, 78, 87, 89]\n",
      "swap done!\n",
      "22\n",
      "[7, 8, 32, 42, 32, 65, 2, 1, 71, 78, 87, 89]\n",
      "swap done!\n",
      "23\n",
      "[7, 8, 32, 42, 32, 65, 2, 1, 71, 78, 87, 89]\n",
      "no swap! \n",
      "[7, 8, 32, 42, 32, 65, 2, 1, 71, 78, 87, 89]\n",
      "no swap! \n",
      "[7, 8, 32, 42, 32, 65, 2, 1, 71, 78, 87, 89]\n",
      "no swap! \n",
      "[7, 8, 32, 32, 42, 65, 2, 1, 71, 78, 87, 89]\n",
      "swap done!\n",
      "24\n",
      "[7, 8, 32, 32, 42, 65, 2, 1, 71, 78, 87, 89]\n",
      "no swap! \n",
      "[7, 8, 32, 32, 42, 2, 65, 1, 71, 78, 87, 89]\n",
      "swap done!\n",
      "25\n",
      "[7, 8, 32, 32, 42, 2, 1, 65, 71, 78, 87, 89]\n",
      "swap done!\n",
      "26\n",
      "[7, 8, 32, 32, 42, 2, 1, 65, 71, 78, 87, 89]\n",
      "no swap! \n",
      "[7, 8, 32, 32, 42, 2, 1, 65, 71, 78, 87, 89]\n",
      "no swap! \n",
      "[7, 8, 32, 32, 42, 2, 1, 65, 71, 78, 87, 89]\n",
      "no swap! \n",
      "[7, 8, 32, 32, 42, 2, 1, 65, 71, 78, 87, 89]\n",
      "no swap! \n",
      "[7, 8, 32, 32, 2, 42, 1, 65, 71, 78, 87, 89]\n",
      "swap done!\n",
      "27\n",
      "[7, 8, 32, 32, 2, 1, 42, 65, 71, 78, 87, 89]\n",
      "swap done!\n",
      "28\n",
      "[7, 8, 32, 32, 2, 1, 42, 65, 71, 78, 87, 89]\n",
      "no swap! \n",
      "[7, 8, 32, 32, 2, 1, 42, 65, 71, 78, 87, 89]\n",
      "no swap! \n",
      "[7, 8, 32, 32, 2, 1, 42, 65, 71, 78, 87, 89]\n",
      "no swap! \n",
      "[7, 8, 32, 2, 32, 1, 42, 65, 71, 78, 87, 89]\n",
      "swap done!\n",
      "29\n",
      "[7, 8, 32, 2, 1, 32, 42, 65, 71, 78, 87, 89]\n",
      "swap done!\n",
      "30\n",
      "[7, 8, 32, 2, 1, 32, 42, 65, 71, 78, 87, 89]\n",
      "no swap! \n",
      "[7, 8, 32, 2, 1, 32, 42, 65, 71, 78, 87, 89]\n",
      "no swap! \n",
      "[7, 8, 2, 32, 1, 32, 42, 65, 71, 78, 87, 89]\n",
      "swap done!\n",
      "31\n",
      "[7, 8, 2, 1, 32, 32, 42, 65, 71, 78, 87, 89]\n",
      "swap done!\n",
      "32\n",
      "[7, 8, 2, 1, 32, 32, 42, 65, 71, 78, 87, 89]\n",
      "no swap! \n",
      "[7, 2, 8, 1, 32, 32, 42, 65, 71, 78, 87, 89]\n",
      "swap done!\n",
      "33\n",
      "[7, 2, 1, 8, 32, 32, 42, 65, 71, 78, 87, 89]\n",
      "swap done!\n",
      "34\n",
      "[2, 7, 1, 8, 32, 32, 42, 65, 71, 78, 87, 89]\n",
      "swap done!\n",
      "35\n",
      "[2, 1, 7, 8, 32, 32, 42, 65, 71, 78, 87, 89]\n",
      "swap done!\n",
      "36\n",
      "[1, 2, 7, 8, 32, 32, 42, 65, 71, 78, 87, 89]\n",
      "swap done!\n",
      "37\n",
      "37\n"
     ]
    },
    {
     "data": {
      "text/plain": [
       "[1, 2, 7, 8, 32, 32, 42, 65, 71, 78, 87, 89]"
      ]
     },
     "execution_count": 17,
     "metadata": {},
     "output_type": "execute_result"
    }
   ],
   "source": [
    "bubble_sort(data)"
   ]
  },
  {
   "cell_type": "code",
   "execution_count": 13,
   "metadata": {},
   "outputs": [],
   "source": [
    "db = [3,4,5,6,57,8,9]"
   ]
  },
  {
   "cell_type": "code",
   "execution_count": 14,
   "metadata": {},
   "outputs": [
    {
     "data": {
      "text/plain": [
       "range(0, 7)"
      ]
     },
     "execution_count": 14,
     "metadata": {},
     "output_type": "execute_result"
    }
   ],
   "source": [
    "range(len(db))"
   ]
  },
  {
   "cell_type": "code",
   "execution_count": 15,
   "metadata": {},
   "outputs": [
    {
     "name": "stdout",
     "output_type": "stream",
     "text": [
      "0\n",
      "0\n",
      "0\n",
      "0\n",
      "0\n",
      "0\n",
      "1\n",
      "1\n",
      "1\n",
      "1\n",
      "1\n",
      "2\n",
      "2\n",
      "2\n",
      "2\n",
      "3\n",
      "3\n",
      "3\n",
      "4\n",
      "4\n",
      "5\n"
     ]
    }
   ],
   "source": [
    "for i in range(len(db) -1):\n",
    "    for j in range(len(db)-1 -i):\n",
    "        print(i)\n",
    "    "
   ]
  },
  {
   "cell_type": "code",
   "execution_count": null,
   "metadata": {},
   "outputs": [],
   "source": []
  },
  {
   "cell_type": "code",
   "execution_count": null,
   "metadata": {},
   "outputs": [],
   "source": []
  }
 ],
 "metadata": {
  "kernelspec": {
   "display_name": "Python 3",
   "language": "python",
   "name": "python3"
  },
  "language_info": {
   "codemirror_mode": {
    "name": "ipython",
    "version": 3
   },
   "file_extension": ".py",
   "mimetype": "text/x-python",
   "name": "python",
   "nbconvert_exporter": "python",
   "pygments_lexer": "ipython3",
   "version": "3.8.10"
  }
 },
 "nbformat": 4,
 "nbformat_minor": 4
}
