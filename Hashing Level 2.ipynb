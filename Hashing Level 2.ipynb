{
 "cells": [
  {
   "cell_type": "code",
   "execution_count": null,
   "id": "dcfa0f29",
   "metadata": {},
   "outputs": [],
   "source": []
  },
  {
   "cell_type": "code",
   "execution_count": 47,
   "id": "10f4bff8",
   "metadata": {},
   "outputs": [],
   "source": []
  },
  {
   "cell_type": "code",
   "execution_count": null,
   "id": "666b3298",
   "metadata": {},
   "outputs": [],
   "source": [
    "#Check if Array Pairs are Divisible by K | Hashmap Interview Questions Explained"
   ]
  },
  {
   "cell_type": "code",
   "execution_count": 1,
   "id": "4a313365",
   "metadata": {},
   "outputs": [
    {
     "name": "stdout",
     "output_type": "stream",
     "text": [
      "{1: 0, 2: 0, 3: 0, 4: 0, 0: 0}\n",
      "{1: 2, 2: 2, 3: 2, 4: 2, 0: 3}\n"
     ]
    },
    {
     "data": {
      "text/plain": [
       "False"
      ]
     },
     "execution_count": 1,
     "metadata": {},
     "output_type": "execute_result"
    }
   ],
   "source": [
    "def pairs(arr , k):\n",
    "    memo = {}\n",
    "    \n",
    "    \n",
    "    for i in arr:\n",
    "        memo[i%k] = 0\n",
    "    \n",
    "    print(memo)\n",
    "    for i in arr:\n",
    "        memo[i%k] += 1 \n",
    "        \n",
    "     \n",
    "    print(memo)\n",
    "        \n",
    "    for i in arr:\n",
    "        rem = i%k\n",
    "        \n",
    "        if rem == 0:\n",
    "            fq = memo[rem]\n",
    "            if fq % 2 == 1:\n",
    "                return False\n",
    "            \n",
    "        elif 2 * rem == k:\n",
    "            fq = memo[rem]\n",
    "            if fq % 2 == 1:\n",
    "                return False\n",
    "            \n",
    "            \n",
    "            \n",
    "        else:\n",
    "            fq = memo[rem]\n",
    "            if k-rem not in memo:\n",
    "                ofq = 0\n",
    "            else:\n",
    "                ofq = memo[k-rem]\n",
    "            \n",
    "            if fq != ofq:\n",
    "                return False\n",
    "            \n",
    "            \n",
    "            \n",
    "    return True , memo\n",
    "    \n",
    "    \n",
    "    \n",
    "    \n",
    "    \n",
    "pairs([1,2,3,4,5,10,6,7,8,9, 15] , 5)"
   ]
  },
  {
   "cell_type": "code",
   "execution_count": null,
   "id": "ddf79547",
   "metadata": {},
   "outputs": [],
   "source": []
  },
  {
   "cell_type": "code",
   "execution_count": 7,
   "id": "b8232c3b",
   "metadata": {},
   "outputs": [],
   "source": [
    "#Distinct Elements in Windows of Size K \n",
    "#acquire\n",
    "\n",
    "#work\n",
    "\n",
    "#release"
   ]
  },
  {
   "cell_type": "code",
   "execution_count": 3,
   "id": "e7ac733d",
   "metadata": {},
   "outputs": [
    {
     "data": {
      "text/plain": [
       "[3, 3, 4, 3, 2, 3, 4, 3, 3, 2, 1, 2, 3]"
      ]
     },
     "execution_count": 3,
     "metadata": {},
     "output_type": "execute_result"
    }
   ],
   "source": [
    "def size_k(arr , k):\n",
    "    memo = {}\n",
    "    temp = []\n",
    "    for i in range(k-1):\n",
    "        memo[arr[i]] = 0\n",
    "        \n",
    "    for i in range(k-1):\n",
    "        memo[arr[i]] += 1\n",
    "        \n",
    "    i = k-1\n",
    "    j = 0\n",
    "    \n",
    "    while i < len(arr):\n",
    "        \n",
    "        #acquire\n",
    "        if arr[i] not in memo:\n",
    "            memo[arr[i]] = 0\n",
    "        \n",
    "        memo[arr[i]] += 1\n",
    "        \n",
    "        #work\n",
    "        temp.append(len(memo))\n",
    "        \n",
    "        #release\n",
    "        \n",
    "        count = memo[arr[j]]\n",
    "        if count == 1:\n",
    "            memo.pop(arr[j])\n",
    "            \n",
    "        else:\n",
    "            memo[arr[j]] -= 1\n",
    "            \n",
    "        i += 1\n",
    "        j += 1\n",
    "        \n",
    "    return temp\n",
    "\n",
    "\n",
    "            \n",
    "        \n",
    "size_k([2,5,5,6,3,2,3,2,4,5,2,2,2,2,5,6] , 4)        \n",
    "        \n",
    "        "
   ]
  },
  {
   "cell_type": "code",
   "execution_count": null,
   "id": "decadf40",
   "metadata": {},
   "outputs": [],
   "source": []
  },
  {
   "cell_type": "code",
   "execution_count": null,
   "id": "92a96024",
   "metadata": {},
   "outputs": [],
   "source": []
  },
  {
   "cell_type": "code",
   "execution_count": null,
   "id": "aafd060a",
   "metadata": {},
   "outputs": [],
   "source": [
    "#Largest Subarray with 0 Sum | Hashmap & Heaps"
   ]
  },
  {
   "cell_type": "code",
   "execution_count": 8,
   "id": "a8cd77f3",
   "metadata": {},
   "outputs": [
    {
     "data": {
      "text/plain": [
       "({0: 0, 2: 0, 10: 1, 7: 2, 4: 4, 6: 6, 9: 8, 11: 11}, 8)"
      ]
     },
     "execution_count": 8,
     "metadata": {},
     "output_type": "execute_result"
    }
   ],
   "source": [
    "def largest(arr):\n",
    "    \n",
    "    n = len(arr)\n",
    "    memo = {}\n",
    "    memo[0] = 0\n",
    "    maxi = float('-inf')\n",
    "    sum = 0\n",
    "    \n",
    "    for i in range(n):\n",
    "        sum += arr[i]\n",
    "        \n",
    "        if sum in memo:\n",
    "            maxi = max(maxi , i - memo[sum] )\n",
    "            \n",
    "        \n",
    "        else:\n",
    "            memo[sum] = i\n",
    "            \n",
    "        \n",
    "    \n",
    "    \n",
    "    return  memo , maxi\n",
    "\n",
    "\n",
    "largest([2,8,-3,-5,2,-4,6,1,2,1,-3,4])\n",
    "    \n",
    "    "
   ]
  },
  {
   "cell_type": "code",
   "execution_count": null,
   "id": "e0989d8d",
   "metadata": {},
   "outputs": [],
   "source": []
  },
  {
   "cell_type": "code",
   "execution_count": null,
   "id": "432dccb1",
   "metadata": {},
   "outputs": [],
   "source": []
  },
  {
   "cell_type": "code",
   "execution_count": null,
   "id": "ca6d53b0",
   "metadata": {},
   "outputs": [],
   "source": []
  },
  {
   "cell_type": "code",
   "execution_count": null,
   "id": "25623a10",
   "metadata": {},
   "outputs": [],
   "source": []
  },
  {
   "cell_type": "code",
   "execution_count": null,
   "id": "fdc9ea92",
   "metadata": {},
   "outputs": [],
   "source": [
    "# Count of Zero Sum Subarray using Hashmaps\n",
    "    def findSubArrays(self,arr,n):\n",
    "        memo = {}\n",
    "        count = 0\n",
    "        sum = arr[0]\n",
    "        if arr[0] == 0:\n",
    "            maxlen = 1\n",
    "        else:\n",
    "            maxlen = 0\n",
    "        memo[0] = -1\n",
    "        memo[arr[0]] = 0\n",
    "        \n",
    "        \n",
    "        for i in range(1 , len(arr)):\n",
    "            sum = sum + arr[i]\n",
    "            \n",
    "            if sum in memo.keys() :\n",
    "                \n",
    "                maxlen = max(maxlen , i-memo[sum])\n",
    "                count += 1\n",
    "                \n",
    "            \n",
    "            \n",
    "            if sum not in memo:\n",
    "                memo[sum] = 0\n",
    "                memo[sum] = i\n",
    "                \n",
    "            \n",
    "        \n",
    "        \n",
    "        return   count"
   ]
  },
  {
   "cell_type": "code",
   "execution_count": null,
   "id": "4c4be840",
   "metadata": {},
   "outputs": [],
   "source": []
  },
  {
   "cell_type": "code",
   "execution_count": null,
   "id": "cbb6c627",
   "metadata": {},
   "outputs": [],
   "source": []
  },
  {
   "cell_type": "code",
   "execution_count": null,
   "id": "d7bd25e5",
   "metadata": {},
   "outputs": [],
   "source": [
    "#Length of Largest Subarray with Contiguous Elements"
   ]
  },
  {
   "cell_type": "code",
   "execution_count": 15,
   "id": "f01a6bf0",
   "metadata": {},
   "outputs": [
    {
     "data": {
      "text/plain": [
       "6"
      ]
     },
     "execution_count": 15,
     "metadata": {},
     "output_type": "execute_result"
    }
   ],
   "source": [
    "def larg(arr):\n",
    "    \n",
    "    ans = 0\n",
    "    \n",
    "    for i in range(len(arr)-1):\n",
    "        maxi = arr[i]\n",
    "        mini = arr[i]\n",
    "        memo = {}\n",
    "        memo[arr[i]] = 1\n",
    "        \n",
    "        for j in range(i+1 , len(arr)):\n",
    "            if arr[j] in memo:\n",
    "                break\n",
    "                \n",
    "            memo[i] = 1\n",
    "            \n",
    "            maxi = max(maxi , arr[j])\n",
    "            mini = min(mini , arr[j])\n",
    "            \n",
    "            if (maxi - mini) == (j - i):\n",
    "                lenn = j-i+1\n",
    "                \n",
    "                ans = max(ans , lenn)\n",
    "    return ans\n",
    "\n",
    "\n",
    "larg([9,2,7,5,6,23,24,22,23,19,20,21,22])\n",
    "    \n",
    "    \n"
   ]
  },
  {
   "cell_type": "code",
   "execution_count": null,
   "id": "fac7d3a2",
   "metadata": {},
   "outputs": [],
   "source": []
  },
  {
   "cell_type": "code",
   "execution_count": null,
   "id": "b8ee1444",
   "metadata": {},
   "outputs": [],
   "source": [
    "#Longest Substring without Repeating Characters (Leetcode Medium) "
   ]
  },
  {
   "cell_type": "code",
   "execution_count": null,
   "id": "c3f770ec",
   "metadata": {},
   "outputs": [],
   "source": [
    "def longe(arr):\n",
    "    memo = {}\n",
    "    i = -1\n",
    "    j = -1\n",
    "    \n",
    "    while i < len(arr):\n",
    "        if arr[i] not in memo:\n",
    "            memo[arr[i]] = 0\n",
    "            \n",
    "        memo[arr[i]] += 1\n",
    "        \n",
    "        if memo[arr[i]] == 2:\n",
    "            break\n",
    "            \n",
    "        else:\n",
    "            \n",
    "            \n",
    "        \n",
    "            \n",
    "            \n",
    "    "
   ]
  },
  {
   "cell_type": "code",
   "execution_count": null,
   "id": "3be7adf5",
   "metadata": {},
   "outputs": [],
   "source": []
  },
  {
   "cell_type": "code",
   "execution_count": null,
   "id": "9a281c32",
   "metadata": {},
   "outputs": [],
   "source": []
  },
  {
   "cell_type": "code",
   "execution_count": null,
   "id": "29bbb62d",
   "metadata": {},
   "outputs": [],
   "source": []
  },
  {
   "cell_type": "code",
   "execution_count": null,
   "id": "9d5d88c0",
   "metadata": {},
   "outputs": [],
   "source": [
    "def distinct_window(arr , k):\n",
    "    memo = {}\n",
    "    temp = []\n",
    "    for i in range(k-1):\n",
    "        memo[arr[i]] = 0\n",
    "        \n",
    "    for i in range(k-1):\n",
    "        memo[arr[i]] += 1\n",
    "        \n",
    "        \n",
    "    i = 0\n",
    "    j = k-1\n",
    "    \n",
    "    while j < len(arr):\n",
    "        if arr[j] not in memo:\n",
    "            memo[arr[j]] = 0\n",
    "            memo[arr[j]] += 1\n",
    "            \n",
    "            print(memo)\n",
    "            \n",
    "            if memo[arr[i]] > 0:\n",
    "                memo[arr[i]] -= 1\n",
    "            temp.append(len(memo))\n",
    "            \n",
    "            \n",
    "        else:\n",
    "            memo[arr[j]] += 1\n",
    "            \n",
    "            if memo[arr[i]] == 1:\n",
    "                memo.pop([arr[i]]) \n",
    "                \n",
    "            elif memo[arr[i]] > 1:\n",
    "                memo[arr[i]] -= 1\n",
    "            \n",
    "            temp.append(len(memo))\n",
    "            \n",
    "        i += 1\n",
    "        j += 1\n",
    "            \n",
    "            \n",
    "        \n",
    "        \n",
    "    return  memo , temp\n",
    "    \n",
    "    \n",
    "    \n",
    "distinct_window([1,2,1,3,4,2,3] , 4)"
   ]
  },
  {
   "cell_type": "code",
   "execution_count": null,
   "id": "afe0bd79",
   "metadata": {},
   "outputs": [],
   "source": []
  },
  {
   "cell_type": "code",
   "execution_count": null,
   "id": "423a174c",
   "metadata": {},
   "outputs": [],
   "source": []
  },
  {
   "cell_type": "code",
   "execution_count": null,
   "id": "e6a7d7b9",
   "metadata": {},
   "outputs": [],
   "source": [
    "#Subarray Sum Equals K | Count Subarrays with Sum Equals K | "
   ]
  },
  {
   "cell_type": "code",
   "execution_count": 12,
   "id": "eb6e0cf9",
   "metadata": {},
   "outputs": [
    {
     "name": "stdout",
     "output_type": "stream",
     "text": [
      "{0: 1}\n",
      "{0: 1, 3: 1}\n",
      "{0: 1, 3: 1, 12: 1}\n",
      "{0: 1, 3: 1, 12: 1, 10: 1}\n",
      "{0: 1, 3: 1, 12: 1, 10: 1, 14: 1}\n",
      "{0: 1, 3: 1, 12: 1, 10: 1, 14: 1, 15: 1}\n",
      "{0: 1, 3: 1, 12: 1, 10: 1, 14: 1, 15: 1, 8: 1}\n",
      "{0: 1, 3: 1, 12: 1, 10: 2, 14: 1, 15: 1, 8: 1}\n",
      "{0: 1, 3: 1, 12: 1, 10: 2, 14: 1, 15: 1, 8: 1, 16: 1}\n",
      "{0: 1, 3: 1, 12: 1, 10: 2, 14: 1, 15: 1, 8: 1, 16: 1, 11: 1}\n",
      "{0: 1, 3: 1, 12: 1, 10: 2, 14: 1, 15: 1, 8: 1, 16: 1, 11: 1, 19: 1}\n",
      "{0: 1, 3: 1, 12: 1, 10: 2, 14: 1, 15: 1, 8: 1, 16: 2, 11: 1, 19: 1}\n"
     ]
    },
    {
     "data": {
      "text/plain": [
       "4"
      ]
     },
     "execution_count": 12,
     "metadata": {},
     "output_type": "execute_result"
    }
   ],
   "source": [
    "def sum_sub(arr , k):\n",
    "    ans = 0\n",
    "    summ = 0\n",
    "    memo = {}\n",
    "    memo[0] = 1\n",
    "    \n",
    "    i = 0\n",
    "    \n",
    "    \n",
    "    while i < len(arr):\n",
    "        summ += arr[i]\n",
    "        \n",
    "        rem = summ - k\n",
    "        \n",
    "        if rem in memo:\n",
    "            ans += memo[rem]\n",
    "        \n",
    "        \n",
    "        \n",
    "    \n",
    "        \n",
    "        f = summ in memo\n",
    "        print(memo)  \n",
    "        #print(f)\n",
    "        if f:\n",
    "            memo[summ] = memo[summ] + 1\n",
    "            \n",
    "        else:\n",
    "            memo[summ] = 1\n",
    "        \n",
    "        \n",
    "            \n",
    "        \n",
    "        \n",
    "            \n",
    "        i += 1\n",
    "        \n",
    "    return ans\n",
    "\n",
    "sum_sub([3,9,-2,4,1,-7,2,6,-5,8,-3,-7] , 5)\n",
    "    "
   ]
  },
  {
   "cell_type": "code",
   "execution_count": null,
   "id": "5840a401",
   "metadata": {},
   "outputs": [],
   "source": []
  },
  {
   "cell_type": "code",
   "execution_count": null,
   "id": "a8ba1828",
   "metadata": {},
   "outputs": [],
   "source": [
    "#Longest Subarray with Sum Divisible by K | "
   ]
  },
  {
   "cell_type": "code",
   "execution_count": 31,
   "id": "4973e0ff",
   "metadata": {},
   "outputs": [
    {
     "name": "stdout",
     "output_type": "stream",
     "text": [
      "=> 2\n",
      "=> 3\n",
      "=> 4\n"
     ]
    },
    {
     "data": {
      "text/plain": [
       "({0: -1, 2: 0, 1: 3}, 4)"
      ]
     },
     "execution_count": 31,
     "metadata": {},
     "output_type": "execute_result"
    }
   ],
   "source": [
    "def div_k(arr , k):\n",
    "    ans = 0\n",
    "    summ = 0\n",
    "    \n",
    "    memo = {}\n",
    "    memo[0] = -1\n",
    "    \n",
    "    for i in range(len(arr)):\n",
    "        summ += arr[i]\n",
    "        rem = summ % k\n",
    "        \n",
    "        if rem < 0:\n",
    "            rem = rem + k\n",
    "        \n",
    "        \n",
    "        if rem in memo:\n",
    "            leng = i - memo[rem]\n",
    "            \n",
    "            if leng > ans:\n",
    "                print('=>',leng)\n",
    "                ans = leng\n",
    "            \n",
    "        else:\n",
    "            memo[rem] = i\n",
    "            \n",
    "    return memo , ans\n",
    "\n",
    "#5,8,-3,-9,-7,4,11,2,9,-16,8,-4\n",
    "div_k([2, 7, 6, 1, 4, 5] , 3)"
   ]
  },
  {
   "cell_type": "code",
   "execution_count": null,
   "id": "b744c88a",
   "metadata": {},
   "outputs": [],
   "source": []
  },
  {
   "cell_type": "code",
   "execution_count": 32,
   "id": "833a699b",
   "metadata": {},
   "outputs": [],
   "source": [
    "#Subarrays Sums Divisible by K (Leetcode 974) "
   ]
  },
  {
   "cell_type": "code",
   "execution_count": 38,
   "id": "e12c7de7",
   "metadata": {},
   "outputs": [
    {
     "data": {
      "text/plain": [
       "({0: 2, 4: 4, 2: 1}, 7)"
      ]
     },
     "execution_count": 38,
     "metadata": {},
     "output_type": "execute_result"
    }
   ],
   "source": [
    "def divi_k(arr , k):\n",
    "    ans = 0\n",
    "    summ = 0\n",
    "    count = 0\n",
    "    memo = {}\n",
    "    memo[0] = 1\n",
    "    \n",
    "    for i in range(len(arr)):\n",
    "        summ += arr[i]\n",
    "        rem = summ % k\n",
    "        \n",
    "        if rem < 0:\n",
    "            rem = rem + k\n",
    "        \n",
    "        \n",
    "        if rem in memo:\n",
    "            count += memo[rem]\n",
    "            memo[rem] += 1\n",
    "            \n",
    "            \n",
    "            \n",
    "        else:\n",
    "            memo[rem] = 1\n",
    "            \n",
    "            \n",
    "    return  memo , count\n",
    "    \n",
    "    \n",
    "    \n",
    "    \n",
    "divi_k([4,5,0,-2,-3,1] , 5)"
   ]
  },
  {
   "cell_type": "code",
   "execution_count": 3,
   "id": "da9a1b05",
   "metadata": {},
   "outputs": [],
   "source": []
  },
  {
   "cell_type": "code",
   "execution_count": null,
   "id": "4b28461c",
   "metadata": {},
   "outputs": [],
   "source": []
  },
  {
   "cell_type": "code",
   "execution_count": null,
   "id": "0167618e",
   "metadata": {},
   "outputs": [],
   "source": [
    "#Contiguous Array (Leetcode 525) Solution | Longest Subarray with Equal 0's and 1's"
   ]
  },
  {
   "cell_type": "code",
   "execution_count": 41,
   "id": "32857c6c",
   "metadata": {},
   "outputs": [
    {
     "data": {
      "text/plain": [
       "({0: -1, -1: 0, -2: 3, 1: 6, 2: 7, 3: 8}, 6)"
      ]
     },
     "execution_count": 41,
     "metadata": {},
     "output_type": "execute_result"
    }
   ],
   "source": [
    "def conti(arr):\n",
    "    \n",
    "    sum = 0\n",
    "    memo = {}\n",
    "    memo[0] = -1\n",
    "    ans = 0\n",
    "    \n",
    "    for i in range(len(arr)):\n",
    "        \n",
    "        if arr[i] == 0:\n",
    "            arr[i] = -1\n",
    "        \n",
    "        sum += arr[i]\n",
    "        \n",
    "        if sum in memo:\n",
    "            leng = (i - memo[sum])\n",
    "            \n",
    "            ans = max(leng , ans)\n",
    "        else:\n",
    "            memo[sum] = i\n",
    "            \n",
    "    return memo , ans\n",
    "\n",
    "conti([0,1,0,0,1,1,1,1,1,0,0,1,0])"
   ]
  },
  {
   "cell_type": "code",
   "execution_count": null,
   "id": "aef9084a",
   "metadata": {},
   "outputs": [],
   "source": []
  },
  {
   "cell_type": "code",
   "execution_count": null,
   "id": "2eb8afe0",
   "metadata": {},
   "outputs": [],
   "source": []
  },
  {
   "cell_type": "code",
   "execution_count": null,
   "id": "6e53b558",
   "metadata": {},
   "outputs": [],
   "source": [
    "#Count of Subarrays with Equal 0 and 1"
   ]
  },
  {
   "cell_type": "code",
   "execution_count": 47,
   "id": "6f765ceb",
   "metadata": {},
   "outputs": [
    {
     "data": {
      "text/plain": [
       "8"
      ]
     },
     "execution_count": 47,
     "metadata": {},
     "output_type": "execute_result"
    }
   ],
   "source": [
    "def cnt(arr):\n",
    "    ans = 0\n",
    "    summ = 0\n",
    "    memo = {}\n",
    "    memo[0] = 1\n",
    "    \n",
    "    i = 0\n",
    "    \n",
    "    \n",
    "    while i < len(arr):\n",
    "        if arr[i] == 0:\n",
    "            arr[i] = -1\n",
    "            \n",
    "        summ += arr[i]\n",
    "        \n",
    "        \n",
    "        \n",
    "        if summ in memo:\n",
    "            ans += memo[summ]\n",
    "            \n",
    "            memo[summ] = memo[summ] + 1\n",
    "            \n",
    "        else:\n",
    "            memo[summ] = 1    \n",
    "        i += 1\n",
    "        \n",
    "    return ans\n",
    "\n",
    "cnt([1,0,0,1,0,1,1] )\n",
    "#1,0,0,1,0,1,1     1,1,1,1,0     "
   ]
  },
  {
   "cell_type": "code",
   "execution_count": null,
   "id": "1e3f742a",
   "metadata": {},
   "outputs": [],
   "source": []
  },
  {
   "cell_type": "code",
   "execution_count": 48,
   "id": "ea59cda6",
   "metadata": {},
   "outputs": [],
   "source": [
    "# Python3 program to find substring with equal\n",
    "# number of 0's, 1's and 2's  \n",
    "#easy ------ easyy --- easyyy"
   ]
  },
  {
   "cell_type": "code",
   "execution_count": 49,
   "id": "d33442a7",
   "metadata": {},
   "outputs": [
    {
     "name": "stdout",
     "output_type": "stream",
     "text": [
      "2\n"
     ]
    }
   ],
   "source": [
    "\n",
    "\n",
    "# Method to count number of substring which\n",
    "# has equal 0, 1 and 2\n",
    "def getSubstringWithEqual012(string):\n",
    "\tn = len(string)\n",
    "\n",
    "\tmp = dict()\n",
    "\tmp[(0, 0)] = 1\n",
    "\n",
    "\n",
    "\tzc, oc, tc = 0, 0, 0\n",
    "\n",
    "\t# looping into string\n",
    "\tres = 0 # Initialize result\n",
    "\tfor i in range(n):\n",
    "\n",
    "\t\t# increasing the count of current character\n",
    "\t\tif string[i] == '0':\n",
    "\t\t\tzc += 1\n",
    "\t\telif string[i] == '1':\n",
    "\t\t\toc += 1\n",
    "\t\telse:\n",
    "\t\t\ttc += 1 # Assuming that string doesn't contain\n",
    "\t\t\t\t\t# other characters\n",
    "\n",
    "\t\t# making pair of differences (z[i] - o[i],\n",
    "\t\t# z[i] - t[i])\n",
    "\t\ttmp = (zc - oc, zc - tc)\n",
    "\n",
    "\n",
    "\t\tif tmp not in mp:\n",
    "\t\t\tres += 0\n",
    "\t\telse:\n",
    "\t\t\tres += mp[tmp]\n",
    "\n",
    "\t\t# increasing the count of current difference\n",
    "\t\t# pair by 1\n",
    "\t\tif tmp in mp:\n",
    "\t\t\tmp[tmp] += 1\n",
    "\t\telse:\n",
    "\t\t\tmp[tmp] = 1\n",
    "\n",
    "\treturn res\n",
    "\n",
    "\n",
    "if __name__ == \"__main__\":\n",
    "\tstring = \"0102010\"\n",
    "\tprint(getSubstringWithEqual012(string))\n",
    "\n"
   ]
  },
  {
   "cell_type": "code",
   "execution_count": null,
   "id": "1d912d4a",
   "metadata": {},
   "outputs": [],
   "source": []
  },
  {
   "cell_type": "code",
   "execution_count": null,
   "id": "d34c9215",
   "metadata": {},
   "outputs": [],
   "source": [
    "#Pairs with Equal Sum | Hashmap Interview Questions "
   ]
  },
  {
   "cell_type": "code",
   "execution_count": 53,
   "id": "cda151f7",
   "metadata": {},
   "outputs": [
    {
     "data": {
      "text/plain": [
       "True"
      ]
     },
     "execution_count": 53,
     "metadata": {},
     "output_type": "execute_result"
    }
   ],
   "source": [
    "def pairs(arr):\n",
    "    memo = {}\n",
    "    \n",
    "    \n",
    "    for i in range(len(arr)):\n",
    "        for j in range(i+1 , len(arr)):\n",
    "            if (arr[i] + arr[j]) in memo:\n",
    "                return True\n",
    "            else:\n",
    "                memo[arr[i] + arr[j]] = 1\n",
    "    return False\n",
    "\n",
    "pairs([2,9,3,5,8,6,4])\n",
    "                "
   ]
  },
  {
   "cell_type": "code",
   "execution_count": null,
   "id": "70e50782",
   "metadata": {},
   "outputs": [],
   "source": []
  },
  {
   "cell_type": "code",
   "execution_count": null,
   "id": "b4bf1e54",
   "metadata": {},
   "outputs": [],
   "source": [
    "#Arithmetic Sequence"
   ]
  },
  {
   "cell_type": "code",
   "execution_count": 55,
   "id": "24baf5a2",
   "metadata": {},
   "outputs": [
    {
     "data": {
      "text/plain": [
       "False"
      ]
     },
     "execution_count": 55,
     "metadata": {},
     "output_type": "execute_result"
    }
   ],
   "source": [
    "def arith(arr):\n",
    "    \n",
    "    n = len(arr)\n",
    "    if n <= 1:\n",
    "        return True\n",
    "    maxi = max(arr)\n",
    "    mini = min(arr)\n",
    "    \n",
    "    d = ((maxi - mini) // (n-1))\n",
    "    memo = {}\n",
    "    for i in range(n):\n",
    "        memo[arr[i]] = True\n",
    "        \n",
    "    for i in range(n):\n",
    "        if (mini + (i*d)) not in memo:\n",
    "            return False\n",
    "        \n",
    "    return True\n",
    "\n",
    "arith([19,9,5,29,1,25,13,37,21,33])\n",
    "        "
   ]
  },
  {
   "cell_type": "code",
   "execution_count": null,
   "id": "e83bf91d",
   "metadata": {},
   "outputs": [],
   "source": []
  },
  {
   "cell_type": "code",
   "execution_count": null,
   "id": "9bb3a146",
   "metadata": {},
   "outputs": [],
   "source": []
  },
  {
   "cell_type": "code",
   "execution_count": null,
   "id": "363933ef",
   "metadata": {},
   "outputs": [],
   "source": []
  },
  {
   "cell_type": "code",
   "execution_count": null,
   "id": "6b69d447",
   "metadata": {},
   "outputs": [],
   "source": []
  },
  {
   "cell_type": "code",
   "execution_count": null,
   "id": "5110bac1",
   "metadata": {},
   "outputs": [],
   "source": []
  },
  {
   "cell_type": "code",
   "execution_count": null,
   "id": "82614563",
   "metadata": {},
   "outputs": [],
   "source": []
  },
  {
   "cell_type": "code",
   "execution_count": null,
   "id": "f691e91e",
   "metadata": {},
   "outputs": [],
   "source": []
  },
  {
   "cell_type": "code",
   "execution_count": null,
   "id": "59dfd759",
   "metadata": {},
   "outputs": [],
   "source": []
  },
  {
   "cell_type": "code",
   "execution_count": null,
   "id": "bacd4a79",
   "metadata": {},
   "outputs": [],
   "source": []
  }
 ],
 "metadata": {
  "kernelspec": {
   "display_name": "Python 3",
   "language": "python",
   "name": "python3"
  },
  "language_info": {
   "codemirror_mode": {
    "name": "ipython",
    "version": 3
   },
   "file_extension": ".py",
   "mimetype": "text/x-python",
   "name": "python",
   "nbconvert_exporter": "python",
   "pygments_lexer": "ipython3",
   "version": "3.8.10"
  }
 },
 "nbformat": 4,
 "nbformat_minor": 5
}
