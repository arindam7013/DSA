{
 "cells": [
  {
   "cell_type": "code",
   "execution_count": 1,
   "id": "284322b3",
   "metadata": {},
   "outputs": [],
   "source": [
    "# Max sum path in two arrays"
   ]
  },
  {
   "cell_type": "code",
   "execution_count": 3,
   "id": "c8c4096f",
   "metadata": {},
   "outputs": [
    {
     "data": {
      "text/plain": [
       "122"
      ]
     },
     "execution_count": 3,
     "metadata": {},
     "output_type": "execute_result"
    }
   ],
   "source": [
    "def mxp(arr1 , arr2):\n",
    "    i = 0\n",
    "    j = 0\n",
    "    sum1 = 0\n",
    "    sum2 = 0\n",
    "    result = 0\n",
    "    \n",
    "    while i < len(arr1) and j < len(arr2):\n",
    "        \n",
    "        if arr1[i] > arr2[j]:\n",
    "            sum2 += arr2[j]\n",
    "            j += 1\n",
    "            \n",
    "        elif arr1[i] < arr2[j]:\n",
    "            sum1 += arr1[i]\n",
    "            i += 1\n",
    "            \n",
    "        else:\n",
    "            result += (max(sum1 , sum2)) + arr1[i]\n",
    "            sum1 = 0\n",
    "            sum2 = 0\n",
    "            i += 1\n",
    "            j += 1\n",
    "            \n",
    "    while i < len(arr1):\n",
    "        sum1 += arr1[i]\n",
    "        i += 1\n",
    "        \n",
    "    while j < len(arr2):\n",
    "        sum2 += arr2[j]\n",
    "        j += 1\n",
    "        \n",
    "    result += max(sum1 , sum2)\n",
    "    \n",
    "    return result\n",
    "\n",
    "\n",
    "mxp([2, 3, 7, 10, 12, 15, 30, 34] , [1, 5, 7, 8, 10, 15, 16, 19])"
   ]
  },
  {
   "cell_type": "code",
   "execution_count": null,
   "id": "edd65ebc",
   "metadata": {},
   "outputs": [],
   "source": []
  }
 ],
 "metadata": {
  "kernelspec": {
   "display_name": "Python 3",
   "language": "python",
   "name": "python3"
  },
  "language_info": {
   "codemirror_mode": {
    "name": "ipython",
    "version": 3
   },
   "file_extension": ".py",
   "mimetype": "text/x-python",
   "name": "python",
   "nbconvert_exporter": "python",
   "pygments_lexer": "ipython3",
   "version": "3.8.10"
  }
 },
 "nbformat": 4,
 "nbformat_minor": 5
}
