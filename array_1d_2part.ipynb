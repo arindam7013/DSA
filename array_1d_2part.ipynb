{
 "cells": [
  {
   "cell_type": "code",
   "execution_count": 1,
   "id": "3d28340f",
   "metadata": {},
   "outputs": [],
   "source": [
    "#c13      find Largest sum contiguous Subarray [V. IMP]"
   ]
  },
  {
   "cell_type": "code",
   "execution_count": 3,
   "id": "6dc492e6",
   "metadata": {},
   "outputs": [],
   "source": [
    "a = [3,-4,5,6]"
   ]
  },
  {
   "cell_type": "code",
   "execution_count": 4,
   "id": "ee870148",
   "metadata": {},
   "outputs": [],
   "source": [
    "def kadane(a):\n",
    "    sum = 0\n",
    "    maxsum = float('-inf')\n",
    "    for i in range(len(a)):\n",
    "        sum = sum + a[i]\n",
    "        if sum > maxsum:\n",
    "            maxsum = sum\n",
    "        if sum < 0:\n",
    "            sum = 0\n",
    "        \n",
    "    return sum\n",
    "        \n",
    "        \n",
    "        \n",
    "    "
   ]
  },
  {
   "cell_type": "code",
   "execution_count": 5,
   "id": "69379f43",
   "metadata": {},
   "outputs": [
    {
     "data": {
      "text/plain": [
       "11"
      ]
     },
     "execution_count": 5,
     "metadata": {},
     "output_type": "execute_result"
    }
   ],
   "source": [
    "kadane(a)"
   ]
  },
  {
   "cell_type": "code",
   "execution_count": 1,
   "id": "7e443ccf",
   "metadata": {},
   "outputs": [],
   "source": [
    "arr = [1,5,8,10]\n",
    "k = 2\n"
   ]
  },
  {
   "cell_type": "code",
   "execution_count": 3,
   "id": "0afbee51",
   "metadata": {},
   "outputs": [
    {
     "name": "stdout",
     "output_type": "stream",
     "text": [
      "Plus [3]\n",
      "Plus [3, 7]\n",
      "Plus [3, 7, 10]\n",
      "Plus [3, 7, 10, 12]\n",
      "minus-> [-1]\n",
      "minus-> [-1, 3]\n",
      "minus-> [-1, 3, 6]\n",
      "minus-> [-1, 3, 6, 8]\n",
      "9\n"
     ]
    }
   ],
   "source": [
    "sum = 0\n",
    "plus = []\n",
    "minus = []\n",
    "for i in range(len(arr)):\n",
    "    plus.append(arr[i] + k)\n",
    "    print(\"Plus\", plus)\n",
    "for i in range(len(arr)):\n",
    "    minus.append(arr[i] - k)\n",
    "    print(\"minus->\", minus)\n",
    "\n",
    "if max(plus) - min(plus) > max(minus) - min(minus):\n",
    "    print(\"here->\",max(plus) - min(plus))\n",
    "    \n",
    "else:\n",
    "    print(max(minus) - min(minus))\n",
    "    \n",
    "\n",
    "\n"
   ]
  },
  {
   "cell_type": "code",
   "execution_count": null,
   "id": "da209986",
   "metadata": {},
   "outputs": [],
   "source": []
  },
  {
   "cell_type": "code",
   "execution_count": null,
   "id": "71e849dc",
   "metadata": {},
   "outputs": [],
   "source": []
  },
  {
   "cell_type": "code",
   "execution_count": null,
   "id": "b90a98ed",
   "metadata": {},
   "outputs": [],
   "source": []
  }
 ],
 "metadata": {
  "kernelspec": {
   "display_name": "Python 3",
   "language": "python",
   "name": "python3"
  },
  "language_info": {
   "codemirror_mode": {
    "name": "ipython",
    "version": 3
   },
   "file_extension": ".py",
   "mimetype": "text/x-python",
   "name": "python",
   "nbconvert_exporter": "python",
   "pygments_lexer": "ipython3",
   "version": "3.8.10"
  }
 },
 "nbformat": 4,
 "nbformat_minor": 5
}
