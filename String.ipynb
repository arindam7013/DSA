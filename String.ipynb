{
 "cells": [
  {
   "cell_type": "code",
   "execution_count": 4,
   "id": "1b07c052",
   "metadata": {},
   "outputs": [],
   "source": [
    "t = 'good'"
   ]
  },
  {
   "cell_type": "code",
   "execution_count": 6,
   "id": "5e2efd85",
   "metadata": {},
   "outputs": [
    {
     "ename": "TypeError",
     "evalue": "'str' object does not support item assignment",
     "output_type": "error",
     "traceback": [
      "\u001b[1;31m---------------------------------------------------------------------------\u001b[0m",
      "\u001b[1;31mTypeError\u001b[0m                                 Traceback (most recent call last)",
      "\u001b[1;32m<ipython-input-6-323ac25e7106>\u001b[0m in \u001b[0;36m<module>\u001b[1;34m\u001b[0m\n\u001b[1;32m----> 1\u001b[1;33m \u001b[0mt\u001b[0m\u001b[1;33m[\u001b[0m\u001b[1;36m0\u001b[0m\u001b[1;33m]\u001b[0m\u001b[1;33m,\u001b[0m \u001b[0mt\u001b[0m\u001b[1;33m[\u001b[0m\u001b[1;36m2\u001b[0m\u001b[1;33m]\u001b[0m \u001b[1;33m=\u001b[0m \u001b[0mt\u001b[0m\u001b[1;33m[\u001b[0m\u001b[1;36m2\u001b[0m\u001b[1;33m]\u001b[0m\u001b[1;33m,\u001b[0m \u001b[0mt\u001b[0m\u001b[1;33m[\u001b[0m\u001b[1;36m0\u001b[0m\u001b[1;33m]\u001b[0m\u001b[1;33m\u001b[0m\u001b[1;33m\u001b[0m\u001b[0m\n\u001b[0m",
      "\u001b[1;31mTypeError\u001b[0m: 'str' object does not support item assignment"
     ]
    }
   ],
   "source": [
    "t[0], t[2] = t[2], t[0]"
   ]
  },
  {
   "cell_type": "code",
   "execution_count": 5,
   "id": "1d70ac40",
   "metadata": {},
   "outputs": [],
   "source": [
    "string = 'arindam'"
   ]
  },
  {
   "cell_type": "code",
   "execution_count": 6,
   "id": "5eccfc40",
   "metadata": {},
   "outputs": [
    {
     "data": {
      "text/plain": [
       "'ar'"
      ]
     },
     "execution_count": 6,
     "metadata": {},
     "output_type": "execute_result"
    }
   ],
   "source": [
    "string = string[:2] #+ '0'\n",
    "string"
   ]
  },
  {
   "cell_type": "code",
   "execution_count": 44,
   "id": "8d5b09de",
   "metadata": {},
   "outputs": [],
   "source": [
    "string = string[:2] + '0' + string[2+1:] "
   ]
  },
  {
   "cell_type": "code",
   "execution_count": 45,
   "id": "24bc0fed",
   "metadata": {},
   "outputs": [
    {
     "data": {
      "text/plain": [
       "'ar0ndam'"
      ]
     },
     "execution_count": 45,
     "metadata": {},
     "output_type": "execute_result"
    }
   ],
   "source": [
    "string"
   ]
  },
  {
   "cell_type": "code",
   "execution_count": 30,
   "id": "143dae73",
   "metadata": {},
   "outputs": [],
   "source": [
    "string = string[:1] + '0' + string[1+1:]"
   ]
  },
  {
   "cell_type": "code",
   "execution_count": 31,
   "id": "ccf5f57a",
   "metadata": {},
   "outputs": [
    {
     "data": {
      "text/plain": [
       "'a0indam'"
      ]
     },
     "execution_count": 31,
     "metadata": {},
     "output_type": "execute_result"
    }
   ],
   "source": [
    "string"
   ]
  },
  {
   "cell_type": "code",
   "execution_count": 25,
   "id": "7a6a6859",
   "metadata": {},
   "outputs": [],
   "source": [
    "def reve(s):\n",
    "    rev = ''\n",
    "    for i in range(len(s)-1, -1, -1):\n",
    "        rev = rev + s[i]\n",
    "    print(rev)\n",
    "    \n",
    "    if rev == s:\n",
    "        print(\"Pali\")\n",
    "    else:\n",
    "        print(\"No\")\n",
    "    "
   ]
  },
  {
   "cell_type": "code",
   "execution_count": null,
   "id": "66b199b5",
   "metadata": {},
   "outputs": [],
   "source": []
  },
  {
   "cell_type": "code",
   "execution_count": 26,
   "id": "b64f7252",
   "metadata": {},
   "outputs": [
    {
     "name": "stdout",
     "output_type": "stream",
     "text": [
      "madnira\n",
      "No\n"
     ]
    }
   ],
   "source": [
    "reve(s)"
   ]
  },
  {
   "cell_type": "code",
   "execution_count": null,
   "id": "151c384a",
   "metadata": {},
   "outputs": [],
   "source": [
    "def rev(s,i,j):\n",
    "    if len(s) == 0:\n",
    "        return None\n",
    "    else:\n",
    "        s[i], s[j] = s[j] , s[i]\n",
    "        return rev(s,i+1,j-1)\n",
    "        \n",
    "rev(s,0,len(s)-1)\n",
    "\n",
    "        \n",
    "    "
   ]
  },
  {
   "cell_type": "code",
   "execution_count": 7,
   "id": "8eadc4f7",
   "metadata": {},
   "outputs": [],
   "source": [
    "#Write a Code to check whether one string is a rotation of another\n",
    "def areRotations(string1, string2):\n",
    "    size1 = len(string1)\n",
    "    size2 = len(string2)\n",
    "    temp = ''\n",
    " \n",
    "    # Check if sizes of two strings are same\n",
    "    if size1 != size2:\n",
    "        return 0\n",
    " \n",
    "    # Create a temp string with value str1.str1\n",
    "    temp = string1 + string1\n",
    "\n",
    "    if (temp.count(string2)> 0):\n",
    "        return 1\n",
    "    else:\n",
    "        return 0"
   ]
  },
  {
   "cell_type": "code",
   "execution_count": 9,
   "id": "82f15a93",
   "metadata": {},
   "outputs": [
    {
     "data": {
      "text/plain": [
       "0"
      ]
     },
     "execution_count": 9,
     "metadata": {},
     "output_type": "execute_result"
    }
   ],
   "source": [
    "areRotations('ABCD', 'CFAB')"
   ]
  },
  {
   "cell_type": "code",
   "execution_count": null,
   "id": "f12daa60",
   "metadata": {},
   "outputs": [],
   "source": []
  },
  {
   "cell_type": "code",
   "execution_count": null,
   "id": "5f0866f4",
   "metadata": {},
   "outputs": [],
   "source": []
  },
  {
   "cell_type": "code",
   "execution_count": 23,
   "id": "447eb376",
   "metadata": {},
   "outputs": [],
   "source": [
    "def long_sub(str):\n",
    "    rev = ''\n",
    "    \n",
    "    for i in range(len(str)-1):\n",
    "        \n",
    "        for j in range(len(str)-1 , i-1, -1):\n",
    "            rev = rev + str[j]\n",
    "            #print(rev)\n",
    "            \n",
    "            \n",
    "        if rev == str[i:j]:\n",
    "            fin = rev\n",
    "            print(fin)\n",
    "        else:\n",
    "            rev = ''\n",
    "            #print(rev)\n",
    "            \n",
    "            \n",
    "            \n",
    "long_sub(\"ahhfd\")"
   ]
  },
  {
   "cell_type": "code",
   "execution_count": null,
   "id": "d4dd3385",
   "metadata": {},
   "outputs": [],
   "source": []
  },
  {
   "cell_type": "code",
   "execution_count": 24,
   "id": "f76fb0c3",
   "metadata": {},
   "outputs": [],
   "source": [
    "array = [3,4,5,6,7]"
   ]
  },
  {
   "cell_type": "code",
   "execution_count": 25,
   "id": "725f1b7e",
   "metadata": {},
   "outputs": [
    {
     "data": {
      "text/plain": [
       "5"
      ]
     },
     "execution_count": 25,
     "metadata": {},
     "output_type": "execute_result"
    }
   ],
   "source": [
    "array[2]"
   ]
  },
  {
   "cell_type": "code",
   "execution_count": 26,
   "id": "f7805d02",
   "metadata": {},
   "outputs": [
    {
     "name": "stderr",
     "output_type": "stream",
     "text": [
      "<>:1: SyntaxWarning: 'int' object is not subscriptable; perhaps you missed a comma?\n",
      "<>:1: SyntaxWarning: 'int' object is not subscriptable; perhaps you missed a comma?\n",
      "<ipython-input-26-a3442d5a2978>:1: SyntaxWarning: 'int' object is not subscriptable; perhaps you missed a comma?\n",
      "  2[array]\n"
     ]
    },
    {
     "ename": "TypeError",
     "evalue": "'int' object is not subscriptable",
     "output_type": "error",
     "traceback": [
      "\u001b[1;31m---------------------------------------------------------------------------\u001b[0m",
      "\u001b[1;31mTypeError\u001b[0m                                 Traceback (most recent call last)",
      "\u001b[1;32m<ipython-input-26-a3442d5a2978>\u001b[0m in \u001b[0;36m<module>\u001b[1;34m\u001b[0m\n\u001b[1;32m----> 1\u001b[1;33m \u001b[1;36m2\u001b[0m\u001b[1;33m[\u001b[0m\u001b[0marray\u001b[0m\u001b[1;33m]\u001b[0m\u001b[1;33m\u001b[0m\u001b[1;33m\u001b[0m\u001b[0m\n\u001b[0m",
      "\u001b[1;31mTypeError\u001b[0m: 'int' object is not subscriptable"
     ]
    }
   ],
   "source": [
    "2[array]"
   ]
  },
  {
   "cell_type": "code",
   "execution_count": null,
   "id": "f41d460c",
   "metadata": {},
   "outputs": [],
   "source": []
  }
 ],
 "metadata": {
  "kernelspec": {
   "display_name": "Python 3",
   "language": "python",
   "name": "python3"
  },
  "language_info": {
   "codemirror_mode": {
    "name": "ipython",
    "version": 3
   },
   "file_extension": ".py",
   "mimetype": "text/x-python",
   "name": "python",
   "nbconvert_exporter": "python",
   "pygments_lexer": "ipython3",
   "version": "3.8.10"
  }
 },
 "nbformat": 4,
 "nbformat_minor": 5
}
