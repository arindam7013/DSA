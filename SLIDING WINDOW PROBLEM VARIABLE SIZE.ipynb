{
 "cells": [
  {
   "cell_type": "code",
   "execution_count": 12,
   "id": "bab8a432",
   "metadata": {},
   "outputs": [],
   "source": [
    "# Longest sub-array of sum k only positive numbers"
   ]
  },
  {
   "cell_type": "code",
   "execution_count": 21,
   "id": "12d1f95d",
   "metadata": {},
   "outputs": [
    {
     "data": {
      "text/plain": [
       "4"
      ]
     },
     "execution_count": 21,
     "metadata": {},
     "output_type": "execute_result"
    }
   ],
   "source": [
    "def larg_sub_arr(arr , k):\n",
    "    n = len(arr)\n",
    "    mx = 0\n",
    "    i = 0\n",
    "    j = 0\n",
    "    sum = 0\n",
    "    while j < n:\n",
    "        sum = sum + arr[j]\n",
    "        \n",
    "        if sum < k:\n",
    "            #sum = sum + arr[j]\n",
    "            j += 1\n",
    "            \n",
    "        #else:\n",
    "        elif sum == k:\n",
    "                mx = max(mx , j-i+1)\n",
    "                j += 1\n",
    "        \n",
    "        else:\n",
    "            while sum > k:\n",
    "                    \n",
    "                sum = sum - arr[i]\n",
    "                i += 1\n",
    "            j += 1\n",
    "        \n",
    "    return mx\n",
    "    \n",
    "\n",
    "    \n",
    "    \n",
    "larg_sub_arr([4,1,1,1,2,3,5] , 5)"
   ]
  },
  {
   "cell_type": "code",
   "execution_count": null,
   "id": "58b0e7db",
   "metadata": {},
   "outputs": [],
   "source": []
  },
  {
   "cell_type": "code",
   "execution_count": 57,
   "id": "8e46a78e",
   "metadata": {},
   "outputs": [
    {
     "name": "stdout",
     "output_type": "stream",
     "text": [
      "{'a': 1, 'b': 1, 'c': 1}\n"
     ]
    },
    {
     "ename": "KeyError",
     "evalue": "2",
     "output_type": "error",
     "traceback": [
      "\u001b[1;31m---------------------------------------------------------------------------\u001b[0m",
      "\u001b[1;31mKeyError\u001b[0m                                  Traceback (most recent call last)",
      "\u001b[1;32m<ipython-input-57-3693e20a2816>\u001b[0m in \u001b[0;36m<module>\u001b[1;34m\u001b[0m\n\u001b[0;32m     36\u001b[0m \u001b[1;33m\u001b[0m\u001b[0m\n\u001b[0;32m     37\u001b[0m \u001b[1;33m\u001b[0m\u001b[0m\n\u001b[1;32m---> 38\u001b[1;33m \u001b[0munique_string\u001b[0m\u001b[1;33m(\u001b[0m\u001b[1;34m'aabacebebebe'\u001b[0m \u001b[1;33m,\u001b[0m \u001b[1;36m3\u001b[0m\u001b[1;33m)\u001b[0m\u001b[1;33m\u001b[0m\u001b[1;33m\u001b[0m\u001b[0m\n\u001b[0m",
      "\u001b[1;32m<ipython-input-57-3693e20a2816>\u001b[0m in \u001b[0;36munique_string\u001b[1;34m(arr, k)\u001b[0m\n\u001b[0;32m     22\u001b[0m         \u001b[1;32melif\u001b[0m \u001b[0mlen\u001b[0m\u001b[1;33m(\u001b[0m\u001b[0mmemo\u001b[0m\u001b[1;33m)\u001b[0m \u001b[1;33m>\u001b[0m \u001b[0mk\u001b[0m\u001b[1;33m:\u001b[0m\u001b[1;33m\u001b[0m\u001b[1;33m\u001b[0m\u001b[0m\n\u001b[0;32m     23\u001b[0m             \u001b[1;32mwhile\u001b[0m \u001b[0mlen\u001b[0m\u001b[1;33m(\u001b[0m\u001b[0mmemo\u001b[0m\u001b[1;33m)\u001b[0m \u001b[1;33m>\u001b[0m \u001b[0mk\u001b[0m\u001b[1;33m:\u001b[0m\u001b[1;33m\u001b[0m\u001b[1;33m\u001b[0m\u001b[0m\n\u001b[1;32m---> 24\u001b[1;33m                 \u001b[0mmemo\u001b[0m\u001b[1;33m[\u001b[0m\u001b[0marr\u001b[0m\u001b[1;33m[\u001b[0m\u001b[0mi\u001b[0m\u001b[1;33m]\u001b[0m\u001b[1;33m]\u001b[0m \u001b[1;33m=\u001b[0m \u001b[0mmemo\u001b[0m\u001b[1;33m[\u001b[0m\u001b[0mi\u001b[0m\u001b[1;33m]\u001b[0m \u001b[1;33m-\u001b[0m \u001b[1;36m1\u001b[0m\u001b[1;33m\u001b[0m\u001b[1;33m\u001b[0m\u001b[0m\n\u001b[0m\u001b[0;32m     25\u001b[0m                 \u001b[0mi\u001b[0m \u001b[1;33m+=\u001b[0m \u001b[1;36m1\u001b[0m\u001b[1;33m\u001b[0m\u001b[1;33m\u001b[0m\u001b[0m\n\u001b[0;32m     26\u001b[0m             \u001b[0mj\u001b[0m \u001b[1;33m+=\u001b[0m \u001b[1;36m1\u001b[0m\u001b[1;33m\u001b[0m\u001b[1;33m\u001b[0m\u001b[0m\n",
      "\u001b[1;31mKeyError\u001b[0m: 2"
     ]
    }
   ],
   "source": [
    "def unique_string(arr , k):\n",
    "    n = len(arr)\n",
    "    i = 0\n",
    "    j = 0\n",
    "    mx = 0\n",
    "    memo = {}\n",
    "    ucount = 0\n",
    "    \n",
    "    \n",
    "    while j<n:\n",
    "        if arr[j] not in memo:\n",
    "            memo[arr[j]] = 1\n",
    "            \n",
    "        if len(memo) < k:\n",
    "            j += 1\n",
    "            \n",
    "        elif len(memo) == k:\n",
    "            for i in range(len(memo)):\n",
    "                mx = mx + memo[arr[i]]\n",
    "            print(memo)    \n",
    "            j += 1\n",
    "        elif len(memo) > k:\n",
    "            while len(memo) > k:\n",
    "                memo[arr[i]] = memo[i] - 1\n",
    "                i += 1\n",
    "            j += 1\n",
    "            \n",
    "            \n",
    "            \n",
    "    return memo\n",
    "        \n",
    "    \n",
    "            \n",
    "        \n",
    "    \n",
    "    \n",
    "    \n",
    "unique_string('aabacebebebe' , 3)"
   ]
  },
  {
   "cell_type": "code",
   "execution_count": null,
   "id": "826d54ca",
   "metadata": {},
   "outputs": [],
   "source": []
  },
  {
   "cell_type": "code",
   "execution_count": null,
   "id": "19c165f5",
   "metadata": {},
   "outputs": [],
   "source": []
  },
  {
   "cell_type": "code",
   "execution_count": 43,
   "id": "152db42a",
   "metadata": {},
   "outputs": [],
   "source": [
    "memo = {}\n",
    "count = 0\n",
    "memo[0] = 0\n",
    "memo[1] = count + 2\n"
   ]
  },
  {
   "cell_type": "code",
   "execution_count": 44,
   "id": "783448bb",
   "metadata": {},
   "outputs": [],
   "source": [
    "memo[0] = memo[0] + 5"
   ]
  },
  {
   "cell_type": "code",
   "execution_count": 49,
   "id": "c83648da",
   "metadata": {},
   "outputs": [
    {
     "data": {
      "text/plain": [
       "{0: 5, 1: 2}"
      ]
     },
     "execution_count": 49,
     "metadata": {},
     "output_type": "execute_result"
    }
   ],
   "source": [
    "memo"
   ]
  },
  {
   "cell_type": "code",
   "execution_count": 50,
   "id": "5ed253cd",
   "metadata": {},
   "outputs": [],
   "source": [
    "t = memo[0] + memo[1]"
   ]
  },
  {
   "cell_type": "code",
   "execution_count": 51,
   "id": "8a6379a4",
   "metadata": {},
   "outputs": [
    {
     "data": {
      "text/plain": [
       "7"
      ]
     },
     "execution_count": 51,
     "metadata": {},
     "output_type": "execute_result"
    }
   ],
   "source": [
    "t"
   ]
  },
  {
   "cell_type": "code",
   "execution_count": null,
   "id": "333f0c7f",
   "metadata": {},
   "outputs": [],
   "source": []
  },
  {
   "cell_type": "code",
   "execution_count": null,
   "id": "fcdc6647",
   "metadata": {},
   "outputs": [],
   "source": []
  },
  {
   "cell_type": "code",
   "execution_count": null,
   "id": "d66b5d99",
   "metadata": {},
   "outputs": [],
   "source": []
  },
  {
   "cell_type": "code",
   "execution_count": null,
   "id": "c46bef14",
   "metadata": {},
   "outputs": [],
   "source": []
  },
  {
   "cell_type": "code",
   "execution_count": null,
   "id": "5bca8a50",
   "metadata": {},
   "outputs": [],
   "source": []
  },
  {
   "cell_type": "code",
   "execution_count": null,
   "id": "ee379dfb",
   "metadata": {},
   "outputs": [],
   "source": []
  }
 ],
 "metadata": {
  "kernelspec": {
   "display_name": "Python 3",
   "language": "python",
   "name": "python3"
  },
  "language_info": {
   "codemirror_mode": {
    "name": "ipython",
    "version": 3
   },
   "file_extension": ".py",
   "mimetype": "text/x-python",
   "name": "python",
   "nbconvert_exporter": "python",
   "pygments_lexer": "ipython3",
   "version": "3.8.10"
  }
 },
 "nbformat": 4,
 "nbformat_minor": 5
}
