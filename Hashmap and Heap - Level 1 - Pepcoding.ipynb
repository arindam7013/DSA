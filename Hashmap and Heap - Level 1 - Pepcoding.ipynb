{
 "cells": [
  {
   "cell_type": "code",
   "execution_count": 1,
   "id": "0e86db4f",
   "metadata": {},
   "outputs": [],
   "source": [
    "#Highest Frequency Character - Solution "
   ]
  },
  {
   "cell_type": "code",
   "execution_count": 3,
   "id": "743d3e55",
   "metadata": {},
   "outputs": [
    {
     "data": {
      "text/plain": [
       "({'a': 8, 'b': 11, 'c': 5}, 11)"
      ]
     },
     "execution_count": 3,
     "metadata": {},
     "output_type": "execute_result"
    }
   ],
   "source": [
    "def freq(strg):\n",
    "    memo = {}\n",
    "    \n",
    "    for i in range(len(strg)):\n",
    "        if strg[i] not in memo:\n",
    "            memo[strg[i]] = 1\n",
    "            \n",
    "        \n",
    "        else:\n",
    "            of = memo[strg[i]] \n",
    "            memo[strg[i]] = (of + 1)\n",
    "            \n",
    "            \n",
    "    return  memo , max(memo.values())\n",
    "    \n",
    "    \n",
    "    \n",
    "freq('ababcbcababbacbabcbacbab')"
   ]
  },
  {
   "cell_type": "code",
   "execution_count": null,
   "id": "95ce8ffc",
   "metadata": {},
   "outputs": [],
   "source": [
    "#Get Common Element 1 - Solution"
   ]
  },
  {
   "cell_type": "code",
   "execution_count": 7,
   "id": "8fb82efe",
   "metadata": {},
   "outputs": [
    {
     "name": "stdout",
     "output_type": "stream",
     "text": [
      "1\n",
      "2\n",
      "5\n"
     ]
    }
   ],
   "source": [
    "def comm(arr1, arr2):\n",
    "    \n",
    "    memo = {}\n",
    "    \n",
    "    for i in arr1:\n",
    "        \n",
    "        if i not in memo:\n",
    "            memo[i] = 1\n",
    "            \n",
    "            \n",
    "    for i in arr2:\n",
    "        if i in memo:\n",
    "            print(i)\n",
    "            memo.pop(i)\n",
    "            \n",
    "    \n",
    "    \n",
    "    \n",
    "    \n",
    "    \n",
    "comm([1,1,2,2,2,3,5] , [1,1,1,2,2,4,5])"
   ]
  },
  {
   "cell_type": "code",
   "execution_count": 8,
   "id": "55534f7c",
   "metadata": {},
   "outputs": [],
   "source": [
    "#Get Common Element 1 - Solution"
   ]
  },
  {
   "cell_type": "code",
   "execution_count": 9,
   "id": "5bbdb9e4",
   "metadata": {},
   "outputs": [
    {
     "name": "stdout",
     "output_type": "stream",
     "text": [
      "{1: 2, 2: 3, 3: 1, 5: 1}\n",
      "1\n",
      "1\n",
      "2\n",
      "2\n",
      "5\n"
     ]
    }
   ],
   "source": [
    "def get_common_ele_2(arr1, arr2):\n",
    "    memo = {}\n",
    "    \n",
    "    for i in arr1:\n",
    "        if i not in memo:\n",
    "            memo[i] = 1\n",
    "            \n",
    "        else:\n",
    "            memo[i] = memo[i] + 1\n",
    "    print(memo)\n",
    "    for j in arr2:\n",
    "        if j in memo:\n",
    "            if memo[j] > 0:\n",
    "                memo[j] = memo[j] - 1\n",
    "                print(j)\n",
    "            \n",
    "        else:\n",
    "            continue\n",
    "            \n",
    "            \n",
    "            \n",
    "    #return memo\n",
    "\n",
    "get_common_ele_2([1,1,2,2,2,3,5] , [1,1,1,2,2,4,5])"
   ]
  },
  {
   "cell_type": "code",
   "execution_count": null,
   "id": "5634bd8e",
   "metadata": {},
   "outputs": [],
   "source": []
  },
  {
   "cell_type": "code",
   "execution_count": null,
   "id": "c33fbb9e",
   "metadata": {},
   "outputs": [],
   "source": [
    "#Longest Consecutive Sequence"
   ]
  },
  {
   "cell_type": "code",
   "execution_count": 10,
   "id": "272ecc55",
   "metadata": {},
   "outputs": [
    {
     "data": {
      "text/plain": [
       "(5, 8)"
      ]
     },
     "execution_count": 10,
     "metadata": {},
     "output_type": "execute_result"
    }
   ],
   "source": [
    "def longest_con_seq(arr):\n",
    "    memo = {}\n",
    "    mx = 0\n",
    "    msp = 0\n",
    "    for i in arr:\n",
    "        memo[i] = True\n",
    "        \n",
    "    for j in memo:\n",
    "        if j-1 in memo:\n",
    "            memo[j] = False\n",
    "            \n",
    "    for k in memo:\n",
    "          \n",
    "        if memo[k] == True:\n",
    "            \n",
    "            tl = 1\n",
    "            tsp = k\n",
    "            while (tsp + tl) in memo:\n",
    "                #print(tsp + tl)\n",
    "                tl += 1\n",
    "               \n",
    "            if tl > mx:\n",
    "                msp = tsp\n",
    "                mx = tl\n",
    "    \n",
    "    return mx , msp #, memo\n",
    "    \n",
    "\n",
    "longest_con_seq([10,5,9,1,11,8,6,15,3,12,2])\n",
    "    "
   ]
  },
  {
   "cell_type": "code",
   "execution_count": null,
   "id": "8f40dfb0",
   "metadata": {},
   "outputs": [],
   "source": []
  },
  {
   "cell_type": "code",
   "execution_count": null,
   "id": "6660a50c",
   "metadata": {},
   "outputs": [],
   "source": []
  }
 ],
 "metadata": {
  "kernelspec": {
   "display_name": "Python 3",
   "language": "python",
   "name": "python3"
  },
  "language_info": {
   "codemirror_mode": {
    "name": "ipython",
    "version": 3
   },
   "file_extension": ".py",
   "mimetype": "text/x-python",
   "name": "python",
   "nbconvert_exporter": "python",
   "pygments_lexer": "ipython3",
   "version": "3.8.10"
  }
 },
 "nbformat": 4,
 "nbformat_minor": 5
}
