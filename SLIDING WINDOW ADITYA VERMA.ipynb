{
 "cells": [
  {
   "cell_type": "code",
   "execution_count": null,
   "id": "b6e66d11",
   "metadata": {},
   "outputs": [],
   "source": [
    "#max sub array "
   ]
  },
  {
   "cell_type": "code",
   "execution_count": 1,
   "id": "3ff6f02e",
   "metadata": {},
   "outputs": [
    {
     "data": {
      "text/plain": [
       "700"
      ]
     },
     "execution_count": 1,
     "metadata": {},
     "output_type": "execute_result"
    }
   ],
   "source": [
    "def max_sub_array(arr, k):\n",
    "    n = len(arr)\n",
    "    sum = 0\n",
    "    mx = 0\n",
    "    i=0\n",
    "    j=0\n",
    "    \n",
    "    while j<n:\n",
    "        sum = sum + arr[j]\n",
    "        \n",
    "        if ((j-i+1) < k):\n",
    "            j = j+1\n",
    "        elif ((j-i+1) == k):\n",
    "            mx = max(mx, sum)\n",
    "        \n",
    "            \n",
    "            sum = sum - arr[i]\n",
    "            i = i +1\n",
    "            j = j+ 1\n",
    "            \n",
    "    return mx\n",
    "\n",
    "max_sub_array([100, 200, 300, 400], 2)\n",
    "    "
   ]
  },
  {
   "cell_type": "code",
   "execution_count": 2,
   "id": "879c843d",
   "metadata": {},
   "outputs": [],
   "source": [
    "# first negative number in every window"
   ]
  },
  {
   "cell_type": "code",
   "execution_count": 55,
   "id": "4ee968f8",
   "metadata": {},
   "outputs": [
    {
     "name": "stdout",
     "output_type": "stream",
     "text": [
      "12\n",
      "-7\n",
      "[-7]\n",
      "-15\n",
      "[-7, -15]\n",
      "[-7, -15]\n",
      "30\n",
      "[-15, -15]\n",
      "16\n",
      "[-15, -15]\n",
      "28\n",
      "[-15]\n"
     ]
    },
    {
     "data": {
      "text/plain": [
       "([-15], '--q-->', [-7, -15, -15, -15])"
      ]
     },
     "execution_count": 55,
     "metadata": {},
     "output_type": "execute_result"
    }
   ],
   "source": [
    "def nega(arr, k):\n",
    "    n = len(arr)\n",
    "    i = 0\n",
    "    j = 0\n",
    "    queue = []\n",
    "    lt = []\n",
    "    \n",
    "    while j < n:\n",
    "        print(arr[j])\n",
    "        if arr[j] < 0:\n",
    "                lt.append(arr[j])\n",
    "                print(lt)\n",
    "        \n",
    "        if ((j-i+1)<k):\n",
    "            \n",
    "            j = j+1\n",
    "            \n",
    "               \n",
    "        \n",
    "        elif j-i+1 == k:\n",
    "            print(lt)\n",
    "            if arr[j] < 0:\n",
    "                lt.append(arr[j])\n",
    "            #print(\"->\",lt, queue)    \n",
    "            if arr[i] == lt[0]:\n",
    "                queue.append(lt[0])\n",
    "                lt.pop(0)\n",
    "                #print(\"-->\",queue, lt)\n",
    "                \n",
    "            elif arr[i] != lt[0] and len(lt) != 0:\n",
    "                queue.append(lt[0])\n",
    "            \n",
    "            elif len(lt) == 0:\n",
    "                queue.append(0)\n",
    "            \n",
    "        i = i+1\n",
    "        j = j+1\n",
    "            \n",
    "            \n",
    "                \n",
    "        #j = j+1 \n",
    "            \n",
    "            \n",
    "        \n",
    "                        \n",
    "    return lt , \"--q-->\" , queue \n",
    "                    \n",
    "                    \n",
    "nega([12, -1 ,-7,8,-15,30,16,28], 3)            "
   ]
  },
  {
   "cell_type": "code",
   "execution_count": null,
   "id": "92c661e1",
   "metadata": {},
   "outputs": [],
   "source": [
    "elif ((j-i+1) == k):\n",
    "            \n",
    "            if len(lt) == 0:\n",
    "                queue.append(0)\n",
    "                #print(lt)\n",
    "            else:         \n",
    "                \n",
    "                if arr[i] == lt[0]:\n",
    "                    queue.append(lt[0])\n",
    "                    lt.pop(0)\n",
    "                    #print(lt)\n",
    "                else:\n",
    "                    queue.append(lt[0])\n",
    "                    print(queue)\n",
    "                    i = i + 1\n",
    "                    j = j + 1\n",
    "                    if arr[j] < 0:\n",
    "                        lt.append(arr[j])"
   ]
  },
  {
   "cell_type": "code",
   "execution_count": null,
   "id": "32cf00bb",
   "metadata": {},
   "outputs": [],
   "source": []
  },
  {
   "cell_type": "code",
   "execution_count": null,
   "id": "74aeb200",
   "metadata": {},
   "outputs": [],
   "source": []
  },
  {
   "cell_type": "code",
   "execution_count": null,
   "id": "18aa17a4",
   "metadata": {},
   "outputs": [],
   "source": []
  },
  {
   "cell_type": "code",
   "execution_count": null,
   "id": "be4cc508",
   "metadata": {},
   "outputs": [],
   "source": []
  },
  {
   "cell_type": "code",
   "execution_count": null,
   "id": "40a37a94",
   "metadata": {},
   "outputs": [],
   "source": []
  }
 ],
 "metadata": {
  "kernelspec": {
   "display_name": "Python 3",
   "language": "python",
   "name": "python3"
  },
  "language_info": {
   "codemirror_mode": {
    "name": "ipython",
    "version": 3
   },
   "file_extension": ".py",
   "mimetype": "text/x-python",
   "name": "python",
   "nbconvert_exporter": "python",
   "pygments_lexer": "ipython3",
   "version": "3.8.10"
  }
 },
 "nbformat": 4,
 "nbformat_minor": 5
}
