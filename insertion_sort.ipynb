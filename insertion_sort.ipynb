{
 "cells": [
  {
   "cell_type": "code",
   "execution_count": 6,
   "metadata": {},
   "outputs": [
    {
     "name": "stdout",
     "output_type": "stream",
     "text": [
      "5\n"
     ]
    }
   ],
   "source": [
    "arr = [13,5,6,7,8,12,2,3,4]\n",
    "range(1,len(arr))\n",
    "print(arr[1])"
   ]
  },
  {
   "cell_type": "code",
   "execution_count": 7,
   "metadata": {},
   "outputs": [],
   "source": [
    "def insertion_sort(arr):\n",
    "    for i in range(1 , len(arr)):   # i=1\n",
    "        position = i      # position = 1\n",
    "        currentvalue = arr[i]    #currentvalue = arr[1] = 5\n",
    "        \n",
    "        while position > 0 and arr[position - 1] > currentvalue:  # 1>0 and (arr[0] = 13) > 5\n",
    "            arr[position] = arr[position - 1]   # arr[1] = arr[0] => arr[1] = 13\n",
    "            position = position-1\n",
    "            \n",
    "            \n",
    "        arr[position] = currentvalue\n",
    "        print(arr)\n",
    "    return(arr)    "
   ]
  },
  {
   "cell_type": "code",
   "execution_count": 8,
   "metadata": {},
   "outputs": [
    {
     "name": "stdout",
     "output_type": "stream",
     "text": [
      "[5, 13, 6, 7, 8, 12, 2, 3, 4]\n",
      "[5, 6, 13, 7, 8, 12, 2, 3, 4]\n",
      "[5, 6, 7, 13, 8, 12, 2, 3, 4]\n",
      "[5, 6, 7, 8, 13, 12, 2, 3, 4]\n",
      "[5, 6, 7, 8, 12, 13, 2, 3, 4]\n",
      "[2, 5, 6, 7, 8, 12, 13, 3, 4]\n",
      "[2, 3, 5, 6, 7, 8, 12, 13, 4]\n",
      "[2, 3, 4, 5, 6, 7, 8, 12, 13]\n"
     ]
    },
    {
     "data": {
      "text/plain": [
       "[2, 3, 4, 5, 6, 7, 8, 12, 13]"
      ]
     },
     "execution_count": 8,
     "metadata": {},
     "output_type": "execute_result"
    }
   ],
   "source": [
    "insertion_sort(arr)"
   ]
  },
  {
   "cell_type": "code",
   "execution_count": null,
   "metadata": {},
   "outputs": [],
   "source": []
  },
  {
   "cell_type": "code",
   "execution_count": null,
   "metadata": {},
   "outputs": [],
   "source": [
    "def ins(arr):\n",
    "    temp =arr[0]\n",
    "    for i in range(1, len(arr)-1):\n",
    "        if arr[i] < temp:\n",
    "            "
   ]
  }
 ],
 "metadata": {
  "kernelspec": {
   "display_name": "Python 3",
   "language": "python",
   "name": "python3"
  },
  "language_info": {
   "codemirror_mode": {
    "name": "ipython",
    "version": 3
   },
   "file_extension": ".py",
   "mimetype": "text/x-python",
   "name": "python",
   "nbconvert_exporter": "python",
   "pygments_lexer": "ipython3",
   "version": "3.8.10"
  }
 },
 "nbformat": 4,
 "nbformat_minor": 4
}
