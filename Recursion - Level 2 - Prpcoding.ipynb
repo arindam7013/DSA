{
 "cells": [
  {
   "cell_type": "code",
   "execution_count": 1,
   "id": "f82b22f0",
   "metadata": {},
   "outputs": [],
   "source": [
    "#Print Permutations using Backtracking"
   ]
  },
  {
   "cell_type": "code",
   "execution_count": 4,
   "id": "8d477c04",
   "metadata": {},
   "outputs": [
    {
     "name": "stdout",
     "output_type": "stream",
     "text": [
      "1200\n",
      "1020\n",
      "1002\n",
      "2100\n",
      "0120\n",
      "0102\n",
      "2010\n",
      "0210\n",
      "0012\n",
      "2001\n",
      "0201\n",
      "0021\n"
     ]
    }
   ],
   "source": [
    "def perm(arr , ci , ti):\n",
    "    if ci > ti:\n",
    "        for i in range(len(arr)):\n",
    "            print(arr[i] , end=\"\")\n",
    "            \n",
    "        print(\"\")\n",
    "            \n",
    "        return\n",
    "        \n",
    "        \n",
    "        \n",
    "    for i in range(len(arr)):\n",
    "        if arr[i] == 0:\n",
    "            arr[i] = ci\n",
    "            perm(arr , ci+1 , ti)\n",
    "            arr[i] = 0\n",
    "            \n",
    "perm([0,0,0,0] , 1 , 2)"
   ]
  },
  {
   "cell_type": "code",
   "execution_count": null,
   "id": "cd17591a",
   "metadata": {},
   "outputs": [],
   "source": []
  },
  {
   "cell_type": "code",
   "execution_count": null,
   "id": "34a457c1",
   "metadata": {},
   "outputs": [],
   "source": []
  },
  {
   "cell_type": "code",
   "execution_count": null,
   "id": "dc40e9fe",
   "metadata": {},
   "outputs": [],
   "source": []
  },
  {
   "cell_type": "code",
   "execution_count": null,
   "id": "217180c0",
   "metadata": {},
   "outputs": [],
   "source": []
  },
  {
   "cell_type": "code",
   "execution_count": null,
   "id": "8c80af32",
   "metadata": {},
   "outputs": [],
   "source": []
  },
  {
   "cell_type": "code",
   "execution_count": null,
   "id": "ece95ca7",
   "metadata": {},
   "outputs": [],
   "source": []
  },
  {
   "cell_type": "code",
   "execution_count": 6,
   "id": "3d0d9572",
   "metadata": {},
   "outputs": [
    {
     "name": "stdout",
     "output_type": "stream",
     "text": [
      "iiii\n"
     ]
    }
   ],
   "source": [
    "def combo(cb , tb , ssf , ts , asf):\n",
    "    if cb > tb:\n",
    "        if ssf == tb:\n",
    "            print(asf)\n",
    "        return\n",
    "        \n",
    "        \n",
    "        \n",
    "    combo(cb + 1, tb , ssf , ts , asf + '-')\n",
    "    combo(cb + 1, tb , ssf + 1 , ts , asf + 'i')\n",
    "            \n",
    "        \n",
    "combo(1 ,4 , 0 , 0 , '')\n",
    "#combo(cb , tb , ssf , ts , asf)\n",
    "#cb - current box\n",
    "#tb - total boxes given\n",
    "#ssf - selection so far\n",
    "#ts = total selection\n",
    "#asf = answer so far\n",
    "\n"
   ]
  },
  {
   "cell_type": "code",
   "execution_count": null,
   "id": "760a2a60",
   "metadata": {},
   "outputs": [],
   "source": []
  },
  {
   "cell_type": "code",
   "execution_count": null,
   "id": "cbe2cc1b",
   "metadata": {},
   "outputs": [],
   "source": []
  }
 ],
 "metadata": {
  "kernelspec": {
   "display_name": "Python 3",
   "language": "python",
   "name": "python3"
  },
  "language_info": {
   "codemirror_mode": {
    "name": "ipython",
    "version": 3
   },
   "file_extension": ".py",
   "mimetype": "text/x-python",
   "name": "python",
   "nbconvert_exporter": "python",
   "pygments_lexer": "ipython3",
   "version": "3.8.10"
  }
 },
 "nbformat": 4,
 "nbformat_minor": 5
}
