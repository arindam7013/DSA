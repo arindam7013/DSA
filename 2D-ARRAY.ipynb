{
 "cells": [
  {
   "cell_type": "code",
   "execution_count": 20,
   "id": "960d3027",
   "metadata": {},
   "outputs": [
    {
     "data": {
      "text/plain": [
       "({1: 1, 2: 1, 3: 1, 4: 1, 5: 1, 6: 1, 9: 1, 10: 1, 11: 1}, 5)"
      ]
     },
     "execution_count": 20,
     "metadata": {},
     "output_type": "execute_result"
    }
   ],
   "source": [
    "def specific_pair(arr1 , arr2 , k):\n",
    "    dp = {} \n",
    "    count = 0\n",
    "    \n",
    "    for i in range(len(arr1)):\n",
    "        for j in range(len(arr1[i])):\n",
    "            \n",
    "            dp[arr1[i][j]] = 1\n",
    "            \n",
    "            \n",
    "    for i in range(len(arr2)):\n",
    "        for j in range(len(arr2[i])):\n",
    "            \n",
    "            if (k - arr2[i][j]) in dp:\n",
    "                count += 1\n",
    "        \n",
    "            \n",
    "        \n",
    "    return dp , count\n",
    "            \n",
    "            \n",
    "\n",
    "            \n",
    "            \n",
    "arr1 = [[1,2,3],\n",
    "       [4,5,6],\n",
    "       [9,10,11]]\n",
    "\n",
    "arr2 = [[1,2,3],\n",
    "       [4,5,6],\n",
    "       [9,10,11]]\n",
    "specific_pair(arr1 , arr2 , 8)\n",
    "    "
   ]
  },
  {
   "cell_type": "code",
   "execution_count": null,
   "id": "f9ae4eb4",
   "metadata": {},
   "outputs": [],
   "source": []
  },
  {
   "cell_type": "code",
   "execution_count": 49,
   "id": "69e86fc4",
   "metadata": {},
   "outputs": [
    {
     "name": "stdout",
     "output_type": "stream",
     "text": [
      "[[1, 4, 9], [2, 5, 10], [3, 6, 11], [12, 13, 14]]\n"
     ]
    },
    {
     "data": {
      "text/plain": [
       "[[9, 4, 1], [10, 5, 2], [11, 6, 3], [14, 13, 12]]"
      ]
     },
     "execution_count": 49,
     "metadata": {},
     "output_type": "execute_result"
    }
   ],
   "source": [
    "def ninty_deg(arr ):\n",
    "    \n",
    "    \n",
    "    for i in range(len(arr)):\n",
    "        for j in range(i , len(arr[i])):\n",
    "            arr[i][j] , arr[j][i] = arr[j][i] , arr[i][j]\n",
    "    print(arr)        \n",
    "    \n",
    "    for i in range(len(arr)):\n",
    "        li = 0\n",
    "        ri = len(arr[i])-1\n",
    "        \n",
    "        while li <= ri:\n",
    "            \n",
    "            arr[i][li] , arr[i][ri] = arr[i][ri] , arr[i][li]\n",
    "            \n",
    "            li += 1\n",
    "            ri -= 1\n",
    "       \n",
    "            \n",
    "            \n",
    "    return arr\n",
    "    \n",
    "\n",
    "\n",
    "\n",
    "            \n",
    "arr1 = [[1,2,3],\n",
    "       [4,5,6],\n",
    "       [9,10,11],\n",
    "       [12,13,14]]\n",
    "ninty_deg(arr1)\n",
    "            \n",
    "            \n",
    "            \n",
    "            \n",
    "            \n",
    "            \n",
    "            \n",
    "            \n",
    "    "
   ]
  },
  {
   "cell_type": "code",
   "execution_count": null,
   "id": "692755a5",
   "metadata": {},
   "outputs": [],
   "source": []
  },
  {
   "cell_type": "code",
   "execution_count": 91,
   "id": "7200819e",
   "metadata": {},
   "outputs": [
    {
     "data": {
      "text/plain": [
       "3"
      ]
     },
     "execution_count": 91,
     "metadata": {},
     "output_type": "execute_result"
    }
   ],
   "source": [
    "def find_in_rows(arr):\n",
    "    memo = {}\n",
    "    \n",
    "    \n",
    "    for i in range(len(arr)):\n",
    "        for j in range( len(arr[i])):\n",
    "            if arr[i][j] not in memo:\n",
    "                memo[arr[i][j]] = 0 \n",
    "                \n",
    "                \n",
    "            if arr[i][j] in memo:\n",
    "                memo[arr[i][j]] += 1\n",
    "    \n",
    "    for i in memo:\n",
    "        \n",
    "        \n",
    "        if memo[i] == len(arr):\n",
    "            return i\n",
    "\n",
    "\n",
    "\n",
    "arr1 = [[1,2,3],\n",
    "       [4,3,6],\n",
    "       [9,3,11],\n",
    "       [12,3,14]]\n",
    "\n",
    "find_in_rows(arr1)\n",
    "    "
   ]
  },
  {
   "cell_type": "code",
   "execution_count": null,
   "id": "7536fdc0",
   "metadata": {},
   "outputs": [],
   "source": []
  },
  {
   "cell_type": "code",
   "execution_count": 76,
   "id": "3b72266e",
   "metadata": {},
   "outputs": [],
   "source": [
    "memo = {1: 2, 3: 5, 6: 8, 9: 10}"
   ]
  },
  {
   "cell_type": "code",
   "execution_count": 92,
   "id": "fb376254",
   "metadata": {},
   "outputs": [
    {
     "name": "stdout",
     "output_type": "stream",
     "text": [
      "10\n"
     ]
    }
   ],
   "source": [
    "print(memo[9])"
   ]
  },
  {
   "cell_type": "code",
   "execution_count": null,
   "id": "47b5c313",
   "metadata": {},
   "outputs": [],
   "source": []
  },
  {
   "cell_type": "code",
   "execution_count": 1,
   "id": "7747e92e",
   "metadata": {},
   "outputs": [
    {
     "name": "stdout",
     "output_type": "stream",
     "text": [
      "1\n",
      "5\n",
      "11\n",
      "9\n",
      "2\n",
      "6\n",
      "9\n",
      "3\n",
      "9\n",
      "9\n"
     ]
    }
   ],
   "source": [
    "def diagonal(arr):\n",
    "    \n",
    "    for g in range(len(arr)):\n",
    "        i = 0\n",
    "        j = g\n",
    "        while j < len(arr):\n",
    "            \n",
    "            print(arr[i][j])\n",
    "            \n",
    "            i += 1\n",
    "            j += 1\n",
    "    \n",
    "  \n",
    "\n",
    "arr = [[1,2,3 , 9],\n",
    "       [4,5,6 ,  9],\n",
    "       [9,10,11 , 9],\n",
    "       [12,13,14 , 9]]\n",
    "diagonal(arr)"
   ]
  },
  {
   "cell_type": "code",
   "execution_count": null,
   "id": "22c701e6",
   "metadata": {},
   "outputs": [],
   "source": []
  },
  {
   "cell_type": "code",
   "execution_count": null,
   "id": "db79c92d",
   "metadata": {},
   "outputs": [],
   "source": []
  },
  {
   "cell_type": "code",
   "execution_count": null,
   "id": "4b37cf1a",
   "metadata": {},
   "outputs": [],
   "source": []
  },
  {
   "cell_type": "code",
   "execution_count": null,
   "id": "7fff2784",
   "metadata": {},
   "outputs": [],
   "source": []
  },
  {
   "cell_type": "code",
   "execution_count": null,
   "id": "cc952395",
   "metadata": {},
   "outputs": [],
   "source": []
  },
  {
   "cell_type": "code",
   "execution_count": null,
   "id": "958c215a",
   "metadata": {},
   "outputs": [],
   "source": []
  },
  {
   "cell_type": "code",
   "execution_count": null,
   "id": "087792ff",
   "metadata": {},
   "outputs": [],
   "source": []
  },
  {
   "cell_type": "code",
   "execution_count": null,
   "id": "eabf5392",
   "metadata": {},
   "outputs": [],
   "source": []
  },
  {
   "cell_type": "code",
   "execution_count": null,
   "id": "7690baf1",
   "metadata": {},
   "outputs": [],
   "source": []
  },
  {
   "cell_type": "code",
   "execution_count": null,
   "id": "2fc2cf0f",
   "metadata": {},
   "outputs": [],
   "source": []
  },
  {
   "cell_type": "code",
   "execution_count": null,
   "id": "beb5b2ad",
   "metadata": {},
   "outputs": [],
   "source": []
  },
  {
   "cell_type": "code",
   "execution_count": null,
   "id": "55051a25",
   "metadata": {},
   "outputs": [],
   "source": []
  },
  {
   "cell_type": "code",
   "execution_count": null,
   "id": "0ac38587",
   "metadata": {},
   "outputs": [],
   "source": []
  },
  {
   "cell_type": "code",
   "execution_count": null,
   "id": "132f0a9f",
   "metadata": {},
   "outputs": [],
   "source": []
  }
 ],
 "metadata": {
  "kernelspec": {
   "display_name": "Python 3",
   "language": "python",
   "name": "python3"
  },
  "language_info": {
   "codemirror_mode": {
    "name": "ipython",
    "version": 3
   },
   "file_extension": ".py",
   "mimetype": "text/x-python",
   "name": "python",
   "nbconvert_exporter": "python",
   "pygments_lexer": "ipython3",
   "version": "3.8.10"
  }
 },
 "nbformat": 4,
 "nbformat_minor": 5
}
