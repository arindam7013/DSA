{
 "cells": [
  {
   "cell_type": "code",
   "execution_count": 11,
   "id": "f6920c49",
   "metadata": {},
   "outputs": [
    {
     "name": "stdout",
     "output_type": "stream",
     "text": [
      "[[-1, -1, -1], [-1, -1, 60]]\n",
      "[[-1, -1, -1], [-1, -1, -1], [-1, -1, 100]]\n",
      "[[-1, -1, -1, -1], [-1, -1, -1, 60]]\n",
      "[[-1, -1, -1, -1, -1, -1], [-1, -1, -1, -1, -1, 60]]\n",
      "[[-1, -1, -1, -1, -1, -1], [-1, -1, -1, -1, -1, -1], [-1, -1, -1, -1, -1, 160]]\n",
      "[[-1, -1, -1, -1, -1, -1], [-1, -1, -1, -1, -1, -1], [-1, -1, -1, -1, -1, -1], [-1, -1, -1, -1, -1, 220]]\n"
     ]
    },
    {
     "data": {
      "text/plain": [
       "220"
      ]
     },
     "execution_count": 11,
     "metadata": {},
     "output_type": "execute_result"
    }
   ],
   "source": [
    "#MemoiZation\n",
    "def knapSack(W, wt, val, n):\n",
    "        memo = [[-1 for x in range(W + 1)] for x in range(n + 1)]\n",
    "        #memo = [[-1 for x in range(n + 3)] for x in range(W + 1)]\n",
    "        #memo = [[-1] * (W+1)] * (n+1)\n",
    "        \n",
    "        if n == 0 or W == 0:\n",
    "            return 0\n",
    "           \n",
    "        if memo[n][W] != -1:\n",
    "            return memo[W][n]\n",
    "            \n",
    "        if wt[n-1] <= W:\n",
    "            \n",
    "            memo[n][W] = max((val[n-1] + knapSack(W - wt[n-1] , wt , val , n-1)) , knapSack(W, wt, val, n-1))\n",
    "            print(memo)\n",
    "            return memo[n][W]            \n",
    "        elif wt[n-1] > W:\n",
    "            memo[n][W] = knapSack(W, wt, val, n-1)\n",
    "            \n",
    "            return memo[n][W]\n",
    "\n",
    "    \n",
    "knapSack(5, [1, 2, 3], [60, 100, 120],  3)"
   ]
  },
  {
   "cell_type": "code",
   "execution_count": null,
   "id": "07e4a44c",
   "metadata": {},
   "outputs": [],
   "source": []
  },
  {
   "cell_type": "code",
   "execution_count": 4,
   "id": "85d8354f",
   "metadata": {},
   "outputs": [
    {
     "name": "stdout",
     "output_type": "stream",
     "text": [
      "[[0, 0, 0, 0, 30, 30, 30, 30], [0, 0, 15, 15, 30, 30, 45, 45], [0, 0, 15, 15, 30, 30, 45, 45], [0, 10, 15, 25, 30, 40, 45, 55], [0, 10, 15, 45, 55, 60, 70, 75], [0, 10, 15, 45, 55, 60, 70, 75]]\n"
     ]
    },
    {
     "data": {
      "text/plain": [
       "75"
      ]
     },
     "execution_count": 4,
     "metadata": {},
     "output_type": "execute_result"
    }
   ],
   "source": [
    "#Top-Down\n",
    "def knapSack1(W, wt, val, n):\n",
    "        memo = [[0 for x in range(W + 1)] for x in range(n + 1)]\n",
    "        \n",
    "       \n",
    "                    \n",
    "        for i in range( n+1 ):\n",
    "            for j in range( W+1 ):\n",
    "                \n",
    "               \n",
    "                if wt[i-1] <= j:\n",
    "                    \n",
    "                    memo[i][j] = max(val[i-1] + memo[i-1][j-wt[i-1]] , memo[i-1][j])\n",
    "                    \n",
    "            \n",
    "                else:\n",
    "                    memo[i][j] = memo[i-1][j]\n",
    "        print(memo)            \n",
    "        return memo[n][W]\n",
    "        \n",
    "            \n",
    "            \n",
    "            \n",
    " \n",
    "\n",
    "    \n",
    "knapSack1( 7 , [2,5,1,3,4] , [15,14,10,45,30],  5)\n",
    "#7 , [2,5,1,3,4] , [15,14,10,45,30]         5, [1, 2, 3], [60, 100, 120],"
   ]
  },
  {
   "cell_type": "code",
   "execution_count": null,
   "id": "ba2f9404",
   "metadata": {},
   "outputs": [],
   "source": []
  },
  {
   "cell_type": "code",
   "execution_count": null,
   "id": "152f005f",
   "metadata": {},
   "outputs": [],
   "source": []
  },
  {
   "cell_type": "code",
   "execution_count": null,
   "id": "c1b37f6b",
   "metadata": {},
   "outputs": [],
   "source": []
  },
  {
   "cell_type": "code",
   "execution_count": 16,
   "id": "b67c1b74",
   "metadata": {},
   "outputs": [],
   "source": [
    "memo = [-1] * (5)"
   ]
  },
  {
   "cell_type": "code",
   "execution_count": 17,
   "id": "5ab7fe6f",
   "metadata": {},
   "outputs": [
    {
     "data": {
      "text/plain": [
       "[-1, -1, -1, -1, -1]"
      ]
     },
     "execution_count": 17,
     "metadata": {},
     "output_type": "execute_result"
    }
   ],
   "source": [
    "memo"
   ]
  },
  {
   "cell_type": "code",
   "execution_count": 38,
   "id": "445edd69",
   "metadata": {},
   "outputs": [],
   "source": [
    "memo = [[1,2,3,4],\n",
    "        [4,5,6,4],\n",
    "        [7,8,9,4]]"
   ]
  },
  {
   "cell_type": "code",
   "execution_count": 39,
   "id": "c5ac1740",
   "metadata": {},
   "outputs": [
    {
     "data": {
      "text/plain": [
       "[[1, 2, 3, 4], [4, 5, 6, 4], [7, 8, 9, 4]]"
      ]
     },
     "execution_count": 39,
     "metadata": {},
     "output_type": "execute_result"
    }
   ],
   "source": [
    "memo"
   ]
  },
  {
   "cell_type": "code",
   "execution_count": 3,
   "id": "982acf3c",
   "metadata": {},
   "outputs": [],
   "source": [
    "# SUbset Set Problem           arr = [2,3,7,8,10]       W= 11"
   ]
  },
  {
   "cell_type": "code",
   "execution_count": 2,
   "id": "09df0105",
   "metadata": {},
   "outputs": [
    {
     "name": "stdout",
     "output_type": "stream",
     "text": [
      "[[True, False, False, False, False, False, False, False, False, False, False], [True, False, False, False, True, False, False, False, False, False, False], [True, False, True, False, True, False, True, False, False, False, False], [True, False, True, False, True, False, True, True, False, True, False], [True, True, True, True, True, True, True, True, True, True, True], [False, True, True, True, True, True, True, True, True, True, True]]\n"
     ]
    },
    {
     "data": {
      "text/plain": [
       "True"
      ]
     },
     "execution_count": 2,
     "metadata": {},
     "output_type": "execute_result"
    }
   ],
   "source": [
    "def subset(arr, W, n):\n",
    "    memo = [[False for x in range(W + 1)] for x in range(n + 1)]\n",
    "    \n",
    "    for i in range(n):\n",
    "        for j in range(W):\n",
    "            if i == 0 and j==0:\n",
    "                memo[i][j] = True\n",
    "            if i == 0:\n",
    "                memo[i][j] = False\n",
    "                \n",
    "            if j == 0:\n",
    "                memo[i][j] = True\n",
    "                \n",
    "    #print(memo)\n",
    "\n",
    "    for i in range(1 , n+1):\n",
    "        for j in range(1 , W+1):\n",
    "            \n",
    "            if arr[i-1] > j :\n",
    "                memo[i][j] = memo[i-1][j]\n",
    "                \n",
    "                \n",
    "                \n",
    "                \n",
    "            elif arr[i-1] <= j:\n",
    "                memo[i][j] = (memo[i-1][j - arr[i-1]] or memo[i-1][j])\n",
    "                \n",
    "                \n",
    "    print(memo)        \n",
    "    return memo[n][W]\n",
    "    \n",
    "    \n",
    "    \n",
    "    \n",
    "    \n",
    "subset([4,2,7,1,3], 10, 5)"
   ]
  },
  {
   "cell_type": "code",
   "execution_count": null,
   "id": "e67be768",
   "metadata": {},
   "outputs": [],
   "source": []
  },
  {
   "cell_type": "code",
   "execution_count": 5,
   "id": "1ba440eb",
   "metadata": {},
   "outputs": [
    {
     "name": "stdout",
     "output_type": "stream",
     "text": [
      "[[True, False, False, False, False, False, False, False, False, False, False], [True, False, False, False, True, False, False, False, False, False, False], [True, False, True, False, True, False, True, False, False, False, False], [True, False, True, False, True, False, True, True, False, True, False], [True, True, True, True, True, True, True, True, True, True, True], [True, True, True, True, True, True, True, True, True, True, True]]\n"
     ]
    },
    {
     "data": {
      "text/plain": [
       "True"
      ]
     },
     "execution_count": 5,
     "metadata": {},
     "output_type": "execute_result"
    }
   ],
   "source": [
    "def subset_o(arr, W, n):\n",
    "    memo = [[False for x in range(W + 1)] for x in range(n + 1)]\n",
    "    \n",
    "  \n",
    "                \n",
    "    #print(memo)\n",
    "\n",
    "    for i in range(n+1):\n",
    "        for j in range( W+1):\n",
    "            if i == 0 and j==0:\n",
    "                memo[i][j] = True\n",
    "                \n",
    "                \n",
    "            elif i == 0:\n",
    "                memo[i][j] = False\n",
    "                \n",
    "                \n",
    "                \n",
    "            elif j == 0:\n",
    "                memo[i][j] = True\n",
    "                \n",
    "                \n",
    "            \n",
    "            else:\n",
    "                if arr[i-1] > j :\n",
    "                    memo[i][j] = memo[i-1][j]\n",
    "                \n",
    "                \n",
    "                \n",
    "                \n",
    "                elif arr[i-1] <= j:\n",
    "                    memo[i][j] = (memo[i-1][j - arr[i-1]] or memo[i-1][j])\n",
    "                \n",
    "                \n",
    "    print(memo)        \n",
    "    return memo[n][W]\n",
    "    \n",
    "    \n",
    "    \n",
    "    \n",
    "    \n",
    "subset_o([4,2,7,1,3], 10, 5)"
   ]
  },
  {
   "cell_type": "code",
   "execution_count": null,
   "id": "a776611c",
   "metadata": {},
   "outputs": [],
   "source": []
  },
  {
   "cell_type": "code",
   "execution_count": null,
   "id": "5e0abbde",
   "metadata": {},
   "outputs": [],
   "source": []
  },
  {
   "cell_type": "code",
   "execution_count": null,
   "id": "d478bcd4",
   "metadata": {},
   "outputs": [],
   "source": []
  },
  {
   "cell_type": "code",
   "execution_count": null,
   "id": "cf2315e1",
   "metadata": {},
   "outputs": [],
   "source": []
  },
  {
   "cell_type": "code",
   "execution_count": 13,
   "id": "197cc8dc",
   "metadata": {},
   "outputs": [],
   "source": [
    "# Equal Sum Partition"
   ]
  },
  {
   "cell_type": "code",
   "execution_count": 16,
   "id": "1d92b392",
   "metadata": {},
   "outputs": [
    {
     "name": "stdout",
     "output_type": "stream",
     "text": [
      "10\n",
      "[[True, False, False, False, False, False, False, False, False, False, False], [True, False, False, False, False, False, False, False, True, False, False], [True, False, False, False, False, False, True, False, True, False, False], [True, False, True, False, False, False, True, False, True, False, True], [False, False, True, False, True, False, True, False, True, False, True]]\n"
     ]
    },
    {
     "data": {
      "text/plain": [
       "True"
      ]
     },
     "execution_count": 16,
     "metadata": {},
     "output_type": "execute_result"
    }
   ],
   "source": [
    "def equalsumpartition(arr,n):\n",
    "    \n",
    "    \n",
    "    sum = 0\n",
    "    for i in arr:\n",
    "        sum += i\n",
    "        \n",
    "    if sum%2 != 0:\n",
    "        return False\n",
    "    \n",
    "    if sum % 2 == 0:\n",
    "        half = sum // 2\n",
    "        print(half)\n",
    "        return subset(arr, half, n)\n",
    "        \n",
    "    \n",
    "    \n",
    "    \n",
    "    \n",
    "    \n",
    "equalsumpartition([8,6,2,2,2] , 4)"
   ]
  },
  {
   "cell_type": "code",
   "execution_count": null,
   "id": "e510fb5e",
   "metadata": {},
   "outputs": [],
   "source": []
  },
  {
   "cell_type": "code",
   "execution_count": null,
   "id": "e718d06e",
   "metadata": {},
   "outputs": [],
   "source": [
    "#Given an array arr[] of integers and an integer sum, the task is to count all subsets of the given array with a sum equal to a given sum."
   ]
  },
  {
   "cell_type": "code",
   "execution_count": 3,
   "id": "81eac123",
   "metadata": {},
   "outputs": [
    {
     "name": "stdout",
     "output_type": "stream",
     "text": [
      "[[1, 0, 0, 0, 0, 0, 0, 0, 0, 0, 0], [1, 0, 1, 0, 0, 0, 0, 0, 0, 0, 0], [1, 0, 1, 1, 0, 1, 0, 0, 0, 0, 0], [1, 0, 1, 1, 0, 2, 0, 1, 1, 0, 1], [1, 0, 1, 1, 0, 2, 1, 1, 2, 1, 1], [1, 0, 1, 1, 0, 2, 1, 1, 3, 1, 2], [0, 0, 1, 1, 0, 2, 1, 1, 3, 1, 3]]\n"
     ]
    },
    {
     "data": {
      "text/plain": [
       "3"
      ]
     },
     "execution_count": 3,
     "metadata": {},
     "output_type": "execute_result"
    }
   ],
   "source": [
    "def subset(arr, W, n):\n",
    "    memo = [[0 for x in range(W + 1)] for x in range(n + 1)]\n",
    "    \n",
    "    for i in range(n):\n",
    "        for j in range(W):\n",
    "            if i == 0 and j==0:\n",
    "                memo[i][j] = 1\n",
    "            if i == 0:\n",
    "                memo[i][j] = 0\n",
    "                \n",
    "            if j == 0:\n",
    "                memo[i][j] = 1\n",
    "                \n",
    "    #print(memo)\n",
    "\n",
    "    for i in range(1 , n+1):\n",
    "        for j in range(1 , W+1):\n",
    "            \n",
    "            if arr[i-1] > j :\n",
    "                memo[i][j] = memo[i-1][j]\n",
    "                \n",
    "                \n",
    "                \n",
    "                \n",
    "            elif arr[i-1] <= j:\n",
    "                memo[i][j] = (memo[i-1][j - arr[i-1]] + memo[i-1][j])\n",
    "                \n",
    "    \n",
    "    \n",
    "    print(memo)        \n",
    "    return memo[n][W]\n",
    "    \n",
    "    \n",
    "    \n",
    "\n",
    "    \n",
    "arr = [2,3,5,6,8,10]    \n",
    "subset(arr, 10,len(arr))"
   ]
  },
  {
   "cell_type": "code",
   "execution_count": null,
   "id": "c643518a",
   "metadata": {},
   "outputs": [],
   "source": []
  },
  {
   "cell_type": "code",
   "execution_count": null,
   "id": "cc2a002d",
   "metadata": {},
   "outputs": [],
   "source": []
  },
  {
   "cell_type": "code",
   "execution_count": null,
   "id": "b661b45f",
   "metadata": {},
   "outputs": [],
   "source": [
    "def subset(arr, W, n):\n",
    "    memo = [[0 for x in range(W + 1)] for x in range(n + 1)]\n",
    "    \n",
    "    for i in range(n):\n",
    "        for j in range(W):\n",
    "            if i == 0 and j==0:\n",
    "                memo[i][j] = 1\n",
    "            if i == 0:\n",
    "                memo[i][j] = 0\n",
    "                \n",
    "            if j == 0:\n",
    "                memo[i][j] = 1\n",
    "                \n",
    "    #print(memo)\n",
    "\n",
    "    for i in range(1 , n+1):\n",
    "        for j in range(1 , W+1):\n",
    "            \n",
    "            if arr[i-1] > j :\n",
    "                memo[i][j] = memo[i-1][j]\n",
    "                \n",
    "                \n",
    "                \n",
    "                \n",
    "            elif arr[i-1] <= j:\n",
    "                memo[i][j] = (memo[i-1][j - arr[i-1]] + memo[i-1][j])\n",
    "                \n",
    "    \n",
    "    \n",
    "    print(memo)        \n",
    "    return memo[n][W]\n",
    "    \n",
    "    \n",
    "    \n",
    "\n",
    "    \n",
    "arr = [2,3,5,6,8,10]    \n",
    "subset(arr, 10,len(arr))"
   ]
  },
  {
   "cell_type": "code",
   "execution_count": null,
   "id": "4583cfa0",
   "metadata": {},
   "outputs": [],
   "source": []
  },
  {
   "cell_type": "code",
   "execution_count": null,
   "id": "07177bac",
   "metadata": {},
   "outputs": [],
   "source": []
  },
  {
   "cell_type": "code",
   "execution_count": null,
   "id": "60887b36",
   "metadata": {},
   "outputs": [],
   "source": []
  },
  {
   "cell_type": "code",
   "execution_count": 14,
   "id": "c20aa19d",
   "metadata": {},
   "outputs": [],
   "source": [
    "#Unbounded Knapsack  #Unbounded Knapsack  #Unbounded Knapsack  #Unbounded Knapsack  #Unbounded Knapsack  #Unbounded Knapsack"
   ]
  },
  {
   "cell_type": "code",
   "execution_count": 15,
   "id": "a94dc68d",
   "metadata": {},
   "outputs": [
    {
     "name": "stdout",
     "output_type": "stream",
     "text": [
      "[[0, 0, 0, 0, 0, 0, 0, 0, 20], [0, 1, 2, 3, 4, 5, 6, 7, 20], [0, 1, 5, 6, 10, 11, 15, 16, 20], [0, 1, 5, 8, 10, 13, 16, 18, 21], [0, 1, 5, 8, 10, 13, 16, 18, 21], [0, 1, 5, 8, 10, 13, 16, 18, 21], [0, 1, 5, 8, 10, 13, 17, 18, 22], [0, 1, 5, 8, 10, 13, 17, 18, 22], [0, 1, 5, 8, 10, 13, 17, 18, 22]]\n"
     ]
    },
    {
     "data": {
      "text/plain": [
       "22"
      ]
     },
     "execution_count": 15,
     "metadata": {},
     "output_type": "execute_result"
    }
   ],
   "source": [
    "def rod_cut(val,n):\n",
    "    W = 8\n",
    "    wt=[1,2,3,4,5,6,7,8]\n",
    "    memo = [[0 for x in range(W + 1)] for x in range(n + 1)]\n",
    "\n",
    "    for i in range(n+1):\n",
    "        for j in range(W+1):\n",
    "            if wt[i-1] <= j:\n",
    "                memo[i][j] = max(  (val[i-1] + memo[i][j-wt[i-1]])  , memo[i-1][j])\n",
    "                \n",
    "            else:\n",
    "                memo[i][j] = memo[i-1][j]\n",
    "    print(memo)            \n",
    "    return memo[n][W]\n",
    "\n",
    "\n",
    "array = [1, 5, 8, 9, 10, 17, 17, 20]\n",
    "rod_cut(array,len(array))\n",
    "            \n",
    "    \n",
    "    "
   ]
  },
  {
   "cell_type": "code",
   "execution_count": 12,
   "id": "a4c97f83",
   "metadata": {},
   "outputs": [
    {
     "name": "stdout",
     "output_type": "stream",
     "text": [
      "[[1, 0, 0, 0, 0, 0], [1, 1, 1, 1, 1, 1], [1, 1, 2, 2, 3, 3], [1, 1, 2, 3, 4, 5]]\n"
     ]
    },
    {
     "data": {
      "text/plain": [
       "5"
      ]
     },
     "execution_count": 12,
     "metadata": {},
     "output_type": "execute_result"
    }
   ],
   "source": [
    "#coin change problem\n",
    "def coin(arr, amt):\n",
    "    n = len(arr)\n",
    "       \n",
    "    memo = [[0 for x in range(amt + 1)]for x in range(n + 1)]\n",
    "    \n",
    "    for i in range(n+1):\n",
    "        memo[i][0] = 1\n",
    "        \n",
    "    \n",
    "    \n",
    "    for i in range(1 , n+1):\n",
    "        for j in range(1 , amt+1):\n",
    "            \n",
    "    \n",
    "            if arr[i-1] <= j:\n",
    "                memo[i][j] = (memo[i][j-arr[i-1]] + memo[i-1][j])\n",
    "        \n",
    "            else:\n",
    "                memo[i][j] = memo[i-1][j]\n",
    "    print(memo)                    \n",
    "    return memo[n][amt]\n",
    "    \n",
    "\n",
    "arr = [1,2,3]\n",
    "amt = 5\n",
    "coin(arr, amt)"
   ]
  },
  {
   "cell_type": "code",
   "execution_count": 66,
   "id": "a5f43510",
   "metadata": {},
   "outputs": [
    {
     "name": "stdout",
     "output_type": "stream",
     "text": [
      "[[inf, inf, inf, inf, inf, inf, inf, inf, inf, inf, inf, inf], [0, inf, inf, inf, inf, inf, inf, inf, inf, 1, inf, inf], [0, 0, 0, 0, 0, 0, 0, 0, 0, 0, 0, 0], [0, 0, 0, 0, 0, 0, 0, 0, 0, 0, 0, 0], [0, 0, 0, 0, 0, 0, 0, 0, 0, 0, 0, 0]]\n",
      "[[inf, inf, inf, inf, inf, inf, inf, inf, inf, inf, inf, inf], [0, inf, inf, inf, inf, inf, inf, inf, inf, 1, inf, inf], [0, inf, inf, inf, inf, inf, 1, inf, inf, 1, inf, inf], [0, inf, inf, inf, inf, 1, 1, inf, inf, 1, 2, 2], [0, 1, 2, 3, 4, 1, 1, 2, 3, 1, 2, 2]]\n"
     ]
    },
    {
     "data": {
      "text/plain": [
       "2"
      ]
     },
     "execution_count": 66,
     "metadata": {},
     "output_type": "execute_result"
    }
   ],
   "source": [
    "def coin2(arr, amt):\n",
    "    n = len(arr)\n",
    "    memo = [[0 for x in range(amt + 1)]for x in range(n + 1)]\n",
    "    for i  in range(amt+1):\n",
    "        memo[0][i] = float('inf')\n",
    "    \n",
    "    \n",
    "    for j in range(1, amt+1):\n",
    "               \n",
    "        if j % arr[0] == 0:\n",
    "            memo[1][j] = j//arr[1]\n",
    "            \n",
    "        else:\n",
    "            memo[1][j] = float('inf')\n",
    "    print(memo)        \n",
    "    \n",
    "    for i in range(2, n+1):\n",
    "        for j in range(amt+1):\n",
    "            \n",
    "            if arr[i-1] <= j:\n",
    "                memo[i][j] = min((memo[i][j-arr[i-1]] + 1, memo[i-1][j]))\n",
    "                \n",
    "            else:\n",
    "                memo[i][j] = memo[i-1][j]\n",
    "            \n",
    "            \n",
    "    \n",
    "    print(memo)    \n",
    "    return memo[n][amt]\n",
    "\n",
    "\n",
    "arr = [9,6,5,1]\n",
    "amt = 11\n",
    "coin2(arr, amt)    \n",
    "    "
   ]
  },
  {
   "cell_type": "code",
   "execution_count": null,
   "id": "b43d7161",
   "metadata": {},
   "outputs": [],
   "source": []
  },
  {
   "cell_type": "code",
   "execution_count": 16,
   "id": "9d0402cb",
   "metadata": {},
   "outputs": [
    {
     "name": "stdout",
     "output_type": "stream",
     "text": [
      "6\n"
     ]
    }
   ],
   "source": [
    "# Python program to count all possible paths\n",
    "# from top left to bottom right\n",
    "\n",
    "# Returns count of possible paths to reach cell\n",
    "# at row number m and column number n from the\n",
    "# topmost leftmost cell (cell at 1, 1)\n",
    "def numberOfPaths(m, n):\n",
    "\t# Create a 2D table to store\n",
    "\t# results of subproblems\n",
    "\t# one-liner logic to take input for rows and columns\n",
    "\t# mat = [[int(input()) for x in range (C)] for y in range(R)]\n",
    "\t\n",
    "\tcount = [[0 for x in range(n)] for y in range(m)]\n",
    "\n",
    "\t# Count of paths to reach any\n",
    "\t# cell in first column is 1\n",
    "\tfor i in range(m):\n",
    "\t\tcount[i][0] = 1;\n",
    "\n",
    "\t# Count of paths to reach any\n",
    "\t# cell in first column is 1\n",
    "\tfor j in range(n):\n",
    "\t\tcount[0][j] = 1;\n",
    "\n",
    "\t# Calculate count of paths for other\n",
    "\t# cells in bottom-up\n",
    "\t# manner using the recursive solution\n",
    "\tfor i in range(1, m):\n",
    "\t\tfor j in range(1, n):\t\t\t\n",
    "\t\t\tcount[i][j] = count[i-1][j] + count[i][j-1]\n",
    "\treturn count[m-1][n-1]\n",
    "\n",
    "# Driver program to test above function\n",
    "m = 3\n",
    "n = 3\n",
    "print( numberOfPaths(m, n))\n",
    "\n",
    "\n"
   ]
  },
  {
   "cell_type": "code",
   "execution_count": null,
   "id": "3c95c13b",
   "metadata": {},
   "outputs": [],
   "source": []
  },
  {
   "cell_type": "code",
   "execution_count": null,
   "id": "e2f4eeff",
   "metadata": {},
   "outputs": [],
   "source": []
  }
 ],
 "metadata": {
  "kernelspec": {
   "display_name": "Python 3",
   "language": "python",
   "name": "python3"
  },
  "language_info": {
   "codemirror_mode": {
    "name": "ipython",
    "version": 3
   },
   "file_extension": ".py",
   "mimetype": "text/x-python",
   "name": "python",
   "nbconvert_exporter": "python",
   "pygments_lexer": "ipython3",
   "version": "3.8.10"
  }
 },
 "nbformat": 4,
 "nbformat_minor": 5
}
