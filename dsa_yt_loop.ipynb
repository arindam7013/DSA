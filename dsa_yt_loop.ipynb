{
 "cells": [
  {
   "cell_type": "code",
   "execution_count": 1,
   "metadata": {},
   "outputs": [],
   "source": [
    "#stars -> "
   ]
  },
  {
   "cell_type": "code",
   "execution_count": null,
   "metadata": {},
   "outputs": [],
   "source": [
    "#Q1"
   ]
  },
  {
   "cell_type": "code",
   "execution_count": 7,
   "metadata": {},
   "outputs": [
    {
     "data": {
      "text/plain": [
       "range(0, 5)"
      ]
     },
     "execution_count": 7,
     "metadata": {},
     "output_type": "execute_result"
    }
   ],
   "source": [
    "n = 5\n",
    "(range(n))"
   ]
  },
  {
   "cell_type": "code",
   "execution_count": 8,
   "metadata": {},
   "outputs": [
    {
     "data": {
      "text/plain": [
       "[0, 1, 2, 3, 4]"
      ]
     },
     "execution_count": 8,
     "metadata": {},
     "output_type": "execute_result"
    }
   ],
   "source": [
    "list(range(n))"
   ]
  },
  {
   "cell_type": "code",
   "execution_count": 19,
   "metadata": {},
   "outputs": [
    {
     "name": "stdout",
     "output_type": "stream",
     "text": [
      "*****\n",
      "*****\n",
      "*****\n",
      "*****\n",
      "*****\n"
     ]
    }
   ],
   "source": [
    "for i in list(range(n)):\n",
    "    for j in list(range(n)):\n",
    "        print(\"*\", end=\"\")\n",
    "        \n",
    "    print(\"\")"
   ]
  },
  {
   "cell_type": "code",
   "execution_count": null,
   "metadata": {},
   "outputs": [],
   "source": [
    "#Q2"
   ]
  },
  {
   "cell_type": "code",
   "execution_count": 20,
   "metadata": {},
   "outputs": [],
   "source": [
    "r = 5\n",
    "c = 4"
   ]
  },
  {
   "cell_type": "code",
   "execution_count": 22,
   "metadata": {},
   "outputs": [
    {
     "data": {
      "text/plain": [
       "5"
      ]
     },
     "execution_count": 22,
     "metadata": {},
     "output_type": "execute_result"
    }
   ],
   "source": [
    "len(list(range(r)))"
   ]
  },
  {
   "cell_type": "code",
   "execution_count": 33,
   "metadata": {},
   "outputs": [
    {
     "data": {
      "text/plain": [
       "4"
      ]
     },
     "execution_count": 33,
     "metadata": {},
     "output_type": "execute_result"
    }
   ],
   "source": [
    "len(list(range(c)))"
   ]
  },
  {
   "cell_type": "code",
   "execution_count": 44,
   "metadata": {},
   "outputs": [
    {
     "name": "stdout",
     "output_type": "stream",
     "text": [
      "**** \n",
      "*  * \n",
      "*  * \n",
      "*  * \n",
      "**** \n"
     ]
    }
   ],
   "source": [
    "for i in list(range(r)):\n",
    "    for j in list(range(c)):\n",
    "        if i == 0 or i == len(list(range(r))) - 1:\n",
    "            print(\"*\" , end='')\n",
    "            \n",
    "        elif j== 0 or j== 3 :\n",
    "            print(\"*\" , end='')\n",
    "            \n",
    "        else:\n",
    "            print(\" \", end='')\n",
    "            \n",
    "    print(\" \")\n",
    "    \n",
    "    \n",
    "    #else:\n",
    "            "
   ]
  },
  {
   "cell_type": "code",
   "execution_count": 45,
   "metadata": {},
   "outputs": [],
   "source": [
    "#Q3"
   ]
  },
  {
   "cell_type": "code",
   "execution_count": 12,
   "metadata": {},
   "outputs": [],
   "source": [
    "ro = 5\n",
    "col = 5"
   ]
  },
  {
   "cell_type": "code",
   "execution_count": 76,
   "metadata": {},
   "outputs": [
    {
     "data": {
      "text/plain": [
       "5"
      ]
     },
     "execution_count": 76,
     "metadata": {},
     "output_type": "execute_result"
    }
   ],
   "source": [
    "len(range(ro))"
   ]
  },
  {
   "cell_type": "code",
   "execution_count": 22,
   "metadata": {},
   "outputs": [
    {
     "name": "stdout",
     "output_type": "stream",
     "text": [
      "*****\r\n",
      "****\r\n",
      "***\r\n",
      "**\r\n",
      "*\r\n"
     ]
    }
   ],
   "source": [
    "ro = 5\n",
    "for i in range(ro, 0, -1):    \n",
    "    for j in range(0,i):        \n",
    "        print(\"*\", end='')        \n",
    "    print(\"\\r\")\n",
    "        \n"
   ]
  },
  {
   "cell_type": "code",
   "execution_count": 59,
   "metadata": {},
   "outputs": [
    {
     "name": "stdout",
     "output_type": "stream",
     "text": [
      "     \r\n",
      "    *\r\n",
      "   **\r\n",
      "  ***\r\n",
      " ****\r\n"
     ]
    }
   ],
   "source": [
    "ro = 5\n",
    "for i in range(ro):    \n",
    "    for j in range(ro):\n",
    "        if j < ro-i:\n",
    "            print(\" \", end='')\n",
    "            \n",
    "        else:\n",
    "            print(\"*\", end='')\n",
    "          \n",
    "    print(\"\\r\")\n",
    "        "
   ]
  },
  {
   "cell_type": "code",
   "execution_count": 60,
   "metadata": {},
   "outputs": [
    {
     "name": "stdout",
     "output_type": "stream",
     "text": [
      "1    \n",
      "22   \n",
      "333  \n",
      "4444 \n",
      "55555\n"
     ]
    }
   ],
   "source": [
    "for i in range(5):\n",
    "    for j in range(5):\n",
    "        if j > i:\n",
    "            print(\" \", end='')\n",
    "        else:\n",
    "            print(i+1, end='')\n",
    "        \n",
    "    print(\"\")"
   ]
  },
  {
   "cell_type": "code",
   "execution_count": 64,
   "metadata": {},
   "outputs": [
    {
     "name": "stdout",
     "output_type": "stream",
     "text": [
      "1       \n",
      "2   3      \n",
      "4   5   6     \n",
      "7   8   9   10    \n",
      "11   12   13   14   15   \n"
     ]
    }
   ],
   "source": [
    "count = 0\n",
    "for i in range(5):\n",
    "    for j in range(5):\n",
    "        if j > i:\n",
    "            print(\" \", end='')\n",
    "        else:\n",
    "            count += 1\n",
    "            print(count ,\"  \", end='')\n",
    "        \n",
    "    print(\"\")"
   ]
  },
  {
   "cell_type": "code",
   "execution_count": 96,
   "metadata": {},
   "outputs": [
    {
     "name": "stdout",
     "output_type": "stream",
     "text": [
      "*  _  _  _  _  _  _ * \n",
      " _ *  _  _  _  _  _ * \n",
      " _  _ *  _  _  _  _ * \n",
      " _  _  _ *  _  _  _ * \n"
     ]
    }
   ],
   "source": [
    "for i in range(4):\n",
    "    for j in range(8):\n",
    "        \n",
    "        #if j == 0 and j == 9:\n",
    "            if j == i or j ==7:\n",
    "                print(\"* \", end='')\n",
    "                #print(j, end='')\n",
    "                \n",
    "            else:\n",
    "                print(\" _ \", end='')\n",
    "        #else:\n",
    "            #print(\"*\", end='')\n",
    "        \n",
    "    print(\"\")"
   ]
  },
  {
   "cell_type": "code",
   "execution_count": 120,
   "metadata": {},
   "outputs": [
    {
     "name": "stdout",
     "output_type": "stream",
     "text": [
      " *  -  -  -  -  -  -  * \n",
      " *  *  -  -  -  -  -  * \n",
      " *  *  *  -  -  -  -  * \n",
      " *  *  *  *  -  -  -  * \n"
     ]
    }
   ],
   "source": [
    "for i in range(4):\n",
    "    temp = 7\n",
    "    temp = temp-1\n",
    "    for j in range(8):\n",
    "            \n",
    "                   \n",
    "             \n",
    "            if j > i  and j < temp:\n",
    "                print(\" - \", end='')\n",
    "                #print(j, end='')\n",
    "                \n",
    "                #print(temp, end=\"\")\n",
    "                \n",
    "            else:\n",
    "                print(\" * \", end='')\n",
    "        #else:\n",
    "            #print(\"*\", end='')\n",
    "        \n",
    "    print(\"\")"
   ]
  },
  {
   "cell_type": "code",
   "execution_count": 1,
   "metadata": {},
   "outputs": [
    {
     "name": "stdout",
     "output_type": "stream",
     "text": [
      " *        *  *  *  * \n",
      " \n",
      " *        *          \n",
      " \n",
      " *        *          \n",
      " \n",
      " *  *  *  *  *  *  * \n",
      " \n",
      "          *        * \n",
      " \n",
      "          *        * \n",
      " \n",
      " *  *  *  *        * \n",
      " \n"
     ]
    }
   ],
   "source": [
    "for i in range(7):\n",
    "    for j in range(7):\n",
    "        if i==0 and (j ==1 or j==2):\n",
    "            print(\"   \", end='')\n",
    "        elif i>0 and i<3 and (j==1 or j==2 or j==4 or j==5 or j==6):\n",
    "            print(\"   \", end='')\n",
    "            \n",
    "        elif i>3 and i<6 and (j==0 or j==1 or j==2 or j==4 or j==5):\n",
    "            print(\"   \", end='')\n",
    "        elif i==6 and (j==4 or j==5):\n",
    "            print(\"   \", end='')\n",
    "            \n",
    "            \n",
    " \n",
    "        else:\n",
    "            print(\" * \", end='')\n",
    "    print(\"\\n \")"
   ]
  },
  {
   "cell_type": "code",
   "execution_count": null,
   "metadata": {},
   "outputs": [],
   "source": []
  }
 ],
 "metadata": {
  "kernelspec": {
   "display_name": "Python 3",
   "language": "python",
   "name": "python3"
  },
  "language_info": {
   "codemirror_mode": {
    "name": "ipython",
    "version": 3
   },
   "file_extension": ".py",
   "mimetype": "text/x-python",
   "name": "python",
   "nbconvert_exporter": "python",
   "pygments_lexer": "ipython3",
   "version": "3.8.10"
  }
 },
 "nbformat": 4,
 "nbformat_minor": 4
}
