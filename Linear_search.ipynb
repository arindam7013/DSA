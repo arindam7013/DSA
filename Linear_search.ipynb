{
 "cells": [
  {
   "cell_type": "code",
   "execution_count": 2,
   "metadata": {},
   "outputs": [],
   "source": [
    "# Linear search"
   ]
  },
  {
   "cell_type": "code",
   "execution_count": 3,
   "metadata": {},
   "outputs": [],
   "source": [
    "arr = [5,7,8,9,3,23,55,12,66]"
   ]
  },
  {
   "cell_type": "code",
   "execution_count": 4,
   "metadata": {},
   "outputs": [],
   "source": [
    "def linear(element):\n",
    "    #initially position = 0  and we haven't found our element. SO position = 0 and found = False\n",
    "    position = 0\n",
    "    found = False\n",
    "    \n",
    "    # found = False; not found = not False == TRUE\n",
    "    while position < len(arr) and not found:\n",
    "        if arr[position] == element:\n",
    "            found = True\n",
    "       #if element found it will retrun True if not then shift the position to one place\n",
    "        else:\n",
    "            position = position + 1\n",
    "    return found\n",
    "            "
   ]
  },
  {
   "cell_type": "code",
   "execution_count": 5,
   "metadata": {},
   "outputs": [
    {
     "data": {
      "text/plain": [
       "True"
      ]
     },
     "execution_count": 5,
     "metadata": {},
     "output_type": "execute_result"
    }
   ],
   "source": [
    "linear(66)"
   ]
  },
  {
   "cell_type": "code",
   "execution_count": 56,
   "metadata": {},
   "outputs": [],
   "source": [
    "array = [6,8,9,8,7,4,5,2,1,3]"
   ]
  },
  {
   "cell_type": "code",
   "execution_count": 57,
   "metadata": {},
   "outputs": [],
   "source": [
    "def linear_S(number):\n",
    "    pos = 0\n",
    "    found = False\n",
    "    while pos < len(array) and not found:\n",
    "        if array[pos] == number:\n",
    "            found = True\n",
    "        else: \n",
    "            pos = pos+1\n",
    "        \n",
    "    return found "
   ]
  },
  {
   "cell_type": "code",
   "execution_count": 58,
   "metadata": {},
   "outputs": [
    {
     "data": {
      "text/plain": [
       "False"
      ]
     },
     "execution_count": 58,
     "metadata": {},
     "output_type": "execute_result"
    }
   ],
   "source": [
    "linear_S(87)"
   ]
  },
  {
   "cell_type": "code",
   "execution_count": 68,
   "metadata": {},
   "outputs": [],
   "source": [
    "array = [6,8,9,8,7,4,5,2,1,3]"
   ]
  },
  {
   "cell_type": "code",
   "execution_count": null,
   "metadata": {},
   "outputs": [],
   "source": [
    "  "
   ]
  },
  {
   "cell_type": "code",
   "execution_count": null,
   "metadata": {},
   "outputs": [],
   "source": []
  },
  {
   "cell_type": "code",
   "execution_count": 69,
   "metadata": {},
   "outputs": [],
   "source": [
    "def test(element):\n",
    "    for i in range(len(array)):\n",
    "        if array[i] == element:\n",
    "            print(\"we found it at \", i)\n",
    "            \n",
    "        else:\n",
    "            print(\"not in list\")\n",
    "            \n",
    "        "
   ]
  },
  {
   "cell_type": "code",
   "execution_count": 70,
   "metadata": {},
   "outputs": [
    {
     "name": "stdout",
     "output_type": "stream",
     "text": [
      "not in list\n",
      "we found it at  1\n",
      "not in list\n",
      "we found it at  3\n",
      "not in list\n",
      "not in list\n",
      "not in list\n",
      "not in list\n",
      "not in list\n",
      "not in list\n"
     ]
    }
   ],
   "source": [
    "test(8)"
   ]
  },
  {
   "cell_type": "code",
   "execution_count": null,
   "metadata": {},
   "outputs": [],
   "source": []
  }
 ],
 "metadata": {
  "kernelspec": {
   "display_name": "Python 3",
   "language": "python",
   "name": "python3"
  },
  "language_info": {
   "codemirror_mode": {
    "name": "ipython",
    "version": 3
   },
   "file_extension": ".py",
   "mimetype": "text/x-python",
   "name": "python",
   "nbconvert_exporter": "python",
   "pygments_lexer": "ipython3",
   "version": "3.8.3"
  }
 },
 "nbformat": 4,
 "nbformat_minor": 4
}
