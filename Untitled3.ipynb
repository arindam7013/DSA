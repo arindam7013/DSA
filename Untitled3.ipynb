{
 "cells": [
  {
   "cell_type": "code",
   "execution_count": 4,
   "id": "6e42c24f",
   "metadata": {},
   "outputs": [
    {
     "name": "stdout",
     "output_type": "stream",
     "text": [
      "3\n"
     ]
    }
   ],
   "source": [
    "temp = 153\n",
    "digit = temp%10\n",
    "print(digit)"
   ]
  },
  {
   "cell_type": "code",
   "execution_count": 7,
   "id": "f93fbd24",
   "metadata": {},
   "outputs": [],
   "source": [
    "sum = 0\n",
    "sum = sum + digit **2\n",
    "temp //= 10"
   ]
  },
  {
   "cell_type": "code",
   "execution_count": 8,
   "id": "928993fb",
   "metadata": {},
   "outputs": [
    {
     "data": {
      "text/plain": [
       "15"
      ]
     },
     "execution_count": 8,
     "metadata": {},
     "output_type": "execute_result"
    }
   ],
   "source": [
    "temp"
   ]
  },
  {
   "cell_type": "code",
   "execution_count": 9,
   "id": "9a67a658",
   "metadata": {},
   "outputs": [
    {
     "data": {
      "text/plain": [
       "3"
      ]
     },
     "execution_count": 9,
     "metadata": {},
     "output_type": "execute_result"
    }
   ],
   "source": [
    "10 //3"
   ]
  },
  {
   "cell_type": "code",
   "execution_count": null,
   "id": "d760da28",
   "metadata": {},
   "outputs": [],
   "source": []
  },
  {
   "cell_type": "code",
   "execution_count": null,
   "id": "df128854",
   "metadata": {},
   "outputs": [],
   "source": []
  },
  {
   "cell_type": "code",
   "execution_count": 13,
   "id": "44c777e5",
   "metadata": {},
   "outputs": [],
   "source": [
    "marks = [45,34,76,23,90,90,11,76,89]"
   ]
  },
  {
   "cell_type": "code",
   "execution_count": 20,
   "id": "44e76d88",
   "metadata": {},
   "outputs": [
    {
     "name": "stdout",
     "output_type": "stream",
     "text": [
      "[11, 23, 34, 45, 76, 76, 89, 90, 90]\n",
      "6\n"
     ]
    },
    {
     "data": {
      "text/plain": [
       "89"
      ]
     },
     "execution_count": 20,
     "metadata": {},
     "output_type": "execute_result"
    }
   ],
   "source": [
    "def wrong(arr):\n",
    "    arr.sort()\n",
    "    print(arr)\n",
    "    \n",
    "    for i in range(len(arr) - 2, 0, -1):   #(7 , -1/0, -1 )\n",
    "        if arr[i] != arr[len(arr) - 1]:\n",
    "            \n",
    "            return arr[i]\n",
    "    \n",
    "    \n",
    "    \n",
    "    \n",
    "    \n",
    "    \n",
    "\n",
    "wrong(marks)"
   ]
  },
  {
   "cell_type": "code",
   "execution_count": 5,
   "id": "069a6e58",
   "metadata": {},
   "outputs": [],
   "source": [
    "marks = [45,34,76,23,90,90,11,76,89]"
   ]
  },
  {
   "cell_type": "code",
   "execution_count": 7,
   "id": "571cdeea",
   "metadata": {},
   "outputs": [
    {
     "name": "stdout",
     "output_type": "stream",
     "text": [
      "False\n"
     ]
    }
   ],
   "source": [
    "temp = max(marks)\n",
    "print(max(marks) != temp)"
   ]
  },
  {
   "cell_type": "code",
   "execution_count": null,
   "id": "8ad78c2b",
   "metadata": {},
   "outputs": [],
   "source": []
  },
  {
   "cell_type": "code",
   "execution_count": 35,
   "id": "7b235716",
   "metadata": {},
   "outputs": [],
   "source": [
    "a = [6,-4,3,5,6,7,8,7,8,99,7,5,-11]"
   ]
  },
  {
   "cell_type": "code",
   "execution_count": 40,
   "id": "0a9a0520",
   "metadata": {},
   "outputs": [
    {
     "name": "stdout",
     "output_type": "stream",
     "text": [
      "-11  5  7  99  8  7  8  7  6  5  3  -4  "
     ]
    }
   ],
   "source": [
    "for i in range(len(a)-1,0,-1):\n",
    "    print(a[i],\" \", end='')"
   ]
  },
  {
   "cell_type": "code",
   "execution_count": null,
   "id": "67da33b2",
   "metadata": {},
   "outputs": [],
   "source": []
  },
  {
   "cell_type": "code",
   "execution_count": 28,
   "id": "2e06bfd0",
   "metadata": {},
   "outputs": [
    {
     "data": {
      "text/plain": [
       "(99, -11)"
      ]
     },
     "execution_count": 28,
     "metadata": {},
     "output_type": "execute_result"
    }
   ],
   "source": [
    "def max_min(arr):\n",
    "    max = 0\n",
    "    min = arr[0] #6\n",
    "    for i in range(len(arr)):\n",
    "        if arr[i] > max:\n",
    "            max= arr[i]\n",
    "            \n",
    "        if arr[i] < min:\n",
    "            min = arr[i]\n",
    "        \n",
    "\n",
    "    return max , min\n",
    "\n",
    "\n",
    "max_min(a)\n",
    "            "
   ]
  },
  {
   "cell_type": "code",
   "execution_count": 3,
   "id": "4acb2df4",
   "metadata": {},
   "outputs": [],
   "source": [
    "A = 9"
   ]
  },
  {
   "cell_type": "code",
   "execution_count": 5,
   "id": "70e33d98",
   "metadata": {},
   "outputs": [
    {
     "name": "stdout",
     "output_type": "stream",
     "text": [
      "0\n",
      "1\n",
      "2\n",
      "3\n",
      "4\n",
      "5\n",
      "6\n",
      "7\n",
      "8\n"
     ]
    }
   ],
   "source": [
    "for i in range(A):\n",
    "    print(i)"
   ]
  },
  {
   "cell_type": "code",
   "execution_count": 6,
   "id": "61f049a0",
   "metadata": {},
   "outputs": [
    {
     "data": {
      "text/plain": [
       "120"
      ]
     },
     "execution_count": 6,
     "metadata": {},
     "output_type": "execute_result"
    }
   ],
   "source": [
    "def fact(n):\n",
    "    if n == 0:\n",
    "        return 1\n",
    "    else:\n",
    "        return n * fact(n-1)\n",
    "fact(5)"
   ]
  },
  {
   "cell_type": "code",
   "execution_count": 1,
   "id": "7c75163d",
   "metadata": {},
   "outputs": [
    {
     "ename": "SyntaxError",
     "evalue": "unexpected EOF while parsing (<ipython-input-1-8747e932e5ed>, line 5)",
     "output_type": "error",
     "traceback": [
      "\u001b[1;36m  File \u001b[1;32m\"<ipython-input-1-8747e932e5ed>\"\u001b[1;36m, line \u001b[1;32m5\u001b[0m\n\u001b[1;33m    \u001b[0m\n\u001b[1;37m    ^\u001b[0m\n\u001b[1;31mSyntaxError\u001b[0m\u001b[1;31m:\u001b[0m unexpected EOF while parsing\n"
     ]
    }
   ],
   "source": [
    "def info(A, N):\n",
    "    \n",
    "    for i in A:\n",
    "        for j in A:\n",
    "            "
   ]
  },
  {
   "cell_type": "code",
   "execution_count": null,
   "id": "7dfed52c",
   "metadata": {},
   "outputs": [],
   "source": []
  },
  {
   "cell_type": "code",
   "execution_count": 9,
   "id": "cfdbf4bc",
   "metadata": {},
   "outputs": [
    {
     "data": {
      "text/plain": [
       "([5, 8, 11, 14], 38)"
      ]
     },
     "execution_count": 9,
     "metadata": {},
     "output_type": "execute_result"
    }
   ],
   "source": [
    "def shooter(m,n):\n",
    "    sum = []\n",
    "    sum.append(m)\n",
    "    t = m\n",
    "    f = 0\n",
    "    \n",
    "    for i in range(n-1):\n",
    "        t = t+3\n",
    "        sum.append(t)\n",
    "        \n",
    "    for j in range(len(sum)):\n",
    "        f = f + sum[j]\n",
    "         \n",
    "        \n",
    "    return sum, f\n",
    "\n",
    "\n",
    "shooter(5,4)"
   ]
  },
  {
   "cell_type": "code",
   "execution_count": null,
   "id": "a08fab7c",
   "metadata": {},
   "outputs": [],
   "source": []
  },
  {
   "cell_type": "code",
   "execution_count": null,
   "id": "55ec2259",
   "metadata": {},
   "outputs": [],
   "source": []
  },
  {
   "cell_type": "code",
   "execution_count": 1,
   "id": "b874187b",
   "metadata": {},
   "outputs": [
    {
     "data": {
      "text/plain": [
       "9"
      ]
     },
     "execution_count": 1,
     "metadata": {},
     "output_type": "execute_result"
    }
   ],
   "source": [
    "18 and 9"
   ]
  },
  {
   "cell_type": "code",
   "execution_count": null,
   "id": "badba756",
   "metadata": {},
   "outputs": [],
   "source": []
  },
  {
   "cell_type": "code",
   "execution_count": null,
   "id": "160004e1",
   "metadata": {},
   "outputs": [],
   "source": []
  },
  {
   "cell_type": "code",
   "execution_count": 2,
   "id": "f6c87f94",
   "metadata": {},
   "outputs": [],
   "source": [
    "def func(n , m):\n",
    "    t = n + m\n",
    "    \n",
    "    if len(str(t)) == len(str(n)):\n",
    "        return int(t)\n",
    "    \n",
    "    else:\n",
    "        return int(n)"
   ]
  },
  {
   "cell_type": "code",
   "execution_count": null,
   "id": "ada8a618",
   "metadata": {},
   "outputs": [],
   "source": []
  },
  {
   "cell_type": "code",
   "execution_count": null,
   "id": "e635bdbc",
   "metadata": {},
   "outputs": [],
   "source": []
  },
  {
   "cell_type": "code",
   "execution_count": null,
   "id": "b30449c8",
   "metadata": {},
   "outputs": [],
   "source": []
  },
  {
   "cell_type": "code",
   "execution_count": null,
   "id": "a9e8d5a7",
   "metadata": {},
   "outputs": [],
   "source": []
  },
  {
   "cell_type": "code",
   "execution_count": null,
   "id": "c9c0a5c1",
   "metadata": {},
   "outputs": [],
   "source": []
  }
 ],
 "metadata": {
  "kernelspec": {
   "display_name": "Python 3",
   "language": "python",
   "name": "python3"
  },
  "language_info": {
   "codemirror_mode": {
    "name": "ipython",
    "version": 3
   },
   "file_extension": ".py",
   "mimetype": "text/x-python",
   "name": "python",
   "nbconvert_exporter": "python",
   "pygments_lexer": "ipython3",
   "version": "3.8.10"
  }
 },
 "nbformat": 4,
 "nbformat_minor": 5
}
