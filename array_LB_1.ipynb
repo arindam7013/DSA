{
 "cells": [
  {
   "cell_type": "code",
   "execution_count": 1,
   "id": "800a6eb9",
   "metadata": {},
   "outputs": [],
   "source": [
    "#Col 6     Reverse the array"
   ]
  },
  {
   "cell_type": "code",
   "execution_count": 1,
   "id": "7e2b0b1a",
   "metadata": {},
   "outputs": [
    {
     "data": {
      "text/plain": [
       "[4, 3, 2]"
      ]
     },
     "execution_count": 1,
     "metadata": {},
     "output_type": "execute_result"
    }
   ],
   "source": [
    "arr = [2,3,4]\n",
    "arr[::-1]"
   ]
  },
  {
   "cell_type": "code",
   "execution_count": 36,
   "id": "a58b5cca",
   "metadata": {},
   "outputs": [
    {
     "name": "stdout",
     "output_type": "stream",
     "text": [
      "[4, 3, 2]\n"
     ]
    }
   ],
   "source": [
    "temp = []\n",
    "for i in range(len(arr)-1, -1, -1):\n",
    "    temp.append(arr[i])\n",
    "\n",
    "print(temp)\n",
    "   "
   ]
  },
  {
   "cell_type": "code",
   "execution_count": null,
   "id": "7146bd8c",
   "metadata": {},
   "outputs": [],
   "source": []
  },
  {
   "cell_type": "code",
   "execution_count": null,
   "id": "eeace380",
   "metadata": {},
   "outputs": [],
   "source": []
  },
  {
   "cell_type": "code",
   "execution_count": null,
   "id": "0a095617",
   "metadata": {},
   "outputs": [],
   "source": []
  },
  {
   "cell_type": "code",
   "execution_count": 10,
   "id": "2ea25594",
   "metadata": {},
   "outputs": [
    {
     "data": {
      "text/plain": [
       "[4, 9, 8, 57, 4, 5, 7, 6, 73, 12]"
      ]
     },
     "execution_count": 10,
     "metadata": {},
     "output_type": "execute_result"
    }
   ],
   "source": [
    "arr = [12,73,6,7,5,4,57,8,9,4]\n",
    "end = len(arr) -1\n",
    "start = 0\n",
    "def rev(arr, start, end):\n",
    "    \n",
    "        if start >= end:\n",
    "            return\n",
    "        arr[start] , arr[end] = arr[end] , arr[start]\n",
    "        rev(arr, start + 1, end-1)\n",
    "        \n",
    "        return arr\n",
    "        \n",
    "        \n",
    "rev(arr, start, end)\n",
    "    "
   ]
  },
  {
   "cell_type": "code",
   "execution_count": 10,
   "id": "28ac27cc",
   "metadata": {},
   "outputs": [
    {
     "data": {
      "text/plain": [
       "[12, 73, 6, 7, 5, 4, 57, 8, 9, 4]"
      ]
     },
     "execution_count": 10,
     "metadata": {},
     "output_type": "execute_result"
    }
   ],
   "source": []
  },
  {
   "cell_type": "code",
   "execution_count": null,
   "id": "a61759dc",
   "metadata": {},
   "outputs": [],
   "source": []
  },
  {
   "cell_type": "code",
   "execution_count": null,
   "id": "848ba13d",
   "metadata": {},
   "outputs": [],
   "source": []
  },
  {
   "cell_type": "code",
   "execution_count": 4,
   "id": "62514f9f",
   "metadata": {},
   "outputs": [],
   "source": [
    "#Col 7          Maximum and minimum of an array using minimum number of comparisons"
   ]
  },
  {
   "cell_type": "code",
   "execution_count": 2,
   "id": "904bfa6e",
   "metadata": {},
   "outputs": [
    {
     "name": "stdout",
     "output_type": "stream",
     "text": [
      "6\n",
      "-5\n"
     ]
    }
   ],
   "source": [
    "arr = [4,-5,6]\n",
    "print (max(arr))\n",
    "print(min(arr))"
   ]
  },
  {
   "cell_type": "code",
   "execution_count": 4,
   "id": "4158a5fb",
   "metadata": {},
   "outputs": [
    {
     "name": "stdout",
     "output_type": "stream",
     "text": [
      "max val is -> 6\n",
      "min val is -> -5\n"
     ]
    }
   ],
   "source": [
    "min = arr[0]\n",
    "max = arr[0]\n",
    "for i in range(len(arr) ):\n",
    "    if len(arr) == 1:\n",
    "        print(arr) \n",
    "    if arr[i] > max and arr[i]> min:\n",
    "        max = arr[i]\n",
    "        \n",
    "    if arr[i] <= min and arr[i]< max:\n",
    "        min = arr[i]\n",
    "print(\"max val is ->\", max)\n",
    "print(\"min val is ->\", min)\n",
    "    "
   ]
  },
  {
   "cell_type": "code",
   "execution_count": 1,
   "id": "28447ebb",
   "metadata": {},
   "outputs": [],
   "source": [
    "# COl 8    Kth smallest element\n",
    "        "
   ]
  },
  {
   "cell_type": "code",
   "execution_count": 155,
   "id": "45de8e8d",
   "metadata": {},
   "outputs": [
    {
     "data": {
      "text/plain": [
       "7"
      ]
     },
     "execution_count": 155,
     "metadata": {},
     "output_type": "execute_result"
    }
   ],
   "source": [
    "arr = [44,5,56,9,8,7,2,3,4,5,6,7]\n",
    "n = len(arr)\n",
    "k = 7\n",
    "l = len(arr) - 1\n",
    "\n",
    "def kth(arr, n, k, l):\n",
    "    if k <= len(arr):\n",
    "        arr.sort()\n",
    "        return arr[k-1]\n",
    "\n",
    "kth(arr, n, k, l)"
   ]
  },
  {
   "cell_type": "code",
   "execution_count": 156,
   "id": "23442364",
   "metadata": {},
   "outputs": [
    {
     "data": {
      "text/plain": [
       "[2, 3, 4, 5, 5, 6, 7, 7, 8, 9, 44, 56]"
      ]
     },
     "execution_count": 156,
     "metadata": {},
     "output_type": "execute_result"
    }
   ],
   "source": [
    "arr"
   ]
  },
  {
   "cell_type": "code",
   "execution_count": null,
   "id": "09968f3e",
   "metadata": {},
   "outputs": [],
   "source": [
    "#c9       Sort an array of 0s, 1s and 2s "
   ]
  },
  {
   "cell_type": "code",
   "execution_count": null,
   "id": "5ff3c513",
   "metadata": {},
   "outputs": [],
   "source": []
  },
  {
   "cell_type": "code",
   "execution_count": 8,
   "id": "e9204a4e",
   "metadata": {},
   "outputs": [],
   "source": [
    "arr = [2,1,0,1,1,0,1,2,0,2,0,1,2,0]\n",
    "arr.sort()"
   ]
  },
  {
   "cell_type": "code",
   "execution_count": 11,
   "id": "976e6a80",
   "metadata": {},
   "outputs": [
    {
     "data": {
      "text/plain": [
       "[0, 0, 0, 0, 0, 1, 1, 1, 1, 1, 2, 2, 2, 2]"
      ]
     },
     "execution_count": 11,
     "metadata": {},
     "output_type": "execute_result"
    }
   ],
   "source": [
    "def sort_a(arr):\n",
    "    a = []\n",
    "    b = []\n",
    "    c = []\n",
    "    for i in arr:\n",
    "        if i == 0:\n",
    "            a.append(i)\n",
    "        elif i == 1:\n",
    "            b.append(i)\n",
    "        elif i ==2:\n",
    "            c.append(i)\n",
    "    b = b + c\n",
    "    a = a + b\n",
    "    return a\n",
    "    \n",
    "sort_a(arr)"
   ]
  },
  {
   "cell_type": "code",
   "execution_count": null,
   "id": "cf584d7f",
   "metadata": {},
   "outputs": [],
   "source": []
  },
  {
   "cell_type": "code",
   "execution_count": null,
   "id": "0e2a252d",
   "metadata": {},
   "outputs": [],
   "source": [
    "#move all negative numbers to one side"
   ]
  },
  {
   "cell_type": "code",
   "execution_count": 33,
   "id": "e12b1006",
   "metadata": {},
   "outputs": [],
   "source": [
    "arr = [-1, -2,-5,-8, 5,6,7,9,-10]"
   ]
  },
  {
   "cell_type": "code",
   "execution_count": 17,
   "id": "5aece5c2",
   "metadata": {},
   "outputs": [
    {
     "data": {
      "text/plain": [
       "[-1, -2, -5, -8, -10, 5, 6, 7, 9]"
      ]
     },
     "execution_count": 17,
     "metadata": {},
     "output_type": "execute_result"
    }
   ],
   "source": [
    "\n",
    "def side(arr):\n",
    "    n_array = []\n",
    "    p_array = []\n",
    "    for i in arr:\n",
    "        if i < 0:\n",
    "            n_array.append(i)\n",
    "        elif i >= 0:\n",
    "            p_array.append(i)\n",
    "    n_array = n_array + p_array\n",
    "    return n_array\n",
    "            \n",
    "side(arr)       "
   ]
  },
  {
   "cell_type": "code",
   "execution_count": null,
   "id": "c02716d7",
   "metadata": {},
   "outputs": [],
   "source": []
  },
  {
   "cell_type": "code",
   "execution_count": null,
   "id": "43309d6d",
   "metadata": {},
   "outputs": [],
   "source": [
    "# remove all the common terms from 2 arrays and return the length of combined array"
   ]
  },
  {
   "cell_type": "code",
   "execution_count": 11,
   "id": "fe5b7efb",
   "metadata": {},
   "outputs": [],
   "source": [
    "a = [1,2,3]\n",
    "b = [3,4,5,1]\n",
    "a = a + b"
   ]
  },
  {
   "cell_type": "code",
   "execution_count": 13,
   "id": "c0d1d891",
   "metadata": {},
   "outputs": [
    {
     "data": {
      "text/plain": [
       "[1, 2, 3, 4, 5]"
      ]
     },
     "execution_count": 13,
     "metadata": {},
     "output_type": "execute_result"
    }
   ],
   "source": [
    "def union(arr):\n",
    "    emp = []\n",
    "    for i in a:\n",
    "        if i not in emp:\n",
    "            emp.append(i)\n",
    "        \n",
    "    return (emp)\n",
    "union(a)"
   ]
  },
  {
   "cell_type": "code",
   "execution_count": 5,
   "id": "2c915ad3",
   "metadata": {},
   "outputs": [],
   "source": [
    "#C 12     Write a program to cyclically rotate an array by one.\n",
    "# [1,2,3,4,5] = [5,1,2,3,4]\n",
    "a = [1,2,3,4,5]"
   ]
  },
  {
   "cell_type": "code",
   "execution_count": null,
   "id": "e5cf50c4",
   "metadata": {},
   "outputs": [],
   "source": []
  },
  {
   "cell_type": "code",
   "execution_count": 14,
   "id": "f6856f32",
   "metadata": {},
   "outputs": [],
   "source": [
    "def cycle(arr):\n",
    "    temp = arr[len(arr)-1]\n",
    "    for i in range(len(arr)-1, -1, -1):\n",
    "        arr [i] = arr[i-1]\n",
    "        \n",
    "    arr[0] = temp\n",
    "    return arr\n",
    "        \n",
    "\n",
    "        \n",
    "    "
   ]
  },
  {
   "cell_type": "code",
   "execution_count": 16,
   "id": "dcb64f00",
   "metadata": {},
   "outputs": [
    {
     "data": {
      "text/plain": [
       "[5, 1, 2, 3, 4]"
      ]
     },
     "execution_count": 16,
     "metadata": {},
     "output_type": "execute_result"
    }
   ],
   "source": [
    "asdd = [1,2,3,4,5]\n",
    "cycle(asdd)"
   ]
  },
  {
   "cell_type": "code",
   "execution_count": 1,
   "id": "40074470",
   "metadata": {},
   "outputs": [],
   "source": []
  },
  {
   "cell_type": "code",
   "execution_count": null,
   "id": "98c4ef4f",
   "metadata": {},
   "outputs": [],
   "source": []
  },
  {
   "cell_type": "code",
   "execution_count": null,
   "id": "dca6ce27",
   "metadata": {},
   "outputs": [],
   "source": []
  },
  {
   "cell_type": "code",
   "execution_count": null,
   "id": "7121f793",
   "metadata": {},
   "outputs": [],
   "source": []
  },
  {
   "cell_type": "code",
   "execution_count": null,
   "id": "08528576",
   "metadata": {},
   "outputs": [],
   "source": []
  },
  {
   "cell_type": "code",
   "execution_count": null,
   "id": "9eba3f4b",
   "metadata": {},
   "outputs": [],
   "source": []
  },
  {
   "cell_type": "code",
   "execution_count": null,
   "id": "d8f97cf4",
   "metadata": {},
   "outputs": [],
   "source": []
  },
  {
   "cell_type": "code",
   "execution_count": null,
   "id": "3477ffe1",
   "metadata": {},
   "outputs": [],
   "source": []
  },
  {
   "cell_type": "code",
   "execution_count": 1,
   "id": "dd84c39d",
   "metadata": {},
   "outputs": [],
   "source": [
    "axx = [6,7,8,9]"
   ]
  },
  {
   "cell_type": "code",
   "execution_count": 4,
   "id": "8b7716b5",
   "metadata": {},
   "outputs": [
    {
     "data": {
      "text/plain": [
       "2422120262976"
      ]
     },
     "execution_count": 4,
     "metadata": {},
     "output_type": "execute_result"
    }
   ],
   "source": [
    "id(axx) "
   ]
  },
  {
   "cell_type": "code",
   "execution_count": 7,
   "id": "a559c3f8",
   "metadata": {},
   "outputs": [
    {
     "data": {
      "text/plain": [
       "4844240525952"
      ]
     },
     "execution_count": 7,
     "metadata": {},
     "output_type": "execute_result"
    }
   ],
   "source": [
    "id(axx) + id(axx) "
   ]
  },
  {
   "cell_type": "code",
   "execution_count": null,
   "id": "52480be3",
   "metadata": {},
   "outputs": [],
   "source": []
  },
  {
   "cell_type": "code",
   "execution_count": null,
   "id": "463ce2e7",
   "metadata": {},
   "outputs": [],
   "source": []
  }
 ],
 "metadata": {
  "kernelspec": {
   "display_name": "Python 3",
   "language": "python",
   "name": "python3"
  },
  "language_info": {
   "codemirror_mode": {
    "name": "ipython",
    "version": 3
   },
   "file_extension": ".py",
   "mimetype": "text/x-python",
   "name": "python",
   "nbconvert_exporter": "python",
   "pygments_lexer": "ipython3",
   "version": "3.8.10"
  }
 },
 "nbformat": 4,
 "nbformat_minor": 5
}
