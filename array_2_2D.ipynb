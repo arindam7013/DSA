{
 "cells": [
  {
   "cell_type": "code",
   "execution_count": 1,
   "id": "5117ce04",
   "metadata": {},
   "outputs": [],
   "source": [
    "a = [-2, -3, 4, -1, -2, 1, 5, -3]"
   ]
  },
  {
   "cell_type": "code",
   "execution_count": 2,
   "id": "a123ff44",
   "metadata": {},
   "outputs": [],
   "source": [
    "def kadane(a):\n",
    "    sum = 0\n",
    "    prev = 0\n",
    "    for i in range(len(a)):\n",
    "        if a[i]>0 or prev>sum:\n",
    "            sum = sum + a[i]\n",
    "            print(\"sum->\", sum)\n",
    "        \n",
    "            if sum >= prev:\n",
    "                prev = sum\n",
    "        \n",
    "    \n",
    "        #else:\n",
    "         #   sum = 0\n",
    "        print(\"Biggest sum is ->\", prev)\n",
    "\n",
    "    \n"
   ]
  },
  {
   "cell_type": "code",
   "execution_count": 3,
   "id": "a4b3854d",
   "metadata": {},
   "outputs": [
    {
     "name": "stdout",
     "output_type": "stream",
     "text": [
      "Biggest sum is -> 0\n",
      "Biggest sum is -> 0\n",
      "sum-> 4\n",
      "Biggest sum is -> 4\n",
      "Biggest sum is -> 4\n",
      "Biggest sum is -> 4\n",
      "sum-> 5\n",
      "Biggest sum is -> 5\n",
      "sum-> 10\n",
      "Biggest sum is -> 10\n",
      "Biggest sum is -> 10\n"
     ]
    }
   ],
   "source": [
    "kadane(a)"
   ]
  },
  {
   "cell_type": "code",
   "execution_count": 137,
   "id": "fb1e5723",
   "metadata": {},
   "outputs": [],
   "source": []
  },
  {
   "cell_type": "code",
   "execution_count": 148,
   "id": "04234782",
   "metadata": {},
   "outputs": [
    {
     "data": {
      "text/plain": [
       "<function list.index(value, start=0, stop=9223372036854775807, /)>"
      ]
     },
     "execution_count": 148,
     "metadata": {},
     "output_type": "execute_result"
    }
   ],
   "source": [
    "arr."
   ]
  },
  {
   "cell_type": "code",
   "execution_count": 139,
   "id": "d510207d",
   "metadata": {},
   "outputs": [
    {
     "data": {
      "text/plain": [
       "4"
      ]
     },
     "execution_count": 139,
     "metadata": {},
     "output_type": "execute_result"
    }
   ],
   "source": [
    "len(arr)"
   ]
  },
  {
   "cell_type": "code",
   "execution_count": 24,
   "id": "579efc94",
   "metadata": {},
   "outputs": [],
   "source": [
    "array = [\n",
    "     [11, 12, 5 , 2],\n",
    "     [15, 6,10 , 11], \n",
    "     [10, 8, 12 , 5],\n",
    "     [12 ,15, 8 , 6]\n",
    "      ]"
   ]
  },
  {
   "cell_type": "code",
   "execution_count": 25,
   "id": "9e30d05b",
   "metadata": {},
   "outputs": [
    {
     "name": "stdout",
     "output_type": "stream",
     "text": [
      "2\n"
     ]
    }
   ],
   "source": [
    "print(array[0][3])"
   ]
  },
  {
   "cell_type": "code",
   "execution_count": 26,
   "id": "a3124786",
   "metadata": {},
   "outputs": [],
   "source": [
    "rs = 0\n",
    "re = 3\n",
    "cs = 0\n",
    "ce = 3"
   ]
  },
  {
   "cell_type": "code",
   "execution_count": 4,
   "id": "e01bb39e",
   "metadata": {},
   "outputs": [
    {
     "name": "stdout",
     "output_type": "stream",
     "text": [
      "11   12   5   \n",
      "2   11   5   \n",
      "6   8   15   \n",
      "12   10   15   \n",
      "6   \n",
      "10   \n",
      "12   \n",
      "8   \n"
     ]
    }
   ],
   "source": [
    "array = [\n",
    "     [11, 12, 5 , 2],\n",
    "     [15, 6,10 , 11], \n",
    "     [10, 8, 12 , 5],\n",
    "     [12 ,15, 8 , 6]\n",
    "      ]\n",
    "rs = 0\n",
    "re = 3\n",
    "cs = 0\n",
    "ce = 3\n",
    "while (rs<re and cs < ce):\n",
    "    for i in range(cs, ce):\n",
    "        print(array[rs][i], \"  \",  end ='')\n",
    "    print(\"\")\n",
    "        \n",
    "    for j in range(rs, re):\n",
    "        print(array[j][ce], \"  \" , end='')\n",
    "\n",
    "    print(\"\")\n",
    "    \n",
    "    for k in range(ce,cs, -1):\n",
    "        print(array[re][k], \"  \", end=\"\")\n",
    "    \n",
    "    print(\"\")\n",
    "\n",
    "    for l in range(re,rs,-1):\n",
    "        print(array[l][cs], \"  \", end='')\n",
    "    print(\"\")\n",
    "    cs = cs+1\n",
    "    rs = rs+1\n",
    "    ce = ce-1\n",
    "    re = re-1"
   ]
  },
  {
   "cell_type": "code",
   "execution_count": 39,
   "id": "cf710e86",
   "metadata": {},
   "outputs": [],
   "source": [
    "array = [\n",
    "     [1, 2],\n",
    "    [3, 4],\n",
    "    [5, 6]\n",
    "      ]"
   ]
  },
  {
   "cell_type": "code",
   "execution_count": 46,
   "id": "10a1d155",
   "metadata": {},
   "outputs": [],
   "source": [
    "array = [\n",
    "     [1, 2],\n",
    "    [3, 4],\n",
    "    [5, 6]\n",
    "      ]\n",
    "rs = 0\n",
    "re = 2\n",
    "cs = 0\n",
    "ce = 3"
   ]
  },
  {
   "cell_type": "code",
   "execution_count": 48,
   "id": "ebb4d095",
   "metadata": {},
   "outputs": [
    {
     "name": "stdout",
     "output_type": "stream",
     "text": [
      "1   3   5   \n",
      "2   4   6   \n"
     ]
    }
   ],
   "source": [
    "array = [\n",
    "     [1, 2],\n",
    "    [3, 4],\n",
    "    [5, 6]\n",
    "      ]\n",
    "rs = 0\n",
    "re = 2\n",
    "cs = 0\n",
    "ce = 3\n",
    "for i in range(rs,re):\n",
    "    for j in range(cs,ce):\n",
    "        print(array[j][i], \"  \", end='')\n",
    "    print(\"\")"
   ]
  },
  {
   "cell_type": "code",
   "execution_count": 132,
   "id": "50b18941",
   "metadata": {},
   "outputs": [],
   "source": [
    "array = [\n",
    "         [1, 2, 8],\n",
    "         [3, 4, 9],\n",
    "         [5, 6, 98]\n",
    "        ]\n",
    "a = 3\n",
    "b = 2\n",
    "c = 3"
   ]
  },
  {
   "cell_type": "code",
   "execution_count": 178,
   "id": "98d86f8f",
   "metadata": {},
   "outputs": [],
   "source": [
    "array2 = [\n",
    "     [1,4,7],\n",
    "     [2,5,8 ], \n",
    "     [3,6,9 ]\n",
    "]\n",
    "\n",
    "def sear(array2 , target):\n",
    "    rst = 0\n",
    "    ren = 2\n",
    "    cst = 0\n",
    "    cen = 2\n",
    "    while(rst<= ren and cst <= cen):\n",
    "        if array2[rst][cen] == target:\n",
    "            #print(\"A\")\n",
    "            #print(rst,ren,cst,cen)\n",
    "            return True\n",
    "        \n",
    "        elif target > array2[rst][cen]:\n",
    "            #print(\"B\")\n",
    "            #print(rst,ren,cst,cen)\n",
    "            rst = rst + 1\n",
    "        \n",
    "        elif target < array2[rst][cen]:\n",
    "            #print(\"C\")\n",
    "            #print(rst,ren,cst,cen)\n",
    "            cen = cen -1\n",
    "        \n",
    "\n",
    "    return False\n",
    "\n",
    "\n",
    "\n",
    "sear(array2 , 78)"
   ]
  },
  {
   "cell_type": "code",
   "execution_count": 179,
   "id": "96585f48",
   "metadata": {},
   "outputs": [],
   "source": [
    "def sear(array2 , target):\n",
    "    rst = 0\n",
    "    ren = 2\n",
    "    cst = 0\n",
    "    cen = 2\n",
    "    while(rst<= ren and cst <= cen):\n",
    "        if array2[rst][cen] == target:\n",
    "            #print(\"A\")\n",
    "            #print(rst,ren,cst,cen)\n",
    "            return True\n",
    "        \n",
    "        elif target > array2[rst][cen]:\n",
    "            #print(\"B\")\n",
    "            #print(rst,ren,cst,cen)\n",
    "            rst = rst + 1\n",
    "        \n",
    "        elif target < array2[rst][cen]:\n",
    "            #print(\"C\")\n",
    "            #print(rst,ren,cst,cen)\n",
    "            cen = cen -1\n",
    "        \n",
    "\n",
    "    return False"
   ]
  },
  {
   "cell_type": "code",
   "execution_count": 183,
   "id": "74015720",
   "metadata": {},
   "outputs": [
    {
     "data": {
      "text/plain": [
       "False"
      ]
     },
     "execution_count": 183,
     "metadata": {},
     "output_type": "execute_result"
    }
   ],
   "source": [
    "sear(array2 , 78)"
   ]
  },
  {
   "cell_type": "code",
   "execution_count": 186,
   "id": "cf79c77d",
   "metadata": {},
   "outputs": [],
   "source": [
    "acc = \"arindam\""
   ]
  },
  {
   "cell_type": "code",
   "execution_count": null,
   "id": "05532e17",
   "metadata": {},
   "outputs": [],
   "source": []
  },
  {
   "cell_type": "code",
   "execution_count": null,
   "id": "c9be09f6",
   "metadata": {},
   "outputs": [],
   "source": []
  },
  {
   "cell_type": "code",
   "execution_count": 10,
   "id": "a2e63a29",
   "metadata": {},
   "outputs": [
    {
     "data": {
      "text/plain": [
       "[[10, 10, 10, 10], [20, 20, 20, 20], [30, 30, 30, 30], [40, 40, 40, 40]]"
      ]
     },
     "execution_count": 10,
     "metadata": {},
     "output_type": "execute_result"
    }
   ],
   "source": [
    "def multiply(A, B):\n",
    "    \n",
    "    r1 = len(A)\n",
    "    c1 = len(A[0])\n",
    "    \n",
    "    r2 = len(B)\n",
    "    c2 = len(B[0]) \n",
    "    \n",
    "    C = [[0 for i in range(r1)] for j in range(c2)]\n",
    "    \n",
    "    \n",
    "    if c1 != r2:\n",
    "        return -1\n",
    "        \n",
    "    for i in range(r1):\n",
    "        for j in range(c2):\n",
    "            for k in range(r1):\n",
    "                C[i][j] = C[i][j] + (A[i][k] * B[k][j]) \n",
    "                \n",
    "    return C\n",
    "\n",
    " \n",
    "                \n",
    "\n",
    "multiply([[1, 1, 1, 1],\n",
    "    [2, 2, 2, 2],\n",
    "    [3, 3, 3, 3],\n",
    "    [4, 4, 4, 4]],\n",
    " \n",
    "# Second matrix. N is a list\n",
    " [[1, 1, 1, 1],\n",
    "    [2, 2, 2, 2],\n",
    "    [3, 3, 3, 3],\n",
    "    [4, 4, 4, 4]])    "
   ]
  },
  {
   "cell_type": "code",
   "execution_count": null,
   "id": "c95d1fa3",
   "metadata": {},
   "outputs": [],
   "source": []
  },
  {
   "cell_type": "code",
   "execution_count": 18,
   "id": "5a891b9d",
   "metadata": {},
   "outputs": [
    {
     "data": {
      "text/plain": [
       "[1, 2, 3, 4, 4, 3, 2, 1, 1, 2, 3, 4, 4, 3, 2, 1]"
      ]
     },
     "execution_count": 18,
     "metadata": {},
     "output_type": "execute_result"
    }
   ],
   "source": [
    "def wave(A):\n",
    "    r = len(A)\n",
    "    c = len(A[0])\n",
    "    t = []\n",
    "    \n",
    "    for j in range(c):\n",
    "        if j%2 == 0:\n",
    "            for i in range(r):\n",
    "                t.append(A[i][j])\n",
    "        else:\n",
    "            for k in range(r-1,-1,-1):\n",
    "                t.append(A[k][j])\n",
    "            \n",
    "    return t\n",
    "\n",
    "wave([[1, 1, 1, 1],\n",
    "    [2, 2, 2, 2],\n",
    "    [3, 3, 3, 3],\n",
    "    [4, 4, 4, 4]])\n",
    "        "
   ]
  },
  {
   "cell_type": "code",
   "execution_count": null,
   "id": "1c0c7266",
   "metadata": {},
   "outputs": [],
   "source": []
  },
  {
   "cell_type": "code",
   "execution_count": 20,
   "id": "a0405403",
   "metadata": {},
   "outputs": [
    {
     "name": "stdout",
     "output_type": "stream",
     "text": [
      "[11, 12, 5, 2, 11, 5, 6, 8, 15, 12, 10, 15, 6, 10, 12, 8]\n"
     ]
    }
   ],
   "source": [
    "array = [\n",
    "     [11, 12, 5 , 2],\n",
    "     [15, 6,10 , 11], \n",
    "     [10, 8, 12 , 5],\n",
    "     [12 ,15, 8 , 6]\n",
    "      ]\n",
    "rs = 0\n",
    "re = 3\n",
    "cs = 0\n",
    "ce = 3\n",
    "tt = []\n",
    "while (rs<re and cs < ce):\n",
    "    for i in range(cs, ce):\n",
    "        tt.append(array[rs][i])\n",
    "        \n",
    "        \n",
    "    for j in range(rs, re):\n",
    "        tt.append(array[j][ce])\n",
    "        \n",
    "    \n",
    "    for k in range(ce,cs, -1):\n",
    "        tt.append(array[re][k])\n",
    "        \n",
    "\n",
    "    for l in range(re,rs,-1):\n",
    "        tt.append(array[l][cs])\n",
    "        \n",
    "    cs = cs+1\n",
    "    rs = rs+1\n",
    "    ce = ce-1\n",
    "    re = re-1\n",
    "    \n",
    "print(tt)"
   ]
  },
  {
   "cell_type": "code",
   "execution_count": null,
   "id": "df04a884",
   "metadata": {},
   "outputs": [],
   "source": []
  },
  {
   "cell_type": "code",
   "execution_count": 16,
   "id": "7b786865",
   "metadata": {},
   "outputs": [
    {
     "name": "stdout",
     "output_type": "stream",
     "text": [
      "Lower triangular matrix: \n",
      "1 0 0  \n",
      "4 5 0  \n",
      "7 8 9  \n",
      "34\n",
      "Upper triangular matrix: \n",
      "1 2 3  \n",
      "0 5 6  \n",
      "0 0 9  \n",
      "26\n"
     ]
    }
   ],
   "source": [
    "# Python3 program to print Lower\n",
    "# triangular and Upper triangular\n",
    "# matrix of an array\n",
    "\n",
    "# Function to form lower triangular\n",
    "# matrix\n",
    "def lower(matrix, row, col):\n",
    "    suml = 0\n",
    "    tl = []\n",
    "\n",
    "    for i in range(0, row):\n",
    "\n",
    "        for j in range(0, col):\n",
    "\n",
    "            if (i < j):\n",
    "\n",
    "                print(\"0\", end = \" \");\n",
    "\n",
    "            else:\n",
    "                suml = suml + matrix[i][j]\n",
    "                print(matrix[i][j],\n",
    "                    end = \" \" );\n",
    "\n",
    "        print(\" \");\n",
    "    print(suml)\n",
    "\t\n",
    "# Function to form upper triangular matrix\n",
    "def upper(matrix, row, col):\n",
    "    \n",
    "    sumu = 0\n",
    "\n",
    "    for i in range(0, row):\n",
    "    \n",
    "        for j in range(0, col):\n",
    "        \n",
    "            if (i > j):\n",
    "                print(\"0\", end = \" \");\n",
    "        \n",
    "            else:\n",
    "                sumu = sumu + matrix[i][j]\n",
    "                print(matrix[i][j],\n",
    "                    end = \" \" );\n",
    "\n",
    "        print(\" \")\n",
    "    print(sumu)\n",
    "\n",
    "# Driver Code\n",
    "matrix = [[1, 2, 3],\n",
    "\t\t[4, 5, 6],\n",
    "\t\t[7, 8, 9]];\n",
    "row = 3;\n",
    "col = 3;\n",
    "\t\n",
    "print(\"Lower triangular matrix: \");\n",
    "lower(matrix, row, col);\n",
    "\t\n",
    "print(\"Upper triangular matrix: \");\n",
    "upper(matrix, row, col);\n",
    "\n"
   ]
  },
  {
   "cell_type": "code",
   "execution_count": null,
   "id": "cdbc848b",
   "metadata": {},
   "outputs": [],
   "source": []
  },
  {
   "cell_type": "code",
   "execution_count": null,
   "id": "abdc48dc",
   "metadata": {},
   "outputs": [],
   "source": []
  },
  {
   "cell_type": "code",
   "execution_count": null,
   "id": "4bfa2276",
   "metadata": {},
   "outputs": [],
   "source": []
  },
  {
   "cell_type": "code",
   "execution_count": null,
   "id": "c8d16189",
   "metadata": {},
   "outputs": [],
   "source": []
  },
  {
   "cell_type": "code",
   "execution_count": null,
   "id": "0642cee1",
   "metadata": {},
   "outputs": [],
   "source": []
  },
  {
   "cell_type": "code",
   "execution_count": null,
   "id": "cda5ce76",
   "metadata": {},
   "outputs": [],
   "source": []
  },
  {
   "cell_type": "code",
   "execution_count": null,
   "id": "e54219f4",
   "metadata": {},
   "outputs": [],
   "source": []
  },
  {
   "cell_type": "code",
   "execution_count": null,
   "id": "06e65d93",
   "metadata": {},
   "outputs": [],
   "source": []
  },
  {
   "cell_type": "code",
   "execution_count": null,
   "id": "f6935bab",
   "metadata": {},
   "outputs": [],
   "source": []
  },
  {
   "cell_type": "code",
   "execution_count": 13,
   "id": "2331c1bf",
   "metadata": {},
   "outputs": [
    {
     "data": {
      "text/plain": [
       "1"
      ]
     },
     "execution_count": 13,
     "metadata": {},
     "output_type": "execute_result"
    }
   ],
   "source": []
  },
  {
   "cell_type": "code",
   "execution_count": null,
   "id": "f49b5aa6",
   "metadata": {},
   "outputs": [],
   "source": []
  }
 ],
 "metadata": {
  "kernelspec": {
   "display_name": "Python 3",
   "language": "python",
   "name": "python3"
  },
  "language_info": {
   "codemirror_mode": {
    "name": "ipython",
    "version": 3
   },
   "file_extension": ".py",
   "mimetype": "text/x-python",
   "name": "python",
   "nbconvert_exporter": "python",
   "pygments_lexer": "ipython3",
   "version": "3.8.10"
  }
 },
 "nbformat": 4,
 "nbformat_minor": 5
}
