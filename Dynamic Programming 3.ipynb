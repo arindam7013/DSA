{
 "cells": [
  {
   "cell_type": "code",
   "execution_count": null,
   "id": "8e762e6d",
   "metadata": {},
   "outputs": [],
   "source": []
  },
  {
   "cell_type": "code",
   "execution_count": 2,
   "id": "a7439f4b",
   "metadata": {},
   "outputs": [],
   "source": [
    "#catalan Numbers -> c0 = 0, c1 = 1, c2 = c0*c1 + c1*c0 , c3 = c0*c2 + c1*c1 + c2*c0  ek badhao ek ghatao"
   ]
  },
  {
   "cell_type": "code",
   "execution_count": 12,
   "id": "709428b4",
   "metadata": {},
   "outputs": [
    {
     "data": {
      "text/plain": [
       "([1, 1, 2, 5, 14, 42, 132, 429, 1430], 1430)"
      ]
     },
     "execution_count": 12,
     "metadata": {},
     "output_type": "execute_result"
    }
   ],
   "source": [
    "def catalan(n):\n",
    "    memo = [0] *(n+1)\n",
    "    memo[0] = 1\n",
    "    memo[1] = 1\n",
    "    \n",
    "    if memo[n] != 0:\n",
    "        return memo[n]\n",
    "    \n",
    "    for i in range(2 , n+1):\n",
    "        for j in range(i):\n",
    "            memo[i] += memo[j] * memo[i-j-1]\n",
    "        \n",
    "    return memo , memo[n]\n",
    "\n",
    "catalan(8)"
   ]
  },
  {
   "cell_type": "code",
   "execution_count": null,
   "id": "2aff3ad8",
   "metadata": {},
   "outputs": [],
   "source": []
  },
  {
   "cell_type": "code",
   "execution_count": 2,
   "id": "f6735663",
   "metadata": {},
   "outputs": [],
   "source": [
    "#climb stairs w 1,2,3 moves"
   ]
  },
  {
   "cell_type": "code",
   "execution_count": 13,
   "id": "5b1f5837",
   "metadata": {},
   "outputs": [
    {
     "data": {
      "text/plain": [
       "274"
      ]
     },
     "execution_count": 13,
     "metadata": {},
     "output_type": "execute_result"
    }
   ],
   "source": [
    "# with recursion\n",
    "def climb(n):\n",
    "    \n",
    "    if n == 0:\n",
    "        return 1\n",
    "    elif n <0:\n",
    "        return 0\n",
    "    \n",
    "    one = climb(n-1)\n",
    "    two = climb(n-2)\n",
    "    three = climb(n-3)\n",
    "    \n",
    "    ct = one + two + three\n",
    "    return ct\n",
    "\n",
    "climb(10)"
   ]
  },
  {
   "cell_type": "code",
   "execution_count": 12,
   "id": "541f99f6",
   "metadata": {},
   "outputs": [
    {
     "data": {
      "text/plain": [
       "180396380815100901214157639"
      ]
     },
     "execution_count": 12,
     "metadata": {},
     "output_type": "execute_result"
    }
   ],
   "source": [
    "#with memoization\n",
    "def climb_m(n , memo):\n",
    "    \n",
    "    if n == 0:\n",
    "        return 1\n",
    "    elif n <0:\n",
    "        return 0\n",
    "    if memo[n] != -1:\n",
    "        return memo[n]\n",
    "    one = climb_m(n-1 , memo)\n",
    "    two = climb_m(n-2 , memo)\n",
    "    three = climb_m(n-3 , memo)\n",
    "    \n",
    "    memo[n] = one + two + three\n",
    "    return memo[n]\n",
    "\n",
    "n = 100\n",
    "memo = [-1] * (n+1)\n",
    "climb_m(n , memo)"
   ]
  },
  {
   "cell_type": "code",
   "execution_count": 22,
   "id": "b51a2afd",
   "metadata": {},
   "outputs": [
    {
     "data": {
      "text/plain": [
       "274"
      ]
     },
     "execution_count": 22,
     "metadata": {},
     "output_type": "execute_result"
    }
   ],
   "source": [
    "#with tabulation\n",
    "def climb_t(n):\n",
    "    \n",
    "    dp = [0] * (n+1)\n",
    "    \n",
    "    dp[0] = 1\n",
    "    for i in range(1 , n+1):\n",
    "        if i == 1:\n",
    "            dp[i] = dp[i-1]\n",
    "        elif i == 1:\n",
    "            dp[i] = dp[i-1] + dp[i-2]\n",
    "            \n",
    "        else:\n",
    "            dp[i] = dp[i-1] + dp[i-2] + dp[i-3]\n",
    "    \n",
    "    \n",
    "    return dp[n]\n",
    "\n",
    "\n",
    "\n",
    "n = 10\n",
    "climb_t(n)\n"
   ]
  },
  {
   "cell_type": "code",
   "execution_count": null,
   "id": "237f5fb5",
   "metadata": {},
   "outputs": [],
   "source": []
  },
  {
   "cell_type": "code",
   "execution_count": 27,
   "id": "01b20973",
   "metadata": {},
   "outputs": [
    {
     "data": {
      "text/plain": [
       "[0, 1, 0, 1, 1, 1, 1, 0]"
      ]
     },
     "execution_count": 27,
     "metadata": {},
     "output_type": "execute_result"
    }
   ],
   "source": [
    "def climb_ct(n , arr):\n",
    "    dp = [0] * (n+2)\n",
    "    \n",
    "    dp[n] = 1\n",
    "    \n",
    "    for i in range(n-1 , 0 , -1 ):\n",
    "        \n",
    "        for j in range(1 , arr[i]):\n",
    "            dp[i] += dp[i+j]\n",
    "            \n",
    "    return dp\n",
    "    \n",
    "climb_ct(6 , [3,3,0,2,2,3])    "
   ]
  },
  {
   "cell_type": "code",
   "execution_count": null,
   "id": "198b4dc5",
   "metadata": {},
   "outputs": [],
   "source": []
  },
  {
   "cell_type": "code",
   "execution_count": null,
   "id": "573996cc",
   "metadata": {},
   "outputs": [],
   "source": [
    "def maximumPath(self, N, Matrix):\n",
    "        memo = [[0 for i in range(N)] for j in range(N)]\n",
    "        \n",
    "        for i in range(N -1, -1 , -1):\n",
    "            for j in range(N -1, -1 , -1):\n",
    "                if i == N-1 and j == N-1 :\n",
    "                    memp[i][j] = Matrix[i][j]\n",
    "                    \n",
    "                elif i == N-1:\n",
    "                    memo[i][j] = memo[i][j+1] + Matrix[i][j]\n",
    "                    \n",
    "                elif j == N-1:\n",
    "                    memo[i][j] = memo[i+1][j] + Matrix[i][j]\n",
    "                \n",
    "                else:\n",
    "                    memo[i][j] = Matrix[i][j] + min(memo[i+1][j] , memo[i][j+1])\n",
    "                \n",
    "                \n",
    "        \n",
    "            \n",
    "        return memo , memo[0][0]\n",
    "    \n"
   ]
  },
  {
   "cell_type": "code",
   "execution_count": null,
   "id": "c9a304ee",
   "metadata": {},
   "outputs": [],
   "source": []
  },
  {
   "cell_type": "code",
   "execution_count": null,
   "id": "80bd0ce9",
   "metadata": {},
   "outputs": [],
   "source": []
  },
  {
   "cell_type": "code",
   "execution_count": null,
   "id": "039704d6",
   "metadata": {},
   "outputs": [],
   "source": []
  },
  {
   "cell_type": "code",
   "execution_count": null,
   "id": "067a7ef2",
   "metadata": {},
   "outputs": [],
   "source": []
  },
  {
   "cell_type": "code",
   "execution_count": null,
   "id": "607c37c4",
   "metadata": {},
   "outputs": [],
   "source": []
  }
 ],
 "metadata": {
  "kernelspec": {
   "display_name": "Python 3",
   "language": "python",
   "name": "python3"
  },
  "language_info": {
   "codemirror_mode": {
    "name": "ipython",
    "version": 3
   },
   "file_extension": ".py",
   "mimetype": "text/x-python",
   "name": "python",
   "nbconvert_exporter": "python",
   "pygments_lexer": "ipython3",
   "version": "3.8.10"
  }
 },
 "nbformat": 4,
 "nbformat_minor": 5
}
