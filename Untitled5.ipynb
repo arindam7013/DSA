{
 "cells": [
  {
   "cell_type": "code",
   "execution_count": null,
   "id": "998bdd27",
   "metadata": {},
   "outputs": [],
   "source": [
    "class Solution:\n",
    "    def sortColors(self, arr: List[int]) -> None:\n",
    "        \n",
    "        i = 0\n",
    "        j = 0\n",
    "        k = len(arr) - 1\n",
    "        \n",
    "        while  j <= k:\n",
    "            if arr[j] == 0:\n",
    "                arr[i] , arr[j] = arr[j] , arr[i]\n",
    "                i += 1\n",
    "                j += 1\n",
    "                \n",
    "            if arr[j] == 1:\n",
    "                j += 1\n",
    "                \n",
    "                \n",
    "                \n",
    "            if arr[j] == 2:\n",
    "                arr[j] , arr[k] = arr[k] , arr[j]               \n",
    "                k = k - 1\n",
    "                \n",
    "        \"\"\"\n",
    "        Do not return anything, modify nums in-place instead.\n",
    "        \"\"\"\n",
    "        "
   ]
  }
 ],
 "metadata": {
  "kernelspec": {
   "display_name": "Python 3",
   "language": "python",
   "name": "python3"
  },
  "language_info": {
   "codemirror_mode": {
    "name": "ipython",
    "version": 3
   },
   "file_extension": ".py",
   "mimetype": "text/x-python",
   "name": "python",
   "nbconvert_exporter": "python",
   "pygments_lexer": "ipython3",
   "version": "3.8.10"
  }
 },
 "nbformat": 4,
 "nbformat_minor": 5
}
