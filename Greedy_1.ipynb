{
 "cells": [
  {
   "cell_type": "code",
   "execution_count": 1,
   "id": "89d1d1ab",
   "metadata": {},
   "outputs": [],
   "source": [
    "# c238       Activity Selection Problem"
   ]
  },
  {
   "cell_type": "code",
   "execution_count": 2,
   "id": "e60e8088",
   "metadata": {},
   "outputs": [
    {
     "name": "stdout",
     "output_type": "stream",
     "text": [
      "a3 ->a2  ->a5  ->a6  ->"
     ]
    }
   ],
   "source": [
    "name = [\"a3\", 'a2', 'a1', 'a5', 'a6', 'a4']\n",
    "start  =  [1, 3, 0, 5, 8, 5]\n",
    "finish =  [2, 4, 6, 7, 9, 9]\n",
    "\n",
    "\n",
    "def activity_selection(start , end):\n",
    "    j = 0\n",
    "    print(name[0], \"->\", end='')\n",
    "    for i in range(1 , len(end) - 1):\n",
    "        if start[i] > end[j]:\n",
    "            print( name[i],\" ->\", end='' )\n",
    "            j = i\n",
    "\n",
    "activity_selection(start , finish)\n",
    "            "
   ]
  },
  {
   "cell_type": "code",
   "execution_count": null,
   "id": "04f5d93e",
   "metadata": {},
   "outputs": [],
   "source": []
  }
 ],
 "metadata": {
  "kernelspec": {
   "display_name": "Python 3",
   "language": "python",
   "name": "python3"
  },
  "language_info": {
   "codemirror_mode": {
    "name": "ipython",
    "version": 3
   },
   "file_extension": ".py",
   "mimetype": "text/x-python",
   "name": "python",
   "nbconvert_exporter": "python",
   "pygments_lexer": "ipython3",
   "version": "3.8.10"
  }
 },
 "nbformat": 4,
 "nbformat_minor": 5
}
