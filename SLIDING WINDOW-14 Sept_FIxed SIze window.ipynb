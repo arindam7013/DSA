{
 "cells": [
  {
   "cell_type": "code",
   "execution_count": 3,
   "id": "3cb5a1e7",
   "metadata": {},
   "outputs": [
    {
     "data": {
      "text/plain": [
       "19"
      ]
     },
     "execution_count": 3,
     "metadata": {},
     "output_type": "execute_result"
    }
   ],
   "source": [
    "# max_sum sub array     1\n",
    "\n",
    "def max_sum(arr, k):\n",
    "    n = len(arr)\n",
    "    sum = 0\n",
    "    max_sum = 0\n",
    "    for j in range(k):\n",
    "        sum = sum + arr[j]\n",
    "    max_sum = sum    \n",
    "    j = k\n",
    "    i = 0\n",
    "    \n",
    "    while j<n :\n",
    "        sum = (sum - arr[i]) + arr[j]\n",
    "        \n",
    "        if sum > max_sum:\n",
    "            max_sum = sum\n",
    "        i+= 1\n",
    "        j+= 1\n",
    "        \n",
    "    return max_sum\n",
    "\n",
    "\n",
    "max_sum([2,5,1,8,2,9,1] , 3)\n",
    "        \n",
    "        \n",
    "        "
   ]
  },
  {
   "cell_type": "code",
   "execution_count": 5,
   "id": "ec94697d",
   "metadata": {},
   "outputs": [
    {
     "data": {
      "text/plain": [
       "19"
      ]
     },
     "execution_count": 5,
     "metadata": {},
     "output_type": "execute_result"
    }
   ],
   "source": [
    "# max_sum sub array     2\n",
    "def maximumSumSubarray (k,arr,N):\n",
    "        i = 0\n",
    "        j = 0\n",
    "        sum = 0\n",
    "        mx = 0\n",
    "        \n",
    "        while j < N:\n",
    "            sum = sum + arr[j]\n",
    "            \n",
    "            if ((j-i+1) < k):\n",
    "                j = j+1\n",
    "                \n",
    "            elif ((j-i+1) == k):\n",
    "                mx = max(mx, sum)\n",
    "                sum = sum - arr[i]\n",
    "                i = i+1\n",
    "                j = j+1\n",
    "        return mx\n",
    "    \n",
    "maximumSumSubarray (3,[2,5,1,8,2,9,1],7)"
   ]
  },
  {
   "cell_type": "code",
   "execution_count": null,
   "id": "e7e6f6ba",
   "metadata": {},
   "outputs": [],
   "source": []
  },
  {
   "cell_type": "code",
   "execution_count": 6,
   "id": "a4805b8f",
   "metadata": {},
   "outputs": [],
   "source": [
    "#first negative number"
   ]
  },
  {
   "cell_type": "code",
   "execution_count": 35,
   "id": "27f4beaf",
   "metadata": {},
   "outputs": [
    {
     "name": "stdout",
     "output_type": "stream",
     "text": [
      "[-1, -7] [-1, -1]\n",
      "[-7, -15] [-1, -1, -7]\n",
      "[-15] [-1, -1, -7, -15, -15]\n"
     ]
    },
    {
     "data": {
      "text/plain": [
       "([], [-1, -1, -7, -15, -15, 0])"
      ]
     },
     "execution_count": 35,
     "metadata": {},
     "output_type": "execute_result"
    }
   ],
   "source": [
    "def negative(arr , n , k):\n",
    "    temp = []\n",
    "    op = []\n",
    "    \n",
    "    i = 0\n",
    "    j = 0\n",
    "    \n",
    "    while j < n:\n",
    "        \n",
    "            \n",
    "        if j-i+1 < k:\n",
    "            if arr[j] < 0:\n",
    "                temp.append(arr[j])\n",
    "            j += 1\n",
    "            \n",
    "        elif j-i+1 == k:\n",
    "            if arr[j] < 0:\n",
    "                temp.append(arr[j])\n",
    "                \n",
    "            \n",
    "            if len(temp) != 0 and arr[i] != temp[0]:\n",
    "                op.append(temp[0])\n",
    "                \n",
    "            elif len(temp) > 0 and  arr[i] == temp[0]  :\n",
    "                op.append(temp[0])\n",
    "                print(temp , op)\n",
    "                if len(temp) > 0:\n",
    "                    temp.pop(0)\n",
    "                \n",
    "                \n",
    "            \n",
    "                \n",
    "                \n",
    "            elif len(temp) == 0:\n",
    "                op.append(0)\n",
    "                #temp.append(0)\n",
    "            \n",
    "            \n",
    "            i+= 1\n",
    "            j+= 1\n",
    "        \n",
    "        ''' \n",
    "        if j-i+1 == k:\n",
    "            if len(temp) != 0 and arr[i] != temp[0]:\n",
    "                op.append(temp[0])\n",
    "                i+= 1\n",
    "                j+=1\n",
    "                \n",
    "            elif arr[i] == temp[0]:\n",
    "                op.append(temp[0])\n",
    "                temp.pop(0)\n",
    "                i+= 1\n",
    "                j += 1\n",
    "                \n",
    "        '''\n",
    "                \n",
    "                \n",
    "        \n",
    "                \n",
    "        \n",
    "        \n",
    "        \n",
    "    return temp , op\n",
    "\n",
    "            \n",
    "negative([12,-1,-7,8,-15,30,16,28] , 8 , 3)"
   ]
  },
  {
   "cell_type": "code",
   "execution_count": null,
   "id": "6ba9cd36",
   "metadata": {},
   "outputs": [],
   "source": []
  },
  {
   "cell_type": "code",
   "execution_count": 70,
   "id": "3ae64a9c",
   "metadata": {},
   "outputs": [
    {
     "data": {
      "text/plain": [
       "[12, -1, 17, 8, -15, 30, 16, 28]"
      ]
     },
     "execution_count": 70,
     "metadata": {},
     "output_type": "execute_result"
    }
   ],
   "source": [
    "[12,-1,17,18,-15,30,16,28]"
   ]
  },
  {
   "cell_type": "code",
   "execution_count": 101,
   "id": "64e7dd48",
   "metadata": {},
   "outputs": [
    {
     "data": {
      "text/plain": [
       "([17, 17, 17, 8, 16, 28], 28)"
      ]
     },
     "execution_count": 101,
     "metadata": {},
     "output_type": "execute_result"
    }
   ],
   "source": [
    "def max_arr(arr , n , k):\n",
    "    temp = []\n",
    "    op = []\n",
    "    mx = 0\n",
    "    i = 0\n",
    "    j = 0\n",
    "    \n",
    "    while j <= n:\n",
    "        \n",
    "        if j-i+1 <= k:\n",
    "            \n",
    "            j += 1\n",
    "        else: # j-i + 1 == k:\n",
    "                op.append(max(arr[i:j]))\n",
    "                i += 1\n",
    "                j += 1\n",
    "    \n",
    "    return op , max(arr[i:j])\n",
    "\n",
    "            \n",
    "max_arr([12,-1,17,8,-15,3,16,28] , 8 , 3)"
   ]
  },
  {
   "cell_type": "code",
   "execution_count": null,
   "id": "94b8f3ee",
   "metadata": {},
   "outputs": [],
   "source": []
  },
  {
   "cell_type": "code",
   "execution_count": null,
   "id": "d7f41a1d",
   "metadata": {},
   "outputs": [],
   "source": [
    "temp = []\n",
    "    op = []\n",
    "    \n",
    "    i = 0\n",
    "    j = 0\n",
    "    maxi = 0\n",
    "    while j < n:       \n",
    "        if j-i+1 < k:\n",
    "            if arr[j] > maxi:\n",
    "                \n",
    "                maxi = arr[j]\n",
    "            j += 1\n",
    "            \n",
    "            \n",
    "        elif j-i+1 == k:\n",
    "            \n",
    "            if arr[j] > maxi:\n",
    "                temp.append(arr[j])\n",
    "                maxi = arr[j]\n",
    "                op.append(maxi)\n",
    "                \n",
    "            elif arr[j] < maxi:\n",
    "                temp.append(maxi)\n",
    "                op.append(maxi)\n",
    "                j += 1\n",
    "                i += 1\n",
    "    return temp , op , maxi\n"
   ]
  },
  {
   "cell_type": "code",
   "execution_count": null,
   "id": "5c1e15ad",
   "metadata": {},
   "outputs": [],
   "source": []
  },
  {
   "cell_type": "code",
   "execution_count": null,
   "id": "78c5e08a",
   "metadata": {},
   "outputs": [],
   "source": []
  },
  {
   "cell_type": "code",
   "execution_count": 67,
   "id": "af1bb676",
   "metadata": {},
   "outputs": [
    {
     "data": {
      "text/plain": [
       "{'a': 3, 'b': 1}"
      ]
     },
     "execution_count": 67,
     "metadata": {},
     "output_type": "execute_result"
    }
   ],
   "source": [
    "def occurences_anagram(str1 , str2):\n",
    "    memo = {} #* len(str2)\n",
    "    \n",
    "    for i in str2:\n",
    "        if i not in memo:\n",
    "            count = 1\n",
    "            memo[i] = count\n",
    "        else:\n",
    "            memo[i] = memo[i] + 1 \n",
    "    temp = memo        \n",
    "    i = 0\n",
    "    j = 0\n",
    "    k = len(str2)\n",
    "    '''\n",
    "    while j < len(str1):\n",
    "        if j-i+1 < k:\n",
    "            if str1[j] in memo:\n",
    "                memo[str1[j]] = memo[str1[j]] - 1\n",
    "            j += 1\n",
    "            \n",
    "    '''   \n",
    "    \n",
    "    \n",
    "    return  memo\n",
    "\n",
    "\n",
    "\n",
    "occurences_anagram('aabaabaa' , 'abaa')"
   ]
  },
  {
   "cell_type": "code",
   "execution_count": null,
   "id": "86dd036b",
   "metadata": {},
   "outputs": [],
   "source": []
  },
  {
   "cell_type": "code",
   "execution_count": null,
   "id": "a1114a01",
   "metadata": {},
   "outputs": [],
   "source": []
  },
  {
   "cell_type": "code",
   "execution_count": 2,
   "id": "6259ed50",
   "metadata": {},
   "outputs": [],
   "source": []
  },
  {
   "cell_type": "code",
   "execution_count": 5,
   "id": "c55107a1",
   "metadata": {},
   "outputs": [],
   "source": []
  },
  {
   "cell_type": "code",
   "execution_count": 55,
   "id": "d1aae6dc",
   "metadata": {},
   "outputs": [],
   "source": [
    "mm = {'a' : [3,4,5,6] }"
   ]
  },
  {
   "cell_type": "code",
   "execution_count": 60,
   "id": "fba3fcfb",
   "metadata": {},
   "outputs": [
    {
     "data": {
      "text/plain": [
       "4"
      ]
     },
     "execution_count": 60,
     "metadata": {},
     "output_type": "execute_result"
    }
   ],
   "source": [
    "mm['a'][1]"
   ]
  },
  {
   "cell_type": "code",
   "execution_count": null,
   "id": "5b3d351c",
   "metadata": {},
   "outputs": [],
   "source": []
  },
  {
   "cell_type": "code",
   "execution_count": null,
   "id": "5926531f",
   "metadata": {},
   "outputs": [],
   "source": []
  },
  {
   "cell_type": "code",
   "execution_count": 88,
   "id": "65a92f08",
   "metadata": {},
   "outputs": [
    {
     "name": "stdout",
     "output_type": "stream",
     "text": [
      "wowu\n",
      "you entered a weak string\n"
     ]
    }
   ],
   "source": [
    "st = input(str())\n",
    "count = 0\n",
    "for i in st:\n",
    "    if (ord(i) >= 65 and ord(i) <= 90) or (ord(i) >= 97 and ord(i) <= 122):\n",
    "        count += 1\n",
    "        \n",
    "    \n",
    "        \n",
    "if len(st) == count:\n",
    "    t = st[::-1]\n",
    "    if t == st:\n",
    "        print(\"you entered a strong string\")\n",
    "        \n",
    "    else:\n",
    "        print(\"you entered a weak string\")\n",
    "else:\n",
    "    print(\"you entered a weak string\")\n",
    "    \n"
   ]
  },
  {
   "cell_type": "code",
   "execution_count": null,
   "id": "19597072",
   "metadata": {},
   "outputs": [],
   "source": []
  },
  {
   "cell_type": "code",
   "execution_count": null,
   "id": "55041279",
   "metadata": {},
   "outputs": [],
   "source": []
  },
  {
   "cell_type": "code",
   "execution_count": null,
   "id": "a8e1e8df",
   "metadata": {},
   "outputs": [],
   "source": []
  },
  {
   "cell_type": "code",
   "execution_count": null,
   "id": "bfafaf7d",
   "metadata": {},
   "outputs": [],
   "source": []
  },
  {
   "cell_type": "code",
   "execution_count": null,
   "id": "a0316179",
   "metadata": {},
   "outputs": [],
   "source": []
  },
  {
   "cell_type": "code",
   "execution_count": null,
   "id": "6a3443f7",
   "metadata": {},
   "outputs": [],
   "source": []
  },
  {
   "cell_type": "code",
   "execution_count": null,
   "id": "b607c2d3",
   "metadata": {},
   "outputs": [],
   "source": []
  }
 ],
 "metadata": {
  "kernelspec": {
   "display_name": "Python 3",
   "language": "python",
   "name": "python3"
  },
  "language_info": {
   "codemirror_mode": {
    "name": "ipython",
    "version": 3
   },
   "file_extension": ".py",
   "mimetype": "text/x-python",
   "name": "python",
   "nbconvert_exporter": "python",
   "pygments_lexer": "ipython3",
   "version": "3.8.10"
  }
 },
 "nbformat": 4,
 "nbformat_minor": 5
}
