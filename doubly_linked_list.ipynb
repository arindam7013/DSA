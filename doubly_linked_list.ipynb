{
 "cells": [
  {
   "cell_type": "code",
   "execution_count": 41,
   "id": "dd690970",
   "metadata": {},
   "outputs": [],
   "source": [
    "class doubly_linkednode:\n",
    "    def __init__(self , data):\n",
    "        self.data = data\n",
    "        self.nextnode = None\n",
    "        self.previousnode = None\n",
    "        \n",
    "\n",
    "    \n",
    "    def two(sorted)\n",
    "        \n",
    "        \n",
    "        \n",
    "        \n",
    "        \n",
    "        \n",
    "        \n",
    "    def traverse(self, head):\n",
    "        self.head = head\n",
    "        while head is not None:\n",
    "            print( head.data, \"->\" ,end ='')\n",
    "            head = head.nextnode\n",
    "        return"
   ]
  },
  {
   "cell_type": "code",
   "execution_count": 42,
   "id": "4bfcfc81",
   "metadata": {},
   "outputs": [],
   "source": [
    "a = doubly_linkednode('A')\n",
    "b = doubly_linkednode('B')\n",
    "c = doubly_linkednode('C')\n",
    "d = doubly_linkednode('D')\n",
    "e = doubly_linkednode('E')\n",
    "f = doubly_linkednode('F')\n",
    "g = doubly_linkednode('G')\n",
    "\n",
    "a.nextnode = b\n",
    "a.previousnode = None\n",
    "\n",
    "b.nextnode = c\n",
    "b.previousnode = a\n",
    "\n",
    "c.nextnode = d\n",
    "c.previousnode = b\n",
    "\n",
    "d.nextnode = e\n",
    "d.previousnode = c\n",
    "\n",
    "e.nextnode = None\n",
    "e.previousnode = d\n",
    "\n",
    "\n",
    "head1 = a\n",
    "\n"
   ]
  },
  {
   "cell_type": "code",
   "execution_count": 43,
   "id": "ed4248a3",
   "metadata": {},
   "outputs": [],
   "source": [
    "m = doubly_linkednode('M')\n",
    "n = doubly_linkednode('N')\n",
    "o = doubly_linkednode('O')\n",
    "p = doubly_linkednode('P')\n",
    "\n",
    "m.nextnode = n\n",
    "m.previousnode = None\n",
    "\n",
    "n.nextnode = o\n",
    "n.previousnode = m\n",
    "\n",
    "o.nextnode = p\n",
    "o.previousnode = n\n",
    "\n",
    "p.nextnode =  c\n",
    "p.previousnode = o\n",
    "\n",
    "\n",
    "\n",
    "head2 = m\n",
    "\n",
    "\n"
   ]
  },
  {
   "cell_type": "code",
   "execution_count": 44,
   "id": "ffef2b1b",
   "metadata": {},
   "outputs": [
    {
     "name": "stdout",
     "output_type": "stream",
     "text": [
      "LL 1->  4\n",
      "LL 2->  6\n",
      "Temp2 2->  O\n",
      "Intersection at -> C\n"
     ]
    }
   ],
   "source": [
    "a.intersect(head1,head2)"
   ]
  },
  {
   "cell_type": "code",
   "execution_count": null,
   "id": "76f996c3",
   "metadata": {},
   "outputs": [],
   "source": []
  },
  {
   "cell_type": "code",
   "execution_count": null,
   "id": "a315b177",
   "metadata": {},
   "outputs": [],
   "source": []
  },
  {
   "cell_type": "code",
   "execution_count": null,
   "id": "ffc1c0a2",
   "metadata": {},
   "outputs": [],
   "source": []
  },
  {
   "cell_type": "code",
   "execution_count": null,
   "id": "4fcada63",
   "metadata": {},
   "outputs": [],
   "source": []
  },
  {
   "cell_type": "code",
   "execution_count": null,
   "id": "6529b613",
   "metadata": {},
   "outputs": [],
   "source": []
  },
  {
   "cell_type": "code",
   "execution_count": 45,
   "id": "1e58df13",
   "metadata": {},
   "outputs": [
    {
     "name": "stdout",
     "output_type": "stream",
     "text": [
      "M ->N ->O ->P ->C ->D ->E ->"
     ]
    }
   ],
   "source": [
    "a.traverse(head2)"
   ]
  },
  {
   "cell_type": "code",
   "execution_count": 46,
   "id": "2e64011c",
   "metadata": {},
   "outputs": [
    {
     "name": "stdout",
     "output_type": "stream",
     "text": [
      "A ->B ->C ->D ->E ->"
     ]
    }
   ],
   "source": [
    "a.traverse(head1)"
   ]
  },
  {
   "cell_type": "code",
   "execution_count": null,
   "id": "543d70bc",
   "metadata": {},
   "outputs": [],
   "source": []
  },
  {
   "cell_type": "code",
   "execution_count": null,
   "id": "97c4292a",
   "metadata": {},
   "outputs": [],
   "source": []
  },
  {
   "cell_type": "code",
   "execution_count": null,
   "id": "e4a8f1ef",
   "metadata": {},
   "outputs": [],
   "source": []
  },
  {
   "cell_type": "code",
   "execution_count": null,
   "id": "f5edadf9",
   "metadata": {},
   "outputs": [],
   "source": []
  },
  {
   "cell_type": "code",
   "execution_count": null,
   "id": "8d4abbae",
   "metadata": {},
   "outputs": [],
   "source": []
  },
  {
   "cell_type": "code",
   "execution_count": null,
   "id": "658e91f7",
   "metadata": {},
   "outputs": [],
   "source": [
    "    def insert_last(self, head,key):\n",
    "        self.head= head\n",
    "        self.key = key\n",
    "        temp = head\n",
    "        while temp.nextnode != None:\n",
    "            temp = temp.nextnode\n",
    "            print(\"temp at ->\", temp.data)\n",
    "        temp.nextnode = key\n",
    "        key.previousnode = temp\n",
    "        key.nextnode = None\n",
    "        \n",
    "        print(key.data)\n",
    "        \n",
    "        \n",
    "        \n",
    "    def insert_head(self, head, key):\n",
    "        self.head= head\n",
    "        self.key = key\n",
    "        \n",
    "        \n",
    "        key.nextnode = head\n",
    "        head.previousnode = key\n",
    "        key.previousnode = None\n",
    "        \n",
    "        head = key\n",
    "        print(\"head at ->\", head.data)\n",
    "        \n",
    "        self.traverse(head)\n",
    "        \n",
    "    def insert_middle(self, head, after, key):\n",
    "        self.head= head\n",
    "        self.key = key\n",
    "        self.after = after\n",
    "        temp = head\n",
    "        while temp != after :\n",
    "            temp = temp.nextnode\n",
    "        after_key = temp.nextnode\n",
    "        temp.nextnode = key\n",
    "        key.nextnode = after_key\n",
    "        key.previousnode = temp\n",
    "        after_key.previousnode = key\n",
    "        \n",
    "        self.traverse(head)\n",
    "        \n",
    "        \n",
    "        \n",
    "        \n",
    "        def delete_node(self,head, key):\n",
    "        self.head= head\n",
    "        self.key = key\n",
    "        temp = head\n",
    "        while temp is not key:\n",
    "            temp = temp.nextnode\n",
    "            \n",
    "        \n",
    "        \n",
    "        if temp.nextnode != None :\n",
    "            print(\"temp at ->\", temp.data)\n",
    "            temp.nextnode.previousnode = temp.previousnode\n",
    "            \n",
    "        \n",
    "        print(\"temp at ->\", temp.data)\n",
    "        temp.previousnode.nextnode = temp.nextnode\n",
    "        \n",
    "        #elif temp.nextnode == None:\n",
    "        #    print(\"temp here ->\", temp.data)\n",
    "        #    temp.previousnode.nextnode = temp.nextnode\n",
    "            \n",
    "            \n",
    "    def delete_first(self,head):\n",
    "        self.head= head\n",
    "        \n",
    "        head = head.nextnode   \n",
    "        head.previousnode = None\n",
    "        self.traverse(head)\n",
    "        \n",
    "        \n",
    "            \n",
    "            \n",
    "        #x = temp.nextnode.nextnode \n",
    "        #temp.nextnode = x\n",
    "        #x.previousnode = temp\n",
    "        self.traverse(head)\n",
    "        \n",
    "        \n",
    "        \n",
    "            \n",
    "    def knodes(self,head, tail):\n",
    "        self.head = head\n",
    "        self.key = key\n",
    "        temp = head\n",
    "        while temp.nextnode != None:\n",
    "            temp = temp.nextnode\n",
    "            \n",
    "        newhead = temp.nextnode\n",
    "        temp.nextnode = None\n",
    "            \n",
    "            \n",
    "            \n",
    "    def intersect(self, head1, head2):\n",
    "        self.head1 = head1\n",
    "        self.head2 = head2\n",
    "        temp1 = head1\n",
    "        temp2 = head2\n",
    "        count1 = 0\n",
    "        count2 = 0\n",
    "        while head1.nextnode != None:\n",
    "            count1 = count1 + 1\n",
    "            head1 = head1.nextnode\n",
    "        print(\"LL 1-> \", count1)\n",
    "        \n",
    "        while head2.nextnode != None:\n",
    "            count2 = count2 + 1\n",
    "            head2 = head2.nextnode\n",
    "        print(\"LL 2-> \", count2)\n",
    "        \n",
    "        if count2 > count1:\n",
    "            d = count2 - count1\n",
    "            count2 = 0\n",
    "        \n",
    "            while count2 != d:\n",
    "                count2 = count2 + 1\n",
    "                temp2 = temp2.nextnode\n",
    "            print(\"Temp2 2-> \", temp2.data)\n",
    "            \n",
    "        while temp1.nextnode != temp2.nextnode:\n",
    "            temp1 = temp1.nextnode\n",
    "            temp2 = temp2.nextnode\n",
    "            \n",
    "        print(\"Intersection at ->\", temp1.nextnode.data)\n",
    "        "
   ]
  },
  {
   "cell_type": "code",
   "execution_count": null,
   "id": "0929c989",
   "metadata": {},
   "outputs": [],
   "source": [
    "f.insert_last(head,f)\n",
    "g.insert_middle(head, c, g)\n",
    "f.insert_head(head , f)"
   ]
  }
 ],
 "metadata": {
  "kernelspec": {
   "display_name": "Python 3",
   "language": "python",
   "name": "python3"
  },
  "language_info": {
   "codemirror_mode": {
    "name": "ipython",
    "version": 3
   },
   "file_extension": ".py",
   "mimetype": "text/x-python",
   "name": "python",
   "nbconvert_exporter": "python",
   "pygments_lexer": "ipython3",
   "version": "3.8.10"
  }
 },
 "nbformat": 4,
 "nbformat_minor": 5
}
