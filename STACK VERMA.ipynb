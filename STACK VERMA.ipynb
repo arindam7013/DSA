{
 "cells": [
  {
   "cell_type": "code",
   "execution_count": 1,
   "id": "c9d96ac6",
   "metadata": {},
   "outputs": [],
   "source": [
    "# Nearest Greater to right"
   ]
  },
  {
   "cell_type": "code",
   "execution_count": 23,
   "id": "c1faca29",
   "metadata": {},
   "outputs": [
    {
     "data": {
      "text/plain": [
       "[3, 4, 4, -1]"
      ]
     },
     "execution_count": 23,
     "metadata": {},
     "output_type": "execute_result"
    }
   ],
   "source": [
    "def neartoright(arr):\n",
    "    n = len(arr)\n",
    "    stack = []\n",
    "    temp = []\n",
    "    \n",
    "    for i in range(n-1, -1, -1):\n",
    "        if len(stack) == 0:\n",
    "            temp.append(-1)\n",
    "            \n",
    "        elif len(stack) > 0 and  stack[len(stack) - 1] > arr[i]:\n",
    "            temp.append(stack[len(stack) - 1])\n",
    "        \n",
    "        elif len(stack) > 0 and stack[len(stack) - 1] <= arr[i]:\n",
    "            while len(stack) > 0 and stack[len(stack) - 1] <= arr[i]:\n",
    "                stack.pop()\n",
    "            \n",
    "            if len(stack) == 0:\n",
    "                temp.append(-1)\n",
    "                \n",
    "            else:\n",
    "                temp.append(stack[len(stack) - 1])\n",
    "            \n",
    "        \n",
    "        \n",
    "        \n",
    "        stack.append(arr[i])\n",
    "         \n",
    "    return temp[::-1] #.reverse()\n",
    "\n",
    "\n",
    "neartoright([1,3,2,4])"
   ]
  },
  {
   "cell_type": "code",
   "execution_count": 26,
   "id": "5be21436",
   "metadata": {},
   "outputs": [
    {
     "data": {
      "text/plain": [
       "[-1, -1, 3, -1]"
      ]
     },
     "execution_count": 26,
     "metadata": {},
     "output_type": "execute_result"
    }
   ],
   "source": [
    "def neartoleft(arr):\n",
    "    n = len(arr)\n",
    "    stack = []\n",
    "    temp = []\n",
    "    \n",
    "    for i in range(n):\n",
    "        if len(stack) == 0:\n",
    "            temp.append(-1)\n",
    "            \n",
    "        elif len(stack) > 0 and  stack[len(stack) - 1] > arr[i]:\n",
    "            temp.append(stack[len(stack) - 1])\n",
    "        \n",
    "        elif len(stack) > 0 and stack[len(stack) - 1] <= arr[i]:\n",
    "            while len(stack) > 0 and stack[len(stack) - 1] <= arr[i]:\n",
    "                stack.pop()\n",
    "            \n",
    "            if len(stack) == 0:\n",
    "                temp.append(-1)\n",
    "                \n",
    "            else:\n",
    "                temp.append(stack[len(stack) - 1])\n",
    "            \n",
    "        \n",
    "        \n",
    "        \n",
    "        stack.append(arr[i])\n",
    "         \n",
    "    return temp #[::-1] #.reverse()\n",
    "\n",
    "\n",
    "neartoleft([1,3,2,4])"
   ]
  },
  {
   "cell_type": "code",
   "execution_count": null,
   "id": "07c460fc",
   "metadata": {},
   "outputs": [],
   "source": []
  },
  {
   "cell_type": "code",
   "execution_count": null,
   "id": "f0cd31bb",
   "metadata": {},
   "outputs": [],
   "source": [
    "#NEAREST SMALLER TO LEFT"
   ]
  },
  {
   "cell_type": "code",
   "execution_count": 32,
   "id": "926d16b7",
   "metadata": {},
   "outputs": [
    {
     "data": {
      "text/plain": [
       "[-1, 4, -1, 2, 2]"
      ]
     },
     "execution_count": 32,
     "metadata": {},
     "output_type": "execute_result"
    }
   ],
   "source": [
    "def smalltoleft(arr):\n",
    "    n = len(arr)\n",
    "    stack = []\n",
    "    temp = []\n",
    "    \n",
    "    for i in range(n):\n",
    "        if len(stack) == 0:\n",
    "            temp.append(-1)\n",
    "            \n",
    "        elif len(stack) > 0  and arr[i] > stack[len(stack) -1] :\n",
    "            temp.append(stack[len(stack) - 1])\n",
    "            \n",
    "        elif len(stack) > 0 and arr[i] <= stack[len(stack) - 1]  :\n",
    "            \n",
    "            while len(stack) > 0 and stack[len(stack) - 1] >= arr[i]:\n",
    "                stack.pop()\n",
    "                \n",
    "            if len(stack) == 0:\n",
    "                    temp.append(-1)\n",
    "            else:\n",
    "                    temp.append(stack[len(stack) - 1])\n",
    "        \n",
    "        \n",
    "        stack.append(arr[i])\n",
    "        \n",
    "    return temp\n",
    "\n",
    "\n",
    "smalltoleft([4,5,2,10,8])\n",
    "    "
   ]
  },
  {
   "cell_type": "code",
   "execution_count": null,
   "id": "cccd7820",
   "metadata": {},
   "outputs": [],
   "source": []
  },
  {
   "cell_type": "code",
   "execution_count": 34,
   "id": "196beb54",
   "metadata": {},
   "outputs": [
    {
     "data": {
      "text/plain": [
       "[2, 2, -1, 8, -1]"
      ]
     },
     "execution_count": 34,
     "metadata": {},
     "output_type": "execute_result"
    }
   ],
   "source": [
    "def smalltoright(arr):\n",
    "    n = len(arr)\n",
    "    stack = []\n",
    "    temp = []\n",
    "    \n",
    "    for i in range(n-1, -1, -1):\n",
    "        if len(stack) == 0:\n",
    "            temp.append(-1)\n",
    "            \n",
    "        elif len(stack) > 0  and arr[i] > stack[len(stack) -1] :\n",
    "            temp.append(stack[len(stack) - 1])\n",
    "            \n",
    "        elif len(stack) > 0 and arr[i] <= stack[len(stack) - 1]  :\n",
    "            \n",
    "            while len(stack) > 0 and stack[len(stack) - 1] >= arr[i]:\n",
    "                stack.pop()\n",
    "                \n",
    "            if len(stack) == 0:\n",
    "                    temp.append(-1)\n",
    "            else:\n",
    "                    temp.append(stack[len(stack) - 1])\n",
    "        \n",
    "        \n",
    "        stack.append(arr[i])\n",
    "        \n",
    "    return temp[::-1]\n",
    "\n",
    "\n",
    "smalltoright([4,5,2,10,8])\n",
    "    "
   ]
  },
  {
   "cell_type": "code",
   "execution_count": null,
   "id": "0ae671fb",
   "metadata": {},
   "outputs": [],
   "source": []
  },
  {
   "cell_type": "code",
   "execution_count": 35,
   "id": "b654ac77",
   "metadata": {},
   "outputs": [],
   "source": [
    "#stock span"
   ]
  },
  {
   "cell_type": "code",
   "execution_count": null,
   "id": "f4e409cf",
   "metadata": {},
   "outputs": [],
   "source": [
    "def stock_span(arr):\n",
    "    stack = []\n",
    "    temp = []\n",
    "    fc = 0\n",
    "    for i in range(n):\n",
    "        count = 1\n",
    "        if len(stack) == 0:\n",
    "            temp.append(count)\n",
    "        elif stack[len(stack) - 1] > arr[i] and len(stack) > 0:\n",
    "            temp.append(count)\n",
    "            \n",
    "        elif stack[len(stack) - 1] < arr[i] and len(stack) > 0:\n",
    "            while len(stack) > 0 and stack[len(stack) - 1] < arr[i]:\n",
    "                stack.pop()\n",
    "                count = count + 1\n",
    "            fc = count\n",
    "                \n",
    "            \n",
    "            "
   ]
  },
  {
   "cell_type": "code",
   "execution_count": null,
   "id": "4621112d",
   "metadata": {},
   "outputs": [],
   "source": []
  },
  {
   "cell_type": "code",
   "execution_count": 146,
   "id": "717e1b36",
   "metadata": {},
   "outputs": [
    {
     "data": {
      "text/plain": [
       "[1, 1, 1, 2, 1, 4, 6]"
      ]
     },
     "execution_count": 146,
     "metadata": {},
     "output_type": "execute_result"
    }
   ],
   "source": [
    "def stock(arr):\n",
    "    n = len(arr)\n",
    "    stack = []\n",
    "    temp = []\n",
    "    \n",
    "    \n",
    "    for i in range(n):\n",
    "        if len(stack) == 0:\n",
    "            temp.append((-1,1))\n",
    "            \n",
    "            \n",
    "            \n",
    "        elif len(stack) > 0 and  stack[len(stack) - 1][0] > arr[i]:\n",
    "            temp.append((stack[len(stack) - 1])) #, i\n",
    "            \n",
    "        \n",
    "        elif len(stack) > 0 and stack[len(stack) - 1][0] <= arr[i]:\n",
    "            while len(stack) > 0 and stack[len(stack) - 1][0] <= arr[i]:\n",
    "                stack.pop()\n",
    "            \n",
    "            if len(stack) == 0:\n",
    "                temp.append(-1)\n",
    "                \n",
    "                \n",
    "            else:\n",
    "                temp.append((stack[len(stack) - 1])) #, i\n",
    "                \n",
    "            \n",
    "        \n",
    "        \n",
    "        \n",
    "        stack.append((arr[i], i))\n",
    "    s= []\n",
    "    for i in range(len(temp)):\n",
    "        s.append(abs((i - temp[i][1])))\n",
    "        \n",
    "        \n",
    "    return  s \n",
    "stock([100,80,60,70,60,75,85])"
   ]
  },
  {
   "cell_type": "code",
   "execution_count": null,
   "id": "825e4f55",
   "metadata": {},
   "outputs": [],
   "source": []
  },
  {
   "cell_type": "code",
   "execution_count": null,
   "id": "27cb4177",
   "metadata": {},
   "outputs": [],
   "source": []
  },
  {
   "cell_type": "code",
   "execution_count": null,
   "id": "feec0917",
   "metadata": {},
   "outputs": [],
   "source": [
    "def stock(arr):\n",
    "    n = len(arr)\n",
    "    stack = {}\n",
    "    temp = []\n",
    "    temp2 = []\n",
    "    \n",
    "    for i in range(n):\n",
    "        if len(stack) == 0:\n",
    "            temp.append(-1)\n",
    "            \n",
    "            \n",
    "                \n",
    "        elif len(stack) > 0 and  stack[len(stack) - 1] > arr[i]:\n",
    "            temp.append(stack[len(stack) - 1])\n",
    "            #print(stack)\n",
    "            \n",
    "            print(stack[len(stack) - 1])\n",
    "        \n",
    "        elif len(stack) > 0 and stack[len(stack) - 1] <= arr[i]:\n",
    "            while len(stack) > 0 and stack[len(stack) - 1] <= arr[i]:\n",
    "                stack.pop(len(stack) - 1)\n",
    "            \n",
    "            if len(stack) == 0:\n",
    "                temp.append(-1)\n",
    "                \n",
    "                \n",
    "            else:\n",
    "                temp.append(stack[len(stack) - 1])\n",
    "                \n",
    "            \n",
    "        \n",
    "        \n",
    "        stack[arr[i]] = i\n",
    "        #stack.append(arr[i])\n",
    "         \n",
    "    return temp, temp2\n",
    "stock([100,80,60,70,60,75,85])"
   ]
  },
  {
   "cell_type": "code",
   "execution_count": null,
   "id": "da1dba63",
   "metadata": {},
   "outputs": [],
   "source": []
  },
  {
   "cell_type": "code",
   "execution_count": null,
   "id": "c41e5ffa",
   "metadata": {},
   "outputs": [],
   "source": []
  },
  {
   "cell_type": "code",
   "execution_count": 75,
   "id": "687c0fbf",
   "metadata": {},
   "outputs": [
    {
     "name": "stdout",
     "output_type": "stream",
     "text": [
      "{0: 0, 1: 1, 2: 4, 3: 9, 4: 16, 5: 25}\n"
     ]
    }
   ],
   "source": [
    "squares = {}\n",
    "for x in range(6):\n",
    "    squares[x] = x*x\n",
    "print(squares)"
   ]
  },
  {
   "cell_type": "code",
   "execution_count": 76,
   "id": "2cef44e4",
   "metadata": {},
   "outputs": [
    {
     "data": {
      "text/plain": [
       "{0: 0, 1: 1, 2: 4, 3: 9, 4: 16, 5: 25}"
      ]
     },
     "execution_count": 76,
     "metadata": {},
     "output_type": "execute_result"
    }
   ],
   "source": [
    "squares"
   ]
  },
  {
   "cell_type": "code",
   "execution_count": 79,
   "id": "0f403a85",
   "metadata": {},
   "outputs": [
    {
     "data": {
      "text/plain": [
       "6"
      ]
     },
     "execution_count": 79,
     "metadata": {},
     "output_type": "execute_result"
    }
   ],
   "source": [
    "len(squares)"
   ]
  },
  {
   "cell_type": "code",
   "execution_count": 81,
   "id": "4594b738",
   "metadata": {},
   "outputs": [
    {
     "data": {
      "text/plain": [
       "25"
      ]
     },
     "execution_count": 81,
     "metadata": {},
     "output_type": "execute_result"
    }
   ],
   "source": [
    "squares.pop(len(squares)-1)"
   ]
  },
  {
   "cell_type": "code",
   "execution_count": 82,
   "id": "aab81c7a",
   "metadata": {},
   "outputs": [
    {
     "data": {
      "text/plain": [
       "{0: 0, 1: 1, 2: 4, 3: 9, 4: 16}"
      ]
     },
     "execution_count": 82,
     "metadata": {},
     "output_type": "execute_result"
    }
   ],
   "source": [
    "squares"
   ]
  },
  {
   "cell_type": "code",
   "execution_count": null,
   "id": "e2df419a",
   "metadata": {},
   "outputs": [],
   "source": []
  },
  {
   "cell_type": "code",
   "execution_count": 91,
   "id": "7c746bb1",
   "metadata": {},
   "outputs": [],
   "source": [
    "aa = [(3,4) , (5,6)]"
   ]
  },
  {
   "cell_type": "code",
   "execution_count": 97,
   "id": "f1e42a38",
   "metadata": {},
   "outputs": [],
   "source": [
    "aa.append((7,8))"
   ]
  },
  {
   "cell_type": "code",
   "execution_count": 129,
   "id": "bd2bc547",
   "metadata": {},
   "outputs": [
    {
     "data": {
      "text/plain": [
       "(7, 8)"
      ]
     },
     "execution_count": 129,
     "metadata": {},
     "output_type": "execute_result"
    }
   ],
   "source": [
    "aa[2]"
   ]
  },
  {
   "cell_type": "code",
   "execution_count": 153,
   "id": "701c28bf",
   "metadata": {},
   "outputs": [
    {
     "data": {
      "text/plain": [
       "tuple"
      ]
     },
     "execution_count": 153,
     "metadata": {},
     "output_type": "execute_result"
    }
   ],
   "source": [
    "type(aa[1])"
   ]
  },
  {
   "cell_type": "code",
   "execution_count": null,
   "id": "346493d7",
   "metadata": {},
   "outputs": [],
   "source": []
  }
 ],
 "metadata": {
  "kernelspec": {
   "display_name": "Python 3",
   "language": "python",
   "name": "python3"
  },
  "language_info": {
   "codemirror_mode": {
    "name": "ipython",
    "version": 3
   },
   "file_extension": ".py",
   "mimetype": "text/x-python",
   "name": "python",
   "nbconvert_exporter": "python",
   "pygments_lexer": "ipython3",
   "version": "3.8.10"
  }
 },
 "nbformat": 4,
 "nbformat_minor": 5
}
