{
 "cells": [
  {
   "cell_type": "code",
   "execution_count": 8,
   "id": "6d178fa9",
   "metadata": {},
   "outputs": [],
   "source": [
    "class BinaryTree:\n",
    "    \n",
    "    \n",
    "    \n",
    "    def __init__(self, data):\n",
    "        self.data = data\n",
    "        self.leftchild = None\n",
    "        self.rightchild = None\n",
    "        \n",
    "        \n",
    "        \n",
    "    def breadth_traverse(rootnode):\n",
    "        if rootnode is None:\n",
    "            return \"no node found\"\n",
    "    \n",
    "        q = deque()\n",
    "        q.append(rootnode)\n",
    "        sum = 0\n",
    "    \n",
    "        while len(q)!= 0:\n",
    "            \n",
    "            p = q.popleft()\n",
    "            print(\"->\" , p.data)\n",
    "            sum = sum + p.data\n",
    "            #print(\"sum is->\", p.data)\n",
    "        \n",
    "        \n",
    "            if p.leftchild is not None:\n",
    "                q.append(p.leftchild)\n",
    "            \n",
    "            if p.rightchild is not None:\n",
    "                q.append(p.rightchild)\n",
    "                \n",
    "                \n",
    "        def sum_breadth_traverse(rootnode):\n",
    "            if rootnode is None:\n",
    "                return \"no node found\"\n",
    "    \n",
    "            q = deque()\n",
    "            q.append(rootnode)\n",
    "            level = 0\n",
    "            sum = 0\n",
    "    \n",
    "            while len(q)!= 0:\n",
    "            \n",
    "                p = q.popleft()\n",
    "                if q is None:\n",
    "                \n",
    "                    print(\"->\" , p.data)\n",
    "                    sum = sum + p.data\n",
    "                    print(\"sum is->\", p.data)\n",
    "        \n",
    "        \n",
    "                    if p.leftchild is not None:\n",
    "                        q.append(p.leftchild)\n",
    "            \n",
    "                    if p.rightchild is not None:\n",
    "                        q.append(p.rightchild)\n",
    "        \n",
    "        "
   ]
  },
  {
   "cell_type": "code",
   "execution_count": 9,
   "id": "2f728ffa",
   "metadata": {},
   "outputs": [],
   "source": [
    "from collections import deque"
   ]
  },
  {
   "cell_type": "code",
   "execution_count": 10,
   "id": "22fc52cc",
   "metadata": {},
   "outputs": [],
   "source": [
    "N1 = BinaryTree(\"N1\")\n",
    "N2 = BinaryTree(\"N2\")\n",
    "N3 = BinaryTree(\"N3\")\n",
    "\n",
    "\n",
    "N1.leftchild = N2\n",
    "N1.rightchild = N3\n",
    "\n",
    "\n",
    "N4 = BinaryTree(\"N4\")\n",
    "N5 = BinaryTree(\"N5\")\n",
    "\n",
    "\n",
    "N2.leftchild = N4\n",
    "N2.rightchild = N5\n",
    "\n",
    "rootnode = N1"
   ]
  },
  {
   "cell_type": "code",
   "execution_count": 11,
   "id": "b8e17ace",
   "metadata": {},
   "outputs": [],
   "source": [
    "N1 = BinaryTree(4)\n",
    "N2 = BinaryTree(6)\n",
    "N3 = BinaryTree(7)\n",
    "\n",
    "\n",
    "N1.leftchild = N2\n",
    "N1.rightchild = N3\n",
    "\n",
    "\n",
    "N4 = BinaryTree(5)\n",
    "N5 = BinaryTree(2)\n",
    "\n",
    "\n",
    "N2.leftchild = N4\n",
    "N2.rightchild = N5\n",
    "\n",
    "rootnode = N1"
   ]
  },
  {
   "cell_type": "code",
   "execution_count": 12,
   "id": "4b42a3c8",
   "metadata": {},
   "outputs": [
    {
     "name": "stdout",
     "output_type": "stream",
     "text": [
      "-> 4\n",
      "-> 6\n",
      "-> 7\n",
      "-> 5\n",
      "-> 2\n"
     ]
    }
   ],
   "source": [
    "rootnode.breadth_traverse()"
   ]
  },
  {
   "cell_type": "code",
   "execution_count": 18,
   "id": "d986d9ba",
   "metadata": {},
   "outputs": [],
   "source": []
  },
  {
   "cell_type": "code",
   "execution_count": 19,
   "id": "911eed7e",
   "metadata": {},
   "outputs": [],
   "source": []
  },
  {
   "cell_type": "code",
   "execution_count": 20,
   "id": "96dec263",
   "metadata": {},
   "outputs": [
    {
     "data": {
      "text/plain": [
       "[3, 4, 5, 6]"
      ]
     },
     "execution_count": 20,
     "metadata": {},
     "output_type": "execute_result"
    }
   ],
   "source": []
  },
  {
   "cell_type": "code",
   "execution_count": null,
   "id": "55650a8f",
   "metadata": {},
   "outputs": [],
   "source": []
  }
 ],
 "metadata": {
  "kernelspec": {
   "display_name": "Python 3",
   "language": "python",
   "name": "python3"
  },
  "language_info": {
   "codemirror_mode": {
    "name": "ipython",
    "version": 3
   },
   "file_extension": ".py",
   "mimetype": "text/x-python",
   "name": "python",
   "nbconvert_exporter": "python",
   "pygments_lexer": "ipython3",
   "version": "3.8.10"
  }
 },
 "nbformat": 4,
 "nbformat_minor": 5
}
