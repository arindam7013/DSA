{
 "cells": [
  {
   "cell_type": "code",
   "execution_count": null,
   "id": "fb3be635",
   "metadata": {},
   "outputs": [],
   "source": [
    "#Longest sub-sequence"
   ]
  },
  {
   "cell_type": "code",
   "execution_count": 2,
   "id": "cb41f8a0",
   "metadata": {},
   "outputs": [
    {
     "name": "stdout",
     "output_type": "stream",
     "text": [
      "[[0, 0, 0, 0, 0], [0, 1, 1, 1, 1], [0, 1, 2, 2, 2], [0, 1, 2, 2, 3], [0, 1, 2, 3, 3]]\n"
     ]
    },
    {
     "data": {
      "text/plain": [
       "3"
      ]
     },
     "execution_count": 2,
     "metadata": {},
     "output_type": "execute_result"
    }
   ],
   "source": [
    "def subseq(arr1, arr2, m, n):\n",
    "    memo = [[0 for x in range(n + 1)] for x in range(m + 1)]\n",
    "    \n",
    "    \n",
    "    #base case -> initialization\n",
    "    #for i in range(m):\n",
    "     #   for j in range(n):\n",
    "      #      if i == 0 and j==0:\n",
    "       #         memo[i][j] = 0\n",
    "        #    if i == 0:\n",
    "         #       memo[i][j] = 0\n",
    "          #      \n",
    "           # if j == 0:\n",
    "            #    memo[i][j] = 0\n",
    "                \n",
    "    \n",
    "    #main code\n",
    "    \n",
    "    for i in range(1, m+1):\n",
    "        for j in range(1, n+1):\n",
    "            if arr1[i-1]==arr2[j-1]:\n",
    "                memo[i][j] = 1 + memo[i-1][j-1]\n",
    "            \n",
    "            else:\n",
    "                memo[i][j] =  max(memo[i-1][j] , memo[i][j-1])\n",
    "            \n",
    "                        \n",
    "    print(memo)\n",
    "    return memo[m][n]\n",
    "\n",
    "    \n",
    "    \n",
    "    \n",
    "    \n",
    "\n",
    "    \n",
    "arr1 = 'abcd'\n",
    "arr2 = 'abdc'\n",
    "subseq(arr1 , arr2, 4,4)"
   ]
  },
  {
   "cell_type": "code",
   "execution_count": null,
   "id": "c03b82e1",
   "metadata": {},
   "outputs": [],
   "source": []
  },
  {
   "cell_type": "code",
   "execution_count": 1,
   "id": "e4fdcc1d",
   "metadata": {},
   "outputs": [
    {
     "name": "stdout",
     "output_type": "stream",
     "text": [
      "[[0, 0, 0, 0, 0, 0, 0], [0, 1, 0, 1, 0, 1, 0], [0, 0, 2, 0, 2, 0, 0], [0, 1, 0, 3, 0, 3, 0], [0, 0, 0, 0, 0, 0, 4]]\n"
     ]
    },
    {
     "data": {
      "text/plain": [
       "4"
      ]
     },
     "execution_count": 1,
     "metadata": {},
     "output_type": "execute_result"
    }
   ],
   "source": [
    "def substr(arr1, arr2, m, n):\n",
    "    memo = [[0 for x in range(n + 1)] for x in range(m + 1)]\n",
    "    \n",
    "    #base case -> initialization\n",
    "    #for i in range(m):\n",
    "     #   for j in range(n):\n",
    "      #      if i == 0 and j==0:\n",
    "       #         memo[i][j] = 0\n",
    "        #    if i == 0:\n",
    "         #       memo[i][j] = 0\n",
    "          #      \n",
    "           # if j == 0:\n",
    "            #    memo[i][j] = 0\n",
    "                \n",
    "\n",
    "    \n",
    "    #main code\n",
    "    \n",
    "    for i in range(1, m+1):\n",
    "        for j in range(1, n+1):\n",
    "            if arr1[i-1]==arr2[j-1]:\n",
    "                memo[i][j] = 1 + memo[i-1][j-1]\n",
    "            \n",
    "            else:\n",
    "                memo[i][j] =  0\n",
    "            \n",
    "    \n",
    "    max = 0\n",
    "    for i in range(m+1):\n",
    "        for j in range(n+1):\n",
    "            if memo[i][j] > max:\n",
    "                max = memo[i][j]\n",
    "    print(memo)\n",
    "    return max \n",
    "\n",
    "    \n",
    "    \n",
    "    \n",
    "    \n",
    "\n",
    "    \n",
    "arr1 = 'adac'\n",
    "arr2 = 'adadac'\n",
    "substr(arr1 , arr2, 4,6)"
   ]
  },
  {
   "cell_type": "code",
   "execution_count": null,
   "id": "0aa8f9af",
   "metadata": {},
   "outputs": [],
   "source": [
    "#print longest common sub-seq"
   ]
  },
  {
   "cell_type": "code",
   "execution_count": 6,
   "id": "80ec4f0b",
   "metadata": {},
   "outputs": [
    {
     "data": {
      "text/plain": [
       "'adacc'"
      ]
     },
     "execution_count": 6,
     "metadata": {},
     "output_type": "execute_result"
    }
   ],
   "source": [
    "def substr_print(arr1, arr2, m, n):\n",
    "    memo = [[0 for x in range(n + 1)] for x in range(m + 1)]\n",
    "    \n",
    "    \n",
    "    #base case -> initialization\n",
    "    for i in range(m):\n",
    "        for j in range(n):\n",
    "            if i == 0 and j==0:\n",
    "                memo[i][j] = 0\n",
    "            if i == 0:\n",
    "                memo[i][j] = 0\n",
    "                \n",
    "            if j == 0:\n",
    "                memo[i][j] = 0\n",
    "                \n",
    "    \n",
    "    #main code\n",
    "    \n",
    "    for i in range(1, m+1):\n",
    "        for j in range(1, n+1):\n",
    "            if arr1[i-1]==arr2[j-1]:\n",
    "                memo[i][j] = 1 + memo[i-1][j-1]\n",
    "            \n",
    "            else:\n",
    "                memo[i][j] =  max(memo[i-1][j] , memo[i][j-1])\n",
    "            \n",
    "    i = m\n",
    "    j = n\n",
    "    st = ''\n",
    "    \n",
    "    while i>0 and j>0:\n",
    "        \n",
    "        if arr1[i-1] == arr2[j-1]:\n",
    "            st = st + arr1[i-1]\n",
    "            i -= 1\n",
    "            j -= 1\n",
    "        else:\n",
    "            if memo[i-1][j] > memo[i][j-1]:\n",
    "                i = i-1\n",
    "            else:\n",
    "                j = j-1\n",
    "        \n",
    "    \n",
    "    return st[::-1] \n",
    "\n",
    "    \n",
    "    \n",
    "    \n",
    "    \n",
    "\n",
    "    \n",
    "arr1 = 'adafcc'\n",
    "arr2 = 'adadacc'\n",
    "substr_print(arr1 , arr2, 6,7)"
   ]
  },
  {
   "cell_type": "code",
   "execution_count": 5,
   "id": "2636237d",
   "metadata": {},
   "outputs": [],
   "source": []
  },
  {
   "cell_type": "code",
   "execution_count": 9,
   "id": "137e3b6d",
   "metadata": {},
   "outputs": [],
   "source": [
    "#shortest common super-seq ki length"
   ]
  },
  {
   "cell_type": "code",
   "execution_count": 8,
   "id": "fba24327",
   "metadata": {},
   "outputs": [
    {
     "name": "stdout",
     "output_type": "stream",
     "text": [
      "[[0, 0, 0, 0], [0, 0, 0, 0], [0, 1, 0, 1], [0, 1, 0, 1], [0, 0, 2, 0]]\n"
     ]
    },
    {
     "data": {
      "text/plain": [
       "5"
      ]
     },
     "execution_count": 8,
     "metadata": {},
     "output_type": "execute_result"
    }
   ],
   "source": [
    "def supers(arr1, arr2, m, n):\n",
    "    memo = [[0 for x in range(n + 1)] for x in range(m + 1)]\n",
    "    \n",
    "    \n",
    "    #base case -> initialization\n",
    "    for i in range(m):\n",
    "        for j in range(n):\n",
    "            if i == 0 and j==0:\n",
    "                memo[i][j] = 0\n",
    "            if i == 0:\n",
    "                memo[i][j] = 0\n",
    "                \n",
    "            if j == 0:\n",
    "                memo[i][j] = 0\n",
    "                \n",
    "    sup = arr1 + arr2\n",
    "    #main code\n",
    "    \n",
    "    for i in range(1, m+1):\n",
    "        for j in range(1, n+1):\n",
    "            if arr1[i-1]==arr2[j-1]:\n",
    "                memo[i][j] = 1 + memo[i-1][j-1]\n",
    "            \n",
    "            else:\n",
    "                memo[i][j] =  0\n",
    "    \n",
    "    \n",
    "    \n",
    "    print(memo)    \n",
    "    max = 0\n",
    "    for i in range(m+1):\n",
    "        for j in range(n+1):\n",
    "            if memo[i][j] > max:\n",
    "                max = memo[i][j]\n",
    "    \n",
    "     \n",
    "\n",
    "    return (len(sup) - max )\n",
    "    \n",
    "    \n",
    "    \n",
    "\n",
    "    \n",
    "arr1 = 'geek'\n",
    "arr2 = 'eke'\n",
    "supers(arr1 , arr2, 4,3)"
   ]
  },
  {
   "cell_type": "code",
   "execution_count": 16,
   "id": "081f84bb",
   "metadata": {},
   "outputs": [],
   "source": [
    "#MInimum no of insertion and del to convert string a to b"
   ]
  },
  {
   "cell_type": "code",
   "execution_count": 19,
   "id": "721bc00a",
   "metadata": {},
   "outputs": [
    {
     "data": {
      "text/plain": [
       "(6, 5)"
      ]
     },
     "execution_count": 19,
     "metadata": {},
     "output_type": "execute_result"
    }
   ],
   "source": [
    "def min_del_ins(arr1, arr2, m, n):\n",
    "    memo = [[0 for x in range(n + 1)] for x in range(m + 1)]\n",
    "    \n",
    "    \n",
    "    #base case -> initialization\n",
    "    for i in range(m):\n",
    "        for j in range(n):\n",
    "            if i == 0 and j==0:\n",
    "                memo[i][j] = 0\n",
    "            if i == 0:\n",
    "                memo[i][j] = 0\n",
    "                \n",
    "            if j == 0:\n",
    "                memo[i][j] = 0\n",
    "                \n",
    "    \n",
    "    #main code\n",
    "    \n",
    "    for i in range(1, m+1):\n",
    "        for j in range(1, n+1):\n",
    "            if arr1[i-1]==arr2[j-1]:\n",
    "                memo[i][j] = 1 + memo[i-1][j-1]\n",
    "            \n",
    "            else:\n",
    "                memo[i][j] =  0\n",
    "    \n",
    "    \n",
    "    \n",
    "    deletion = 0\n",
    "    insertion = 0\n",
    "    max = 0\n",
    "    for i in range(m+1):\n",
    "        for j in range(n+1):\n",
    "            if memo[i][j] > max:\n",
    "                max = memo[i][j]\n",
    "    \n",
    "     \n",
    "\n",
    "    deletion = len(arr1) -max\n",
    "    insertion = len(arr2) - max\n",
    "    \n",
    "    return deletion , insertion\n",
    "    \n",
    "    \n",
    "    \n",
    "\n",
    "    \n",
    "arr1 = 'efaebad'\n",
    "arr2 = 'gehide'\n",
    "min_del_ins(arr1 , arr2, 7,6)"
   ]
  },
  {
   "cell_type": "code",
   "execution_count": null,
   "id": "94c82602",
   "metadata": {},
   "outputs": [],
   "source": []
  },
  {
   "cell_type": "code",
   "execution_count": null,
   "id": "b0ff1f02",
   "metadata": {},
   "outputs": [],
   "source": []
  },
  {
   "cell_type": "code",
   "execution_count": 23,
   "id": "e8b93d4f",
   "metadata": {},
   "outputs": [
    {
     "data": {
      "text/plain": [
       "5"
      ]
     },
     "execution_count": 23,
     "metadata": {},
     "output_type": "execute_result"
    }
   ],
   "source": [
    "def pal_substr(arr1, n):\n",
    "    arr2 = arr1[::-1]\n",
    "    m = len(arr2)\n",
    "    memo = [[0 for x in range(n + 1)] for x in range(m + 1)]\n",
    "    \n",
    "    \n",
    "    #base case -> initialization\n",
    "    for i in range(m):\n",
    "        for j in range(n):\n",
    "            if i == 0 and j==0:\n",
    "                memo[i][j] = 0\n",
    "            if i == 0:\n",
    "                memo[i][j] = 0\n",
    "                \n",
    "            if j == 0:\n",
    "                memo[i][j] = 0\n",
    "                \n",
    "    \n",
    "    #main code\n",
    "    \n",
    "    for i in range(1, m+1):\n",
    "        for j in range(1, n+1):\n",
    "            if arr1[i-1]==arr2[j-1]:\n",
    "                memo[i][j] = 1 + memo[i-1][j-1]\n",
    "            \n",
    "            else:\n",
    "                memo[i][j] =  max(memo[i-1][j] , memo[i][j-1])\n",
    "            \n",
    "    \n",
    "    #max = 0\n",
    "    #for i in range(m+1):\n",
    "     #   for j in range(n+1):\n",
    "     #       if memo[i][j] > max:\n",
    "    #            max = memo[i][j]\n",
    "    #print(memo)\n",
    "    return memo[m][n]\n",
    "\n",
    "    \n",
    "    \n",
    "    \n",
    "    \n",
    "\n",
    "    \n",
    "arr1 = 'agbcba'\n",
    "\n",
    "pal_substr(arr1 ,6)"
   ]
  },
  {
   "cell_type": "code",
   "execution_count": null,
   "id": "5784f288",
   "metadata": {},
   "outputs": [],
   "source": []
  },
  {
   "cell_type": "code",
   "execution_count": null,
   "id": "eb683a64",
   "metadata": {},
   "outputs": [],
   "source": []
  },
  {
   "cell_type": "code",
   "execution_count": null,
   "id": "b4429f38",
   "metadata": {},
   "outputs": [],
   "source": []
  },
  {
   "cell_type": "code",
   "execution_count": null,
   "id": "82ccc224",
   "metadata": {},
   "outputs": [],
   "source": []
  },
  {
   "cell_type": "code",
   "execution_count": null,
   "id": "4a7788a3",
   "metadata": {},
   "outputs": [],
   "source": []
  },
  {
   "cell_type": "code",
   "execution_count": null,
   "id": "449d66ea",
   "metadata": {},
   "outputs": [],
   "source": []
  },
  {
   "cell_type": "code",
   "execution_count": null,
   "id": "d8f3b59c",
   "metadata": {},
   "outputs": [],
   "source": []
  },
  {
   "cell_type": "code",
   "execution_count": 9,
   "id": "379583d3",
   "metadata": {},
   "outputs": [],
   "source": [
    "X = 'aarrt'\n"
   ]
  },
  {
   "cell_type": "code",
   "execution_count": 10,
   "id": "4634a5fa",
   "metadata": {},
   "outputs": [],
   "source": [
    "Y = X[::-1]"
   ]
  },
  {
   "cell_type": "code",
   "execution_count": 11,
   "id": "ac9b5d2a",
   "metadata": {},
   "outputs": [
    {
     "data": {
      "text/plain": [
       "'trraa'"
      ]
     },
     "execution_count": 11,
     "metadata": {},
     "output_type": "execute_result"
    }
   ],
   "source": [
    "Y"
   ]
  },
  {
   "cell_type": "code",
   "execution_count": null,
   "id": "069b1fdb",
   "metadata": {},
   "outputs": [],
   "source": [
    "#User function Template for python3\n",
    "\n",
    "class Solution:\n",
    "    def longestPalin(self, S):\n",
    "        n = len(S)\n",
    "        S1 = S[::-1]\n",
    "        m = len(S1)\n",
    "        memo = [[0 for x in range(n + 1)] for x in range(m + 1)]\n",
    "    \n",
    "        maxLength = 0\n",
    "        endingIndex = m \n",
    "        \n",
    "                \n",
    "    \n",
    "        #main code\n",
    "    \n",
    "        for i in range(1, m+1):\n",
    "            for j in range(1, n+1):\n",
    "                if S[i-1]== S1[j-1]:\n",
    "                    memo[i][j] = 1 + memo[i-1][j-1]\n",
    "                    \n",
    "                    if memo[i][j] > maxLength:\n",
    "                        maxLength = memo[i][j]\n",
    "                        endingIndex = i\n",
    "            \n",
    "                else:\n",
    "                    memo[i][j] = 0 #max(memo[i-1][j] , memo[i][j-1])\n",
    "        \n",
    "        \n",
    "        \n",
    "        return S[endingIndex - maxLength: endingIndex]\n",
    "\n",
    "#{ \n",
    "#  Driver Code Starts\n",
    "#Initial Template for Python 3\n",
    "\n",
    "if __name__ == '__main__':\n",
    "\n",
    "    t = int(input())\n",
    "\n",
    "    for _ in range(t):\n",
    "        S = input()\n",
    "\n",
    "        ob = Solution()\n",
    "\n",
    "        ans = ob.longestPalin(S)\n",
    "\n",
    "        print(ans)\n",
    "# } Driver Code Ends"
   ]
  }
 ],
 "metadata": {
  "kernelspec": {
   "display_name": "Python 3",
   "language": "python",
   "name": "python3"
  },
  "language_info": {
   "codemirror_mode": {
    "name": "ipython",
    "version": 3
   },
   "file_extension": ".py",
   "mimetype": "text/x-python",
   "name": "python",
   "nbconvert_exporter": "python",
   "pygments_lexer": "ipython3",
   "version": "3.8.10"
  }
 },
 "nbformat": 4,
 "nbformat_minor": 5
}
