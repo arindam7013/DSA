{
 "cells": [
  {
   "cell_type": "code",
   "execution_count": 28,
   "id": "b78f4a7d",
   "metadata": {},
   "outputs": [],
   "source": [
    "#N Queens - Solution | Recursion and Backtracking"
   ]
  },
  {
   "cell_type": "code",
   "execution_count": 45,
   "id": "10873257",
   "metadata": {},
   "outputs": [],
   "source": [
    "def nqueens(arr, qsf , r , temp):\n",
    "    \n",
    "    if r == len(arr):\n",
    "        temp.append(qsf)\n",
    "        #print(qsf)\n",
    "        return\n",
    "    \n",
    "    for i in range(len(arr)):\n",
    "        \n",
    "        if issafetoplace(arr , r  ,i) == True:\n",
    "            \n",
    "            arr[r][i] = 1\n",
    "            \n",
    "            nqueens(arr, qsf + str(r) + 'Q' + str(i) + ',' , r+1 , temp )\n",
    "            arr[r][i] = 0\n",
    "            \n",
    "            \n",
    "def issafetoplace(arr , r  ,c):\n",
    "    i = r-1\n",
    "    while i >= 0:\n",
    "        if arr[i][c] == 1:\n",
    "            return False\n",
    "        \n",
    "        i = i-1\n",
    "    \n",
    "    i = r-1\n",
    "    j = c-1\n",
    "    \n",
    "    while i >= 0 and j >= 0:\n",
    "        if arr[i][j] == 1:\n",
    "            return False\n",
    "        \n",
    "        i -= 1\n",
    "        j -= 1\n",
    "        \n",
    "    i = r-1\n",
    "    j = c+1\n",
    "    \n",
    "    while i >= 0 and j < len(arr):\n",
    "        if arr[i][j] == 1:\n",
    "            return False\n",
    "        \n",
    "        i -= 1\n",
    "        j += 1\n",
    "        \n",
    "    return True\n",
    "    \n",
    "        \n",
    "\n",
    "n = 4        \n",
    "arr = [[0 for x in range(n)] for x in range(n)]\n",
    "temp = []\n",
    "nqueens(arr , '' , 0 , temp)\n",
    "        \n",
    "        "
   ]
  },
  {
   "cell_type": "code",
   "execution_count": 52,
   "id": "edde6773",
   "metadata": {},
   "outputs": [
    {
     "name": "stdout",
     "output_type": "stream",
     "text": [
      "['0Q1,1Q3,2Q0,3Q2,', '0Q2,1Q0,2Q3,3Q1,']\n"
     ]
    }
   ],
   "source": [
    "print(temp)"
   ]
  },
  {
   "cell_type": "code",
   "execution_count": null,
   "id": "bede1c51",
   "metadata": {},
   "outputs": [],
   "source": [
    " "
   ]
  },
  {
   "cell_type": "code",
   "execution_count": null,
   "id": "0dbcfa26",
   "metadata": {},
   "outputs": [],
   "source": []
  },
  {
   "cell_type": "code",
   "execution_count": null,
   "id": "5c9aa70f",
   "metadata": {},
   "outputs": [],
   "source": []
  },
  {
   "cell_type": "code",
   "execution_count": null,
   "id": "408da476",
   "metadata": {},
   "outputs": [],
   "source": []
  },
  {
   "cell_type": "code",
   "execution_count": null,
   "id": "7c56ee50",
   "metadata": {},
   "outputs": [],
   "source": []
  },
  {
   "cell_type": "code",
   "execution_count": null,
   "id": "2351e1d5",
   "metadata": {},
   "outputs": [],
   "source": []
  },
  {
   "cell_type": "code",
   "execution_count": null,
   "id": "d87a4b80",
   "metadata": {},
   "outputs": [],
   "source": []
  },
  {
   "cell_type": "code",
   "execution_count": null,
   "id": "45385912",
   "metadata": {},
   "outputs": [],
   "source": []
  },
  {
   "cell_type": "code",
   "execution_count": null,
   "id": "6b2b24c4",
   "metadata": {},
   "outputs": [],
   "source": []
  },
  {
   "cell_type": "code",
   "execution_count": null,
   "id": "49bd6844",
   "metadata": {},
   "outputs": [],
   "source": []
  },
  {
   "cell_type": "code",
   "execution_count": null,
   "id": "b3c88440",
   "metadata": {},
   "outputs": [],
   "source": []
  },
  {
   "cell_type": "code",
   "execution_count": null,
   "id": "7eb38349",
   "metadata": {},
   "outputs": [],
   "source": []
  },
  {
   "cell_type": "code",
   "execution_count": null,
   "id": "65f8c1cc",
   "metadata": {},
   "outputs": [],
   "source": []
  },
  {
   "cell_type": "code",
   "execution_count": null,
   "id": "dc9e444d",
   "metadata": {},
   "outputs": [],
   "source": []
  },
  {
   "cell_type": "code",
   "execution_count": null,
   "id": "c6a95ece",
   "metadata": {},
   "outputs": [],
   "source": []
  },
  {
   "cell_type": "code",
   "execution_count": null,
   "id": "14aaac0f",
   "metadata": {},
   "outputs": [],
   "source": []
  },
  {
   "cell_type": "code",
   "execution_count": null,
   "id": "f7c40c7c",
   "metadata": {},
   "outputs": [],
   "source": []
  },
  {
   "cell_type": "code",
   "execution_count": null,
   "id": "8c4d8a70",
   "metadata": {},
   "outputs": [],
   "source": []
  },
  {
   "cell_type": "code",
   "execution_count": null,
   "id": "31908444",
   "metadata": {},
   "outputs": [],
   "source": []
  },
  {
   "cell_type": "code",
   "execution_count": null,
   "id": "70407397",
   "metadata": {},
   "outputs": [],
   "source": []
  },
  {
   "cell_type": "code",
   "execution_count": null,
   "id": "e8f671b9",
   "metadata": {},
   "outputs": [],
   "source": []
  },
  {
   "cell_type": "code",
   "execution_count": null,
   "id": "f34c3346",
   "metadata": {},
   "outputs": [],
   "source": []
  }
 ],
 "metadata": {
  "kernelspec": {
   "display_name": "Python 3",
   "language": "python",
   "name": "python3"
  },
  "language_info": {
   "codemirror_mode": {
    "name": "ipython",
    "version": 3
   },
   "file_extension": ".py",
   "mimetype": "text/x-python",
   "name": "python",
   "nbconvert_exporter": "python",
   "pygments_lexer": "ipython3",
   "version": "3.8.10"
  }
 },
 "nbformat": 4,
 "nbformat_minor": 5
}
