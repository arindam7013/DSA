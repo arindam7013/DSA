{
 "cells": [
  {
   "cell_type": "code",
   "execution_count": 2,
   "id": "79e2615e",
   "metadata": {},
   "outputs": [
    {
     "data": {
      "text/plain": [
       "6"
      ]
     },
     "execution_count": 2,
     "metadata": {},
     "output_type": "execute_result"
    }
   ],
   "source": [
    "# Binary Search Ascending Order\n",
    "def bs(arr, target):\n",
    "    start = 0\n",
    "    end = len(arr)-1\n",
    "    \n",
    "    while start <= end:\n",
    "        mid = start + (end-start) // 2\n",
    "        \n",
    "        if arr[mid] == target:\n",
    "            return mid\n",
    "        elif arr[mid] > target:\n",
    "                end = mid -1\n",
    "        else:\n",
    "            start= mid+1\n",
    "            \n",
    "    return -1\n",
    "\n",
    "\n",
    "bs([3,4,5,6,7,8,99,122,345,667], 99)"
   ]
  },
  {
   "cell_type": "code",
   "execution_count": 3,
   "id": "41257ce3",
   "metadata": {},
   "outputs": [
    {
     "data": {
      "text/plain": [
       "5"
      ]
     },
     "execution_count": 3,
     "metadata": {},
     "output_type": "execute_result"
    }
   ],
   "source": [
    "# Binary Search Descending order\n",
    "def dbs(arr, target):\n",
    "    start = 0\n",
    "    end = len(arr)-1\n",
    "    \n",
    "    while start <= end:\n",
    "        mid = start + (end-start) // 2\n",
    "        \n",
    "        if arr[mid] == target:\n",
    "            return mid\n",
    "        \n",
    "        elif arr[mid] > target:\n",
    "                start = mid + 1\n",
    "        else:\n",
    "            end = mid - 1\n",
    "            \n",
    "    return -1\n",
    "\n",
    "\n",
    "dbs([9,8,7,6,5,4,3,2,1], 4)"
   ]
  },
  {
   "cell_type": "code",
   "execution_count": 21,
   "id": "a9e1b69b",
   "metadata": {},
   "outputs": [
    {
     "data": {
      "text/plain": [
       "2"
      ]
     },
     "execution_count": 21,
     "metadata": {},
     "output_type": "execute_result"
    }
   ],
   "source": [
    "#oder agnostic i.e we don't know if it is ascending or descending sorted\n",
    "# Binary Search Ascending Order\n",
    "def agno(arr, target):\n",
    "    start = 0\n",
    "    end = len(arr)-1\n",
    "    \n",
    "    \n",
    "    while start <= end:\n",
    "        mid = start + (end-start)//2\n",
    "        \n",
    "        if arr[mid] == target:\n",
    "            return mid\n",
    "\n",
    "        elif arr[0] > arr[len(arr)-1]:\n",
    "            if arr[mid] > target:\n",
    "                start = mid + 1\n",
    "            else:\n",
    "                end = mid - 1\n",
    "            \n",
    "        \n",
    "        else:\n",
    "    \n",
    "            if arr[mid] > target:\n",
    "                    end = mid -1\n",
    "            else:\n",
    "                start= mid+1\n",
    "    \n",
    "    return -1   \n",
    "\n",
    "\n",
    "agno([9,8,7,6,5,4,3,2,1], 7)\n",
    "#[3,4,5,6,7,8,99,122,345,667]"
   ]
  },
  {
   "cell_type": "code",
   "execution_count": null,
   "id": "81984fc5",
   "metadata": {},
   "outputs": [],
   "source": []
  },
  {
   "cell_type": "code",
   "execution_count": 36,
   "id": "b655de23",
   "metadata": {},
   "outputs": [
    {
     "data": {
      "text/plain": [
       "('ceiling and floor are ->', 122, 99)"
      ]
     },
     "execution_count": 36,
     "metadata": {},
     "output_type": "execute_result"
    }
   ],
   "source": [
    "# Binary Search Ascending Order\n",
    "def bs(arr, target):\n",
    "    start = 0\n",
    "    end = len(arr)-1\n",
    "    if target > arr[len(arr)-1] or target < arr[0]:\n",
    "        return -1\n",
    "    \n",
    "    \n",
    "    while start <= end:\n",
    "        mid = start + (end-start) // 2\n",
    "        \n",
    "        if arr[mid] == target:\n",
    "            return mid\n",
    "        elif arr[mid] > target:\n",
    "                end = mid -1\n",
    "        else:\n",
    "            start= mid+1\n",
    "            \n",
    "    return \"ceiling and floor are ->\" , arr[start] , arr[end]\n",
    "\n",
    "\n",
    "bs([-3,4,5,6,7,8,99,122,345,667], 100)"
   ]
  },
  {
   "cell_type": "code",
   "execution_count": null,
   "id": "56d86fe8",
   "metadata": {},
   "outputs": [],
   "source": []
  },
  {
   "cell_type": "code",
   "execution_count": null,
   "id": "506cc7e5",
   "metadata": {},
   "outputs": [],
   "source": []
  },
  {
   "cell_type": "code",
   "execution_count": 4,
   "id": "316ac283",
   "metadata": {},
   "outputs": [
    {
     "name": "stdout",
     "output_type": "stream",
     "text": [
      "10\n",
      "20\n"
     ]
    },
    {
     "data": {
      "text/plain": [
       "15"
      ]
     },
     "execution_count": 4,
     "metadata": {},
     "output_type": "execute_result"
    }
   ],
   "source": [
    "def infinite_bs(arr, target):\n",
    "            start = 0\n",
    "            end = 5\n",
    "\n",
    "            while start <= end:\n",
    "                if target > arr[end]:\n",
    "                    \n",
    "                    start = end\n",
    "                    end = end * 2 #+ (end - start + 1) * 2\n",
    "                    print(end)\n",
    "                else:\n",
    "                    \n",
    "                    mid = start + (end-start) // 2\n",
    "\n",
    "                    if arr[mid] < target:\n",
    "                        start = mid + 1\n",
    "                    \n",
    "                        #return mid\n",
    "                    elif arr[mid] > target:\n",
    "                        end = mid -1\n",
    "                    else:\n",
    "                        return mid\n",
    "            return mid\n",
    "        \n",
    "        \n",
    "infinite_bs([-3,4,5,6,7,8,99,122,345,667,900,1000,1000,1000,1000,1000,1000,1000,1000,1000,1000,1000,1000,1000,1000,1000,1000], 1000)"
   ]
  },
  {
   "cell_type": "code",
   "execution_count": 23,
   "id": "6c35b1fa",
   "metadata": {},
   "outputs": [],
   "source": []
  },
  {
   "cell_type": "code",
   "execution_count": 10,
   "id": "95296dc2",
   "metadata": {},
   "outputs": [
    {
     "name": "stdout",
     "output_type": "stream",
     "text": [
      "peak ->  3\n"
     ]
    },
    {
     "data": {
      "text/plain": [
       "1"
      ]
     },
     "execution_count": 10,
     "metadata": {},
     "output_type": "execute_result"
    }
   ],
   "source": [
    "def findInMountainArray( target, mountain_arr):\n",
    "        x = peak(mountain_arr)    \n",
    "        print(\"peak -> \", x)\n",
    "        l = lbs(target , mountain_arr, x)\n",
    "        \n",
    "        \n",
    "        \n",
    "        if l == -1:\n",
    "                  \n",
    "            r = rbs(target , mountain_arr, x)\n",
    "            print(\"right->\", r)\n",
    "        else:\n",
    "            return l\n",
    "            \n",
    "            \n",
    "        return -1\n",
    "    \n",
    "findInMountainArray(1 , [0,1,2,4,2,1])"
   ]
  },
  {
   "cell_type": "code",
   "execution_count": null,
   "id": "619ecbf9",
   "metadata": {},
   "outputs": [],
   "source": []
  },
  {
   "cell_type": "code",
   "execution_count": 15,
   "id": "03b3f0a0",
   "metadata": {},
   "outputs": [
    {
     "data": {
      "text/plain": [
       "4"
      ]
     },
     "execution_count": 15,
     "metadata": {},
     "output_type": "execute_result"
    }
   ],
   "source": [
    "        \n",
    "def peak( mountain_arr):\n",
    "        start = 0\n",
    "        end = len(mountain_arr) - 1\n",
    "        \n",
    "        \n",
    "        \n",
    "        while start <= end:\n",
    "            mid = start + ((end-start) //2 )\n",
    "            \n",
    "            if mid == end: \n",
    "                return end\n",
    "            \n",
    "            if mountain_arr[mid] < mountain_arr[mid + 1]:\n",
    "                start = mid + 1\n",
    "                \n",
    "            elif mountain_arr[mid]  < mountain_arr[mid -1]:\n",
    "                end = mid -1\n",
    "            \n",
    "            \n",
    "            else:\n",
    "                return mid\n",
    "            \n",
    "    \n",
    "    \n",
    "peak([1,2,3,4,5,3,2])\n"
   ]
  },
  {
   "cell_type": "code",
   "execution_count": null,
   "id": "197e0cb2",
   "metadata": {},
   "outputs": [],
   "source": []
  },
  {
   "cell_type": "code",
   "execution_count": 14,
   "id": "2b07338b",
   "metadata": {},
   "outputs": [
    {
     "data": {
      "text/plain": [
       "-1"
      ]
     },
     "execution_count": 14,
     "metadata": {},
     "output_type": "execute_result"
    }
   ],
   "source": [
    "def lbs( target, mountain_arr, x):\n",
    "        start = 0\n",
    "        end = x\n",
    "        \n",
    "        while start <= end:\n",
    "            mid = start + ((end-start) // 2)\n",
    "            if mountain_arr[mid] > target:\n",
    "                end = mid - 1\n",
    "            elif mountain_arr[mid] < target:\n",
    "                start = mid + 1\n",
    "                \n",
    "            else:\n",
    "                return mid\n",
    "        return -1\n",
    "    \n",
    "    \n",
    "lbs( 4 , [0,1,2,4,2,1], 1)"
   ]
  },
  {
   "cell_type": "code",
   "execution_count": null,
   "id": "3e40d761",
   "metadata": {},
   "outputs": [],
   "source": []
  },
  {
   "cell_type": "code",
   "execution_count": null,
   "id": "e13d8469",
   "metadata": {},
   "outputs": [],
   "source": []
  },
  {
   "cell_type": "code",
   "execution_count": null,
   "id": "68623b11",
   "metadata": {},
   "outputs": [],
   "source": [
    "def rbs( target, mountain_arr, x):\n",
    "        start = x + 1\n",
    "        end = len(mountain_arr) - 1\n",
    "        \n",
    "        while start <= end:\n",
    "            mid = start + ((end-start) // 2)\n",
    "            if mountain_arr[mid] > target:\n",
    "                start = mid + 1\n",
    "            elif mountain_arr[mid] < target:\n",
    "                end = mid - 1\n",
    "                \n",
    "            else:\n",
    "                return mid\n",
    "        return -1\n",
    "    "
   ]
  },
  {
   "cell_type": "code",
   "execution_count": null,
   "id": "78caaeb9",
   "metadata": {},
   "outputs": [],
   "source": []
  },
  {
   "cell_type": "code",
   "execution_count": null,
   "id": "3b522229",
   "metadata": {},
   "outputs": [],
   "source": []
  },
  {
   "cell_type": "code",
   "execution_count": null,
   "id": "8f76704e",
   "metadata": {},
   "outputs": [],
   "source": []
  },
  {
   "cell_type": "code",
   "execution_count": null,
   "id": "ecdba069",
   "metadata": {},
   "outputs": [],
   "source": []
  },
  {
   "cell_type": "code",
   "execution_count": null,
   "id": "2477219d",
   "metadata": {},
   "outputs": [],
   "source": []
  },
  {
   "cell_type": "code",
   "execution_count": null,
   "id": "84ac1500",
   "metadata": {},
   "outputs": [],
   "source": []
  },
  {
   "cell_type": "code",
   "execution_count": null,
   "id": "da1bfcbe",
   "metadata": {},
   "outputs": [],
   "source": []
  }
 ],
 "metadata": {
  "kernelspec": {
   "display_name": "Python 3",
   "language": "python",
   "name": "python3"
  },
  "language_info": {
   "codemirror_mode": {
    "name": "ipython",
    "version": 3
   },
   "file_extension": ".py",
   "mimetype": "text/x-python",
   "name": "python",
   "nbconvert_exporter": "python",
   "pygments_lexer": "ipython3",
   "version": "3.8.10"
  }
 },
 "nbformat": 4,
 "nbformat_minor": 5
}
