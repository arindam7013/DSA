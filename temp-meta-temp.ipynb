{
 "cells": [
  {
   "cell_type": "code",
   "execution_count": null,
   "id": "bd8b8b11",
   "metadata": {},
   "outputs": [],
   "source": []
  },
  {
   "cell_type": "code",
   "execution_count": null,
   "id": "ac9786d5",
   "metadata": {},
   "outputs": [],
   "source": [
    "#Given a two dimensional list, for example [ [2,3],[3,4],[5]] person 2 \n",
    "#is friends with 3 etc, \n",
    "#find how many friends each person has. Note, one person has no friends"
   ]
  },
  {
   "cell_type": "code",
   "execution_count": 19,
   "id": "13a3f347",
   "metadata": {},
   "outputs": [
    {
     "name": "stdout",
     "output_type": "stream",
     "text": [
      "3\n",
      "4\n",
      "0\n"
     ]
    },
    {
     "data": {
      "text/plain": [
       "7"
      ]
     },
     "execution_count": 19,
     "metadata": {},
     "output_type": "execute_result"
    }
   ],
   "source": [
    "def friends(arr):\n",
    "    n = len(arr)\n",
    "    m = 2\n",
    "    sum = 0\n",
    "    for i in range(n):\n",
    "        \n",
    "        if len(arr[i]) == 1:\n",
    "            \n",
    "            print(0)\n",
    "            #arr[i][1] = 0 #.append(0)\n",
    "            sum += 0\n",
    "             #continue\n",
    "            \n",
    "        else:\n",
    "            sum += arr[i][1]\n",
    "            print(arr[i][1])\n",
    "            \n",
    "        #print( arr ) #  arr , arr[i])\n",
    "            \n",
    "        \n",
    "            \n",
    "        \n",
    "            \n",
    "    return sum\n",
    "        \n",
    "    \n",
    "    \n",
    "    \n",
    "    \n",
    "    \n",
    "arr = [[2,3],[3,4],[5]]\n",
    "friends(arr)"
   ]
  },
  {
   "cell_type": "code",
   "execution_count": null,
   "id": "5c3bffbe",
   "metadata": {},
   "outputs": [],
   "source": []
  },
  {
   "cell_type": "code",
   "execution_count": 1,
   "id": "6e66ff71",
   "metadata": {},
   "outputs": [],
   "source": [
    "#Can you do the following without using subquery?: {1,None,1,2,None} --> [1,1,1,2,2] \n",
    "#Ensure you take care of case input[None] which means None object"
   ]
  },
  {
   "cell_type": "code",
   "execution_count": 22,
   "id": "d41bf054",
   "metadata": {},
   "outputs": [
    {
     "data": {
      "text/plain": [
       "[1, 1, 1, 2, 2]"
      ]
     },
     "execution_count": 22,
     "metadata": {},
     "output_type": "execute_result"
    }
   ],
   "source": [
    "def nonne(arr):\n",
    "    \n",
    "    for i in range(len(arr)):\n",
    "        \n",
    "        if arr[i] == None:\n",
    "            arr[i] = arr[i-1]\n",
    "            \n",
    "            \n",
    "    return arr\n",
    "        #print(arr[i])\n",
    "    \n",
    "    \n",
    "nonne([1, None , 1 , 2 , None])\n",
    "    "
   ]
  },
  {
   "cell_type": "code",
   "execution_count": null,
   "id": "494df1c9",
   "metadata": {},
   "outputs": [],
   "source": []
  },
  {
   "cell_type": "code",
   "execution_count": null,
   "id": "96858fa7",
   "metadata": {},
   "outputs": [],
   "source": []
  },
  {
   "cell_type": "code",
   "execution_count": null,
   "id": "29c0b0cc",
   "metadata": {},
   "outputs": [],
   "source": [
    "#Complete a function that returns a list containing all the mismatched words (case sensitive) \n",
    "#between two given input strings # For example: # - string 1 : \"Firstly this is the first string\" # -\n",
    "#string 2 : \"Next is the second string\" # # - output : ['Firstly', 'this', 'first', 'Next', 'second']"
   ]
  },
  {
   "cell_type": "code",
   "execution_count": null,
   "id": "ff116117",
   "metadata": {},
   "outputs": [],
   "source": []
  },
  {
   "cell_type": "code",
   "execution_count": 27,
   "id": "c69edec8",
   "metadata": {},
   "outputs": [
    {
     "data": {
      "text/plain": [
       "['Firstly', 'this', 'first', 'Next', 'second']"
      ]
     },
     "execution_count": 27,
     "metadata": {},
     "output_type": "execute_result"
    }
   ],
   "source": [
    "def mismatched(st1 , st2):\n",
    "    \n",
    "    str1 = st1.split(\" \")\n",
    "    str2 = st2.split(\" \")\n",
    "    temp = []\n",
    "    \n",
    "    for i in str1:\n",
    "        if i not in str2:\n",
    "            temp.append(i)\n",
    "            \n",
    "            \n",
    "    for i in str2:\n",
    "        if i not in str1:\n",
    "            temp.append(i)\n",
    "            \n",
    "            \n",
    "    return temp\n",
    "        \n",
    "    \n",
    "    \n",
    "    \n",
    "    \n",
    "    \n",
    "    \n",
    "    \n",
    "mismatched('Firstly this is the first string' , 'Next is the second string')"
   ]
  },
  {
   "cell_type": "code",
   "execution_count": null,
   "id": "54a713f4",
   "metadata": {},
   "outputs": [],
   "source": []
  },
  {
   "cell_type": "code",
   "execution_count": null,
   "id": "1f8922e8",
   "metadata": {},
   "outputs": [],
   "source": [
    "#Complete a function that returns the number of times a given character occurs in the given string.\n",
    "# For example:\n",
    "# - input string = \"mississippi\"\n",
    "# - char = \"s\"\n",
    "#\n",
    "# - output : 4"
   ]
  },
  {
   "cell_type": "code",
   "execution_count": null,
   "id": "6fd96e13",
   "metadata": {},
   "outputs": [],
   "source": []
  },
  {
   "cell_type": "code",
   "execution_count": 28,
   "id": "edfe5031",
   "metadata": {},
   "outputs": [
    {
     "data": {
      "text/plain": [
       "4"
      ]
     },
     "execution_count": 28,
     "metadata": {},
     "output_type": "execute_result"
    }
   ],
   "source": [
    "def count(st1 , s):\n",
    "    \n",
    "    count = 0\n",
    "    \n",
    "    for i in st1:\n",
    "        if i == s:\n",
    "            count += 1\n",
    "            \n",
    "    return count\n",
    "\n",
    "count(\"mississippi\" , \"s\")"
   ]
  },
  {
   "cell_type": "code",
   "execution_count": null,
   "id": "ed6a740c",
   "metadata": {},
   "outputs": [],
   "source": []
  },
  {
   "cell_type": "code",
   "execution_count": null,
   "id": "78e93eee",
   "metadata": {},
   "outputs": [],
   "source": [
    "#Given an array containing None values fill in the None values with most recent non None value in the array. \n",
    "#For example:input array: [1,None,2,3,None,None,5,None] # - output array: [1,1,2,3,3,3,5,5]"
   ]
  },
  {
   "cell_type": "code",
   "execution_count": null,
   "id": "e4bd6d92",
   "metadata": {},
   "outputs": [],
   "source": []
  },
  {
   "cell_type": "code",
   "execution_count": 31,
   "id": "6725edd7",
   "metadata": {},
   "outputs": [
    {
     "data": {
      "text/plain": [
       "[1, 1, 2, 3, 3, 3, 5, 5]"
      ]
     },
     "execution_count": 31,
     "metadata": {},
     "output_type": "execute_result"
    }
   ],
   "source": [
    "def non(arr):\n",
    "    if arr[0] == None:\n",
    "        arr[0] = 1\n",
    "    for i in range(len(arr)):\n",
    "        if arr[i] == None:\n",
    "            arr[i] = arr[i-1]\n",
    "            \n",
    "    return arr\n",
    "\n",
    "non([1,None,2,3,None,None,5,None])"
   ]
  },
  {
   "cell_type": "code",
   "execution_count": null,
   "id": "648a91da",
   "metadata": {},
   "outputs": [],
   "source": []
  },
  {
   "cell_type": "code",
   "execution_count": null,
   "id": "c64067da",
   "metadata": {},
   "outputs": [],
   "source": [
    "#Given an array of integers, we would like to determine whether the array is monotonic \n",
    "#(non-decreasing/non-increasing) or not. Examples:\n",
    "# // 1 2 5 5 8 \n",
    "#// true \n",
    "#// 9 4 4 2 2 \n",
    "#// true \n",
    "#// 1 4 6 3 \n",
    "#// false  \n",
    "#//1 1 1 1 1 1\n",
    "#// true"
   ]
  },
  {
   "cell_type": "code",
   "execution_count": 36,
   "id": "8c6cbb1c",
   "metadata": {},
   "outputs": [
    {
     "data": {
      "text/plain": [
       "False"
      ]
     },
     "execution_count": 36,
     "metadata": {},
     "output_type": "execute_result"
    }
   ],
   "source": [
    "def mono(arr):\n",
    "    n = len(arr)\n",
    "    \n",
    "    if arr[0] <= arr[n-1]:\n",
    "        \n",
    "    # increasing\n",
    "        for i in range(len(arr)-1):\n",
    "            if arr[i] > arr[i+1]:\n",
    "            \n",
    "                return False\n",
    "        \n",
    "    else:\n",
    "        \n",
    "    # decreasing\n",
    "    \n",
    "        for i in range(len(arr)-1):\n",
    "            if arr[i] < arr[i+1]:\n",
    "                return False\n",
    "            \n",
    "            \n",
    "    return True\n",
    "    \n",
    "mono([1,4,6,3])"
   ]
  },
  {
   "cell_type": "code",
   "execution_count": null,
   "id": "05d803dc",
   "metadata": {},
   "outputs": [],
   "source": []
  },
  {
   "cell_type": "code",
   "execution_count": null,
   "id": "fd64e6c4",
   "metadata": {},
   "outputs": [],
   "source": []
  },
  {
   "cell_type": "code",
   "execution_count": null,
   "id": "798791d9",
   "metadata": {},
   "outputs": [],
   "source": [
    "#Given two sentences, construct an array that has the words that appear in one sentence and not the other"
   ]
  },
  {
   "cell_type": "code",
   "execution_count": 38,
   "id": "f35d4d1c",
   "metadata": {},
   "outputs": [
    {
     "data": {
      "text/plain": [
       "['Firstly', 'this', 'first', 'Next', 'second']"
      ]
     },
     "execution_count": 38,
     "metadata": {},
     "output_type": "execute_result"
    }
   ],
   "source": [
    "def mismatched(st1 , st2):\n",
    "    \n",
    "    str1 = st1.split(\" \")\n",
    "    str2 = st2.split(\" \")\n",
    "    temp = []\n",
    "    \n",
    "    for i in str1:\n",
    "        if i not in str2:\n",
    "            temp.append(i)\n",
    "            \n",
    "            \n",
    "    for i in str2:\n",
    "        if i not in str1:\n",
    "            temp.append(i)\n",
    "            \n",
    "            \n",
    "    return temp\n",
    "\n",
    "\n",
    "\n",
    "mismatched('Firstly this is the first string' , 'Next is the second string')"
   ]
  },
  {
   "cell_type": "code",
   "execution_count": null,
   "id": "fa656fd5",
   "metadata": {},
   "outputs": [],
   "source": []
  },
  {
   "cell_type": "code",
   "execution_count": null,
   "id": "cca5e7b1",
   "metadata": {},
   "outputs": [],
   "source": [
    "#Given an ip address as an input string, validate it and return True/False"
   ]
  },
  {
   "cell_type": "code",
   "execution_count": 9,
   "id": "adfa6e61",
   "metadata": {},
   "outputs": [
    {
     "name": "stdout",
     "output_type": "stream",
     "text": [
      "['192', '0', '0', '78']\n"
     ]
    },
    {
     "data": {
      "text/plain": [
       "True"
      ]
     },
     "execution_count": 9,
     "metadata": {},
     "output_type": "execute_result"
    }
   ],
   "source": [
    "def validate_ip(s):\n",
    "    a = s.split('.')\n",
    "    print(a)\n",
    "    if len(a) != 4:\n",
    "        return False\n",
    "    for x in a:\n",
    "        if not x.isdigit():\n",
    "            return False\n",
    "        i = int(x)\n",
    "        if i < 0 or i > 255:\n",
    "            return False\n",
    "    return True\n",
    "\n",
    "\n",
    "validate_ip('192.0.0.78')"
   ]
  },
  {
   "cell_type": "code",
   "execution_count": null,
   "id": "c11155b0",
   "metadata": {},
   "outputs": [],
   "source": []
  },
  {
   "cell_type": "code",
   "execution_count": null,
   "id": "58c84fbb",
   "metadata": {},
   "outputs": [],
   "source": [
    "#Given a dictionary, print the key for nth highest value present in the dict. \n",
    "#If there are more than 1 record present for nth highest value then sort the key and print the first one"
   ]
  },
  {
   "cell_type": "code",
   "execution_count": null,
   "id": "e5218918",
   "metadata": {},
   "outputs": [],
   "source": [
    "import heapq\n",
    "\n",
    "H = [21,1,45,78,3,5]\n",
    "\n",
    "\n",
    "heapq.heappush(H,8)\n",
    "print(H)\n",
    "\n",
    "\n",
    "heapq.heapify(H)\n",
    "print(H)\n",
    "\n",
    "\n",
    "heapq.heappop(H)\n",
    "print('->',H)\n",
    "\n",
    "\n",
    "\n",
    "#The heap replace function always removes the smallest element of the heap \n",
    "#and inserts the new incoming element at some place not fixed by any order.\n",
    "heapq.heapreplace(H,6)\n",
    "print(H)\n",
    "\n",
    "\n",
    "\n",
    "heapq._heapify_max(H)\n",
    "print(H)"
   ]
  },
  {
   "cell_type": "code",
   "execution_count": 65,
   "id": "5924c5b4",
   "metadata": {},
   "outputs": [
    {
     "name": "stdout",
     "output_type": "stream",
     "text": [
      "[3, 5, 9, 66, 89, 89]\n"
     ]
    },
    {
     "data": {
      "text/plain": [
       "[89, 89]"
      ]
     },
     "execution_count": 65,
     "metadata": {},
     "output_type": "execute_result"
    }
   ],
   "source": [
    "\n",
    "def nth(dic , k):\n",
    "    temp = []\n",
    "    \n",
    "    for i in dic:\n",
    "        temp.append(dic[i])\n",
    "    \n",
    "    \n",
    "        \n",
    "        \n",
    "    temp.sort()\n",
    "    print(temp)\n",
    "    fin = []\n",
    "    \n",
    "    for i in range(k , len(temp)):\n",
    "        \n",
    "        fin.append(temp[i])\n",
    "        \n",
    "    return fin\n",
    "\n",
    "\n",
    "\n",
    "\n",
    "dic = {\n",
    "    1: 5,\n",
    "    4: 9, \n",
    "    2: 3, \n",
    "    9: 89, \n",
    "    3: 66,\n",
    "    6: 89\n",
    "}\n",
    "nth(dic , 4)\n",
    "        \n",
    "    \n",
    "    \n",
    "    "
   ]
  },
  {
   "cell_type": "code",
   "execution_count": null,
   "id": "d8d9e099",
   "metadata": {},
   "outputs": [],
   "source": []
  },
  {
   "cell_type": "code",
   "execution_count": null,
   "id": "ecf8fd25",
   "metadata": {},
   "outputs": [],
   "source": []
  },
  {
   "cell_type": "code",
   "execution_count": null,
   "id": "88b1274e",
   "metadata": {},
   "outputs": [],
   "source": [
    "#You have a 2-D array of friends like [[A,B],[A,C],[B,D],[B,C],[R,M], [S],[P], [A]].\n",
    "#Write a function that creates a dictionary of how many friends each person has. People can have 0 to many friends. \n",
    "#However, there won't be repeat relationships like\n",
    "#[A,B] and [B,A] and neither will there be more than 2 people in a relationship"
   ]
  },
  {
   "cell_type": "code",
   "execution_count": 69,
   "id": "4f3120f1",
   "metadata": {},
   "outputs": [
    {
     "name": "stdout",
     "output_type": "stream",
     "text": [
      "{1: 0, 2: 0, 18: 0, 19: 0, 16: 0}\n"
     ]
    },
    {
     "data": {
      "text/plain": [
       "{1: 2, 2: 2, 18: 1, 19: 0, 16: 0}"
      ]
     },
     "execution_count": 69,
     "metadata": {},
     "output_type": "execute_result"
    }
   ],
   "source": [
    "def friends(arr):\n",
    "    memo = {}\n",
    "    \n",
    "    for i in range(len(arr)):\n",
    "        \n",
    "            memo[arr[i][0]] = 0\n",
    "    print(memo)\n",
    "    for i in range(len(arr)):\n",
    "        if len(arr[i]) == 2:\n",
    "            memo[arr[i][0]] += 1\n",
    "            \n",
    "    return memo\n",
    "\n",
    "friends([[1,2],[1,3],[2,4],[2,3],[18,13], [19],[16], [1]])\n",
    "            "
   ]
  },
  {
   "cell_type": "code",
   "execution_count": null,
   "id": "673ce69b",
   "metadata": {},
   "outputs": [],
   "source": []
  },
  {
   "cell_type": "code",
   "execution_count": null,
   "id": "356e5ee2",
   "metadata": {},
   "outputs": [],
   "source": []
  },
  {
   "cell_type": "code",
   "execution_count": null,
   "id": "8c0e3d73",
   "metadata": {},
   "outputs": [],
   "source": []
  },
  {
   "cell_type": "code",
   "execution_count": 44,
   "id": "d4a72172",
   "metadata": {},
   "outputs": [],
   "source": [
    "dic = {\n",
    "    \n",
    "    1: 5,\n",
    "    4: 9, \n",
    "    2: 3, \n",
    "    9: 89, \n",
    "    3: 66\n",
    "}"
   ]
  },
  {
   "cell_type": "code",
   "execution_count": 45,
   "id": "316cc8b4",
   "metadata": {},
   "outputs": [
    {
     "data": {
      "text/plain": [
       "dict_values([5, 9, 3, 89, 66])"
      ]
     },
     "execution_count": 45,
     "metadata": {},
     "output_type": "execute_result"
    }
   ],
   "source": [
    "dic.values()"
   ]
  },
  {
   "cell_type": "code",
   "execution_count": 52,
   "id": "dae55fa1",
   "metadata": {},
   "outputs": [
    {
     "name": "stdout",
     "output_type": "stream",
     "text": [
      "1\n",
      "4\n",
      "2\n",
      "9\n",
      "3\n"
     ]
    }
   ],
   "source": [
    "for i in dic:\n",
    "    print(i)"
   ]
  },
  {
   "cell_type": "code",
   "execution_count": 1,
   "id": "461830d9",
   "metadata": {},
   "outputs": [],
   "source": [
    "st = 'Firstly this is the first string'"
   ]
  },
  {
   "cell_type": "code",
   "execution_count": 4,
   "id": "25dcfcf5",
   "metadata": {},
   "outputs": [],
   "source": [
    "a = st.split(\" \")"
   ]
  },
  {
   "cell_type": "code",
   "execution_count": 6,
   "id": "2581bf10",
   "metadata": {},
   "outputs": [
    {
     "data": {
      "text/plain": [
       "'Firstly'"
      ]
     },
     "execution_count": 6,
     "metadata": {},
     "output_type": "execute_result"
    }
   ],
   "source": [
    "a[0]"
   ]
  },
  {
   "cell_type": "code",
   "execution_count": 7,
   "id": "588f8ba0",
   "metadata": {},
   "outputs": [
    {
     "data": {
      "text/plain": [
       "''"
      ]
     },
     "execution_count": 7,
     "metadata": {},
     "output_type": "execute_result"
    }
   ],
   "source": [
    "def gap(a , b):\n",
    "    return abs(ord(a) - ord(b))\n",
    "\n",
    "    \n",
    "def longestKInterspaceSubstring(word, k):\n",
    "    temp , max = \"\" , \"\"\n",
    "    \n",
    "    for i in range(len(word) - 1):\n",
    "        temp += word[i]\n",
    "        \n",
    "        if gap(word[i] , word[i+1]) > k:\n",
    "            max = max if len(max) > len(temp) else temp\n",
    "            temp = ''\n",
    "            \n",
    "    return max\n",
    "    #print((max))\n",
    "    \n",
    "word = 'abcdef'\n",
    "k = 1\n",
    "longestKInterspaceSubstring(word, k)"
   ]
  },
  {
   "cell_type": "code",
   "execution_count": null,
   "id": "3af34c4e",
   "metadata": {},
   "outputs": [],
   "source": []
  },
  {
   "cell_type": "code",
   "execution_count": null,
   "id": "1bfa0b1b",
   "metadata": {},
   "outputs": [],
   "source": []
  },
  {
   "cell_type": "code",
   "execution_count": 12,
   "id": "0190dcb8",
   "metadata": {},
   "outputs": [],
   "source": [
    "l = [1,2,5.6, True, 'mk']"
   ]
  },
  {
   "cell_type": "code",
   "execution_count": 16,
   "id": "1e5a7f0f",
   "metadata": {},
   "outputs": [
    {
     "data": {
      "text/plain": [
       "bool"
      ]
     },
     "execution_count": 16,
     "metadata": {},
     "output_type": "execute_result"
    }
   ],
   "source": [
    "type(l[3\n",
    "      ])"
   ]
  },
  {
   "cell_type": "code",
   "execution_count": null,
   "id": "f03f6713",
   "metadata": {},
   "outputs": [],
   "source": []
  },
  {
   "cell_type": "code",
   "execution_count": null,
   "id": "ca92c1a0",
   "metadata": {},
   "outputs": [],
   "source": []
  },
  {
   "cell_type": "code",
   "execution_count": 21,
   "id": "e2f2c7cf",
   "metadata": {},
   "outputs": [
    {
     "data": {
      "text/plain": [
       "[]"
      ]
     },
     "execution_count": 21,
     "metadata": {},
     "output_type": "execute_result"
    }
   ],
   "source": [
    "def hackerCards(collection, d):\n",
    "    \n",
    "    temp = []\n",
    "    s = 0\n",
    "    e = 0\n",
    "    \n",
    "    for i in range(len(collection)):\n",
    "        if i == 0:\n",
    "            s = 1\n",
    "            \n",
    "        else:\n",
    "            s = collection[i-1] + 1\n",
    "            \n",
    "        \n",
    "        if i != len(collection):\n",
    "            e = collection[i]\n",
    "        else:\n",
    "            e = float('inf')\n",
    "            \n",
    "            \n",
    "        if d < s:\n",
    "            break\n",
    "        \n",
    "            \n",
    "        for j in range(s , e):\n",
    "            if j <= d:\n",
    "                temp.append(j)\n",
    "                d -= j \n",
    "                \n",
    "            else:\n",
    "                break \n",
    "            \n",
    "    return temp\n",
    "    '''\n",
    "    rs = 0 \n",
    "    final = []\n",
    "    for i in temp:\n",
    "        \n",
    "        \n",
    "            \n",
    "        if rs < d:\n",
    "            rs = rs + i\n",
    "            final.append(i)\n",
    "                \n",
    "        \n",
    "    return rs , final\n",
    "    '''\n",
    "\n",
    "collection = [1,2,3,4]\n",
    "d = 5\n",
    "hackerCards(collection, d)"
   ]
  },
  {
   "cell_type": "code",
   "execution_count": null,
   "id": "aba2e378",
   "metadata": {},
   "outputs": [],
   "source": []
  },
  {
   "cell_type": "code",
   "execution_count": null,
   "id": "41a888c8",
   "metadata": {},
   "outputs": [],
   "source": []
  },
  {
   "cell_type": "code",
   "execution_count": null,
   "id": "1e4a63ee",
   "metadata": {},
   "outputs": [],
   "source": []
  },
  {
   "cell_type": "code",
   "execution_count": 6,
   "id": "7b7bd0f3",
   "metadata": {},
   "outputs": [],
   "source": [
    "dic = {\n",
    "    \n",
    "    1: 5,\n",
    "    4: 9, \n",
    "    2: 3, \n",
    "\n",
    "    9: 89, \n",
    "    3: 66\n",
    "}"
   ]
  },
  {
   "cell_type": "code",
   "execution_count": 9,
   "id": "d36adaf3",
   "metadata": {},
   "outputs": [
    {
     "data": {
      "text/plain": [
       "89"
      ]
     },
     "execution_count": 9,
     "metadata": {},
     "output_type": "execute_result"
    }
   ],
   "source": [
    "max(dic.values())"
   ]
  },
  {
   "cell_type": "code",
   "execution_count": null,
   "id": "e3710378",
   "metadata": {},
   "outputs": [],
   "source": []
  },
  {
   "cell_type": "code",
   "execution_count": null,
   "id": "f693ab06",
   "metadata": {},
   "outputs": [],
   "source": [
    "arr.sort(reversed)"
   ]
  },
  {
   "cell_type": "code",
   "execution_count": null,
   "id": "95567741",
   "metadata": {},
   "outputs": [],
   "source": []
  },
  {
   "cell_type": "code",
   "execution_count": null,
   "id": "80d6e6ea",
   "metadata": {},
   "outputs": [],
   "source": []
  }
 ],
 "metadata": {
  "kernelspec": {
   "display_name": "Python 3",
   "language": "python",
   "name": "python3"
  },
  "language_info": {
   "codemirror_mode": {
    "name": "ipython",
    "version": 3
   },
   "file_extension": ".py",
   "mimetype": "text/x-python",
   "name": "python",
   "nbconvert_exporter": "python",
   "pygments_lexer": "ipython3",
   "version": "3.8.10"
  }
 },
 "nbformat": 4,
 "nbformat_minor": 5
}
