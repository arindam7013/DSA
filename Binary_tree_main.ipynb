{
 "cells": [
  {
   "cell_type": "code",
   "execution_count": 41,
   "id": "4d650693",
   "metadata": {},
   "outputs": [],
   "source": [
    "from collections import deque\n",
    "class Binarytree:\n",
    "    def __init__(self, data):\n",
    "        self.data = data\n",
    "        self.leftchild = None\n",
    "        self.rightchild = None\n",
    "        \n",
    "        \n",
    "\n",
    "        \n",
    "        \n",
    "        \n",
    "    def post_traverse(self, rootnode):\n",
    "        self.rootnode = rootnode \n",
    "        if rootnode == None:\n",
    "            return\n",
    "        \n",
    "        self.post_traverse(rootnode.leftchild)\n",
    "        \n",
    "        self.post_traverse(rootnode.rightchild)\n",
    "        print(rootnode.data)\n",
    "        \n",
    "        \n",
    "    def level_order(self,root):\n",
    "        self.root = root\n",
    "        if root == None:\n",
    "            return\n",
    "        q = deque()\n",
    "        q.append(root)\n",
    "        \n",
    "        while len(q) != 0:\n",
    "            p = q.popleft()\n",
    "            print(\"we popped ->\", p.data)\n",
    "            \n",
    "            if p.leftchild is not None:\n",
    "                q.append(p.leftchild)\n",
    "                \n",
    "            if p.rightchild is not None:\n",
    "                q.append(p.rightchild)\n",
    "                \n",
    "                \n",
    "                \n",
    "    def right(self,root):\n",
    "        self.root = root\n",
    "        if root == None:\n",
    "            return\n",
    "        level = 0\n",
    "        q = [root, None]\n",
    "        \n",
    "        \n",
    "        while len(q) != 0:\n",
    "            \n",
    "            p = q.pop(0)\n",
    "            \n",
    "            \n",
    "            \n",
    "            if p ==  None:\n",
    "                q.append(None)\n",
    "                level = level + 1\n",
    "                print(\"We at level->\", level)\n",
    "                break\n",
    "            \n",
    "            else:\n",
    "                temp = p\n",
    "                if temp is not None:\n",
    "                    if temp.leftchild is not None:\n",
    "                        q.append(temp.leftchild)\n",
    "                \n",
    "                    if p.rightchild is not None:\n",
    "                        q.append(temp.rightchild)\n",
    "                \n",
    "                \n",
    "     \n",
    "    def level_order_c(self, root):\n",
    "            q = [root, None]\n",
    "            level = 0\n",
    "            sum = 0\n",
    "            while len(q) != 0:\n",
    "                p = q.pop(0)\n",
    "                #print(p.data)\n",
    "                \n",
    "                if p == None:\n",
    "                    level = level + 1\n",
    "                    q.append(None)\n",
    "                    continue\n",
    "                    \n",
    "                else:\n",
    "                    \n",
    "                    if p.leftchild is not None:\n",
    "                        q.append(p.leftchild)\n",
    "                    \n",
    "                    if p.rightchild is not None:\n",
    "                        q.append(p.rightchild)    \n",
    "        \n",
    "            return sum                \n",
    "                "
   ]
  },
  {
   "cell_type": "code",
   "execution_count": 42,
   "id": "8a4466e1",
   "metadata": {},
   "outputs": [
    {
     "data": {
      "text/plain": [
       "'\\nd.leftchild = h\\nh.leftchild = i\\ni.leftchild = j\\nj.leftchild = k\\n\\n'"
      ]
     },
     "execution_count": 42,
     "metadata": {},
     "output_type": "execute_result"
    }
   ],
   "source": [
    "a = Binarytree(1)\n",
    "b = Binarytree(2)\n",
    "c = Binarytree(3)\n",
    "d = Binarytree(4)\n",
    "e = Binarytree(5)\n",
    "f = Binarytree(6)\n",
    "g = Binarytree(7)\n",
    "'''\n",
    "h = Binarytree(8)\n",
    "i = Binarytree(9)\n",
    "j = Binarytree(10)\n",
    "k = Binarytree(11)\n",
    "'''\n",
    "\n",
    "\n",
    "\n",
    "\n",
    "\n",
    "a.leftchild = b\n",
    "a.rightchild = c\n",
    "\n",
    "b.leftchild = d\n",
    "b.rightchild = e\n",
    "\n",
    "c.leftchild = f\n",
    "c.rightchild = g\n",
    "'''\n",
    "d.leftchild = h\n",
    "h.leftchild = i\n",
    "i.leftchild = j\n",
    "j.leftchild = k\n",
    "\n",
    "'''\n"
   ]
  },
  {
   "cell_type": "code",
   "execution_count": 43,
   "id": "0ad06fd4",
   "metadata": {},
   "outputs": [
    {
     "ename": "KeyboardInterrupt",
     "evalue": "",
     "output_type": "error",
     "traceback": [
      "\u001b[1;31m---------------------------------------------------------------------------\u001b[0m",
      "\u001b[1;31mKeyboardInterrupt\u001b[0m                         Traceback (most recent call last)",
      "\u001b[1;32m<ipython-input-43-257694507b4f>\u001b[0m in \u001b[0;36m<module>\u001b[1;34m\u001b[0m\n\u001b[1;32m----> 1\u001b[1;33m \u001b[0ma\u001b[0m\u001b[1;33m.\u001b[0m\u001b[0mlevel_order_c\u001b[0m\u001b[1;33m(\u001b[0m\u001b[0ma\u001b[0m\u001b[1;33m)\u001b[0m\u001b[1;33m\u001b[0m\u001b[1;33m\u001b[0m\u001b[0m\n\u001b[0m",
      "\u001b[1;32m<ipython-input-41-3606dd7eb9ec>\u001b[0m in \u001b[0;36mlevel_order_c\u001b[1;34m(self, root)\u001b[0m\n\u001b[0;32m     83\u001b[0m                     \u001b[0mlevel\u001b[0m \u001b[1;33m=\u001b[0m \u001b[0mlevel\u001b[0m \u001b[1;33m+\u001b[0m \u001b[1;36m1\u001b[0m\u001b[1;33m\u001b[0m\u001b[1;33m\u001b[0m\u001b[0m\n\u001b[0;32m     84\u001b[0m                     \u001b[0mq\u001b[0m\u001b[1;33m.\u001b[0m\u001b[0mappend\u001b[0m\u001b[1;33m(\u001b[0m\u001b[1;32mNone\u001b[0m\u001b[1;33m)\u001b[0m\u001b[1;33m\u001b[0m\u001b[1;33m\u001b[0m\u001b[0m\n\u001b[1;32m---> 85\u001b[1;33m                     \u001b[1;32mcontinue\u001b[0m\u001b[1;33m\u001b[0m\u001b[1;33m\u001b[0m\u001b[0m\n\u001b[0m\u001b[0;32m     86\u001b[0m \u001b[1;33m\u001b[0m\u001b[0m\n\u001b[0;32m     87\u001b[0m                 \u001b[1;32melse\u001b[0m\u001b[1;33m:\u001b[0m\u001b[1;33m\u001b[0m\u001b[1;33m\u001b[0m\u001b[0m\n",
      "\u001b[1;31mKeyboardInterrupt\u001b[0m: "
     ]
    }
   ],
   "source": [
    "a.level_order_c(a)"
   ]
  },
  {
   "cell_type": "code",
   "execution_count": null,
   "id": "74204518",
   "metadata": {},
   "outputs": [],
   "source": []
  },
  {
   "cell_type": "code",
   "execution_count": null,
   "id": "32dfc502",
   "metadata": {},
   "outputs": [],
   "source": []
  },
  {
   "cell_type": "code",
   "execution_count": null,
   "id": "e3029627",
   "metadata": {},
   "outputs": [],
   "source": []
  },
  {
   "cell_type": "code",
   "execution_count": 614,
   "id": "0f94f02b",
   "metadata": {},
   "outputs": [
    {
     "data": {
      "text/plain": [
       "False"
      ]
     },
     "execution_count": 614,
     "metadata": {},
     "output_type": "execute_result"
    }
   ],
   "source": [
    "a.balance(a)"
   ]
  },
  {
   "cell_type": "code",
   "execution_count": 620,
   "id": "42511a12",
   "metadata": {},
   "outputs": [],
   "source": [
    "dc= deque()\n",
    "dc = [9,8,7,6]\n",
    "dc.append(5)"
   ]
  },
  {
   "cell_type": "code",
   "execution_count": 621,
   "id": "3a98fbd1",
   "metadata": {},
   "outputs": [
    {
     "data": {
      "text/plain": [
       "[9, 8, 7, 6, 5]"
      ]
     },
     "execution_count": 621,
     "metadata": {},
     "output_type": "execute_result"
    }
   ],
   "source": [
    "dc"
   ]
  },
  {
   "cell_type": "code",
   "execution_count": 622,
   "id": "c18e77b2",
   "metadata": {},
   "outputs": [
    {
     "data": {
      "text/plain": [
       "5"
      ]
     },
     "execution_count": 622,
     "metadata": {},
     "output_type": "execute_result"
    }
   ],
   "source": [
    "dc.pop()"
   ]
  },
  {
   "cell_type": "code",
   "execution_count": 604,
   "id": "b92bede3",
   "metadata": {},
   "outputs": [],
   "source": [
    "\n",
    "\n",
    "a = Binarytree('a')\n",
    "b = Binarytree('b')\n",
    "c = Binarytree('c')\n",
    "d = Binarytree('d')\n",
    "e = Binarytree('e')\n",
    "f = Binarytree('f')\n",
    "g = Binarytree('g')\n",
    "\n",
    "h = Binarytree('h')\n",
    "i = Binarytree('i')\n",
    "j = Binarytree('j')\n",
    "k = Binarytree('k')\n",
    "l = Binarytree('l')\n",
    "m = Binarytree('m')\n",
    "n = Binarytree('n')\n",
    "\n",
    "a.leftchild = b\n",
    "a.rightchild = c\n",
    "\n",
    "b.leftchild = d\n",
    "b.rightchild = e\n",
    "\n",
    "c.leftchild = f\n",
    "c.rightchild = g\n",
    "\n",
    "\n",
    "d.leftchild = h\n",
    "d.rightchild = i\n",
    "\n",
    "e.leftchild = j\n",
    "e.rightchild = k\n",
    "\n",
    "f.leftchild = l\n",
    "l.rightchild = m\n",
    "\n",
    "\n",
    "\n",
    "\n",
    "\n"
   ]
  },
  {
   "cell_type": "code",
   "execution_count": null,
   "id": "c4db3043",
   "metadata": {},
   "outputs": [],
   "source": []
  },
  {
   "cell_type": "code",
   "execution_count": 550,
   "id": "43379a63",
   "metadata": {},
   "outputs": [
    {
     "data": {
      "text/plain": [
       "3"
      ]
     },
     "execution_count": 550,
     "metadata": {},
     "output_type": "execute_result"
    }
   ],
   "source": [
    "a.diameter(a)"
   ]
  },
  {
   "cell_type": "code",
   "execution_count": 551,
   "id": "05a564a3",
   "metadata": {},
   "outputs": [
    {
     "data": {
      "text/plain": [
       "6"
      ]
     },
     "execution_count": 551,
     "metadata": {},
     "output_type": "execute_result"
    }
   ],
   "source": [
    "a.sum_nodes_r(a)"
   ]
  },
  {
   "cell_type": "code",
   "execution_count": null,
   "id": "1448f8ee",
   "metadata": {},
   "outputs": [],
   "source": []
  },
  {
   "cell_type": "code",
   "execution_count": 502,
   "id": "e17daa67",
   "metadata": {},
   "outputs": [
    {
     "data": {
      "text/plain": [
       "13"
      ]
     },
     "execution_count": 502,
     "metadata": {},
     "output_type": "execute_result"
    }
   ],
   "source": [
    "a.count(a)"
   ]
  },
  {
   "cell_type": "code",
   "execution_count": 450,
   "id": "668ccb0d",
   "metadata": {},
   "outputs": [
    {
     "name": "stdout",
     "output_type": "stream",
     "text": [
      "we popped -> a\n",
      "we popped -> b\n",
      "we popped -> c\n",
      "we popped -> d\n",
      "we popped -> e\n",
      "we popped -> f\n",
      "we popped -> g\n",
      "we popped -> h\n",
      "we popped -> i\n",
      "we popped -> j\n",
      "we popped -> k\n",
      "we popped -> l\n",
      "we popped -> m\n"
     ]
    }
   ],
   "source": [
    "a.level_order(a)"
   ]
  },
  {
   "cell_type": "code",
   "execution_count": 140,
   "id": "fd491029",
   "metadata": {},
   "outputs": [
    {
     "name": "stdout",
     "output_type": "stream",
     "text": [
      "d\n",
      "b\n",
      "e\n",
      "a\n",
      "f\n",
      "c\n",
      "g\n"
     ]
    }
   ],
   "source": [
    "a.ino_traverse(a)"
   ]
  },
  {
   "cell_type": "code",
   "execution_count": 444,
   "id": "f9d293d5",
   "metadata": {},
   "outputs": [
    {
     "ename": "AttributeError",
     "evalue": "'Binarytree' object has no attribute 'level_order'",
     "output_type": "error",
     "traceback": [
      "\u001b[1;31m---------------------------------------------------------------------------\u001b[0m",
      "\u001b[1;31mAttributeError\u001b[0m                            Traceback (most recent call last)",
      "\u001b[1;32m<ipython-input-444-61c20a674641>\u001b[0m in \u001b[0;36m<module>\u001b[1;34m\u001b[0m\n\u001b[1;32m----> 1\u001b[1;33m \u001b[0ma\u001b[0m\u001b[1;33m.\u001b[0m\u001b[0mlevel_order\u001b[0m\u001b[1;33m(\u001b[0m\u001b[0maa\u001b[0m\u001b[1;33m)\u001b[0m\u001b[1;33m\u001b[0m\u001b[1;33m\u001b[0m\u001b[0m\n\u001b[0m",
      "\u001b[1;31mAttributeError\u001b[0m: 'Binarytree' object has no attribute 'level_order'"
     ]
    }
   ],
   "source": [
    "a.level_order(aa)"
   ]
  },
  {
   "cell_type": "code",
   "execution_count": 142,
   "id": "41ee58a7",
   "metadata": {},
   "outputs": [],
   "source": [
    "aa = Binarytree(1)\n",
    "bb = Binarytree(2)\n",
    "cc = Binarytree(3)\n",
    "\n",
    "\n",
    "aa.leftchild = bb\n",
    "aa.rightchild = cc"
   ]
  },
  {
   "cell_type": "code",
   "execution_count": 143,
   "id": "bced9ec6",
   "metadata": {},
   "outputs": [
    {
     "data": {
      "text/plain": [
       "{'data': 1,\n",
       " 'leftchild': <__main__.Binarytree at 0x20f1345d460>,\n",
       " 'rightchild': <__main__.Binarytree at 0x20f1345dfa0>}"
      ]
     },
     "execution_count": 143,
     "metadata": {},
     "output_type": "execute_result"
    }
   ],
   "source": [
    "aa.__dict__"
   ]
  },
  {
   "cell_type": "code",
   "execution_count": null,
   "id": "e13627b8",
   "metadata": {},
   "outputs": [],
   "source": []
  },
  {
   "cell_type": "code",
   "execution_count": 144,
   "id": "a9d8ae21",
   "metadata": {},
   "outputs": [
    {
     "name": "stdout",
     "output_type": "stream",
     "text": [
      "we popped -> 1\n",
      "we popped -> 2\n",
      "we popped -> 3\n"
     ]
    },
    {
     "data": {
      "text/plain": [
       "(3, 6)"
      ]
     },
     "execution_count": 144,
     "metadata": {},
     "output_type": "execute_result"
    }
   ],
   "source": [
    "a.level_order_sum(aa)"
   ]
  },
  {
   "cell_type": "code",
   "execution_count": null,
   "id": "02367dbc",
   "metadata": {},
   "outputs": [],
   "source": []
  },
  {
   "cell_type": "code",
   "execution_count": 128,
   "id": "c63c35ba",
   "metadata": {},
   "outputs": [],
   "source": [
    "from collections import deque"
   ]
  },
  {
   "cell_type": "code",
   "execution_count": 53,
   "id": "52bebbb0",
   "metadata": {},
   "outputs": [],
   "source": [
    "ac = deque()"
   ]
  },
  {
   "cell_type": "code",
   "execution_count": 54,
   "id": "fce4a376",
   "metadata": {},
   "outputs": [],
   "source": [
    "ac.append(1)\n",
    "ac.append(2)\n",
    "ac.append(3)\n",
    "ac.append(4)\n",
    "ac.append(5)"
   ]
  },
  {
   "cell_type": "code",
   "execution_count": 55,
   "id": "06367531",
   "metadata": {},
   "outputs": [
    {
     "data": {
      "text/plain": [
       "deque([1, 2, 3, 4, 5])"
      ]
     },
     "execution_count": 55,
     "metadata": {},
     "output_type": "execute_result"
    }
   ],
   "source": [
    "ac"
   ]
  },
  {
   "cell_type": "code",
   "execution_count": 56,
   "id": "3e9a4649",
   "metadata": {},
   "outputs": [
    {
     "data": {
      "text/plain": [
       "1"
      ]
     },
     "execution_count": 56,
     "metadata": {},
     "output_type": "execute_result"
    }
   ],
   "source": [
    "ac.popleft()"
   ]
  },
  {
   "cell_type": "code",
   "execution_count": 57,
   "id": "242e32b0",
   "metadata": {},
   "outputs": [
    {
     "name": "stdout",
     "output_type": "stream",
     "text": [
      "2\n",
      "3\n",
      "4\n",
      "5\n"
     ]
    }
   ],
   "source": [
    "while len(ac) != 0:\n",
    "    ff = ac.popleft()\n",
    "    print(ff)"
   ]
  },
  {
   "cell_type": "code",
   "execution_count": null,
   "id": "c9e7b0f2",
   "metadata": {},
   "outputs": [],
   "source": [
    " def level_order(self,root):\n",
    "        self.root = root\n",
    "        if root == None:\n",
    "            return\n",
    "        q = deque()\n",
    "        q.append(root)\n",
    "        \n",
    "        while len(q) != 0:\n",
    "            p = q.popleft()\n",
    "            print(\"we popped ->\", p.data)\n",
    "            \n",
    "            if p.leftchild is not None:\n",
    "                q.append(p.leftchild)\n",
    "                \n",
    "            if p.rightchild is not None:\n",
    "                q.append(p.rightchild)\n",
    "                \n",
    "                \n",
    "    def level_order_sum(self,root):\n",
    "        self.root = root\n",
    "        \n",
    "        if root == None:\n",
    "            return\n",
    "        q = deque()\n",
    "        q.append(root)\n",
    "        sum = 0\n",
    "        count = 0\n",
    "        \n",
    "        while len(q) != 0:\n",
    "            p = q.popleft()\n",
    "            print(\"we popped ->\", p.data)\n",
    "            count = count + 1\n",
    "            sum = sum + p.data\n",
    "            #print(\"sum ->\", sum)\n",
    "            \n",
    "            \n",
    "            \n",
    "            if p.leftchild is not None:\n",
    "                q.append(p.leftchild)\n",
    "                \n",
    "            if p.rightchild is not None:\n",
    "                q.append(p.rightchild)\n",
    "                \n",
    "        return count, sum\n",
    "        \n",
    "        \n",
    "        \n",
    "     \n",
    "        def level_order(self, root):\n",
    "        q = [root]\n",
    "        visited = [root]\n",
    "        sum = 0\n",
    "        while len(q) != 0:\n",
    "            p = q.pop(0)\n",
    "            sum=sum +1\n",
    "            print(\"popped->\", p.data)\n",
    "            \n",
    "            if p.leftchild is not None:\n",
    "                q.append(p.leftchild)\n",
    "            if p.rightchild is not None:\n",
    "                q.append(p.rightchild)\n",
    "        \n",
    "        return sum\n",
    "    \n",
    "    \n",
    "    def level_order_k(self, root, k):\n",
    "        self.root = root\n",
    "        q = [root, None]\n",
    "        level = 0\n",
    "        sum = 0\n",
    "        while len(q) != 0:\n",
    "            p = q.pop(0)\n",
    "            if p == None:\n",
    "                level = level + 1\n",
    "            \n",
    "            \n",
    "            if p == None and len(q) > 0:\n",
    "                sum = 0\n",
    "                \n",
    "                \n",
    "                q.append(None)\n",
    "                \n",
    "                continue   \n",
    "            else:\n",
    "                \n",
    "                if level == k:\n",
    "                    #print(\"data->\", temp.data)\n",
    "                    sum=sum + 1\n",
    "                    print(sum)\n",
    "                temp = p\n",
    "                \n",
    "                if temp is not None:\n",
    "                    if temp.leftchild is not None:\n",
    "                        q.append(temp.leftchild)\n",
    "                    if p.rightchild is not None:\n",
    "                        q.append(temp.rightchild)\n",
    "                        \n",
    "        \n",
    "        \n",
    "                #return sum \n",
    "            \n",
    "            \n",
    "            \n",
    "            \n",
    "        def sum_nodes(self, rootnode):\n",
    "        self.rootnode = rootnode\n",
    "        #self.data = data\n",
    "        if rootnode == None:\n",
    "            return 0\n",
    "      \n",
    "        return self.sum_nodes(rootnode.rightchild) +  self.sum_nodes(rootnode.leftchild) + rootnode.data\n",
    "        \n",
    "        \n",
    "        \n",
    "        \n",
    "    def sum_nodes_r(self, rootnode):\n",
    "        self.rootnode = rootnode\n",
    "        #self.data = data\n",
    "        if rootnode == None:\n",
    "            return 0\n",
    "        \n",
    "        self.sum_nodes_r(rootnode.rightchild) \n",
    "        self.sum_nodes_r(rootnode.leftchild) \n",
    "        \n",
    "        if rootnode.leftchild is not None:\n",
    "            rootnode.data = rootnode.data + rootnode.leftchild.data\n",
    "            \n",
    "        if rootnode.rightchild is not None:\n",
    "            rootnode.data = rootnode.data + rootnode.rightchild.data\n",
    "            \n",
    "        return rootnode.data\n",
    "        \n",
    "        \n",
    "        \n",
    "    def height(self, rootnode):\n",
    "        self.rootnode = rootnode\n",
    "        if rootnode == None:\n",
    "            return 0\n",
    "        left = self.height(rootnode.leftchild)\n",
    "        right = self.height(rootnode.rightchild)\n",
    "        \n",
    "        if left > right:\n",
    "            return left + 1\n",
    "        \n",
    "        else:\n",
    "            return right + 1\n",
    "        \n",
    "        \n",
    "        \n",
    "        \n",
    "    def diameter(self, rootnode):\n",
    "        self.rootnode = rootnode\n",
    "        if rootnode ==  None:\n",
    "            return 0\n",
    "        \n",
    "        lefth = self.height(rootnode.leftchild)\n",
    "        righth = self.height(rootnode.rightchild)\n",
    "        dia = lefth + righth + 1\n",
    "        \n",
    "        leftd = self.diameter(rootnode.leftchild)\n",
    "        rightd = self.diameter(rootnode.rightchild)\n",
    "        \n",
    "        if dia > leftd and dia > rightd:\n",
    "            return dia\n",
    "        \n",
    "        elif leftd > dia and leftd > rightd:\n",
    "            return leftd\n",
    "        else:\n",
    "            return rightd\n",
    "        \n",
    "        \n",
    "        def balance(self, rootnode):\n",
    "        self.rootnode = rootnode\n",
    "        if rootnode == None:\n",
    "            return True\n",
    "        lh = 0\n",
    "        rh = 0\n",
    "        if (self.balance(rootnode.leftchild) and lh) == False:\n",
    "            return False\n",
    "        if (self.balance(rootnode.rightchild) and rh )== False:\n",
    "            return False\n",
    "        \n",
    "        maxh = max(lh,rh) + 1\n",
    "        \n",
    "        if lh -rh <=0 or rh -lh <= 0:\n",
    "            return True\n",
    "\n",
    "        \n",
    "        \n",
    "        def count(self, rootnode):\n",
    "        \n",
    "        self.rootnode = rootnode\n",
    "        if rootnode == None:\n",
    "            return 0\n",
    "        \n",
    "        lcount = 0\n",
    "        rcount = 0\n",
    "        lcount = lcount + self.count(rootnode.leftchild)\n",
    "        rcount = rcount + self.count(rootnode.rightchild)\n",
    "        \n",
    "        return lcount + rcount + 1\n",
    "    \n",
    "    \n",
    "    def height(self, rootnode):\n",
    "        self.rootnode = rootnode\n",
    "        if rootnode == None:\n",
    "            return 0\n",
    "        left = self.height(rootnode.leftchild)\n",
    "        right = self.height(rootnode.rightchild)\n",
    "        \n",
    "        if left > right:\n",
    "            return left + 1\n",
    "        \n",
    "        else:\n",
    "            return right + 1\n",
    "    \n",
    "    \n",
    "    \n",
    "    def balance(self, rootnode):\n",
    "        self.rootnode = rootnode\n",
    "        if rootnode == None:\n",
    "            return 0\n",
    "        \n",
    "        if self.balance(rootnode.leftchild) == False:\n",
    "            return False\n",
    "        if self.balance(rootnode.rightchild) == False:\n",
    "            return False\n",
    "        \n",
    "        l = self.height(rootnode.leftchild)\n",
    "        r = self.height(rootnode.rightchild)\n",
    "        if l-r <=0 or r-l <= 0:\n",
    "            return True\n",
    "        \n",
    "\n",
    "        \n",
    "            def pre_traverse(self, rootnode):\n",
    "        self.rootnode = rootnode \n",
    "        if rootnode == None:\n",
    "            return\n",
    "        \n",
    "        print(rootnode.data)\n",
    "        \n",
    "        \n",
    "        self.pre_traverse(rootnode.leftchild)\n",
    "        self.pre_traverse(rootnode.rightchild)\n",
    "        \n",
    "        \n",
    "        \n",
    "    def ino_traverse(self, rootnode):\n",
    "        self.rootnode = rootnode \n",
    "        if rootnode == None:\n",
    "            return\n",
    "        \n",
    "        self.ino_traverse(rootnode.leftchild)\n",
    "        print(rootnode.data)\n",
    "        self.ino_traverse(rootnode.rightchild)\n",
    "        "
   ]
  }
 ],
 "metadata": {
  "kernelspec": {
   "display_name": "Python 3",
   "language": "python",
   "name": "python3"
  },
  "language_info": {
   "codemirror_mode": {
    "name": "ipython",
    "version": 3
   },
   "file_extension": ".py",
   "mimetype": "text/x-python",
   "name": "python",
   "nbconvert_exporter": "python",
   "pygments_lexer": "ipython3",
   "version": "3.8.10"
  }
 },
 "nbformat": 4,
 "nbformat_minor": 5
}
