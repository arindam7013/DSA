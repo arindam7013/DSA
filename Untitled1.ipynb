{
 "cells": [
  {
   "cell_type": "code",
   "execution_count": 75,
   "id": "5ac8c72a",
   "metadata": {},
   "outputs": [],
   "source": [
    "A = [-4,3]\n",
    "B = [-2,-2]\n"
   ]
  },
  {
   "cell_type": "code",
   "execution_count": null,
   "id": "51dfe675",
   "metadata": {},
   "outputs": [],
   "source": []
  },
  {
   "cell_type": "code",
   "execution_count": 76,
   "id": "02886769",
   "metadata": {},
   "outputs": [],
   "source": [
    "A.extend(B)"
   ]
  },
  {
   "cell_type": "code",
   "execution_count": 77,
   "id": "07383953",
   "metadata": {},
   "outputs": [
    {
     "name": "stdout",
     "output_type": "stream",
     "text": [
      "[-4, 3, -2, -2]\n",
      "[-2, -2]\n"
     ]
    }
   ],
   "source": [
    "print(A)\n",
    "print(B)"
   ]
  },
  {
   "cell_type": "code",
   "execution_count": 57,
   "id": "73cb3a6d",
   "metadata": {},
   "outputs": [
    {
     "name": "stdout",
     "output_type": "stream",
     "text": [
      "-4 -2 -2 3 \n"
     ]
    }
   ],
   "source": [
    "print(\" \".join(str(x) for x in A) + \" \")"
   ]
  },
  {
   "cell_type": "code",
   "execution_count": 23,
   "id": "7f778264",
   "metadata": {},
   "outputs": [
    {
     "name": "stdout",
     "output_type": "stream",
     "text": [
      "4\n",
      "4\n",
      "4\n",
      "4\n",
      "3\n",
      "4\n"
     ]
    }
   ],
   "source": [
    "def solve( A, B):\n",
    "        j = len(A) - 1\n",
    "        i=0\n",
    "        A.sort()\n",
    "        \n",
    "        while (i <= j) :\n",
    "            for k in range(len(A)):\n",
    "                if A[k] == B:\n",
    "                    print(\"1\")\n",
    "                    return 1\n",
    "\n",
    "            if abs(A[i] - A[j]) == B:\n",
    "                print(\"2\")\n",
    "                return 1\n",
    "\n",
    "            if abs(A[i] - A[j]) < B:\n",
    "                print(\"3\")\n",
    "                i=i+1\n",
    "\n",
    "            if abs(A[i] - A[j]) > B:\n",
    "                print(\"4\")\n",
    "                j = j-1\n",
    "\n",
    "            else:\n",
    "                return 0\n",
    "        \n",
    "A=[ 478, 358, -38, -536, 705 ]\n",
    "B=320\n",
    "solve(A,B)"
   ]
  },
  {
   "cell_type": "code",
   "execution_count": 26,
   "id": "68d9ef2d",
   "metadata": {},
   "outputs": [
    {
     "data": {
      "text/plain": [
       "227"
      ]
     },
     "execution_count": 26,
     "metadata": {},
     "output_type": "execute_result"
    }
   ],
   "source": [
    "abs(478-705)"
   ]
  },
  {
   "cell_type": "code",
   "execution_count": 29,
   "id": "6812e5d9",
   "metadata": {},
   "outputs": [
    {
     "data": {
      "text/plain": [
       "139"
      ]
     },
     "execution_count": 29,
     "metadata": {},
     "output_type": "execute_result"
    }
   ],
   "source": [
    "398 -abs(-259)"
   ]
  },
  {
   "cell_type": "code",
   "execution_count": 28,
   "id": "fa848fa3",
   "metadata": {},
   "outputs": [
    {
     "data": {
      "text/plain": [
       "657"
      ]
     },
     "execution_count": 28,
     "metadata": {},
     "output_type": "execute_result"
    }
   ],
   "source": [
    "398+259"
   ]
  },
  {
   "cell_type": "code",
   "execution_count": 1,
   "id": "2b4e3fc3",
   "metadata": {},
   "outputs": [],
   "source": [
    "class Solution:\n",
    "    # @param A : list of integers\n",
    "    # @param B : integer\n",
    "    # @return an integer\n",
    "    def solve(self, A, B):\n",
    "        j = len(A) - 1\n",
    "        i=0\n",
    "        A.sort()\n",
    "        \n",
    "        while (i <= j) :\n",
    "            for k in range(len(A)):\n",
    "                if A[k] == B:\n",
    "                    return 1\n",
    "\n",
    "            if abs(A[i] - A[j]) == B:\n",
    "                return 1\n",
    "\n",
    "            if abs(A[i] - A[j]) < B:\n",
    "                i=i+1\n",
    "\n",
    "            if abs(A[i] - A[j]) > B:\n",
    "                j = j-1\n",
    "\n",
    "            else:\n",
    "                return 0\n",
    "        \n"
   ]
  },
  {
   "cell_type": "code",
   "execution_count": null,
   "id": "a73ed55d",
   "metadata": {},
   "outputs": [],
   "source": []
  },
  {
   "cell_type": "code",
   "execution_count": null,
   "id": "d5083b48",
   "metadata": {},
   "outputs": [],
   "source": []
  },
  {
   "cell_type": "code",
   "execution_count": 2,
   "id": "9373ac64",
   "metadata": {},
   "outputs": [],
   "source": [
    "arr = [9,8,7]"
   ]
  },
  {
   "cell_type": "code",
   "execution_count": 5,
   "id": "1915e930",
   "metadata": {},
   "outputs": [
    {
     "data": {
      "text/plain": [
       "[9, 8, 7, 9]"
      ]
     },
     "execution_count": 5,
     "metadata": {},
     "output_type": "execute_result"
    }
   ],
   "source": [
    "arr + [9]"
   ]
  },
  {
   "cell_type": "code",
   "execution_count": null,
   "id": "80300419",
   "metadata": {},
   "outputs": [],
   "source": []
  }
 ],
 "metadata": {
  "kernelspec": {
   "display_name": "Python 3",
   "language": "python",
   "name": "python3"
  },
  "language_info": {
   "codemirror_mode": {
    "name": "ipython",
    "version": 3
   },
   "file_extension": ".py",
   "mimetype": "text/x-python",
   "name": "python",
   "nbconvert_exporter": "python",
   "pygments_lexer": "ipython3",
   "version": "3.8.10"
  }
 },
 "nbformat": 4,
 "nbformat_minor": 5
}
