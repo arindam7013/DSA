{
 "cells": [
  {
   "cell_type": "code",
   "execution_count": 11,
   "metadata": {},
   "outputs": [],
   "source": [
    "\n"
   ]
  },
  {
   "cell_type": "code",
   "execution_count": 18,
   "metadata": {},
   "outputs": [
    {
     "data": {
      "text/plain": [
       "True"
      ]
     },
     "execution_count": 18,
     "metadata": {},
     "output_type": "execute_result"
    }
   ],
   "source": [
    "def lin(arr , n):\n",
    "    for i in range(len(arr)):\n",
    "        if arr[i] == n:\n",
    "            return True\n",
    "        \n",
    "    return False\n",
    "    \n",
    "arr = [3,4,5,7,1,2,9,34,22] \n",
    "lin(arr, 7)    "
   ]
  },
  {
   "cell_type": "code",
   "execution_count": 19,
   "metadata": {},
   "outputs": [
    {
     "data": {
      "text/plain": [
       "True"
      ]
     },
     "execution_count": 19,
     "metadata": {},
     "output_type": "execute_result"
    }
   ],
   "source": [
    "def linear(a, n):\n",
    "    for i in range(len(arr)):\n",
    "        if arr[i] == n:\n",
    "            return True\n",
    "    return False\n",
    "\n",
    "\n",
    "arr = [3,4,5,7,1,2,9,34,22] \n",
    "lin(arr, 7)\n",
    "linear(arr, 7)"
   ]
  },
  {
   "cell_type": "code",
   "execution_count": 28,
   "metadata": {},
   "outputs": [
    {
     "data": {
      "text/plain": [
       "range(0, 9)"
      ]
     },
     "execution_count": 28,
     "metadata": {},
     "output_type": "execute_result"
    }
   ],
   "source": [
    "range(len(arr))\n"
   ]
  },
  {
   "cell_type": "code",
   "execution_count": 22,
   "metadata": {},
   "outputs": [],
   "source": [
    "def selection(arr):\n",
    "    for i in range(len(arr)):\n",
    "            \n",
    "        for z in range(i+1, len(arr)):\n",
    "            if arr[z] < arr[i]:\n",
    "                arr[z] , arr[i] = arr[i], arr[z]\n",
    "        print(arr)\n",
    "                \n",
    "    return arr\n",
    "            \n",
    "            \n",
    "            "
   ]
  },
  {
   "cell_type": "code",
   "execution_count": 23,
   "metadata": {},
   "outputs": [
    {
     "name": "stdout",
     "output_type": "stream",
     "text": [
      "[2, 5, 6, 71, 4, 3]\n",
      "[2, 3, 6, 71, 5, 4]\n",
      "[2, 3, 4, 71, 6, 5]\n",
      "[2, 3, 4, 5, 71, 6]\n",
      "[2, 3, 4, 5, 6, 71]\n",
      "[2, 3, 4, 5, 6, 71]\n"
     ]
    },
    {
     "data": {
      "text/plain": [
       "[2, 3, 4, 5, 6, 71]"
      ]
     },
     "execution_count": 23,
     "metadata": {},
     "output_type": "execute_result"
    }
   ],
   "source": [
    "array = [4,5,6,71,2,3]\n",
    "selection(array)"
   ]
  },
  {
   "cell_type": "code",
   "execution_count": 2,
   "metadata": {},
   "outputs": [],
   "source": []
  },
  {
   "cell_type": "code",
   "execution_count": 46,
   "metadata": {},
   "outputs": [
    {
     "data": {
      "text/plain": [
       "range(0, 6)"
      ]
     },
     "execution_count": 46,
     "metadata": {},
     "output_type": "execute_result"
    }
   ],
   "source": [
    "range(len(array))"
   ]
  },
  {
   "cell_type": "code",
   "execution_count": 24,
   "metadata": {},
   "outputs": [],
   "source": [
    "def bubble(arr):\n",
    "   \n",
    "    for f in range(len(arr) -1):\n",
    "        for r in range(len(arr) - 1 - f):\n",
    "        \n",
    "            \n",
    "            if arr[r]> arr[r+1]:\n",
    "                arr[r] , arr[r+1] = arr[r+1], arr[r]\n",
    "        print(arr)\n",
    "                \n",
    "\n",
    "            \n",
    "    return arr "
   ]
  },
  {
   "cell_type": "code",
   "execution_count": 25,
   "metadata": {},
   "outputs": [
    {
     "name": "stdout",
     "output_type": "stream",
     "text": [
      "[4, 5, 6, 2, 3, 71]\n",
      "[4, 5, 2, 3, 6, 71]\n",
      "[4, 2, 3, 5, 6, 71]\n",
      "[2, 3, 4, 5, 6, 71]\n",
      "[2, 3, 4, 5, 6, 71]\n"
     ]
    },
    {
     "data": {
      "text/plain": [
       "[2, 3, 4, 5, 6, 71]"
      ]
     },
     "execution_count": 25,
     "metadata": {},
     "output_type": "execute_result"
    }
   ],
   "source": [
    "array = [4,5,6,71,2,3]\n",
    "bubble(array)"
   ]
  },
  {
   "cell_type": "code",
   "execution_count": 11,
   "metadata": {},
   "outputs": [],
   "source": [
    "array1 = [5,60,99,7,8,-300,2,4,9,10,56,89,2,3,65]"
   ]
  },
  {
   "cell_type": "code",
   "execution_count": 12,
   "metadata": {},
   "outputs": [
    {
     "data": {
      "text/plain": [
       "15"
      ]
     },
     "execution_count": 12,
     "metadata": {},
     "output_type": "execute_result"
    }
   ],
   "source": [
    "(len(array1))"
   ]
  },
  {
   "cell_type": "code",
   "execution_count": 16,
   "metadata": {},
   "outputs": [
    {
     "data": {
      "text/plain": [
       "99"
      ]
     },
     "execution_count": 16,
     "metadata": {},
     "output_type": "execute_result"
    }
   ],
   "source": [
    "def max_till(arr , pos):\n",
    "    mx = 0\n",
    "    for i in range(0,pos):\n",
    "        #print(\"->\",arr[i])\n",
    "        if arr[i] > mx:\n",
    "            mx = arr[i]\n",
    "    return mx\n",
    "        \n",
    "    \n",
    "max_till(array1 , 5)   "
   ]
  },
  {
   "cell_type": "code",
   "execution_count": null,
   "metadata": {},
   "outputs": [],
   "source": []
  },
  {
   "cell_type": "code",
   "execution_count": 1,
   "metadata": {},
   "outputs": [
    {
     "data": {
      "text/plain": [
       "range(0, 3)"
      ]
     },
     "execution_count": 1,
     "metadata": {},
     "output_type": "execute_result"
    }
   ],
   "source": [
    "range(len(arrr))"
   ]
  },
  {
   "cell_type": "code",
   "execution_count": 26,
   "metadata": {
    "scrolled": true
   },
   "outputs": [
    {
     "name": "stdout",
     "output_type": "stream",
     "text": [
      "final sum is ->  5\n"
     ]
    }
   ],
   "source": [
    "arrr =[1,2,2]\n",
    "x = []\n",
    "for i in range(len(arrr)):\n",
    "    \n",
    "    for j in range(i,len(arrr)):\n",
    "        sum = 0\n",
    "        temp = sum\n",
    "        \n",
    "        for k in range(i,j+1):\n",
    "            \n",
    "            #print(arrr[k], \"  \", end='')\n",
    "            sum = sum + arrr[k]\n",
    "        \n",
    "        x.append(sum)\n",
    "\n",
    "        \n",
    "print(\"final sum is -> \", max(x))"
   ]
  },
  {
   "cell_type": "code",
   "execution_count": 43,
   "metadata": {},
   "outputs": [
    {
     "data": {
      "text/plain": [
       "7"
      ]
     },
     "execution_count": 43,
     "metadata": {},
     "output_type": "execute_result"
    }
   ],
   "source": [
    "def maxSum(a):\n",
    "    \n",
    "    mx = 0\n",
    "    for i in range(len(a)):\n",
    "        sum = 0\n",
    "        for j in range(i , len(a)):\n",
    "            sum = sum + a[j]\n",
    "            \n",
    "            if sum > mx:\n",
    "                mx = sum\n",
    "            \n",
    "        \n",
    "         \n",
    "        \n",
    "            \n",
    "    return mx\n",
    "\n",
    "a = [-2, -3, 4, -1, -2, 1, 5, -3]\n",
    "maxSum(a)\n",
    "            \n",
    "            "
   ]
  },
  {
   "cell_type": "code",
   "execution_count": null,
   "metadata": {},
   "outputs": [],
   "source": [
    "def reword(s):\n",
    "    if len(s) == 1:\n",
    "        return s\n",
    "    \n",
    "    smor = ord(s[1])\n",
    "    for i in range(1,len(s)):\n",
    "        if ord(s[i]) > ord(s[0]):\n",
    "            \n",
    "            smor = ord(s[i])\n",
    "            \n",
    "    return \n",
    "        \n",
    "    \n",
    "    \n",
    "    \n",
    "    "
   ]
  },
  {
   "cell_type": "code",
   "execution_count": 47,
   "metadata": {},
   "outputs": [
    {
     "data": {
      "text/plain": [
       "114"
      ]
     },
     "execution_count": 47,
     "metadata": {},
     "output_type": "execute_result"
    }
   ],
   "source": [
    "te = 'ari'\n",
    "ord(te[1])"
   ]
  },
  {
   "cell_type": "code",
   "execution_count": 46,
   "metadata": {},
   "outputs": [
    {
     "data": {
      "text/plain": [
       "'i'"
      ]
     },
     "execution_count": 46,
     "metadata": {},
     "output_type": "execute_result"
    }
   ],
   "source": [
    "s = 'arinam'\n",
    "s[2]"
   ]
  },
  {
   "cell_type": "code",
   "execution_count": null,
   "metadata": {},
   "outputs": [],
   "source": []
  },
  {
   "cell_type": "code",
   "execution_count": 1,
   "metadata": {},
   "outputs": [],
   "source": [
    "arrr =[1,2,2,-1,1,9]\n",
    "def maxSubArray( a):\n",
    "    prev = a[0]\n",
    "    for i in a[1:]:\n",
    "        #print(prev)\n",
    "        sum = prev + i\n",
    "        currsum = sum\n",
    "        print(\"sum is ->     \" , sum, \"prev is  ->\", prev, \"and i is-> \", i)\n",
    "        if currsum > prev:\n",
    "            prev = currsum\n",
    "            #print(\"prev value and sum is->\", i, \"...\",prev)\n",
    "            \n",
    "        \n",
    "            \n",
    "    return prev\n",
    "            "
   ]
  },
  {
   "cell_type": "code",
   "execution_count": 52,
   "metadata": {},
   "outputs": [
    {
     "name": "stdout",
     "output_type": "stream",
     "text": [
      "sum is ->      3 prev is  -> 1 and i is->  2\n",
      "sum is ->      5 prev is  -> 3 and i is->  2\n",
      "sum is ->      4 prev is  -> 5 and i is->  -1\n",
      "sum is ->      6 prev is  -> 5 and i is->  1\n",
      "sum is ->      15 prev is  -> 6 and i is->  9\n"
     ]
    },
    {
     "data": {
      "text/plain": [
       "15"
      ]
     },
     "execution_count": 52,
     "metadata": {},
     "output_type": "execute_result"
    }
   ],
   "source": [
    "maxSubArray(arrr)"
   ]
  },
  {
   "cell_type": "code",
   "execution_count": null,
   "metadata": {},
   "outputs": [],
   "source": [
    "inf = float('inf')\n",
    "\n",
    "class Solution:\n",
    "\n",
    "\tdef maxSubArray(self, A):\n",
    "\t    best = -inf\n",
    "\t    sumsofar = 0\n",
    "\t    for x in A:\n",
    "\t        sumsofar += x\n",
    "\t        best = max(sumsofar, best)\n",
    "\t        # Doing this last, to handle case\n",
    "\t        # when all numbers are negative.\n",
    "\t        sumsofar = max(sumsofar, 0)\n",
    "\t    return best\n"
   ]
  },
  {
   "cell_type": "code",
   "execution_count": 70,
   "metadata": {},
   "outputs": [
    {
     "data": {
      "text/plain": [
       "10"
      ]
     },
     "execution_count": 70,
     "metadata": {},
     "output_type": "execute_result"
    }
   ],
   "source": [
    "\n",
    "f = float('-inf')\n",
    "class Solution:\n",
    "\t# @param A : tuple of integers\n",
    "\t# @return an integer\n",
    "\tdef maxSubArray(self, abc):\n",
    "\t\tmaxsum = f \n",
    "    \tcurrsum = 0\n",
    "    \tfor i in range(len(abc)):\n",
    "\t\t\tcurrsum = currsum + abc[i]\n",
    "        \tif currsum > maxsum:\n",
    "\t\t\t\tmaxsum = currsum\n",
    "        \tif currsum < 0:\n",
    "\t\t\t\tcurrsum = 0\n",
    "\t\treturn maxsum\n",
    "\t\t#if maxsum < 0:\n",
    "\t\t#\treturn abc[0] \n"
   ]
  },
  {
   "cell_type": "code",
   "execution_count": 13,
   "metadata": {},
   "outputs": [],
   "source": [
    "def maxSubArray( abc):\n",
    "    f = float('-inf')\n",
    "    maxsum = f \n",
    "    currsum = 0\n",
    "    for i in range(len(abc)):\n",
    "        currsum = currsum + abc[i]\n",
    "        if currsum > maxsum:\n",
    "            maxsum = currsum\n",
    "        if currsum < 0:\n",
    "            currsum = 0\n",
    "    return maxsum"
   ]
  },
  {
   "cell_type": "code",
   "execution_count": 14,
   "metadata": {},
   "outputs": [
    {
     "data": {
      "text/plain": [
       "14"
      ]
     },
     "execution_count": 14,
     "metadata": {},
     "output_type": "execute_result"
    }
   ],
   "source": [
    "maxSubArray([1,2,2,-1,1,9])"
   ]
  },
  {
   "cell_type": "code",
   "execution_count": null,
   "metadata": {},
   "outputs": [],
   "source": []
  },
  {
   "cell_type": "code",
   "execution_count": 53,
   "metadata": {},
   "outputs": [],
   "source": [
    "inf = float('inf')\n"
   ]
  },
  {
   "cell_type": "code",
   "execution_count": 55,
   "metadata": {},
   "outputs": [
    {
     "data": {
      "text/plain": [
       "-inf"
      ]
     },
     "execution_count": 55,
     "metadata": {},
     "output_type": "execute_result"
    }
   ],
   "source": [
    "-inf"
   ]
  },
  {
   "cell_type": "code",
   "execution_count": 3,
   "metadata": {},
   "outputs": [
    {
     "name": "stdout",
     "output_type": "stream",
     "text": [
      "1  \n",
      "2  4  \n",
      "5  7  9  \n",
      "11  \n",
      "13  15  \n",
      "17  \n",
      "final sum is ->  17\n"
     ]
    }
   ],
   "source": [
    "#sub-array\n",
    "\n",
    "sum = 0\n",
    "for i in range(len(arrr)):\n",
    "    \n",
    "    for j in range(i,len(arrr)):\n",
    "        \n",
    "        for k in  range(i,j+1):\n",
    "            \n",
    "            #print(arrr[k], \"  \", end='')\n",
    "            sum = sum + arrr[k]\n",
    "            print(sum, end='  ')\n",
    "\n",
    "        print(\"\")\n",
    "        \n",
    "        \n",
    "print(\"final sum is -> \", sum)"
   ]
  },
  {
   "cell_type": "code",
   "execution_count": 6,
   "metadata": {},
   "outputs": [
    {
     "data": {
      "text/plain": [
       "4"
      ]
     },
     "execution_count": 6,
     "metadata": {},
     "output_type": "execute_result"
    }
   ],
   "source": [
    "avv = [2,3,4]\n",
    "max(avv)"
   ]
  },
  {
   "cell_type": "code",
   "execution_count": null,
   "metadata": {},
   "outputs": [],
   "source": []
  },
  {
   "cell_type": "code",
   "execution_count": 31,
   "metadata": {},
   "outputs": [],
   "source": [
    "def sub_array(arr):\n",
    "    if len(arr) == 0:\n",
    "        return -1\n",
    "    \n",
    "    \n",
    "    return sub_array(arr[1:])"
   ]
  },
  {
   "cell_type": "code",
   "execution_count": 32,
   "metadata": {},
   "outputs": [
    {
     "data": {
      "text/plain": [
       "-1"
      ]
     },
     "execution_count": 32,
     "metadata": {},
     "output_type": "execute_result"
    }
   ],
   "source": [
    "sub_array(arrr)"
   ]
  },
  {
   "cell_type": "code",
   "execution_count": 74,
   "metadata": {},
   "outputs": [],
   "source": [
    "abc = [10,7,4,6,8,10,11]\n"
   ]
  },
  {
   "cell_type": "code",
   "execution_count": 82,
   "metadata": {},
   "outputs": [
    {
     "name": "stdout",
     "output_type": "stream",
     "text": [
      "difference -> -3\n",
      "prev size -> 1\n",
      "0\n",
      "difference -> -3\n",
      "prev size -> 2\n",
      "0\n",
      "difference -> 2\n",
      "prev size -> 3\n",
      "0\n",
      "difference -> 2\n",
      "prev size -> 4\n",
      "0\n",
      "difference -> 2\n",
      "prev size -> 5\n",
      "0\n",
      "difference -> 1\n",
      "prev size -> 6\n",
      "0\n"
     ]
    }
   ],
   "source": [
    "prev_size = 0\n",
    "curr_size = 0\n",
    "diff = 0\n",
    "for i in range(len(abc) - 1):\n",
    "    d = abc[i+1] - abc[i]\n",
    "    print(\"difference ->\" , d)\n",
    "    diff = d\n",
    "    #prev_size = prev_size + 1\n",
    "    print(\"prev size ->\", prev_size)\n",
    "    if curr_size> prev_size:\n",
    "        curr_size = prev_size\n",
    "        \n",
    "    print(curr_size)"
   ]
  },
  {
   "cell_type": "code",
   "execution_count": 40,
   "metadata": {},
   "outputs": [],
   "source": [
    "abc = [10,7,4,6,8,10,11,12,13,14,15,16,87,89,91]"
   ]
  },
  {
   "cell_type": "code",
   "execution_count": 35,
   "metadata": {},
   "outputs": [
    {
     "data": {
      "text/plain": [
       "-3"
      ]
     },
     "execution_count": 35,
     "metadata": {},
     "output_type": "execute_result"
    }
   ],
   "source": [
    "abc[1] - abc[0]"
   ]
  },
  {
   "cell_type": "code",
   "execution_count": 36,
   "metadata": {},
   "outputs": [
    {
     "data": {
      "text/plain": [
       "7"
      ]
     },
     "execution_count": 36,
     "metadata": {},
     "output_type": "execute_result"
    }
   ],
   "source": [
    "def arithmetic(abc):\n",
    "    pd = abc[1] - abc[0]\n",
    "    counter = 2\n",
    "    pctr  = 2\n",
    "    for i in range(2 , len(abc) ):\n",
    "        cd = (abc[i] - abc[i-1])\n",
    "   \n",
    "        if cd == pd:\n",
    "        \n",
    "            counter = counter +1\n",
    "        \n",
    "            if counter > pctr:\n",
    "                pctr = counter\n",
    "            \n",
    "        \n",
    "\n",
    "        else:\n",
    "            pd = cd \n",
    "            counter = 2\n",
    "    return pctr\n",
    "    \n",
    "        \n",
    "        \n",
    "         \n",
    "    \n",
    "arithmetic(abc)\n",
    "\n",
    "    "
   ]
  },
  {
   "cell_type": "code",
   "execution_count": 6,
   "metadata": {},
   "outputs": [],
   "source": [
    "abc = [10,7,4,6,8,10,11,12,13,14,15,16,87,89,91]"
   ]
  },
  {
   "cell_type": "code",
   "execution_count": 17,
   "metadata": {},
   "outputs": [],
   "source": [
    "def am(arr):\n",
    "    d1 = arr[1] - arr[0]\n",
    "    ptr = 2\n",
    "    counter = 2\n",
    "    for i in range(2, len(arr)):\n",
    "        \n",
    "        if arr[i] - arr[i-1] == d1:\n",
    "            counter = counter + 1\n",
    "            \n",
    "            if counter > ptr:\n",
    "                ptr = counter\n",
    "            \n",
    "        else:\n",
    "            d1 = arr[i] - arr[i-1]\n",
    "            counter = 2\n",
    "    return ptr"
   ]
  },
  {
   "cell_type": "code",
   "execution_count": 18,
   "metadata": {},
   "outputs": [
    {
     "data": {
      "text/plain": [
       "7"
      ]
     },
     "execution_count": 18,
     "metadata": {},
     "output_type": "execute_result"
    }
   ],
   "source": [
    "am(abc)"
   ]
  },
  {
   "cell_type": "code",
   "execution_count": 37,
   "metadata": {},
   "outputs": [
    {
     "data": {
      "text/plain": [
       "7"
      ]
     },
     "execution_count": 37,
     "metadata": {},
     "output_type": "execute_result"
    }
   ],
   "source": [
    "arithmetic(abc)"
   ]
  },
  {
   "cell_type": "code",
   "execution_count": 137,
   "metadata": {},
   "outputs": [],
   "source": [
    "th = [1,2,0,7,2,0,2,2]"
   ]
  },
  {
   "cell_type": "code",
   "execution_count": 138,
   "metadata": {},
   "outputs": [
    {
     "data": {
      "text/plain": [
       "8"
      ]
     },
     "execution_count": 138,
     "metadata": {},
     "output_type": "execute_result"
    }
   ],
   "source": [
    "len(th)"
   ]
  },
  {
   "cell_type": "code",
   "execution_count": 139,
   "metadata": {},
   "outputs": [],
   "source": [
    "def park(a):\n",
    "    b = 0\n",
    "    p = 0\n",
    "    for i in range(len(a)):\n",
    "        \n",
    "        if a[i] > b and (a[i]>a[i+1] or i==len(a) - 1):\n",
    "            b = a[i]\n",
    "            if i > p:\n",
    "                p = i\n",
    "                print(i)\n",
    "\n",
    "    return b\n",
    "    \n",
    "        "
   ]
  },
  {
   "cell_type": "code",
   "execution_count": 140,
   "metadata": {
    "scrolled": true
   },
   "outputs": [
    {
     "name": "stdout",
     "output_type": "stream",
     "text": [
      "1\n",
      "3\n"
     ]
    },
    {
     "data": {
      "text/plain": [
       "7"
      ]
     },
     "execution_count": 140,
     "metadata": {},
     "output_type": "execute_result"
    }
   ],
   "source": [
    "park(th)"
   ]
  },
  {
   "cell_type": "code",
   "execution_count": 235,
   "metadata": {},
   "outputs": [],
   "source": [
    "def small(ar):\n",
    "    \n",
    "    for i in range(len(ar)):\n",
    "        app = 0\n",
    "        for j in range(i,len(ar)):        \n",
    "            if ar[i] == ar[j] and i<j:\n",
    "                app = app + 1\n",
    "                print(\"appeared ->\" , ar[i] , \"time ->\", app)\n",
    "\n",
    "    return app\n",
    "    "
   ]
  },
  {
   "cell_type": "code",
   "execution_count": 236,
   "metadata": {},
   "outputs": [],
   "source": [
    "v = [1,5,3,4,3,5,6]"
   ]
  },
  {
   "cell_type": "code",
   "execution_count": 237,
   "metadata": {},
   "outputs": [
    {
     "data": {
      "text/plain": [
       "range(0, 7)"
      ]
     },
     "execution_count": 237,
     "metadata": {},
     "output_type": "execute_result"
    }
   ],
   "source": [
    "range(len(v))"
   ]
  },
  {
   "cell_type": "code",
   "execution_count": 238,
   "metadata": {},
   "outputs": [
    {
     "name": "stdout",
     "output_type": "stream",
     "text": [
      "appeared -> 5 time -> 1\n",
      "appeared -> 3 time -> 1\n"
     ]
    },
    {
     "data": {
      "text/plain": [
       "0"
      ]
     },
     "execution_count": 238,
     "metadata": {},
     "output_type": "execute_result"
    }
   ],
   "source": [
    "small(v)"
   ]
  },
  {
   "cell_type": "code",
   "execution_count": 277,
   "metadata": {},
   "outputs": [],
   "source": [
    "arrr = [1,2,3,7,5,7]"
   ]
  },
  {
   "cell_type": "code",
   "execution_count": null,
   "metadata": {},
   "outputs": [],
   "source": []
  },
  {
   "cell_type": "code",
   "execution_count": 282,
   "metadata": {},
   "outputs": [
    {
     "name": "stdout",
     "output_type": "stream",
     "text": [
      "1   \n",
      "1   2   \n",
      "1   2   3   \n",
      "1   2   3   7   \n",
      "1   2   3   7   5   \n",
      "1   2   3   7   5   7   \n",
      "2   \n",
      "2   3   \n",
      "2   3   7   sum is -> 12  ..   start at->  3 ending at index->  3   .. \n",
      "2   3   7   sum is -> 12  ..   start at->  4 ending at index->  3   .. 5   \n",
      "2   3   7   sum is -> 12  ..   start at->  5 ending at index->  3   .. 5   7   \n",
      "3   \n",
      "3   7   \n",
      "3   7   5   \n",
      "3   7   5   7   \n",
      "7   \n",
      "7   5   sum is -> 12  ..   start at->  4 ending at index->  4   .. \n",
      "7   5   sum is -> 12  ..   start at->  5 ending at index->  4   .. 7   \n",
      "5   \n",
      "5   7   sum is -> 12  ..   start at->  5 ending at index->  5   .. \n",
      "7   \n"
     ]
    }
   ],
   "source": [
    "#sum = 0\n",
    "s = 12\n",
    "for i in range(len(arrr)):\n",
    "    \n",
    "    for j in range(i,len(arrr)):\n",
    "        sum = 0\n",
    "        \n",
    "        for k in  range(i,j+1):\n",
    "            \n",
    "            print(arrr[k], \"  \", end='')\n",
    "            sum = sum + arrr[k]\n",
    "            if sum == s:\n",
    "                \n",
    "                print(\"sum is ->\", sum ,\" ..  \", \"start at-> \" ,j , \"ending at index-> \", k ,\"  .. \"  , end ='')\n",
    "            \n",
    "            # \"and positions are ->\" , j , \" to ->\", k,\n",
    "\n",
    "        print(\"\")\n",
    "        \n",
    "        \n",
    "#print(\"final sum is -> \", sum)"
   ]
  },
  {
   "cell_type": "code",
   "execution_count": 308,
   "metadata": {},
   "outputs": [],
   "source": [
    "small = [0,-9,1,2,3,-4,5]"
   ]
  },
  {
   "cell_type": "code",
   "execution_count": 309,
   "metadata": {},
   "outputs": [
    {
     "name": "stdout",
     "output_type": "stream",
     "text": [
      "positive element is-> 1\n",
      "positive element is-> 2\n",
      "positive element is-> 3\n",
      "positive element is-> 5\n",
      "missing-> 4\n"
     ]
    }
   ],
   "source": [
    "posi = 1\n",
    "for i in range(len(small)):\n",
    "    \n",
    "    if small[i] > 0:\n",
    "        print(\"positive element is->\", small[i])\n",
    "        \n",
    "        if small[i] == posi:\n",
    "            posi = posi + 1\n",
    "        else:\n",
    "            print(\"missing->\" , posi)\n",
    "            break\n",
    "        \n",
    "        "
   ]
  },
  {
   "cell_type": "code",
   "execution_count": 4,
   "metadata": {},
   "outputs": [],
   "source": [
    "ar = 'sqw'"
   ]
  },
  {
   "cell_type": "code",
   "execution_count": 8,
   "metadata": {},
   "outputs": [
    {
     "data": {
      "text/plain": [
       "'wqs'"
      ]
     },
     "execution_count": 8,
     "metadata": {},
     "output_type": "execute_result"
    }
   ],
   "source": [
    "ar[::-1]"
   ]
  },
  {
   "cell_type": "code",
   "execution_count": 7,
   "metadata": {},
   "outputs": [
    {
     "data": {
      "text/plain": [
       "'sqw'"
      ]
     },
     "execution_count": 7,
     "metadata": {},
     "output_type": "execute_result"
    }
   ],
   "source": [
    "ar"
   ]
  },
  {
   "cell_type": "code",
   "execution_count": null,
   "metadata": {},
   "outputs": [],
   "source": []
  }
 ],
 "metadata": {
  "kernelspec": {
   "display_name": "Python 3",
   "language": "python",
   "name": "python3"
  },
  "language_info": {
   "codemirror_mode": {
    "name": "ipython",
    "version": 3
   },
   "file_extension": ".py",
   "mimetype": "text/x-python",
   "name": "python",
   "nbconvert_exporter": "python",
   "pygments_lexer": "ipython3",
   "version": "3.8.10"
  }
 },
 "nbformat": 4,
 "nbformat_minor": 4
}
