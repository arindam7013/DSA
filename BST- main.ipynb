{
 "cells": [
  {
   "cell_type": "code",
   "execution_count": 12,
   "id": "bfb0c75e",
   "metadata": {},
   "outputs": [
    {
     "ename": "TypeError",
     "evalue": "'<' not supported between instances of 'BST' and 'int'",
     "output_type": "error",
     "traceback": [
      "\u001b[1;31m---------------------------------------------------------------------------\u001b[0m",
      "\u001b[1;31mTypeError\u001b[0m                                 Traceback (most recent call last)",
      "\u001b[1;32m<ipython-input-12-ebf163019c19>\u001b[0m in \u001b[0;36m<module>\u001b[1;34m\u001b[0m\n\u001b[0;32m     86\u001b[0m \u001b[0mroot\u001b[0m \u001b[1;33m=\u001b[0m \u001b[0ma\u001b[0m\u001b[1;33m\u001b[0m\u001b[1;33m\u001b[0m\u001b[0m\n\u001b[0;32m     87\u001b[0m \u001b[1;33m\u001b[0m\u001b[0m\n\u001b[1;32m---> 88\u001b[1;33m \u001b[0ma\u001b[0m\u001b[1;33m.\u001b[0m\u001b[0mminimum_key\u001b[0m\u001b[1;33m(\u001b[0m\u001b[0mroot\u001b[0m\u001b[1;33m)\u001b[0m\u001b[1;33m\u001b[0m\u001b[1;33m\u001b[0m\u001b[0m\n\u001b[0m",
      "\u001b[1;32m<ipython-input-12-ebf163019c19>\u001b[0m in \u001b[0;36mminimum_key\u001b[1;34m(self, rootnode)\u001b[0m\n\u001b[0;32m     66\u001b[0m             \u001b[1;32mreturn\u001b[0m \u001b[1;32mFalse\u001b[0m\u001b[1;33m\u001b[0m\u001b[1;33m\u001b[0m\u001b[0m\n\u001b[0;32m     67\u001b[0m \u001b[1;33m\u001b[0m\u001b[0m\n\u001b[1;32m---> 68\u001b[1;33m         \u001b[1;32mif\u001b[0m \u001b[0mrootnode\u001b[0m\u001b[1;33m.\u001b[0m\u001b[0mleftchild\u001b[0m \u001b[1;33m<\u001b[0m \u001b[0mminimum\u001b[0m\u001b[1;33m:\u001b[0m\u001b[1;33m\u001b[0m\u001b[1;33m\u001b[0m\u001b[0m\n\u001b[0m\u001b[0;32m     69\u001b[0m             \u001b[0mminimum\u001b[0m \u001b[1;33m=\u001b[0m \u001b[0mrootnode\u001b[0m\u001b[1;33m.\u001b[0m\u001b[0mleftchild\u001b[0m\u001b[1;33m\u001b[0m\u001b[1;33m\u001b[0m\u001b[0m\n\u001b[0;32m     70\u001b[0m             \u001b[1;32mreturn\u001b[0m \u001b[0mself\u001b[0m\u001b[1;33m.\u001b[0m\u001b[0mminimum_key\u001b[0m\u001b[1;33m(\u001b[0m\u001b[0mrootnode\u001b[0m\u001b[1;33m.\u001b[0m\u001b[0mleftchild\u001b[0m\u001b[1;33m)\u001b[0m\u001b[1;33m\u001b[0m\u001b[1;33m\u001b[0m\u001b[0m\n",
      "\u001b[1;31mTypeError\u001b[0m: '<' not supported between instances of 'BST' and 'int'"
     ]
    }
   ],
   "source": [
    "#c 214      Search an element is tree and find the minimum element is the tree\n",
    "\n",
    "class BST:\n",
    "    def __init__(self, data):\n",
    "        self.data = data\n",
    "        self.leftchild = None\n",
    "        self.rightchild = None\n",
    "        \n",
    "    \n",
    "    def create_node(self, rootnode, nodevalue):\n",
    "        self.rootnode= rootnode\n",
    "        if rootnode == None:\n",
    "            rootnode = nodevalue\n",
    "            \n",
    "        if nodevalue < rootnode.data:\n",
    "            if rootnode.leftchild == None:\n",
    "                rootnode.leftchild = BST(nodevalue)\n",
    "                \n",
    "            else:\n",
    "                self.create_node(rootnode.leftchild, nodevalue )\n",
    "                \n",
    "        if nodevalue > rootnode.data:\n",
    "            if rootnode.rightchild == None:\n",
    "                rootnode.rightchild = BST(nodevalue)\n",
    "                \n",
    "            else:\n",
    "                self.create_node(rootnode.rightchild, nodevalue)\n",
    "                \n",
    "    \n",
    "                    \n",
    "                \n",
    "    def pre_traverse(self, rootnode):\n",
    "        self.rootnode = rootnode\n",
    "        if rootnode == None:\n",
    "            return None\n",
    "        print(rootnode.data)\n",
    "        self.pre_traverse(rootnode.leftchild)\n",
    "        self.pre_traverse(rootnode.rightchild)\n",
    "        \n",
    "        \n",
    "    \n",
    "    \n",
    "    def search_key(self, rootnode, key):\n",
    "        self.rootnode = rootnode\n",
    "        if rootnode == None:\n",
    "            return False\n",
    "        \n",
    "        if key == rootnode.data:\n",
    "            return True\n",
    "        \n",
    "        if key< rootnode.data:\n",
    "            return self.search_key(rootnode.leftchild, key)\n",
    "            \n",
    "        if key > rootnode.data:\n",
    "            return self.search_key(rootnode.rightchild, key)\n",
    "            \n",
    "        else:\n",
    "            return False\n",
    "        \n",
    "        \n",
    "    def minimum_key(self, rootnode):\n",
    "        self.rootnode = rootnode\n",
    "        \n",
    "        minimum = rootnode.data\n",
    "        if rootnode == None:\n",
    "            return False\n",
    "        \n",
    "        if rootnode.leftchild.data < minimum:\n",
    "            minimum = rootnode.leftchild\n",
    "            return self.minimum_key(rootnode.leftchild)\n",
    "            \n",
    "\n",
    "            \n",
    "        else:\n",
    "            return rootnode.data\n",
    "        \n",
    "        \n",
    "        \n",
    "     \n",
    "a = BST(5)\n",
    "a.create_node(a, 1)\n",
    "a.create_node(a, 3)\n",
    "a.create_node(a, 4)\n",
    "a.create_node(a, 2)\n",
    "a.create_node(a, 7)\n",
    "root = a\n",
    "\n",
    "a.minimum_key(root)"
   ]
  },
  {
   "cell_type": "code",
   "execution_count": null,
   "id": "b1409087",
   "metadata": {},
   "outputs": [],
   "source": []
  },
  {
   "cell_type": "code",
   "execution_count": 2,
   "id": "e69aa103",
   "metadata": {},
   "outputs": [],
   "source": []
  },
  {
   "cell_type": "code",
   "execution_count": 4,
   "id": "957adab5",
   "metadata": {},
   "outputs": [
    {
     "data": {
      "text/plain": [
       "False"
      ]
     },
     "execution_count": 4,
     "metadata": {},
     "output_type": "execute_result"
    }
   ],
   "source": [
    "a.search_key(a, 8)"
   ]
  },
  {
   "cell_type": "code",
   "execution_count": null,
   "id": "cd2cbb85",
   "metadata": {},
   "outputs": [],
   "source": []
  },
  {
   "cell_type": "code",
   "execution_count": 20,
   "id": "1aa62e3f",
   "metadata": {},
   "outputs": [],
   "source": [
    "arr = [10,2,1,13,11]"
   ]
  },
  {
   "cell_type": "code",
   "execution_count": null,
   "id": "476c5325",
   "metadata": {},
   "outputs": [],
   "source": []
  },
  {
   "cell_type": "code",
   "execution_count": 21,
   "id": "b73ea382",
   "metadata": {},
   "outputs": [],
   "source": [
    "a = BST(arr[0])\n",
    "for i in arr:\n",
    "    \n",
    "    a.create_node(a, i)\n",
    "    "
   ]
  },
  {
   "cell_type": "code",
   "execution_count": 22,
   "id": "94b4ffb6",
   "metadata": {},
   "outputs": [
    {
     "name": "stdout",
     "output_type": "stream",
     "text": [
      "10\n",
      "2\n",
      "1\n",
      "13\n",
      "11\n"
     ]
    }
   ],
   "source": [
    "a.pre_traverse(a)"
   ]
  },
  {
   "cell_type": "code",
   "execution_count": 19,
   "id": "b5f048af",
   "metadata": {},
   "outputs": [
    {
     "data": {
      "text/plain": [
       "5"
      ]
     },
     "execution_count": 19,
     "metadata": {},
     "output_type": "execute_result"
    }
   ],
   "source": [
    "a.leftchild.data"
   ]
  },
  {
   "cell_type": "code",
   "execution_count": null,
   "id": "73429565",
   "metadata": {},
   "outputs": [],
   "source": []
  },
  {
   "cell_type": "code",
   "execution_count": null,
   "id": "2a8b6466",
   "metadata": {},
   "outputs": [],
   "source": []
  },
  {
   "cell_type": "code",
   "execution_count": null,
   "id": "1a4bfe4d",
   "metadata": {},
   "outputs": [],
   "source": [
    "       \n",
    "        \n",
    "        \n",
    "        \n",
    "                \n",
    "                \n",
    "    def pre_traverse(self, rootnode):\n",
    "        self.rootnode = rootnode\n",
    "        if rootnode == None:\n",
    "            return None\n",
    "        print(rootnode.data)\n",
    "        self.pre_traverse(rootnode.leftchild)\n",
    "        self.pre_traverse(rootnode.rightchild)\n",
    "        \n",
    "        \n",
    "    def post_traverse(self, rootnode):\n",
    "        self.rootnode = rootnode\n",
    "        if rootnode == None:\n",
    "            return None\n",
    "        \n",
    "        self.post_traverse(rootnode.leftchild)\n",
    "        self.post_traverse(rootnode.rightchild)\n",
    "        print(rootnode.data)\n",
    "        \n",
    "        \n",
    "    def ino_traverse(self, rootnode):\n",
    "        self.rootnode = rootnode\n",
    "        if rootnode == None:\n",
    "            return None\n",
    "        \n",
    "        self.ino_traverse(rootnode.leftchild)\n",
    "        print(rootnode.data)\n",
    "        self.ino_traverse(rootnode.rightchild)\n",
    "        \n",
    "        \n",
    "        \n",
    "    def delete_key(self, rootnode, key):\n",
    "        self.rootnode = rootnode\n",
    "        if rootnode == None:\n",
    "            return False\n",
    "        \n",
    "        if key < rootnode.data:\n",
    "            rootnode.leftchild = self.delete_key(rootnode.leftchild, key)\n",
    "            return \"here ->\" , rootnode.data\n",
    "        \n",
    "        elif key > rootnode.data:\n",
    "            rootnode.rightchild = self.delete_key(rootnode.rightchild, key)\n",
    "            return \"there->\",  rootnode.rightchild\n",
    "            \n",
    "\n",
    "        else:\n",
    "            if rootnode.leftchild ==  None:\n",
    "                temp = rootnode.rightchild \n",
    "                rootnode = None\n",
    "                return temp\n",
    "            \n",
    "            elif rootnode.rightchild == None:\n",
    "                temp = rootnode.leftchild \n",
    "                rootnode = None\n",
    "                return temp\n",
    "            \n",
    "\n",
    "        \n",
    "        \n",
    "        \n"
   ]
  }
 ],
 "metadata": {
  "kernelspec": {
   "display_name": "Python 3",
   "language": "python",
   "name": "python3"
  },
  "language_info": {
   "codemirror_mode": {
    "name": "ipython",
    "version": 3
   },
   "file_extension": ".py",
   "mimetype": "text/x-python",
   "name": "python",
   "nbconvert_exporter": "python",
   "pygments_lexer": "ipython3",
   "version": "3.8.10"
  }
 },
 "nbformat": 4,
 "nbformat_minor": 5
}
