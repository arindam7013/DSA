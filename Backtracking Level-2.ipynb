{
 "cells": [
  {
   "cell_type": "code",
   "execution_count": 1,
   "id": "8589f4e0",
   "metadata": {},
   "outputs": [],
   "source": [
    "#How to Print Abbreviations using Recursion"
   ]
  },
  {
   "cell_type": "code",
   "execution_count": 12,
   "id": "b16d2f81",
   "metadata": {},
   "outputs": [
    {
     "name": "stdout",
     "output_type": "stream",
     "text": [
      "pep\n",
      "pe1\n",
      "p1p\n",
      "p2\n",
      "1ep\n",
      "1e1\n",
      "2p\n",
      "3\n"
     ]
    }
   ],
   "source": [
    "def abbr(st , asf , count , pos):\n",
    "    \n",
    "    if pos == len(st) :\n",
    "        \n",
    "        if count == 0:\n",
    "            print(asf)\n",
    "        else:\n",
    "            \n",
    "            print( asf + str(count))\n",
    "            \n",
    "        return\n",
    "    \n",
    "    if count > 0:\n",
    "        \n",
    "        abbr(st , asf + str(count) + st[pos] , 0 , pos + 1)\n",
    "        \n",
    "    else:\n",
    "        abbr(st , asf + st[pos] , 0 , pos + 1)\n",
    "        \n",
    "    abbr(st , asf  , count + 1 , pos + 1)\n",
    "    \n",
    "    \n",
    "abbr('pep' , '' , 0 , 0)"
   ]
  },
  {
   "cell_type": "code",
   "execution_count": null,
   "id": "5a218bcb",
   "metadata": {},
   "outputs": [],
   "source": []
  },
  {
   "cell_type": "code",
   "execution_count": null,
   "id": "f6949ec9",
   "metadata": {},
   "outputs": [],
   "source": []
  },
  {
   "cell_type": "code",
   "execution_count": null,
   "id": "2e6d6a52",
   "metadata": {},
   "outputs": [],
   "source": [
    "#Game of Execution - Josephus Problem | Recursion & Backtracking"
   ]
  },
  {
   "cell_type": "code",
   "execution_count": 15,
   "id": "c531f3d7",
   "metadata": {},
   "outputs": [
    {
     "data": {
      "text/plain": [
       "36"
      ]
     },
     "execution_count": 15,
     "metadata": {},
     "output_type": "execute_result"
    }
   ],
   "source": [
    "def findTheWinner( n: int, k: int) -> int:\n",
    "        \n",
    "        \n",
    "        def solve(n , k):\n",
    "            \n",
    "            if n == 1:\n",
    "                return 0\n",
    "            else:\n",
    "                \n",
    "                x = solve( n - 1 , k)\n",
    "                y = ( x + k ) % n\n",
    "\n",
    "                return y\n",
    "        \n",
    "        \n",
    "        return solve(n , k)+1\n",
    "    \n",
    "    \n",
    "findTheWinner(65, 5)"
   ]
  },
  {
   "cell_type": "code",
   "execution_count": null,
   "id": "7416ea0f",
   "metadata": {},
   "outputs": [],
   "source": []
  },
  {
   "cell_type": "code",
   "execution_count": null,
   "id": "4bf6465f",
   "metadata": {},
   "outputs": [],
   "source": []
  },
  {
   "cell_type": "code",
   "execution_count": null,
   "id": "2b939382",
   "metadata": {},
   "outputs": [],
   "source": []
  },
  {
   "cell_type": "code",
   "execution_count": null,
   "id": "12266515",
   "metadata": {},
   "outputs": [],
   "source": []
  },
  {
   "cell_type": "code",
   "execution_count": null,
   "id": "f4763d71",
   "metadata": {},
   "outputs": [],
   "source": []
  },
  {
   "cell_type": "code",
   "execution_count": null,
   "id": "5e414c0a",
   "metadata": {},
   "outputs": [],
   "source": []
  },
  {
   "cell_type": "code",
   "execution_count": null,
   "id": "f432dac4",
   "metadata": {},
   "outputs": [],
   "source": []
  },
  {
   "cell_type": "code",
   "execution_count": null,
   "id": "328d18aa",
   "metadata": {},
   "outputs": [],
   "source": []
  },
  {
   "cell_type": "code",
   "execution_count": null,
   "id": "5685813c",
   "metadata": {},
   "outputs": [],
   "source": []
  }
 ],
 "metadata": {
  "kernelspec": {
   "display_name": "Python 3",
   "language": "python",
   "name": "python3"
  },
  "language_info": {
   "codemirror_mode": {
    "name": "ipython",
    "version": 3
   },
   "file_extension": ".py",
   "mimetype": "text/x-python",
   "name": "python",
   "nbconvert_exporter": "python",
   "pygments_lexer": "ipython3",
   "version": "3.8.10"
  }
 },
 "nbformat": 4,
 "nbformat_minor": 5
}
