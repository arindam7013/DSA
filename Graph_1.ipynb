{
 "cells": [
  {
   "cell_type": "code",
   "execution_count": 100,
   "id": "568309b2",
   "metadata": {},
   "outputs": [],
   "source": []
  },
  {
   "cell_type": "code",
   "execution_count": 2,
   "id": "5bbb9760",
   "metadata": {},
   "outputs": [],
   "source": [
    "class Graph:\n",
    "    def __init__(self, g= None):\n",
    "        self.g = g\n",
    "       \n",
    "    def add_conn(self, vertex, conn):\n",
    "        \n",
    "        self.g[vertex].append(conn)\n",
    "        \n"
   ]
  },
  {
   "cell_type": "code",
   "execution_count": 3,
   "id": "28a4f7c1",
   "metadata": {},
   "outputs": [],
   "source": [
    "g1 = Graph"
   ]
  },
  {
   "cell_type": "code",
   "execution_count": 4,
   "id": "e5fd3a6f",
   "metadata": {},
   "outputs": [
    {
     "data": {
      "text/plain": [
       "mappingproxy({'__module__': '__main__',\n",
       "              '__init__': <function __main__.Graph.__init__(self, g=None)>,\n",
       "              'add_conn': <function __main__.Graph.add_conn(self, vertex, conn)>,\n",
       "              '__dict__': <attribute '__dict__' of 'Graph' objects>,\n",
       "              '__weakref__': <attribute '__weakref__' of 'Graph' objects>,\n",
       "              '__doc__': None})"
      ]
     },
     "execution_count": 4,
     "metadata": {},
     "output_type": "execute_result"
    }
   ],
   "source": [
    "g1.__dict__"
   ]
  },
  {
   "cell_type": "code",
   "execution_count": 5,
   "id": "560bb129",
   "metadata": {},
   "outputs": [],
   "source": [
    "g1 = mylinkedin2 = {\n",
    "    \"A\": [ \"C\" ],\n",
    "    \"B\": [\"C\" , \"D\"],\n",
    "    \"C\": [ \"E\"], \n",
    "    \"D\": [ \"F\"],\n",
    "    \"E\": [\"H\", \"F\"],\n",
    "    \"F\": [\"G\"],\n",
    "    \"G\": [\"A\",\"C\"],\n",
    "    \"H\": [\"D\"]\n",
    "}"
   ]
  },
  {
   "cell_type": "code",
   "execution_count": null,
   "id": "46f307c2",
   "metadata": {},
   "outputs": [],
   "source": []
  },
  {
   "cell_type": "code",
   "execution_count": 6,
   "id": "14c6bff8",
   "metadata": {},
   "outputs": [
    {
     "name": "stdout",
     "output_type": "stream",
     "text": [
      "we popped -> A\n",
      "we popped -> C\n",
      "we popped -> E\n",
      "we popped -> F\n",
      "we popped -> G\n",
      "we popped -> H\n",
      "we popped -> D\n"
     ]
    }
   ],
   "source": [
    "#DFS\n",
    "s = ['A']\n",
    "visited = ['A']\n",
    "while len(s) != 0:\n",
    "    p = s.pop()\n",
    "    print(\"we popped ->\", p)\n",
    "    for a in mylinkedin2[p]:\n",
    "        if a not in visited:\n",
    "            s.append(a)\n",
    "            visited.append(a)"
   ]
  },
  {
   "cell_type": "code",
   "execution_count": null,
   "id": "2c8edac7",
   "metadata": {},
   "outputs": [],
   "source": []
  },
  {
   "cell_type": "code",
   "execution_count": null,
   "id": "08438d9e",
   "metadata": {},
   "outputs": [],
   "source": []
  },
  {
   "cell_type": "code",
   "execution_count": null,
   "id": "5fa0ce6d",
   "metadata": {},
   "outputs": [],
   "source": []
  },
  {
   "cell_type": "code",
   "execution_count": null,
   "id": "bb377a60",
   "metadata": {},
   "outputs": [],
   "source": []
  },
  {
   "cell_type": "code",
   "execution_count": 149,
   "id": "a85d580d",
   "metadata": {},
   "outputs": [],
   "source": [
    "mylinkedin1 = {\n",
    "    \"Tim\": [\"Soony\" , \"David\" ],\n",
    "    \"Marsh\": [\"David\" , \"Afro\"],\n",
    "    \"Soony\": [\"Afro\"], \n",
    "    \"David\": [\"Marsh\", \"Afro\"],\n",
    "    \"Afro\": [\"Tim\", \"David\", \"Soony\"]\n",
    "}"
   ]
  },
  {
   "cell_type": "code",
   "execution_count": 153,
   "id": "b61c2872",
   "metadata": {},
   "outputs": [],
   "source": [
    "mylinkedin2 = {\n",
    "    \"A\": [\"B\" , \"C\" ],\n",
    "    \"B\": [\"A\" , \"D\"],\n",
    "    \"C\": [\"A\", \"E\"], \n",
    "    \"D\": [\"B\", \"F\"],\n",
    "    \"E\": [\"C\", \"F\"],\n",
    "    \"F\": [\"D\", \"E\"]\n",
    "}"
   ]
  },
  {
   "cell_type": "code",
   "execution_count": 7,
   "id": "a1702755",
   "metadata": {},
   "outputs": [],
   "source": [
    "mylinkedin2 = {\n",
    "    \"A\": [\"B\" , \"C\" ],\n",
    "    \"B\": [\"A\" , \"D\", \"G\"],\n",
    "    \"C\": [\"A\", \"E\"], \n",
    "    \"D\": [\"C\", \"B\", \"F\"],\n",
    "    \"E\": [\"C\", \"F\"],\n",
    "    \"F\": [\"D\", \"E\", \"G\"],\n",
    "    \"G\": [\"B\", \"F\"]\n",
    "}"
   ]
  },
  {
   "cell_type": "code",
   "execution_count": 8,
   "id": "c97223d3",
   "metadata": {},
   "outputs": [
    {
     "name": "stdout",
     "output_type": "stream",
     "text": [
      "we popped -> A\n",
      "we popped -> C\n",
      "we popped -> E\n",
      "we popped -> F\n",
      "we popped -> G\n",
      "we popped -> D\n",
      "we popped -> B\n"
     ]
    }
   ],
   "source": [
    "#DFS\n",
    "s = ['A']\n",
    "visited = ['A']\n",
    "while len(s) != 0:\n",
    "    p = s.pop()\n",
    "    print(\"we popped ->\", p)\n",
    "    for a in mylinkedin2[p]:\n",
    "        if a not in visited:\n",
    "            s.append(a)\n",
    "            visited.append(a)"
   ]
  },
  {
   "cell_type": "code",
   "execution_count": null,
   "id": "3b28a3ce",
   "metadata": {},
   "outputs": [],
   "source": []
  },
  {
   "cell_type": "code",
   "execution_count": null,
   "id": "a3c87d00",
   "metadata": {},
   "outputs": [],
   "source": [
    "def hasPath(gph , s , d , visited = []):\n",
    "    \n",
    "    if s == d:\n",
    "        return True"
   ]
  },
  {
   "cell_type": "code",
   "execution_count": null,
   "id": "013101fb",
   "metadata": {},
   "outputs": [],
   "source": []
  },
  {
   "cell_type": "code",
   "execution_count": null,
   "id": "4d946314",
   "metadata": {},
   "outputs": [],
   "source": []
  },
  {
   "cell_type": "code",
   "execution_count": null,
   "id": "60beaa23",
   "metadata": {},
   "outputs": [],
   "source": []
  },
  {
   "cell_type": "code",
   "execution_count": 144,
   "id": "66a1ea0c",
   "metadata": {},
   "outputs": [
    {
     "name": "stdout",
     "output_type": "stream",
     "text": [
      "we popped -> C\n",
      "we popped -> A\n",
      "we popped -> E\n",
      "we popped -> B\n",
      "we popped -> F\n",
      "we popped -> D\n"
     ]
    }
   ],
   "source": [
    "#BFS\n",
    "q = ['C']\n",
    "visited = ['C']\n",
    "while len(q) != 0:\n",
    "    p = q.pop(0)\n",
    "    print(\"we popped ->\", p)\n",
    "    for a in mylinkedin2[p]:\n",
    "        if a not in visited:\n",
    "            q.append(a)\n",
    "            #print(\"we appended->\", a)\n",
    "            visited.append(a)\n",
    "            \n",
    "    \n"
   ]
  },
  {
   "cell_type": "code",
   "execution_count": null,
   "id": "755a6190",
   "metadata": {},
   "outputs": [],
   "source": []
  },
  {
   "cell_type": "code",
   "execution_count": null,
   "id": "73e4225d",
   "metadata": {},
   "outputs": [],
   "source": []
  },
  {
   "cell_type": "code",
   "execution_count": 40,
   "id": "ccf248c3",
   "metadata": {},
   "outputs": [
    {
     "data": {
      "text/plain": [
       "['Tim', 'David', 'Soony']"
      ]
     },
     "execution_count": 40,
     "metadata": {},
     "output_type": "execute_result"
    }
   ],
   "source": [
    "mylinkedin1.pop('Afro')"
   ]
  },
  {
   "cell_type": "code",
   "execution_count": 79,
   "id": "b0e968aa",
   "metadata": {},
   "outputs": [],
   "source": [
    "mylinkedin1['excision'] = []"
   ]
  },
  {
   "cell_type": "code",
   "execution_count": 80,
   "id": "42d21b01",
   "metadata": {},
   "outputs": [
    {
     "data": {
      "text/plain": [
       "{'Tim': ['Soony', 'David', 'Tiesto'],\n",
       " 'Marsh': ['David', 'Hardwell', 'Afro'],\n",
       " 'Soony': ['Tiesto', 'Hardwell'],\n",
       " 'David': ['Marsh', 'Afro'],\n",
       " 'Afro': ['Tim', 'David', 'Soony'],\n",
       " 'excision': []}"
      ]
     },
     "execution_count": 80,
     "metadata": {},
     "output_type": "execute_result"
    }
   ],
   "source": [
    "mylinkedin1"
   ]
  },
  {
   "cell_type": "code",
   "execution_count": null,
   "id": "2697a4fa",
   "metadata": {},
   "outputs": [],
   "source": [
    "mylinkedin = {\n",
    "    \"Tim\": [\"Soony\" , \"David\" , \"Tiesto\"],\n",
    "    \"Marsh\": [\"David\" , \"Hardwell\" , \"Afro\"],\n",
    "    \"Soony\": [\"Tiesto\", \"Hardwell\"], \n",
    "    \"David\": [\"Marsh\", \"Afro\"],\n",
    "    \"Afro\": [\"Tim\", \"David\", \"Soony\"]\n",
    "}"
   ]
  },
  {
   "cell_type": "code",
   "execution_count": null,
   "id": "2ac04d1f",
   "metadata": {},
   "outputs": [],
   "source": [
    "        \n",
    "        \n",
    "    def add_conn(self, vertex, conn):\n",
    "        self.g[vertex].append(conn)\n",
    "        \n",
    "        \n",
    "    def remove_conn(self, vertex, conn):\n",
    "        print(conn)\n",
    "        self.g[vertex].pop(conn)\n",
    "        \n",
    "    def count_conn(self, vertex):\n",
    "        return len(self.g[vertex])\n",
    "    \n",
    "    def add_node(self, node):\n",
    "        self.g[node] = []\n",
    "        \n",
    "    def show_pro(self):\n",
    "        return self.g.keys()\n",
    "    \n",
    "    \n",
    "    def show_vals(self):\n",
    "        return self.g.values()"
   ]
  }
 ],
 "metadata": {
  "kernelspec": {
   "display_name": "Python 3",
   "language": "python",
   "name": "python3"
  },
  "language_info": {
   "codemirror_mode": {
    "name": "ipython",
    "version": 3
   },
   "file_extension": ".py",
   "mimetype": "text/x-python",
   "name": "python",
   "nbconvert_exporter": "python",
   "pygments_lexer": "ipython3",
   "version": "3.8.10"
  }
 },
 "nbformat": 4,
 "nbformat_minor": 5
}
