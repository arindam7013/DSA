{
 "cells": [
  {
   "cell_type": "code",
   "execution_count": 32,
   "id": "733a15ca",
   "metadata": {},
   "outputs": [],
   "source": [
    "array = [\n",
    "    [1,2,3,56],\n",
    "    [4,5,6,99],\n",
    "    [7,8,9,89],\n",
    "    [10,11,1,2]\n",
    "      ]"
   ]
  },
  {
   "cell_type": "code",
   "execution_count": 33,
   "id": "48370b24",
   "metadata": {},
   "outputs": [
    {
     "name": "stdout",
     "output_type": "stream",
     "text": [
      "4\n",
      "[1, 2, 3, 56]\n"
     ]
    }
   ],
   "source": [
    "print(len(array[0]))\n",
    "print(array[0])"
   ]
  },
  {
   "cell_type": "code",
   "execution_count": null,
   "id": "7e38a2ed",
   "metadata": {},
   "outputs": [],
   "source": []
  },
  {
   "cell_type": "code",
   "execution_count": 34,
   "id": "925d0a76",
   "metadata": {},
   "outputs": [
    {
     "name": "stdout",
     "output_type": "stream",
     "text": [
      "1 4 7 10  \n",
      "2 5 8 11  \n",
      "3 6 9 1  \n",
      "56 99 89 2  \n"
     ]
    }
   ],
   "source": [
    "for i in range(len(array)):\n",
    "    \n",
    "    for j in range(len(array[i])):\n",
    "        \n",
    "            print(array[j][i]  , end=' ')\n",
    "    print(\" \")\n",
    "    "
   ]
  },
  {
   "cell_type": "code",
   "execution_count": null,
   "id": "fc59c74a",
   "metadata": {},
   "outputs": [],
   "source": []
  }
 ],
 "metadata": {
  "kernelspec": {
   "display_name": "Python 3",
   "language": "python",
   "name": "python3"
  },
  "language_info": {
   "codemirror_mode": {
    "name": "ipython",
    "version": 3
   },
   "file_extension": ".py",
   "mimetype": "text/x-python",
   "name": "python",
   "nbconvert_exporter": "python",
   "pygments_lexer": "ipython3",
   "version": "3.8.10"
  }
 },
 "nbformat": 4,
 "nbformat_minor": 5
}
