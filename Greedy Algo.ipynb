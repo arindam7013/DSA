{
 "cells": [
  {
   "cell_type": "code",
   "execution_count": 24,
   "id": "d9842f52",
   "metadata": {},
   "outputs": [],
   "source": [
    "a = [1,2,5,10,20,50,100,200,500,2000]"
   ]
  },
  {
   "cell_type": "code",
   "execution_count": 25,
   "id": "9c78223a",
   "metadata": {},
   "outputs": [],
   "source": [
    "a.sort(reverse=-1)"
   ]
  },
  {
   "cell_type": "code",
   "execution_count": 26,
   "id": "d8e9570e",
   "metadata": {},
   "outputs": [
    {
     "data": {
      "text/plain": [
       "[2000, 500, 200, 100, 50, 20, 10, 5, 2, 1]"
      ]
     },
     "execution_count": 26,
     "metadata": {},
     "output_type": "execute_result"
    }
   ],
   "source": [
    "a"
   ]
  },
  {
   "cell_type": "code",
   "execution_count": 27,
   "id": "102b6cbc",
   "metadata": {},
   "outputs": [
    {
     "name": "stdout",
     "output_type": "stream",
     "text": [
      "8\n"
     ]
    }
   ],
   "source": [
    "x = 388\n",
    "ans = 0\n",
    "for i in range(len(a)):\n",
    "    \n",
    "        ans = ans + int(x/a[i])\n",
    "        x = x - int(x/a[i]) * a[i]\n",
    "print(ans)"
   ]
  },
  {
   "cell_type": "code",
   "execution_count": 15,
   "id": "076ad971",
   "metadata": {},
   "outputs": [
    {
     "data": {
      "text/plain": [
       "1"
      ]
     },
     "execution_count": 15,
     "metadata": {},
     "output_type": "execute_result"
    }
   ],
   "source": [
    "int(388/200)"
   ]
  },
  {
   "cell_type": "code",
   "execution_count": 53,
   "id": "50b7871e",
   "metadata": {},
   "outputs": [],
   "source": [
    "# Fractional Knapsack  Given here is sorted array of v/w ratio\n",
    "val = [40,24,30,21,12]\n",
    "wt = [5,4,6,7,6]\n",
    "ratio = [8,6,5,3,2]\n",
    "w = 20\n"
   ]
  },
  {
   "cell_type": "code",
   "execution_count": 50,
   "id": "e46af4dd",
   "metadata": {},
   "outputs": [],
   "source": [
    "val = [60, 100, 120]\n",
    "wt = [10, 20, 30]\n",
    "ratio = [6,5,4]\n",
    "w = 50\n",
    "n = len(val)"
   ]
  },
  {
   "cell_type": "code",
   "execution_count": 56,
   "id": "624ad1ba",
   "metadata": {},
   "outputs": [],
   "source": [
    "def knapsack(val, wt, ratio, w):\n",
    "    weight_till = 0\n",
    "    cost = 0\n",
    "    for i in range(len(wt)):\n",
    "            if weight_till < w:\n",
    "                cost = cost + (ratio[i] * wt[i])\n",
    "                weight_till = weight_till + wt[i]\n",
    "                \n",
    "                \n",
    "                if weight_till > w:\n",
    "                    remaining = weight_till - w \n",
    "                    #print(\"cost before->\", cost)\n",
    "                    cost = cost - (remaining * ratio[i])\n",
    "                    #print(cost)\n",
    "            \n",
    "                \n",
    "                \n",
    "                \n",
    "    return cost"
   ]
  },
  {
   "cell_type": "code",
   "execution_count": 57,
   "id": "cf1cf80b",
   "metadata": {},
   "outputs": [
    {
     "data": {
      "text/plain": [
       "109"
      ]
     },
     "execution_count": 57,
     "metadata": {},
     "output_type": "execute_result"
    }
   ],
   "source": [
    "knapsack(val, wt, ratio, w)"
   ]
  },
  {
   "cell_type": "code",
   "execution_count": null,
   "id": "d9ba6011",
   "metadata": {},
   "outputs": [],
   "source": []
  },
  {
   "cell_type": "code",
   "execution_count": null,
   "id": "b306d36a",
   "metadata": {},
   "outputs": [],
   "source": []
  },
  {
   "cell_type": "code",
   "execution_count": 1,
   "id": "2fea0941",
   "metadata": {},
   "outputs": [],
   "source": [
    "# Activity Selection Problem. -> Find max no of activities you can perform"
   ]
  },
  {
   "cell_type": "code",
   "execution_count": 19,
   "id": "1fd4af64",
   "metadata": {},
   "outputs": [],
   "source": [
    "name = [\"a3\", 'a2', 'a1', 'a5', 'a6', 'a4']\n",
    "start  =  [1, 3, 0, 5, 8, 5]\n",
    "finish =  [2, 4, 6, 7, 9, 9]\n",
    "\n",
    "            "
   ]
  },
  {
   "cell_type": "code",
   "execution_count": 31,
   "id": "e51e2cc7",
   "metadata": {},
   "outputs": [],
   "source": [
    "def activity_selection(start , end):\n",
    "    j = 0\n",
    "    print(name[0], \"->\", end='')\n",
    "    for i in range(1 , len(end) - 1):\n",
    "        if start[i] > end[j]:\n",
    "            print( name[i],\" ->\", end='' )\n",
    "            j = i\n",
    "        \n",
    "            "
   ]
  },
  {
   "cell_type": "code",
   "execution_count": 32,
   "id": "3f4ef937",
   "metadata": {},
   "outputs": [
    {
     "name": "stdout",
     "output_type": "stream",
     "text": [
      "a3 ->a2  ->a5  ->a6  ->"
     ]
    }
   ],
   "source": [
    "activity_selection(start , finish)"
   ]
  },
  {
   "cell_type": "code",
   "execution_count": null,
   "id": "6bf65276",
   "metadata": {},
   "outputs": [],
   "source": []
  },
  {
   "cell_type": "code",
   "execution_count": 10,
   "id": "a8aaa032",
   "metadata": {},
   "outputs": [],
   "source": [
    "#Optical merge Pattern"
   ]
  },
  {
   "cell_type": "code",
   "execution_count": 2,
   "id": "bc3257bc",
   "metadata": {},
   "outputs": [],
   "source": [
    "arr = [4,2,5,7]\n",
    "arr2 = [1,2,5,7,8]"
   ]
  },
  {
   "cell_type": "code",
   "execution_count": 3,
   "id": "4b09c44a",
   "metadata": {},
   "outputs": [
    {
     "data": {
      "text/plain": [
       "49"
      ]
     },
     "execution_count": 3,
     "metadata": {},
     "output_type": "execute_result"
    }
   ],
   "source": [
    "def optimal_merge_pattern(arr):\n",
    "    arr.sort()\n",
    "    sum = 0\n",
    "    temp = arr[0]\n",
    "    x = 0\n",
    "    for i in range(1 , len(arr)):\n",
    "        sum = arr[i] + temp\n",
    "        temp = sum\n",
    "        x = x + temp\n",
    "    return x\n",
    "        \n",
    "optimal_merge_pattern(arr2)"
   ]
  },
  {
   "cell_type": "code",
   "execution_count": null,
   "id": "508603c4",
   "metadata": {},
   "outputs": [],
   "source": []
  },
  {
   "cell_type": "code",
   "execution_count": null,
   "id": "4f34a22b",
   "metadata": {},
   "outputs": [],
   "source": []
  }
 ],
 "metadata": {
  "kernelspec": {
   "display_name": "Python 3",
   "language": "python",
   "name": "python3"
  },
  "language_info": {
   "codemirror_mode": {
    "name": "ipython",
    "version": 3
   },
   "file_extension": ".py",
   "mimetype": "text/x-python",
   "name": "python",
   "nbconvert_exporter": "python",
   "pygments_lexer": "ipython3",
   "version": "3.8.10"
  }
 },
 "nbformat": 4,
 "nbformat_minor": 5
}
