{
 "cells": [
  {
   "cell_type": "code",
   "execution_count": 33,
   "id": "93ae1d3c",
   "metadata": {},
   "outputs": [
    {
     "name": "stdout",
     "output_type": "stream",
     "text": [
      "[0, 0, 0, 0, 0, 0, 0, 0, 0, 0, 0, 0, 0, 0, 0, 0, 0, 0, 0, 0, 0, 0, 0, 0, 0, 0, 0, 0, 0, 0, 0, 0, 0, 0, 0, 0, 0, 0, 0, 0, 0, 0, 0, 0, 0, 0, 0, 0, 0, 0, 0, 0]\n"
     ]
    },
    {
     "data": {
      "text/plain": [
       "12586269025"
      ]
     },
     "execution_count": 33,
     "metadata": {},
     "output_type": "execute_result"
    }
   ],
   "source": [
    "def fibo(n):\n",
    "    arr = []\n",
    "    for i in range(n+2):\n",
    "        arr.append(0)\n",
    "    \n",
    "    arr[1] = 1   \n",
    "    for j in range(1 , len(arr)-2):\n",
    "        \n",
    "        arr[j+1] = arr[j+1] + arr[j]\n",
    "        arr[j+2] = arr[j+2] + arr[j]\n",
    "        \n",
    "    \n",
    "    return arr[n]\n",
    "\n",
    "\n",
    "fibo(50)\n",
    "        \n",
    "    "
   ]
  },
  {
   "cell_type": "code",
   "execution_count": null,
   "id": "2e83856e",
   "metadata": {},
   "outputs": [],
   "source": []
  },
  {
   "cell_type": "code",
   "execution_count": null,
   "id": "bfa72238",
   "metadata": {},
   "outputs": [],
   "source": [
    "def grid(m,n):\n",
    "    arr = []\n",
    "    for i in range(m*n):\n",
    "        arr.append(0)\n",
    "    arr[1*1] = 1\n",
    "    for j in range(1,m*n):\n",
    "        \n",
    "        "
   ]
  }
 ],
 "metadata": {
  "kernelspec": {
   "display_name": "Python 3",
   "language": "python",
   "name": "python3"
  },
  "language_info": {
   "codemirror_mode": {
    "name": "ipython",
    "version": 3
   },
   "file_extension": ".py",
   "mimetype": "text/x-python",
   "name": "python",
   "nbconvert_exporter": "python",
   "pygments_lexer": "ipython3",
   "version": "3.8.10"
  }
 },
 "nbformat": 4,
 "nbformat_minor": 5
}
