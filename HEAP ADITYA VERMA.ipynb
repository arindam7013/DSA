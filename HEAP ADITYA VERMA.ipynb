{
 "cells": [
  {
   "cell_type": "code",
   "execution_count": 1,
   "id": "c4f0fa47",
   "metadata": {},
   "outputs": [
    {
     "data": {
      "text/plain": [
       "[7, 10, 4]"
      ]
     },
     "execution_count": 1,
     "metadata": {},
     "output_type": "execute_result"
    }
   ],
   "source": [
    "def kth_smallest(arr,k):\n",
    "    n = len(arr)\n",
    "    \n",
    "    #since smallest find karna hai, use maxheap\n",
    "    \n",
    "    maxheap = []\n",
    "    \n",
    "    for i in range(n):\n",
    "        maxheap.append(arr[i])\n",
    "        \n",
    "        if len(maxheap) > k:\n",
    "            maxheap.pop()\n",
    "    return maxheap\n",
    "\n",
    "kth_smallest([7,10,4,3,20,15] , 3)\n",
    "        \n",
    "        "
   ]
  },
  {
   "cell_type": "code",
   "execution_count": 11,
   "id": "a223fa2d",
   "metadata": {},
   "outputs": [
    {
     "name": "stdout",
     "output_type": "stream",
     "text": [
      "[3, 7, 4, 10, 20, 15]\n"
     ]
    },
    {
     "data": {
      "text/plain": [
       "[10, 20, 15]"
      ]
     },
     "execution_count": 11,
     "metadata": {},
     "output_type": "execute_result"
    }
   ],
   "source": [
    "import heapq\n",
    "def solve( A, B):\n",
    "        heapq.heapify(A)\n",
    "        print(A)\n",
    "        for i in range(len(A)-B):\n",
    "            heapq.heappop(A)\n",
    "        return A\n",
    "    \n",
    "solve([7,10,4,3,20,15] , 3)"
   ]
  },
  {
   "cell_type": "code",
   "execution_count": 17,
   "id": "7d65457f",
   "metadata": {},
   "outputs": [
    {
     "name": "stdout",
     "output_type": "stream",
     "text": [
      "[(-9, 2), (-3, 1), (-5, 0)]\n",
      "7 4 6 "
     ]
    }
   ],
   "source": [
    "# Python3 program to find k closest elements\n",
    "import math\n",
    "import sys\n",
    "from queue import PriorityQueue\n",
    "def printKclosest(arr,n,x,k):\n",
    "\n",
    "\n",
    "    pq = PriorityQueue()\n",
    "    for i in range(k):\n",
    "        pq.put((-abs(arr[i]-x),i))\n",
    "    print(pq.queue)\n",
    "\n",
    "    # Now process remaining elements\n",
    "    for i in range(k,n):\n",
    "        diff = abs(arr[i]-x)\n",
    "        p,pi = pq.get()\n",
    "        curr = -p\n",
    "\n",
    "\t\t# If difference with current\n",
    "\t\t# element is more than root,\n",
    "\t\t# then put it back.\n",
    "        if diff>curr:\n",
    "            pq.put((-curr,pi))\n",
    "            continue\n",
    "        else:\n",
    "\n",
    "\t\t\t# Else remove root and insert\n",
    "            pq.put((-diff,i))\n",
    "\n",
    "    while(not pq.empty()):\n",
    "        p,q = pq.get()\n",
    "        print(\"{} \".format(arr[q]),end = \"\")\n",
    "\n",
    "# Driver program to test above functions\n",
    "if __name__=='__main__':\n",
    "\tarr = [10, 2, 14, 4, 7, 6]\n",
    "\tx,k = 5,3\n",
    "\tn = len(arr)\n",
    "\tprintKclosest(arr, n, x, k)\n",
    "\n"
   ]
  },
  {
   "cell_type": "code",
   "execution_count": null,
   "id": "b7c8fadf",
   "metadata": {},
   "outputs": [],
   "source": []
  }
 ],
 "metadata": {
  "kernelspec": {
   "display_name": "Python 3",
   "language": "python",
   "name": "python3"
  },
  "language_info": {
   "codemirror_mode": {
    "name": "ipython",
    "version": 3
   },
   "file_extension": ".py",
   "mimetype": "text/x-python",
   "name": "python",
   "nbconvert_exporter": "python",
   "pygments_lexer": "ipython3",
   "version": "3.8.10"
  }
 },
 "nbformat": 4,
 "nbformat_minor": 5
}
