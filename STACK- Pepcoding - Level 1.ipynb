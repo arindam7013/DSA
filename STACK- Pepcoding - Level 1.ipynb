{
 "cells": [
  {
   "cell_type": "code",
   "execution_count": null,
   "id": "578b8d4f",
   "metadata": {},
   "outputs": [],
   "source": [
    "#Q1 Duplicate Brackets | Solution"
   ]
  },
  {
   "cell_type": "code",
   "execution_count": 6,
   "id": "50b9218c",
   "metadata": {},
   "outputs": [
    {
     "name": "stdout",
     "output_type": "stream",
     "text": [
      "['(']\n",
      "['(', '(']\n",
      "['(', '(', 'a']\n",
      "['(', '(', 'a', '+']\n",
      "['(', '(', 'a', '+', 'b']\n",
      "['(', '+']\n",
      "['(', '+', '(']\n",
      "['(', '+', '(', 'c']\n",
      "['(', '+', '(', 'c', '+']\n",
      "['(', '+', '(', 'c', '+', 'd']\n"
     ]
    },
    {
     "data": {
      "text/plain": [
       "False"
      ]
     },
     "execution_count": 6,
     "metadata": {},
     "output_type": "execute_result"
    }
   ],
   "source": [
    "def bracket(arr):\n",
    "    \n",
    "    st = []\n",
    "    \n",
    "    for i in arr:\n",
    "        if i == ')':\n",
    "            if st[len(st) - 1] == '(':\n",
    "                return True\n",
    "            \n",
    "            else:\n",
    "                while st[len(st) - 1] != '(':\n",
    "                    st.pop()\n",
    "            \n",
    "            st.pop()\n",
    "                    \n",
    "        else:\n",
    "            \n",
    "            st.append(i)\n",
    "            print(st)\n",
    "            \n",
    "        \n",
    "        \n",
    "        \n",
    "        \n",
    "    return False\n",
    "            \n",
    "   \n",
    "\n",
    "bracket('((a+b)+(c+d))')"
   ]
  },
  {
   "cell_type": "code",
   "execution_count": null,
   "id": "86bc5c06",
   "metadata": {},
   "outputs": [],
   "source": []
  },
  {
   "cell_type": "code",
   "execution_count": null,
   "id": "318e1e58",
   "metadata": {},
   "outputs": [],
   "source": [
    "#balanced bracket "
   ]
  },
  {
   "cell_type": "code",
   "execution_count": null,
   "id": "d25acf5b",
   "metadata": {},
   "outputs": [],
   "source": []
  },
  {
   "cell_type": "code",
   "execution_count": 17,
   "id": "b520a9ab",
   "metadata": {},
   "outputs": [
    {
     "data": {
      "text/plain": [
       "True"
      ]
     },
     "execution_count": 17,
     "metadata": {},
     "output_type": "execute_result"
    }
   ],
   "source": [
    "def balanced_br(arr):\n",
    "        stack = []\n",
    "    \n",
    "        for i in range(len(arr)):\n",
    "            if arr[i] == ')' :\n",
    "                if len(stack) == 0:\n",
    "                    return False\n",
    "                \n",
    "                elif stack[len(stack) - 1] != '(' :\n",
    "                    return False\n",
    "                    \n",
    "                else:\n",
    "                    stack.pop()\n",
    "        \n",
    "            elif  arr[i] == ']' : \n",
    "                if len(stack) == 0:\n",
    "                    return False\n",
    "                \n",
    "                elif stack[len(stack) - 1] != '[' :\n",
    "                    return False\n",
    "                    \n",
    "                else:\n",
    "                    stack.pop()\n",
    "         \n",
    "            elif  arr[i] == '}':\n",
    "                if len(stack) == 0:\n",
    "                    return False\n",
    "                \n",
    "                elif stack[len(stack) - 1] != '{' :\n",
    "                    return False\n",
    "                    \n",
    "                else:\n",
    "                    stack.pop()\n",
    "                \n",
    "            else:\n",
    "                if arr[i] == '(' or arr[i] == '[' or arr[i] == '{' :        \n",
    "                    stack.append(arr[i])\n",
    "                    \n",
    "                    \n",
    "        if len(stack) > 0:\n",
    "            return False\n",
    "        \n",
    "        else:\n",
    "              \n",
    "            return True\n",
    "\n",
    "\n",
    "balanced_br('[(a+b)+{(c+d)*(e/f)}]')\n",
    "\n",
    "#'[(a+b)+{(c+d)*(e/f)}]}'"
   ]
  },
  {
   "cell_type": "code",
   "execution_count": null,
   "id": "31aa2f40",
   "metadata": {},
   "outputs": [],
   "source": []
  },
  {
   "cell_type": "code",
   "execution_count": null,
   "id": "b2351888",
   "metadata": {},
   "outputs": [],
   "source": []
  },
  {
   "cell_type": "code",
   "execution_count": null,
   "id": "c4ca72be",
   "metadata": {},
   "outputs": [],
   "source": []
  },
  {
   "cell_type": "code",
   "execution_count": null,
   "id": "a049b8f9",
   "metadata": {},
   "outputs": [],
   "source": [
    "#Next Greater element on the right "
   ]
  },
  {
   "cell_type": "code",
   "execution_count": 21,
   "id": "762fffc5",
   "metadata": {},
   "outputs": [
    {
     "data": {
      "text/plain": [
       "[8, -1, 4, -1]"
      ]
     },
     "execution_count": 21,
     "metadata": {},
     "output_type": "execute_result"
    }
   ],
   "source": [
    "def neartoright(arr):\n",
    "    n = len(arr)\n",
    "    stack = []\n",
    "    temp = []\n",
    "    \n",
    "    for i in range(n-1, -1, -1):\n",
    "        if len(stack) == 0:\n",
    "            temp.append(-1)\n",
    "            \n",
    "        elif len(stack) > 0 and  stack[len(stack) - 1] > arr[i]:\n",
    "            temp.append(stack[len(stack) - 1])\n",
    "        \n",
    "        elif len(stack) > 0 and stack[len(stack) - 1] <= arr[i]:\n",
    "            while len(stack) > 0 and stack[len(stack) - 1] <= arr[i]:\n",
    "                stack.pop()\n",
    "            \n",
    "            if len(stack) == 0:\n",
    "                temp.append(-1)\n",
    "                \n",
    "            else:\n",
    "                temp.append(stack[len(stack) - 1])\n",
    "            \n",
    "        \n",
    "        \n",
    "        \n",
    "        stack.append(arr[i])\n",
    "         \n",
    "    return temp[::-1] #.reverse()\n",
    "\n",
    "\n",
    "neartoright([1,8,2,4])"
   ]
  },
  {
   "cell_type": "code",
   "execution_count": null,
   "id": "ace01a61",
   "metadata": {},
   "outputs": [],
   "source": []
  },
  {
   "cell_type": "code",
   "execution_count": null,
   "id": "a964cecb",
   "metadata": {},
   "outputs": [],
   "source": []
  },
  {
   "cell_type": "code",
   "execution_count": null,
   "id": "5ec7008b",
   "metadata": {},
   "outputs": [],
   "source": []
  },
  {
   "cell_type": "code",
   "execution_count": 22,
   "id": "2ba3a849",
   "metadata": {},
   "outputs": [],
   "source": [
    "#greater to left"
   ]
  },
  {
   "cell_type": "code",
   "execution_count": 23,
   "id": "561d4de6",
   "metadata": {},
   "outputs": [
    {
     "data": {
      "text/plain": [
       "[-1, -1, 3, -1]"
      ]
     },
     "execution_count": 23,
     "metadata": {},
     "output_type": "execute_result"
    }
   ],
   "source": [
    "def neartoleft(arr):\n",
    "    n = len(arr)\n",
    "    stack = []\n",
    "    temp = []\n",
    "    \n",
    "    for i in range(n):\n",
    "        if len(stack) == 0:\n",
    "            temp.append(-1)\n",
    "            \n",
    "        elif len(stack) > 0 and  stack[len(stack) - 1] > arr[i]:\n",
    "            temp.append(stack[len(stack) - 1])\n",
    "        \n",
    "        elif len(stack) > 0 and stack[len(stack) - 1] <= arr[i]:\n",
    "            while len(stack) > 0 and stack[len(stack) - 1] <= arr[i]:\n",
    "                stack.pop()\n",
    "            \n",
    "            if len(stack) == 0:\n",
    "                temp.append(-1)\n",
    "                \n",
    "            else:\n",
    "                temp.append(stack[len(stack) - 1])\n",
    "            \n",
    "        \n",
    "        \n",
    "        \n",
    "        stack.append(arr[i])\n",
    "         \n",
    "    return temp #[::-1] #.reverse()\n",
    "\n",
    "\n",
    "neartoleft([1,3,2,4])"
   ]
  },
  {
   "cell_type": "code",
   "execution_count": null,
   "id": "eb27f65b",
   "metadata": {},
   "outputs": [],
   "source": []
  },
  {
   "cell_type": "code",
   "execution_count": null,
   "id": "d97cb8a1",
   "metadata": {},
   "outputs": [],
   "source": []
  },
  {
   "cell_type": "code",
   "execution_count": null,
   "id": "b905c81f",
   "metadata": {},
   "outputs": [],
   "source": []
  },
  {
   "cell_type": "code",
   "execution_count": 24,
   "id": "9feccadb",
   "metadata": {},
   "outputs": [],
   "source": [
    "# next smaller to left"
   ]
  },
  {
   "cell_type": "code",
   "execution_count": 25,
   "id": "f5ac28db",
   "metadata": {},
   "outputs": [
    {
     "data": {
      "text/plain": [
       "[-1, 4, -1, 2, 2]"
      ]
     },
     "execution_count": 25,
     "metadata": {},
     "output_type": "execute_result"
    }
   ],
   "source": [
    "def smalltoleft(arr):\n",
    "    n = len(arr)\n",
    "    stack = []\n",
    "    temp = []\n",
    "    \n",
    "    for i in range(n):\n",
    "        if len(stack) == 0:\n",
    "            temp.append(-1)\n",
    "            \n",
    "        elif len(stack) > 0  and arr[i] > stack[len(stack) -1] :\n",
    "            temp.append(stack[len(stack) - 1])\n",
    "            \n",
    "        elif len(stack) > 0 and arr[i] <= stack[len(stack) - 1]  :\n",
    "            \n",
    "            while len(stack) > 0 and stack[len(stack) - 1] >= arr[i]:\n",
    "                stack.pop()\n",
    "                \n",
    "            if len(stack) == 0:\n",
    "                    temp.append(-1)\n",
    "            else:\n",
    "                    temp.append(stack[len(stack) - 1])\n",
    "        \n",
    "        \n",
    "        stack.append(arr[i])\n",
    "        \n",
    "    return temp\n",
    "\n",
    "\n",
    "smalltoleft([4,5,2,10,8])"
   ]
  },
  {
   "cell_type": "code",
   "execution_count": null,
   "id": "042cb236",
   "metadata": {},
   "outputs": [],
   "source": []
  },
  {
   "cell_type": "code",
   "execution_count": 26,
   "id": "f3e4738f",
   "metadata": {},
   "outputs": [],
   "source": [
    "#next smaller to right"
   ]
  },
  {
   "cell_type": "code",
   "execution_count": 27,
   "id": "381af35b",
   "metadata": {},
   "outputs": [
    {
     "data": {
      "text/plain": [
       "[2, 2, -1, 8, -1]"
      ]
     },
     "execution_count": 27,
     "metadata": {},
     "output_type": "execute_result"
    }
   ],
   "source": [
    "def smalltoright(arr):\n",
    "    n = len(arr)\n",
    "    stack = []\n",
    "    temp = []\n",
    "    \n",
    "    for i in range(n-1, -1, -1):\n",
    "        if len(stack) == 0:\n",
    "            temp.append(-1)\n",
    "            \n",
    "        elif len(stack) > 0  and arr[i] > stack[len(stack) -1] :\n",
    "            temp.append(stack[len(stack) - 1])\n",
    "            \n",
    "        elif len(stack) > 0 and arr[i] <= stack[len(stack) - 1]  :\n",
    "            \n",
    "            while len(stack) > 0 and stack[len(stack) - 1] >= arr[i]:\n",
    "                stack.pop()\n",
    "                \n",
    "            if len(stack) == 0:\n",
    "                    temp.append(-1)\n",
    "            else:\n",
    "                    temp.append(stack[len(stack) - 1])\n",
    "        \n",
    "        \n",
    "        stack.append(arr[i])\n",
    "        \n",
    "    return temp[::-1]\n",
    "\n",
    "\n",
    "smalltoright([4,5,2,10,8])\n",
    "    "
   ]
  },
  {
   "cell_type": "code",
   "execution_count": null,
   "id": "cfaf7d76",
   "metadata": {},
   "outputs": [],
   "source": []
  },
  {
   "cell_type": "code",
   "execution_count": null,
   "id": "4d5c9f30",
   "metadata": {},
   "outputs": [],
   "source": []
  },
  {
   "cell_type": "code",
   "execution_count": 28,
   "id": "5deff45c",
   "metadata": {},
   "outputs": [],
   "source": [
    "#sliding window"
   ]
  },
  {
   "cell_type": "code",
   "execution_count": 7,
   "id": "36c8f32b",
   "metadata": {},
   "outputs": [
    {
     "data": {
      "text/plain": [
       "([17, 17, 17, 8, 16, 28], 28)"
      ]
     },
     "execution_count": 7,
     "metadata": {},
     "output_type": "execute_result"
    }
   ],
   "source": [
    "def max_arr(arr , n , k):\n",
    "    temp = []\n",
    "    op = []\n",
    "    mx = 0\n",
    "    i = 0\n",
    "    j = 0\n",
    "    \n",
    "    while j <= n:\n",
    "        \n",
    "        if j-i+1 <= k:\n",
    "            \n",
    "            j += 1\n",
    "        else: # j-i + 1 == k:\n",
    "                op.append(max(arr[i:j]))\n",
    "                i += 1\n",
    "                j += 1\n",
    "    \n",
    "    return op , max(arr[i:j])\n",
    "\n",
    "            \n",
    "max_arr([12,-1,17,8,-15,3,16,28] , 8 , 3)"
   ]
  },
  {
   "cell_type": "code",
   "execution_count": null,
   "id": "84c4d698",
   "metadata": {},
   "outputs": [],
   "source": []
  },
  {
   "cell_type": "code",
   "execution_count": null,
   "id": "a1c5aac7",
   "metadata": {},
   "outputs": [],
   "source": []
  },
  {
   "cell_type": "code",
   "execution_count": null,
   "id": "5dae89b6",
   "metadata": {},
   "outputs": [],
   "source": [
    "#celebrity problem"
   ]
  },
  {
   "cell_type": "code",
   "execution_count": 8,
   "id": "d92797fc",
   "metadata": {},
   "outputs": [
    {
     "name": "stdout",
     "output_type": "stream",
     "text": [
      "[1]\n"
     ]
    },
    {
     "data": {
      "text/plain": [
       "1"
      ]
     },
     "execution_count": 8,
     "metadata": {},
     "output_type": "execute_result"
    }
   ],
   "source": [
    "def celebrity( M, n):\n",
    "        st = []\n",
    "        ls = len(st)\n",
    "        \n",
    "        for i in range(n):\n",
    "            st.append(i)\n",
    "            \n",
    "        #print(st , len(st))\n",
    "        \n",
    "        while ls != 1:\n",
    "            if len(st) == 1:\n",
    "                break\n",
    "                \n",
    "            else:\n",
    "            \n",
    "                fe = st.pop()\n",
    "                se = st.pop()\n",
    "                #print(fe , se)\n",
    "                if M[fe][se] == 1:\n",
    "                    st.append(se)\n",
    "            \n",
    "                elif M[se][fe] == 1:\n",
    "                    st.append(fe)\n",
    "                \n",
    "        print(st)\n",
    "        f = st.pop()\n",
    "        \n",
    "        for i in range(n):\n",
    "            if M[f][i] == 1:\n",
    "                return -1\n",
    "                \n",
    "        for i in range(n):\n",
    "            \n",
    "            if M[i][f] == 0 and f != i :\n",
    "                return -1\n",
    "                \n",
    "        return f\n",
    "\n",
    "n = 3\n",
    "M = [[0, 1 ,0],\n",
    "    [0 ,0 ,0], \n",
    "    [0 ,1, 0]]\n",
    "celebrity( M, n)"
   ]
  },
  {
   "cell_type": "code",
   "execution_count": null,
   "id": "a85cad04",
   "metadata": {},
   "outputs": [],
   "source": []
  },
  {
   "cell_type": "code",
   "execution_count": null,
   "id": "fcb26a3d",
   "metadata": {},
   "outputs": [],
   "source": [
    "#merge overlapping"
   ]
  },
  {
   "cell_type": "code",
   "execution_count": 9,
   "id": "7b9d4bb3",
   "metadata": {},
   "outputs": [
    {
     "name": "stdout",
     "output_type": "stream",
     "text": [
      "[[1, 8], [5, 12], [14, 19], [22, 28], [25, 27], [27, 30]]\n"
     ]
    },
    {
     "data": {
      "text/plain": [
       "([1, 22, 25], [12, 19])"
      ]
     },
     "execution_count": 9,
     "metadata": {},
     "output_type": "execute_result"
    }
   ],
   "source": [
    "def merge( arr ):\n",
    "        \n",
    "        arr.sort()\n",
    "        print(arr)\n",
    "        temps = []\n",
    "        tempe = []\n",
    "        i = 0\n",
    "        j = 0\n",
    "        \n",
    "        while i < len(arr)-1 :\n",
    "            \n",
    "            if arr[i][1] >= arr[i+1][0]:\n",
    "                temps.append(arr[i][0])\n",
    "                \n",
    "                \n",
    "            else:\n",
    "                \n",
    "                tempe.append(arr[i][1])\n",
    "                \n",
    "                \n",
    "            i += 1\n",
    "                \n",
    "        return temps , tempe\n",
    "    \n",
    "merge([[22,28],[1,8],[25,27],[14,19],[27,30],[5,12]])"
   ]
  },
  {
   "cell_type": "code",
   "execution_count": null,
   "id": "55ba37e1",
   "metadata": {},
   "outputs": [],
   "source": []
  },
  {
   "cell_type": "code",
   "execution_count": null,
   "id": "471d6e1d",
   "metadata": {},
   "outputs": [],
   "source": []
  },
  {
   "cell_type": "code",
   "execution_count": 42,
   "id": "72cf0813",
   "metadata": {},
   "outputs": [],
   "source": [
    "aa = [[2,3] , [1,2] , [6,7], [5,9]]"
   ]
  },
  {
   "cell_type": "code",
   "execution_count": 43,
   "id": "bd2da31f",
   "metadata": {},
   "outputs": [],
   "source": [
    "aa.sort()"
   ]
  },
  {
   "cell_type": "code",
   "execution_count": 50,
   "id": "ac44ae2c",
   "metadata": {},
   "outputs": [
    {
     "data": {
      "text/plain": [
       "[[1, 2], [2, 3], [5, 9], [6, 7]]"
      ]
     },
     "execution_count": 50,
     "metadata": {},
     "output_type": "execute_result"
    }
   ],
   "source": [
    "aa"
   ]
  },
  {
   "cell_type": "code",
   "execution_count": 52,
   "id": "48a6779c",
   "metadata": {},
   "outputs": [
    {
     "data": {
      "text/plain": [
       "6"
      ]
     },
     "execution_count": 52,
     "metadata": {},
     "output_type": "execute_result"
    }
   ],
   "source": [
    "aa[3][0]"
   ]
  },
  {
   "cell_type": "code",
   "execution_count": null,
   "id": "a8e72282",
   "metadata": {},
   "outputs": [],
   "source": []
  },
  {
   "cell_type": "code",
   "execution_count": null,
   "id": "15756fb8",
   "metadata": {},
   "outputs": [],
   "source": []
  },
  {
   "cell_type": "code",
   "execution_count": null,
   "id": "58ceb06a",
   "metadata": {},
   "outputs": [],
   "source": []
  },
  {
   "cell_type": "code",
   "execution_count": 51,
   "id": "c8aab99e",
   "metadata": {},
   "outputs": [
    {
     "name": "stdout",
     "output_type": "stream",
     "text": [
      "2\n",
      "3\n",
      "5\n",
      "10\n"
     ]
    }
   ],
   "source": [
    "def min_stack(arr):\n",
    "    all_data = []\n",
    "    min_data = []\n",
    "    \n",
    "    for i in range(len(arr)):\n",
    "        \n",
    "        all_data.append(arr[i])\n",
    "        \n",
    "        if len(min_data) == 0:\n",
    "            min_data.append(arr[i])\n",
    "            \n",
    "        elif min_data[-1] > arr[i]:\n",
    "            min_data.append(arr[i])\n",
    "            \n",
    "            \n",
    "    return min_val(arr , all_data , min_data)\n",
    "\n",
    "\n",
    "def min_val(arr , all_data, min_data):\n",
    "    if len(all_data) == 0:\n",
    "        return -1\n",
    "    \n",
    "    while len(all_data) > 0:\n",
    "        if all_data[-1] == min_data[-1]:\n",
    "            print(min_data.pop())\n",
    "            \n",
    "        all_data.pop()\n",
    "\n",
    "min_stack([10,20,30,5,8,12,3,16,2,14])"
   ]
  },
  {
   "cell_type": "code",
   "execution_count": null,
   "id": "28d5a77c",
   "metadata": {},
   "outputs": [],
   "source": []
  },
  {
   "cell_type": "code",
   "execution_count": null,
   "id": "968886cd",
   "metadata": {},
   "outputs": [],
   "source": []
  },
  {
   "cell_type": "code",
   "execution_count": null,
   "id": "de5dab3f",
   "metadata": {},
   "outputs": [],
   "source": []
  },
  {
   "cell_type": "code",
   "execution_count": 3,
   "id": "559fe856",
   "metadata": {},
   "outputs": [],
   "source": [
    "aa = []"
   ]
  },
  {
   "cell_type": "code",
   "execution_count": 4,
   "id": "8769bbab",
   "metadata": {},
   "outputs": [],
   "source": [
    "aa.append(9)"
   ]
  },
  {
   "cell_type": "code",
   "execution_count": 5,
   "id": "21ac6d04",
   "metadata": {},
   "outputs": [
    {
     "data": {
      "text/plain": [
       "[9]"
      ]
     },
     "execution_count": 5,
     "metadata": {},
     "output_type": "execute_result"
    }
   ],
   "source": [
    "aa"
   ]
  },
  {
   "cell_type": "code",
   "execution_count": 6,
   "id": "8d7d3dfe",
   "metadata": {},
   "outputs": [],
   "source": [
    "aa.append(10)"
   ]
  },
  {
   "cell_type": "code",
   "execution_count": 7,
   "id": "0fcb328b",
   "metadata": {},
   "outputs": [
    {
     "data": {
      "text/plain": [
       "[9, 10]"
      ]
     },
     "execution_count": 7,
     "metadata": {},
     "output_type": "execute_result"
    }
   ],
   "source": [
    "aa\n"
   ]
  },
  {
   "cell_type": "code",
   "execution_count": 9,
   "id": "9b3543d2",
   "metadata": {},
   "outputs": [
    {
     "data": {
      "text/plain": [
       "10"
      ]
     },
     "execution_count": 9,
     "metadata": {},
     "output_type": "execute_result"
    }
   ],
   "source": [
    "aa.pop()"
   ]
  },
  {
   "cell_type": "code",
   "execution_count": 10,
   "id": "b1ba60f2",
   "metadata": {},
   "outputs": [
    {
     "data": {
      "text/plain": [
       "[9]"
      ]
     },
     "execution_count": 10,
     "metadata": {},
     "output_type": "execute_result"
    }
   ],
   "source": [
    "aa"
   ]
  },
  {
   "cell_type": "code",
   "execution_count": null,
   "id": "54427c85",
   "metadata": {},
   "outputs": [],
   "source": []
  },
  {
   "cell_type": "code",
   "execution_count": null,
   "id": "031233bb",
   "metadata": {},
   "outputs": [],
   "source": []
  }
 ],
 "metadata": {
  "kernelspec": {
   "display_name": "Python 3",
   "language": "python",
   "name": "python3"
  },
  "language_info": {
   "codemirror_mode": {
    "name": "ipython",
    "version": 3
   },
   "file_extension": ".py",
   "mimetype": "text/x-python",
   "name": "python",
   "nbconvert_exporter": "python",
   "pygments_lexer": "ipython3",
   "version": "3.8.10"
  }
 },
 "nbformat": 4,
 "nbformat_minor": 5
}
