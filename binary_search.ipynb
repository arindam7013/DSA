{
 "cells": [
  {
   "cell_type": "code",
   "execution_count": null,
   "metadata": {},
   "outputs": [],
   "source": [
    "db = [4,5,6,8,9,10]"
   ]
  },
  {
   "cell_type": "code",
   "execution_count": null,
   "metadata": {},
   "outputs": [],
   "source": [
    "#iterative approach\n",
    "\n",
    "def bs(db, value):\n",
    "    start = 0\n",
    "    end = len(db) -1 \n",
    "    mid = int((start+end)/2)\n",
    "    while not(db[mid] == value):    \n",
    "        if db[mid]> value:\n",
    "            end = mid - 1\n",
    "            mid = int((start+end)/2)\n",
    "        \n",
    "        elif db[mid] < value:\n",
    "            start = mid + 1\n",
    "            mid = int((start+end)/2)\n",
    "        else:\n",
    "            break\n",
    "        \n",
    "    if db[mid] == value:\n",
    "            print(\"found at the position position\", mid)\n",
    "    else:\n",
    "        print(mid)\n",
    "    #return found"
   ]
  },
  {
   "cell_type": "code",
   "execution_count": null,
   "metadata": {},
   "outputs": [],
   "source": [
    "bs(db, 7)\n",
    "    "
   ]
  },
  {
   "cell_type": "code",
   "execution_count": 15,
   "metadata": {},
   "outputs": [],
   "source": [
    "#recursive approach\n",
    "\n",
    "def bs_r(db, start, end, value):\n",
    "    #start = 0\n",
    "   # end = len(db) - 1\n",
    "    \n",
    "    \n",
    "    if end >= start:\n",
    "        mid = int((start + end)/2)\n",
    "        \n",
    "        if db[mid] == value:\n",
    "            return mid\n",
    "        \n",
    "        elif db[mid]>value:\n",
    "            return bs_r(db, start, mid-1, value)\n",
    "            \n",
    "        else:\n",
    "            return bs_r(db, mid+1, end, value)\n",
    "    else:\n",
    "        return -1\n",
    "        \n",
    "    \n",
    "    "
   ]
  },
  {
   "cell_type": "code",
   "execution_count": 16,
   "metadata": {},
   "outputs": [
    {
     "name": "stdout",
     "output_type": "stream",
     "text": [
      "not found\n"
     ]
    }
   ],
   "source": [
    "ans = bs_r(db, 0, len(db)-1, 7)\n",
    "if ans != -1:\n",
    "    print(\"found at \", str(ans))\n",
    "else:\n",
    "    print(\"not found\")"
   ]
  },
  {
   "cell_type": "code",
   "execution_count": null,
   "metadata": {},
   "outputs": [],
   "source": []
  },
  {
   "cell_type": "code",
   "execution_count": null,
   "metadata": {},
   "outputs": [],
   "source": []
  },
  {
   "cell_type": "code",
   "execution_count": null,
   "metadata": {},
   "outputs": [],
   "source": []
  },
  {
   "cell_type": "code",
   "execution_count": null,
   "metadata": {},
   "outputs": [],
   "source": []
  },
  {
   "cell_type": "code",
   "execution_count": null,
   "metadata": {},
   "outputs": [],
   "source": []
  },
  {
   "cell_type": "code",
   "execution_count": null,
   "metadata": {},
   "outputs": [],
   "source": []
  },
  {
   "cell_type": "code",
   "execution_count": null,
   "metadata": {},
   "outputs": [],
   "source": []
  },
  {
   "cell_type": "code",
   "execution_count": null,
   "metadata": {},
   "outputs": [],
   "source": []
  },
  {
   "cell_type": "code",
   "execution_count": null,
   "metadata": {},
   "outputs": [],
   "source": []
  }
 ],
 "metadata": {
  "kernelspec": {
   "display_name": "Python 3",
   "language": "python",
   "name": "python3"
  },
  "language_info": {
   "codemirror_mode": {
    "name": "ipython",
    "version": 3
   },
   "file_extension": ".py",
   "mimetype": "text/x-python",
   "name": "python",
   "nbconvert_exporter": "python",
   "pygments_lexer": "ipython3",
   "version": "3.8.10"
  }
 },
 "nbformat": 4,
 "nbformat_minor": 4
}
