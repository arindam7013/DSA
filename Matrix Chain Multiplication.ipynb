{
 "cells": [
  {
   "cell_type": "code",
   "execution_count": 14,
   "id": "406abd8e",
   "metadata": {},
   "outputs": [
    {
     "data": {
      "text/plain": [
       "26000"
      ]
     },
     "execution_count": 14,
     "metadata": {},
     "output_type": "execute_result"
    }
   ],
   "source": [
    "memo = [[-1 for i in range(100)] for j in range(100)]\n",
    "# with memoization\n",
    "def solve(arr , i , j):\n",
    "    \n",
    "    if i>= j:\n",
    "        return 0\n",
    "    if memo[i][j] != -1:\n",
    "        return memo[i][j]\n",
    "    \n",
    "    memo[i][j] = float('inf')\n",
    "    for k in range(i , j):\n",
    "        temp = solve(arr , i , k) + solve(arr , k+1 , j) + (arr[i-1] * arr[k] * arr[j] )\n",
    "    \n",
    "        memo[i][j] = min(temp , memo[i][j])\n",
    "        \n",
    "        \n",
    "    return memo[i][j] \n",
    "\n",
    "solve([40,20,30,10,30] , 1 , 4)"
   ]
  },
  {
   "cell_type": "code",
   "execution_count": 15,
   "id": "2500d9ac",
   "metadata": {},
   "outputs": [
    {
     "data": {
      "text/plain": [
       "26000"
      ]
     },
     "execution_count": 15,
     "metadata": {},
     "output_type": "execute_result"
    }
   ],
   "source": [
    "\n",
    "#without memo\n",
    "def solvem(arr , i , j):\n",
    "    \n",
    "    if i>= j:\n",
    "        return 0\n",
    "    mn = float('inf')\n",
    "    for k in range(i , j):\n",
    "        temp = solvem(arr , i , k) + solvem(arr , k+1 , j) + (arr[i-1] * arr[k] * arr[j] )\n",
    "    \n",
    "        mn = min(temp , mn)\n",
    "        \n",
    "        \n",
    "    return mn \n",
    "\n",
    "solvem([40,20,30,10,30] , 1 , 4)"
   ]
  },
  {
   "cell_type": "code",
   "execution_count": null,
   "id": "58934bef",
   "metadata": {},
   "outputs": [],
   "source": []
  },
  {
   "cell_type": "code",
   "execution_count": null,
   "id": "1e89c986",
   "metadata": {},
   "outputs": [],
   "source": []
  },
  {
   "cell_type": "code",
   "execution_count": null,
   "id": "4cffd5a9",
   "metadata": {},
   "outputs": [],
   "source": [
    "def isPalindrome(arr, i, j):\n",
    "    if i>j or len(arr) == 1:\n",
    "        return True\n",
    "    while i < j:\n",
    "        if arr[i] != arr[j]:\n",
    "            return False\n",
    "        i += 1\n",
    "        j -= 1\n",
    "            \n",
    "    return True\n"
   ]
  },
  {
   "cell_type": "code",
   "execution_count": 43,
   "id": "305bcaa8",
   "metadata": {},
   "outputs": [
    {
     "data": {
      "text/plain": [
       "False"
      ]
     },
     "execution_count": 43,
     "metadata": {},
     "output_type": "execute_result"
    }
   ],
   "source": [
    "string = 'ababbbabbababa'\n",
    "isPalindrome(string, 0, len(string)-1)"
   ]
  },
  {
   "cell_type": "code",
   "execution_count": 45,
   "id": "c13aef5b",
   "metadata": {},
   "outputs": [
    {
     "data": {
      "text/plain": [
       "3"
      ]
     },
     "execution_count": 45,
     "metadata": {},
     "output_type": "execute_result"
    }
   ],
   "source": [
    "memo = [[-1 for i in range(100)] for j in range(100)]\n",
    "# with memoization\n",
    "\n",
    "def palindromic_partition(arr , i , j):\n",
    "    \n",
    "    if i>= j :\n",
    "        return 0\n",
    "    if (isPalindrome(arr , i, j )) == True:\n",
    "        return 0\n",
    "    if memo[i][j] != -1:\n",
    "        return memo[i][j]\n",
    "    \n",
    "    memo[i][j] = float('inf')\n",
    "    for k in range(i , j+1):\n",
    "        temp = palindromic_partition(arr , i , k) + palindromic_partition(arr , k+1 , j) + 1\n",
    "    \n",
    "        memo[i][j] = min(temp , memo[i][j])\n",
    "        \n",
    "     \n",
    "    return memo[i][j]\n",
    "\n",
    "\n",
    "arr = 'ababbbabbababa'\n",
    "palindromic_partition(arr , 0 , len(arr)-1)"
   ]
  },
  {
   "cell_type": "code",
   "execution_count": null,
   "id": "b0c59e28",
   "metadata": {},
   "outputs": [],
   "source": []
  },
  {
   "cell_type": "code",
   "execution_count": 12,
   "id": "cb787f80",
   "metadata": {},
   "outputs": [
    {
     "name": "stdout",
     "output_type": "stream",
     "text": [
      "abababbabbbaba\n"
     ]
    },
    {
     "data": {
      "text/plain": [
       "13"
      ]
     },
     "execution_count": 12,
     "metadata": {},
     "output_type": "execute_result"
    }
   ],
   "source": [
    "\n",
    "# without memoization\n",
    "\n",
    "def final(arr, N):\n",
    "    hh = isPal(arr)\n",
    "    if hh == False:\n",
    "        print(hh)\n",
    "        return 0\n",
    "    else:\n",
    "        return palindromic_partition(arr , 0 , len(arr) - 1)\n",
    "def isPal(arr):\n",
    "    t = arr[::-1]\n",
    "    print(t)\n",
    "    if t == arr:\n",
    "        return False\n",
    "    \n",
    "def palindromic_partition(arr , i , j):\n",
    "    \n",
    "    if i >= j:\n",
    "        return 0\n",
    "    \n",
    "    \n",
    "    mn = float('inf')\n",
    "    for k in range(i , j):\n",
    "        temp = palindromic_partition(arr , i , k) + palindromic_partition(arr , k+1 , j) + 1\n",
    "    \n",
    "        mn = min(temp , mn)\n",
    "        \n",
    "        \n",
    "    return mn \n",
    "\n",
    "final('ababbbabbababa' , 14)"
   ]
  },
  {
   "cell_type": "code",
   "execution_count": 21,
   "id": "3160f7a0",
   "metadata": {},
   "outputs": [],
   "source": []
  },
  {
   "cell_type": "code",
   "execution_count": 30,
   "id": "f5e62c0e",
   "metadata": {},
   "outputs": [
    {
     "data": {
      "text/plain": [
       "False"
      ]
     },
     "execution_count": 30,
     "metadata": {},
     "output_type": "execute_result"
    }
   ],
   "source": []
  },
  {
   "cell_type": "code",
   "execution_count": null,
   "id": "d0b60d68",
   "metadata": {},
   "outputs": [],
   "source": []
  },
  {
   "cell_type": "code",
   "execution_count": null,
   "id": "09ae1838",
   "metadata": {},
   "outputs": [],
   "source": []
  },
  {
   "cell_type": "code",
   "execution_count": null,
   "id": "ccfacc40",
   "metadata": {},
   "outputs": [],
   "source": []
  }
 ],
 "metadata": {
  "kernelspec": {
   "display_name": "Python 3",
   "language": "python",
   "name": "python3"
  },
  "language_info": {
   "codemirror_mode": {
    "name": "ipython",
    "version": 3
   },
   "file_extension": ".py",
   "mimetype": "text/x-python",
   "name": "python",
   "nbconvert_exporter": "python",
   "pygments_lexer": "ipython3",
   "version": "3.8.10"
  }
 },
 "nbformat": 4,
 "nbformat_minor": 5
}
