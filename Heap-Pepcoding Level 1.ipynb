{
 "cells": [
  {
   "cell_type": "code",
   "execution_count": 75,
   "id": "403560a3",
   "metadata": {},
   "outputs": [],
   "source": [
    "class BT_heap:\n",
    "    def __init__(self, data):\n",
    "        self.data = data\n",
    "        self.leftchild = None\n",
    "        self.rightchild = None"
   ]
  },
  {
   "cell_type": "code",
   "execution_count": 78,
   "id": "afe3ab43",
   "metadata": {},
   "outputs": [
    {
     "name": "stdout",
     "output_type": "stream",
     "text": [
      "popped-> 10\n",
      "popped-> 15\n",
      "popped-> 21\n",
      "popped-> 30\n",
      "popped-> 18\n",
      "popped-> 19\n"
     ]
    }
   ],
   "source": [
    "def create_tree(arr, rootnode, i, n):\n",
    "            #self.rootnode= rootnode\n",
    "            if i<n:\n",
    "                temp = BT(arr[i])\n",
    "                rootnode = temp\n",
    "                rootnode.leftchild = create_tree(arr, rootnode.leftchild, 2*i + 1, n)\n",
    "                rootnode.rightchild = create_tree(arr, rootnode.rightchild, 2*i + 2, n)\n",
    "             \n",
    "            return rootnode\n",
    "                \n",
    "            \n",
    "        \n",
    "            \n",
    "            \n",
    "def pre_treverse( rootnode):\n",
    "        if rootnode == None:\n",
    "            return\n",
    "        print(rootnode.data)\n",
    "        pre_treverse(rootnode.leftchild)\n",
    "        pre_treverse(rootnode.rightchild)\n",
    "        \n",
    "        \n",
    "        \n",
    "        \n",
    "def level_order( root):\n",
    "        q = [root]\n",
    "        visited = [root]\n",
    "        sum = 0\n",
    "        while len(q) != 0:\n",
    "            p = q.pop(0)\n",
    "            sum=sum +1\n",
    "            print(\"popped->\", p.data)\n",
    "            \n",
    "            if p.leftchild is not None:\n",
    "                q.append(p.leftchild)\n",
    "            if p.rightchild is not None:\n",
    "                q.append(p.rightchild)\n",
    "        \n",
    "            \n",
    "if __name__ == '__main__':\n",
    "        arr = [10,15,21,30,18,19]\n",
    "        n = len(arr)\n",
    "        root = None\n",
    "        root = create_tree(arr, root, 0, n)\n",
    "        level_order(root)       \n",
    "        "
   ]
  },
  {
   "cell_type": "code",
   "execution_count": null,
   "id": "72b6c55c",
   "metadata": {},
   "outputs": [],
   "source": [
    "def maxHeap(rootnode):\n",
    "    if rootnode == None:\n",
    "        return\n",
    "    if rootnode.leftchild > rootnode and rootnode.leftchild > rootnode.rightchild:\n",
    "        rootnode.leftchild = maxHeap(rootnode.leftchild)\n",
    "        \n",
    "    if rootnode.rightchild > rootnode and rootnode.rightchild > rootnode.leftchild:\n",
    "        rootnode.rightchild = maxHeap(rootnode.rightchild)\n",
    "    \n",
    "    if rootnode.leftchild\n",
    "    "
   ]
  },
  {
   "cell_type": "code",
   "execution_count": null,
   "id": "7b1beef4",
   "metadata": {},
   "outputs": [],
   "source": []
  },
  {
   "cell_type": "code",
   "execution_count": null,
   "id": "97a1d843",
   "metadata": {},
   "outputs": [],
   "source": []
  },
  {
   "cell_type": "code",
   "execution_count": null,
   "id": "e476ce53",
   "metadata": {},
   "outputs": [],
   "source": []
  },
  {
   "cell_type": "code",
   "execution_count": null,
   "id": "6f58fc43",
   "metadata": {},
   "outputs": [],
   "source": []
  },
  {
   "cell_type": "code",
   "execution_count": null,
   "id": "d5fd4594",
   "metadata": {},
   "outputs": [],
   "source": []
  },
  {
   "cell_type": "code",
   "execution_count": null,
   "id": "7694742a",
   "metadata": {},
   "outputs": [],
   "source": []
  },
  {
   "cell_type": "code",
   "execution_count": 88,
   "id": "2c4a015e",
   "metadata": {},
   "outputs": [
    {
     "name": "stdout",
     "output_type": "stream",
     "text": [
      "[1, 2, 5, 4, 3, 9, 8, 10, 7, 6]\n"
     ]
    }
   ],
   "source": []
  },
  {
   "cell_type": "code",
   "execution_count": 1,
   "id": "6c3a4674",
   "metadata": {},
   "outputs": [
    {
     "name": "stdout",
     "output_type": "stream",
     "text": [
      "[8, 1, 21, 78, 3, 5, 45]\n",
      "[1, 3, 5, 78, 8, 21, 45]\n",
      "-> [3, 8, 5, 78, 45, 21]\n",
      "[5, 8, 6, 78, 45, 21]\n",
      "[78, 45, 21, 8, 5, 6]\n"
     ]
    }
   ],
   "source": [
    "import heapq\n",
    "\n",
    "H = [21,1,45,78,3,5]\n",
    "\n",
    "\n",
    "heapq.heappush(H,8)\n",
    "print(H)\n",
    "\n",
    "\n",
    "heapq.heapify(H)\n",
    "print(H)\n",
    "\n",
    "\n",
    "heapq.heappop(H)\n",
    "print('->',H)\n",
    "\n",
    "\n",
    "\n",
    "#The heap replace function always removes the smallest element of the heap \n",
    "#and inserts the new incoming element at some place not fixed by any order.\n",
    "heapq.heapreplace(H,6)\n",
    "print(H)\n",
    "\n",
    "\n",
    "\n",
    "heapq._heapify_max(H)\n",
    "print(H)"
   ]
  },
  {
   "cell_type": "code",
   "execution_count": null,
   "id": "eb9b71ca",
   "metadata": {},
   "outputs": [],
   "source": []
  },
  {
   "cell_type": "code",
   "execution_count": 15,
   "id": "d5d1623f",
   "metadata": {},
   "outputs": [
    {
     "name": "stdout",
     "output_type": "stream",
     "text": [
      "1\n",
      "2\n",
      "5\n",
      "9\n",
      "33\n",
      "67\n",
      "90\n"
     ]
    },
    {
     "data": {
      "text/plain": [
       "[]"
      ]
     },
     "execution_count": 15,
     "metadata": {},
     "output_type": "execute_result"
    }
   ],
   "source": [
    "import heapq\n",
    "def hp(arr):\n",
    "    temp = []\n",
    "    \n",
    "    for i in arr:\n",
    "        heapq.heappush(temp , i)\n",
    "    \n",
    "    while len(temp) > 0:\n",
    "        print(temp[0])\n",
    "        heapq.heappop(temp)\n",
    "    return temp\n",
    "        \n",
    "\n",
    "hp([5,2,9,67,33,1,90])\n",
    "    "
   ]
  },
  {
   "cell_type": "code",
   "execution_count": null,
   "id": "53fc39b2",
   "metadata": {},
   "outputs": [],
   "source": [
    "###########PEPCODING START##############"
   ]
  },
  {
   "cell_type": "code",
   "execution_count": null,
   "id": "84c1bc6a",
   "metadata": {},
   "outputs": [],
   "source": [
    "#How to find K Largest Elements in an Array - Solution"
   ]
  },
  {
   "cell_type": "code",
   "execution_count": 1,
   "id": "786c1e25",
   "metadata": {},
   "outputs": [
    {
     "data": {
      "text/plain": [
       "[10, 17, 18]"
      ]
     },
     "execution_count": 1,
     "metadata": {},
     "output_type": "execute_result"
    }
   ],
   "source": [
    "import heapq\n",
    "\n",
    "def k_largest(arr , k):\n",
    "    temp = []\n",
    "    \n",
    "    i = 0\n",
    "    while i < k:\n",
    "        heapq.heappush(temp , arr[i])\n",
    "        i += 1\n",
    "        \n",
    "        \n",
    "    i = k\n",
    "    \n",
    "    while i < len(arr):\n",
    "        if temp[0] < arr[i]:\n",
    "            heapq.heappop(temp)\n",
    "            heapq.heappush(temp , arr[i])\n",
    "            \n",
    "        i += 1\n",
    "            \n",
    "    return temp\n",
    "\n",
    "k_largest([2,10,5,17,7,18,6,4] , 3)\n",
    "    \n",
    "    \n",
    "    "
   ]
  },
  {
   "cell_type": "code",
   "execution_count": null,
   "id": "a5c2589e",
   "metadata": {},
   "outputs": [],
   "source": [
    "# How to Sort a nearly Sorted Array - Solution "
   ]
  },
  {
   "cell_type": "code",
   "execution_count": 34,
   "id": "4ebe7281",
   "metadata": {},
   "outputs": [
    {
     "name": "stdout",
     "output_type": "stream",
     "text": [
      "1\n",
      "2\n",
      "3\n",
      "4\n",
      "5\n",
      "6\n",
      "7\n",
      "8\n",
      "9\n"
     ]
    }
   ],
   "source": [
    "import heapq\n",
    "\n",
    "def k_nearly_sorted(arr , k):\n",
    "    temp = []\n",
    "    \n",
    "    i = 0\n",
    "    \n",
    "    while i < k+1:\n",
    "        heapq.heappush(temp , arr[i])\n",
    "        i += 1\n",
    "    \n",
    "        \n",
    "    i = k + 1\n",
    "    \n",
    "    while i < len(arr):\n",
    "        print(temp[0])\n",
    "        heapq.heappop(temp)\n",
    "        \n",
    "        heapq.heappush(temp , arr[i])\n",
    "        \n",
    "        i += 1\n",
    "        \n",
    "    while len(temp) > 0:\n",
    "        print(temp[0])\n",
    "        heapq.heappop(temp)\n",
    "    \n",
    "        \n",
    "k_nearly_sorted([2,3,1,4,6,7,5,8,9] , 2)    \n",
    "    "
   ]
  },
  {
   "cell_type": "code",
   "execution_count": null,
   "id": "4c12b63d",
   "metadata": {},
   "outputs": [],
   "source": []
  },
  {
   "cell_type": "code",
   "execution_count": 35,
   "id": "df1da0ac",
   "metadata": {},
   "outputs": [],
   "source": [
    "#Median Priority Queue - Solution\n",
    "# max heap = heapq._heapify_max(H)\n",
    "#heapq.heappop(temp)"
   ]
  },
  {
   "cell_type": "code",
   "execution_count": 40,
   "id": "174dfc7a",
   "metadata": {},
   "outputs": [
    {
     "name": "stdout",
     "output_type": "stream",
     "text": [
      "[10] []\n",
      "[40, 10] [10]\n"
     ]
    },
    {
     "data": {
      "text/plain": [
       "([10, 40], [10, 40])"
      ]
     },
     "execution_count": 40,
     "metadata": {},
     "output_type": "execute_result"
    }
   ],
   "source": [
    "def median(arr):\n",
    "    left = []\n",
    "    right = []\n",
    "    \n",
    "    for i in range(len(arr)):\n",
    "        if len(left) == len(right):\n",
    "            heapq.heappush(left , arr[i])\n",
    "            heapq._heapify_max(left)\n",
    "            \n",
    "            print(left , right)\n",
    "            \n",
    "        elif len(left) - len(right) >= 2:\n",
    "            heapq.heappush(right , left[0])\n",
    "            heapq.heappop(left)\n",
    "            \n",
    "        elif len(right) - len(left) >= 2:\n",
    "            heapq.heappush(left , right[0])\n",
    "            heapq.heappop(right)\n",
    "            \n",
    "        elif len(right) != 0 and arr[i] > right[0] :\n",
    "            heapq.heappush(right , arr[i])\n",
    "            \n",
    "        else:\n",
    "            heapq.heappush(left , left[0])\n",
    "            \n",
    "        \n",
    "    return left , right\n",
    "\n",
    "median([10,20,30,40,5,50])\n",
    "            \n",
    "            \n",
    "        \n",
    "    "
   ]
  },
  {
   "cell_type": "code",
   "execution_count": null,
   "id": "c36ff0d2",
   "metadata": {},
   "outputs": [],
   "source": []
  },
  {
   "cell_type": "code",
   "execution_count": null,
   "id": "25f07ce7",
   "metadata": {},
   "outputs": [],
   "source": [
    "#Merge K sorted Lists - Solution\n",
    "\n",
    "\n",
    "\n",
    "# max heap = heapq._heapify_max(H)\n",
    "#heapq.heappop(temp)\n",
    "#heapq.heappush(right , left[0])\n",
    "#heapq.heappop(left)"
   ]
  },
  {
   "cell_type": "code",
   "execution_count": null,
   "id": "7117b32c",
   "metadata": {},
   "outputs": [],
   "source": [
    "def merge(arr1, arr2, arr3, arr4):\n",
    "    \n",
    "    mm = max(len(arr1) , len(arr2) , len(arr3) , len(arr4))\n",
    "    temp = []\n",
    "    heapq.heappush(temp , arr1[0])\n",
    "    heapq.heappush(temp , arr2[0])\n",
    "    heapq.heappush(temp , arr3[0])\n",
    "    heapq.heappush(temp , arr4[0])\n",
    "    f = []\n",
    "    \n",
    "    i = 1\n",
    "    j = 1\n",
    "    k = 1\n",
    "    l = 1\n",
    "    \n",
    "    while i < mm or j < mm or k< mm or l < mm:\n",
    "        \n",
    "        \n",
    "        \n",
    "    \n",
    "    \n",
    "    \n",
    "    \n",
    "    \n",
    "    "
   ]
  },
  {
   "cell_type": "code",
   "execution_count": null,
   "id": "a61f49c8",
   "metadata": {},
   "outputs": [],
   "source": []
  },
  {
   "cell_type": "code",
   "execution_count": null,
   "id": "5c0121c5",
   "metadata": {},
   "outputs": [],
   "source": []
  },
  {
   "cell_type": "code",
   "execution_count": 54,
   "id": "05239145",
   "metadata": {},
   "outputs": [],
   "source": [
    "a = [4,3,2,1]\n",
    "a.sort()"
   ]
  },
  {
   "cell_type": "code",
   "execution_count": 55,
   "id": "b7de5007",
   "metadata": {},
   "outputs": [
    {
     "name": "stdout",
     "output_type": "stream",
     "text": [
      "[1, 2, 3, 4]\n"
     ]
    }
   ],
   "source": [
    "print(a)"
   ]
  },
  {
   "cell_type": "code",
   "execution_count": null,
   "id": "08ea9a94",
   "metadata": {},
   "outputs": [],
   "source": []
  },
  {
   "cell_type": "code",
   "execution_count": null,
   "id": "f4cbf827",
   "metadata": {},
   "outputs": [],
   "source": []
  },
  {
   "cell_type": "code",
   "execution_count": null,
   "id": "f898f9cf",
   "metadata": {},
   "outputs": [],
   "source": []
  },
  {
   "cell_type": "code",
   "execution_count": 64,
   "id": "7e81bd8b",
   "metadata": {},
   "outputs": [
    {
     "data": {
      "text/plain": [
       "10"
      ]
     },
     "execution_count": 64,
     "metadata": {},
     "output_type": "execute_result"
    }
   ],
   "source": [
    "def ff(arr1 , k):\n",
    "    arr = arr1\n",
    "    i = 0\n",
    "    j = (len(arr1) - 1)\n",
    "    arr.sort()\n",
    "    count = 0\n",
    "    \n",
    "    sum = 0\n",
    "    while i < j:\n",
    "        if arr[i] < arr[j] and ((arr[j] - arr[i]) // k == 0):\n",
    "            count += 1\n",
    "            sum = sum + (arr1[i] * arr1[j])\n",
    "         \n",
    "        \n",
    "            \n",
    "        i += 1\n",
    "        j -= 1\n",
    "            \n",
    "    return sum\n",
    "\n",
    "\n",
    "ff([2,3,5,1,5] , 4)\n",
    "            \n",
    "    \n",
    "            "
   ]
  },
  {
   "cell_type": "code",
   "execution_count": 60,
   "id": "b275a96e",
   "metadata": {},
   "outputs": [
    {
     "data": {
      "text/plain": [
       "0"
      ]
     },
     "execution_count": 60,
     "metadata": {},
     "output_type": "execute_result"
    }
   ],
   "source": [
    "ff([7,8,2,3,1] , 3)"
   ]
  },
  {
   "cell_type": "code",
   "execution_count": null,
   "id": "3ac743af",
   "metadata": {},
   "outputs": [],
   "source": []
  },
  {
   "cell_type": "code",
   "execution_count": 63,
   "id": "930329b4",
   "metadata": {},
   "outputs": [
    {
     "name": "stdout",
     "output_type": "stream",
     "text": [
      "[1, 2]\n",
      "[1, 2]\n",
      "[2, 1]\n",
      "[5, 7, 11, 10]\n",
      "[5, 7, 11, 10]\n",
      "[10, 7, 11, 5]\n"
     ]
    }
   ],
   "source": [
    "from heapq import *\n",
    "from collections import Counter\n",
    "\n",
    "\n",
    "# T=nlogn,S=1\n",
    "\n",
    "def x(nums, k):\n",
    "    freq = Counter(nums)\n",
    "    return sorted(freq.keys(), key=freq.get, reverse=True)[:k]\n",
    "\n",
    "\n",
    "# T=nlogk,S=k\n",
    "def y(nums, k):\n",
    "    freq = Counter(nums)\n",
    "    return nlargest(k, freq.keys(), key=freq.get)\n",
    "\n",
    "\n",
    "# T=nlogk,S=k\n",
    "def z(nums, k):\n",
    "    heap = []\n",
    "    for val, count in Counter(nums).items():\n",
    "        heappush(heap, (count, val))\n",
    "        if len(heap) > k:\n",
    "            heappop(heap)\n",
    "    return [val for _, val in heap]\n",
    "\n",
    "\n",
    "for nums, k in [\n",
    "    ([1, 1, 1, 2, 2, 3], 2),\n",
    "    ([7, 10, 11, 5, 2, 5, 5, 7, 11, 8, 9], 4)\n",
    "]:\n",
    "    print(x(nums, k))\n",
    "    print(y(nums, k))\n",
    "    print(z(nums, k))"
   ]
  },
  {
   "cell_type": "code",
   "execution_count": null,
   "id": "01464664",
   "metadata": {},
   "outputs": [],
   "source": []
  },
  {
   "cell_type": "code",
   "execution_count": null,
   "id": "1a211e2c",
   "metadata": {},
   "outputs": [],
   "source": []
  },
  {
   "cell_type": "code",
   "execution_count": null,
   "id": "fecb8436",
   "metadata": {},
   "outputs": [],
   "source": []
  },
  {
   "cell_type": "code",
   "execution_count": null,
   "id": "4f1a80c6",
   "metadata": {},
   "outputs": [],
   "source": []
  }
 ],
 "metadata": {
  "kernelspec": {
   "display_name": "Python 3",
   "language": "python",
   "name": "python3"
  },
  "language_info": {
   "codemirror_mode": {
    "name": "ipython",
    "version": 3
   },
   "file_extension": ".py",
   "mimetype": "text/x-python",
   "name": "python",
   "nbconvert_exporter": "python",
   "pygments_lexer": "ipython3",
   "version": "3.8.10"
  }
 },
 "nbformat": 4,
 "nbformat_minor": 5
}
