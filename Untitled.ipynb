{
 "cells": [
  {
   "cell_type": "code",
   "execution_count": 6,
   "id": "26b52c51",
   "metadata": {},
   "outputs": [],
   "source": [
    "# Recurrence Relation: Binary search with recursion"
   ]
  },
  {
   "cell_type": "code",
   "execution_count": 7,
   "id": "87e5b8d4",
   "metadata": {},
   "outputs": [],
   "source": [
    "a = [2,4,6,8,10]"
   ]
  },
  {
   "cell_type": "code",
   "execution_count": null,
   "id": "cc0c83a7",
   "metadata": {},
   "outputs": [],
   "source": []
  },
  {
   "cell_type": "code",
   "execution_count": 8,
   "id": "78fa3474",
   "metadata": {},
   "outputs": [],
   "source": [
    "def binary_srch_recur(a, s, e, k):\n",
    "    mid = (s + e)//2\n",
    "    if a[mid] == k:\n",
    "        return mid\n",
    "    if k < a[mid]:\n",
    "        return binary_srch_recur(a, s, mid-1, k)\n",
    "    else:\n",
    "        return binary_srch_recur(a, mid+1, e, k)"
   ]
  },
  {
   "cell_type": "code",
   "execution_count": 9,
   "id": "a1b46dc9",
   "metadata": {},
   "outputs": [
    {
     "data": {
      "text/plain": [
       "4"
      ]
     },
     "execution_count": 9,
     "metadata": {},
     "output_type": "execute_result"
    }
   ],
   "source": [
    "binary_srch_recur(a, 0, len(a), 10)"
   ]
  },
  {
   "cell_type": "code",
   "execution_count": null,
   "id": "37beac10",
   "metadata": {},
   "outputs": [],
   "source": []
  },
  {
   "cell_type": "code",
   "execution_count": null,
   "id": "313488f5",
   "metadata": {},
   "outputs": [],
   "source": []
  }
 ],
 "metadata": {
  "kernelspec": {
   "display_name": "Python 3",
   "language": "python",
   "name": "python3"
  },
  "language_info": {
   "codemirror_mode": {
    "name": "ipython",
    "version": 3
   },
   "file_extension": ".py",
   "mimetype": "text/x-python",
   "name": "python",
   "nbconvert_exporter": "python",
   "pygments_lexer": "ipython3",
   "version": "3.8.10"
  }
 },
 "nbformat": 4,
 "nbformat_minor": 5
}
