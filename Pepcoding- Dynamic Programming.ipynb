{
 "cells": [
  {
   "cell_type": "code",
   "execution_count": 22,
   "id": "73204d3a",
   "metadata": {},
   "outputs": [
    {
     "data": {
      "text/plain": [
       "294823913505"
      ]
     },
     "execution_count": 22,
     "metadata": {},
     "output_type": "execute_result"
    }
   ],
   "source": [
    "def solve(n , memo = {}):\n",
    "    \n",
    "    if n < 0:\n",
    "        return 0\n",
    "    if n == 0:\n",
    "        return 1\n",
    "    \n",
    "    if n not in memo:\n",
    "        memo[n] = (solve(n - 1) + solve(n - 3) + solve(n - 5 ))\n",
    "        \n",
    "    \n",
    "    return memo[n]\n",
    "\n",
    "\n",
    "\n",
    "solve(60)"
   ]
  },
  {
   "cell_type": "code",
   "execution_count": 30,
   "id": "2d788f4c",
   "metadata": {},
   "outputs": [
    {
     "data": {
      "text/plain": [
       "2880067194370816120"
      ]
     },
     "execution_count": 30,
     "metadata": {},
     "output_type": "execute_result"
    }
   ],
   "source": [
    "def fibo(n , memo = {}):\n",
    "    if n == 0:\n",
    "        return 0\n",
    "    elif n == 1:\n",
    "        return 1\n",
    "    if n not in memo:\n",
    "        memo[n] = fibo(n-1) + fibo(n-2)\n",
    "    \n",
    "    return memo[n]\n",
    "\n",
    "fibo(90)"
   ]
  },
  {
   "cell_type": "code",
   "execution_count": null,
   "id": "26b131be",
   "metadata": {},
   "outputs": [],
   "source": []
  },
  {
   "cell_type": "code",
   "execution_count": null,
   "id": "47a1ae2c",
   "metadata": {},
   "outputs": [],
   "source": []
  },
  {
   "cell_type": "code",
   "execution_count": null,
   "id": "ec2e9b58",
   "metadata": {},
   "outputs": [],
   "source": [
    "#64. Minimum Path Sum\n",
    "#Given a m x n grid filled with non-negative numbers, find a path from top left to bottom right, which minimizes the sum of all numbers along its path.\n",
    "\n",
    "#Note: You can only move either down or right at any point in time."
   ]
  },
  {
   "cell_type": "code",
   "execution_count": 31,
   "id": "01491550",
   "metadata": {},
   "outputs": [
    {
     "ename": "NameError",
     "evalue": "name 'List' is not defined",
     "output_type": "error",
     "traceback": [
      "\u001b[1;31m---------------------------------------------------------------------------\u001b[0m",
      "\u001b[1;31mNameError\u001b[0m                                 Traceback (most recent call last)",
      "\u001b[1;32m<ipython-input-31-893ce8f5b374>\u001b[0m in \u001b[0;36m<module>\u001b[1;34m\u001b[0m\n\u001b[1;32m----> 1\u001b[1;33m \u001b[1;32mdef\u001b[0m \u001b[0mminPathSum\u001b[0m\u001b[1;33m(\u001b[0m\u001b[0mself\u001b[0m\u001b[1;33m,\u001b[0m \u001b[0mgrid\u001b[0m\u001b[1;33m:\u001b[0m \u001b[0mList\u001b[0m\u001b[1;33m[\u001b[0m\u001b[0mList\u001b[0m\u001b[1;33m[\u001b[0m\u001b[0mint\u001b[0m\u001b[1;33m]\u001b[0m\u001b[1;33m]\u001b[0m\u001b[1;33m)\u001b[0m \u001b[1;33m->\u001b[0m \u001b[0mint\u001b[0m\u001b[1;33m:\u001b[0m\u001b[1;33m\u001b[0m\u001b[1;33m\u001b[0m\u001b[0m\n\u001b[0m\u001b[0;32m      2\u001b[0m         \u001b[0mn\u001b[0m \u001b[1;33m=\u001b[0m \u001b[0mlen\u001b[0m\u001b[1;33m(\u001b[0m\u001b[0mgrid\u001b[0m\u001b[1;33m)\u001b[0m\u001b[1;33m\u001b[0m\u001b[1;33m\u001b[0m\u001b[0m\n\u001b[0;32m      3\u001b[0m         \u001b[0mm\u001b[0m \u001b[1;33m=\u001b[0m \u001b[0mlen\u001b[0m\u001b[1;33m(\u001b[0m\u001b[0mgrid\u001b[0m\u001b[1;33m[\u001b[0m\u001b[0mn\u001b[0m\u001b[1;33m-\u001b[0m\u001b[1;36m1\u001b[0m\u001b[1;33m]\u001b[0m\u001b[1;33m)\u001b[0m\u001b[1;33m\u001b[0m\u001b[1;33m\u001b[0m\u001b[0m\n\u001b[0;32m      4\u001b[0m         \u001b[0mmemo\u001b[0m \u001b[1;33m=\u001b[0m \u001b[1;33m[\u001b[0m\u001b[1;33m[\u001b[0m\u001b[1;36m0\u001b[0m \u001b[1;32mfor\u001b[0m \u001b[0mx\u001b[0m \u001b[1;32min\u001b[0m \u001b[0mrange\u001b[0m\u001b[1;33m(\u001b[0m\u001b[0mm\u001b[0m\u001b[1;33m)\u001b[0m\u001b[1;33m]\u001b[0m \u001b[1;32mfor\u001b[0m \u001b[0mx\u001b[0m \u001b[1;32min\u001b[0m \u001b[0mrange\u001b[0m\u001b[1;33m(\u001b[0m\u001b[0mn\u001b[0m\u001b[1;33m)\u001b[0m\u001b[1;33m]\u001b[0m\u001b[1;33m\u001b[0m\u001b[1;33m\u001b[0m\u001b[0m\n\u001b[0;32m      5\u001b[0m \u001b[1;33m\u001b[0m\u001b[0m\n",
      "\u001b[1;31mNameError\u001b[0m: name 'List' is not defined"
     ]
    }
   ],
   "source": [
    "def minPathSum(self, grid: List[List[int]]) -> int:\n",
    "        n = len(grid)\n",
    "        m = len(grid[n-1])\n",
    "        memo = [[0 for x in range(m)] for x in range(n)]\n",
    "        \n",
    "        \n",
    "        \n",
    "        for i in range(n-1 , -1 , -1 ):\n",
    "            for j in range(m-1 , -1 , -1):\n",
    "                if i == len(memo)-1 and j == len(memo[0]) -1:\n",
    "                    memo[i][j] = grid[i][j]\n",
    "                    \n",
    "                    \n",
    "                elif i == len(memo)-1:\n",
    "                    memo[i][j] = grid[i][j] + memo[i][j+1]\n",
    "                    \n",
    "                    \n",
    "                elif j == len(memo[i])-1:\n",
    "                    memo[i][j] = grid[i][j] + memo[i+1][j]\n",
    "                \n",
    "                \n",
    "                else:\n",
    "                    memo[i][j] = grid[i][j] + min(memo[i][j+1] , memo[i+1][j])\n",
    "                    \n",
    "                    \n",
    "        return memo[0][0]\n",
    "    \n",
    "    \n",
    "    \n"
   ]
  },
  {
   "cell_type": "code",
   "execution_count": null,
   "id": "40c645f4",
   "metadata": {},
   "outputs": [],
   "source": [
    "#Coin Change Combination Problem Dynamic Programming Explained | Coin Change Minimum Number of Coins"
   ]
  },
  {
   "cell_type": "code",
   "execution_count": 44,
   "id": "e7bb97d3",
   "metadata": {},
   "outputs": [
    {
     "data": {
      "text/plain": [
       "(2,\n",
       " [[1, 0, 0, 0, 0, 0, 0, 0],\n",
       "  [1, 0, 1, 0, 1, 0, 1, 0],\n",
       "  [1, 0, 1, 1, 1, 1, 2, 1],\n",
       "  [1, 0, 1, 1, 1, 2, 2, 2]])"
      ]
     },
     "execution_count": 44,
     "metadata": {},
     "output_type": "execute_result"
    }
   ],
   "source": [
    "def coin_change(arr , w):\n",
    "    n = len(arr)\n",
    "    memo = [[0 for x in range(w+1)] for x in range(n+1)]\n",
    "    \n",
    "    for i in range(n+1):\n",
    "        for j in range(w+1):\n",
    "            \n",
    "            if i == 0 and j == 0:\n",
    "                memo[i][j] = 1\n",
    "                \n",
    "            elif i == 0:\n",
    "                memo[i][j] = 0\n",
    "                \n",
    "                \n",
    "            elif j == 0:\n",
    "                memo[i][j] = 1\n",
    "                \n",
    "                \n",
    "                \n",
    "            else:\n",
    "                if arr[i-1] <= j:\n",
    "                    memo[i][j] = (memo[i][j-arr[i-1]] + memo[i-1][j])\n",
    "                    \n",
    "                    \n",
    "                elif arr[i-1] > j:\n",
    "                    memo[i][j] = memo[i-1][j]\n",
    "                    \n",
    "                    \n",
    "    return memo[n][w] , memo\n",
    "    \n",
    "    \n",
    "coin_change([2,3,5] , 7)\n",
    "                \n",
    "    \n",
    "    \n",
    "    \n",
    "    "
   ]
  },
  {
   "cell_type": "code",
   "execution_count": null,
   "id": "04cb6b52",
   "metadata": {},
   "outputs": [],
   "source": []
  },
  {
   "cell_type": "code",
   "execution_count": null,
   "id": "0c9ebdf6",
   "metadata": {},
   "outputs": [],
   "source": []
  },
  {
   "cell_type": "code",
   "execution_count": 66,
   "id": "4f30b653",
   "metadata": {},
   "outputs": [
    {
     "data": {
      "text/plain": [
       "([0, 1, 1, 2, 3, 5, 8], [0, 1, 2, 3, 5, 8, 13])"
      ]
     },
     "execution_count": 66,
     "metadata": {},
     "output_type": "execute_result"
    }
   ],
   "source": [
    "def count_binary_string(n):\n",
    "    mem0 = [0] * (n+1)\n",
    "    mem1 = [0] * (n+1)\n",
    "    \n",
    "    mem0[1] = 1\n",
    "    mem1[1] = 1\n",
    "    \n",
    "    for i in range(2 , n+1):\n",
    "        mem0[i] = mem1[i-1]\n",
    "        mem1[i] = mem1[i-1] + mem0[i-1]\n",
    "        \n",
    "        \n",
    "    \n",
    "    \n",
    "    return mem0 , mem1\n",
    "\n",
    "count_binary_string(6)\n",
    "    \n",
    "    \n",
    "    "
   ]
  },
  {
   "cell_type": "code",
   "execution_count": null,
   "id": "3382ead2",
   "metadata": {},
   "outputs": [],
   "source": []
  },
  {
   "cell_type": "code",
   "execution_count": null,
   "id": "d5f151c4",
   "metadata": {},
   "outputs": [],
   "source": []
  },
  {
   "cell_type": "code",
   "execution_count": 69,
   "id": "38a8fe4c",
   "metadata": {},
   "outputs": [
    {
     "data": {
      "text/plain": [
       "(3,\n",
       " [[0, 1, 0, 1, 0, 1],\n",
       "  [1, 0, 1, 0, 1, 0],\n",
       "  [0, 1, 3, 2, 1, 0],\n",
       "  [0, 0, 2, 2, 1, 0],\n",
       "  [1, 1, 1, 1, 1, 1]])"
      ]
     },
     "execution_count": 69,
     "metadata": {},
     "output_type": "execute_result"
    }
   ],
   "source": [
    "def maxSquare(n, m, mat):\n",
    "        memo = [[0 for x in range(m)] for n in range(n)]\n",
    "        \n",
    "        \n",
    "        for i in range(n-1 , -1 , -1):\n",
    "            for j in range(m-1 , -1 , -1):\n",
    "                \n",
    "                if i == n-1:\n",
    "                    if mat[i][j] == 0:\n",
    "                        memo[i][j] = 0\n",
    "                        \n",
    "                    else:\n",
    "                        memo[i][j] = 1\n",
    "                        \n",
    "                elif j == m-1:\n",
    "                    if mat[i][j] == 0:\n",
    "                        memo[i][j] = 0\n",
    "                        \n",
    "                    else:\n",
    "                        memo[i][j] = 1\n",
    "                        \n",
    "                        \n",
    "                else:\n",
    "                    if mat[i][j] == 0:\n",
    "                        memo[i][j] = 0\n",
    "                        \n",
    "                    else:\n",
    "                        \n",
    "                        mm = min(memo[i+1][j] , memo[i][j+1] , memo[i+1][j+1])\n",
    "                        memo[i][j] = 1 + mm\n",
    "                    \n",
    "                    \n",
    "        maxi = 0\n",
    "        \n",
    "        for i in range(n):\n",
    "            for j in range(m):\n",
    "                maxi = max(memo[i][j] , maxi)\n",
    "                \n",
    "                \n",
    "        return maxi , memo\n",
    "    \n",
    "maxSquare( 5, 6, [[0,1,0,1,0,1], [1,0,1,0,1,0] , [0,1,1,1,1,0] , [0,0,1,1,1,0] , [1,1,1,1,1,1]])"
   ]
  },
  {
   "cell_type": "code",
   "execution_count": null,
   "id": "c77dcda6",
   "metadata": {},
   "outputs": [],
   "source": []
  },
  {
   "cell_type": "code",
   "execution_count": null,
   "id": "ca85611b",
   "metadata": {},
   "outputs": [],
   "source": [
    "#Longest Increasing Subsequence "
   ]
  },
  {
   "cell_type": "code",
   "execution_count": 72,
   "id": "51b94a43",
   "metadata": {},
   "outputs": [
    {
     "data": {
      "text/plain": [
       "6"
      ]
     },
     "execution_count": 72,
     "metadata": {},
     "output_type": "execute_result"
    }
   ],
   "source": [
    "def longestSubsequence(arr,n):\n",
    "        memo = [0] * n\n",
    "        \n",
    "        memo[0] = 1\n",
    "        \n",
    "        for i in range(1 , len(arr)):\n",
    "            hi = 0\n",
    "            for j in range(0 , i):\n",
    "                if arr[i] > arr[j]:\n",
    "                    if memo[j] > hi:\n",
    "                        hi = memo[j] \n",
    "                    \n",
    "                    \n",
    "            memo[i] = hi + 1\n",
    "                    \n",
    "                \n",
    "            \n",
    "        return max(memo)\n",
    "    \n",
    "    \n",
    "longestSubsequence([0,8,4,12,2,10,6,14,1,9,5,13,3,11,7,15] , 16)"
   ]
  },
  {
   "cell_type": "code",
   "execution_count": null,
   "id": "e05c11e2",
   "metadata": {},
   "outputs": [],
   "source": [
    "#"
   ]
  },
  {
   "cell_type": "code",
   "execution_count": null,
   "id": "a91bda2b",
   "metadata": {},
   "outputs": [],
   "source": [
    "def maxSumIS(self, arr, n):\n",
    "\t    memo = [0] * n\n",
    "        \n",
    "        memo[0] = arr[0]\n",
    "        \n",
    "        for i in range(1 , len(arr)):\n",
    "            summ = 0\n",
    "            for j in range(0 , i):\n",
    "                if arr[i] > arr[j]:\n",
    "                    if memo[j] > summ:\n",
    "                        summ = memo[j] \n",
    "                    \n",
    "                    \n",
    "            memo[i] = summ + arr[i]\n",
    "                    \n",
    "                \n",
    "            \n",
    "        return max(memo)"
   ]
  },
  {
   "cell_type": "code",
   "execution_count": null,
   "id": "49b40bb0",
   "metadata": {},
   "outputs": [],
   "source": []
  },
  {
   "cell_type": "code",
   "execution_count": null,
   "id": "9dd5554e",
   "metadata": {},
   "outputs": [],
   "source": []
  },
  {
   "cell_type": "code",
   "execution_count": null,
   "id": "1889890c",
   "metadata": {},
   "outputs": [],
   "source": [
    "#Longest Bitonic subsequence"
   ]
  },
  {
   "cell_type": "code",
   "execution_count": null,
   "id": "430932ac",
   "metadata": {},
   "outputs": [],
   "source": [
    "def LongestBitonicSequence(self, arr):\n",
    "\t    n = len(arr)\n",
    "\t    memo = [0] * n\n",
    "\t    memo2 = [0] * n\n",
    "        \n",
    "        memo[0] = 1\n",
    "        \n",
    "        for i in range(1 , len(arr)):\n",
    "            hi = 0\n",
    "            for j in range(0 , i):\n",
    "                if arr[i] > arr[j]:\n",
    "                    if memo[j] > hi:\n",
    "                        hi = memo[j] \n",
    "                    \n",
    "                    \n",
    "            memo[i] = hi + 1\n",
    "                    \n",
    "        memo2[len(arr)-1] = 1            \n",
    "        for i in range(len(arr)-2 , -1, -1):\n",
    "            hi = 0\n",
    "            for j in range(len(arr)-1 , i , -1):\n",
    "                if arr[i] > arr[j]:\n",
    "                    if memo2[j] > hi:\n",
    "                        hi = memo2[j] \n",
    "                    \n",
    "                    \n",
    "            memo2[i] = hi + 1\n",
    "                \n",
    "        mm = 0\n",
    "        for i in range(len(memo)):\n",
    "            if (memo[i] + memo2[i]) > mm:\n",
    "                mm = memo[i] + memo2[i]\n",
    "                \n",
    "                \n",
    "        return (mm -1)"
   ]
  }
 ],
 "metadata": {
  "kernelspec": {
   "display_name": "Python 3",
   "language": "python",
   "name": "python3"
  },
  "language_info": {
   "codemirror_mode": {
    "name": "ipython",
    "version": 3
   },
   "file_extension": ".py",
   "mimetype": "text/x-python",
   "name": "python",
   "nbconvert_exporter": "python",
   "pygments_lexer": "ipython3",
   "version": "3.8.10"
  }
 },
 "nbformat": 4,
 "nbformat_minor": 5
}
