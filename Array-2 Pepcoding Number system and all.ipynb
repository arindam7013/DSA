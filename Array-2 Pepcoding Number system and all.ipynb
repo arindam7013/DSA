{
 "cells": [
  {
   "cell_type": "code",
   "execution_count": 1,
   "id": "f8f0e155",
   "metadata": {},
   "outputs": [],
   "source": [
    "# decimal to any base -> [634]10  -> [1172]8"
   ]
  },
  {
   "cell_type": "code",
   "execution_count": 15,
   "id": "104c258d",
   "metadata": {},
   "outputs": [
    {
     "data": {
      "text/plain": [
       "1172"
      ]
     },
     "execution_count": 15,
     "metadata": {},
     "output_type": "execute_result"
    }
   ],
   "source": [
    "def deci_oct(n , k):\n",
    "    \n",
    "    \n",
    "    rem = 0\n",
    "    fromm = 10 #from base 10 to base 8\n",
    "    f = 0\n",
    "    power = 0\n",
    "    while n > 0:\n",
    "        rem = (n % k)\n",
    "        \n",
    "        f += rem * (fromm ** power)\n",
    "        \n",
    "        power += 1\n",
    "        n = n // k\n",
    "        \n",
    "        \n",
    "    return f\n",
    "\n",
    "deci_oct(634 , 8)"
   ]
  },
  {
   "cell_type": "code",
   "execution_count": 16,
   "id": "2376bd05",
   "metadata": {},
   "outputs": [],
   "source": [
    "#Any base to Decimal    "
   ]
  },
  {
   "cell_type": "code",
   "execution_count": 17,
   "id": "69cd75e4",
   "metadata": {},
   "outputs": [
    {
     "data": {
      "text/plain": [
       "634"
      ]
     },
     "execution_count": 17,
     "metadata": {},
     "output_type": "execute_result"
    }
   ],
   "source": [
    "def any_to_deci(n , k):\n",
    "    \n",
    "    \n",
    "    rem = 0\n",
    "    fromm = 8  #from base 8 to base 10\n",
    "    f = 0\n",
    "    power = 0\n",
    "    while n > 0:\n",
    "        rem = (n % k)\n",
    "        \n",
    "        f += rem * (fromm ** power)\n",
    "        \n",
    "        power += 1\n",
    "        n = n // k\n",
    "        \n",
    "        \n",
    "    return f\n",
    "\n",
    "any_to_deci(1172 , 10)"
   ]
  },
  {
   "cell_type": "code",
   "execution_count": 18,
   "id": "3a50e249",
   "metadata": {},
   "outputs": [],
   "source": [
    "#any base to any   -> any to deciaml -> decimal to anyy"
   ]
  },
  {
   "cell_type": "code",
   "execution_count": 23,
   "id": "7b79f69a",
   "metadata": {},
   "outputs": [
    {
     "data": {
      "text/plain": [
       "1000"
      ]
     },
     "execution_count": 23,
     "metadata": {},
     "output_type": "execute_result"
    }
   ],
   "source": [
    "#code not complete\n",
    "def any_to_any(n , fromm , k):\n",
    "    \n",
    "    \n",
    "    rem = 0\n",
    "    \n",
    "    f = 0\n",
    "    power = 0\n",
    "    while n > 0:\n",
    "        rem = (n % k)\n",
    "        \n",
    "        f += rem * (fromm ** power)\n",
    "        \n",
    "        power += 1\n",
    "        n = n // k\n",
    "        \n",
    "        \n",
    "    return f\n",
    "\n",
    "fromm = 10\n",
    "to = 2\n",
    "any_to_any(8 , fromm , to)"
   ]
  },
  {
   "cell_type": "code",
   "execution_count": null,
   "id": "556d1858",
   "metadata": {},
   "outputs": [],
   "source": []
  },
  {
   "cell_type": "code",
   "execution_count": null,
   "id": "4f6a8d33",
   "metadata": {},
   "outputs": [],
   "source": []
  },
  {
   "cell_type": "code",
   "execution_count": null,
   "id": "c3a32021",
   "metadata": {},
   "outputs": [],
   "source": []
  },
  {
   "cell_type": "code",
   "execution_count": null,
   "id": "3b65760b",
   "metadata": {},
   "outputs": [],
   "source": []
  },
  {
   "cell_type": "code",
   "execution_count": null,
   "id": "1dba2a0a",
   "metadata": {},
   "outputs": [],
   "source": []
  },
  {
   "cell_type": "code",
   "execution_count": null,
   "id": "ff1323f3",
   "metadata": {},
   "outputs": [],
   "source": []
  },
  {
   "cell_type": "code",
   "execution_count": null,
   "id": "0e606144",
   "metadata": {},
   "outputs": [],
   "source": []
  },
  {
   "cell_type": "code",
   "execution_count": null,
   "id": "944f5047",
   "metadata": {},
   "outputs": [],
   "source": []
  },
  {
   "cell_type": "code",
   "execution_count": null,
   "id": "60acce5d",
   "metadata": {},
   "outputs": [],
   "source": []
  }
 ],
 "metadata": {
  "kernelspec": {
   "display_name": "Python 3",
   "language": "python",
   "name": "python3"
  },
  "language_info": {
   "codemirror_mode": {
    "name": "ipython",
    "version": 3
   },
   "file_extension": ".py",
   "mimetype": "text/x-python",
   "name": "python",
   "nbconvert_exporter": "python",
   "pygments_lexer": "ipython3",
   "version": "3.8.10"
  }
 },
 "nbformat": 4,
 "nbformat_minor": 5
}
