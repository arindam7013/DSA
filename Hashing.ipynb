{
 "cells": [
  {
   "cell_type": "code",
   "execution_count": 6,
   "id": "d972ea66",
   "metadata": {},
   "outputs": [],
   "source": [
    "mylinkedin = {\n",
    "    \"Tim\": \"Avicii\",\n",
    "    \"Marsh\": \"Mello\",\n",
    "    \"Soony\": \"Skrillex\", \n",
    "    \"David\": \"Guetta\",\n",
    "    \"Afro\": \"Jack\"\n",
    "}"
   ]
  },
  {
   "cell_type": "code",
   "execution_count": 7,
   "id": "5734a5eb",
   "metadata": {},
   "outputs": [
    {
     "data": {
      "text/plain": [
       "'Guetta'"
      ]
     },
     "execution_count": 7,
     "metadata": {},
     "output_type": "execute_result"
    }
   ],
   "source": [
    "mylinkedin[\"David\"]"
   ]
  },
  {
   "cell_type": "code",
   "execution_count": 13,
   "id": "22a06e66",
   "metadata": {},
   "outputs": [
    {
     "data": {
      "text/plain": [
       "dict_values(['Avicii', 'Mello', 'Skrillex', 'Guetta', 'Jack'])"
      ]
     },
     "execution_count": 13,
     "metadata": {},
     "output_type": "execute_result"
    }
   ],
   "source": [
    "mylinkedin.values()"
   ]
  },
  {
   "cell_type": "code",
   "execution_count": 11,
   "id": "ddc03fd0",
   "metadata": {},
   "outputs": [],
   "source": [
    "class Hashtable:\n",
    "    def __init__(self):\n",
    "        self.max = 100\n",
    "        self.arr = [None] * self.max\n",
    "        \n",
    "    def get_hash(self,key):\n",
    "        sum = 0\n",
    "        for i in key:\n",
    "            sum = sum + ord(i)\n",
    "            \n",
    "        return sum % self.max\n",
    "    \n",
    "    \n",
    "    \n",
    "    def __setitem__(self, key, value):\n",
    "        h = self.get_hash(key)\n",
    "        self.arr[h] = value\n",
    "        \n",
    "    def __getitem__(self, key):\n",
    "        h = self.get_hash(key)\n",
    "        return self.arr[h]\n",
    "    \n",
    "    \n",
    "    def __delitem__(self, key):\n",
    "        h = self.get_hash(key)\n",
    "        self.arr[h] = None"
   ]
  },
  {
   "cell_type": "code",
   "execution_count": 12,
   "id": "b51de3e9",
   "metadata": {},
   "outputs": [],
   "source": [
    "h = Hashtable()"
   ]
  },
  {
   "cell_type": "code",
   "execution_count": 13,
   "id": "6c6edfb3",
   "metadata": {},
   "outputs": [],
   "source": [
    "h['march 6'] = 302\n",
    "h['march 7'] = 301\n",
    "h['march 8'] = 300\n",
    "h['march 8'] = 299"
   ]
  },
  {
   "cell_type": "code",
   "execution_count": 14,
   "id": "5b4c1762",
   "metadata": {},
   "outputs": [
    {
     "data": {
      "text/plain": [
       "302"
      ]
     },
     "execution_count": 14,
     "metadata": {},
     "output_type": "execute_result"
    }
   ],
   "source": [
    "h['march 6']"
   ]
  },
  {
   "cell_type": "code",
   "execution_count": null,
   "id": "4765fc9c",
   "metadata": {},
   "outputs": [],
   "source": []
  },
  {
   "cell_type": "code",
   "execution_count": 16,
   "id": "f362da8e",
   "metadata": {},
   "outputs": [],
   "source": [
    "class HashTable:  \n",
    "    def __init__(self):\n",
    "        self.MAX = 10\n",
    "        self.arr = [[] for i in range(self.MAX)]\n",
    "        \n",
    "    def get_hash(self, key):\n",
    "        hash = 0\n",
    "        for char in key:\n",
    "            hash += ord(char)\n",
    "        return hash % self.MAX\n",
    "    \n",
    "    def __getitem__(self, key):\n",
    "        arr_index = self.get_hash(key)\n",
    "        for kv in self.arr[arr_index]:\n",
    "            if kv[0] == key:\n",
    "                return kv[1]\n",
    "            \n",
    "    def __setitem__(self, key, val):\n",
    "        h = self.get_hash(key)\n",
    "        found = False\n",
    "        for idx, element in enumerate(self.arr[h]):\n",
    "            if len(element)==2 and element[0] == key:\n",
    "                self.arr[h][idx] = (key,val)\n",
    "                found = True\n",
    "        if not found:\n",
    "            self.arr[h].append((key,val))\n",
    "        \n",
    "    def __delitem__(self, key):\n",
    "        arr_index = self.get_hash(key)\n",
    "        for index, kv in enumerate(self.arr[arr_index]):\n",
    "            if kv[0] == key:\n",
    "                print(\"del\",index)\n",
    "                del self.arr[arr_index][index]"
   ]
  },
  {
   "cell_type": "code",
   "execution_count": 17,
   "id": "5b5ee72d",
   "metadata": {},
   "outputs": [],
   "source": [
    "t = HashTable()\n",
    "t[\"march 6\"] = 310\n",
    "t[\"march 7\"] = 420\n",
    "t[\"march 8\"] = 67\n",
    "t[\"march 17\"] = 63457"
   ]
  },
  {
   "cell_type": "code",
   "execution_count": 18,
   "id": "071fda05",
   "metadata": {},
   "outputs": [
    {
     "data": {
      "text/plain": [
       "[[('march 7', 420)],\n",
       " [('march 8', 67)],\n",
       " [],\n",
       " [],\n",
       " [],\n",
       " [],\n",
       " [],\n",
       " [],\n",
       " [],\n",
       " [('march 6', 310), ('march 17', 63457)]]"
      ]
     },
     "execution_count": 18,
     "metadata": {},
     "output_type": "execute_result"
    }
   ],
   "source": [
    "t.arr"
   ]
  },
  {
   "cell_type": "code",
   "execution_count": 23,
   "id": "ad82af45",
   "metadata": {},
   "outputs": [],
   "source": [
    "t[\"march 6\"] = 11"
   ]
  },
  {
   "cell_type": "code",
   "execution_count": 24,
   "id": "ded55949",
   "metadata": {},
   "outputs": [
    {
     "data": {
      "text/plain": [
       "[[('march 7', 420)],\n",
       " [('march 8', 67)],\n",
       " [],\n",
       " [],\n",
       " [],\n",
       " [],\n",
       " [],\n",
       " [],\n",
       " [],\n",
       " [('march 17', 63457), ('march 6', 11)]]"
      ]
     },
     "execution_count": 24,
     "metadata": {},
     "output_type": "execute_result"
    }
   ],
   "source": [
    "t.arr"
   ]
  },
  {
   "cell_type": "code",
   "execution_count": 21,
   "id": "258ce1ae",
   "metadata": {},
   "outputs": [
    {
     "name": "stdout",
     "output_type": "stream",
     "text": [
      "del 0\n"
     ]
    }
   ],
   "source": [
    "del t[\"march 6\"]"
   ]
  },
  {
   "cell_type": "code",
   "execution_count": null,
   "id": "e1f4c497",
   "metadata": {},
   "outputs": [],
   "source": []
  },
  {
   "cell_type": "code",
   "execution_count": 20,
   "id": "4e50b2e5",
   "metadata": {},
   "outputs": [
    {
     "data": {
      "text/plain": [
       "'a'"
      ]
     },
     "execution_count": 20,
     "metadata": {},
     "output_type": "execute_result"
    }
   ],
   "source": [
    "def char_count(st):\n",
    "    \n",
    "    memo = {}\n",
    "    \n",
    "    for i in st:\n",
    "        if i not in memo:\n",
    "            memo[i] = 1\n",
    "            \n",
    "        else:\n",
    "            memo[i] = memo[i] + 1\n",
    "    \n",
    "    \n",
    "    k= max(memo.values())\n",
    "    for i in memo:\n",
    "        if memo[i] == k:\n",
    "            return  i #memo[i]\n",
    "    \n",
    "    \n",
    "char_count('abcdefabcdef')"
   ]
  },
  {
   "cell_type": "code",
   "execution_count": 36,
   "id": "7d9c03ef",
   "metadata": {},
   "outputs": [
    {
     "name": "stdout",
     "output_type": "stream",
     "text": [
      "{1: 3, 2: 2, 777: 1, 3: 1, 5: 1}\n",
      "1\n",
      "2\n",
      "5\n",
      "777\n"
     ]
    }
   ],
   "source": [
    "def get_common_ele(arr1, arr2):\n",
    "    memo = {}\n",
    "    \n",
    "    for i in arr1:\n",
    "        if i not in memo:\n",
    "            memo[i] = 1\n",
    "            \n",
    "        else:\n",
    "            memo[i] = memo[i] + 1\n",
    "    print(memo)\n",
    "    for j in arr2:\n",
    "        if j not in memo:\n",
    "            continue\n",
    "            \n",
    "        else:\n",
    "            if memo[j] is not None:\n",
    "                print(j)\n",
    "                memo[j] = None\n",
    "            \n",
    "            \n",
    "            \n",
    "    #return memo\n",
    "\n",
    "get_common_ele([1,1,1,2,2,777,3,5] , [1,1,1,2,2,4,5,777])"
   ]
  },
  {
   "cell_type": "code",
   "execution_count": null,
   "id": "5863593c",
   "metadata": {},
   "outputs": [],
   "source": []
  },
  {
   "cell_type": "code",
   "execution_count": null,
   "id": "190a6169",
   "metadata": {},
   "outputs": [],
   "source": []
  },
  {
   "cell_type": "code",
   "execution_count": 40,
   "id": "bf0e005a",
   "metadata": {},
   "outputs": [
    {
     "name": "stdout",
     "output_type": "stream",
     "text": [
      "{1: 2, 2: 3, 3: 1, 5: 1}\n",
      "1\n",
      "1\n",
      "2\n",
      "2\n",
      "5\n"
     ]
    }
   ],
   "source": [
    "def get_common_ele_2(arr1, arr2):\n",
    "    memo = {}\n",
    "    \n",
    "    for i in arr1:\n",
    "        if i not in memo:\n",
    "            memo[i] = 1\n",
    "            \n",
    "        else:\n",
    "            memo[i] = memo[i] + 1\n",
    "    print(memo)\n",
    "    for j in arr2:\n",
    "        if j in memo:\n",
    "            if memo[j] > 0:\n",
    "                memo[j] = memo[j] - 1\n",
    "                print(j)\n",
    "            \n",
    "        else:\n",
    "            continue\n",
    "            \n",
    "            \n",
    "            \n",
    "    #return memo\n",
    "\n",
    "get_common_ele_2([1,1,2,2,2,3,5] , [1,1,1,2,2,4,5])"
   ]
  },
  {
   "cell_type": "code",
   "execution_count": null,
   "id": "cf212938",
   "metadata": {},
   "outputs": [],
   "source": []
  },
  {
   "cell_type": "code",
   "execution_count": 82,
   "id": "9c65f63a",
   "metadata": {},
   "outputs": [
    {
     "data": {
      "text/plain": [
       "(5, 8)"
      ]
     },
     "execution_count": 82,
     "metadata": {},
     "output_type": "execute_result"
    }
   ],
   "source": [
    "def longest_con_seq(arr):\n",
    "    memo = {}\n",
    "    mx = 0\n",
    "    msp = 0\n",
    "    for i in arr:\n",
    "        memo[i] = True\n",
    "        \n",
    "    for j in memo:\n",
    "        if j-1 in memo:\n",
    "            memo[j] = False\n",
    "            \n",
    "    for k in memo:\n",
    "          \n",
    "        if memo[k] == True:\n",
    "            \n",
    "            tl = 1\n",
    "            tsp = k\n",
    "            while (tsp + tl) in memo:\n",
    "                #print(tsp + tl)\n",
    "                tl += 1\n",
    "               \n",
    "            if tl > mx:\n",
    "                msp = tsp\n",
    "                mx = tl\n",
    "    \n",
    "    return mx , msp #, memo\n",
    "    \n",
    "\n",
    "longest_con_seq([10,5,9,1,11,8,6,15,3,12,2])\n",
    "    "
   ]
  },
  {
   "cell_type": "code",
   "execution_count": null,
   "id": "56c4391b",
   "metadata": {},
   "outputs": [],
   "source": []
  },
  {
   "cell_type": "code",
   "execution_count": null,
   "id": "ef6a7901",
   "metadata": {},
   "outputs": [],
   "source": []
  },
  {
   "cell_type": "code",
   "execution_count": null,
   "id": "48324ad4",
   "metadata": {},
   "outputs": [],
   "source": []
  },
  {
   "cell_type": "code",
   "execution_count": 1,
   "id": "a765e3e8",
   "metadata": {},
   "outputs": [],
   "source": [
    "memo = {1: 2 , 3: 5}"
   ]
  },
  {
   "cell_type": "code",
   "execution_count": 2,
   "id": "2a3aaad5",
   "metadata": {},
   "outputs": [
    {
     "data": {
      "text/plain": [
       "2"
      ]
     },
     "execution_count": 2,
     "metadata": {},
     "output_type": "execute_result"
    }
   ],
   "source": [
    "len(memo)"
   ]
  },
  {
   "cell_type": "code",
   "execution_count": null,
   "id": "e2fa148a",
   "metadata": {},
   "outputs": [],
   "source": []
  },
  {
   "cell_type": "code",
   "execution_count": null,
   "id": "90f16c64",
   "metadata": {},
   "outputs": [],
   "source": []
  },
  {
   "cell_type": "code",
   "execution_count": null,
   "id": "aff8594a",
   "metadata": {},
   "outputs": [],
   "source": []
  },
  {
   "cell_type": "code",
   "execution_count": null,
   "id": "574ce2b8",
   "metadata": {},
   "outputs": [],
   "source": []
  },
  {
   "cell_type": "code",
   "execution_count": null,
   "id": "7a4d6581",
   "metadata": {},
   "outputs": [],
   "source": []
  },
  {
   "cell_type": "code",
   "execution_count": null,
   "id": "1e4152c7",
   "metadata": {},
   "outputs": [],
   "source": []
  }
 ],
 "metadata": {
  "kernelspec": {
   "display_name": "Python 3",
   "language": "python",
   "name": "python3"
  },
  "language_info": {
   "codemirror_mode": {
    "name": "ipython",
    "version": 3
   },
   "file_extension": ".py",
   "mimetype": "text/x-python",
   "name": "python",
   "nbconvert_exporter": "python",
   "pygments_lexer": "ipython3",
   "version": "3.8.10"
  }
 },
 "nbformat": 4,
 "nbformat_minor": 5
}
