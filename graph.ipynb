{
 "cells": [
  {
   "cell_type": "code",
   "execution_count": null,
   "id": "4b132f92",
   "metadata": {},
   "outputs": [],
   "source": []
  },
  {
   "cell_type": "code",
   "execution_count": 2,
   "id": "a48e4bb5",
   "metadata": {},
   "outputs": [],
   "source": [
    "mylinkedin = {\n",
    "    \"Tim\": [\"Soony\" , \"David\", \"Tim\" ],\n",
    "    \"Marsh\": [\"David\"  , \"Afro\"],\n",
    "    \"Soony\": [\"Marsh\"], \n",
    "    \"David\": [\"Marsh\", \"Afro\"],\n",
    "    \"Afro\": [\"Tim\", \"David\", \"Soony\"]\n",
    "}"
   ]
  },
  {
   "cell_type": "code",
   "execution_count": 3,
   "id": "25d59eda",
   "metadata": {},
   "outputs": [],
   "source": [
    "course = {\n",
    "    \"MLOPs\": [\"ML\", \"Devops\"],\n",
    "    \"ML\": [\"Python\", \"Maths\"],\n",
    "    \"Devops\": [\"K8s\" , \"Jenkins\"],\n",
    "    \"K8s\": [\"Docker\"],\n",
    "    \"Docker\": [\"ML\"],\n",
    "    \"Python\": [],\n",
    "    \"Maths\": [],\n",
    "    \"Jenkins\": []\n",
    "    \n",
    "}"
   ]
  },
  {
   "cell_type": "code",
   "execution_count": 4,
   "id": "82b8c7dd",
   "metadata": {},
   "outputs": [
    {
     "data": {
      "text/plain": [
       "['Python', 'Maths']"
      ]
     },
     "execution_count": 4,
     "metadata": {},
     "output_type": "execute_result"
    }
   ],
   "source": [
    "course['ML']"
   ]
  },
  {
   "cell_type": "code",
   "execution_count": null,
   "id": "eaa916f0",
   "metadata": {},
   "outputs": [],
   "source": []
  },
  {
   "cell_type": "code",
   "execution_count": null,
   "id": "c6d22995",
   "metadata": {},
   "outputs": [],
   "source": []
  },
  {
   "cell_type": "code",
   "execution_count": 7,
   "id": "ecca3c8a",
   "metadata": {},
   "outputs": [
    {
     "name": "stdout",
     "output_type": "stream",
     "text": [
      "Tim\n",
      "David\n",
      "Afro\n",
      "Marsh\n",
      "Soony\n",
      "########\n",
      "Tim\n",
      "Soony\n",
      "David\n",
      "Marsh\n",
      "Afro\n"
     ]
    }
   ],
   "source": [
    "class Graph:\n",
    "    def __init__( self , graph_dict):\n",
    "        self.graph_dict = graph_dict\n",
    "        \n",
    "     \n",
    "        \n",
    "        \n",
    "        \n",
    "    def isCyclicUtil(self, v, visited, recStack):\n",
    " \n",
    "        # Mark current node as visited and\n",
    "        # adds to recursion stack\n",
    "        visited[v] = True\n",
    "        recStack[v] = True\n",
    " \n",
    "        # Recur for all neighbours\n",
    "        # if any neighbour is visited and in\n",
    "        # recStack then graph is cyclic\n",
    "        for neighbour in self.graph[v]:\n",
    "            if visited[neighbour] == False:\n",
    "                if self.isCyclicUtil(neighbour, visited, recStack) == True:\n",
    "                    return True\n",
    "            elif recStack[neighbour] == True:\n",
    "                return True\n",
    " \n",
    "        # The node needs to be poped from\n",
    "        # recursion stack before function ends\n",
    "        recStack[v] = False\n",
    "        return False\n",
    "    \n",
    "    \n",
    "    \n",
    "    def cycle_detect(self, vertex):\n",
    "        #print(self.graph_dict.keys())\n",
    "        queue = [vertex]\n",
    "        vis = [vertex]\n",
    "        for i in self.graph_dict.keys():\n",
    "                #print(\"vertex->\", i)\n",
    "                for adjacent in self.graph_dict[i]:\n",
    "                   # print(\"connection->\" , adjacent)\n",
    "                    if i == adjacent:\n",
    "                        print(\"Cycle Found\")\n",
    "            \n",
    "        \n",
    "    \n",
    "    \n",
    "    #traverse\n",
    "    def bfs(self, vertex):\n",
    "        queue = [vertex]\n",
    "        visited = [vertex]\n",
    "        \n",
    "        while queue:\n",
    "            devertex = queue.pop(0)\n",
    "            print(devertex)\n",
    "            \n",
    "            for adjacent in self.graph_dict[devertex]:\n",
    "                if adjacent not in visited:\n",
    "                    queue.append(adjacent)\n",
    "                    visited.append(adjacent)\n",
    "                    \n",
    "    def dfs(self, vertex):\n",
    "        queue = [vertex]\n",
    "        visited = [vertex]\n",
    "        \n",
    "        while queue:\n",
    "            devertex = queue.pop()\n",
    "            print(devertex)\n",
    "            \n",
    "            for adjacent in self.graph_dict[devertex]:\n",
    "                if adjacent not in visited:\n",
    "                    queue.append(adjacent)\n",
    "                    visited.append(adjacent)\n",
    "        \n",
    "o1 = Graph(mylinkedin)\n",
    "o1.dfs(\"Tim\")\n",
    "print(\"########\")\n",
    "o1.bfs(\"Tim\")\n",
    "#o1.isCyclicUtil(\"Tim\")\n",
    "\n",
    "#o1.dfs(\"MLOPs\")"
   ]
  },
  {
   "cell_type": "code",
   "execution_count": null,
   "id": "a1f94f2a",
   "metadata": {},
   "outputs": [],
   "source": []
  },
  {
   "cell_type": "code",
   "execution_count": null,
   "id": "8736977e",
   "metadata": {},
   "outputs": [],
   "source": []
  },
  {
   "cell_type": "code",
   "execution_count": 45,
   "id": "d24bd418",
   "metadata": {},
   "outputs": [],
   "source": [
    "a = [e]"
   ]
  },
  {
   "cell_type": "code",
   "execution_count": 47,
   "id": "219449f8",
   "metadata": {},
   "outputs": [
    {
     "ename": "TypeError",
     "evalue": "list indices must be integers or slices, not str",
     "output_type": "error",
     "traceback": [
      "\u001b[1;31m---------------------------------------------------------------------------\u001b[0m",
      "\u001b[1;31mTypeError\u001b[0m                                 Traceback (most recent call last)",
      "\u001b[1;32m<ipython-input-47-e89c93304e46>\u001b[0m in \u001b[0;36m<module>\u001b[1;34m\u001b[0m\n\u001b[1;32m----> 1\u001b[1;33m \u001b[0ma\u001b[0m\u001b[1;33m[\u001b[0m\u001b[1;34m'e'\u001b[0m\u001b[1;33m]\u001b[0m \u001b[1;33m==\u001b[0m \u001b[1;32mTrue\u001b[0m\u001b[1;33m\u001b[0m\u001b[1;33m\u001b[0m\u001b[0m\n\u001b[0m",
      "\u001b[1;31mTypeError\u001b[0m: list indices must be integers or slices, not str"
     ]
    }
   ],
   "source": [
    "a[] == True"
   ]
  },
  {
   "cell_type": "code",
   "execution_count": 54,
   "id": "2f55e609",
   "metadata": {},
   "outputs": [
    {
     "data": {
      "text/plain": [
       "[2, 3, 4, 6, 7, 8]"
      ]
     },
     "execution_count": 54,
     "metadata": {},
     "output_type": "execute_result"
    }
   ],
   "source": [
    "w = [2,3,4]\n",
    "q = [6,7,8]\n",
    "w = w+ q\n",
    "w"
   ]
  },
  {
   "cell_type": "code",
   "execution_count": 66,
   "id": "80f213bf",
   "metadata": {},
   "outputs": [],
   "source": [
    "aa = [2,3,4,5]"
   ]
  },
  {
   "cell_type": "code",
   "execution_count": null,
   "id": "0d318b9b",
   "metadata": {},
   "outputs": [],
   "source": []
  },
  {
   "cell_type": "code",
   "execution_count": 2,
   "id": "98fe3454",
   "metadata": {},
   "outputs": [
    {
     "ename": "IndentationError",
     "evalue": "unindent does not match any outer indentation level (<tokenize>, line 7)",
     "output_type": "error",
     "traceback": [
      "\u001b[1;36m  File \u001b[1;32m\"<tokenize>\"\u001b[1;36m, line \u001b[1;32m7\u001b[0m\n\u001b[1;33m    def count_connection(self , vertex):\u001b[0m\n\u001b[1;37m    ^\u001b[0m\n\u001b[1;31mIndentationError\u001b[0m\u001b[1;31m:\u001b[0m unindent does not match any outer indentation level\n"
     ]
    }
   ],
   "source": [
    "def add_connection(self, node , connection ):\n",
    "        self.graph_dict[node].append(connection)\n",
    "\n",
    "        \n",
    "        \n",
    "     #counting number of connections   \n",
    "    def count_connection(self , vertex):\n",
    "        return len(self.graph_dict[vertex])\n",
    "        #len(mylinkedin[node])\n",
    "        \n",
    "        \n",
    "    def add_node(self,newnode):\n",
    "        self.graph_dict[newnode] = []\n",
    "        \n",
    "        \n",
    "    def show_profile(self):\n",
    "        return self.graph_dict.keys()\n",
    "    \n",
    "    def show_cons(self):\n",
    "        return self.graph_dict.values()"
   ]
  },
  {
   "cell_type": "code",
   "execution_count": null,
   "id": "57c4e888",
   "metadata": {},
   "outputs": [],
   "source": []
  },
  {
   "cell_type": "code",
   "execution_count": null,
   "id": "0d515201",
   "metadata": {},
   "outputs": [],
   "source": []
  },
  {
   "cell_type": "code",
   "execution_count": 4,
   "id": "00e33e37",
   "metadata": {},
   "outputs": [
    {
     "data": {
      "text/plain": [
       "0"
      ]
     },
     "execution_count": 4,
     "metadata": {},
     "output_type": "execute_result"
    }
   ],
   "source": [
    "1//10\n"
   ]
  },
  {
   "cell_type": "code",
   "execution_count": null,
   "id": "03b6cc6b",
   "metadata": {},
   "outputs": [],
   "source": []
  }
 ],
 "metadata": {
  "kernelspec": {
   "display_name": "Python 3",
   "language": "python",
   "name": "python3"
  },
  "language_info": {
   "codemirror_mode": {
    "name": "ipython",
    "version": 3
   },
   "file_extension": ".py",
   "mimetype": "text/x-python",
   "name": "python",
   "nbconvert_exporter": "python",
   "pygments_lexer": "ipython3",
   "version": "3.8.10"
  }
 },
 "nbformat": 4,
 "nbformat_minor": 5
}
