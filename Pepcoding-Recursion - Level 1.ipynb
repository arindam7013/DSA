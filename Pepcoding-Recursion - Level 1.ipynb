{
 "cells": [
  {
   "cell_type": "code",
   "execution_count": 1,
   "id": "e17cde13",
   "metadata": {},
   "outputs": [],
   "source": [
    "#Recursion Basics | Print Decreasing Increasing Solution using Recursion"
   ]
  },
  {
   "cell_type": "code",
   "execution_count": 1,
   "id": "1098404a",
   "metadata": {},
   "outputs": [
    {
     "name": "stdout",
     "output_type": "stream",
     "text": [
      "4\n",
      "3\n",
      "2\n",
      "1\n",
      "1\n",
      "2\n",
      "3\n",
      "4\n"
     ]
    }
   ],
   "source": [
    "def inc_dec(n):\n",
    "    if n == 0:\n",
    "        return\n",
    "    \n",
    "    print(n)\n",
    "    inc_dec(n-1)\n",
    "    print(n)\n",
    "    \n",
    "inc_dec(4)"
   ]
  },
  {
   "cell_type": "code",
   "execution_count": 2,
   "id": "cc3680cb",
   "metadata": {},
   "outputs": [],
   "source": [
    "#Calculate Power (x,n) using Recursion - Solution"
   ]
  },
  {
   "cell_type": "code",
   "execution_count": 3,
   "id": "69ddbef3",
   "metadata": {},
   "outputs": [
    {
     "data": {
      "text/plain": [
       "32"
      ]
     },
     "execution_count": 3,
     "metadata": {},
     "output_type": "execute_result"
    }
   ],
   "source": [
    "def pow(a,b):\n",
    "    if b==0:\n",
    "        return 1\n",
    "    else:\n",
    "        return a* pow(a,b-1)\n",
    "    \n",
    "pow(2,5)"
   ]
  },
  {
   "cell_type": "code",
   "execution_count": 4,
   "id": "f44400b6",
   "metadata": {},
   "outputs": [],
   "source": [
    "#Calculate Power using Recursion (Logarithmic) |"
   ]
  },
  {
   "cell_type": "code",
   "execution_count": 5,
   "id": "779aa629",
   "metadata": {},
   "outputs": [
    {
     "data": {
      "text/plain": [
       "32"
      ]
     },
     "execution_count": 5,
     "metadata": {},
     "output_type": "execute_result"
    }
   ],
   "source": [
    "def pow_log(a,b):\n",
    "    if b==0:\n",
    "        return 1\n",
    "    \n",
    "    \n",
    "    half = pow_log(a , b//2)\n",
    "    k = (half * half)\n",
    "    \n",
    "    if b % 2 == 1:\n",
    "        return (k * a)\n",
    "    \n",
    "    return k\n",
    "    \n",
    "pow_log(2,5)"
   ]
  },
  {
   "cell_type": "code",
   "execution_count": 6,
   "id": "2a519ef8",
   "metadata": {},
   "outputs": [],
   "source": [
    "#Tower of Hanoi solved using Recursion"
   ]
  },
  {
   "cell_type": "code",
   "execution_count": 7,
   "id": "f3bf8102",
   "metadata": {},
   "outputs": [
    {
     "name": "stdout",
     "output_type": "stream",
     "text": [
      "10 to  11\n",
      "10 to  12\n",
      "11 to  12\n",
      "10 to  11\n",
      "12 to  10\n",
      "12 to  11\n",
      "10 to  11\n"
     ]
    }
   ],
   "source": [
    "def toh(x , a , b , c):\n",
    "    \n",
    "    if x == 0:\n",
    "        return\n",
    "    \n",
    "    toh(x-1 , a , c , b)\n",
    "    \n",
    "    print(a , \"to \" , b)\n",
    "    \n",
    "    toh(x-1 , c , b , a)\n",
    "    \n",
    "    \n",
    "toh(3 , 10 , 11 , 12)\n",
    "    \n",
    "# 10 is tower A, 11 is tower b and 12 is tower C   \n",
    "    "
   ]
  },
  {
   "cell_type": "code",
   "execution_count": null,
   "id": "7d1e793b",
   "metadata": {},
   "outputs": [],
   "source": []
  },
  {
   "cell_type": "code",
   "execution_count": null,
   "id": "d2dd3657",
   "metadata": {},
   "outputs": [],
   "source": []
  },
  {
   "cell_type": "code",
   "execution_count": 11,
   "id": "d666cfec",
   "metadata": {},
   "outputs": [],
   "source": [
    "#Display Array Elements using Recursion"
   ]
  },
  {
   "cell_type": "code",
   "execution_count": 12,
   "id": "514a4975",
   "metadata": {},
   "outputs": [
    {
     "name": "stdout",
     "output_type": "stream",
     "text": [
      "1\n",
      "2\n",
      "3\n",
      "4\n",
      "5\n"
     ]
    }
   ],
   "source": [
    "def print_array(arr, idx):\n",
    "\n",
    "    \n",
    "    if idx >= len(arr):\n",
    "        return\n",
    "    \n",
    "    print(arr[idx])\n",
    "    print_array(arr, idx+1)\n",
    "    \n",
    "print_array([1,2,3,4,5],0)\n",
    "    "
   ]
  },
  {
   "cell_type": "code",
   "execution_count": null,
   "id": "9ab52a0f",
   "metadata": {},
   "outputs": [],
   "source": []
  },
  {
   "cell_type": "code",
   "execution_count": 13,
   "id": "d6b1bf6e",
   "metadata": {},
   "outputs": [],
   "source": [
    "#Display Array in Reverse using Recursion"
   ]
  },
  {
   "cell_type": "code",
   "execution_count": 14,
   "id": "1f0fb8d0",
   "metadata": {},
   "outputs": [
    {
     "name": "stdout",
     "output_type": "stream",
     "text": [
      "5\n",
      "4\n",
      "3\n",
      "2\n",
      "1\n"
     ]
    }
   ],
   "source": [
    "def arr_reverse(arr, idx):\n",
    "    \n",
    "    if idx >= len(arr):\n",
    "        return\n",
    "    \n",
    "    arr_reverse(arr, idx +1)\n",
    "    print(arr[idx])\n",
    "    \n",
    "arr_reverse([1,2,3,4,5], 0)"
   ]
  },
  {
   "cell_type": "code",
   "execution_count": null,
   "id": "a2a04f79",
   "metadata": {},
   "outputs": [],
   "source": []
  },
  {
   "cell_type": "code",
   "execution_count": 18,
   "id": "f1a3d436",
   "metadata": {},
   "outputs": [],
   "source": [
    "#Find Maximum of an Array using Recursion"
   ]
  },
  {
   "cell_type": "code",
   "execution_count": 19,
   "id": "1a09c027",
   "metadata": {},
   "outputs": [
    {
     "data": {
      "text/plain": [
       "20"
      ]
     },
     "execution_count": 19,
     "metadata": {},
     "output_type": "execute_result"
    }
   ],
   "source": [
    "def max_array(arr, idx):\n",
    "    \n",
    "    if idx == len(arr) -1 :\n",
    "        return arr[idx]\n",
    "    \n",
    "    gg = max_array(arr, idx + 1)\n",
    "    \n",
    "    if arr[idx] > gg:\n",
    "        return arr[idx]\n",
    "    else:\n",
    "        return gg\n",
    "\n",
    "    \n",
    "max_array([1,20,3,4,5], 0)\n",
    "    "
   ]
  },
  {
   "cell_type": "code",
   "execution_count": 22,
   "id": "90e496be",
   "metadata": {},
   "outputs": [],
   "source": [
    "#First Index of Occurrence in Array using Recursion"
   ]
  },
  {
   "cell_type": "code",
   "execution_count": 1,
   "id": "21812c5b",
   "metadata": {},
   "outputs": [
    {
     "data": {
      "text/plain": [
       "3"
      ]
     },
     "execution_count": 1,
     "metadata": {},
     "output_type": "execute_result"
    }
   ],
   "source": [
    "def first_occ(arr, idx, key):\n",
    "    \n",
    "    \n",
    "    \n",
    "    if len(arr) == idx:\n",
    "        return -1\n",
    "    \n",
    "    tt = first_occ(arr, idx + 1, key)\n",
    "    \n",
    "    if arr[idx] == key:\n",
    "        return idx\n",
    "    else:\n",
    "        return tt\n",
    "    \n",
    "first_occ([3,4,7,8,6,5,2,6,9,8,66,7], 0, 8)\n",
    "    "
   ]
  },
  {
   "cell_type": "code",
   "execution_count": 24,
   "id": "18f9028f",
   "metadata": {},
   "outputs": [
    {
     "data": {
      "text/plain": [
       "4"
      ]
     },
     "execution_count": 24,
     "metadata": {},
     "output_type": "execute_result"
    }
   ],
   "source": [
    "def first_occ_two(arr, idx, key):\n",
    "    \n",
    "    \n",
    "    \n",
    "    \n",
    "    if len(arr) == idx:\n",
    "        return -1\n",
    "     \n",
    "    \n",
    "    if arr[idx] == key:\n",
    "        return idx\n",
    "    else:\n",
    "        return first_occ_two(arr, idx + 1, key)\n",
    "\n",
    "    \n",
    "arr2 = [2,3,6,9,8,3,2,3,6,4]\n",
    "first_occ_two(arr2, 0, 8)\n",
    "    "
   ]
  },
  {
   "cell_type": "code",
   "execution_count": 26,
   "id": "ecd3f9cb",
   "metadata": {},
   "outputs": [],
   "source": [
    "#Last Index of Occurrence - Solution"
   ]
  },
  {
   "cell_type": "code",
   "execution_count": 27,
   "id": "b25327d5",
   "metadata": {},
   "outputs": [
    {
     "data": {
      "text/plain": [
       "10"
      ]
     },
     "execution_count": 27,
     "metadata": {},
     "output_type": "execute_result"
    }
   ],
   "source": [
    "def last_occ(arr, idx, key):\n",
    "        \n",
    "    if idx == len(arr):\n",
    "        return -1\n",
    "    \n",
    "    tt = last_occ(arr, idx + 1, key)\n",
    "    \n",
    "    if tt == -1:\n",
    "        if arr[idx] == key:\n",
    "            return idx\n",
    "        \n",
    "        else:\n",
    "            return -1\n",
    "        \n",
    "    else:\n",
    "        return tt\n",
    "        \n",
    "    \n",
    "    \n",
    "last_occ([2,3,6,9,8,3,2,3,6,4, 3], 0, 3)"
   ]
  },
  {
   "cell_type": "code",
   "execution_count": null,
   "id": "94ec938c",
   "metadata": {},
   "outputs": [],
   "source": []
  },
  {
   "cell_type": "code",
   "execution_count": 28,
   "id": "dd9c88d6",
   "metadata": {},
   "outputs": [],
   "source": [
    "#All Indices in Array - Solution"
   ]
  },
  {
   "cell_type": "code",
   "execution_count": 4,
   "id": "0e4a906f",
   "metadata": {},
   "outputs": [
    {
     "data": {
      "text/plain": [
       "[10, 7, 5, 4, 1]"
      ]
     },
     "execution_count": 4,
     "metadata": {},
     "output_type": "execute_result"
    }
   ],
   "source": [
    "def all_occ(arr, idx, key, fsf , ct):\n",
    "        \n",
    "    if idx == len(arr):\n",
    "        return -1    \n",
    "        \n",
    "    tt = all_occ(arr, idx + 1, key, fsf, ct)\n",
    "    \n",
    "    if arr[idx] == key:\n",
    "        \n",
    "        fsf.append(idx)\n",
    "        return fsf , ct\n",
    "        \n",
    "    else:\n",
    "        return fsf \n",
    "    \n",
    "fsf = []   \n",
    "ct = 0\n",
    "all_occ([2,3,6,9,3,3,2,3,6,4,3,100], 0, 3,fsf, ct)\n"
   ]
  },
  {
   "cell_type": "code",
   "execution_count": null,
   "id": "5b96b08e",
   "metadata": {},
   "outputs": [],
   "source": []
  },
  {
   "cell_type": "code",
   "execution_count": null,
   "id": "e3f8057e",
   "metadata": {},
   "outputs": [],
   "source": []
  },
  {
   "cell_type": "code",
   "execution_count": null,
   "id": "38dcdad6",
   "metadata": {},
   "outputs": [],
   "source": []
  },
  {
   "cell_type": "code",
   "execution_count": null,
   "id": "f6fa5671",
   "metadata": {},
   "outputs": [],
   "source": []
  },
  {
   "cell_type": "code",
   "execution_count": null,
   "id": "2c0cd46d",
   "metadata": {},
   "outputs": [],
   "source": [
    "#Get Subsequence  | Recursion"
   ]
  },
  {
   "cell_type": "code",
   "execution_count": 13,
   "id": "85da53c6",
   "metadata": {},
   "outputs": [
    {
     "name": "stdout",
     "output_type": "stream",
     "text": [
      "['abc']\n",
      "['abc', 'ab']\n",
      "['abc', 'ab', 'ac']\n",
      "['abc', 'ab', 'ac', 'a']\n",
      "['abc', 'ab', 'ac', 'a', 'bc']\n",
      "['abc', 'ab', 'ac', 'a', 'bc', 'b']\n",
      "['abc', 'ab', 'ac', 'a', 'bc', 'b', 'c']\n",
      "['abc', 'ab', 'ac', 'a', 'bc', 'b', 'c', '']\n"
     ]
    }
   ],
   "source": [
    "def printSubsequence(input, output , temp):\n",
    "    \n",
    "    if len(input) == 0:\n",
    "        temp.append(output)\n",
    "        \n",
    "        \n",
    "        print(temp)\n",
    "        #print(output)\n",
    "        \n",
    "        return\n",
    "\n",
    "    printSubsequence(input[1:], output+input[0] , temp)\n",
    "\n",
    "    printSubsequence(input[1:], output , temp)\n",
    "    \n",
    "    \n",
    "\n",
    "\n",
    "output = \"\"\n",
    "input = \"abc\"\n",
    "temp = []\n",
    "printSubsequence(input, output , temp)"
   ]
  },
  {
   "cell_type": "code",
   "execution_count": null,
   "id": "c25c74c8",
   "metadata": {},
   "outputs": [],
   "source": []
  },
  {
   "cell_type": "code",
   "execution_count": 66,
   "id": "a36fe81d",
   "metadata": {},
   "outputs": [],
   "source": []
  },
  {
   "cell_type": "code",
   "execution_count": null,
   "id": "1573c0bc",
   "metadata": {},
   "outputs": [],
   "source": []
  },
  {
   "cell_type": "code",
   "execution_count": 2,
   "id": "91295f69",
   "metadata": {},
   "outputs": [],
   "source": [
    "#Print Stair Paths - Solution "
   ]
  },
  {
   "cell_type": "code",
   "execution_count": 10,
   "id": "daffec6d",
   "metadata": {},
   "outputs": [
    {
     "name": "stdout",
     "output_type": "stream",
     "text": [
      "11111\n",
      "2111\n",
      "1211\n",
      "311\n",
      "1121\n",
      "221\n",
      "131\n",
      "41\n",
      "1112\n",
      "212\n",
      "122\n",
      "32\n",
      "113\n",
      "23\n",
      "14\n"
     ]
    }
   ],
   "source": [
    "def get_path(n , path):\n",
    "    \n",
    "    if n == 0:\n",
    "        print(path)\n",
    "        \n",
    "        \n",
    "    if n < 0:\n",
    "        return\n",
    "    \n",
    "    \n",
    "    get_path(n-1 ,  '1' + path)\n",
    "    get_path(n-2 ,  '2' + path)\n",
    "    get_path(n-3 ,  '3' + path)\n",
    "    get_path(n-4 ,  '4' + path)\n",
    "    \n",
    "    \n",
    "        \n",
    "            \n",
    "        \n",
    "        \n",
    "        \n",
    "get_path(5 , '')\n",
    "    "
   ]
  },
  {
   "cell_type": "code",
   "execution_count": 78,
   "id": "d255a9d7",
   "metadata": {},
   "outputs": [],
   "source": [
    "#Print Maze Paths  # n = -> , m = | downward"
   ]
  },
  {
   "cell_type": "code",
   "execution_count": 87,
   "id": "046a6eb8",
   "metadata": {},
   "outputs": [
    {
     "name": "stdout",
     "output_type": "stream",
     "text": [
      "vvhh\n",
      "vhvh\n",
      "vhhv\n",
      "hvvh\n",
      "hvhv\n",
      "hhvv\n"
     ]
    }
   ],
   "source": [
    "def maze_path(arr , startr, endr, startc, endc, path):\n",
    "    \n",
    "    if startr == endr and startc == endc:\n",
    "        print(path)\n",
    "        return\n",
    "        \n",
    "        \n",
    "    if startr > endr :\n",
    "        return\n",
    "    \n",
    "    if  startc > endc:\n",
    "        return\n",
    "\n",
    "    \n",
    "    maze_path(arr , startr + 1, endr, startc, endc , path + 'v')\n",
    "    maze_path(arr , startr , endr , startc+1 , endc , path + 'h')\n",
    "    \n",
    " \n",
    "arr = [[1,2,3],\n",
    "       [4,5,6], \n",
    "      [7,8,9]]\n",
    "maze_path(arr ,1 , 3, 1 , 3 ,  '')"
   ]
  },
  {
   "cell_type": "code",
   "execution_count": null,
   "id": "bfd84508",
   "metadata": {},
   "outputs": [],
   "source": [
    "#Print Maze Paths with Jumps"
   ]
  },
  {
   "cell_type": "code",
   "execution_count": 4,
   "id": "32d557ca",
   "metadata": {},
   "outputs": [
    {
     "name": "stdout",
     "output_type": "stream",
     "text": [
      "vvhh\n",
      "vhvh\n",
      "vhhv\n",
      "vhd\n",
      "vdh\n",
      "hvvh\n",
      "hvhv\n",
      "hvd\n",
      "hhvv\n",
      "hdv\n",
      "dvh\n",
      "dhv\n",
      "dd\n"
     ]
    }
   ],
   "source": [
    "def maze_path2(arr , startr, endr, startc, endc, path):\n",
    "    \n",
    "    if startr == endr and startc == endc:\n",
    "        print(path)\n",
    "        return\n",
    "        \n",
    "        \n",
    "    if startr > endr :\n",
    "        return\n",
    "    \n",
    "    if  startc > endc:\n",
    "        return\n",
    "\n",
    "    \n",
    "    maze_path2(arr , startr + 1, endr, startc, endc , path + 'v')\n",
    "    maze_path2(arr , startr , endr , startc+1 , endc , path + 'h')\n",
    "    maze_path2(arr , startr + 1, endr, startc+1, endc , path + 'd')\n",
    "    \n",
    " \n",
    "arr = [[1,2,3],\n",
    "       [4,5,6], \n",
    "      [7,8,9]]\n",
    "maze_path2(arr ,1 , 3, 1 , 3 ,  '')"
   ]
  },
  {
   "cell_type": "code",
   "execution_count": null,
   "id": "c149cde2",
   "metadata": {},
   "outputs": [],
   "source": []
  },
  {
   "cell_type": "code",
   "execution_count": null,
   "id": "10e1daef",
   "metadata": {},
   "outputs": [],
   "source": [
    "#Print sums of all subsets of a given set"
   ]
  },
  {
   "cell_type": "code",
   "execution_count": 12,
   "id": "7f1c904e",
   "metadata": {},
   "outputs": [
    {
     "name": "stdout",
     "output_type": "stream",
     "text": [
      "10\n",
      "5\n",
      "7\n",
      "2\n",
      "8\n",
      "3\n",
      "5\n",
      "0\n"
     ]
    }
   ],
   "source": [
    "def sum_sst(l , r , arr , sum = 0):\n",
    "    if l > r:\n",
    "        print(sum)\n",
    "        return\n",
    "    \n",
    "    sum_sst(l + 1 , r , arr , sum + arr[l])\n",
    "    sum_sst(l + 1 , r , arr , sum )\n",
    "    \n",
    "    \n",
    "arr = [2,3,5]\n",
    "sum_sst(0 , len(arr) -1 , arr)"
   ]
  },
  {
   "cell_type": "code",
   "execution_count": null,
   "id": "0673a299",
   "metadata": {},
   "outputs": [],
   "source": []
  },
  {
   "cell_type": "code",
   "execution_count": null,
   "id": "562d11eb",
   "metadata": {},
   "outputs": [],
   "source": []
  },
  {
   "cell_type": "code",
   "execution_count": null,
   "id": "521c109f",
   "metadata": {},
   "outputs": [],
   "source": []
  },
  {
   "cell_type": "code",
   "execution_count": null,
   "id": "eec9189f",
   "metadata": {},
   "outputs": [],
   "source": [
    "#Print Permutations - Solution | Recursion"
   ]
  },
  {
   "cell_type": "code",
   "execution_count": 11,
   "id": "08d8c83f",
   "metadata": {},
   "outputs": [
    {
     "name": "stdout",
     "output_type": "stream",
     "text": [
      "abc\n",
      "acb\n",
      "bac\n",
      "bca\n",
      "cab\n",
      "cba\n"
     ]
    }
   ],
   "source": [
    "def permu(input , output):\n",
    "    \n",
    "    if len(input) == 0:\n",
    "        print(output)\n",
    "        return\n",
    "    \n",
    "    \n",
    "    for i in range(len(input)):\n",
    "        \n",
    "        ch = input[i]\n",
    "        \n",
    "        lstr = input[0:i]\n",
    "        rstr = input[i+1:]\n",
    "        \n",
    "        rstri = lstr + rstr\n",
    "        \n",
    "        permu(rstri , output + ch)\n",
    "    \n",
    "    \n",
    "permu('abc' , '')"
   ]
  },
  {
   "cell_type": "code",
   "execution_count": 92,
   "id": "eea35ddf",
   "metadata": {},
   "outputs": [],
   "source": [
    "#Flood Fill - Solution"
   ]
  },
  {
   "cell_type": "code",
   "execution_count": 13,
   "id": "1c108704",
   "metadata": {},
   "outputs": [
    {
     "name": "stdout",
     "output_type": "stream",
     "text": [
      "[[0, 0, 0], [0, 0, 0], [0, 0, 0]]\n",
      "rrdd\n",
      "rdrd\n",
      "drrd\n",
      "drtrdd\n"
     ]
    }
   ],
   "source": [
    "def flood(arr , r , c ,op , temp ):\n",
    "    \n",
    "    if r < 0 or c < 0 or r == len(arr) or c == (len(arr[r])) or arr[r][c] == 1 or temp[r][c] == True  :\n",
    "        return\n",
    "    \n",
    "    if r == (len(arr)-1) and c == (len(arr[r])-1):\n",
    "        print(op)\n",
    "        return\n",
    "    \n",
    "    \n",
    "    temp[r][c] = True\n",
    "    flood(arr , r , c-1 , op + 'l',  temp )\n",
    "    flood(arr , r , c+1 , op + 'r' , temp)\n",
    "    flood(arr , r-1 , c , op + 't' , temp)\n",
    "    flood(arr , r+1 , c , op + 'd' , temp)\n",
    "    temp[r][c] = False\n",
    "    \n",
    "    \n",
    " \n",
    "    \n",
    "arr = [[0,0,0],\n",
    "       [0,0,0], \n",
    "      [0,1,0]]\n",
    "\n",
    "\n",
    "\n",
    "temp = [[0 for x in range(len(arr))] for x in range(len(arr[0]))]\n",
    "print(temp)\n",
    "flood(arr , 0 , 0 , '' , temp)"
   ]
  },
  {
   "cell_type": "code",
   "execution_count": null,
   "id": "c762301b",
   "metadata": {},
   "outputs": [],
   "source": []
  },
  {
   "cell_type": "code",
   "execution_count": null,
   "id": "6580df21",
   "metadata": {},
   "outputs": [],
   "source": []
  },
  {
   "cell_type": "code",
   "execution_count": null,
   "id": "a74bc431",
   "metadata": {},
   "outputs": [],
   "source": [
    "#Target Sum Subsets - Solution | Recursion | Data Structures and Algorithms"
   ]
  },
  {
   "cell_type": "code",
   "execution_count": 19,
   "id": "d5445d49",
   "metadata": {},
   "outputs": [
    {
     "name": "stdout",
     "output_type": "stream",
     "text": [
      "1020 ,\n",
      "30 ,\n"
     ]
    }
   ],
   "source": [
    "def sum_sst(arr , idx , temp , sos , key):\n",
    "    if idx == len(arr):\n",
    "        if sos == key:\n",
    "            print(temp)\n",
    "            \n",
    "        return\n",
    "    \n",
    "    sum_sst(arr , idx + 1 , temp + str(arr[idx])  , sos + arr[idx] , key)\n",
    "    sum_sst(arr , idx + 1 , temp , sos , key)\n",
    "    \n",
    "    \n",
    "sum_sst([10,20,30] , 0 , '' , 0 , 30)\n",
    "    "
   ]
  },
  {
   "cell_type": "code",
   "execution_count": null,
   "id": "1583896d",
   "metadata": {},
   "outputs": [],
   "source": []
  },
  {
   "cell_type": "code",
   "execution_count": 20,
   "id": "8dd8e540",
   "metadata": {},
   "outputs": [],
   "source": [
    "# N-Queen"
   ]
  },
  {
   "cell_type": "code",
   "execution_count": 28,
   "id": "0e0ca3aa",
   "metadata": {},
   "outputs": [
    {
     "name": "stdout",
     "output_type": "stream",
     "text": [
      "0-1,1-3,2-0,3-2,\n",
      "0-2,1-0,2-3,3-1,\n"
     ]
    }
   ],
   "source": [
    "        def nqueens(arr, qsf , r):\n",
    "\n",
    "            if r == len(arr):\n",
    "                print(qsf)\n",
    "                return\n",
    "\n",
    "            for i in range(len(arr)):\n",
    "\n",
    "                if issafetoplace(arr , r  ,i) == True:\n",
    "\n",
    "                    arr[r][i] = 1\n",
    "                    nqueens(arr, qsf + str(r) + '-' + str(i) + ',' , r+1)\n",
    "                    arr[r][i] = 0\n",
    "\n",
    "    #   upar vertical , aur diagonal dono side check\n",
    "        def issafetoplace(arr , r  ,c):\n",
    "            i = r-1\n",
    "            while i >= 0:\n",
    "                if arr[i][c] == 1:\n",
    "                    return False\n",
    "\n",
    "                i = i-1\n",
    "\n",
    "            i = r-1\n",
    "            j = c-1\n",
    "\n",
    "            while i >= 0 and j >= 0:\n",
    "                if arr[i][j] == 1:\n",
    "                    return False\n",
    "\n",
    "                i -= 1\n",
    "                j -= 1\n",
    "\n",
    "            i = r-1\n",
    "            j = c+1\n",
    "\n",
    "            while i >= 0 and j < len(arr):\n",
    "                if arr[i][j] == 1:\n",
    "                    return False\n",
    "\n",
    "                i -= 1\n",
    "                j += 1\n",
    "\n",
    "            return True\n",
    "        \n",
    "        \n",
    "        \n",
    "                \n",
    "        arr = [[0 for x in range(n)] for x in range(n)]\n",
    "        nqueens(arr , '' , 0)"
   ]
  },
  {
   "cell_type": "code",
   "execution_count": null,
   "id": "308364a7",
   "metadata": {},
   "outputs": [],
   "source": []
  },
  {
   "cell_type": "code",
   "execution_count": null,
   "id": "6ed4c142",
   "metadata": {},
   "outputs": [],
   "source": []
  },
  {
   "cell_type": "code",
   "execution_count": null,
   "id": "5563b058",
   "metadata": {},
   "outputs": [],
   "source": []
  },
  {
   "cell_type": "code",
   "execution_count": null,
   "id": "98729845",
   "metadata": {},
   "outputs": [],
   "source": []
  },
  {
   "cell_type": "code",
   "execution_count": null,
   "id": "630426e1",
   "metadata": {},
   "outputs": [],
   "source": [
    "def revs(s):\n",
    "    if len(s)==1:\n",
    "        return s\n",
    "    else:\n",
    "        return revs(s[1:]) + s[0]\n",
    "strgs = 'binod'    \n",
    "revs(strgs)"
   ]
  },
  {
   "cell_type": "code",
   "execution_count": null,
   "id": "6d2439ba",
   "metadata": {},
   "outputs": [],
   "source": []
  },
  {
   "cell_type": "code",
   "execution_count": 5,
   "id": "3aaa2c07",
   "metadata": {},
   "outputs": [
    {
     "data": {
      "text/plain": [
       "'ixixixix3.14xixix3.14ii3.14xx'"
      ]
     },
     "execution_count": 5,
     "metadata": {},
     "output_type": "execute_result"
    }
   ],
   "source": [
    "def pi(st):\n",
    "    if len(st) == 0 or len(st) ==1:\n",
    "        return st\n",
    "    \n",
    "    elif st[0]== 'p' and st[1] == 'i':\n",
    "        \n",
    "        return \"3.14\" + pi(st[2:])\n",
    "    else:\n",
    "        return st[0] + pi(st[1:])\n",
    "    \n",
    "pip = \"ixixixixpixixixpiiipixx\"\n",
    "pi(pip)"
   ]
  },
  {
   "cell_type": "code",
   "execution_count": null,
   "id": "971826eb",
   "metadata": {},
   "outputs": [],
   "source": []
  },
  {
   "cell_type": "code",
   "execution_count": null,
   "id": "a10d77f2",
   "metadata": {},
   "outputs": [],
   "source": []
  },
  {
   "cell_type": "code",
   "execution_count": 6,
   "id": "03d0581a",
   "metadata": {},
   "outputs": [
    {
     "data": {
      "text/plain": [
       "'abcde'"
      ]
     },
     "execution_count": 6,
     "metadata": {},
     "output_type": "execute_result"
    }
   ],
   "source": [
    "def dupli(s):\n",
    "    if len(s)==1:\n",
    "        return s\n",
    "    elif s[0]==s[1]:\n",
    "        #print(s)\n",
    "        return dupli(s[1:])\n",
    "    else:\n",
    "        return s[0] + dupli(s[1:])\n",
    "    \n",
    "sng = 'aaabbbbccddddeeeeee'\n",
    "dupli(sng)"
   ]
  },
  {
   "cell_type": "code",
   "execution_count": null,
   "id": "e17dbc97",
   "metadata": {},
   "outputs": [],
   "source": []
  },
  {
   "cell_type": "code",
   "execution_count": null,
   "id": "a8a13a4b",
   "metadata": {},
   "outputs": [],
   "source": [
    "def movex(s,key):\n",
    "    if len(s)==1:\n",
    "        return s\n",
    "    \n",
    "    \n",
    "    elif s[0]==key:\n",
    "        #print(s)\n",
    "        return movex(s[1:],key) + key\n",
    "    else:\n",
    "        return s[0] + movex(s[1:],key)\n",
    "kk = 'axxbdxxcefxhix'\n",
    "movex(kk,'x')    "
   ]
  },
  {
   "cell_type": "code",
   "execution_count": null,
   "id": "e43cdb0d",
   "metadata": {},
   "outputs": [],
   "source": []
  },
  {
   "cell_type": "code",
   "execution_count": null,
   "id": "6ddc4e90",
   "metadata": {},
   "outputs": [],
   "source": [
    "def subst(s,ans):\n",
    "\n",
    "    if len(s)==0:\n",
    "        print(ans)\n",
    "        return\n",
    "\n",
    "    #ord(c)\n",
    "    subst(s[1:], ans)\n",
    "    subst(s[1:], ans + s[0])\n",
    "    #print(ans)\n",
    "    \n",
    "subst('abc',\"\")    "
   ]
  },
  {
   "cell_type": "code",
   "execution_count": null,
   "id": "f2ec6ad7",
   "metadata": {},
   "outputs": [],
   "source": []
  },
  {
   "cell_type": "code",
   "execution_count": null,
   "id": "be18cb0c",
   "metadata": {},
   "outputs": [],
   "source": [
    "def subst_ascii(s,ans):\n",
    "\n",
    "    if len(s)==0:\n",
    "        print(ans)\n",
    "        return\n",
    "    #print(\"\")\n",
    "\n",
    "    #ord(c)\n",
    "    ch = ord(s[0])\n",
    "    subst_ascii(s[1:], ans)\n",
    "    subst_ascii(s[1:], ans + s[0])\n",
    "    print(\"\")\n",
    "    subst_ascii(s[1:], ans + str(ch))\n",
    "    #print(ans)\n",
    "    \n",
    "subst_ascii('abc', \"\")  "
   ]
  },
  {
   "cell_type": "code",
   "execution_count": null,
   "id": "4f70f273",
   "metadata": {},
   "outputs": [],
   "source": []
  },
  {
   "cell_type": "code",
   "execution_count": null,
   "id": "4f6c1d2f",
   "metadata": {},
   "outputs": [],
   "source": [
    "def permu(s,ans):\n",
    "    if len(s)==0:\n",
    "        return \n",
    "    for i in range(len(s)):\n",
    "        \n",
    "        pos = s[0:i:] + s[i+1:]\n",
    "        permu(pos, ans + s[i])\n",
    "    print(ans)\n",
    "permu('abcd',\"\")        "
   ]
  },
  {
   "cell_type": "code",
   "execution_count": null,
   "id": "35211b07",
   "metadata": {},
   "outputs": [],
   "source": []
  },
  {
   "cell_type": "code",
   "execution_count": null,
   "id": "2afacf3e",
   "metadata": {},
   "outputs": [],
   "source": []
  }
 ],
 "metadata": {
  "kernelspec": {
   "display_name": "Python 3",
   "language": "python",
   "name": "python3"
  },
  "language_info": {
   "codemirror_mode": {
    "name": "ipython",
    "version": 3
   },
   "file_extension": ".py",
   "mimetype": "text/x-python",
   "name": "python",
   "nbconvert_exporter": "python",
   "pygments_lexer": "ipython3",
   "version": "3.8.10"
  }
 },
 "nbformat": 4,
 "nbformat_minor": 5
}
