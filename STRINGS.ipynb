{
 "cells": [
  {
   "cell_type": "code",
   "execution_count": 2,
   "id": "33027f67",
   "metadata": {},
   "outputs": [
    {
     "data": {
      "text/plain": [
       "2"
      ]
     },
     "execution_count": 2,
     "metadata": {},
     "output_type": "execute_result"
    }
   ],
   "source": [
    "def count(s, x):\n",
    "    mem = {}\n",
    "    for i in range(len(s)):\n",
    "        mem[s[i]] = []\n",
    "        \n",
    "\n",
    "        \n",
    "        \n",
    "    for i in s:\n",
    "        mem[i].append(1) \n",
    "        \n",
    "    return len(mem[x])\n",
    "\n",
    "\n",
    "count('ruchir', 'r')"
   ]
  },
  {
   "cell_type": "code",
   "execution_count": 5,
   "id": "3329a810",
   "metadata": {},
   "outputs": [
    {
     "name": "stdout",
     "output_type": "stream",
     "text": [
      "<built-in method count of str object at 0x0000018C7B440830>\n"
     ]
    },
    {
     "data": {
      "text/plain": [
       "1"
      ]
     },
     "execution_count": 5,
     "metadata": {},
     "output_type": "execute_result"
    }
   ],
   "source": [
    "def areRotations(string1, string2):\n",
    "    size1 = len(string1)\n",
    "    size2 = len(string2)\n",
    "    temp = ''\n",
    "\n",
    "    if size1 != size2:\n",
    "        return 0\n",
    "\n",
    "    temp = string1 + string1\n",
    " \n",
    "\n",
    "    if (temp.count(string2)> 0):\n",
    "        print(temp.count)\n",
    "        return 1\n",
    "    else:\n",
    "        return 0\n",
    "    \n",
    "areRotations('ABCD', 'CDAB')"
   ]
  },
  {
   "cell_type": "code",
   "execution_count": 39,
   "id": "c0f0af5d",
   "metadata": {},
   "outputs": [
    {
     "name": "stdout",
     "output_type": "stream",
     "text": [
      "\n"
     ]
    },
    {
     "data": {
      "text/plain": [
       "('', '')"
      ]
     },
     "execution_count": 39,
     "metadata": {},
     "output_type": "execute_result"
    }
   ],
   "source": [
    "def countandsay(n):\n",
    "    #('2223')\n",
    "    \n",
    "    \n",
    "    if n == 1:\n",
    "        return '1'\n",
    "    if n == 11:\n",
    "        return '11'\n",
    "    s = '11'\n",
    "    for i in range(2,n):\n",
    "        temp = ''\n",
    "        count = 1\n",
    "        for j in range( len(s)-1):                \n",
    "        \n",
    "            if s[j] != s[j-1]:\n",
    "            \n",
    "                temp =  temp + str(count) \n",
    "                temp = temp +  s[j-1]\n",
    "                count = 1\n",
    "                print(temp)\n",
    "            else:\n",
    "                count += 1\n",
    "                print(temp)\n",
    "            \n",
    "        s = temp\n",
    "            \n",
    "    return s, temp\n",
    "\n",
    "countandsay(23)\n",
    "        \n",
    "    \n",
    "    \n",
    "    "
   ]
  },
  {
   "cell_type": "code",
   "execution_count": null,
   "id": "4db31bb3",
   "metadata": {},
   "outputs": [],
   "source": []
  },
  {
   "cell_type": "code",
   "execution_count": null,
   "id": "52c2fb4f",
   "metadata": {},
   "outputs": [],
   "source": []
  },
  {
   "cell_type": "code",
   "execution_count": null,
   "id": "1af6276c",
   "metadata": {},
   "outputs": [],
   "source": []
  },
  {
   "cell_type": "code",
   "execution_count": null,
   "id": "56add901",
   "metadata": {},
   "outputs": [],
   "source": []
  },
  {
   "cell_type": "code",
   "execution_count": 40,
   "id": "5d831b2b",
   "metadata": {},
   "outputs": [
    {
     "data": {
      "text/plain": [
       "['d', 'e', 'r', 's', 'w']"
      ]
     },
     "execution_count": 40,
     "metadata": {},
     "output_type": "execute_result"
    }
   ],
   "source": [
    "A = 'sdwer'\n",
    "sorted(A)"
   ]
  },
  {
   "cell_type": "code",
   "execution_count": null,
   "id": "6f559a55",
   "metadata": {},
   "outputs": [],
   "source": []
  }
 ],
 "metadata": {
  "kernelspec": {
   "display_name": "Python 3",
   "language": "python",
   "name": "python3"
  },
  "language_info": {
   "codemirror_mode": {
    "name": "ipython",
    "version": 3
   },
   "file_extension": ".py",
   "mimetype": "text/x-python",
   "name": "python",
   "nbconvert_exporter": "python",
   "pygments_lexer": "ipython3",
   "version": "3.8.10"
  }
 },
 "nbformat": 4,
 "nbformat_minor": 5
}
