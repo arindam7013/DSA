{
 "cells": [
  {
   "cell_type": "code",
   "execution_count": null,
   "id": "8982d189",
   "metadata": {},
   "outputs": [],
   "source": [
    "        Types of Qs:\n",
    "        1. LCS- Longest Incrasing Subsequence (4)\n",
    "        2. Perfect squares (1)\n",
    "        3. Catalan Numbers  (6)\n",
    "        4. Matrix Chain Multiplication (4-5) -> Aditya verma\n",
    "        5. Longest Common(palindrome) Subsequences ()\n"
   ]
  },
  {
   "cell_type": "code",
   "execution_count": null,
   "id": "de2e2bfa",
   "metadata": {},
   "outputs": [],
   "source": []
  },
  {
   "cell_type": "code",
   "execution_count": null,
   "id": "510303a8",
   "metadata": {},
   "outputs": [],
   "source": [
    "#Largest Square Submatrix of all 1's "
   ]
  },
  {
   "cell_type": "code",
   "execution_count": null,
   "id": "c395f0f3",
   "metadata": {},
   "outputs": [],
   "source": [
    "#Leetcode solution : https://leetcode.com/problems/maximal-square/submissions/"
   ]
  },
  {
   "cell_type": "code",
   "execution_count": 6,
   "id": "003cc964",
   "metadata": {},
   "outputs": [
    {
     "data": {
      "text/plain": [
       "3"
      ]
     },
     "execution_count": 6,
     "metadata": {},
     "output_type": "execute_result"
    }
   ],
   "source": [
    "def maxSquare(n, m, mat):\n",
    "        memo = [[0 for x in range(m)] for n in range(n)]\n",
    "        \n",
    "        \n",
    "        for i in range(n-1 , -1 , -1):\n",
    "            for j in range(m-1 , -1 , -1):\n",
    "                \n",
    "                if i == n-1:\n",
    "                    if mat[i][j] == 0:\n",
    "                        memo[i][j] = 0\n",
    "                        \n",
    "                    else:\n",
    "                        memo[i][j] = 1\n",
    "                        \n",
    "                elif j == m-1:\n",
    "                    if mat[i][j] == 0:\n",
    "                        memo[i][j] = 0\n",
    "                        \n",
    "                    else:\n",
    "                        memo[i][j] = 1\n",
    "                        \n",
    "                        \n",
    "                else:\n",
    "                    if mat[i][j] == 0:\n",
    "                        memo[i][j] = 0\n",
    "                        \n",
    "                    else:\n",
    "                        \n",
    "                        mm = min(memo[i+1][j] , memo[i][j+1] , memo[i+1][j+1])\n",
    "                        memo[i][j] = 1 + mm\n",
    "                    \n",
    "                    \n",
    "        maxi = 0\n",
    "        \n",
    "        for i in range(n):\n",
    "            for j in range(m):\n",
    "                maxi = max(memo[i][j] , maxi)\n",
    "                \n",
    "                \n",
    "        return maxi \n",
    "    \n",
    "maxSquare( 5, 6, [[0,1,0,1,0,1], [1,0,1,0,1,0] , [0,1,1,1,1,0] , [0,0,1,1,1,0] , [1,1,1,1,1,1]])"
   ]
  },
  {
   "cell_type": "code",
   "execution_count": null,
   "id": "ca4afa3e",
   "metadata": {},
   "outputs": [],
   "source": []
  },
  {
   "cell_type": "code",
   "execution_count": null,
   "id": "f7ad2906",
   "metadata": {},
   "outputs": [],
   "source": []
  },
  {
   "cell_type": "code",
   "execution_count": 2,
   "id": "33017ce9",
   "metadata": {},
   "outputs": [],
   "source": [
    "#Longest Increasing Subsequence"
   ]
  },
  {
   "cell_type": "code",
   "execution_count": 7,
   "id": "43c366da",
   "metadata": {},
   "outputs": [
    {
     "data": {
      "text/plain": [
       "([1, 2, 2, 3, 2, 3, 3, 4, 2, 4, 3, 5, 3, 5, 4, 6], 6)"
      ]
     },
     "execution_count": 7,
     "metadata": {},
     "output_type": "execute_result"
    }
   ],
   "source": [
    "def inc_ssq(arr):\n",
    "    n = len(arr)\n",
    "    memo = [0] * n\n",
    "    \n",
    "    memo[0] = 1\n",
    "    \n",
    "    for i in range(1 , n):\n",
    "        maxi = 1\n",
    "        for j in range(i):\n",
    "            \n",
    "            if arr[j] < arr[i]:\n",
    "                maxi = max(maxi , memo[j] + 1)\n",
    "                \n",
    "        memo[i] = maxi\n",
    "        \n",
    "    return memo , max(memo)\n",
    "\n",
    "inc_ssq([0,8,4,12,2,10,6,14,1,9,5,13,3,11,7,15])\n",
    "#0,8,4,12,2,10,6,14,1,9,5,13,3,11,7,15"
   ]
  },
  {
   "cell_type": "code",
   "execution_count": null,
   "id": "24171ec9",
   "metadata": {},
   "outputs": [],
   "source": []
  },
  {
   "cell_type": "code",
   "execution_count": 8,
   "id": "aa32c829",
   "metadata": {},
   "outputs": [],
   "source": [
    "#Maximum Sum Increasing Subsequence | Dynamic Programming "
   ]
  },
  {
   "cell_type": "code",
   "execution_count": 9,
   "id": "a4a04ba4",
   "metadata": {},
   "outputs": [
    {
     "data": {
      "text/plain": [
       "([1, 102, 3, 6, 106], 106)"
      ]
     },
     "execution_count": 9,
     "metadata": {},
     "output_type": "execute_result"
    }
   ],
   "source": [
    "def inc_sum_ssq(arr):\n",
    "    n = len(arr)\n",
    "    memo = [0] * n\n",
    "    \n",
    "    memo[0] = arr[0]\n",
    "    \n",
    "    for i in range(1 , n):\n",
    "        maxi = 1\n",
    "        for j in range(i):\n",
    "            \n",
    "            if arr[j] <= arr[i]:\n",
    "                maxi = max(maxi , memo[j])\n",
    "                \n",
    "        memo[i] = arr[i] + maxi\n",
    "        \n",
    "    return memo , max(memo)\n",
    "\n",
    "inc_sum_ssq([1, 101, 2, 3, 100])\n",
    "#1, 101, 2, 3, 100"
   ]
  },
  {
   "cell_type": "code",
   "execution_count": null,
   "id": "c8362ccf",
   "metadata": {},
   "outputs": [],
   "source": []
  },
  {
   "cell_type": "code",
   "execution_count": null,
   "id": "84c40e1c",
   "metadata": {},
   "outputs": [],
   "source": []
  },
  {
   "cell_type": "code",
   "execution_count": null,
   "id": "7b42809a",
   "metadata": {},
   "outputs": [],
   "source": []
  },
  {
   "cell_type": "code",
   "execution_count": 20,
   "id": "d9199869",
   "metadata": {},
   "outputs": [
    {
     "data": {
      "text/plain": [
       "[1, 2, 2, 3, 2, 3, 3, 4, 2, 4, 3, 5, 3, 5, 4, 6]"
      ]
     },
     "execution_count": 20,
     "metadata": {},
     "output_type": "execute_result"
    }
   ],
   "source": [
    "def inc_ssq(arr):\n",
    "    n = len(arr)\n",
    "    memo = [0] * n\n",
    "    \n",
    "    memo[0] = 1\n",
    "    \n",
    "    for i in range(1 , n):\n",
    "        maxi = 1\n",
    "        for j in range(i):\n",
    "            \n",
    "            if arr[j] < arr[i]:\n",
    "                maxi = max(maxi , memo[j] + 1)\n",
    "                \n",
    "        memo[i] = maxi\n",
    "        \n",
    "    return   memo #max(memo) ,\n",
    "\n",
    "inc_ssq([0,8,4,12,2,10,6,14,1,9,5,13,3,11,7,15])\n",
    "#0,8,4,12,2,10,6,14,1,9,5,13,3,11,7,15"
   ]
  },
  {
   "cell_type": "code",
   "execution_count": 21,
   "id": "e4af78dd",
   "metadata": {},
   "outputs": [],
   "source": [
    "#Longest Bitonic Subsequence"
   ]
  },
  {
   "cell_type": "code",
   "execution_count": 23,
   "id": "49c81c61",
   "metadata": {},
   "outputs": [
    {
     "name": "stdout",
     "output_type": "stream",
     "text": [
      "[3, 80, 60, 41, 50, 21, 33, 9, 22, 10]\n"
     ]
    },
    {
     "data": {
      "text/plain": [
       "([1, 2, 1, 3, 2, 4, 4, 5, 6, 1],\n",
       " [3, 3, 2, 3, 2, 3, 2, 2, 2, 1],\n",
       " [4, 5, 3, 6, 4, 7, 6, 7, 8, 2],\n",
       " 7)"
      ]
     },
     "execution_count": 23,
     "metadata": {},
     "output_type": "execute_result"
    }
   ],
   "source": [
    "def LongestBitonicSequence(arr):\n",
    "    n = len(arr)\n",
    "    temp = arr[::-1]\n",
    "    print(temp)\n",
    "    \n",
    "    a = inc_ssq(arr)\n",
    "    b = inc_ssq(temp)\n",
    "    b = b[::-1]\n",
    "    \n",
    "    #print(a , b)\n",
    "    memo = [0] * n\n",
    "    \n",
    "    for i in range(n):\n",
    "        memo[i] = a[i] + b[i]\n",
    "    return a , b , memo , max(memo) -1\n",
    "    #print(a,b)\n",
    "    \n",
    "    \n",
    "        \n",
    "    \n",
    "LongestBitonicSequence([10,22,9,33,21,50,41,60,80,3])"
   ]
  },
  {
   "cell_type": "code",
   "execution_count": null,
   "id": "d765d620",
   "metadata": {},
   "outputs": [],
   "source": []
  },
  {
   "cell_type": "code",
   "execution_count": null,
   "id": "373f92f1",
   "metadata": {},
   "outputs": [],
   "source": []
  },
  {
   "cell_type": "code",
   "execution_count": null,
   "id": "66bf244e",
   "metadata": {},
   "outputs": [],
   "source": [
    "#same q as above"
   ]
  },
  {
   "cell_type": "code",
   "execution_count": null,
   "id": "3a6ddb68",
   "metadata": {},
   "outputs": [],
   "source": [
    "def LongestBitonicSequence(self, arr):\n",
    "\t    n = len(arr)\n",
    "\t    memo = [0] * n\n",
    "\t    memo2 = [0] * n\n",
    "        \n",
    "        memo[0] = 1\n",
    "        \n",
    "        for i in range(1 , len(arr)):\n",
    "            hi = 0\n",
    "            for j in range(0 , i):\n",
    "                if arr[i] > arr[j]:\n",
    "                    if memo[j] > hi:\n",
    "                        hi = memo[j] \n",
    "                    \n",
    "                    \n",
    "            memo[i] = hi + 1\n",
    "                    \n",
    "        memo2[len(arr)-1] = 1            \n",
    "        for i in range(len(arr)-2 , -1, -1):\n",
    "            hi = 0\n",
    "            for j in range(len(arr)-1 , i , -1):\n",
    "                if arr[i] > arr[j]:\n",
    "                    if memo2[j] > hi:\n",
    "                        hi = memo2[j] \n",
    "                    \n",
    "                    \n",
    "            memo2[i] = hi + 1\n",
    "                \n",
    "        mm = 0\n",
    "        for i in range(len(memo)):\n",
    "            if (memo[i] + memo2[i]) > mm:\n",
    "                mm = memo[i] + memo2[i]\n",
    "                \n",
    "                \n",
    "        return (mm -1)"
   ]
  },
  {
   "cell_type": "code",
   "execution_count": null,
   "id": "0cdb6f9d",
   "metadata": {},
   "outputs": [],
   "source": []
  },
  {
   "cell_type": "code",
   "execution_count": null,
   "id": "5dc0f5f3",
   "metadata": {},
   "outputs": [],
   "source": []
  },
  {
   "cell_type": "code",
   "execution_count": 1,
   "id": "029cf068",
   "metadata": {},
   "outputs": [],
   "source": [
    "#Maximum Non-Overlapping Bridges | Building Bridges | Dynamic Programming   -> GFG\n",
    "\n",
    "# north banks and south banks will be given. To solve this:\n",
    "# Sort the north bank in increasing order. Sount bank pe LIS lagado. "
   ]
  },
  {
   "cell_type": "code",
   "execution_count": null,
   "id": "458a1f92",
   "metadata": {},
   "outputs": [],
   "source": []
  },
  {
   "cell_type": "code",
   "execution_count": null,
   "id": "86293303",
   "metadata": {},
   "outputs": [],
   "source": [
    "#Russian Doll Envelopes Dynamic Programming\n",
    "# same as above question\n",
    "# width pe sort and height pe LIS"
   ]
  },
  {
   "cell_type": "code",
   "execution_count": 3,
   "id": "522d1624",
   "metadata": {},
   "outputs": [
    {
     "data": {
      "text/plain": [
       "3"
      ]
     },
     "execution_count": 3,
     "metadata": {},
     "output_type": "execute_result"
    }
   ],
   "source": [
    "def inc_ssq( arr):\n",
    "        n = len(arr)\n",
    "        memo = [0] * n\n",
    "\n",
    "        memo[0] = 1\n",
    "\n",
    "        for i in range(1 , n):\n",
    "            maxi = 1\n",
    "            for j in range(i):\n",
    "\n",
    "                if arr[j] < arr[i]:\n",
    "                    maxi = max(maxi , memo[j]+1)\n",
    "\n",
    "            memo[i] = maxi\n",
    "\n",
    "        return  max(memo)\n",
    "\n",
    "def maxEnvelopes( envelopes) :\n",
    "        envelopes.sort(key=lambda env: (env[0], -env[1]))\n",
    "        nums = [env[1] for env in envelopes]\n",
    "        return inc_ssq(nums)\n",
    "    \n",
    "    \n",
    "envelopes = [[5,4],[6,4],[6,7],[2,3]]\n",
    "maxEnvelopes(envelopes)"
   ]
  },
  {
   "cell_type": "code",
   "execution_count": null,
   "id": "b539f03f",
   "metadata": {},
   "outputs": [],
   "source": []
  },
  {
   "cell_type": "code",
   "execution_count": null,
   "id": "3377e8d5",
   "metadata": {},
   "outputs": [],
   "source": []
  },
  {
   "cell_type": "code",
   "execution_count": null,
   "id": "112b22d3",
   "metadata": {},
   "outputs": [],
   "source": []
  },
  {
   "cell_type": "code",
   "execution_count": 35,
   "id": "c24f57ae",
   "metadata": {},
   "outputs": [],
   "source": [
    "#Perfect Squares Dynamic Programming"
   ]
  },
  {
   "cell_type": "code",
   "execution_count": 24,
   "id": "d645e275",
   "metadata": {},
   "outputs": [
    {
     "data": {
      "text/plain": [
       "([0, 1, 2, 3, 1, 2, 3, 4, 2, 1], 1)"
      ]
     },
     "execution_count": 24,
     "metadata": {},
     "output_type": "execute_result"
    }
   ],
   "source": [
    "def perf_sq(n):\n",
    "    \n",
    "    memo = [0] * (n+1)\n",
    "    memo[1] = 1\n",
    "    memo[2] = 2\n",
    "    memo[3] = 3\n",
    "    \n",
    "    for i in range(4 , n+1):\n",
    "        mini = float('inf')\n",
    "        \n",
    "        for j in range(1 , i):\n",
    "            if (j * j) <= i:\n",
    "                \n",
    "                rem = i - (j*j)\n",
    "                if memo[rem] < mini:\n",
    "                    mini = memo[rem]\n",
    "                \n",
    "        memo[i] = mini + 1\n",
    "        \n",
    "                \n",
    "    return memo , memo[n]\n",
    "\n",
    "perf_sq(9)"
   ]
  },
  {
   "cell_type": "code",
   "execution_count": null,
   "id": "3f4cb2af",
   "metadata": {},
   "outputs": [],
   "source": []
  },
  {
   "cell_type": "code",
   "execution_count": 8,
   "id": "dbd1ee4a",
   "metadata": {},
   "outputs": [],
   "source": [
    "#Perfect Squares Dynamic Programming - same with better time complexity"
   ]
  },
  {
   "cell_type": "code",
   "execution_count": 9,
   "id": "ee257bf3",
   "metadata": {},
   "outputs": [
    {
     "data": {
      "text/plain": [
       "1"
      ]
     },
     "execution_count": 9,
     "metadata": {},
     "output_type": "execute_result"
    }
   ],
   "source": [
    "def numSquares( n) :\n",
    "        memo = [0] * (n+1)\n",
    "        \n",
    "        memo[1] = 1\n",
    "        \n",
    "\n",
    "        for i in range(2 , n+1):\n",
    "            mini = float('inf')\n",
    "            \n",
    "            j = 1\n",
    "            while (j*j) <= i:\n",
    "                                                                       \n",
    "                if (j * j) <= i:\n",
    "\n",
    "                    rem = i - (j*j)\n",
    "                    if memo[rem] < mini:\n",
    "                        mini = memo[rem]\n",
    "                        \n",
    "                j += 1\n",
    "\n",
    "            memo[i] = mini + 1\n",
    "\n",
    "\n",
    "        return  memo[n]\n",
    "    \n",
    "numSquares( 9)"
   ]
  },
  {
   "cell_type": "code",
   "execution_count": null,
   "id": "4ac90428",
   "metadata": {},
   "outputs": [],
   "source": []
  },
  {
   "cell_type": "code",
   "execution_count": 51,
   "id": "dbf28cbc",
   "metadata": {},
   "outputs": [],
   "source": [
    "#Catalan Numbers Dynamic Programming"
   ]
  },
  {
   "cell_type": "code",
   "execution_count": 25,
   "id": "d973b14b",
   "metadata": {},
   "outputs": [
    {
     "data": {
      "text/plain": [
       "[1, 1, 2, 5, 14, 42, 132, 429, 1430]"
      ]
     },
     "execution_count": 25,
     "metadata": {},
     "output_type": "execute_result"
    }
   ],
   "source": [
    "def cata(n):\n",
    "    memo = [0] * (n+1)\n",
    "    \n",
    "    memo[0] = 1\n",
    "    memo[1] = 1\n",
    "    \n",
    "    for i in range(2 , len(memo)):\n",
    "        for j in range(i):\n",
    "            #memo[i] += memo[j] * memo[i-j-1]\n",
    "            memo[i] = memo[i] + (memo[j] * memo[i-j-1])\n",
    "            \n",
    "            \n",
    "    return memo\n",
    "\n",
    "cata(8)"
   ]
  },
  {
   "cell_type": "code",
   "execution_count": null,
   "id": "7ce4a4a8",
   "metadata": {},
   "outputs": [],
   "source": []
  },
  {
   "cell_type": "code",
   "execution_count": null,
   "id": "838ec11f",
   "metadata": {},
   "outputs": [],
   "source": []
  },
  {
   "cell_type": "code",
   "execution_count": null,
   "id": "e8da0fdc",
   "metadata": {},
   "outputs": [],
   "source": [
    "#Count Number of Binary Search Trees with N Nodes Dynamic Programming - Catalan Numbers"
   ]
  },
  {
   "cell_type": "code",
   "execution_count": 56,
   "id": "71b9b096",
   "metadata": {},
   "outputs": [
    {
     "data": {
      "text/plain": [
       "[1, 1, 2, 5, 14, 42, 132, 429, 1430]"
      ]
     },
     "execution_count": 56,
     "metadata": {},
     "output_type": "execute_result"
    }
   ],
   "source": [
    "def bsts(n):\n",
    "    memo = [0] * (n+1)\n",
    "    \n",
    "    memo[0] = 1\n",
    "    memo[1] = 1\n",
    "    \n",
    "    for i in range(2 , len(memo)):\n",
    "        for j in range(i):\n",
    "            memo[i] += memo[j] * memo[i-j-1]\n",
    "            \n",
    "            \n",
    "    return memo\n",
    "\n",
    "bsts(8)"
   ]
  },
  {
   "cell_type": "code",
   "execution_count": null,
   "id": "75b7bf87",
   "metadata": {},
   "outputs": [],
   "source": []
  },
  {
   "cell_type": "code",
   "execution_count": null,
   "id": "984bee1e",
   "metadata": {},
   "outputs": [],
   "source": [
    "#Counting Valleys And Mountains Dynamic Programming"
   ]
  },
  {
   "cell_type": "code",
   "execution_count": 57,
   "id": "71a281db",
   "metadata": {},
   "outputs": [
    {
     "data": {
      "text/plain": [
       "[1, 1, 2, 5, 14, 42, 132, 429, 1430]"
      ]
     },
     "execution_count": 57,
     "metadata": {},
     "output_type": "execute_result"
    }
   ],
   "source": [
    "def valley_mnt(n):\n",
    "    memo = [0] * (n+1)\n",
    "    \n",
    "    memo[0] = 1\n",
    "    memo[1] = 1\n",
    "    \n",
    "    for i in range(2 , len(memo)):\n",
    "        for j in range(i):\n",
    "            memo[i] += memo[j] * memo[i-j-1]\n",
    "            \n",
    "            \n",
    "    return memo\n",
    "\n",
    "valley_mnt(8)"
   ]
  },
  {
   "cell_type": "code",
   "execution_count": null,
   "id": "a1a74ea0",
   "metadata": {},
   "outputs": [],
   "source": []
  },
  {
   "cell_type": "code",
   "execution_count": null,
   "id": "ff0769ae",
   "metadata": {},
   "outputs": [],
   "source": []
  },
  {
   "cell_type": "code",
   "execution_count": null,
   "id": "56d7154e",
   "metadata": {},
   "outputs": [],
   "source": [
    "#Combinations of Balanced Parentheses Dynamic Programming"
   ]
  },
  {
   "cell_type": "code",
   "execution_count": 10,
   "id": "a20a4e19",
   "metadata": {},
   "outputs": [
    {
     "data": {
      "text/plain": [
       "[1, 1, 2, 5, 14, 42, 132, 429, 1430]"
      ]
     },
     "execution_count": 10,
     "metadata": {},
     "output_type": "execute_result"
    }
   ],
   "source": [
    "def parent(n):\n",
    "    memo = [0] * (n+1)\n",
    "    \n",
    "    memo[0] = 1\n",
    "    memo[1] = 1\n",
    "    \n",
    "    for i in range(2 , len(memo)):\n",
    "        for j in range(i):\n",
    "            memo[i] += memo[j] * memo[i-j-1]\n",
    "            \n",
    "            \n",
    "    return memo\n",
    "\n",
    "parent(8)"
   ]
  },
  {
   "cell_type": "code",
   "execution_count": null,
   "id": "0114a74b",
   "metadata": {},
   "outputs": [],
   "source": []
  },
  {
   "cell_type": "code",
   "execution_count": null,
   "id": "8c9a51db",
   "metadata": {},
   "outputs": [],
   "source": []
  },
  {
   "cell_type": "code",
   "execution_count": null,
   "id": "2b204c8f",
   "metadata": {},
   "outputs": [],
   "source": [
    "#Both the below questions are reducable to Catalan's Number"
   ]
  },
  {
   "cell_type": "code",
   "execution_count": null,
   "id": "2ee3a6ab",
   "metadata": {},
   "outputs": [],
   "source": [
    "#Non Intersecting Chords in a Circle Dynamic Programming"
   ]
  },
  {
   "cell_type": "code",
   "execution_count": null,
   "id": "91b5dd0f",
   "metadata": {},
   "outputs": [],
   "source": [
    "#Ways of Polygon Triangulation Dynamic Programming "
   ]
  },
  {
   "cell_type": "code",
   "execution_count": null,
   "id": "a16b2b0d",
   "metadata": {},
   "outputs": [],
   "source": []
  },
  {
   "cell_type": "code",
   "execution_count": null,
   "id": "2da7d03c",
   "metadata": {},
   "outputs": [],
   "source": []
  },
  {
   "cell_type": "code",
   "execution_count": 7,
   "id": "ab9ea89e",
   "metadata": {},
   "outputs": [
    {
     "name": "stdout",
     "output_type": "stream",
     "text": [
      "6\n"
     ]
    }
   ],
   "source": [
    "sum = 0\n",
    "for _ in range(6):\n",
    "    sum += 1\n",
    "    \n",
    "print(sum)\n",
    "    "
   ]
  },
  {
   "cell_type": "code",
   "execution_count": null,
   "id": "d2e99c0e",
   "metadata": {},
   "outputs": [],
   "source": []
  },
  {
   "cell_type": "code",
   "execution_count": null,
   "id": "1f643114",
   "metadata": {},
   "outputs": [],
   "source": []
  },
  {
   "cell_type": "code",
   "execution_count": null,
   "id": "a2bd7003",
   "metadata": {},
   "outputs": [],
   "source": [
    "#Longest Common Subsequence Dynamic Programming"
   ]
  },
  {
   "cell_type": "code",
   "execution_count": 60,
   "id": "249ed5af",
   "metadata": {},
   "outputs": [
    {
     "data": {
      "text/plain": [
       "3"
      ]
     },
     "execution_count": 60,
     "metadata": {},
     "output_type": "execute_result"
    }
   ],
   "source": [
    "def lcs1(a1 , b1):\n",
    "    n1 = len(a1)\n",
    "    n2 = len(b1)\n",
    "    memo = [[0 for x in range(n2 + 1)] for x in range(n1 + 1)]\n",
    "    \n",
    "    for i in range(n1 , -1, -1):\n",
    "        for j in range(n2 , -1 , -1):\n",
    "            \n",
    "            if i == n1 and j == n2:\n",
    "                memo[i][j] = 0\n",
    "                \n",
    "            elif i == n1:\n",
    "                memo[i][j] = 0\n",
    "            elif j == n2:\n",
    "                memo[i][j] = 0\n",
    "                \n",
    "            else:\n",
    "                if a1[i] == b1[j]:\n",
    "                    memo[i][j] = 1 + (memo[i+1][j+1])\n",
    "                    \n",
    "                else:\n",
    "                    memo[i][j] = max(memo[i+1][j] , memo[i][j+1])\n",
    "                    \n",
    "    return memo[0][0]\n",
    "\n",
    "lcs1('abcd' , 'aebd')"
   ]
  },
  {
   "cell_type": "code",
   "execution_count": null,
   "id": "8ebe1f2e",
   "metadata": {},
   "outputs": [],
   "source": []
  },
  {
   "cell_type": "code",
   "execution_count": null,
   "id": "dca3a3f7",
   "metadata": {},
   "outputs": [],
   "source": []
  },
  {
   "cell_type": "code",
   "execution_count": null,
   "id": "b63492bf",
   "metadata": {},
   "outputs": [],
   "source": [
    "# Longest Palindromic Subsequence Dynamic Programming"
   ]
  },
  {
   "cell_type": "code",
   "execution_count": 61,
   "id": "402e4ac1",
   "metadata": {},
   "outputs": [
    {
     "data": {
      "text/plain": [
       "4"
      ]
     },
     "execution_count": 61,
     "metadata": {},
     "output_type": "execute_result"
    }
   ],
   "source": [
    "def lon_pal(a1):\n",
    "    b1 = a1[::-1]\n",
    "    n1 = len(a1)\n",
    "    n2 = len(b1)\n",
    "    memo = [[0 for x in range(n2 + 1)] for x in range(n1 + 1)]\n",
    "    \n",
    "    for i in range(n1 , -1, -1):\n",
    "        for j in range(n2 , -1 , -1):\n",
    "            \n",
    "            if i == n1 and j == n2:\n",
    "                memo[i][j] = 0\n",
    "                \n",
    "            elif i == n1:\n",
    "                memo[i][j] = 0\n",
    "            elif j == n2:\n",
    "                memo[i][j] = 0\n",
    "                \n",
    "            else:\n",
    "                if a1[i] == b1[j]:\n",
    "                    memo[i][j] = 1 + (memo[i+1][j+1])\n",
    "                    \n",
    "                else:\n",
    "                    memo[i][j] = max(memo[i+1][j] , memo[i][j+1])\n",
    "                    \n",
    "    return memo[0][0]\n",
    "\n",
    "lon_pal('abkccbc')"
   ]
  },
  {
   "cell_type": "code",
   "execution_count": null,
   "id": "f435cce3",
   "metadata": {},
   "outputs": [],
   "source": []
  },
  {
   "cell_type": "code",
   "execution_count": null,
   "id": "dfbab776",
   "metadata": {},
   "outputs": [],
   "source": []
  },
  {
   "cell_type": "code",
   "execution_count": null,
   "id": "1f816516",
   "metadata": {},
   "outputs": [],
   "source": [
    "n = len(arr1)\n",
    "        arr2 = arr1[::-1]\n",
    "        m = len(arr2)\n",
    "        memo = [[0 for x in range(n + 1)] for x in range(m + 1)]\n",
    "    \n",
    "    \n",
    "        #base case -> initialization\n",
    "        for i in range(m):\n",
    "            for j in range(n):\n",
    "                if i == 0 and j==0:\n",
    "                    memo[i][j] = 0\n",
    "                if i == 0:\n",
    "                    memo[i][j] = 0\n",
    "                \n",
    "                if j == 0:\n",
    "                    memo[i][j] = 0\n",
    "                \n",
    "    \n",
    "        #main code\n",
    "        \n",
    "        for i in range(1, m+1):\n",
    "            for j in range(1, n+1):\n",
    "                if arr1[i-1]==arr2[j-1]:\n",
    "                    memo[i][j] = 1 + memo[i-1][j-1]\n",
    "            \n",
    "                else:\n",
    "                    memo[i][j] =  max(memo[i-1][j] , memo[i][j-1])\n",
    "            \n",
    "    \n",
    "    #max = 0\n",
    "    #for i in range(m+1):\n",
    "     #   for j in range(n+1):\n",
    "     #       if memo[i][j] > max:\n",
    "    #            max = memo[i][j]\n",
    "    #print(memo)\n",
    "        return memo[m][n]\n",
    "        "
   ]
  },
  {
   "cell_type": "code",
   "execution_count": null,
   "id": "bb911c58",
   "metadata": {},
   "outputs": [],
   "source": []
  },
  {
   "cell_type": "code",
   "execution_count": 4,
   "id": "b5f10843",
   "metadata": {},
   "outputs": [],
   "source": [
    "#Count Palindromic Subsequences Dynamic Programming | Leetcode Hard Solutions"
   ]
  },
  {
   "cell_type": "code",
   "execution_count": 8,
   "id": "6e197b76",
   "metadata": {},
   "outputs": [
    {
     "name": "stdout",
     "output_type": "stream",
     "text": [
      "Total palindromic subsequence are :  9\n"
     ]
    }
   ],
   "source": [
    "# Python3 code to Count Palindromic\n",
    "# Subsequence in a given String\n",
    "\n",
    "# Function return the total\n",
    "# palindromic subsequence\n",
    "\n",
    "\n",
    "def countPS(str):\n",
    "\n",
    "\tN = len(str)\n",
    "\n",
    "\t# Create a 2D array to store the count\n",
    "\t# of palindromic subsequence\n",
    "\tcps = [[0 for i in range(N + 2)]for j in range(N + 2)]\n",
    "\n",
    "\n",
    "\tfor i in range(N):\n",
    "\t\tcps[i][i] = 1\n",
    "\n",
    "\n",
    "\tfor i in range(2, N + 1):\n",
    "\n",
    "\t\tfor j in range(N):\n",
    "            \n",
    "\t\t\tk = i + j - 1\n",
    "\t\t\tif (k < N):\n",
    "\t\t\t\tif (str[j] == str[k]):\n",
    "\t\t\t\t\tcps[j][k] = (cps[j][k - 1] +\n",
    "\t\t\t\t\t\t\t\tcps[j + 1][k] + 1)\n",
    "\t\t\t\telse:\n",
    "\t\t\t\t\tcps[j][k] = (cps[j][k - 1] +\n",
    "\t\t\t\t\t\t\t\tcps[j + 1][k] -\n",
    "\t\t\t\t\t\t\t\tcps[j + 1][k - 1])\n",
    "\n",
    "\treturn cps[0][N - 1]\n",
    "\n",
    "\n",
    "str = \"bccb\"\n",
    "print(\"Total palindromic subsequence are : \", countPS(str))\n",
    "\n",
    "\n"
   ]
  },
  {
   "cell_type": "code",
   "execution_count": null,
   "id": "e5a58649",
   "metadata": {},
   "outputs": [],
   "source": []
  },
  {
   "cell_type": "code",
   "execution_count": null,
   "id": "804e5f0e",
   "metadata": {},
   "outputs": [],
   "source": [
    "#Diagonal Traversal"
   ]
  },
  {
   "cell_type": "code",
   "execution_count": 26,
   "id": "be1a2a5a",
   "metadata": {},
   "outputs": [
    {
     "name": "stdout",
     "output_type": "stream",
     "text": [
      "1\n",
      "5\n",
      "11\n",
      "9\n",
      "2\n",
      "6\n",
      "9\n",
      "3\n",
      "9\n",
      "9\n"
     ]
    }
   ],
   "source": [
    "\n",
    "def diagonal(arr):\n",
    "    \n",
    "    for g in range(len(arr)):\n",
    "        i = 0\n",
    "        j = g\n",
    "        while j < len(arr):\n",
    "            \n",
    "            print(arr[i][j])\n",
    "            \n",
    "            i += 1\n",
    "            j += 1\n",
    "    \n",
    "  \n",
    "\n",
    "arr = [[1,2,3 , 9],\n",
    "       [4,5,6 ,  9],\n",
    "       [9,10,11 , 9],\n",
    "       [12,13,14 , 9]]\n",
    "diagonal(arr)"
   ]
  },
  {
   "cell_type": "code",
   "execution_count": null,
   "id": "a84e7843",
   "metadata": {},
   "outputs": [],
   "source": []
  },
  {
   "cell_type": "code",
   "execution_count": null,
   "id": "75c58098",
   "metadata": {},
   "outputs": [],
   "source": []
  },
  {
   "cell_type": "code",
   "execution_count": 9,
   "id": "c9daee8f",
   "metadata": {},
   "outputs": [],
   "source": [
    "#Count Palindromic Substrings Dynamic Programming - 32"
   ]
  },
  {
   "cell_type": "code",
   "execution_count": null,
   "id": "35486107",
   "metadata": {},
   "outputs": [],
   "source": [
    "def pal_sstr(st):\n",
    "    n = len(st)\n",
    "    memo = [[0 for x in range(n)] for x in range(n)]\n",
    "    \n",
    "    \n",
    "    for g in range(len(arr)):\n",
    "        i = 0\n",
    "        j = g\n",
    "        while j < len(arr):\n",
    "            \n",
    "            if i == j:\n",
    "                memo[i][j] = True\n",
    "                \n",
    "            elif abs(j-i) == 1:\n",
    "                if st[i] == st[j]:\n",
    "                    memo[i][j] = True\n",
    "                else:\n",
    "                    memo[i][j] = False\n",
    "                \n",
    "            else:\n",
    "                if st[i] == st[j] and memo[i+1][j-1] == True:\n",
    "                    memo[i][j] = True\n",
    "                    \n",
    "                else:\n",
    "                    memo[i][j] = False\n",
    "                    \n",
    "                    \n",
    "            i += 1\n",
    "            j += 1\n",
    "            \n",
    "    \n",
    "    \n",
    "    "
   ]
  },
  {
   "cell_type": "code",
   "execution_count": null,
   "id": "9999fdbd",
   "metadata": {},
   "outputs": [],
   "source": [
    "#Leetcode pe kara hua poora q"
   ]
  },
  {
   "cell_type": "code",
   "execution_count": 9,
   "id": "1981dd7d",
   "metadata": {},
   "outputs": [
    {
     "data": {
      "text/plain": [
       "9"
      ]
     },
     "execution_count": 9,
     "metadata": {},
     "output_type": "execute_result"
    }
   ],
   "source": [
    "def countSubstrings(st) :\n",
    "        n = len(st)\n",
    "        memo = [[False for x in range(n)] for x in range(n)]\n",
    "\n",
    "\n",
    "        for g in range(len(memo)):\n",
    "            i = 0\n",
    "            j = g\n",
    "            while j < len(memo):\n",
    "\n",
    "                if i == j:\n",
    "                    memo[i][j] = True\n",
    "\n",
    "                elif abs(j-i) == 1:\n",
    "                    if st[i] == st[j]:\n",
    "                        memo[i][j] = True\n",
    "                    #else:\n",
    "                    #    memo[i][j] = False\n",
    "\n",
    "                else:\n",
    "                    if st[i] == st[j] and memo[i+1][j-1] == True:\n",
    "                        memo[i][j] = True\n",
    "\n",
    "                   # else:\n",
    "                   #     memo[i][j] = False\n",
    "\n",
    "\n",
    "                i += 1\n",
    "                j += 1\n",
    "                \n",
    "        \n",
    "        count = 0\n",
    "        \n",
    "        for g in range(len(memo)):\n",
    "            i = 0\n",
    "            j = g\n",
    "            while j < len(memo):\n",
    "\n",
    "                if memo[i][j] == True:\n",
    "                    count += 1\n",
    "\n",
    "                i += 1\n",
    "                j += 1\n",
    "                \n",
    "                \n",
    "        return count\n",
    "    \n",
    "    \n",
    "s = \"abccbc\"\n",
    "countSubstrings(s)"
   ]
  },
  {
   "cell_type": "code",
   "execution_count": null,
   "id": "3d593599",
   "metadata": {},
   "outputs": [],
   "source": []
  },
  {
   "cell_type": "code",
   "execution_count": null,
   "id": "8504b07e",
   "metadata": {},
   "outputs": [],
   "source": [
    "#Longest Palindromic Subsequence Dynamic -> Pepcoding wala solution - 30"
   ]
  },
  {
   "cell_type": "code",
   "execution_count": 28,
   "id": "82a7f3f1",
   "metadata": {},
   "outputs": [
    {
     "data": {
      "text/plain": [
       "4"
      ]
     },
     "execution_count": 28,
     "metadata": {},
     "output_type": "execute_result"
    }
   ],
   "source": [
    "def longestPalindromeSubseq(st) :\n",
    "        n = len(st)\n",
    "        memo = [[0 for x in range(n)] for x in range(n)]\n",
    "\n",
    "\n",
    "        for g in range(len(memo)):\n",
    "            i = 0\n",
    "            j = g\n",
    "            while j < len(memo):\n",
    "\n",
    "                if i == j:\n",
    "                    memo[i][j] = 1\n",
    "\n",
    "                elif abs(j-i) == 1:\n",
    "                    if st[i] == st[j]:\n",
    "                        memo[i][j] = 2\n",
    "                    else:\n",
    "                        memo[i][j] = 1\n",
    "\n",
    "                else:\n",
    "                    if st[i] == st[j] :\n",
    "                        memo[i][j] = 2 + memo[i+1][j-1]\n",
    "\n",
    "                    else:\n",
    "                        memo[i][j] = max(memo[i][j-1] , memo[i+1][j])\n",
    "                        \n",
    "                i += 1\n",
    "                j += 1\n",
    "       \n",
    "        return memo[0][n-1]\n",
    "    \n",
    "    \n",
    "s = \"abbaa\"\n",
    "longestPalindromeSubseq(s)"
   ]
  },
  {
   "cell_type": "code",
   "execution_count": null,
   "id": "f772da17",
   "metadata": {},
   "outputs": [],
   "source": []
  },
  {
   "cell_type": "code",
   "execution_count": null,
   "id": "a0a596e4",
   "metadata": {},
   "outputs": [],
   "source": [
    "#Count Palindromic Subsequences Dynamic Programming - 31"
   ]
  },
  {
   "cell_type": "code",
   "execution_count": 31,
   "id": "5dccc4cb",
   "metadata": {},
   "outputs": [
    {
     "data": {
      "text/plain": [
       "([[1, 3, 4, 6, 16, 33],\n",
       "  [0, 1, 2, 4, 9, 16],\n",
       "  [0, 0, 1, 3, 4, 6],\n",
       "  [0, 0, 0, 1, 2, 4],\n",
       "  [0, 0, 0, 0, 1, 3],\n",
       "  [0, 0, 0, 0, 0, 1]],\n",
       " 33)"
      ]
     },
     "execution_count": 31,
     "metadata": {},
     "output_type": "execute_result"
    }
   ],
   "source": [
    "def countPs(st) :\n",
    "        n = len(st)\n",
    "        memo = [[0 for x in range(n)] for x in range(n)]\n",
    "\n",
    "\n",
    "        for g in range(len(memo)):\n",
    "            i = 0\n",
    "            j = g\n",
    "            while j < len(memo):\n",
    "\n",
    "                if i == j:\n",
    "                    memo[i][j] = 1\n",
    "\n",
    "                elif abs(j-i) == 1:\n",
    "                    if st[i] == st[j]:\n",
    "                        memo[i][j] = 3\n",
    "                    else:\n",
    "                        memo[i][j] = 2\n",
    "\n",
    "                else:\n",
    "                    if st[i] == st[j] :\n",
    "                        memo[i][j] = memo[i][j-1] + memo[i+1][j] + 1\n",
    "\n",
    "                    else:\n",
    "                        memo[i][j] = (memo[i][j-1] + memo[i+1][j] - memo[i+1][j-1])\n",
    "                        \n",
    "                i += 1\n",
    "                j += 1\n",
    "       \n",
    "        return memo , memo[0][n-1]\n",
    "    \n",
    "    \n",
    "s = \"aabbaa\"\n",
    "countPs(s)"
   ]
  },
  {
   "cell_type": "code",
   "execution_count": null,
   "id": "d11d8f05",
   "metadata": {},
   "outputs": [],
   "source": []
  },
  {
   "cell_type": "code",
   "execution_count": null,
   "id": "4ee75073",
   "metadata": {},
   "outputs": [],
   "source": [
    "#Longest Palindromic Substring"
   ]
  },
  {
   "cell_type": "code",
   "execution_count": 25,
   "id": "4c2b1e12",
   "metadata": {},
   "outputs": [
    {
     "data": {
      "text/plain": [
       "4"
      ]
     },
     "execution_count": 25,
     "metadata": {},
     "output_type": "execute_result"
    }
   ],
   "source": [
    "def longestPalin(st) :\n",
    "    \n",
    "    n = len(st)\n",
    "    memo = [[0 for x in range(n)] for x in range(n)]\n",
    "\n",
    "\n",
    "    for g in range(len(memo)):\n",
    "            i = 0\n",
    "            j = g\n",
    "            while j < len(memo):\n",
    "\n",
    "                if i == j:\n",
    "                    memo[i][j] = 1\n",
    "\n",
    "                elif abs(j-i) == 1:\n",
    "                    if st[i] == st[j]:\n",
    "                        memo[i][j] = 2\n",
    "                    else:\n",
    "                        memo[i][j] = 1\n",
    "\n",
    "                else:\n",
    "                    if st[i] == st[j] :\n",
    "                        memo[i][j] = (2 + memo[i+1][j-1])   \n",
    "\n",
    "                    else:\n",
    "                        memo[i][j] = max(memo[i][j-1] , memo[i+1][j]) \n",
    "                        \n",
    "                i += 1\n",
    "                j += 1\n",
    "       \n",
    "    return memo[0][n-1]\n",
    "\n",
    "    \n",
    "    \n",
    "    \n",
    "    \n",
    "longestPalin('abccbc')"
   ]
  },
  {
   "cell_type": "code",
   "execution_count": null,
   "id": "5aa8c7c8",
   "metadata": {},
   "outputs": [],
   "source": [
    "#Longest Palindromic Substring - Print"
   ]
  },
  {
   "cell_type": "code",
   "execution_count": 28,
   "id": "07240e7c",
   "metadata": {},
   "outputs": [
    {
     "data": {
      "text/plain": [
       "'kqyqk'"
      ]
     },
     "execution_count": 28,
     "metadata": {},
     "output_type": "execute_result"
    }
   ],
   "source": [
    "def longestPalin_print(st) :\n",
    "    \n",
    "    n = len(st)\n",
    "    memo = [[0 for x in range(n)] for x in range(n)]\n",
    "\n",
    "\n",
    "    for g in range(len(memo)):\n",
    "            i = 0\n",
    "            j = g\n",
    "            while j < len(memo):\n",
    "\n",
    "                if i == j:\n",
    "                    memo[i][j] = st[i]\n",
    "\n",
    "                elif abs(j-i) == 1:\n",
    "                    if st[i] == st[j]:\n",
    "                        memo[i][j] = (st[i] + st[j])\n",
    "                    else:\n",
    "                        memo[i][j] = st[i]\n",
    "\n",
    "                else:\n",
    "                    if st[i] == st[j] :\n",
    "                        memo[i][j] = (st[i] + memo[i+1][j-1] + st[j])   \n",
    "\n",
    "                    else:\n",
    "                        if len(memo[i][j-1]) > len(memo[i+1][j]):\n",
    "                            memo[i][j] = memo[i][j-1]\n",
    "                            \n",
    "                        else:\n",
    "                            memo[i][j] = memo[i+1][j]\n",
    "                        \n",
    "                        \n",
    "                i += 1\n",
    "                j += 1\n",
    "       \n",
    "    return memo[0][n-1]\n",
    "\n",
    "    \n",
    "    \n",
    "    \n",
    "    \n",
    "longestPalin_print('rfkqyuqfjkxy')"
   ]
  },
  {
   "cell_type": "code",
   "execution_count": null,
   "id": "397a7b62",
   "metadata": {},
   "outputs": [],
   "source": []
  },
  {
   "cell_type": "code",
   "execution_count": null,
   "id": "8441833b",
   "metadata": {},
   "outputs": [],
   "source": []
  },
  {
   "cell_type": "code",
   "execution_count": null,
   "id": "ea6aa869",
   "metadata": {},
   "outputs": [],
   "source": [
    "#Count Distinct Subsequences Dynamic Programming "
   ]
  },
  {
   "cell_type": "code",
   "execution_count": 35,
   "id": "8a6156fd",
   "metadata": {},
   "outputs": [
    {
     "data": {
      "text/plain": [
       "7"
      ]
     },
     "execution_count": 35,
     "metadata": {},
     "output_type": "execute_result"
    }
   ],
   "source": [
    "def distinctSubseqII( s) :\n",
    "        n = len(s)\n",
    "        memo = [0] * (n+1)\n",
    "        \n",
    "        memo[0] = 1\n",
    "        \n",
    "        hash = {}\n",
    "        for i in range(1 , n+1):\n",
    "            \n",
    "            memo[i] = (memo[i-1] * 2)\n",
    "            \n",
    "            ch = s[i-1]\n",
    "            if ch in hash:\n",
    "                j = hash[ch]\n",
    "                \n",
    "                memo[i] = memo[i] - memo[j-1]\n",
    "                \n",
    "                \n",
    "                \n",
    "            hash[ch] = i\n",
    "            \n",
    "            \n",
    "            \n",
    "                \n",
    "        return  (memo[n] - 1) % (10**9 + 7)\n",
    "    \n",
    "distinctSubseqII('abc')"
   ]
  },
  {
   "cell_type": "code",
   "execution_count": null,
   "id": "36d0fa26",
   "metadata": {},
   "outputs": [],
   "source": [
    "#(memo[n] - 1) % (10**9 + 7) bcz answer is v big"
   ]
  },
  {
   "cell_type": "code",
   "execution_count": null,
   "id": "b0283468",
   "metadata": {},
   "outputs": [],
   "source": []
  },
  {
   "cell_type": "code",
   "execution_count": null,
   "id": "75962936",
   "metadata": {},
   "outputs": [],
   "source": []
  },
  {
   "cell_type": "code",
   "execution_count": null,
   "id": "394e7154",
   "metadata": {},
   "outputs": [],
   "source": [
    "#Matrix Chain Multiplication "
   ]
  },
  {
   "cell_type": "code",
   "execution_count": 15,
   "id": "c33e0021",
   "metadata": {},
   "outputs": [
    {
     "data": {
      "text/plain": [
       "26000"
      ]
     },
     "execution_count": 15,
     "metadata": {},
     "output_type": "execute_result"
    }
   ],
   "source": [
    "def matrixMultiplication( N, arr):\n",
    "        \n",
    "        memo = [[0 for x in range(N-1)] for x in range(N-1)]\n",
    "        \n",
    "        \n",
    "        for g in range(len(memo)):\n",
    "            i = 0\n",
    "            j = g\n",
    "            while j < len(memo):\n",
    "                \n",
    "                if g == 0:\n",
    "                    memo[i][j] = 0\n",
    "                    \n",
    "                elif g == 1:\n",
    "                    memo[i][j] = (arr[i] * arr[j] * arr[j+1])\n",
    "                \n",
    "                else:\n",
    "                    mini = float('inf')\n",
    "                    \n",
    "                    for k in range(i , j):\n",
    "                        lc = memo[i][k]\n",
    "                        rc = memo[k+1][j]\n",
    "                        mc = arr[i] * arr[k+1] * arr[j+1]\n",
    "                        \n",
    "                        tc = lc + rc + mc\n",
    "                        \n",
    "                        if tc < mini:\n",
    "                            mini = tc \n",
    "                            \n",
    "                            \n",
    "                    memo[i][j] = mini\n",
    "                \n",
    "                \n",
    "                \n",
    "                i += 1\n",
    "                j += 1\n",
    "                \n",
    "        return memo[0][len(memo)-1]\n",
    "    \n",
    "matrixMultiplication( 5, [40, 20, 30, 10, 30])"
   ]
  },
  {
   "cell_type": "code",
   "execution_count": null,
   "id": "e5503889",
   "metadata": {},
   "outputs": [],
   "source": []
  },
  {
   "cell_type": "code",
   "execution_count": null,
   "id": "56870391",
   "metadata": {},
   "outputs": [],
   "source": []
  },
  {
   "cell_type": "code",
   "execution_count": 29,
   "id": "d0d2f6f0",
   "metadata": {},
   "outputs": [],
   "source": [
    "#Rod Cutting Problem Dynamic Programming"
   ]
  },
  {
   "cell_type": "code",
   "execution_count": 10,
   "id": "0147ef59",
   "metadata": {},
   "outputs": [
    {
     "data": {
      "text/plain": [
       "([0, 1, 5, 8, 10, 13, 17, 18, 22], 22)"
      ]
     },
     "execution_count": 10,
     "metadata": {},
     "output_type": "execute_result"
    }
   ],
   "source": [
    "def cutRod( price, n):\n",
    "        \n",
    "        memo = [0] * (n+1)\n",
    "        memo[1] = price[0]\n",
    "        \n",
    "        \n",
    "        \n",
    "        for i in range(2 , n+1):\n",
    "            \n",
    "            maxi = float('-inf')\n",
    "            for j in range(i-1 , 0 , -1):\n",
    "                \n",
    "                temp = memo[i-j] + price[j-1] \n",
    "                \n",
    "                if maxi < temp:\n",
    "                    maxi = temp\n",
    "                    \n",
    "            memo[i] = max(maxi , price[i-1])\n",
    "            \n",
    "            \n",
    "        return memo , memo[n]\n",
    "    \n",
    "cutRod( [1, 5, 8, 9, 10, 17, 17, 20], 8)"
   ]
  },
  {
   "cell_type": "code",
   "execution_count": null,
   "id": "54d9f7d2",
   "metadata": {},
   "outputs": [],
   "source": []
  },
  {
   "cell_type": "code",
   "execution_count": null,
   "id": "c133ee27",
   "metadata": {},
   "outputs": [],
   "source": [
    "# Palindrome Partitioning with Minimum Cuts Dynamic Programming | Minimum Palindromic Cuts"
   ]
  },
  {
   "cell_type": "code",
   "execution_count": 14,
   "id": "9ff7820b",
   "metadata": {},
   "outputs": [
    {
     "data": {
      "text/plain": [
       "([[0, 1, 2, 2, 1, 2],\n",
       "  [0, 0, 1, 1, 0, 1],\n",
       "  [0, 0, 0, 0, 1, 1],\n",
       "  [0, 0, 0, 0, 1, 0],\n",
       "  [0, 0, 0, 0, 0, 1],\n",
       "  [0, 0, 0, 0, 0, 0]],\n",
       " 2)"
      ]
     },
     "execution_count": 14,
     "metadata": {},
     "output_type": "execute_result"
    }
   ],
   "source": [
    "def pal_pt(st):\n",
    "    n = len(st)\n",
    "    memo = [[False for x in range(n)] for x in range(n)]\n",
    "    memo2 = [[0 for x in range(n)] for x in range(n)]\n",
    "\n",
    "    for g in range(len(memo)):\n",
    "            i = 0\n",
    "            j = g\n",
    "            while j < len(memo):\n",
    "\n",
    "                if i == j:\n",
    "                    memo[i][j] = True\n",
    "\n",
    "                elif abs(j-i) == 1:\n",
    "                    if st[i] == st[j]:\n",
    "                        memo[i][j] = True\n",
    "                    \n",
    "\n",
    "                else:\n",
    "                    if st[i] == st[j] and memo[i+1][j-1] == True :\n",
    "                        memo[i][j] = True\n",
    "\n",
    "                     \n",
    "                        \n",
    "                i += 1\n",
    "                j += 1\n",
    "                \n",
    "                \n",
    "    for g in range(len(memo)):\n",
    "            i = 0\n",
    "            j = g\n",
    "            while j < len(memo):\n",
    "\n",
    "                if i == j:\n",
    "                    memo2[i][j] = 0\n",
    "\n",
    "                elif abs(j-i) == 1:\n",
    "                    if st[i] == st[j]:\n",
    "                        memo2[i][j] = 0\n",
    "                        \n",
    "                    else:\n",
    "                        memo2[i][j] = 1\n",
    "                        \n",
    "                    \n",
    "\n",
    "                else:\n",
    "                    if  memo[i][j] == True :\n",
    "                        memo2[i][j] = 0\n",
    "                        \n",
    "                    else:\n",
    "                        mini = float('inf')\n",
    "                        for k in range(i , j):\n",
    "                            lt = memo2[i][k]\n",
    "                            rt = memo2[k+1][j]\n",
    "                            \n",
    "                            if lt + rt + 1 < mini:\n",
    "                                mini = lt + rt + 1\n",
    "                                \n",
    "                        memo2[i][j] = mini\n",
    "                            \n",
    "                            \n",
    "\n",
    "                     \n",
    "                        \n",
    "                i += 1\n",
    "                j += 1\n",
    "                \n",
    "                \n",
    "    \n",
    "       \n",
    "    return memo2 , memo2[0][n-1]\n",
    "\n",
    "\n",
    "pal_pt('abccbc')"
   ]
  },
  {
   "cell_type": "code",
   "execution_count": null,
   "id": "6fffb9a1",
   "metadata": {},
   "outputs": [],
   "source": []
  },
  {
   "cell_type": "code",
   "execution_count": null,
   "id": "89885d15",
   "metadata": {},
   "outputs": [],
   "source": []
  },
  {
   "cell_type": "code",
   "execution_count": 34,
   "id": "fb8c8727",
   "metadata": {},
   "outputs": [
    {
     "data": {
      "text/plain": [
       "True"
      ]
     },
     "execution_count": 34,
     "metadata": {},
     "output_type": "execute_result"
    }
   ],
   "source": []
  },
  {
   "cell_type": "code",
   "execution_count": 1,
   "id": "b2bad495",
   "metadata": {},
   "outputs": [],
   "source": [
    "#wildcard pattern matching"
   ]
  },
  {
   "cell_type": "code",
   "execution_count": 3,
   "id": "2d193103",
   "metadata": {},
   "outputs": [
    {
     "data": {
      "text/plain": [
       "False"
      ]
     },
     "execution_count": 3,
     "metadata": {},
     "output_type": "execute_result"
    }
   ],
   "source": [
    "def isMatch( s, p) :\n",
    "        ss = len(s)\n",
    "        pp = len(p)\n",
    "        \n",
    "        \n",
    "        \n",
    "        memo = [[False for x in range(ss+1)] for x in range(pp + 1 )]\n",
    "        \n",
    "        for i in range(pp  , -1, -1):\n",
    "            for j in range(ss , -1 , -1):\n",
    "                \n",
    "                if j == ss and i == pp:\n",
    "                    memo[i][j] = True\n",
    "                    \n",
    "                elif i == pp:\n",
    "                    memo[i][j] = False\n",
    "                    \n",
    "                elif j == ss:\n",
    "                    if p[i] == '*':\n",
    "                        memo[i][j] = memo[i+1][j]\n",
    "                    else:\n",
    "                        memo[i][j] = False\n",
    "                else:\n",
    "                    \n",
    "                    if p[i] == '?':\n",
    "                        memo[i][j] = memo[i+1][j+1]\n",
    "\n",
    "                    elif p[i] == s[j]:\n",
    "                        memo[i][j] = memo[i+1][j+1]\n",
    "\n",
    "                    elif p[i] == '*':\n",
    "                        memo[i][j] = (memo[i+1][j] or memo[i][j+1])\n",
    "\n",
    "                    else:\n",
    "                        memo[i][j] = False\n",
    "                            \n",
    "        \n",
    "        return memo[0][0]\n",
    "    \n",
    "isMatch(\"acdcb\", \"a*c?b\")"
   ]
  },
  {
   "cell_type": "code",
   "execution_count": null,
   "id": "17c6c113",
   "metadata": {},
   "outputs": [],
   "source": []
  },
  {
   "cell_type": "code",
   "execution_count": null,
   "id": "7d331224",
   "metadata": {},
   "outputs": [],
   "source": []
  },
  {
   "cell_type": "code",
   "execution_count": null,
   "id": "45fa8ca1",
   "metadata": {},
   "outputs": [],
   "source": [
    "#Longest Common Substring Dynamic Programming"
   ]
  },
  {
   "cell_type": "code",
   "execution_count": 3,
   "id": "eecd8a84",
   "metadata": {},
   "outputs": [
    {
     "data": {
      "text/plain": [
       "3"
      ]
     },
     "execution_count": 3,
     "metadata": {},
     "output_type": "execute_result"
    }
   ],
   "source": [
    "def longestCommonSubstr( arr1, arr2):\n",
    "        \n",
    "        n1 = len(arr1)\n",
    "        n2 = len(arr2)\n",
    "        memo = [[0 for x in range(n1 + 1)] for x in range(n2 + 1)]\n",
    "        \n",
    "        \n",
    "        for i in range(n2 , -1, -1):\n",
    "            for j in range(n1 , -1, -1):\n",
    "                \n",
    "                if i == n2:\n",
    "                    memo[i][j] = 0\n",
    "                    \n",
    "                elif j == n1:\n",
    "                    memo[i][j] = 0\n",
    "                    \n",
    "                else:\n",
    "                    \n",
    "                    if arr1[j] == arr2[i]:\n",
    "                        memo[i][j] = memo[i+1][j+1] + 1\n",
    "                        \n",
    "                    else:\n",
    "                        memo[i][j] = 0\n",
    "                        \n",
    "               \n",
    "               \n",
    "        maxi = 0\n",
    "        \n",
    "        for i in range(n2):\n",
    "            for j in range(n1):\n",
    "                if memo[i][j] > maxi:\n",
    "                    maxi = memo[i][j]\n",
    "                    \n",
    "                    \n",
    "        return maxi\n",
    "    \n",
    "    \n",
    "longestCommonSubstr('xyzabcp', 'pqabcxy')"
   ]
  },
  {
   "cell_type": "code",
   "execution_count": null,
   "id": "5fe39f8b",
   "metadata": {},
   "outputs": [],
   "source": []
  },
  {
   "cell_type": "code",
   "execution_count": null,
   "id": "de751095",
   "metadata": {},
   "outputs": [],
   "source": []
  },
  {
   "cell_type": "code",
   "execution_count": null,
   "id": "326095b6",
   "metadata": {},
   "outputs": [],
   "source": [
    "#Longest Repeating Subsequence | Advanced Dynamic Programming"
   ]
  },
  {
   "cell_type": "code",
   "execution_count": 15,
   "id": "1b873e82",
   "metadata": {},
   "outputs": [
    {
     "data": {
      "text/plain": [
       "1"
      ]
     },
     "execution_count": 15,
     "metadata": {},
     "output_type": "execute_result"
    }
   ],
   "source": [
    "def LongestRepeatingSubsequence(str):\n",
    "    \n",
    "        n1 = len(str)\n",
    "        \n",
    "        memo = [[0 for x in range(n1 + 1)] for x in range(n1 + 1)]\n",
    "        \n",
    "        \n",
    "        for i in range(n1 , -1, -1):\n",
    "            for j in range(n1 , -1, -1):\n",
    "                \n",
    "                if i == n1:\n",
    "                    memo[i][j] = 0\n",
    "                    \n",
    "                elif j == n1:\n",
    "                    memo[i][j] = 0\n",
    "                    \n",
    "                else:\n",
    "                    \n",
    "                    if str[j] == str[i] and i != j:\n",
    "                        memo[i][j] = memo[i+1][j+1] + 1\n",
    "                        \n",
    "                    else:\n",
    "                        memo[i][j] = max(memo[i+1][j] , memo[i][j+1])\n",
    "                        \n",
    "                        \n",
    "        maxi = 0\n",
    "        \n",
    "        for i in range(n1):\n",
    "            for j in range(n1):\n",
    "                if memo[i][j] > maxi:\n",
    "                    maxi = memo[i][j]\n",
    "                    \n",
    "                    \n",
    "        return maxi\n",
    "    \n",
    "LongestRepeatingSubsequence('abba')"
   ]
  },
  {
   "cell_type": "code",
   "execution_count": null,
   "id": "778eb550",
   "metadata": {},
   "outputs": [],
   "source": []
  },
  {
   "cell_type": "code",
   "execution_count": null,
   "id": "7dd10c03",
   "metadata": {},
   "outputs": [],
   "source": []
  },
  {
   "cell_type": "code",
   "execution_count": null,
   "id": "de09b1de",
   "metadata": {},
   "outputs": [],
   "source": []
  },
  {
   "cell_type": "code",
   "execution_count": 9,
   "id": "c357e3b3",
   "metadata": {},
   "outputs": [],
   "source": [
    "#Minimum ASCII Delete Sum for Two Strings Dynamic Programming"
   ]
  },
  {
   "cell_type": "code",
   "execution_count": 10,
   "id": "f9f4193f",
   "metadata": {},
   "outputs": [
    {
     "data": {
      "text/plain": [
       "98"
      ]
     },
     "execution_count": 10,
     "metadata": {},
     "output_type": "execute_result"
    }
   ],
   "source": [
    "def minimumDeleteSum(s1, s2) :\n",
    "        \n",
    "        n1 = len(s1)\n",
    "        n2 = len(s2)\n",
    "        \n",
    "        memo = [[0 for x in range(n1+1)] for x in range(n2+1)]\n",
    "        \n",
    "        \n",
    "        for i in range(n2 , -1 , -1):\n",
    "            for j in range(n1 , -1 , -1):\n",
    "                \n",
    "                if i == n2 and j == n1:\n",
    "                    memo[i][j] = 0\n",
    "                \n",
    "                elif i == n2:\n",
    "                    memo[i][j] = ord(s1[j]) + memo[i][j+1]\n",
    "                    \n",
    "                    \n",
    "                elif j == n1:\n",
    "                    memo[i][j] = ord(s2[i]) + memo[i+1][j]\n",
    "                    \n",
    "                    \n",
    "                else:\n",
    "                    if s1[j] == s2[i]:\n",
    "                        memo[i][j] = memo[i+1][j+1]\n",
    "                        \n",
    "                    else:\n",
    "                        memo[i][j] = min(  (ord(s2[i]) + memo[i+1][j])  , (ord(s1[j]) + memo[i][j+1] ) )\n",
    "        \n",
    "        return  memo[0][0] \n",
    "    \n",
    "    \n",
    "minimumDeleteSum('eat' , 'beat')"
   ]
  },
  {
   "cell_type": "code",
   "execution_count": null,
   "id": "c8ea50d6",
   "metadata": {},
   "outputs": [],
   "source": []
  },
  {
   "cell_type": "code",
   "execution_count": null,
   "id": "0aa8b1b3",
   "metadata": {},
   "outputs": [],
   "source": [
    "#Minimum Cost to Make Strings Identical"
   ]
  },
  {
   "cell_type": "code",
   "execution_count": 20,
   "id": "90ebd876",
   "metadata": {},
   "outputs": [
    {
     "data": {
      "text/plain": [
       "30"
      ]
     },
     "execution_count": 20,
     "metadata": {},
     "output_type": "execute_result"
    }
   ],
   "source": [
    "def findMinCost( a1, b1, costX, costY):\n",
    "        n1 = len(a1)\n",
    "        n2 = len(b1)\n",
    "        memo = [[0 for x in range(n2 + 1)] for x in range(n1 + 1)]\n",
    "        \n",
    "        for i in range(n1 , -1, -1):\n",
    "            for j in range(n2 , -1 , -1):\n",
    "                \n",
    "                if i == n1 and j == n2:\n",
    "                    memo[i][j] = 0\n",
    "                    \n",
    "                elif i == n1:\n",
    "                    memo[i][j] = 0\n",
    "                elif j == n2:\n",
    "                    memo[i][j] = 0\n",
    "                    \n",
    "                else:\n",
    "                    if a1[i] == b1[j]:\n",
    "                        memo[i][j] = 1 + (memo[i+1][j+1])\n",
    "                        \n",
    "                    else:\n",
    "                        memo[i][j] = max(memo[i+1][j] , memo[i][j+1])\n",
    "                        \n",
    "        temp = memo[0][0]\n",
    "        \n",
    "        return ((n1 - temp) * costX + (n2 - temp) * costY)\n",
    "    \n",
    "    \n",
    "findMinCost(  \"abcd\",  \"acdb\", costX = 10 ,costY = 20)"
   ]
  },
  {
   "cell_type": "code",
   "execution_count": null,
   "id": "24b44c2d",
   "metadata": {},
   "outputs": [],
   "source": []
  },
  {
   "cell_type": "code",
   "execution_count": null,
   "id": "a7247f95",
   "metadata": {},
   "outputs": [],
   "source": [
    "#Kadane's algorithm"
   ]
  },
  {
   "cell_type": "code",
   "execution_count": 11,
   "id": "c55fb901",
   "metadata": {},
   "outputs": [
    {
     "data": {
      "text/plain": [
       "21"
      ]
     },
     "execution_count": 11,
     "metadata": {},
     "output_type": "execute_result"
    }
   ],
   "source": [
    "def maxSubArraySum(arr):\n",
    "        curr_max = arr[0]\n",
    "        over_max = arr[0]\n",
    "        \n",
    "        for i in range(1 , len(arr)):\n",
    "            \n",
    "            if curr_max >= 0:\n",
    "                curr_max = curr_max + arr[i]\n",
    "                \n",
    "                \n",
    "                \n",
    "            else:\n",
    "                curr_max = arr[i]\n",
    "                \n",
    "            over_max = max(curr_max , over_max)\n",
    "                \n",
    "        return over_max\n",
    "    \n",
    "maxSubArraySum([2,3,5,6,-7,4,-1,9])"
   ]
  },
  {
   "cell_type": "code",
   "execution_count": null,
   "id": "b391d764",
   "metadata": {},
   "outputs": [],
   "source": []
  },
  {
   "cell_type": "code",
   "execution_count": null,
   "id": "51443338",
   "metadata": {},
   "outputs": [],
   "source": []
  },
  {
   "cell_type": "code",
   "execution_count": null,
   "id": "b3e0ae07",
   "metadata": {},
   "outputs": [],
   "source": [
    "#K Concatenation Maximum Sum Dynamic Programming"
   ]
  },
  {
   "cell_type": "code",
   "execution_count": 11,
   "id": "5fa565d2",
   "metadata": {},
   "outputs": [
    {
     "data": {
      "text/plain": [
       "168"
      ]
     },
     "execution_count": 11,
     "metadata": {},
     "output_type": "execute_result"
    }
   ],
   "source": [
    "def concatenation(arr , k):\n",
    "    \n",
    "    s = sum(arr)\n",
    "    if k == 1:\n",
    "        return maxSubArraySum(arr)\n",
    "    \n",
    "    elif s < 0:\n",
    "        arr = arr + arr\n",
    "        \n",
    "        return maxSubArraySum(arr)\n",
    "        \n",
    "        \n",
    "        \n",
    "    else:\n",
    "        arr = arr + arr\n",
    "        \n",
    "        fs = maxSubArraySum(arr)\n",
    "        \n",
    "        return ((k-2) * fs)\n",
    "        \n",
    "    \n",
    "    \n",
    "    \n",
    "concatenation([2,3,5,6,-7,4,-1,9] , 6)"
   ]
  },
  {
   "cell_type": "code",
   "execution_count": null,
   "id": "3a55c014",
   "metadata": {},
   "outputs": [],
   "source": []
  },
  {
   "cell_type": "code",
   "execution_count": null,
   "id": "3562bf97",
   "metadata": {},
   "outputs": [],
   "source": []
  },
  {
   "cell_type": "code",
   "execution_count": 13,
   "id": "bb9f73a8",
   "metadata": {},
   "outputs": [],
   "source": [
    "#Arithmetic Slices"
   ]
  },
  {
   "cell_type": "code",
   "execution_count": 14,
   "id": "8db9473c",
   "metadata": {},
   "outputs": [
    {
     "data": {
      "text/plain": [
       "3"
      ]
     },
     "execution_count": 14,
     "metadata": {},
     "output_type": "execute_result"
    }
   ],
   "source": [
    "def numberOfArithmeticSlices( arr):\n",
    "        n = len(arr)\n",
    "        memo = [0] * n\n",
    "        \n",
    "        memo[0] = 0\n",
    "        \n",
    "        if n > 1:\n",
    "            \n",
    "            memo[1] = 0\n",
    "\n",
    "            for i in range(2 , n):\n",
    "\n",
    "                    \n",
    "\n",
    "                    if (arr[i] - arr[i-1]) == (arr[i-1] - arr[i-2]):\n",
    "                        memo[i] = memo[i-1] + 1\n",
    "\n",
    "                    \n",
    "                    \n",
    "                    \n",
    "        return sum(memo)\n",
    "    \n",
    "    \n",
    "numberOfArithmeticSlices( [1,2,3,4])"
   ]
  },
  {
   "cell_type": "code",
   "execution_count": 4,
   "id": "d5bacd6d",
   "metadata": {},
   "outputs": [],
   "source": [
    "a = [2,3,4]\n"
   ]
  },
  {
   "cell_type": "code",
   "execution_count": 6,
   "id": "bc6bff72",
   "metadata": {},
   "outputs": [
    {
     "name": "stdout",
     "output_type": "stream",
     "text": [
      "2\n",
      "3\n",
      "4\n"
     ]
    }
   ],
   "source": [
    "for i in a:\n",
    "    print(i)"
   ]
  },
  {
   "cell_type": "code",
   "execution_count": null,
   "id": "d439d523",
   "metadata": {},
   "outputs": [],
   "source": []
  },
  {
   "cell_type": "code",
   "execution_count": null,
   "id": "5c6442d7",
   "metadata": {},
   "outputs": [],
   "source": [
    "#Temple Offerings"
   ]
  },
  {
   "cell_type": "code",
   "execution_count": 1,
   "id": "01f42abc",
   "metadata": {},
   "outputs": [
    {
     "data": {
      "text/plain": [
       "4"
      ]
     },
     "execution_count": 1,
     "metadata": {},
     "output_type": "execute_result"
    }
   ],
   "source": [
    "def offerings( N, arr):\n",
    "        memo = [0] * N\n",
    "        memo[0] = 1\n",
    "        memo[N-1] = 1\n",
    "        \n",
    "        for i in range(1 , N):\n",
    "            if arr[i] > arr[i-1]:\n",
    "                memo[i] = memo[i-1] + 1\n",
    "            \n",
    "            elif arr[i] == arr[i-1]:\n",
    "                memo[i] = 1\n",
    "            \n",
    "            else:\n",
    "                memo[i] = 1\n",
    "                \n",
    "        #print(memo)        \n",
    "        for i in range(N-2 , -1 , -1):\n",
    "            if arr[i] > arr[i+1]:\n",
    "                temp = memo[i+1] + 1\n",
    "                memo[i] = max(memo[i] , temp)\n",
    "            \n",
    "            elif arr[i] == arr[i+1]:\n",
    "                temp = 1\n",
    "                memo[i] = max(memo[i] , temp)\n",
    "            \n",
    "            else:\n",
    "                temp = 1\n",
    "                memo[i] = max(memo[i] , temp)\n",
    "                \n",
    "                \n",
    "        return  sum(memo)\n",
    "    \n",
    "    \n",
    "offerings( 3, [1,2,2])"
   ]
  },
  {
   "cell_type": "code",
   "execution_count": null,
   "id": "69d8a448",
   "metadata": {},
   "outputs": [],
   "source": []
  },
  {
   "cell_type": "code",
   "execution_count": null,
   "id": "b43d6cb4",
   "metadata": {},
   "outputs": [],
   "source": []
  },
  {
   "cell_type": "code",
   "execution_count": null,
   "id": "77d5da71",
   "metadata": {},
   "outputs": [],
   "source": [
    "#Maximum Difference of Zeros & Ones in Binary String in O(n) Time | Dynamic Programming"
   ]
  },
  {
   "cell_type": "code",
   "execution_count": 11,
   "id": "1dda0d3f",
   "metadata": {},
   "outputs": [
    {
     "data": {
      "text/plain": [
       "4"
      ]
     },
     "execution_count": 11,
     "metadata": {},
     "output_type": "execute_result"
    }
   ],
   "source": [
    "def maxSubstring( S):\n",
    "        arr = []\n",
    "        for i in S:\n",
    "            if i == '0':\n",
    "                arr.append(1)\n",
    "                \n",
    "            else:\n",
    "                arr.append(-1)\n",
    "\t            \n",
    "\t    #kadanes on arr         \n",
    "        curr_max = arr[0]\n",
    "        over_max = arr[0]\n",
    "        \n",
    "        for i in range(1 , len(arr)):\n",
    "            \n",
    "            if curr_max >= 0:\n",
    "                curr_max = curr_max + arr[i]\n",
    "                \n",
    "                \n",
    "                \n",
    "            else:\n",
    "                curr_max = arr[i]\n",
    "                \n",
    "            over_max = max(curr_max , over_max)\n",
    "                \n",
    "        return over_max\n",
    "    \n",
    "maxSubstring('1010111011100001')"
   ]
  },
  {
   "cell_type": "code",
   "execution_count": null,
   "id": "bed5ac7b",
   "metadata": {},
   "outputs": [],
   "source": []
  },
  {
   "cell_type": "code",
   "execution_count": null,
   "id": "7cd80f05",
   "metadata": {},
   "outputs": [],
   "source": [
    "#Distinct Transformations | Dynamic Programming"
   ]
  },
  {
   "cell_type": "code",
   "execution_count": 20,
   "id": "b2fa563c",
   "metadata": {},
   "outputs": [
    {
     "data": {
      "text/plain": [
       "([[6, 4, 2, 0, 0, 0, 0],\n",
       "  [2, 2, 2, 2, 1, 0, 0],\n",
       "  [1, 1, 1, 1, 1, 1, 0],\n",
       "  [0, 0, 0, 0, 0, 0, 0]],\n",
       " 6)"
      ]
     },
     "execution_count": 20,
     "metadata": {},
     "output_type": "execute_result"
    }
   ],
   "source": [
    "def disti(src , target):\n",
    "    n1 = len(src)\n",
    "    n2 = len(target)\n",
    "    memo = [[0 for x in range(n1 + 1)] for x in range(n2 + 1)]\n",
    "    \n",
    "    \n",
    "    for i in range(n2-1 , -1, -1):\n",
    "        for j in range(n1-1 , -1 , -1):\n",
    "            \n",
    "            if i == n2-1 and j == n1-1:\n",
    "                memo[i][j] = 1\n",
    "                \n",
    "                \n",
    "            elif i == n2-1:\n",
    "                memo[i][j] = 1\n",
    "                \n",
    "            elif j == n1-1:\n",
    "                memo[i][j] = 0\n",
    "                \n",
    "            \n",
    "            elif target[i] == src[j]:\n",
    "                memo[i][j] = memo[i][j+1] + memo[i+1][j+1]\n",
    "    \n",
    "            else:\n",
    "                memo[i][j] = memo[i][j+1]\n",
    "    \n",
    "    \n",
    "    return memo , memo[0][0]\n",
    "\n",
    "\n",
    "disti('aaabbc' , 'abc')"
   ]
  },
  {
   "cell_type": "code",
   "execution_count": null,
   "id": "aac1fc90",
   "metadata": {},
   "outputs": [],
   "source": []
  },
  {
   "cell_type": "code",
   "execution_count": null,
   "id": "fb15bece",
   "metadata": {},
   "outputs": [],
   "source": []
  },
  {
   "cell_type": "code",
   "execution_count": 1,
   "id": "87ea7b0e",
   "metadata": {},
   "outputs": [],
   "source": [
    "#Find Water In Glass | Dynamic Programming"
   ]
  },
  {
   "cell_type": "code",
   "execution_count": 5,
   "id": "82a55c5b",
   "metadata": {},
   "outputs": [
    {
     "data": {
      "text/plain": [
       "(0, [[1, 0, 0], [1.0, 1.0, 0], [0, 0, 0]])"
      ]
     },
     "execution_count": 5,
     "metadata": {},
     "output_type": "execute_result"
    }
   ],
   "source": [
    "def glass(k , r , c):\n",
    "    memo = [[0 for x in range(r+1)] for x in range(r+1)]\n",
    "    memo[0][0] = k\n",
    "    for i in range(r):\n",
    "        for j in range(r):\n",
    "            if memo[i][j] > 1:\n",
    "                spr = memo[i][j] - 1\n",
    "                memo[i][j] = 1\n",
    "                sp1 = (spr / 2)\n",
    "                sp2 = (spr / 2)\n",
    "                memo[i+1][j] += sp1\n",
    "                memo[i+1][j+1] += sp2\n",
    "                spr = 0\n",
    "                sp1 = 0\n",
    "                sp2 = 0\n",
    "                \n",
    "    return memo[r][c]  , memo\n",
    "\n",
    "glass(3 , 2 , 1)\n",
    "    "
   ]
  },
  {
   "cell_type": "code",
   "execution_count": null,
   "id": "44a0bb23",
   "metadata": {},
   "outputs": [],
   "source": []
  },
  {
   "cell_type": "code",
   "execution_count": null,
   "id": "97efe01d",
   "metadata": {},
   "outputs": [],
   "source": [
    "#Maximum Length of Repeated Subarray | Dynamic Programming | Leetcode 718"
   ]
  },
  {
   "cell_type": "code",
   "execution_count": 6,
   "id": "006a6562",
   "metadata": {},
   "outputs": [
    {
     "data": {
      "text/plain": [
       "2"
      ]
     },
     "execution_count": 6,
     "metadata": {},
     "output_type": "execute_result"
    }
   ],
   "source": [
    "def findLength( nums1, nums2):\n",
    "        n = len(nums1)\n",
    "        m = len(nums2)\n",
    "        memo = [[0 for x in range(n+1)] for x in range(m+1)]\n",
    "        \n",
    "        maxi = float('-inf')\n",
    "        for i in range(m-1 , -1 , -1):\n",
    "            for j in range(n-1 , -1 , -1):\n",
    "                \n",
    "                if nums1[j] == nums2[i]:\n",
    "                    memo[i][j] = memo[i+1][j+1] + 1\n",
    "                    \n",
    "                    \n",
    "                maxi = max(maxi , memo[i][j])\n",
    "        \n",
    "        \n",
    "        return maxi\n",
    "    \n",
    "findLength( [0,1,1,1,1] , [1,0,1,0,1])"
   ]
  },
  {
   "cell_type": "code",
   "execution_count": null,
   "id": "d0499d09",
   "metadata": {},
   "outputs": [],
   "source": []
  },
  {
   "cell_type": "code",
   "execution_count": null,
   "id": "a1ec83e7",
   "metadata": {},
   "outputs": [],
   "source": []
  },
  {
   "cell_type": "code",
   "execution_count": null,
   "id": "994883b7",
   "metadata": {},
   "outputs": [],
   "source": [
    "#Number of Good Ways to Split a String || Leetcode link -> https://www.youtube.com/watch?v=WOPCFFyHxc4&list=PL-Jc9J83PIiEZvXCn-c5UIBvfT8dA-8EG&index=74&ab_channel=Pepcoding"
   ]
  },
  {
   "cell_type": "code",
   "execution_count": 3,
   "id": "a7f40a1f",
   "metadata": {},
   "outputs": [
    {
     "data": {
      "text/plain": [
       "2"
      ]
     },
     "execution_count": 3,
     "metadata": {},
     "output_type": "execute_result"
    }
   ],
   "source": [
    "def numSplits( s):\n",
    "        lset = set()\n",
    "        rset = set()\n",
    "        larr = []\n",
    "        rarr = []\n",
    "        t = s[::-1]\n",
    "        for i in s:\n",
    "            \n",
    "            lset.add(i)\n",
    "            larr.append(len(lset))\n",
    "            \n",
    "        for i in t:\n",
    "            \n",
    "            rset.add(i)\n",
    "            rarr.append(len(rset))\n",
    "            \n",
    "        rarr = rarr[::-1]\n",
    "        \n",
    "        count = 0\n",
    "        for i in range(len(larr) - 1):\n",
    "            if larr[i] == rarr[i+1]:\n",
    "                count += 1\n",
    "                \n",
    "                \n",
    "        return count\n",
    "    \n",
    "numSplits( 'aacaba')"
   ]
  },
  {
   "cell_type": "code",
   "execution_count": null,
   "id": "7cfb93cf",
   "metadata": {},
   "outputs": [],
   "source": []
  },
  {
   "cell_type": "code",
   "execution_count": null,
   "id": "f2da1253",
   "metadata": {},
   "outputs": [],
   "source": []
  },
  {
   "cell_type": "code",
   "execution_count": null,
   "id": "d407edf5",
   "metadata": {},
   "outputs": [],
   "source": []
  },
  {
   "cell_type": "code",
   "execution_count": null,
   "id": "a01ebb84",
   "metadata": {},
   "outputs": [],
   "source": []
  },
  {
   "cell_type": "code",
   "execution_count": null,
   "id": "f646f5aa",
   "metadata": {},
   "outputs": [],
   "source": []
  }
 ],
 "metadata": {
  "kernelspec": {
   "display_name": "Python 3",
   "language": "python",
   "name": "python3"
  },
  "language_info": {
   "codemirror_mode": {
    "name": "ipython",
    "version": 3
   },
   "file_extension": ".py",
   "mimetype": "text/x-python",
   "name": "python",
   "nbconvert_exporter": "python",
   "pygments_lexer": "ipython3",
   "version": "3.8.10"
  }
 },
 "nbformat": 4,
 "nbformat_minor": 5
}
