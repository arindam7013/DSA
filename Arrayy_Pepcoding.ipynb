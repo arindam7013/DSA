{
 "cells": [
  {
   "cell_type": "code",
   "execution_count": 1,
   "id": "ad7f4616",
   "metadata": {},
   "outputs": [],
   "source": [
    "#bar chart"
   ]
  },
  {
   "cell_type": "code",
   "execution_count": 28,
   "id": "3ee6709f",
   "metadata": {},
   "outputs": [
    {
     "name": "stdout",
     "output_type": "stream",
     "text": [
      " -  -  -  -  -  * \n",
      " -  -  -  -  *  * \n",
      " -  -  -  -  *  * \n",
      " -  -  *  -  *  * \n",
      " -  -  *  -  *  * \n",
      " -  *  *  -  *  * \n",
      " *  *  *  -  *  * \n",
      " *  *  *  -  *  * \n"
     ]
    }
   ],
   "source": [
    "def barchart(arr):\n",
    "    t = max(arr)\n",
    "    for i in range(t , 0, -1):\n",
    "        \n",
    "        for j in range(len(arr)):\n",
    "            if arr[j] >= i:\n",
    "                #print(arr[j])\n",
    "                print(\" * \" , end='')\n",
    "                \n",
    "            else:\n",
    "                print(\" - \", end='')\n",
    "        print(\"\")\n",
    "            \n",
    "barchart([2,3,5,0,7,8])"
   ]
  },
  {
   "cell_type": "code",
   "execution_count": null,
   "id": "2bf7bbb6",
   "metadata": {},
   "outputs": [],
   "source": []
  },
  {
   "cell_type": "code",
   "execution_count": 29,
   "id": "b42ba223",
   "metadata": {},
   "outputs": [],
   "source": [
    "#sum 2 arrays"
   ]
  },
  {
   "cell_type": "code",
   "execution_count": 19,
   "id": "5b2c7227",
   "metadata": {},
   "outputs": [
    {
     "data": {
      "text/plain": [
       "422827"
      ]
     },
     "execution_count": 19,
     "metadata": {},
     "output_type": "execute_result"
    }
   ],
   "source": [
    "def sum(arr1 , arr2):\n",
    "    carry = 0\n",
    "    rem = 0\n",
    "    i = len(arr1) - 1\n",
    "    j = len(arr2) - 1\n",
    "    k = 0\n",
    "    f = 0\n",
    "    \n",
    "    \n",
    "    while min(i , j) >= 0:\n",
    "        \n",
    "        rem = carry + ((arr1[i] + arr2[j]) % 10)\n",
    "        carry = (arr1[i] + arr2[j]) // 10\n",
    "        f = f + (rem * (10 ** k))\n",
    "        k += 1\n",
    "    \n",
    "        i -= 1\n",
    "        j -= 1\n",
    "        \n",
    "    if i >= 0:\n",
    "        while i >= 0:\n",
    "            rem = carry + ((arr1[i]) % 10)\n",
    "            carry = (arr1[i]) // 10\n",
    "            f = f + (rem * (10 ** k))\n",
    "            k += 1\n",
    "    \n",
    "            i -= 1\n",
    "        \n",
    "    elif j >= 0:\n",
    "        while j>= 0:\n",
    "            \n",
    "            rem = carry + ((arr2[j]) % 10)\n",
    "            carry = (arr2[j]) // 10\n",
    "            f = f + (rem * (10 ** k))\n",
    "            k += 1\n",
    "    \n",
    "            j -= 1\n",
    "        \n",
    "        \n",
    "    \n",
    "    return f\n",
    "    \n",
    "    \n",
    "    \n",
    "    \n",
    "        \n",
    "        \n",
    "    \n",
    "        \n",
    "sum([3,7,2,8,5,9] , [4,9,9,6,8])\n",
    "        \n",
    "    "
   ]
  },
  {
   "cell_type": "code",
   "execution_count": 20,
   "id": "e7bcfe14",
   "metadata": {},
   "outputs": [
    {
     "data": {
      "text/plain": [
       "33"
      ]
     },
     "execution_count": 20,
     "metadata": {},
     "output_type": "execute_result"
    }
   ],
   "source": [
    "sum([1,2] , [2,1])"
   ]
  },
  {
   "cell_type": "code",
   "execution_count": 1,
   "id": "846e38c1",
   "metadata": {},
   "outputs": [],
   "source": []
  },
  {
   "cell_type": "code",
   "execution_count": 4,
   "id": "5628dc73",
   "metadata": {},
   "outputs": [
    {
     "data": {
      "text/plain": [
       "[4, 2, 3, 0, 1]"
      ]
     },
     "execution_count": 4,
     "metadata": {},
     "output_type": "execute_result"
    }
   ],
   "source": [
    "def inverse(arr):\n",
    "    temp = [0] * len(arr)\n",
    "    for i in range(len(arr)):\n",
    "        temp[arr[i]] = i\n",
    "        \n",
    "        \n",
    "    return  temp\n",
    "\n",
    "inverse([3,4,1,2,0])\n",
    "        "
   ]
  },
  {
   "cell_type": "code",
   "execution_count": null,
   "id": "bc3736e0",
   "metadata": {},
   "outputs": [],
   "source": []
  },
  {
   "cell_type": "code",
   "execution_count": 31,
   "id": "cdc580c2",
   "metadata": {},
   "outputs": [
    {
     "name": "stdout",
     "output_type": "stream",
     "text": [
      "12345\n",
      "2345\n",
      "345\n",
      "45\n",
      "5\n"
     ]
    }
   ],
   "source": [
    "def sub_array(arr):\n",
    "    for i in range(len(arr)):\n",
    "        for j in range(i , len(arr)):\n",
    "            print(arr[j] , end =\"\")\n",
    "        print(\"\")\n",
    "            \n",
    "sub_array([1,2,3,4,5])"
   ]
  },
  {
   "cell_type": "code",
   "execution_count": null,
   "id": "1903b4c6",
   "metadata": {},
   "outputs": [],
   "source": []
  },
  {
   "cell_type": "code",
   "execution_count": null,
   "id": "06e89c3c",
   "metadata": {},
   "outputs": [],
   "source": [
    "\n",
    "    "
   ]
  },
  {
   "cell_type": "code",
   "execution_count": null,
   "id": "f2f8ade5",
   "metadata": {},
   "outputs": [],
   "source": []
  },
  {
   "cell_type": "code",
   "execution_count": null,
   "id": "9bb7669a",
   "metadata": {},
   "outputs": [],
   "source": []
  },
  {
   "cell_type": "code",
   "execution_count": null,
   "id": "97059804",
   "metadata": {},
   "outputs": [],
   "source": []
  },
  {
   "cell_type": "code",
   "execution_count": 2,
   "id": "0af918b7",
   "metadata": {},
   "outputs": [
    {
     "data": {
      "text/plain": [
       "15"
      ]
     },
     "execution_count": 2,
     "metadata": {},
     "output_type": "execute_result"
    }
   ],
   "source": []
  },
  {
   "cell_type": "code",
   "execution_count": 10,
   "id": "199a68c6",
   "metadata": {},
   "outputs": [
    {
     "name": "stdout",
     "output_type": "stream",
     "text": [
      " *        *  *  *  * \n",
      " \n",
      " *        *          \n",
      " \n",
      " *        *          \n",
      " \n",
      " *  *  *  *  *  *  * \n",
      " \n",
      "          *        * \n",
      " \n",
      "          *        * \n",
      " \n",
      " *  *  *  *        * \n",
      " \n"
     ]
    }
   ],
   "source": [
    "for i in range(7):\n",
    "    for j in range(7):\n",
    "        if i==0 and (j ==1 or j==2):\n",
    "            print(\"   \", end='')\n",
    "        elif i>0 and i<3 and (j==1 or j==2 or j==4 or j==5 or j==6):\n",
    "            print(\"   \", end='')\n",
    "            \n",
    "        elif i>3 and i<6 and (j==0 or j==1 or j==2 or j==4 or j==5):\n",
    "            print(\"   \", end='')\n",
    "        elif i==6 and (j==4 or j==5):\n",
    "            print(\"   \", end='')\n",
    "            \n",
    "            \n",
    " \n",
    "        else:\n",
    "            print(\" * \", end='')\n",
    "    print(\"\\n \")"
   ]
  },
  {
   "cell_type": "code",
   "execution_count": 1,
   "id": "2733de28",
   "metadata": {},
   "outputs": [
    {
     "data": {
      "text/plain": [
       "120"
      ]
     },
     "execution_count": 1,
     "metadata": {},
     "output_type": "execute_result"
    }
   ],
   "source": [
    "def fact(n):\n",
    "    \n",
    "    if n == 0:\n",
    "        return 1\n",
    "    \n",
    "    return n * fact(n-1)\n",
    "\n",
    "fact(5)"
   ]
  },
  {
   "cell_type": "code",
   "execution_count": null,
   "id": "e42e0fba",
   "metadata": {},
   "outputs": [],
   "source": [
    "\n"
   ]
  },
  {
   "cell_type": "code",
   "execution_count": null,
   "id": "b4c41944",
   "metadata": {},
   "outputs": [],
   "source": []
  },
  {
   "cell_type": "code",
   "execution_count": null,
   "id": "dc37365d",
   "metadata": {},
   "outputs": [],
   "source": []
  },
  {
   "cell_type": "code",
   "execution_count": null,
   "id": "658c48ba",
   "metadata": {},
   "outputs": [],
   "source": []
  },
  {
   "cell_type": "code",
   "execution_count": 7,
   "id": "70a8e1a3",
   "metadata": {},
   "outputs": [
    {
     "data": {
      "text/plain": [
       "16"
      ]
     },
     "execution_count": 7,
     "metadata": {},
     "output_type": "execute_result"
    }
   ],
   "source": [
    "2**4"
   ]
  },
  {
   "cell_type": "code",
   "execution_count": 3,
   "id": "f921298c",
   "metadata": {},
   "outputs": [
    {
     "ename": "AttributeError",
     "evalue": "'dict' object has no attribute 'sort'",
     "output_type": "error",
     "traceback": [
      "\u001b[1;31m---------------------------------------------------------------------------\u001b[0m",
      "\u001b[1;31mAttributeError\u001b[0m                            Traceback (most recent call last)",
      "\u001b[1;32m<ipython-input-3-f3b34949fe78>\u001b[0m in \u001b[0;36m<module>\u001b[1;34m\u001b[0m\n\u001b[1;32m----> 1\u001b[1;33m \u001b[0mmemo\u001b[0m\u001b[1;33m.\u001b[0m\u001b[0msort\u001b[0m\u001b[1;33m(\u001b[0m\u001b[1;33m)\u001b[0m\u001b[1;33m\u001b[0m\u001b[1;33m\u001b[0m\u001b[0m\n\u001b[0m",
      "\u001b[1;31mAttributeError\u001b[0m: 'dict' object has no attribute 'sort'"
     ]
    }
   ],
   "source": []
  },
  {
   "cell_type": "code",
   "execution_count": null,
   "id": "4f100fa7",
   "metadata": {},
   "outputs": [],
   "source": []
  }
 ],
 "metadata": {
  "kernelspec": {
   "display_name": "Python 3",
   "language": "python",
   "name": "python3"
  },
  "language_info": {
   "codemirror_mode": {
    "name": "ipython",
    "version": 3
   },
   "file_extension": ".py",
   "mimetype": "text/x-python",
   "name": "python",
   "nbconvert_exporter": "python",
   "pygments_lexer": "ipython3",
   "version": "3.8.10"
  }
 },
 "nbformat": 4,
 "nbformat_minor": 5
}
