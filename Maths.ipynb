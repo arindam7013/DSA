{
 "cells": [
  {
   "cell_type": "code",
   "execution_count": 26,
   "id": "a7e1fd45",
   "metadata": {},
   "outputs": [
    {
     "data": {
      "text/plain": [
       "'not prime'"
      ]
     },
     "execution_count": 26,
     "metadata": {},
     "output_type": "execute_result"
    }
   ],
   "source": [
    "import math\n",
    "def prime(n):\n",
    "    k =  n//2\n",
    "    if n == 2:\n",
    "        return 'prime'\n",
    "    \n",
    "    i = 2\n",
    "    \n",
    "    while (i*i) <= n:\n",
    "        \n",
    "        if n % 2 == 0:\n",
    "            return \"not prime\"\n",
    "        \n",
    "        else:\n",
    "            return 'prime'\n",
    "        \n",
    "        i += 1\n",
    "        \n",
    "prime(40)"
   ]
  },
  {
   "cell_type": "code",
   "execution_count": null,
   "id": "14698a1b",
   "metadata": {},
   "outputs": [],
   "source": []
  },
  {
   "cell_type": "code",
   "execution_count": 15,
   "id": "0c026c7a",
   "metadata": {},
   "outputs": [],
   "source": [
    "import math"
   ]
  },
  {
   "cell_type": "code",
   "execution_count": 22,
   "id": "cd53b0d9",
   "metadata": {},
   "outputs": [
    {
     "data": {
      "text/plain": [
       "6.0"
      ]
     },
     "execution_count": 22,
     "metadata": {},
     "output_type": "execute_result"
    }
   ],
   "source": [
    "(math.sqrt(36))"
   ]
  },
  {
   "cell_type": "code",
   "execution_count": null,
   "id": "73e213d0",
   "metadata": {},
   "outputs": [],
   "source": []
  }
 ],
 "metadata": {
  "kernelspec": {
   "display_name": "Python 3",
   "language": "python",
   "name": "python3"
  },
  "language_info": {
   "codemirror_mode": {
    "name": "ipython",
    "version": 3
   },
   "file_extension": ".py",
   "mimetype": "text/x-python",
   "name": "python",
   "nbconvert_exporter": "python",
   "pygments_lexer": "ipython3",
   "version": "3.8.10"
  }
 },
 "nbformat": 4,
 "nbformat_minor": 5
}
