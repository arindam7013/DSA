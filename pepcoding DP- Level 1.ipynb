{
 "cells": [
  {
   "cell_type": "code",
   "execution_count": 2,
   "id": "e83e62f3",
   "metadata": {},
   "outputs": [],
   "source": [
    "Dynamic Programming Types:\n",
    "    1. Fibonacci (1)\n",
    "    2. Stair case problems. (4)\n",
    "    3. Path in 2D Matrix (2)\n",
    "    4. Target Sum Subset (1)\n",
    "    5. Coin change (2) -> COmbination and Permutation\n",
    "    6. Knapsack using Dynamic Programming (2)"
   ]
  },
  {
   "cell_type": "code",
   "execution_count": null,
   "id": "1ee7af2e",
   "metadata": {},
   "outputs": [],
   "source": []
  },
  {
   "cell_type": "code",
   "execution_count": null,
   "id": "27267e24",
   "metadata": {},
   "outputs": [],
   "source": [
    "#fibonacci"
   ]
  },
  {
   "cell_type": "code",
   "execution_count": 4,
   "id": "28eceb11",
   "metadata": {},
   "outputs": [
    {
     "data": {
      "text/plain": [
       "34"
      ]
     },
     "execution_count": 4,
     "metadata": {},
     "output_type": "execute_result"
    }
   ],
   "source": [
    "def fibo(n , memo = {}):\n",
    "    \n",
    "    \n",
    "    if n == 0 or n == 1:\n",
    "        return n\n",
    "    \n",
    "    if n in memo:\n",
    "        return memo[n]\n",
    "    \n",
    "    f1 = fibo(n-1) \n",
    "    f2 = fibo(n-2)\n",
    "    \n",
    "    fibn = f1 + f2\n",
    "    \n",
    "    \n",
    "    memo[n] = fibn\n",
    "    \n",
    "    #print(memo)\n",
    "    return fibn\n",
    "    \n",
    "    \n",
    "\n",
    "\n",
    "fibo(9)\n",
    "    "
   ]
  },
  {
   "cell_type": "code",
   "execution_count": 15,
   "id": "7e53d500",
   "metadata": {},
   "outputs": [],
   "source": [
    "#Climbing Stairs - Dynamic Programming using memoization"
   ]
  },
  {
   "cell_type": "code",
   "execution_count": 3,
   "id": "0049d749",
   "metadata": {},
   "outputs": [
    {
     "data": {
      "text/plain": [
       "81"
      ]
     },
     "execution_count": 3,
     "metadata": {},
     "output_type": "execute_result"
    }
   ],
   "source": [
    "def climbing(n , memo = {}):\n",
    "    \n",
    "    if n == 0:\n",
    "        return 1\n",
    "    \n",
    "    if n < 0:\n",
    "        return 0\n",
    "    \n",
    "    if n in memo:\n",
    "        return memo[n]\n",
    "    n1 = climbing(n-1)\n",
    "    n2 = climbing(n-2)\n",
    "    n3 = climbing(n-3)\n",
    "    \n",
    "    fin = (n1 + n2 + n3)\n",
    "    \n",
    "    memo[n] = fin\n",
    "    \n",
    "    return (memo[n])\n",
    "     \n",
    "    \n",
    "\n",
    "climbing(8)\n",
    "    \n",
    "    \n",
    "    \n",
    "    "
   ]
  },
  {
   "cell_type": "code",
   "execution_count": null,
   "id": "c35c8462",
   "metadata": {},
   "outputs": [],
   "source": []
  },
  {
   "cell_type": "code",
   "execution_count": null,
   "id": "3a4c0681",
   "metadata": {},
   "outputs": [],
   "source": [
    "#Climbing Stairs - Dynamic Programming using Tabulation"
   ]
  },
  {
   "cell_type": "code",
   "execution_count": 1,
   "id": "02e48b71",
   "metadata": {},
   "outputs": [
    {
     "data": {
      "text/plain": [
       "(24, [1, 1, 2, 4, 7, 13, 24])"
      ]
     },
     "execution_count": 1,
     "metadata": {},
     "output_type": "execute_result"
    }
   ],
   "source": [
    "def climbing_t(n):\n",
    "    \n",
    "        memo = [0] * (n+1)\n",
    "\n",
    "        memo[0] = 1\n",
    "\n",
    "        for i in range(1 , n+1):\n",
    "            memo[i] = memo[i-1] + memo[i-2] + memo[i-3]\n",
    "\n",
    "\n",
    "        return memo[n] , memo\n",
    "    \n",
    "    \n",
    "    \n",
    "\n",
    "climbing_t(6)\n",
    "    \n",
    "    \n",
    "    \n",
    "    "
   ]
  },
  {
   "cell_type": "code",
   "execution_count": null,
   "id": "e754c302",
   "metadata": {},
   "outputs": [],
   "source": []
  },
  {
   "cell_type": "code",
   "execution_count": 28,
   "id": "c1107c48",
   "metadata": {},
   "outputs": [],
   "source": [
    "#Climbing Stairs with Jumps using Dynamic Programming"
   ]
  },
  {
   "cell_type": "code",
   "execution_count": 2,
   "id": "de69d558",
   "metadata": {},
   "outputs": [
    {
     "data": {
      "text/plain": [
       "([3, 3, 0, 0, 2, 1, 1], 3)"
      ]
     },
     "execution_count": 2,
     "metadata": {},
     "output_type": "execute_result"
    }
   ],
   "source": [
    "def stairs(arr):\n",
    "    n = len(arr)\n",
    "    memo = [0] * (n+1)\n",
    "    \n",
    "    memo[n] = 1\n",
    "    \n",
    "    for i in range(n-1, -1, -1):\n",
    "        \n",
    "        \n",
    "        for j in range(1 , arr[i]+1):     #ek ek element check. ex 3 -> 1,2,3\n",
    "            \n",
    "            if (i + j) <= n:\n",
    "            \n",
    "                memo[i] +=  memo[i+j]\n",
    "        \n",
    "        \n",
    "    return memo , memo[0]\n",
    "    \n",
    "    \n",
    "    \n",
    "\n",
    "stairs([2,4,1,0,2,3] )"
   ]
  },
  {
   "cell_type": "code",
   "execution_count": null,
   "id": "7b7ce887",
   "metadata": {},
   "outputs": [],
   "source": []
  },
  {
   "cell_type": "code",
   "execution_count": null,
   "id": "16e3e22a",
   "metadata": {},
   "outputs": [],
   "source": [
    "#Climbing Stairs with Minimum Moves / jumps"
   ]
  },
  {
   "cell_type": "code",
   "execution_count": 23,
   "id": "9c9e86b5",
   "metadata": {},
   "outputs": [
    {
     "data": {
      "text/plain": [
       "([4, 4, 3, 4, None, 3, 2, 2, 1, 1, 0], 4)"
      ]
     },
     "execution_count": 23,
     "metadata": {},
     "output_type": "execute_result"
    }
   ],
   "source": [
    "def stairs_moves(arr):\n",
    "    n = len(arr)\n",
    "    memo = [None] * (n+1)\n",
    "    \n",
    "    memo[n] = 0\n",
    "    \n",
    "    for i in range(n-1, -1, -1):\n",
    "        if arr[i] > 0:\n",
    "            mini = float('inf')\n",
    "        \n",
    "        \n",
    "            for j in range(1 , arr[i]+1): \n",
    "                if (i + j) <= n:\n",
    "                    if memo[i+j] is not None:\n",
    "                        mini = min(mini , memo[i+j])\n",
    "                    \n",
    "                    \n",
    "                \n",
    "                \n",
    "            memo[i] = 1 + mini\n",
    "            \n",
    "                \n",
    "        \n",
    "        \n",
    "    return memo , memo[0]\n",
    "    \n",
    "    \n",
    "    \n",
    "\n",
    "stairs_moves([3,2,4,2,0,2,3,1,2,2] )"
   ]
  },
  {
   "cell_type": "code",
   "execution_count": null,
   "id": "9c584ca8",
   "metadata": {},
   "outputs": [],
   "source": []
  },
  {
   "cell_type": "code",
   "execution_count": null,
   "id": "423bc802",
   "metadata": {},
   "outputs": [],
   "source": []
  },
  {
   "cell_type": "code",
   "execution_count": null,
   "id": "2cc6f3aa",
   "metadata": {},
   "outputs": [],
   "source": [
    "#Minimum Cost Path Dynamic Programming"
   ]
  },
  {
   "cell_type": "code",
   "execution_count": 68,
   "id": "8562400c",
   "metadata": {},
   "outputs": [
    {
     "data": {
      "text/plain": [
       "([[10, 9, 7, 4, 0], [14, 16, 15, 8, 0], [9, 10, 11, 12, 0], [0, 0, 0, 0, 0]],\n",
       " 10)"
      ]
     },
     "execution_count": 68,
     "metadata": {},
     "output_type": "execute_result"
    }
   ],
   "source": [
    "def min_cost(arr , m , n):\n",
    "    \n",
    "    memo = [[0 for x in range(n+1)] for x in range(m+1)]\n",
    "    \n",
    "    memo[m-1][n-1] = arr[m-1][n-1]\n",
    "    \n",
    "    for i in range(m-1 , -1, -1):\n",
    "        for j in range(n-1 , -1 , -1):\n",
    "            \n",
    "            if i == m:\n",
    "                memo[i][j] = arr[i][j] + memo[i][j+1]\n",
    "                \n",
    "            elif j == n:\n",
    "                memo[i][j] = arr[i][j] + memo[i+1][j]\n",
    "                \n",
    "            else:\n",
    "                memo[i][j] = arr[i][j] + min(memo[i+1][j] , memo[i][j+1])\n",
    "                \n",
    "                \n",
    "    return memo , memo[0][0]\n",
    "\n",
    "\n",
    "min_cost([[1,2,3,4],\n",
    "         [5,6,7,8],\n",
    "         [9,10,11,12]] , 3, 4)\n",
    "                "
   ]
  },
  {
   "cell_type": "code",
   "execution_count": 7,
   "id": "f634af06",
   "metadata": {},
   "outputs": [
    {
     "name": "stdout",
     "output_type": "stream",
     "text": [
      "[[0, 0, 0, 0], [0, 0, 0, 0], [0, 0, 0, 0]]\n"
     ]
    },
    {
     "data": {
      "text/plain": [
       "([[30, 29, 27, 24], [38, 33, 27, 20], [42, 33, 23, 12]], 30)"
      ]
     },
     "execution_count": 7,
     "metadata": {},
     "output_type": "execute_result"
    }
   ],
   "source": [
    "def mc(arr , m , n):\n",
    "    memo = [[0 for x in range(n)] for x in range(m)]\n",
    "    print(memo)\n",
    "    \n",
    "    \n",
    "    \n",
    "    for i in range(m-1 , -1 , -1):\n",
    "        for j in range(n-1 , -1 , -1):\n",
    "            if i == m-1 and j == n-1:\n",
    "                memo[i][j] = arr[i][j]\n",
    "                \n",
    "            elif i == m-1:\n",
    "                memo[i][j] = memo[i][j+1] + arr[i][j]\n",
    "                \n",
    "                \n",
    "            elif j == n-1:\n",
    "                memo[i][j] = memo[i+1][j] + arr[i][j]\n",
    "                \n",
    "            else:\n",
    "                memo[i][j] = arr[i][j] + min(memo[i+1][j] , memo[i][j+1])\n",
    "                \n",
    "    return memo , memo[0][0]\n",
    " \n",
    "    \n",
    "mc([[1,2,3,4],\n",
    "         [5,6,7,8],\n",
    "         [9,10,11,12]] , 3, 4)"
   ]
  },
  {
   "cell_type": "code",
   "execution_count": null,
   "id": "787ae017",
   "metadata": {},
   "outputs": [],
   "source": []
  },
  {
   "cell_type": "code",
   "execution_count": null,
   "id": "82885d5c",
   "metadata": {},
   "outputs": [],
   "source": [
    "#Path with Maximum Gold - Dynamic Programming"
   ]
  },
  {
   "cell_type": "code",
   "execution_count": 32,
   "id": "8288d5a2",
   "metadata": {},
   "outputs": [
    {
     "name": "stdout",
     "output_type": "stream",
     "text": [
      "[[0, 0, 0, 4], [0, 0, 0, 8], [0, 0, 0, 12]]\n"
     ]
    },
    {
     "data": {
      "text/plain": [
       "([[30, 21, 11, 4], [38, 29, 19, 8], [42, 33, 23, 12]], 30)"
      ]
     },
     "execution_count": 32,
     "metadata": {},
     "output_type": "execute_result"
    }
   ],
   "source": [
    "def max_gold(arr , m , n):\n",
    "    \n",
    "    memo = [[0 for x in range(n)] for x in range(m)]\n",
    "    \n",
    "    for i in range(len(arr)):\n",
    "        memo[i][n-1] = arr[i][n-1]\n",
    "        \n",
    "    print(memo)\n",
    "    \n",
    "    \n",
    "    \n",
    "    for j in range(n-2 , -1, -1):\n",
    "        for i in range(m):\n",
    "            \n",
    "            \n",
    "            if i == 0:\n",
    "                memo[i][j] = arr[i][j] + max(memo[i][j+1] , memo[i+1][j+1])\n",
    "                \n",
    "            elif i == m-1:\n",
    "                memo[i][j] = arr[i][j] + max(memo[i][j+1] , memo[i-1][j+1])\n",
    "                \n",
    "            else:\n",
    "                memo[i][j] = arr[i][j] + max(memo[i][j+1] , max(memo[i-1][j+1] , memo[i+1][j+1]))\n",
    "                \n",
    "                \n",
    "    return memo , memo[0][0]\n",
    "\n",
    "\n",
    "max_gold( [[1,2,3,4],\n",
    "            [5,6,7,8],\n",
    "            [9,10,11,12]] , 3,4 )\n",
    "                "
   ]
  },
  {
   "cell_type": "code",
   "execution_count": null,
   "id": "be011a77",
   "metadata": {},
   "outputs": [],
   "source": [
    "[[1,2,3,4],\n",
    "[5,6,7,8],\n",
    "[9,10,11,12]]"
   ]
  },
  {
   "cell_type": "code",
   "execution_count": null,
   "id": "5c016129",
   "metadata": {},
   "outputs": [],
   "source": []
  },
  {
   "cell_type": "code",
   "execution_count": null,
   "id": "989a2c0a",
   "metadata": {},
   "outputs": [],
   "source": [
    "#Target Sum Subsets Dynamic Programming "
   ]
  },
  {
   "cell_type": "code",
   "execution_count": 25,
   "id": "f9831ce6",
   "metadata": {},
   "outputs": [
    {
     "data": {
      "text/plain": [
       "([[True, False, False, False, False, False, False, False, False, False, False],\n",
       "  [True, False, False, False, True, False, False, False, False, False, False],\n",
       "  [True, False, True, False, True, False, True, False, False, False, False],\n",
       "  [True, False, True, False, True, False, True, True, False, True, False],\n",
       "  [True, True, True, True, True, True, True, True, True, True, True],\n",
       "  [True, True, True, True, True, True, True, True, True, True, True]],\n",
       " True)"
      ]
     },
     "execution_count": 25,
     "metadata": {},
     "output_type": "execute_result"
    }
   ],
   "source": [
    "def target(arr , k):\n",
    "    n = len(arr)\n",
    "    memo = [[False for x in range(k+1)] for x in range(n+1)]\n",
    "    \n",
    "    \n",
    "    memo[0][0] = True\n",
    "    \n",
    "    for i in range(len(memo)):\n",
    "        for j in range(len(memo[i])):\n",
    "            if i == 0 and j ==0:\n",
    "                memo[i][j] = True\n",
    "                \n",
    "            elif i == 0:\n",
    "                memo[i][j] = False\n",
    "                \n",
    "            elif j == 0:\n",
    "                memo[i][j] = True\n",
    "                \n",
    "            else:\n",
    "                if memo[i-1][j] == True:\n",
    "                    memo[i][j] = True\n",
    "                else:\n",
    "                    val = arr[i-1] \n",
    "                    if j >= arr[i-1]:\n",
    "                        if memo[i-1][j-val] == True:\n",
    "                            memo[i][j] = True\n",
    "                    \n",
    "                    \n",
    "    return memo , memo[n][k]\n",
    "            \n",
    "    \n",
    "    \n",
    "target([4,2,7,1,3], 10)"
   ]
  },
  {
   "cell_type": "code",
   "execution_count": null,
   "id": "53c8afe6",
   "metadata": {},
   "outputs": [],
   "source": []
  },
  {
   "cell_type": "code",
   "execution_count": null,
   "id": "133705a4",
   "metadata": {},
   "outputs": [],
   "source": [
    "#Coin Change Combination Problem Dynamic Programming"
   ]
  },
  {
   "cell_type": "code",
   "execution_count": 5,
   "id": "4fdc8525",
   "metadata": {},
   "outputs": [
    {
     "data": {
      "text/plain": [
       "([1, 0, 1, 1, 1, 2, 2, 2], 2)"
      ]
     },
     "execution_count": 5,
     "metadata": {},
     "output_type": "execute_result"
    }
   ],
   "source": [
    "def coin(arr , k):\n",
    "    n = len(arr)\n",
    "    memo = [0] * (k+1)\n",
    "    memo[0] = 1\n",
    "    \n",
    "    for i in range(len(arr)):\n",
    "        \n",
    "        for j in range(arr[i] , k+1):\n",
    "            \n",
    "            memo[j] += memo[j - arr[i]]\n",
    "            \n",
    "                    \n",
    "    return memo , memo[k]\n",
    "            \n",
    "    \n",
    "    \n",
    "coin([2,3,5], 7)"
   ]
  },
  {
   "cell_type": "code",
   "execution_count": null,
   "id": "0f1aaa73",
   "metadata": {},
   "outputs": [],
   "source": [
    "                "
   ]
  },
  {
   "cell_type": "code",
   "execution_count": null,
   "id": "a9ed78a9",
   "metadata": {},
   "outputs": [],
   "source": []
  },
  {
   "cell_type": "code",
   "execution_count": null,
   "id": "141bcd1e",
   "metadata": {},
   "outputs": [],
   "source": [
    "#Coin Change Permutations Problem Dynamic Programming"
   ]
  },
  {
   "cell_type": "code",
   "execution_count": 4,
   "id": "04a48f69",
   "metadata": {},
   "outputs": [
    {
     "data": {
      "text/plain": [
       "[1, 0, 1, 1, 1, 3, 2, 5]"
      ]
     },
     "execution_count": 4,
     "metadata": {},
     "output_type": "execute_result"
    }
   ],
   "source": [
    "def coin_per(arr , k):\n",
    "    n = len(arr)\n",
    "    memo = [0] * (k+1)\n",
    "    \n",
    "    for i in range(k+1):\n",
    "        \n",
    "        for j in range(n):\n",
    "            \n",
    "            if i == 0:\n",
    "                memo[i] = 1\n",
    "            \n",
    "            else:\n",
    "                if i >= arr[j]:\n",
    "                    memo[i] += memo[i - arr[j]]\n",
    "                \n",
    "    return memo\n",
    "\n",
    "coin_per([2,3,5] , 7)\n",
    "    \n",
    "    \n",
    "    "
   ]
  },
  {
   "cell_type": "code",
   "execution_count": null,
   "id": "fa9fbe3b",
   "metadata": {},
   "outputs": [],
   "source": []
  },
  {
   "cell_type": "code",
   "execution_count": null,
   "id": "663751da",
   "metadata": {},
   "outputs": [],
   "source": []
  },
  {
   "cell_type": "code",
   "execution_count": null,
   "id": "640c584c",
   "metadata": {},
   "outputs": [],
   "source": []
  },
  {
   "cell_type": "code",
   "execution_count": null,
   "id": "dcb766a2",
   "metadata": {},
   "outputs": [],
   "source": [
    "#0-1 Knapsack Problem Dynamic Programming Solved"
   ]
  },
  {
   "cell_type": "code",
   "execution_count": 6,
   "id": "272c1f16",
   "metadata": {},
   "outputs": [
    {
     "data": {
      "text/plain": [
       "[[0, 0, 0, 0, 0, 0, 0, 0],\n",
       " [0, 0, 15, 15, 15, 15, 15, 15],\n",
       " [0, 0, 15, 15, 15, 15, 15, 29],\n",
       " [0, 10, 15, 25, 25, 25, 25, 29],\n",
       " [0, 10, 15, 45, 55, 60, 70, 70],\n",
       " [0, 10, 15, 45, 55, 60, 70, 75]]"
      ]
     },
     "execution_count": 6,
     "metadata": {},
     "output_type": "execute_result"
    }
   ],
   "source": [
    "def knap(arr , val , k):\n",
    "    n = len(arr)\n",
    "    memo = [[0 for x in range(k+1)] for x in range(n+1)]\n",
    "\n",
    "    for i in range(1 , n+1):\n",
    "        for j in range(1 , k+1):\n",
    "            \n",
    "            if (j >= arr[i-1]) :\n",
    "                    memo[i][j] = max(  (val[i-1] + memo[i-1][j - arr[i-1]]) , memo[i-1][j]  )\n",
    "                        \n",
    "            else:\n",
    "                    memo[i][j] = memo[i-1][j]\n",
    "                   \n",
    "    return memo\n",
    "  \n",
    "knap([2,5,1,3,4] , [15,14,10,45,30] , 7)"
   ]
  },
  {
   "cell_type": "code",
   "execution_count": null,
   "id": "67fabb1e",
   "metadata": {},
   "outputs": [],
   "source": []
  },
  {
   "cell_type": "code",
   "execution_count": null,
   "id": "7dc4c7be",
   "metadata": {},
   "outputs": [],
   "source": []
  },
  {
   "cell_type": "code",
   "execution_count": 105,
   "id": "18a37569",
   "metadata": {},
   "outputs": [],
   "source": [
    "#Unbounded Knapsack using Dynamic Programming"
   ]
  },
  {
   "cell_type": "code",
   "execution_count": 37,
   "id": "cd3fe91b",
   "metadata": {},
   "outputs": [
    {
     "data": {
      "text/plain": [
       "[0, 10, 20, 45, 55, 65, 90, 100]"
      ]
     },
     "execution_count": 37,
     "metadata": {},
     "output_type": "execute_result"
    }
   ],
   "source": [
    "def unb_knap1(arr , val , k):\n",
    "    n = len(arr)\n",
    "    memo = [0] * (k+1)\n",
    "    memo[0] = 0\n",
    "    \n",
    "    \n",
    "    for i in range(1 , k+1):\n",
    "        maxi = 0\n",
    "        for j in range(n):\n",
    "            if i >= arr[j]:\n",
    "                valu = val[j] + memo[i-arr[j]]\n",
    "                \n",
    "                maxi = max(maxi , valu)\n",
    "                \n",
    "        memo[i] = maxi\n",
    "            \n",
    "            \n",
    "                \n",
    "    return memo\n",
    "\n",
    "\n",
    "unb_knap1([2,5,1,3,4] , [15,14,10,45,30] , 7)"
   ]
  },
  {
   "cell_type": "code",
   "execution_count": null,
   "id": "1ff31244",
   "metadata": {},
   "outputs": [],
   "source": []
  },
  {
   "cell_type": "code",
   "execution_count": 38,
   "id": "f6dacce4",
   "metadata": {},
   "outputs": [
    {
     "data": {
      "text/plain": [
       "[0, 10, 20, 45, 55, 65, 90, 100]"
      ]
     },
     "execution_count": 38,
     "metadata": {},
     "output_type": "execute_result"
    }
   ],
   "source": [
    "def unb_knap(arr , val , k):\n",
    "    n = len(arr)\n",
    "    memo = [0] * (k+1)\n",
    "    memo[0] = 0\n",
    "    \n",
    "    \n",
    "    for i in range(1 , k+1):\n",
    "        maxi = 0\n",
    "        for j in range(n):\n",
    "            \n",
    "            \n",
    "            if arr[j] <= i:\n",
    "                \n",
    "                cv = i - arr[j]\n",
    "                \n",
    "                \n",
    "                fv = memo[cv] + val[j]\n",
    "                \n",
    "                maxi = max(maxi , fv)\n",
    "                    \n",
    "                    \n",
    "        memo[i] = maxi\n",
    "                \n",
    "    return memo\n",
    "\n",
    "\n",
    "unb_knap([2,5,1,3,4] , [15,14,10,45,30] , 7)"
   ]
  },
  {
   "cell_type": "code",
   "execution_count": null,
   "id": "3eb13d4b",
   "metadata": {},
   "outputs": [],
   "source": []
  },
  {
   "cell_type": "code",
   "execution_count": null,
   "id": "7ba6edae",
   "metadata": {},
   "outputs": [],
   "source": []
  },
  {
   "cell_type": "code",
   "execution_count": null,
   "id": "1d3b9ffa",
   "metadata": {},
   "outputs": [],
   "source": []
  },
  {
   "cell_type": "code",
   "execution_count": 104,
   "id": "6566a394",
   "metadata": {},
   "outputs": [
    {
     "name": "stdout",
     "output_type": "stream",
     "text": [
      "[[0, 0, 0, 0, 30, 30, 30, 30], [0, 0, 15, 15, 30, 30, 45, 45], [0, 0, 15, 15, 30, 30, 45, 45], [0, 10, 15, 25, 30, 40, 45, 55], [0, 10, 15, 45, 55, 60, 70, 75], [0, 10, 15, 45, 55, 60, 70, 75]]\n"
     ]
    },
    {
     "data": {
      "text/plain": [
       "75"
      ]
     },
     "execution_count": 104,
     "metadata": {},
     "output_type": "execute_result"
    }
   ],
   "source": [
    "#Top-Down\n",
    "def knapSack1(W, wt, val, n):\n",
    "        memo = [[0 for x in range(W + 1)] for x in range(n + 1)]\n",
    "        \n",
    "       \n",
    "                    \n",
    "        for i in range( n+1 ):\n",
    "            for j in range( W+1 ):\n",
    "                \n",
    "               \n",
    "                if wt[i-1] <= j:\n",
    "                    \n",
    "                    memo[i][j] = max(val[i-1] + memo[i-1][j-wt[i-1]] , memo[i-1][j])\n",
    "                    \n",
    "            \n",
    "                else:\n",
    "                    memo[i][j] = memo[i-1][j]\n",
    "        print(memo)            \n",
    "        return memo[n][W]\n",
    "\n",
    "    \n",
    "knapSack1( 7 , [2,5,1,3,4] , [15,14,10,45,30],  5)\n",
    "#7 , [2,5,1,3,4] , [15,14,10,45,30]         5, [1, 2, 3], [60, 100, 120],"
   ]
  },
  {
   "cell_type": "code",
   "execution_count": null,
   "id": "a6f9f98b",
   "metadata": {},
   "outputs": [],
   "source": []
  },
  {
   "cell_type": "code",
   "execution_count": null,
   "id": "415dd1b3",
   "metadata": {},
   "outputs": [],
   "source": [
    "#Count Binary Strings   sameee   #Arrange Buildings Dynamic Programming "
   ]
  },
  {
   "cell_type": "code",
   "execution_count": 124,
   "id": "82db0417",
   "metadata": {},
   "outputs": [
    {
     "data": {
      "text/plain": [
       "([0, 1, 1, 2, 3, 5, 8, 13], [0, 1, 2, 3, 5, 8, 13, 21])"
      ]
     },
     "execution_count": 124,
     "metadata": {},
     "output_type": "execute_result"
    }
   ],
   "source": [
    "def count_binary_string(n):\n",
    "    mem0 = [0] * (n+1)\n",
    "    mem1 = [0] * (n+1)\n",
    "    \n",
    "    mem0[1] = 1\n",
    "    mem1[1] = 1\n",
    "    \n",
    "    for i in range(2 , n+1):\n",
    "        mem0[i] = mem1[i-1]\n",
    "        mem1[i] = mem1[i-1] + mem0[i-1]\n",
    "        \n",
    "        \n",
    "    \n",
    "    \n",
    "    return mem0 , mem1\n",
    "\n",
    "count_binary_string(7)\n",
    "    "
   ]
  },
  {
   "cell_type": "code",
   "execution_count": null,
   "id": "a87555e1",
   "metadata": {},
   "outputs": [],
   "source": []
  },
  {
   "cell_type": "code",
   "execution_count": null,
   "id": "ba4494f8",
   "metadata": {},
   "outputs": [],
   "source": [
    "#Decode Ways Dynamic Programming\n",
    "#easy peasyyyyy"
   ]
  },
  {
   "cell_type": "code",
   "execution_count": 8,
   "id": "cebf8588",
   "metadata": {},
   "outputs": [
    {
     "name": "stdout",
     "output_type": "stream",
     "text": [
      "Count is ([1, 1, 2, 3, 3], 3)\n"
     ]
    }
   ],
   "source": [
    "\n",
    "def countDecodingDP(digits, n):\n",
    "\n",
    "\tcount = [0] * (n + 1)\n",
    "\tcount[0] = 1;\n",
    "\tcount[1] = 1;\n",
    "\n",
    "\tfor i in range(2, n + 1):\n",
    "\n",
    "\t\t#count[i] = 0;\n",
    "\n",
    "\t\t# If the last digit is not 0, then last\n",
    "\t\t# digit must add to the number of words\n",
    "\t\tif (digits[i - 1] > '0'):\n",
    "\t\t\tcount[i] = count[i - 1];\n",
    "\n",
    " \n",
    "\t\tif (digits[i - 2] == '1' or\n",
    "\t\t(digits[i - 2] == '2' and\n",
    "\t\t\tdigits[i - 1] < '7') ):\n",
    "\t\t\tcount[i] += count[i - 2];\n",
    "\n",
    "\treturn count , count[n];\n",
    "\n",
    "# Driver Code\n",
    "digits = \"1234\";\n",
    "n = len(digits);\n",
    "print(\"Count is\" ,\n",
    "\tcountDecodingDP(digits, n));\n",
    "\n",
    "\n"
   ]
  },
  {
   "cell_type": "code",
   "execution_count": null,
   "id": "2e2a5083",
   "metadata": {},
   "outputs": [],
   "source": []
  },
  {
   "cell_type": "code",
   "execution_count": null,
   "id": "fc1fef85",
   "metadata": {},
   "outputs": [],
   "source": []
  },
  {
   "cell_type": "code",
   "execution_count": null,
   "id": "d05df0fc",
   "metadata": {},
   "outputs": [],
   "source": []
  },
  {
   "cell_type": "code",
   "execution_count": null,
   "id": "8b906005",
   "metadata": {},
   "outputs": [],
   "source": []
  },
  {
   "cell_type": "code",
   "execution_count": null,
   "id": "3196f12f",
   "metadata": {},
   "outputs": [],
   "source": [
    "#Maximum Sum Non Adjacent Elements Dynamic Programming | Greedy Approach"
   ]
  },
  {
   "cell_type": "code",
   "execution_count": 39,
   "id": "3a2df74c",
   "metadata": {},
   "outputs": [
    {
     "data": {
      "text/plain": [
       "([5, 5, 15, 105, 25, 110], [0, 5, 5, 15, 105, 105])"
      ]
     },
     "execution_count": 39,
     "metadata": {},
     "output_type": "execute_result"
    }
   ],
   "source": [
    "def sum_n_adj(arr):\n",
    "    n = len(arr)\n",
    "    \n",
    "    incl = [0] * n\n",
    "    excl = [0] * n\n",
    "    \n",
    "    incl[0] = arr[0]\n",
    "    \n",
    "    for i in range(1 , len(arr)):\n",
    "        \n",
    "        incl[i] = excl[i-1] + arr[i]\n",
    "        \n",
    "        excl[i] = max(incl[i-1] , excl[i-1])\n",
    "    \n",
    "    \n",
    "    #return max(excl[n-1] , incl[n-1])\n",
    "        \n",
    "    return incl , excl\n",
    "        \n",
    "    \n",
    "    \n",
    "    \n",
    "\n",
    "sum_n_adj([5,5,10,100,10,5])\n",
    "    "
   ]
  },
  {
   "cell_type": "code",
   "execution_count": null,
   "id": "2e981f21",
   "metadata": {},
   "outputs": [],
   "source": [
    "#Paint House (Leetcode)"
   ]
  },
  {
   "cell_type": "code",
   "execution_count": 131,
   "id": "3479c71d",
   "metadata": {},
   "outputs": [
    {
     "data": {
      "text/plain": [
       "([1, 10, 8, 8], [5, 9, 7, 10], [7, 5, 18, 11])"
      ]
     },
     "execution_count": 131,
     "metadata": {},
     "output_type": "execute_result"
    }
   ],
   "source": [
    "def paint(r , g , b):\n",
    "    n = len(r)\n",
    "    rf = [0] * n\n",
    "    gf = [0] * n\n",
    "    bf = [0] * n\n",
    "    \n",
    "    \n",
    "    rf[0] = r[0]\n",
    "    gf[0] = g[0]\n",
    "    bf[0] = b[0]\n",
    "    \n",
    "    for i in range(1 , n):\n",
    "        rf[i] = r[i] + min(bf[i-1] , gf[i-1])\n",
    "        \n",
    "        gf[i] = g[i] + min(rf[i-1] , bf[i-1])\n",
    "        \n",
    "        bf[i] = b[i] + min(rf[i-1] , gf[i-1])\n",
    "        \n",
    "        \n",
    "        \n",
    "    return rf , gf , bf\n",
    "\n",
    "\n",
    "paint([1,5,3,1] , [5,8,2,2] , [7,4,9,4])\n",
    "        \n",
    "        \n",
    "    \n",
    "    \n",
    "    \n",
    "    \n",
    "    \n",
    "    \n",
    "    "
   ]
  },
  {
   "cell_type": "code",
   "execution_count": null,
   "id": "85ed68cf",
   "metadata": {},
   "outputs": [],
   "source": [
    "#Paint Fence (Leetcode)"
   ]
  },
  {
   "cell_type": "code",
   "execution_count": 47,
   "id": "b3d67b21",
   "metadata": {},
   "outputs": [
    {
     "data": {
      "text/plain": [
       "16073132017149842848172908587919974600948706507572625211909960569723003880448480460172852528705954196293244424741165116022423875615719424"
      ]
     },
     "execution_count": 47,
     "metadata": {},
     "output_type": "execute_result"
    }
   ],
   "source": [
    "def fence(n , k):\n",
    "    memos = [0] * (n+1)\n",
    "    memod = [0] * (n+1)\n",
    "    summ = [0] * (n+1)\n",
    "    memos[0] = 0\n",
    "    memos[1] = 0\n",
    "    memos[2] = k\n",
    "    memod[0] = 0\n",
    "    memod[1] = 0\n",
    "    memod[2] = k * (k-1)\n",
    "    summ[2] = memos[2] + memod[2]\n",
    "    \n",
    "    for i in range(3 , n+1):\n",
    "        memos[i] = memod[i-1]\n",
    "        memod[i] = summ[i-1] * (k-1)\n",
    "        summ[i] = memos[i] + memod[i]\n",
    "        \n",
    "    return summ[n] #, memos , memod\n",
    "\n",
    "\n",
    "fence(79 , 53)\n",
    "        "
   ]
  },
  {
   "cell_type": "code",
   "execution_count": null,
   "id": "c2b227b7",
   "metadata": {},
   "outputs": [],
   "source": []
  },
  {
   "cell_type": "code",
   "execution_count": null,
   "id": "848edb75",
   "metadata": {},
   "outputs": [],
   "source": [
    "        if n==0:\n",
    "            return 0\n",
    "        if n==1:\n",
    "            return k\n",
    "        if n==2:\n",
    "            return k*k\n",
    "        dp = [0] * (n + 1)\n",
    "        total = k\n",
    "        mod = 1000000007\n",
    "         \n",
    "        dp[1] = k\n",
    "        dp[2] = k * k   \n",
    "         \n",
    "        for i in range(3,n+1):\n",
    "            dp[i] = ((k - 1) * (dp[i - 1] + dp[i - 2])) % mod\n",
    "             \n",
    "        return dp[n]"
   ]
  },
  {
   "cell_type": "code",
   "execution_count": null,
   "id": "186ea66c",
   "metadata": {},
   "outputs": [],
   "source": []
  },
  {
   "cell_type": "code",
   "execution_count": 137,
   "id": "0f31bee5",
   "metadata": {},
   "outputs": [],
   "source": [
    "#Tiling with Dominoes"
   ]
  },
  {
   "cell_type": "code",
   "execution_count": 146,
   "id": "1191c6ab",
   "metadata": {},
   "outputs": [
    {
     "name": "stdout",
     "output_type": "stream",
     "text": [
      "[0, 1, 2, 0, 0, 0, 0, 0, 0]\n"
     ]
    },
    {
     "data": {
      "text/plain": [
       "34"
      ]
     },
     "execution_count": 146,
     "metadata": {},
     "output_type": "execute_result"
    }
   ],
   "source": [
    "def tiling(n):\n",
    "    dp = [0] * (n+1)\n",
    "    \n",
    "    dp[1] = 1\n",
    "    dp[2] = 2\n",
    "    print(dp)\n",
    "    for i in range(3 , n+1):\n",
    "        dp[i] = dp[i-1] + dp[i-2]\n",
    "        \n",
    "        \n",
    "    return dp[n]\n",
    "\n",
    "tiling(8)"
   ]
  },
  {
   "cell_type": "code",
   "execution_count": null,
   "id": "f21ce641",
   "metadata": {},
   "outputs": [],
   "source": [
    "#Tiling with M x 1 Tiles Dynamic Programming"
   ]
  },
  {
   "cell_type": "code",
   "execution_count": 154,
   "id": "c129ed7b",
   "metadata": {},
   "outputs": [
    {
     "data": {
      "text/plain": [
       "([0, 1, 1, 2, 3, 4, 6, 9, 13], 13)"
      ]
     },
     "execution_count": 154,
     "metadata": {},
     "output_type": "execute_result"
    }
   ],
   "source": [
    "def tiling_m(m , n):\n",
    "    dp = [0] * (n+1)\n",
    "    \n",
    "    \n",
    "    for i in range(1 ,  n+1):\n",
    "        if i < m:\n",
    "            dp[i] = 1\n",
    "        elif i == m:\n",
    "            dp[i] = 2\n",
    "            \n",
    "        else:\n",
    "            dp[i] = dp[i-1] + dp[i-m]\n",
    "        \n",
    "        \n",
    "    return dp , dp[n]\n",
    "\n",
    "tiling_m(3, 8)"
   ]
  },
  {
   "cell_type": "code",
   "execution_count": null,
   "id": "e63cb734",
   "metadata": {},
   "outputs": [],
   "source": []
  },
  {
   "cell_type": "code",
   "execution_count": 156,
   "id": "e410489d",
   "metadata": {},
   "outputs": [
    {
     "data": {
      "text/plain": [
       "26"
      ]
     },
     "execution_count": 156,
     "metadata": {},
     "output_type": "execute_result"
    }
   ],
   "source": [
    "def countFriendsPairings(n):\n",
    "        \n",
    "        memo = [0] * (n+1)\n",
    "        \n",
    "        memo[1] = 1\n",
    "        memo[2] = 2\n",
    "        \n",
    "        for i in range(3 , n+1):\n",
    "            \n",
    "            memo[i] = memo[i-1] + memo[i-2] * (i-1)\n",
    "            \n",
    "            \n",
    "        return memo[n]\n",
    "    \n",
    "countFriendsPairings(5)"
   ]
  },
  {
   "cell_type": "code",
   "execution_count": null,
   "id": "db1066b2",
   "metadata": {},
   "outputs": [],
   "source": []
  },
  {
   "cell_type": "code",
   "execution_count": null,
   "id": "da792c66",
   "metadata": {},
   "outputs": [],
   "source": [
    "#Partition into Subsets Dynamic Programming"
   ]
  },
  {
   "cell_type": "code",
   "execution_count": 14,
   "id": "18afd106",
   "metadata": {},
   "outputs": [
    {
     "data": {
      "text/plain": [
       "10"
      ]
     },
     "execution_count": 14,
     "metadata": {},
     "output_type": "execute_result"
    }
   ],
   "source": [
    "def part_sst(n , k):\n",
    "    \n",
    "    memo = [[0 for x in range(n+1)] for x in range(k+1)]\n",
    "    \n",
    "    for i in range(k+1):\n",
    "        for j in range(n+1):\n",
    "            if i == 1:\n",
    "                memo[i][j] = 1\n",
    "                \n",
    "            elif i <= j:\n",
    "                memo[i][j] = memo[i-1][j-1] + (memo[i][j-1] * i)\n",
    "            \n",
    "            \n",
    "            \n",
    "    return memo[k][n]\n",
    "\n",
    "part_sst(5 , 4)"
   ]
  },
  {
   "cell_type": "code",
   "execution_count": null,
   "id": "298031f7",
   "metadata": {},
   "outputs": [],
   "source": []
  },
  {
   "cell_type": "code",
   "execution_count": null,
   "id": "2e969de3",
   "metadata": {},
   "outputs": [],
   "source": []
  },
  {
   "cell_type": "code",
   "execution_count": 157,
   "id": "a3e2d672",
   "metadata": {},
   "outputs": [],
   "source": [
    "#Best Time to Buy and Sell Stocks - One Transaction Allowed - NO DYNAMIC PROGRAMMING"
   ]
  },
  {
   "cell_type": "code",
   "execution_count": 160,
   "id": "2ed0b975",
   "metadata": {},
   "outputs": [
    {
     "data": {
      "text/plain": [
       "2"
      ]
     },
     "execution_count": 160,
     "metadata": {},
     "output_type": "execute_result"
    }
   ],
   "source": [
    "def buy1(arr):\n",
    "    n = len(arr)\n",
    "    \n",
    "    msf = float('inf') #minimum so far\n",
    "    cprc = 0 # current day price\n",
    "    omax = 0 #overall max difference\n",
    "    \n",
    "    for i in range(n):\n",
    "        \n",
    "        if arr[i] < msf:\n",
    "            msf = arr[i]\n",
    "            \n",
    "        \n",
    "        cprc = arr[i] - msf\n",
    "        \n",
    "        \n",
    "        if cprc > omax:\n",
    "            omax = cprc\n",
    "            \n",
    "    return omax\n",
    "\n",
    "buy1([1,2,3])\n",
    "        \n",
    "#[9,11,6,7,19,4,1,6,18,4]    "
   ]
  },
  {
   "cell_type": "code",
   "execution_count": null,
   "id": "f654189d",
   "metadata": {},
   "outputs": [],
   "source": []
  },
  {
   "cell_type": "code",
   "execution_count": null,
   "id": "fe33d276",
   "metadata": {},
   "outputs": [],
   "source": [
    "##Best Time to Buy and Sell Stocks - 2 (Infinite Transactions) Dynamic Programming"
   ]
  },
  {
   "cell_type": "code",
   "execution_count": 7,
   "id": "c49ddac2",
   "metadata": {},
   "outputs": [
    {
     "data": {
      "text/plain": [
       "7"
      ]
     },
     "execution_count": 7,
     "metadata": {},
     "output_type": "execute_result"
    }
   ],
   "source": [
    "def buyns(arr):\n",
    "    bd = 0\n",
    "    sd = 0 \n",
    "    op = 0\n",
    "    \n",
    "    for i in range(1 , len(arr)):\n",
    "        \n",
    "        if arr[i] >= arr[i-1]:\n",
    "            sd += 1\n",
    "            \n",
    "        else:\n",
    "            op += arr[sd] - arr[bd]\n",
    "            bd = i\n",
    "            sd = i\n",
    "    op += arr[sd] - arr[bd]         \n",
    "    return op\n",
    "buyns([7,1,5,3,6,4])"
   ]
  },
  {
   "cell_type": "code",
   "execution_count": null,
   "id": "c8adddb1",
   "metadata": {},
   "outputs": [],
   "source": []
  },
  {
   "cell_type": "code",
   "execution_count": null,
   "id": "af1ee300",
   "metadata": {},
   "outputs": [],
   "source": []
  },
  {
   "cell_type": "code",
   "execution_count": null,
   "id": "bb74dcbb",
   "metadata": {},
   "outputs": [],
   "source": [
    "#Best Time to Buy and Sell Stocks - 2 (Infinite Transactions) Dynamic Programming"
   ]
  },
  {
   "cell_type": "code",
   "execution_count": 2,
   "id": "63bfe09b",
   "metadata": {},
   "outputs": [
    {
     "name": "stdout",
     "output_type": "stream",
     "text": [
      "-> 11\n",
      "-> 7\n",
      "-> 19\n",
      "-> 6\n",
      "-> 18\n"
     ]
    },
    {
     "data": {
      "text/plain": [
       "(0, 32)"
      ]
     },
     "execution_count": 2,
     "metadata": {},
     "output_type": "execute_result"
    }
   ],
   "source": [
    "def buy2(arr):\n",
    "    n = len(arr)\n",
    "    \n",
    "    msf = float('inf') #minimum so far\n",
    "    cprc = 0 # current day price\n",
    "    omax = 0 #overall max difference\n",
    "    maxi = 0\n",
    "    for i in range(n):\n",
    "        \n",
    "        if arr[i] < msf:\n",
    "            msf = arr[i]\n",
    "            \n",
    "        \n",
    "        cprc = arr[i] - msf\n",
    "        \n",
    "        \n",
    "        if cprc > omax:\n",
    "            \n",
    "            omax = cprc\n",
    "            print('->' , arr[i])\n",
    "            \n",
    "            msf = arr[i]\n",
    "            maxi += omax\n",
    "            omax = 0\n",
    "            \n",
    "    return omax , maxi\n",
    "\n",
    "buy2([9,11,6,7,19,4,1,6,18,4])\n",
    "        \n",
    "#[9,11,6,7,19,4,1,6,18,4]   #7,1,5,3,6,4  "
   ]
  },
  {
   "cell_type": "code",
   "execution_count": null,
   "id": "4bb25966",
   "metadata": {},
   "outputs": [],
   "source": []
  },
  {
   "cell_type": "code",
   "execution_count": null,
   "id": "b3d2ff58",
   "metadata": {},
   "outputs": [],
   "source": []
  },
  {
   "cell_type": "code",
   "execution_count": null,
   "id": "0952fb93",
   "metadata": {},
   "outputs": [],
   "source": [
    "#Best Time to Buy and Sell Stocks with Transaction Fee and Infinite Transactions Dynamic Programming"
   ]
  },
  {
   "cell_type": "code",
   "execution_count": null,
   "id": "240422d4",
   "metadata": {},
   "outputs": [],
   "source": [
    "def buy3(arr):\n",
    "    n = len(arr)\n",
    "    \n",
    "    msf = float('inf') #minimum so far\n",
    "    cprc = 0 # current day price\n",
    "    omax = 0 #overall max difference\n",
    "    maxi = 0\n",
    "    for i in range(n):\n",
    "        \n",
    "        if arr[i] < msf:\n",
    "            msf = arr[i]\n",
    "            \n",
    "        \n",
    "        cprc = arr[i] - msf\n",
    "        \n",
    "        \n",
    "        if cprc > omax:\n",
    "            \n",
    "            omax = cprc\n",
    "            print('->' , arr[i])\n",
    "            \n",
    "            msf = arr[i]\n",
    "            maxi += omax\n",
    "            omax = 0\n",
    "            \n",
    "    return omax , maxi\n",
    "\n",
    "buy3([7,1,5,3,6,4])\n",
    "        \n",
    "#[9,11,6,7,19,4,1,6,18,4]   #7,1,5,3,6,4  "
   ]
  },
  {
   "cell_type": "code",
   "execution_count": null,
   "id": "244aa7a5",
   "metadata": {},
   "outputs": [],
   "source": []
  },
  {
   "cell_type": "code",
   "execution_count": null,
   "id": "76d8237a",
   "metadata": {},
   "outputs": [],
   "source": []
  },
  {
   "cell_type": "code",
   "execution_count": null,
   "id": "f35ded87",
   "metadata": {},
   "outputs": [],
   "source": []
  },
  {
   "cell_type": "code",
   "execution_count": null,
   "id": "1823ca7e",
   "metadata": {},
   "outputs": [],
   "source": []
  },
  {
   "cell_type": "code",
   "execution_count": null,
   "id": "1a0cf579",
   "metadata": {},
   "outputs": [],
   "source": []
  },
  {
   "cell_type": "code",
   "execution_count": null,
   "id": "c0d56c55",
   "metadata": {},
   "outputs": [],
   "source": [
    "#Highway Billboard Problem Dynamic Programming"
   ]
  },
  {
   "cell_type": "code",
   "execution_count": 1,
   "id": "a0e4fd15",
   "metadata": {},
   "outputs": [
    {
     "data": {
      "text/plain": [
       "(22, 22)"
      ]
     },
     "execution_count": 1,
     "metadata": {},
     "output_type": "execute_result"
    }
   ],
   "source": [
    "def bbd(arr , t , val):\n",
    "    n = len(arr)\n",
    "    memo = [0] * n\n",
    "    ans = 0\n",
    "    memo[0] = val[0]\n",
    "    \n",
    "    for i in range(1 , n):\n",
    "        maxi = 0\n",
    "        for j in range(i):\n",
    "            if (arr[i] - arr[j]) > t:\n",
    "                \n",
    "                maxi = max(maxi , memo[j])\n",
    "                \n",
    "        memo[i] = maxi + val[i]\n",
    "        ans = max(ans , memo[i])\n",
    "        \n",
    "    return ans , max(memo)\n",
    "\n",
    "bbd([6,8,12,14,16] , 3 , [5,8,5,3,9])\n",
    "#0,8,4,12,2,10,6,14,1,9,5,13,3,11,7,15"
   ]
  },
  {
   "cell_type": "code",
   "execution_count": 25,
   "id": "9bedeaa0",
   "metadata": {},
   "outputs": [],
   "source": [
    "#another approach"
   ]
  },
  {
   "cell_type": "code",
   "execution_count": 36,
   "id": "4e04fef9",
   "metadata": {},
   "outputs": [
    {
     "name": "stdout",
     "output_type": "stream",
     "text": [
      "{6: 5, 8: 8, 12: 5, 14: 3, 16: 1}\n",
      "1\n",
      "2\n",
      "3\n",
      "4\n",
      "5\n",
      "7\n",
      "9\n",
      "10\n",
      "11\n",
      "13\n",
      "15\n",
      "17\n",
      "18\n",
      "19\n"
     ]
    },
    {
     "data": {
      "text/plain": [
       "[0, 0, 0, 0, 0, 0, 5, 5, 8, 8, 8, 8, 13, 13, 13, 13, 14, 14, 14, 14]"
      ]
     },
     "execution_count": 36,
     "metadata": {},
     "output_type": "execute_result"
    }
   ],
   "source": [
    "def bbd2(x , arr , t , val):\n",
    "    n = len(arr)\n",
    "    memo = [0] * x\n",
    "    ans = 0\n",
    "    memo[0] = 0\n",
    "    mp = {}\n",
    "    \n",
    "    for i in range(len(arr)):\n",
    "        mp[arr[i]] = val[i]\n",
    "        \n",
    "    print(mp)\n",
    "    \n",
    "    for i in range(1 , x):\n",
    "        maxi = 0\n",
    "        if i not in mp:\n",
    "            print(i)\n",
    "            memo[i] = memo[i-1]\n",
    "            \n",
    "        else:\n",
    "            noti = memo[i-1]\n",
    "            inst = memo[i-t-1] + mp[i]\n",
    "            memo[i] = max(noti , inst)\n",
    "            \n",
    "            \n",
    "    return memo\n",
    "        \n",
    "\n",
    "bbd2(20 , [6,8,12,14,16] , 3 , [5,8,5,3,1])\n",
    "#0,8,4,12,2,10,6,14,1,9,5,13,3,11,7,15"
   ]
  },
  {
   "cell_type": "code",
   "execution_count": null,
   "id": "b9f28e9a",
   "metadata": {},
   "outputs": [],
   "source": []
  },
  {
   "cell_type": "code",
   "execution_count": null,
   "id": "7a74f724",
   "metadata": {},
   "outputs": [],
   "source": []
  },
  {
   "cell_type": "code",
   "execution_count": null,
   "id": "4cb9b0ce",
   "metadata": {},
   "outputs": [],
   "source": []
  },
  {
   "cell_type": "code",
   "execution_count": null,
   "id": "8e7e6709",
   "metadata": {},
   "outputs": [],
   "source": []
  },
  {
   "cell_type": "code",
   "execution_count": null,
   "id": "d9cb846d",
   "metadata": {},
   "outputs": [],
   "source": []
  },
  {
   "cell_type": "code",
   "execution_count": 19,
   "id": "d387122d",
   "metadata": {},
   "outputs": [
    {
     "ename": "TypeError",
     "evalue": "unsupported operand type(s) for +: 'builtin_function_or_method' and 'int'",
     "output_type": "error",
     "traceback": [
      "\u001b[1;31m---------------------------------------------------------------------------\u001b[0m",
      "\u001b[1;31mTypeError\u001b[0m                                 Traceback (most recent call last)",
      "\u001b[1;32m<ipython-input-19-2235810822f9>\u001b[0m in \u001b[0;36m<module>\u001b[1;34m\u001b[0m\n\u001b[0;32m     29\u001b[0m \u001b[1;33m\u001b[0m\u001b[0m\n\u001b[0;32m     30\u001b[0m \u001b[1;33m\u001b[0m\u001b[0m\n\u001b[1;32m---> 31\u001b[1;33m \u001b[0mstairs_cl\u001b[0m\u001b[1;33m(\u001b[0m\u001b[1;33m[\u001b[0m\u001b[1;36m5\u001b[0m\u001b[1;33m,\u001b[0m\u001b[1;36m5\u001b[0m\u001b[1;33m,\u001b[0m\u001b[1;36m2\u001b[0m\u001b[1;33m,\u001b[0m\u001b[1;36m4\u001b[0m\u001b[1;33m,\u001b[0m\u001b[1;36m1\u001b[0m\u001b[1;33m,\u001b[0m\u001b[1;36m5\u001b[0m\u001b[1;33m,\u001b[0m\u001b[1;36m9\u001b[0m\u001b[1;33m,\u001b[0m\u001b[1;36m8\u001b[0m\u001b[1;33m,\u001b[0m\u001b[1;36m6\u001b[0m\u001b[1;33m,\u001b[0m\u001b[1;36m3\u001b[0m\u001b[1;33m,\u001b[0m\u001b[1;36m8\u001b[0m\u001b[1;33m,\u001b[0m\u001b[1;36m9\u001b[0m\u001b[1;33m,\u001b[0m\u001b[1;36m1\u001b[0m\u001b[1;33m]\u001b[0m \u001b[1;33m)\u001b[0m\u001b[1;33m\u001b[0m\u001b[1;33m\u001b[0m\u001b[0m\n\u001b[0m",
      "\u001b[1;32m<ipython-input-19-2235810822f9>\u001b[0m in \u001b[0;36mstairs_cl\u001b[1;34m(arr)\u001b[0m\n\u001b[0;32m     18\u001b[0m \u001b[1;33m\u001b[0m\u001b[0m\n\u001b[0;32m     19\u001b[0m         \u001b[1;32mif\u001b[0m \u001b[0mmini\u001b[0m \u001b[1;33m!=\u001b[0m \u001b[0mfloat\u001b[0m\u001b[1;33m(\u001b[0m\u001b[1;34m'inf'\u001b[0m\u001b[1;33m)\u001b[0m\u001b[1;33m:\u001b[0m\u001b[1;33m\u001b[0m\u001b[1;33m\u001b[0m\u001b[0m\n\u001b[1;32m---> 20\u001b[1;33m             \u001b[0mmemo\u001b[0m\u001b[1;33m[\u001b[0m\u001b[0mi\u001b[0m\u001b[1;33m]\u001b[0m \u001b[1;33m=\u001b[0m  \u001b[0mmin\u001b[0m \u001b[1;33m+\u001b[0m \u001b[1;36m1\u001b[0m\u001b[1;33m\u001b[0m\u001b[1;33m\u001b[0m\u001b[0m\n\u001b[0m\u001b[0;32m     21\u001b[0m \u001b[1;33m\u001b[0m\u001b[0m\n\u001b[0;32m     22\u001b[0m         \u001b[1;32melse\u001b[0m\u001b[1;33m:\u001b[0m\u001b[1;33m\u001b[0m\u001b[1;33m\u001b[0m\u001b[0m\n",
      "\u001b[1;31mTypeError\u001b[0m: unsupported operand type(s) for +: 'builtin_function_or_method' and 'int'"
     ]
    }
   ],
   "source": [
    "#Climbing Stairs with Minimum Moves | Dynamic Programming\n",
    "def stairs_cl(arr):\n",
    "    n = len(arr)\n",
    "    memo = [None] * (n+1)\n",
    "    \n",
    "    memo[n] = 1\n",
    "    \n",
    "    for i in range(n-1, -1, -1):\n",
    "        if arr[i] == 0:\n",
    "                memo[i] = None\n",
    "        mini = float('inf')\n",
    "        \n",
    "        for j in range(1 , arr[i]+1):\n",
    "            \n",
    "            \n",
    "            if memo[i + j] != None:\n",
    "                mini = min(mini , memo[i+j] )\n",
    "            \n",
    "        if mini != float('inf'):\n",
    "            memo[i] =  min + 1\n",
    "            \n",
    "        else:\n",
    "            memo[i] = None\n",
    "        \n",
    "        \n",
    "    return memo , memo[0]\n",
    "    \n",
    "    \n",
    "    \n",
    "\n",
    "stairs_cl([5,5,2,4,1,5,9,8,6,3,8,9,1] )"
   ]
  },
  {
   "cell_type": "code",
   "execution_count": null,
   "id": "01c99040",
   "metadata": {},
   "outputs": [],
   "source": []
  }
 ],
 "metadata": {
  "kernelspec": {
   "display_name": "Python 3",
   "language": "python",
   "name": "python3"
  },
  "language_info": {
   "codemirror_mode": {
    "name": "ipython",
    "version": 3
   },
   "file_extension": ".py",
   "mimetype": "text/x-python",
   "name": "python",
   "nbconvert_exporter": "python",
   "pygments_lexer": "ipython3",
   "version": "3.8.10"
  }
 },
 "nbformat": 4,
 "nbformat_minor": 5
}
