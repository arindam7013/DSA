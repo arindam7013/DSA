{
 "cells": [
  {
   "cell_type": "code",
   "execution_count": 26,
   "id": "3b427944",
   "metadata": {},
   "outputs": [],
   "source": [
    "s1 = set()"
   ]
  },
  {
   "cell_type": "code",
   "execution_count": 27,
   "id": "a9d168cc",
   "metadata": {},
   "outputs": [],
   "source": [
    "s1.add(1)\n",
    "s1.add(2)"
   ]
  },
  {
   "cell_type": "code",
   "execution_count": 28,
   "id": "ac20c1c1",
   "metadata": {},
   "outputs": [],
   "source": [
    "s2 = set()"
   ]
  },
  {
   "cell_type": "code",
   "execution_count": 35,
   "id": "2566c6a1",
   "metadata": {},
   "outputs": [],
   "source": [
    "s2.add(3)\n",
    "s2.add(4)\n",
    "s2.add(1)"
   ]
  },
  {
   "cell_type": "code",
   "execution_count": 36,
   "id": "ce778c47",
   "metadata": {},
   "outputs": [],
   "source": [
    "s1 = s1.union(s2)"
   ]
  },
  {
   "cell_type": "code",
   "execution_count": 37,
   "id": "a5b25fec",
   "metadata": {},
   "outputs": [
    {
     "data": {
      "text/plain": [
       "{1, 2, 3, 4}"
      ]
     },
     "execution_count": 37,
     "metadata": {},
     "output_type": "execute_result"
    }
   ],
   "source": [
    "s1\n"
   ]
  },
  {
   "cell_type": "code",
   "execution_count": 39,
   "id": "4c33f53a",
   "metadata": {},
   "outputs": [],
   "source": [
    "g = s1.intersection(s2)"
   ]
  },
  {
   "cell_type": "code",
   "execution_count": 40,
   "id": "6e016202",
   "metadata": {},
   "outputs": [
    {
     "data": {
      "text/plain": [
       "{1, 3, 4}"
      ]
     },
     "execution_count": 40,
     "metadata": {},
     "output_type": "execute_result"
    }
   ],
   "source": [
    "g"
   ]
  },
  {
   "cell_type": "code",
   "execution_count": null,
   "id": "efb0ba52",
   "metadata": {},
   "outputs": [],
   "source": []
  },
  {
   "cell_type": "code",
   "execution_count": 4,
   "id": "b193f68a",
   "metadata": {},
   "outputs": [],
   "source": [
    "s.remove(2)\n",
    "\n"
   ]
  },
  {
   "cell_type": "code",
   "execution_count": 6,
   "id": "c32c91d4",
   "metadata": {},
   "outputs": [
    {
     "data": {
      "text/plain": [
       "{1}"
      ]
     },
     "execution_count": 6,
     "metadata": {},
     "output_type": "execute_result"
    }
   ],
   "source": []
  },
  {
   "cell_type": "code",
   "execution_count": 5,
   "id": "2c569369",
   "metadata": {},
   "outputs": [],
   "source": [
    "t = {4, 6}"
   ]
  },
  {
   "cell_type": "code",
   "execution_count": null,
   "id": "36e8d2f7",
   "metadata": {},
   "outputs": [],
   "source": [
    "print(s.isdisjoint(t))"
   ]
  }
 ],
 "metadata": {
  "kernelspec": {
   "display_name": "Python 3",
   "language": "python",
   "name": "python3"
  },
  "language_info": {
   "codemirror_mode": {
    "name": "ipython",
    "version": 3
   },
   "file_extension": ".py",
   "mimetype": "text/x-python",
   "name": "python",
   "nbconvert_exporter": "python",
   "pygments_lexer": "ipython3",
   "version": "3.8.10"
  }
 },
 "nbformat": 4,
 "nbformat_minor": 5
}
