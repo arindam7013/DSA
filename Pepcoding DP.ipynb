{
 "cells": [
  {
   "cell_type": "code",
   "execution_count": null,
   "id": "569cb872",
   "metadata": {},
   "outputs": [],
   "source": []
  },
  {
   "cell_type": "code",
   "execution_count": 11,
   "id": "3b9ac856",
   "metadata": {},
   "outputs": [
    {
     "data": {
      "text/plain": [
       "[[0, 0, 0, 0, 30, 30, 30, 30],\n",
       " [0, 0, 15, 15, 30, 30, 45, 45],\n",
       " [0, 0, 15, 15, 30, 30, 45, 45],\n",
       " [0, 10, 15, 25, 30, 40, 45, 55],\n",
       " [0, 10, 15, 45, 55, 60, 70, 75],\n",
       " [0, 10, 15, 45, 55, 60, 70, 75]]"
      ]
     },
     "execution_count": 11,
     "metadata": {},
     "output_type": "execute_result"
    }
   ],
   "source": [
    "def knap(W , wt , val):\n",
    "    memo = [[0 for i in range(W+1)] for j in range(len(wt) + 1)]\n",
    "    \n",
    "    for i in range(len(wt) + 1):\n",
    "        for j in range(W+1):\n",
    "            \n",
    "            if wt[i-1] <= j:\n",
    "                    \n",
    "                    memo[i][j] = max(val[i-1] + memo[i-1][j-wt[i-1]] , memo[i-1][j])\n",
    "                    \n",
    "            \n",
    "            else:\n",
    "                    memo[i][j] = memo[i-1][j]\n",
    "            \n",
    "                \n",
    "    return memo\n",
    "\n",
    "knap(7 , [2,5,1,3,4] , [15,14,10,45,30])\n",
    "                \n",
    "    "
   ]
  },
  {
   "cell_type": "code",
   "execution_count": null,
   "id": "4674bbbb",
   "metadata": {},
   "outputs": [],
   "source": []
  },
  {
   "cell_type": "code",
   "execution_count": null,
   "id": "5d619465",
   "metadata": {},
   "outputs": [],
   "source": []
  },
  {
   "cell_type": "code",
   "execution_count": null,
   "id": "16c7490a",
   "metadata": {},
   "outputs": [],
   "source": []
  },
  {
   "cell_type": "code",
   "execution_count": null,
   "id": "2fa00de9",
   "metadata": {},
   "outputs": [],
   "source": []
  }
 ],
 "metadata": {
  "kernelspec": {
   "display_name": "Python 3",
   "language": "python",
   "name": "python3"
  },
  "language_info": {
   "codemirror_mode": {
    "name": "ipython",
    "version": 3
   },
   "file_extension": ".py",
   "mimetype": "text/x-python",
   "name": "python",
   "nbconvert_exporter": "python",
   "pygments_lexer": "ipython3",
   "version": "3.8.10"
  }
 },
 "nbformat": 4,
 "nbformat_minor": 5
}
