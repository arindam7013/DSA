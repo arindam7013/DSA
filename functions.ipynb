{
 "cells": [
  {
   "cell_type": "code",
   "execution_count": 21,
   "metadata": {},
   "outputs": [],
   "source": [
    "#check if b is prime or not\n",
    "def prime(a,b):\n",
    "    if b>a and a>1:\n",
    "        for i in range(a,b):\n",
    "            if(b % i ==0):\n",
    "                return False\n",
    "            \n",
    "            else:\n",
    "                 return True\n",
    "            \n",
    "            \n",
    "        "
   ]
  },
  {
   "cell_type": "code",
   "execution_count": 23,
   "metadata": {},
   "outputs": [
    {
     "data": {
      "text/plain": [
       "True"
      ]
     },
     "execution_count": 23,
     "metadata": {},
     "output_type": "execute_result"
    }
   ],
   "source": [
    "prime(2,5)"
   ]
  },
  {
   "cell_type": "code",
   "execution_count": 63,
   "metadata": {},
   "outputs": [],
   "source": [
    "def prime(num):\n",
    "    flag = False\n",
    "    for i in range(2,num):\n",
    "        if num % i == 0:\n",
    "            \n",
    "            flag = True\n",
    "            break\n",
    "    if flag:\n",
    "        print(\"not prime\")\n",
    "        \n",
    "    else:\n",
    "        print(\"prime\")\n",
    "        \n"
   ]
  },
  {
   "cell_type": "code",
   "execution_count": 66,
   "metadata": {},
   "outputs": [
    {
     "name": "stdout",
     "output_type": "stream",
     "text": [
      "prime\n"
     ]
    }
   ],
   "source": [
    "prime(31)"
   ]
  },
  {
   "cell_type": "code",
   "execution_count": 28,
   "metadata": {},
   "outputs": [],
   "source": [
    "def fibo(n):\n",
    "    t1 = 0\n",
    "    t2 = 1\n",
    "    for i in range(n):\n",
    "        print(t1)\n",
    "        temp = t1+t2\n",
    "        t1=t2\n",
    "        t2 = temp"
   ]
  },
  {
   "cell_type": "code",
   "execution_count": 30,
   "metadata": {},
   "outputs": [
    {
     "name": "stdout",
     "output_type": "stream",
     "text": [
      "0\n",
      "1\n",
      "1\n",
      "2\n",
      "3\n",
      "5\n",
      "8\n",
      "13\n"
     ]
    }
   ],
   "source": [
    "fibo(8)"
   ]
  },
  {
   "cell_type": "code",
   "execution_count": 67,
   "metadata": {},
   "outputs": [],
   "source": [
    "def factorial(n,r):\n",
    "    temp_n = 1\n",
    "    temp_r = 1\n",
    "    d = n-r\n",
    "    temp_n_r = 1\n",
    "    if n>r:\n",
    "        \n",
    "        for i in range(1,n+1):      \n",
    "            temp_n = temp_n * i\n",
    "        \n",
    "\n",
    "        for j in range(1,r+1):\n",
    "            temp_r = temp_r * j\n",
    "        \n",
    "        \n",
    "        for k in range(1,d+1):\n",
    "            temp_n_r = temp_n_r * k\n",
    "            \n",
    "        deno = temp_r * temp_n_r\n",
    "        print(deno)\n",
    "        \n",
    "        \n",
    "        f = temp_n/deno  \n",
    "        return f"
   ]
  },
  {
   "cell_type": "code",
   "execution_count": 68,
   "metadata": {},
   "outputs": [
    {
     "name": "stdout",
     "output_type": "stream",
     "text": [
      "1440\n"
     ]
    },
    {
     "data": {
      "text/plain": [
       "28.0"
      ]
     },
     "execution_count": 68,
     "metadata": {},
     "output_type": "execute_result"
    }
   ],
   "source": [
    "factorial(8,2)"
   ]
  },
  {
   "cell_type": "code",
   "execution_count": 69,
   "metadata": {},
   "outputs": [],
   "source": [
    "def fact2(n):\n",
    "    temp_n = 1\n",
    "    for i in range(1,n+1):      \n",
    "            temp_n = temp_n * i\n",
    "            \n",
    "    return temp_n\n",
    "    "
   ]
  },
  {
   "cell_type": "code",
   "execution_count": 70,
   "metadata": {},
   "outputs": [],
   "source": [
    "x = fact2(8) /(fact2(2) * fact2(8-2))"
   ]
  },
  {
   "cell_type": "code",
   "execution_count": 71,
   "metadata": {},
   "outputs": [
    {
     "name": "stdout",
     "output_type": "stream",
     "text": [
      "28.0\n"
     ]
    }
   ],
   "source": [
    "print(x)"
   ]
  },
  {
   "cell_type": "code",
   "execution_count": 137,
   "metadata": {},
   "outputs": [],
   "source": [
    "def pascal(n):\n",
    "    v = fact2(n)\n",
    "    \n",
    "    for i in range(n):\n",
    "        \n",
    "        for j in range(n):\n",
    "            x = fact2(i) /(fact2(j) * fact2(i-j))\n",
    "            if j<=i:\n",
    "                print(x, \"  \", end='')\n",
    "        print(\"\")"
   ]
  },
  {
   "cell_type": "code",
   "execution_count": 138,
   "metadata": {},
   "outputs": [
    {
     "name": "stdout",
     "output_type": "stream",
     "text": [
      "1.0   \n",
      "1.0   1.0   \n",
      "1.0   2.0   1.0   \n",
      "1.0   3.0   3.0   1.0   \n",
      "1.0   4.0   6.0   4.0   1.0   \n"
     ]
    }
   ],
   "source": [
    "pascal(5)"
   ]
  },
  {
   "cell_type": "code",
   "execution_count": null,
   "metadata": {},
   "outputs": [],
   "source": []
  }
 ],
 "metadata": {
  "kernelspec": {
   "display_name": "Python 3",
   "language": "python",
   "name": "python3"
  },
  "language_info": {
   "codemirror_mode": {
    "name": "ipython",
    "version": 3
   },
   "file_extension": ".py",
   "mimetype": "text/x-python",
   "name": "python",
   "nbconvert_exporter": "python",
   "pygments_lexer": "ipython3",
   "version": "3.8.10"
  }
 },
 "nbformat": 4,
 "nbformat_minor": 4
}
