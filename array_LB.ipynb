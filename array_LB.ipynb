{
 "cells": [
  {
   "cell_type": "code",
   "execution_count": 1,
   "id": "07553cf6",
   "metadata": {},
   "outputs": [],
   "source": [
    "#Col6 Reverse the array"
   ]
  },
  {
   "cell_type": "code",
   "execution_count": 35,
   "id": "7496d9f7",
   "metadata": {},
   "outputs": [
    {
     "data": {
      "text/plain": [
       "[4, 3, 2]"
      ]
     },
     "execution_count": 35,
     "metadata": {},
     "output_type": "execute_result"
    }
   ],
   "source": [
    "arr = [2,3,4]\n",
    "arr[::-1]"
   ]
  },
  {
   "cell_type": "code",
   "execution_count": 36,
   "id": "15cfca23",
   "metadata": {},
   "outputs": [
    {
     "name": "stdout",
     "output_type": "stream",
     "text": [
      "[4, 3, 2]\n"
     ]
    }
   ],
   "source": [
    "temp = []\n",
    "for i in range(len(arr)-1, -1, -1):\n",
    "    temp.append(arr[i])\n",
    "\n",
    "print(temp)\n",
    "   "
   ]
  },
  {
   "cell_type": "code",
   "execution_count": 3,
   "id": "86e9f963",
   "metadata": {},
   "outputs": [
    {
     "data": {
      "text/plain": [
       "[4, 3, 2, 1]"
      ]
     },
     "execution_count": 3,
     "metadata": {},
     "output_type": "execute_result"
    }
   ],
   "source": [
    "def rev(arr):\n",
    "    i = 0\n",
    "    j = len(arr)-1\n",
    "    \n",
    "    while i < j:\n",
    "        arr[i] , arr[j] = arr[j] , arr[i]\n",
    "        i += 1\n",
    "        j -= 1\n",
    "        \n",
    "    return arr\n",
    "\n",
    "rev([1,2,3,4])"
   ]
  },
  {
   "cell_type": "code",
   "execution_count": null,
   "id": "1ee8979f",
   "metadata": {},
   "outputs": [],
   "source": []
  },
  {
   "cell_type": "code",
   "execution_count": 48,
   "id": "72731283",
   "metadata": {},
   "outputs": [],
   "source": [
    "#Col 7          Maximum and minimum of an array using minimum number of comparisons"
   ]
  },
  {
   "cell_type": "code",
   "execution_count": 1,
   "id": "68005820",
   "metadata": {},
   "outputs": [
    {
     "name": "stdout",
     "output_type": "stream",
     "text": [
      "4\n",
      "-6\n"
     ]
    }
   ],
   "source": [
    "arr = [4,-5,-6]\n",
    "print (max(arr))\n",
    "print(min(arr))"
   ]
  },
  {
   "cell_type": "code",
   "execution_count": 4,
   "id": "536766f4",
   "metadata": {},
   "outputs": [
    {
     "name": "stdout",
     "output_type": "stream",
     "text": [
      "max val is -> 4\n",
      "min val is -> -6\n"
     ]
    }
   ],
   "source": [
    "min = arr[0]\n",
    "max = 0\n",
    "for i in range(len(arr) ):\n",
    "    if len(arr) == 1:\n",
    "        print(arr) \n",
    "    if arr[i] > max:\n",
    "        max = arr[i]\n",
    "        \n",
    "    if arr[i] <= min:\n",
    "        min = arr[i]\n",
    "print(\"max val is ->\", max)\n",
    "print(\"min val is ->\", min)\n",
    "    "
   ]
  },
  {
   "cell_type": "code",
   "execution_count": 1,
   "id": "75d6a4a5",
   "metadata": {},
   "outputs": [],
   "source": [
    "# COl 8    Kth smallest element\n",
    "        "
   ]
  },
  {
   "cell_type": "code",
   "execution_count": 155,
   "id": "19dbbbfa",
   "metadata": {},
   "outputs": [
    {
     "data": {
      "text/plain": [
       "7"
      ]
     },
     "execution_count": 155,
     "metadata": {},
     "output_type": "execute_result"
    }
   ],
   "source": [
    "arr = [44,5,56,9,8,7,2,3,4,5,6,7]\n",
    "n = len(arr)\n",
    "k = 7\n",
    "l = len(arr) - 1\n",
    "\n",
    "def kth(arr, n, k, l):\n",
    "    if k <= len(arr):\n",
    "        arr.sort()\n",
    "        return arr[k-1]\n",
    "\n",
    "kth(arr, n, k, l)"
   ]
  },
  {
   "cell_type": "code",
   "execution_count": 156,
   "id": "da4f794f",
   "metadata": {},
   "outputs": [
    {
     "data": {
      "text/plain": [
       "[2, 3, 4, 5, 5, 6, 7, 7, 8, 9, 44, 56]"
      ]
     },
     "execution_count": 156,
     "metadata": {},
     "output_type": "execute_result"
    }
   ],
   "source": [
    "arr"
   ]
  },
  {
   "cell_type": "code",
   "execution_count": null,
   "id": "bdbf842c",
   "metadata": {},
   "outputs": [],
   "source": [
    "#c9 Sort an array of 0s, 1s and 2s "
   ]
  },
  {
   "cell_type": "code",
   "execution_count": null,
   "id": "02f10f7d",
   "metadata": {},
   "outputs": [],
   "source": []
  },
  {
   "cell_type": "code",
   "execution_count": 8,
   "id": "faed757e",
   "metadata": {},
   "outputs": [],
   "source": [
    "arr = [2,1,0,1,1,0,1,2,0,2,0,1,2,0]\n",
    "arr.sort()"
   ]
  },
  {
   "cell_type": "code",
   "execution_count": 11,
   "id": "b8d2fa40",
   "metadata": {},
   "outputs": [
    {
     "data": {
      "text/plain": [
       "[0, 0, 0, 0, 0, 1, 1, 1, 1, 1, 2, 2, 2, 2]"
      ]
     },
     "execution_count": 11,
     "metadata": {},
     "output_type": "execute_result"
    }
   ],
   "source": [
    "def sort_a(arr):\n",
    "    a = []\n",
    "    b = []\n",
    "    c = []\n",
    "    for i in arr:\n",
    "        if i == 0:\n",
    "            a.append(i)\n",
    "        elif i == 1:\n",
    "            b.append(i)\n",
    "        elif i ==2:\n",
    "            c.append(i)\n",
    "    b = b + c\n",
    "    a = a + b\n",
    "    return a\n",
    "    \n",
    "sort_a(arr)"
   ]
  },
  {
   "cell_type": "code",
   "execution_count": 33,
   "id": "76c0efb3",
   "metadata": {},
   "outputs": [],
   "source": [
    "arr = [-1, -2,-5,-8, 5,6,7,9,-10]"
   ]
  },
  {
   "cell_type": "code",
   "execution_count": 17,
   "id": "747972a7",
   "metadata": {},
   "outputs": [
    {
     "data": {
      "text/plain": [
       "[-1, -2, -5, -8, -10, 5, 6, 7, 9]"
      ]
     },
     "execution_count": 17,
     "metadata": {},
     "output_type": "execute_result"
    }
   ],
   "source": [
    "\n",
    "def side(arr):\n",
    "    n_array = []\n",
    "    p_array = []\n",
    "    for i in arr:\n",
    "        if i < 0:\n",
    "            n_array.append(i)\n",
    "        elif i >= 0:\n",
    "            p_array.append(i)\n",
    "    n_array = n_array + p_array\n",
    "    return n_array\n",
    "            \n",
    "side(arr)       "
   ]
  },
  {
   "cell_type": "code",
   "execution_count": 5,
   "id": "0073f3d2",
   "metadata": {},
   "outputs": [
    {
     "data": {
      "text/plain": [
       "[1, 2, 3, 3, 4, 5, 1]"
      ]
     },
     "execution_count": 5,
     "metadata": {},
     "output_type": "execute_result"
    }
   ],
   "source": [
    "a = [1,2,3]\n",
    "b = [3,4,5,1]\n",
    "a = a + b\n",
    "a"
   ]
  },
  {
   "cell_type": "code",
   "execution_count": 2,
   "id": "d067b301",
   "metadata": {},
   "outputs": [
    {
     "data": {
      "text/plain": [
       "5"
      ]
     },
     "execution_count": 2,
     "metadata": {},
     "output_type": "execute_result"
    }
   ],
   "source": [
    "def union(arr):\n",
    "    emp = []\n",
    "    for i in a:\n",
    "        if i not in emp:\n",
    "            emp.append(i)\n",
    "        \n",
    "    return len(emp)\n",
    "union(a)"
   ]
  },
  {
   "cell_type": "code",
   "execution_count": 142,
   "id": "095df41b",
   "metadata": {},
   "outputs": [],
   "source": [
    "#C 12     Write a program to cyclically rotate an array by one.\n",
    "# [1,2,3,4,5] = [5,1,2,3,4]\n",
    "a = [1,2,3,4,5]"
   ]
  },
  {
   "cell_type": "code",
   "execution_count": null,
   "id": "f8a69d41",
   "metadata": {},
   "outputs": [],
   "source": []
  },
  {
   "cell_type": "code",
   "execution_count": 8,
   "id": "013126f3",
   "metadata": {},
   "outputs": [
    {
     "data": {
      "text/plain": [
       "[5, 1, 2, 3, 4]"
      ]
     },
     "execution_count": 8,
     "metadata": {},
     "output_type": "execute_result"
    }
   ],
   "source": [
    "def cycle(arr):\n",
    "    temp = arr[len(arr)-1]\n",
    "    for i in range(len(arr)-1, -1, -1):\n",
    "        arr[i] = arr[i-1]\n",
    "        \n",
    "    arr[0] = temp\n",
    "    return arr\n",
    "\n",
    "a = [1,2,3,4,5]\n",
    "cycle(a)    \n",
    "    "
   ]
  },
  {
   "cell_type": "code",
   "execution_count": null,
   "id": "c082a48a",
   "metadata": {},
   "outputs": [],
   "source": []
  },
  {
   "cell_type": "code",
   "execution_count": null,
   "id": "f263a150",
   "metadata": {},
   "outputs": [],
   "source": [
    "#C 12     Write a program to cyclically rotate an array by k"
   ]
  },
  {
   "cell_type": "code",
   "execution_count": 19,
   "id": "d5310756",
   "metadata": {},
   "outputs": [
    {
     "name": "stdout",
     "output_type": "stream",
     "text": [
      "[8, 9, 10, 1, 2, 3, 4, 5, 6, 7]\n"
     ]
    }
   ],
   "source": [
    "def rota(arr , k):\n",
    "    n = len(arr)\n",
    "    \n",
    "    i = 0\n",
    "    j = n-k-1\n",
    "    \n",
    "    while i < j:\n",
    "        arr[i] , arr[j] = arr[j] , arr[i]\n",
    "        i += 1\n",
    "        j -= 1\n",
    "    \n",
    "    i = n-k\n",
    "    j = n-1\n",
    "    while i < j:\n",
    "        arr[i] , arr[j] = arr[j] , arr[i]\n",
    "        i += 1\n",
    "        j -= 1\n",
    "        \n",
    "    i = 0\n",
    "    j = n-1\n",
    "    while i < j:\n",
    "        arr[i] , arr[j] = arr[j] , arr[i]\n",
    "        i += 1\n",
    "        j -= 1\n",
    "    \n",
    "    print(arr)\n",
    "    \n",
    "\n",
    "rota([1,2,3,4,5,6,7,8,9,10] , 3)"
   ]
  },
  {
   "cell_type": "code",
   "execution_count": null,
   "id": "8aa14403",
   "metadata": {},
   "outputs": [],
   "source": []
  },
  {
   "cell_type": "code",
   "execution_count": null,
   "id": "de4b1da3",
   "metadata": {},
   "outputs": [],
   "source": []
  },
  {
   "cell_type": "code",
   "execution_count": null,
   "id": "43af8da6",
   "metadata": {},
   "outputs": [],
   "source": []
  },
  {
   "cell_type": "code",
   "execution_count": null,
   "id": "549e94ba",
   "metadata": {},
   "outputs": [],
   "source": []
  },
  {
   "cell_type": "code",
   "execution_count": null,
   "id": "6ac1c73d",
   "metadata": {},
   "outputs": [],
   "source": []
  },
  {
   "cell_type": "code",
   "execution_count": null,
   "id": "5588c022",
   "metadata": {},
   "outputs": [],
   "source": []
  },
  {
   "cell_type": "code",
   "execution_count": null,
   "id": "5c85edaf",
   "metadata": {},
   "outputs": [],
   "source": []
  },
  {
   "cell_type": "code",
   "execution_count": null,
   "id": "fe6d5bc7",
   "metadata": {},
   "outputs": [],
   "source": []
  },
  {
   "cell_type": "code",
   "execution_count": null,
   "id": "2ba0e5c0",
   "metadata": {},
   "outputs": [],
   "source": []
  },
  {
   "cell_type": "code",
   "execution_count": null,
   "id": "88522e4e",
   "metadata": {},
   "outputs": [],
   "source": []
  }
 ],
 "metadata": {
  "kernelspec": {
   "display_name": "Python 3",
   "language": "python",
   "name": "python3"
  },
  "language_info": {
   "codemirror_mode": {
    "name": "ipython",
    "version": 3
   },
   "file_extension": ".py",
   "mimetype": "text/x-python",
   "name": "python",
   "nbconvert_exporter": "python",
   "pygments_lexer": "ipython3",
   "version": "3.8.10"
  }
 },
 "nbformat": 4,
 "nbformat_minor": 5
}
