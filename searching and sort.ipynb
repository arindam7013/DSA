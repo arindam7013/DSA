{
 "cells": [
  {
   "cell_type": "code",
   "execution_count": null,
   "id": "8366934a",
   "metadata": {},
   "outputs": [],
   "source": []
  },
  {
   "cell_type": "code",
   "execution_count": 20,
   "id": "84afac40",
   "metadata": {},
   "outputs": [],
   "source": []
  },
  {
   "cell_type": "code",
   "execution_count": 10,
   "id": "5fa82361",
   "metadata": {},
   "outputs": [
    {
     "data": {
      "text/plain": [
       "-1"
      ]
     },
     "execution_count": 10,
     "metadata": {},
     "output_type": "execute_result"
    }
   ],
   "source": [
    "arr = [2,3,4,5,6,7,8,9]\n",
    "end = len(arr)\n",
    "def binary_search(arr, start, end, key):\n",
    "    \n",
    "    if end > start:\n",
    "        mid = (start) + (end - start) //2\n",
    "        if key == arr[mid]:\n",
    "            return True\n",
    "    \n",
    "        elif key > arr[mid]:\n",
    "            return binary_search(arr, mid + 1, end, key )\n",
    "        else:\n",
    "            return binary_search(arr, start, mid , key)\n",
    "            \n",
    "    else:\n",
    "        return -1\n",
    "        \n",
    "        \n",
    "binary_search(arr, 0, end, 10)"
   ]
  },
  {
   "cell_type": "code",
   "execution_count": null,
   "id": "df4f95b9",
   "metadata": {},
   "outputs": [],
   "source": []
  },
  {
   "cell_type": "code",
   "execution_count": 27,
   "id": "b81b2085",
   "metadata": {},
   "outputs": [],
   "source": [
    "a = [2,3,4,5,5,5,6,8,9]"
   ]
  },
  {
   "cell_type": "code",
   "execution_count": 31,
   "id": "7b82bd7e",
   "metadata": {},
   "outputs": [],
   "source": [
    "arr = [2,3,4,5,5,5,6,8,9]\n",
    "end = len(arr)\n",
    "def binary_search_first(arr, start, end, key):\n",
    "    \n",
    "    if end > start:\n",
    "        mid = (start) + (end - start) //2\n",
    "        if key == arr[mid]:\n",
    "            return mid\n",
    "    \n",
    "        elif key > arr[mid]:\n",
    "            return binary_search_first(arr, mid + 1, end, key )\n",
    "        else:\n",
    "            return binary_search_first(arr, start, mid - 1, key)\n",
    "            \n",
    "    else:\n",
    "        return -1\n",
    "    \n",
    "    \n",
    "def binary_search_last(arr , start, first, key):\n",
    "    \n",
    "        \n",
    "        \n",
    "binary_search(arr, 0, end, 10)"
   ]
  },
  {
   "cell_type": "code",
   "execution_count": 32,
   "id": "7a10a443",
   "metadata": {},
   "outputs": [
    {
     "data": {
      "text/plain": [
       "(1, 3)"
      ]
     },
     "execution_count": 32,
     "metadata": {},
     "output_type": "execute_result"
    }
   ],
   "source": [
    "find(a , 5)"
   ]
  },
  {
   "cell_type": "code",
   "execution_count": 37,
   "id": "092b827a",
   "metadata": {},
   "outputs": [],
   "source": [
    "def sq(n):\n",
    "    sum = 0\n",
    "    for i in range(0,n):\n",
    "        if i*i < n:\n",
    "            sum = sum + 1\n",
    "            print(sum)\n",
    "    return sum\n",
    "            "
   ]
  },
  {
   "cell_type": "code",
   "execution_count": 38,
   "id": "ef041c3d",
   "metadata": {},
   "outputs": [
    {
     "name": "stdout",
     "output_type": "stream",
     "text": [
      "1\n",
      "2\n",
      "3\n"
     ]
    },
    {
     "data": {
      "text/plain": [
       "3"
      ]
     },
     "execution_count": 38,
     "metadata": {},
     "output_type": "execute_result"
    }
   ],
   "source": [
    "sq(9)"
   ]
  },
  {
   "cell_type": "code",
   "execution_count": null,
   "id": "9cf16a3a",
   "metadata": {},
   "outputs": [],
   "source": []
  }
 ],
 "metadata": {
  "kernelspec": {
   "display_name": "Python 3",
   "language": "python",
   "name": "python3"
  },
  "language_info": {
   "codemirror_mode": {
    "name": "ipython",
    "version": 3
   },
   "file_extension": ".py",
   "mimetype": "text/x-python",
   "name": "python",
   "nbconvert_exporter": "python",
   "pygments_lexer": "ipython3",
   "version": "3.8.10"
  }
 },
 "nbformat": 4,
 "nbformat_minor": 5
}
