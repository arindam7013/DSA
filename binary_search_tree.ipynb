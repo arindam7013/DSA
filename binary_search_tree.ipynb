{
 "cells": [
  {
   "cell_type": "code",
   "execution_count": 26,
   "metadata": {},
   "outputs": [],
   "source": [
    "#BST\n",
    "# [60,40,20,50,80,70,90]\n",
    "#        60\n",
    "#   40       80\n",
    "# 20 50     70 90"
   ]
  },
  {
   "cell_type": "code",
   "execution_count": 1,
   "metadata": {},
   "outputs": [],
   "source": [
    "class BSTNode:\n",
    "    def __init__(self, data):\n",
    "        self.data = data\n",
    "        self.leftchild = None\n",
    "        self.rightchild = None"
   ]
  },
  {
   "cell_type": "code",
   "execution_count": 2,
   "metadata": {},
   "outputs": [],
   "source": [
    "newnode = BSTNode(None)"
   ]
  },
  {
   "cell_type": "code",
   "execution_count": 3,
   "metadata": {},
   "outputs": [],
   "source": [
    "def insertnode(rootnode, nodevalue):\n",
    "    if rootnode.data == None:\n",
    "        rootnode.data = nodevalue\n",
    "        \n",
    "    elif nodevalue <= rootnode.data:\n",
    "        #if left child doesn't exist and nodevalue is smaller than rootnode, then make it their left child\n",
    "        if rootnode.leftchild is None:\n",
    "            rootnode.leftchild = BSTNode(nodevalue)\n",
    "         # if left node exist, run the function again(recursion) and make that existing left child as root and move further.   \n",
    "        else:\n",
    "            insertnode(rootnode.leftchild, nodevalue)\n",
    "            \n",
    "    else:\n",
    "        if rootnode.rightchild is None:\n",
    "            rootnode.rightchild = BSTNode(nodevalue)\n",
    "            \n",
    "        else:\n",
    "            insertnode(rootnode.rightchild, nodevalue)\n",
    "            \n",
    "    return \"success adding .....\"\n",
    "            \n",
    "        \n",
    "    "
   ]
  },
  {
   "cell_type": "code",
   "execution_count": 32,
   "metadata": {},
   "outputs": [
    {
     "data": {
      "text/plain": [
       "'success adding .....'"
      ]
     },
     "execution_count": 32,
     "metadata": {},
     "output_type": "execute_result"
    }
   ],
   "source": [
    "insertnode(newnode, 80)"
   ]
  },
  {
   "cell_type": "code",
   "execution_count": 33,
   "metadata": {},
   "outputs": [
    {
     "data": {
      "text/plain": [
       "{'data': 80, 'leftchild': None, 'rightchild': None}"
      ]
     },
     "execution_count": 33,
     "metadata": {},
     "output_type": "execute_result"
    }
   ],
   "source": [
    "newnode.__dict__"
   ]
  },
  {
   "cell_type": "code",
   "execution_count": 34,
   "metadata": {},
   "outputs": [
    {
     "data": {
      "text/plain": [
       "'success adding .....'"
      ]
     },
     "execution_count": 34,
     "metadata": {},
     "output_type": "execute_result"
    }
   ],
   "source": [
    "insertnode(newnode, 60)"
   ]
  },
  {
   "cell_type": "code",
   "execution_count": 35,
   "metadata": {},
   "outputs": [
    {
     "data": {
      "text/plain": [
       "'success adding .....'"
      ]
     },
     "execution_count": 35,
     "metadata": {},
     "output_type": "execute_result"
    }
   ],
   "source": [
    "insertnode(newnode, 89)"
   ]
  },
  {
   "cell_type": "code",
   "execution_count": 36,
   "metadata": {},
   "outputs": [
    {
     "data": {
      "text/plain": [
       "'success adding .....'"
      ]
     },
     "execution_count": 36,
     "metadata": {},
     "output_type": "execute_result"
    }
   ],
   "source": [
    "insertnode(newnode, 70)\n",
    "insertnode(newnode, 10)"
   ]
  },
  {
   "cell_type": "code",
   "execution_count": 37,
   "metadata": {},
   "outputs": [
    {
     "data": {
      "text/plain": [
       "{'data': 80,\n",
       " 'leftchild': <__main__.BSTNode at 0x2591e2ad910>,\n",
       " 'rightchild': <__main__.BSTNode at 0x2591e2ad4f0>}"
      ]
     },
     "execution_count": 37,
     "metadata": {},
     "output_type": "execute_result"
    }
   ],
   "source": [
    "newnode.__dict__"
   ]
  },
  {
   "cell_type": "code",
   "execution_count": 40,
   "metadata": {},
   "outputs": [],
   "source": [
    "#pre-order traversal  Root -> Left -> Right\n",
    "def preOrder(mytree):\n",
    "    if not mytree:\n",
    "        return\n",
    "    \n",
    "    print(mytree.data)\n",
    "    preOrder(mytree.leftchild)\n",
    "    preOrder(mytree.rightchild)\n",
    "    "
   ]
  },
  {
   "cell_type": "code",
   "execution_count": 41,
   "metadata": {},
   "outputs": [
    {
     "name": "stdout",
     "output_type": "stream",
     "text": [
      "80\n",
      "60\n",
      "10\n",
      "70\n",
      "89\n"
     ]
    }
   ],
   "source": [
    "preOrder(newnode)"
   ]
  },
  {
   "cell_type": "code",
   "execution_count": 46,
   "metadata": {},
   "outputs": [],
   "source": [
    "from collections import deque"
   ]
  },
  {
   "cell_type": "code",
   "execution_count": 47,
   "metadata": {},
   "outputs": [],
   "source": [
    "#here the address of root node will be passed\n",
    "def breadth_traverse(rootnode):\n",
    "    if rootnode is None:\n",
    "        return \"no node found\"\n",
    "    \n",
    "    q = deque()\n",
    "    q.append(rootnode)\n",
    "    \n",
    "    while len(q)!= 0:\n",
    "        p = q.popleft()\n",
    "        print(\"->\" , p.data)\n",
    "        \n",
    "        \n",
    "        if p.leftchild is not None:\n",
    "            q.append(p.leftchild)\n",
    "            \n",
    "        if p.rightchild is not None:\n",
    "            q.append(p.rightchild)"
   ]
  },
  {
   "cell_type": "code",
   "execution_count": 48,
   "metadata": {},
   "outputs": [
    {
     "name": "stdout",
     "output_type": "stream",
     "text": [
      "-> 80\n",
      "-> 60\n",
      "-> 89\n",
      "-> 10\n",
      "-> 70\n"
     ]
    }
   ],
   "source": [
    "breadth_traverse(newnode)"
   ]
  },
  {
   "cell_type": "code",
   "execution_count": null,
   "metadata": {},
   "outputs": [],
   "source": []
  }
 ],
 "metadata": {
  "kernelspec": {
   "display_name": "Python 3",
   "language": "python",
   "name": "python3"
  },
  "language_info": {
   "codemirror_mode": {
    "name": "ipython",
    "version": 3
   },
   "file_extension": ".py",
   "mimetype": "text/x-python",
   "name": "python",
   "nbconvert_exporter": "python",
   "pygments_lexer": "ipython3",
   "version": "3.8.10"
  }
 },
 "nbformat": 4,
 "nbformat_minor": 4
}
