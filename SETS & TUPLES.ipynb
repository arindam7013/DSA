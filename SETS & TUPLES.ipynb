{
 "cells": [
  {
   "cell_type": "code",
   "execution_count": 44,
   "id": "a24924e5",
   "metadata": {},
   "outputs": [
    {
     "name": "stdout",
     "output_type": "stream",
     "text": [
      "------> cherry\n",
      "<class 'str'>\n",
      "------> 5\n",
      "<class 'int'>\n",
      "------> apple\n",
      "<class 'str'>\n"
     ]
    }
   ],
   "source": [
    "thisset = {\"apple\", 5, \"cherry\"}\n",
    "\n",
    "for x in thisset:\n",
    "    print('------>',x)\n",
    "    print(type(x))"
   ]
  },
  {
   "cell_type": "code",
   "execution_count": 45,
   "id": "a7565cc3",
   "metadata": {},
   "outputs": [],
   "source": [
    "thisset.add(\"orange\")\n"
   ]
  },
  {
   "cell_type": "code",
   "execution_count": 46,
   "id": "88a50a31",
   "metadata": {
    "scrolled": true
   },
   "outputs": [
    {
     "name": "stdout",
     "output_type": "stream",
     "text": [
      "------> cherry\n",
      "<class 'str'>\n",
      "------> orange\n",
      "<class 'str'>\n",
      "------> 5\n",
      "<class 'int'>\n",
      "------> apple\n",
      "<class 'str'>\n"
     ]
    }
   ],
   "source": [
    "for x in thisset:\n",
    "    print('------>',x)\n",
    "    print(type(x))"
   ]
  },
  {
   "cell_type": "code",
   "execution_count": null,
   "id": "104ae709",
   "metadata": {},
   "outputs": [],
   "source": []
  },
  {
   "cell_type": "code",
   "execution_count": 47,
   "id": "cba628d4",
   "metadata": {},
   "outputs": [],
   "source": [
    "tropical = {\"pineapple\", \"mango\", \"papaya\"}\n",
    "\n",
    "thisset.update(tropical)"
   ]
  },
  {
   "cell_type": "code",
   "execution_count": 48,
   "id": "e5edd165",
   "metadata": {},
   "outputs": [
    {
     "name": "stdout",
     "output_type": "stream",
     "text": [
      "------> pineapple\n",
      "<class 'str'>\n",
      "------> 5\n",
      "<class 'int'>\n",
      "------> apple\n",
      "<class 'str'>\n",
      "------> cherry\n",
      "<class 'str'>\n",
      "------> papaya\n",
      "<class 'str'>\n",
      "------> mango\n",
      "<class 'str'>\n",
      "------> orange\n",
      "<class 'str'>\n"
     ]
    }
   ],
   "source": [
    "for x in thisset:\n",
    "    print('------>',x)\n",
    "    print(type(x))"
   ]
  },
  {
   "cell_type": "code",
   "execution_count": null,
   "id": "d9605643",
   "metadata": {},
   "outputs": [],
   "source": []
  },
  {
   "cell_type": "code",
   "execution_count": 51,
   "id": "15dcda83",
   "metadata": {},
   "outputs": [
    {
     "data": {
      "text/plain": [
       "{5, 'apple', 'cherry', 'orange', 'papaya', 'pineapple'}"
      ]
     },
     "execution_count": 51,
     "metadata": {},
     "output_type": "execute_result"
    }
   ],
   "source": [
    "thisset"
   ]
  },
  {
   "cell_type": "code",
   "execution_count": 50,
   "id": "d54d3567",
   "metadata": {},
   "outputs": [],
   "source": [
    "thisset.remove('mango')"
   ]
  },
  {
   "cell_type": "code",
   "execution_count": 57,
   "id": "de6cc600",
   "metadata": {},
   "outputs": [
    {
     "data": {
      "text/plain": [
       "'cherry'"
      ]
     },
     "execution_count": 57,
     "metadata": {},
     "output_type": "execute_result"
    }
   ],
   "source": [
    "thisset.pop()"
   ]
  },
  {
   "cell_type": "code",
   "execution_count": 56,
   "id": "31952c3a",
   "metadata": {},
   "outputs": [
    {
     "data": {
      "text/plain": [
       "{'cherry', 'orange', 'papaya'}"
      ]
     },
     "execution_count": 56,
     "metadata": {},
     "output_type": "execute_result"
    }
   ],
   "source": [
    "thisset"
   ]
  },
  {
   "cell_type": "code",
   "execution_count": null,
   "id": "9d4802ec",
   "metadata": {},
   "outputs": [],
   "source": []
  },
  {
   "cell_type": "code",
   "execution_count": 60,
   "id": "4d847cdc",
   "metadata": {},
   "outputs": [
    {
     "name": "stdout",
     "output_type": "stream",
     "text": [
      "cherry\n",
      "banana\n"
     ]
    }
   ],
   "source": [
    "thistuple = (\"apple\", \"banana\", \"cherry\")\n",
    "print(thistuple[-1])\n",
    "print(thistuple[1])"
   ]
  },
  {
   "cell_type": "code",
   "execution_count": 62,
   "id": "f0eb670a",
   "metadata": {},
   "outputs": [
    {
     "name": "stdout",
     "output_type": "stream",
     "text": [
      "apple\n",
      "banana\n",
      "cherry\n"
     ]
    }
   ],
   "source": [
    "for i in thistuple:\n",
    "    \n",
    "    if 'apple' in thistuple:\n",
    "        print(i)"
   ]
  },
  {
   "cell_type": "code",
   "execution_count": null,
   "id": "0f310ee5",
   "metadata": {},
   "outputs": [],
   "source": []
  },
  {
   "cell_type": "code",
   "execution_count": null,
   "id": "5021c5d6",
   "metadata": {},
   "outputs": [],
   "source": []
  }
 ],
 "metadata": {
  "kernelspec": {
   "display_name": "Python 3",
   "language": "python",
   "name": "python3"
  },
  "language_info": {
   "codemirror_mode": {
    "name": "ipython",
    "version": 3
   },
   "file_extension": ".py",
   "mimetype": "text/x-python",
   "name": "python",
   "nbconvert_exporter": "python",
   "pygments_lexer": "ipython3",
   "version": "3.8.10"
  }
 },
 "nbformat": 4,
 "nbformat_minor": 5
}
