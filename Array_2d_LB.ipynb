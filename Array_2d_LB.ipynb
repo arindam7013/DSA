{
 "cells": [
  {
   "cell_type": "code",
   "execution_count": null,
   "id": "80ad63e9",
   "metadata": {},
   "outputs": [],
   "source": [
    "#C44                Spiral traversal on a Matrix"
   ]
  },
  {
   "cell_type": "code",
   "execution_count": 44,
   "id": "2be80474",
   "metadata": {},
   "outputs": [],
   "source": [
    "arr= [[1,2,3,4],\n",
    "    [5,6,7,8],\n",
    "    [9,10,11,12],\n",
    "    [13,14,15,16]]\n",
    "rs = 0\n",
    "re = 3\n",
    "cs = 0\n",
    "ce = 3"
   ]
  },
  {
   "cell_type": "code",
   "execution_count": 53,
   "id": "345dc1c2",
   "metadata": {},
   "outputs": [
    {
     "name": "stdout",
     "output_type": "stream",
     "text": [
      "1   2   3   4   8   12   16   15   14   13   9   5   6   7   11   10   "
     ]
    }
   ],
   "source": [
    "def spiral( arr):\n",
    "    rs = 0\n",
    "    re = 3\n",
    "    cs = 0\n",
    "    ce = 3\n",
    "    while(rs < re and cs < ce):\n",
    "        for i in range(cs, ce):\n",
    "            print(arr[rs][i],\"  \", end='')\n",
    "     \n",
    "        for j in range(rs, re):\n",
    "            print(arr[j][ce],\"  \", end='')\n",
    "        \n",
    "        for k in range(ce , cs , -1):\n",
    "            print(arr[re][k],\"  \", end ='')\n",
    "        for l in range(re, rs, -1):\n",
    "            print(arr[l][cs], \"  \",end = \"\")\n",
    "        \n",
    "        rs = rs + 1\n",
    "        cs = cs + 1\n",
    "        re = re -1\n",
    "        ce = ce-1\n",
    "    \n",
    "        \n",
    "        \n",
    "spiral(arr)       \n",
    "   "
   ]
  },
  {
   "cell_type": "code",
   "execution_count": 2,
   "id": "5a323829",
   "metadata": {},
   "outputs": [],
   "source": [
    "#c 45   Search an element in a matrix sorted col wise and row wise"
   ]
  },
  {
   "cell_type": "code",
   "execution_count": 1,
   "id": "697b5237",
   "metadata": {},
   "outputs": [
    {
     "data": {
      "text/plain": [
       "False"
      ]
     },
     "execution_count": 1,
     "metadata": {},
     "output_type": "execute_result"
    }
   ],
   "source": [
    "arr= [[1,2,3,4],\n",
    "    [5,6,7,8],\n",
    "    [9,10,11,12],\n",
    "    [13,14,15,16]]\n",
    "re = 3\n",
    "ce = 3\n",
    "\n",
    "rs = 0\n",
    "cs = 0\n",
    "\n",
    "\n",
    "def searchk(arr, re, ce):\n",
    "    rs = 0\n",
    "    cs = 0\n",
    "    key = 24\n",
    "    x= arr[rs][ce]\n",
    "    while (rs < re and cs < ce):\n",
    "        if x == key:\n",
    "            return True\n",
    "        if key < x:\n",
    "            \n",
    "            ce = ce -1\n",
    "            \n",
    "            \n",
    "        elif key > x:\n",
    "            \n",
    "            rs = rs + 1\n",
    "            \n",
    "    return False\n",
    "           \n",
    "   \n",
    "       \n",
    "        \n",
    "searchk(arr, re, ce)\n",
    "        \n",
    "        \n",
    "    "
   ]
  },
  {
   "cell_type": "code",
   "execution_count": 2,
   "id": "c2e2d697",
   "metadata": {},
   "outputs": [],
   "source": [
    "# C46         Find median in a row wise sorted matrix"
   ]
  },
  {
   "cell_type": "code",
   "execution_count": 18,
   "id": "5f7c960f",
   "metadata": {},
   "outputs": [],
   "source": [
    "a = [[1,2,3], \n",
    "    [4,84,6],\n",
    "    [7,8,9]]\n",
    "\n",
    "\n",
    "def median(arr):\n",
    "    abc = []\n",
    "    for i in range(0,3):\n",
    "        for j in range(0,3):\n",
    "            abc.append(arr[i][j])\n",
    "        \n",
    "        \n",
    "    abc.sort()   \n",
    "    y = int(len(abc) / 2) \n",
    "    return abc[y]\n",
    "    "
   ]
  },
  {
   "cell_type": "code",
   "execution_count": 19,
   "id": "eb107f80",
   "metadata": {},
   "outputs": [
    {
     "data": {
      "text/plain": [
       "6"
      ]
     },
     "execution_count": 19,
     "metadata": {},
     "output_type": "execute_result"
    }
   ],
   "source": [
    "median(a)"
   ]
  },
  {
   "cell_type": "code",
   "execution_count": 20,
   "id": "6ba6b4cf",
   "metadata": {},
   "outputs": [],
   "source": []
  },
  {
   "cell_type": "code",
   "execution_count": 22,
   "id": "6abf7854",
   "metadata": {},
   "outputs": [
    {
     "name": "stdout",
     "output_type": "stream",
     "text": [
      "2\n"
     ]
    }
   ],
   "source": [
    "# c47        Find row with maximum no. of 1's\n",
    "a = [[6,2,3], \n",
    "    [2,2,0],\n",
    "    [5,5,1]]\n",
    "n =3\n",
    "m = 3\n",
    "def rowWithMax1s(a, n, m):\n",
    "    temp = 0\n",
    "    row = 0\n",
    "    for i in range(0,n):\n",
    "        sum = 0\n",
    "        for j in range(0,m):\n",
    "            if a[i][j] == 1:\n",
    "                sum = sum + 1\n",
    "                \n",
    "        if sum > temp:\n",
    "            temp = sum\n",
    "            row = i\n",
    "    if row>0:\n",
    "        return row\n",
    "    else:\n",
    "        return -1\n",
    "\n",
    "        \n",
    "a=rowWithMax1s(a,n,m)\n",
    "print(a)"
   ]
  },
  {
   "cell_type": "code",
   "execution_count": 2,
   "id": "a5734c62",
   "metadata": {},
   "outputs": [
    {
     "name": "stdout",
     "output_type": "stream",
     "text": [
      "9\n"
     ]
    }
   ],
   "source": [
    "#Q  Count minimum steps to get the given desired array\n",
    "\n",
    "target = [15,16,17]\n",
    "a= [0,0,0]\n",
    "count = 0\n",
    "#i = 0\n",
    "while target != a:\n",
    "    if target == a:\n",
    "        #print(\"Done\")\n",
    "        break\n",
    "        \n",
    "    for i in range(len(target)):\n",
    "        if target[i] %2 !=0 and target[i]> 1:\n",
    "            target[i] = target[i] -1\n",
    "            count = count + 1\n",
    "            #print(count)\n",
    "    #print(target)\n",
    "   \n",
    "        \n",
    "    for i in range(len(target)):\n",
    "        target[i] = (target[i] // 2)\n",
    "    count = count + 1\n",
    "print(count)\n",
    "            "
   ]
  },
  {
   "cell_type": "code",
   "execution_count": null,
   "id": "d75221cb",
   "metadata": {},
   "outputs": [],
   "source": []
  },
  {
   "cell_type": "code",
   "execution_count": null,
   "id": "f5c068bf",
   "metadata": {},
   "outputs": [],
   "source": []
  },
  {
   "cell_type": "code",
   "execution_count": 23,
   "id": "279c05f0",
   "metadata": {},
   "outputs": [],
   "source": [
    "# c- 48   Print elements in sorted order using row-column wise sorted matrix"
   ]
  },
  {
   "cell_type": "code",
   "execution_count": 5,
   "id": "faef805c",
   "metadata": {},
   "outputs": [
    {
     "name": "stdout",
     "output_type": "stream",
     "text": [
      "1  2  3  \n",
      "4  5  6  \n",
      "7  8  9  \n"
     ]
    }
   ],
   "source": [
    "arr= [[9,8,7],\n",
    "    [6,5,4],\n",
    "    [3,2,1]]\n",
    "\n",
    "n = len(arr)\n",
    "m = len(arr)\n",
    "a = []\n",
    "\n",
    "k = 0\n",
    "for i in range(0,n):\n",
    "    for j in range(0,n):\n",
    "        #print(arr[i][j], \" \",end= \"\")\n",
    "        a.append(arr[i][j])\n",
    "        a.sort()\n",
    "    \n",
    "for i in range(0, n) :   \n",
    "    for j in range(0, n) :\n",
    "        arr[i][j] = a[k]  #####imp when to add in 2d array #######\n",
    "        k = k+1\n",
    "        \n",
    "        \n",
    "for i in range(0,n):\n",
    "    for j in range(0,n):\n",
    "        print(arr[i][j],\" \", end=\"\")\n",
    "    print(\"\")\n",
    "\n",
    "\n",
    "\n",
    "    \n",
    "        \n",
    "\n",
    "        \n",
    "        \n",
    "    "
   ]
  },
  {
   "cell_type": "code",
   "execution_count": null,
   "id": "4f36f9fd",
   "metadata": {},
   "outputs": [],
   "source": []
  },
  {
   "cell_type": "code",
   "execution_count": 1,
   "id": "f9d8287c",
   "metadata": {},
   "outputs": [
    {
     "name": "stdout",
     "output_type": "stream",
     "text": [
      "Lower triangular matrix: \n",
      "1 0 0  \n",
      "4 5 0  \n",
      "7 8 9  \n",
      "Upper triangular matrix: \n",
      "1 2 3  \n",
      "0 5 6  \n",
      "0 0 9  \n"
     ]
    }
   ],
   "source": [
    "# Python3 program to print Lower\n",
    "# triangular and Upper triangular\n",
    "# matrix of an array\n",
    "\n",
    "# Function to form lower triangular\n",
    "# matrix\n",
    "def lower(matrix, row, col):\n",
    "\n",
    "\t\n",
    "\tfor i in range(0, row):\n",
    "\t\n",
    "\t\tfor j in range(0, col):\n",
    "\t\t\n",
    "\t\t\tif (i < j):\n",
    "\t\t\t\n",
    "\t\t\t\tprint(\"0\", end = \" \");\n",
    "\t\t\t\n",
    "\t\t\telse:\n",
    "\t\t\t\tprint(matrix[i][j],\n",
    "\t\t\t\t\tend = \" \" );\n",
    "\t\t\n",
    "\t\tprint(\" \");\n",
    "\t\n",
    "# Function to form upper triangular matrix\n",
    "def upper(matrix, row, col):\n",
    "\n",
    "\tfor i in range(0, row):\n",
    "\t\n",
    "\t\tfor j in range(0, col):\n",
    "\t\t\n",
    "\t\t\tif (i > j):\n",
    "\t\t\t\tprint(\"0\", end = \" \");\n",
    "\t\t\t\n",
    "\t\t\telse:\n",
    "\t\t\t\tprint(matrix[i][j],\n",
    "\t\t\t\t\tend = \" \" );\n",
    "\t\t\n",
    "\t\tprint(\" \");\n",
    "\n",
    "# Driver Code\n",
    "matrix = [[1, 2, 3],\n",
    "\t\t[4, 5, 6],\n",
    "\t\t[7, 8, 9]];\n",
    "row = 3;\n",
    "col = 3;\n",
    "\t\n",
    "print(\"Lower triangular matrix: \");\n",
    "lower(matrix, row, col);\n",
    "\t\n",
    "print(\"Upper triangular matrix: \");\n",
    "upper(matrix, row, col);\n",
    "\n"
   ]
  },
  {
   "cell_type": "code",
   "execution_count": null,
   "id": "cd8e5c19",
   "metadata": {},
   "outputs": [],
   "source": []
  },
  {
   "cell_type": "code",
   "execution_count": null,
   "id": "61d9a737",
   "metadata": {},
   "outputs": [],
   "source": []
  },
  {
   "cell_type": "code",
   "execution_count": null,
   "id": "5fd20c98",
   "metadata": {},
   "outputs": [],
   "source": []
  }
 ],
 "metadata": {
  "kernelspec": {
   "display_name": "Python 3",
   "language": "python",
   "name": "python3"
  },
  "language_info": {
   "codemirror_mode": {
    "name": "ipython",
    "version": 3
   },
   "file_extension": ".py",
   "mimetype": "text/x-python",
   "name": "python",
   "nbconvert_exporter": "python",
   "pygments_lexer": "ipython3",
   "version": "3.8.10"
  }
 },
 "nbformat": 4,
 "nbformat_minor": 5
}
